{
 "cells": [
  {
   "cell_type": "markdown",
   "metadata": {},
   "source": [
    "# Dictionaries and Sets"
   ]
  },
  {
   "cell_type": "markdown",
   "metadata": {},
   "source": [
    "dict type is not only widely used in our programs but also a fundamental part of the Python implementation. \n",
    "\n",
    "(Module namespaces, class and instance attributes, function keyword arguments)\n",
    "\n",
    "dict를 위해 최적화된 hash table로 구현되어있다\n",
    "\n",
    "set 또한 hash table로 구성되어 있다"
   ]
  },
  {
   "cell_type": "markdown",
   "metadata": {},
   "source": [
    "- dictionary 메소드\n",
    "- missing key를 찾는 special handling\n",
    "- dict의 variation\n",
    "- set과 frozenset\n",
    "- hash table 동작과정\n",
    "- hash table 부작용 : key type limitations, unpredictable oredering"
   ]
  },
  {
   "cell_type": "markdown",
   "metadata": {},
   "source": [
    "## 1.Generic mapping types\n",
    "\n",
    "Implementations of specialized mappings often extend **dict** or **collections.UserDict** instead of **ABCs**."
   ]
  },
  {
   "cell_type": "code",
   "execution_count": 3,
   "metadata": {},
   "outputs": [
    {
     "data": {
      "text/plain": [
       "True"
      ]
     },
     "execution_count": 3,
     "metadata": {},
     "output_type": "execute_result"
    }
   ],
   "source": [
    "import collections.abc as abc\n",
    "\n",
    "my_dict={}\n",
    "isinstance(my_dict, abc.Mapping)"
   ]
  },
  {
   "cell_type": "markdown",
   "metadata": {},
   "source": [
    "표준 라이브버리에 있는 모든 mapping type은 dict로 구현되어 있다 -> key가 반드시 hashable하다는 공통점. (value는 hashable할 필요가 없다)"
   ]
  },
  {
   "cell_type": "markdown",
   "metadata": {},
   "source": [
    "key는 반드시 hashable하다.\n",
    "\n",
    "An object is ___hashable___ if it has a hash value which never changes during its lifetime,\n",
    "and can be compared to other objects."
   ]
  },
  {
   "cell_type": "markdown",
   "metadata": {},
   "source": [
    "<div class=\"alert alert-block alert-warning\">\n",
    "An object is hashable if it has a hash value which never changes during its lifetime (it needs a __hash__() method), and can be compared to other objects (it needs an __eq__() or __cmp__() method). Hashable objects which compare equal must have the same hash value.\n",
    "</div>\n",
    "\n",
    "<div class=\"alert alert-block alert-warning\">\n",
    "Hashability makes an object usable as a dictionary key and a set member, because these data structures use the hash value internally.\n",
    "</div>\n",
    "\n",
    "<div class=\"alert alert-block alert-warning\">\n",
    "All of Python’s immutable built-in objects are hashable, while no mutable containers (such as lists or dictionaries) are. Objects which are instances of user-defined classes are hashable by default; they all compare unequal, and their hash value is their id().\n",
    "</div>"
   ]
  },
  {
   "cell_type": "markdown",
   "metadata": {},
   "source": [
    "The atomic immutable type(str, bytes, numeric types) are all hashable.\n",
    "\n",
    "Frozenset is always hashable, because its elements must be hashable by definition.\n",
    "\n",
    "A tuple is hashable only if all its items are hashable."
   ]
  },
  {
   "cell_type": "code",
   "execution_count": 5,
   "metadata": {},
   "outputs": [
    {
     "data": {
      "text/plain": [
       "8027212646858338501"
      ]
     },
     "execution_count": 5,
     "metadata": {},
     "output_type": "execute_result"
    }
   ],
   "source": [
    "tt = (1,2,(30,40))\n",
    "hash(tt)"
   ]
  },
  {
   "cell_type": "code",
   "execution_count": 6,
   "metadata": {},
   "outputs": [
    {
     "ename": "TypeError",
     "evalue": "unhashable type: 'list'",
     "output_type": "error",
     "traceback": [
      "\u001b[1;31m---------------------------------------------------------------------------\u001b[0m",
      "\u001b[1;31mTypeError\u001b[0m                                 Traceback (most recent call last)",
      "\u001b[1;32m<ipython-input-6-f7ea546b2bf3>\u001b[0m in \u001b[0;36m<module>\u001b[1;34m()\u001b[0m\n\u001b[0;32m      1\u001b[0m \u001b[0mtl\u001b[0m \u001b[1;33m=\u001b[0m \u001b[1;33m(\u001b[0m\u001b[1;36m1\u001b[0m\u001b[1;33m,\u001b[0m\u001b[1;36m2\u001b[0m\u001b[1;33m,\u001b[0m\u001b[1;33m[\u001b[0m\u001b[1;36m30\u001b[0m\u001b[1;33m,\u001b[0m\u001b[1;36m40\u001b[0m\u001b[1;33m]\u001b[0m\u001b[1;33m)\u001b[0m\u001b[1;33m\u001b[0m\u001b[0m\n\u001b[1;32m----> 2\u001b[1;33m \u001b[0mhash\u001b[0m\u001b[1;33m(\u001b[0m\u001b[0mtl\u001b[0m\u001b[1;33m)\u001b[0m\u001b[1;33m\u001b[0m\u001b[0m\n\u001b[0m",
      "\u001b[1;31mTypeError\u001b[0m: unhashable type: 'list'"
     ]
    }
   ],
   "source": [
    "tl = (1,2,[30,40])\n",
    "hash(tl)"
   ]
  },
  {
   "cell_type": "code",
   "execution_count": 7,
   "metadata": {},
   "outputs": [
    {
     "data": {
      "text/plain": [
       "-4118419923444501110"
      ]
     },
     "execution_count": 7,
     "metadata": {},
     "output_type": "execute_result"
    }
   ],
   "source": [
    "tf = (1,2,frozenset([30,40]))\n",
    "hash(tf)"
   ]
  },
  {
   "cell_type": "markdown",
   "metadata": {},
   "source": [
    "### Build dictionaries in several ways"
   ]
  },
  {
   "cell_type": "code",
   "execution_count": 8,
   "metadata": {},
   "outputs": [
    {
     "data": {
      "text/plain": [
       "True"
      ]
     },
     "execution_count": 8,
     "metadata": {},
     "output_type": "execute_result"
    }
   ],
   "source": [
    "a = dict(one=1, two=2, three=3)\n",
    "b = {'one':1, 'two':2, 'three':3}\n",
    "c = dict(zip(['one', 'two', 'three'], [1,2,3]))\n",
    "d = dict([('two', 2),('one', 1), ('three', 3)])\n",
    "e = dict({'three':3, 'one':1, 'two':2})\n",
    "a==b==c==d==e"
   ]
  },
  {
   "cell_type": "markdown",
   "metadata": {},
   "source": [
    "## 2.Dict Comprehensions"
   ]
  },
  {
   "cell_type": "markdown",
   "metadata": {},
   "source": [
    "파이썬 2.7이후로 listcomps의 syntax가 dict comprehension와 set comprehension에 적용되었다. dictcomp는 iterable로 부터 key:value 쌍을 만듬으로써 dict instance를 만든다. "
   ]
  },
  {
   "cell_type": "code",
   "execution_count": 9,
   "metadata": {},
   "outputs": [
    {
     "data": {
      "text/plain": [
       "{'Brazil': 55, 'China': 86, 'India': 91, 'Indonesia': 62, 'US': 1}"
      ]
     },
     "execution_count": 9,
     "metadata": {},
     "output_type": "execute_result"
    }
   ],
   "source": [
    "# list of pairs can be used directly with the dict constructer\n",
    "DIAL_CODES = [(86,'China'), (91,'India'), (1,'US'), (62,'Indonesia'),(55,'Brazil')]\n",
    "country_code = {country: code for code, country in DIAL_CODES}\n",
    "country_code"
   ]
  },
  {
   "cell_type": "code",
   "execution_count": 10,
   "metadata": {},
   "outputs": [
    {
     "data": {
      "text/plain": [
       "{1: 'US', 55: 'BRAZIL', 62: 'INDONESIA'}"
      ]
     },
     "execution_count": 10,
     "metadata": {},
     "output_type": "execute_result"
    }
   ],
   "source": [
    "# upper-cased\n",
    "{code:country.upper() for country, code in country_code.items() if code <66}"
   ]
  },
  {
   "cell_type": "markdown",
   "metadata": {},
   "source": [
    "## 3.Overview if common mapping methods"
   ]
  },
  {
   "cell_type": "markdown",
   "metadata": {
    "collapsed": true
   },
   "source": [
    "__dict__, __defaultdict__, __OrderedDict__\n",
    "\n",
    "reverse는 OrderDict만 사용가능\n",
    "\n",
    "missing은 defaultDict에만 구현되어 있다."
   ]
  },
  {
   "cell_type": "markdown",
   "metadata": {},
   "source": [
    "Update : 한꺼번에 여러 데이터를 갱신할 때 사용"
   ]
  },
  {
   "cell_type": "code",
   "execution_count": 5,
   "metadata": {
    "collapsed": true
   },
   "outputs": [],
   "source": [
    "persons = [('김기수', 30), ('홍대길', 35), ('강찬수', 25)]\n",
    "mydict = dict(persons)\n",
    "\n",
    "mydict.update({'홍대길':33,'강찬수':26})"
   ]
  },
  {
   "cell_type": "code",
   "execution_count": 6,
   "metadata": {},
   "outputs": [
    {
     "data": {
      "text/plain": [
       "{'강찬수': 26, '김기수': 30, '홍대길': 33}"
      ]
     },
     "execution_count": 6,
     "metadata": {},
     "output_type": "execute_result"
    }
   ],
   "source": [
    "mydict"
   ]
  },
  {
   "cell_type": "markdown",
   "metadata": {},
   "source": [
    "### Handling missing keys with setdefault\n",
    "\n",
    "it provides a significant speedups by avoiding redundant key lookups."
   ]
  },
  {
   "cell_type": "markdown",
   "metadata": {},
   "source": [
    "<div class=\"alert alert-block alert-warning\">\n",
    "(\\w+): The \\w matches a \"word character\"—something alphanumeric or an underscore; the + matches one or more of these; and the parentheses group it and store it in the first capturing group, which can be accessed with \\1.\n",
    "<div>"
   ]
  },
  {
   "cell_type": "code",
   "execution_count": 9,
   "metadata": {},
   "outputs": [
    {
     "name": "stdout",
     "output_type": "stream",
     "text": [
      "{'1': None}\n"
     ]
    }
   ],
   "source": [
    "test = {}\n",
    "test['1'] = test.get('1',[]).append(1)\n",
    "print(test)"
   ]
  },
  {
   "cell_type": "code",
   "execution_count": 1,
   "metadata": {},
   "outputs": [
    {
     "ename": "AttributeError",
     "evalue": "'NoneType' object has no attribute 'append'",
     "output_type": "error",
     "traceback": [
      "\u001b[1;31m---------------------------------------------------------------------------\u001b[0m",
      "\u001b[1;31mAttributeError\u001b[0m                            Traceback (most recent call last)",
      "\u001b[1;32m<ipython-input-1-1c3eef352d28>\u001b[0m in \u001b[0;36m<module>\u001b[1;34m()\u001b[0m\n\u001b[0;32m     12\u001b[0m             \u001b[0mlocation\u001b[0m \u001b[1;33m=\u001b[0m \u001b[1;33m(\u001b[0m\u001b[0mline_no\u001b[0m\u001b[1;33m,\u001b[0m \u001b[0mcolumn_no\u001b[0m\u001b[1;33m)\u001b[0m\u001b[1;33m\u001b[0m\u001b[0m\n\u001b[0;32m     13\u001b[0m             \u001b[1;31m# Get the list of occurrences for word, or [] if not found\u001b[0m\u001b[1;33m\u001b[0m\u001b[1;33m\u001b[0m\u001b[0m\n\u001b[1;32m---> 14\u001b[1;33m             \u001b[0mindex\u001b[0m\u001b[1;33m[\u001b[0m\u001b[0mword\u001b[0m\u001b[1;33m]\u001b[0m \u001b[1;33m=\u001b[0m \u001b[0mindex\u001b[0m\u001b[1;33m.\u001b[0m\u001b[0mget\u001b[0m\u001b[1;33m(\u001b[0m\u001b[0mword\u001b[0m\u001b[1;33m,\u001b[0m \u001b[1;33m[\u001b[0m\u001b[1;33m]\u001b[0m\u001b[1;33m)\u001b[0m\u001b[1;33m.\u001b[0m\u001b[0mappend\u001b[0m\u001b[1;33m(\u001b[0m\u001b[0mlocation\u001b[0m\u001b[1;33m)\u001b[0m\u001b[1;33m\u001b[0m\u001b[0m\n\u001b[0m",
      "\u001b[1;31mAttributeError\u001b[0m: 'NoneType' object has no attribute 'append'"
     ]
    }
   ],
   "source": [
    "import sys\n",
    "import re\n",
    "\n",
    "WORD_RE = re.compile('\\w+')\n",
    "\n",
    "index = {}\n",
    "with open('zen.txt', encoding='utf-8') as fp:\n",
    "    for line_no, line in enumerate(fp, 1):\n",
    "        for match in WORD_RE.finditer(line):\n",
    "            word = match.group()\n",
    "            column_no = match.start() + 1\n",
    "            location = (line_no, column_no)\n",
    "            # Get the list of occurrences for word, or [] if not found\n",
    "            index[word] = index.get(word, []).append(location)"
   ]
  },
  {
   "cell_type": "code",
   "execution_count": 2,
   "metadata": {},
   "outputs": [
    {
     "name": "stdout",
     "output_type": "stream",
     "text": [
      "The\n",
      "[]\n",
      "[(1, 1)]\n",
      "\n",
      "Zen\n",
      "[]\n",
      "[(1, 5)]\n",
      "\n",
      "of\n",
      "[]\n",
      "[(1, 9)]\n",
      "\n",
      "Python\n",
      "[]\n",
      "[(1, 12)]\n",
      "\n",
      "by\n",
      "[]\n",
      "[(1, 20)]\n",
      "\n",
      "Tim\n",
      "[]\n",
      "[(1, 23)]\n",
      "\n",
      "Peters\n",
      "[]\n",
      "[(1, 27)]\n",
      "\n",
      "Beautiful\n",
      "[]\n",
      "[(3, 1)]\n",
      "\n",
      "is\n",
      "[]\n",
      "[(3, 11)]\n",
      "\n",
      "better\n",
      "[]\n",
      "[(3, 14)]\n",
      "\n",
      "than\n",
      "[]\n",
      "[(3, 21)]\n",
      "\n",
      "ugly\n",
      "[]\n",
      "[(3, 26)]\n",
      "\n",
      "Explicit\n",
      "[]\n",
      "[(4, 1)]\n",
      "\n",
      "is\n",
      "[(3, 11)]\n",
      "[(3, 11), (4, 10)]\n",
      "\n",
      "better\n",
      "[(3, 14)]\n",
      "[(3, 14), (4, 13)]\n",
      "\n",
      "than\n",
      "[(3, 21)]\n",
      "[(3, 21), (4, 20)]\n",
      "\n",
      "implicit\n",
      "[]\n",
      "[(4, 25)]\n",
      "\n",
      "Simple\n",
      "[]\n",
      "[(5, 1)]\n",
      "\n",
      "is\n",
      "[(3, 11), (4, 10)]\n",
      "[(3, 11), (4, 10), (5, 8)]\n",
      "\n",
      "better\n",
      "[(3, 14), (4, 13)]\n",
      "[(3, 14), (4, 13), (5, 11)]\n",
      "\n",
      "than\n",
      "[(3, 21), (4, 20)]\n",
      "[(3, 21), (4, 20), (5, 18)]\n",
      "\n",
      "complex\n",
      "[]\n",
      "[(5, 23)]\n",
      "\n",
      "Complex\n",
      "[]\n",
      "[(6, 1)]\n",
      "\n",
      "is\n",
      "[(3, 11), (4, 10), (5, 8)]\n",
      "[(3, 11), (4, 10), (5, 8), (6, 9)]\n",
      "\n",
      "better\n",
      "[(3, 14), (4, 13), (5, 11)]\n",
      "[(3, 14), (4, 13), (5, 11), (6, 12)]\n",
      "\n",
      "than\n",
      "[(3, 21), (4, 20), (5, 18)]\n",
      "[(3, 21), (4, 20), (5, 18), (6, 19)]\n",
      "\n",
      "complicated\n",
      "[]\n",
      "[(6, 24)]\n",
      "\n",
      "Flat\n",
      "[]\n",
      "[(7, 1)]\n",
      "\n",
      "is\n",
      "[(3, 11), (4, 10), (5, 8), (6, 9)]\n",
      "[(3, 11), (4, 10), (5, 8), (6, 9), (7, 6)]\n",
      "\n",
      "better\n",
      "[(3, 14), (4, 13), (5, 11), (6, 12)]\n",
      "[(3, 14), (4, 13), (5, 11), (6, 12), (7, 9)]\n",
      "\n",
      "than\n",
      "[(3, 21), (4, 20), (5, 18), (6, 19)]\n",
      "[(3, 21), (4, 20), (5, 18), (6, 19), (7, 16)]\n",
      "\n",
      "nested\n",
      "[]\n",
      "[(7, 21)]\n",
      "\n",
      "Sparse\n",
      "[]\n",
      "[(8, 1)]\n",
      "\n",
      "is\n",
      "[(3, 11), (4, 10), (5, 8), (6, 9), (7, 6)]\n",
      "[(3, 11), (4, 10), (5, 8), (6, 9), (7, 6), (8, 8)]\n",
      "\n",
      "better\n",
      "[(3, 14), (4, 13), (5, 11), (6, 12), (7, 9)]\n",
      "[(3, 14), (4, 13), (5, 11), (6, 12), (7, 9), (8, 11)]\n",
      "\n",
      "than\n",
      "[(3, 21), (4, 20), (5, 18), (6, 19), (7, 16)]\n",
      "[(3, 21), (4, 20), (5, 18), (6, 19), (7, 16), (8, 18)]\n",
      "\n",
      "dense\n",
      "[]\n",
      "[(8, 23)]\n",
      "\n",
      "Readability\n",
      "[]\n",
      "[(9, 1)]\n",
      "\n",
      "counts\n",
      "[]\n",
      "[(9, 13)]\n",
      "\n",
      "Special\n",
      "[]\n",
      "[(10, 1)]\n",
      "\n",
      "cases\n",
      "[]\n",
      "[(10, 9)]\n",
      "\n",
      "aren\n",
      "[]\n",
      "[(10, 15)]\n",
      "\n",
      "t\n",
      "[]\n",
      "[(10, 20)]\n",
      "\n",
      "special\n",
      "[]\n",
      "[(10, 22)]\n",
      "\n",
      "enough\n",
      "[]\n",
      "[(10, 30)]\n",
      "\n",
      "to\n",
      "[]\n",
      "[(10, 37)]\n",
      "\n",
      "break\n",
      "[]\n",
      "[(10, 40)]\n",
      "\n",
      "the\n",
      "[]\n",
      "[(10, 46)]\n",
      "\n",
      "rules\n",
      "[]\n",
      "[(10, 50)]\n",
      "\n",
      "Although\n",
      "[]\n",
      "[(11, 1)]\n",
      "\n",
      "practicality\n",
      "[]\n",
      "[(11, 10)]\n",
      "\n",
      "beats\n",
      "[]\n",
      "[(11, 23)]\n",
      "\n",
      "purity\n",
      "[]\n",
      "[(11, 29)]\n",
      "\n",
      "Errors\n",
      "[]\n",
      "[(12, 1)]\n",
      "\n",
      "should\n",
      "[]\n",
      "[(12, 8)]\n",
      "\n",
      "never\n",
      "[]\n",
      "[(12, 15)]\n",
      "\n",
      "pass\n",
      "[]\n",
      "[(12, 21)]\n",
      "\n",
      "silently\n",
      "[]\n",
      "[(12, 26)]\n",
      "\n",
      "Unless\n",
      "[]\n",
      "[(13, 1)]\n",
      "\n",
      "explicitly\n",
      "[]\n",
      "[(13, 8)]\n",
      "\n",
      "silenced\n",
      "[]\n",
      "[(13, 19)]\n",
      "\n",
      "In\n",
      "[]\n",
      "[(14, 1)]\n",
      "\n",
      "the\n",
      "[(10, 46)]\n",
      "[(10, 46), (14, 4)]\n",
      "\n",
      "face\n",
      "[]\n",
      "[(14, 8)]\n",
      "\n",
      "of\n",
      "[(1, 9)]\n",
      "[(1, 9), (14, 13)]\n",
      "\n",
      "ambiguity\n",
      "[]\n",
      "[(14, 16)]\n",
      "\n",
      "refuse\n",
      "[]\n",
      "[(14, 27)]\n",
      "\n",
      "the\n",
      "[(10, 46), (14, 4)]\n",
      "[(10, 46), (14, 4), (14, 34)]\n",
      "\n",
      "temptation\n",
      "[]\n",
      "[(14, 38)]\n",
      "\n",
      "to\n",
      "[(10, 37)]\n",
      "[(10, 37), (14, 49)]\n",
      "\n",
      "guess\n",
      "[]\n",
      "[(14, 52)]\n",
      "\n",
      "There\n",
      "[]\n",
      "[(15, 1)]\n",
      "\n",
      "should\n",
      "[(12, 8)]\n",
      "[(12, 8), (15, 7)]\n",
      "\n",
      "be\n",
      "[]\n",
      "[(15, 14)]\n",
      "\n",
      "one\n",
      "[]\n",
      "[(15, 17)]\n",
      "\n",
      "and\n",
      "[]\n",
      "[(15, 23)]\n",
      "\n",
      "preferably\n",
      "[]\n",
      "[(15, 27)]\n",
      "\n",
      "only\n",
      "[]\n",
      "[(15, 38)]\n",
      "\n",
      "one\n",
      "[(15, 17)]\n",
      "[(15, 17), (15, 43)]\n",
      "\n",
      "obvious\n",
      "[]\n",
      "[(15, 49)]\n",
      "\n",
      "way\n",
      "[]\n",
      "[(15, 57)]\n",
      "\n",
      "to\n",
      "[(10, 37), (14, 49)]\n",
      "[(10, 37), (14, 49), (15, 61)]\n",
      "\n",
      "do\n",
      "[]\n",
      "[(15, 64)]\n",
      "\n",
      "it\n",
      "[]\n",
      "[(15, 67)]\n",
      "\n",
      "Although\n",
      "[(11, 1)]\n",
      "[(11, 1), (16, 1)]\n",
      "\n",
      "that\n",
      "[]\n",
      "[(16, 10)]\n",
      "\n",
      "way\n",
      "[(15, 57)]\n",
      "[(15, 57), (16, 15)]\n",
      "\n",
      "may\n",
      "[]\n",
      "[(16, 19)]\n",
      "\n",
      "not\n",
      "[]\n",
      "[(16, 23)]\n",
      "\n",
      "be\n",
      "[(15, 14)]\n",
      "[(15, 14), (16, 27)]\n",
      "\n",
      "obvious\n",
      "[(15, 49)]\n",
      "[(15, 49), (16, 30)]\n",
      "\n",
      "at\n",
      "[]\n",
      "[(16, 38)]\n",
      "\n",
      "first\n",
      "[]\n",
      "[(16, 41)]\n",
      "\n",
      "unless\n",
      "[]\n",
      "[(16, 47)]\n",
      "\n",
      "you\n",
      "[]\n",
      "[(16, 54)]\n",
      "\n",
      "re\n",
      "[]\n",
      "[(16, 58)]\n",
      "\n",
      "Dutch\n",
      "[]\n",
      "[(16, 61)]\n",
      "\n",
      "Now\n",
      "[]\n",
      "[(17, 1)]\n",
      "\n",
      "is\n",
      "[(3, 11), (4, 10), (5, 8), (6, 9), (7, 6), (8, 8)]\n",
      "[(3, 11), (4, 10), (5, 8), (6, 9), (7, 6), (8, 8), (17, 5)]\n",
      "\n",
      "better\n",
      "[(3, 14), (4, 13), (5, 11), (6, 12), (7, 9), (8, 11)]\n",
      "[(3, 14), (4, 13), (5, 11), (6, 12), (7, 9), (8, 11), (17, 8)]\n",
      "\n",
      "than\n",
      "[(3, 21), (4, 20), (5, 18), (6, 19), (7, 16), (8, 18)]\n",
      "[(3, 21), (4, 20), (5, 18), (6, 19), (7, 16), (8, 18), (17, 15)]\n",
      "\n",
      "never\n",
      "[(12, 15)]\n",
      "[(12, 15), (17, 20)]\n",
      "\n",
      "Although\n",
      "[(11, 1), (16, 1)]\n",
      "[(11, 1), (16, 1), (18, 1)]\n",
      "\n",
      "never\n",
      "[(12, 15), (17, 20)]\n",
      "[(12, 15), (17, 20), (18, 10)]\n",
      "\n",
      "is\n",
      "[(3, 11), (4, 10), (5, 8), (6, 9), (7, 6), (8, 8), (17, 5)]\n",
      "[(3, 11), (4, 10), (5, 8), (6, 9), (7, 6), (8, 8), (17, 5), (18, 16)]\n",
      "\n",
      "often\n",
      "[]\n",
      "[(18, 19)]\n",
      "\n",
      "better\n",
      "[(3, 14), (4, 13), (5, 11), (6, 12), (7, 9), (8, 11), (17, 8)]\n",
      "[(3, 14), (4, 13), (5, 11), (6, 12), (7, 9), (8, 11), (17, 8), (18, 25)]\n",
      "\n",
      "than\n",
      "[(3, 21), (4, 20), (5, 18), (6, 19), (7, 16), (8, 18), (17, 15)]\n",
      "[(3, 21), (4, 20), (5, 18), (6, 19), (7, 16), (8, 18), (17, 15), (18, 32)]\n",
      "\n",
      "right\n",
      "[]\n",
      "[(18, 38)]\n",
      "\n",
      "now\n",
      "[]\n",
      "[(18, 45)]\n",
      "\n",
      "If\n",
      "[]\n",
      "[(19, 1)]\n",
      "\n",
      "the\n",
      "[(10, 46), (14, 4), (14, 34)]\n",
      "[(10, 46), (14, 4), (14, 34), (19, 4)]\n",
      "\n",
      "implementation\n",
      "[]\n",
      "[(19, 8)]\n",
      "\n",
      "is\n",
      "[(3, 11), (4, 10), (5, 8), (6, 9), (7, 6), (8, 8), (17, 5), (18, 16)]\n",
      "[(3, 11), (4, 10), (5, 8), (6, 9), (7, 6), (8, 8), (17, 5), (18, 16), (19, 23)]\n",
      "\n",
      "hard\n",
      "[]\n",
      "[(19, 26)]\n",
      "\n",
      "to\n",
      "[(10, 37), (14, 49), (15, 61)]\n",
      "[(10, 37), (14, 49), (15, 61), (19, 31)]\n",
      "\n",
      "explain\n",
      "[]\n",
      "[(19, 34)]\n",
      "\n",
      "it\n",
      "[(15, 67)]\n",
      "[(15, 67), (19, 43)]\n",
      "\n",
      "s\n",
      "[]\n",
      "[(19, 46)]\n",
      "\n",
      "a\n",
      "[]\n",
      "[(19, 48)]\n",
      "\n",
      "bad\n",
      "[]\n",
      "[(19, 50)]\n",
      "\n",
      "idea\n",
      "[]\n",
      "[(19, 54)]\n",
      "\n",
      "If\n",
      "[(19, 1)]\n",
      "[(19, 1), (20, 1)]\n",
      "\n",
      "the\n",
      "[(10, 46), (14, 4), (14, 34), (19, 4)]\n",
      "[(10, 46), (14, 4), (14, 34), (19, 4), (20, 4)]\n",
      "\n",
      "implementation\n",
      "[(19, 8)]\n",
      "[(19, 8), (20, 8)]\n",
      "\n",
      "is\n",
      "[(3, 11), (4, 10), (5, 8), (6, 9), (7, 6), (8, 8), (17, 5), (18, 16), (19, 23)]\n",
      "[(3, 11), (4, 10), (5, 8), (6, 9), (7, 6), (8, 8), (17, 5), (18, 16), (19, 23), (20, 23)]\n",
      "\n",
      "easy\n",
      "[]\n",
      "[(20, 26)]\n",
      "\n",
      "to\n",
      "[(10, 37), (14, 49), (15, 61), (19, 31)]\n",
      "[(10, 37), (14, 49), (15, 61), (19, 31), (20, 31)]\n",
      "\n",
      "explain\n",
      "[(19, 34)]\n",
      "[(19, 34), (20, 34)]\n",
      "\n",
      "it\n",
      "[(15, 67), (19, 43)]\n",
      "[(15, 67), (19, 43), (20, 43)]\n",
      "\n",
      "may\n",
      "[(16, 19)]\n",
      "[(16, 19), (20, 46)]\n",
      "\n",
      "be\n",
      "[(15, 14), (16, 27)]\n",
      "[(15, 14), (16, 27), (20, 50)]\n",
      "\n",
      "a\n",
      "[(19, 48)]\n",
      "[(19, 48), (20, 53)]\n",
      "\n",
      "good\n",
      "[]\n",
      "[(20, 55)]\n",
      "\n",
      "idea\n",
      "[(19, 54)]\n",
      "[(19, 54), (20, 60)]\n",
      "\n",
      "Namespaces\n",
      "[]\n",
      "[(21, 1)]\n",
      "\n",
      "are\n",
      "[]\n",
      "[(21, 12)]\n",
      "\n",
      "one\n",
      "[(15, 17), (15, 43)]\n",
      "[(15, 17), (15, 43), (21, 16)]\n",
      "\n",
      "honking\n",
      "[]\n",
      "[(21, 20)]\n",
      "\n",
      "great\n",
      "[]\n",
      "[(21, 28)]\n",
      "\n",
      "idea\n",
      "[(19, 54), (20, 60)]\n",
      "[(19, 54), (20, 60), (21, 34)]\n",
      "\n",
      "let\n",
      "[]\n",
      "[(21, 42)]\n",
      "\n",
      "s\n",
      "[(19, 46)]\n",
      "[(19, 46), (21, 46)]\n",
      "\n",
      "do\n",
      "[(15, 64)]\n",
      "[(15, 64), (21, 48)]\n",
      "\n",
      "more\n",
      "[]\n",
      "[(21, 51)]\n",
      "\n",
      "of\n",
      "[(1, 9), (14, 13)]\n",
      "[(1, 9), (14, 13), (21, 56)]\n",
      "\n",
      "those\n",
      "[]\n",
      "[(21, 59)]\n",
      "\n"
     ]
    }
   ],
   "source": [
    "import sys\n",
    "import re\n",
    "\n",
    "WORD_RE = re.compile('\\w+')\n",
    "\n",
    "index = {}\n",
    "with open('zen.txt', encoding='utf-8') as fp:\n",
    "    for line_no, line in enumerate(fp, 1):\n",
    "        for match in WORD_RE.finditer(line):\n",
    "            word = match.group()\n",
    "            print(word)\n",
    "            column_no = match.start() + 1\n",
    "            location = (line_no, column_no)\n",
    "            # Get the list of occurrences for word, or [] if not found\n",
    "            occurrences = index.get(word, [])\n",
    "            print(occurrences)\n",
    "            # Append new location to occurrences\n",
    "            occurrences.append(location)\n",
    "            print(occurrences)\n",
    "            index[word] = occurrences\n",
    "            print()"
   ]
  },
  {
   "cell_type": "code",
   "execution_count": 8,
   "metadata": {
    "scrolled": true
   },
   "outputs": [
    {
     "name": "stdout",
     "output_type": "stream",
     "text": [
      "a [(19, 48), (20, 53)]\n",
      "Although [(11, 1), (16, 1), (18, 1)]\n",
      "ambiguity [(14, 16)]\n",
      "and [(15, 23)]\n",
      "are [(21, 12)]\n",
      "aren [(10, 15)]\n",
      "at [(16, 38)]\n",
      "bad [(19, 50)]\n",
      "be [(15, 14), (16, 27), (20, 50)]\n",
      "beats [(11, 23)]\n",
      "Beautiful [(3, 1)]\n",
      "better [(3, 14), (4, 13), (5, 11), (6, 12), (7, 9), (8, 11), (17, 8), (18, 25)]\n",
      "break [(10, 40)]\n",
      "by [(1, 20)]\n",
      "cases [(10, 9)]\n",
      "complex [(5, 23)]\n",
      "Complex [(6, 1)]\n",
      "complicated [(6, 24)]\n",
      "counts [(9, 13)]\n",
      "dense [(8, 23)]\n",
      "do [(15, 64), (21, 48)]\n",
      "Dutch [(16, 61)]\n",
      "easy [(20, 26)]\n",
      "enough [(10, 30)]\n",
      "Errors [(12, 1)]\n",
      "explain [(19, 34), (20, 34)]\n",
      "Explicit [(4, 1)]\n",
      "explicitly [(13, 8)]\n",
      "face [(14, 8)]\n",
      "first [(16, 41)]\n",
      "Flat [(7, 1)]\n",
      "good [(20, 55)]\n",
      "great [(21, 28)]\n",
      "guess [(14, 52)]\n",
      "hard [(19, 26)]\n",
      "honking [(21, 20)]\n",
      "idea [(19, 54), (20, 60), (21, 34)]\n",
      "If [(19, 1), (20, 1)]\n",
      "implementation [(19, 8), (20, 8)]\n",
      "implicit [(4, 25)]\n",
      "In [(14, 1)]\n",
      "is [(3, 11), (4, 10), (5, 8), (6, 9), (7, 6), (8, 8), (17, 5), (18, 16), (19, 23), (20, 23)]\n",
      "it [(15, 67), (19, 43), (20, 43)]\n",
      "let [(21, 42)]\n",
      "may [(16, 19), (20, 46)]\n",
      "more [(21, 51)]\n",
      "Namespaces [(21, 1)]\n",
      "nested [(7, 21)]\n",
      "never [(12, 15), (17, 20), (18, 10)]\n",
      "not [(16, 23)]\n",
      "Now [(17, 1)]\n",
      "now [(18, 45)]\n",
      "obvious [(15, 49), (16, 30)]\n",
      "of [(1, 9), (14, 13), (21, 56)]\n",
      "often [(18, 19)]\n",
      "one [(15, 17), (15, 43), (21, 16)]\n",
      "only [(15, 38)]\n",
      "pass [(12, 21)]\n",
      "Peters [(1, 27)]\n",
      "practicality [(11, 10)]\n",
      "preferably [(15, 27)]\n",
      "purity [(11, 29)]\n",
      "Python [(1, 12)]\n",
      "re [(16, 58)]\n",
      "Readability [(9, 1)]\n",
      "refuse [(14, 27)]\n",
      "right [(18, 38)]\n",
      "rules [(10, 50)]\n",
      "s [(19, 46), (21, 46)]\n",
      "should [(12, 8), (15, 7)]\n",
      "silenced [(13, 19)]\n",
      "silently [(12, 26)]\n",
      "Simple [(5, 1)]\n",
      "Sparse [(8, 1)]\n",
      "Special [(10, 1)]\n",
      "special [(10, 22)]\n",
      "t [(10, 20)]\n",
      "temptation [(14, 38)]\n",
      "than [(3, 21), (4, 20), (5, 18), (6, 19), (7, 16), (8, 18), (17, 15), (18, 32)]\n",
      "that [(16, 10)]\n",
      "the [(10, 46), (14, 4), (14, 34), (19, 4), (20, 4)]\n",
      "The [(1, 1)]\n",
      "There [(15, 1)]\n",
      "those [(21, 59)]\n",
      "Tim [(1, 23)]\n",
      "to [(10, 37), (14, 49), (15, 61), (19, 31), (20, 31)]\n",
      "ugly [(3, 26)]\n",
      "Unless [(13, 1)]\n",
      "unless [(16, 47)]\n",
      "way [(15, 57), (16, 15)]\n",
      "you [(16, 54)]\n",
      "Zen [(1, 5)]\n"
     ]
    }
   ],
   "source": [
    "for word in sorted(index, key=str.upper):\n",
    "    print(word, index[word])"
   ]
  },
  {
   "cell_type": "code",
   "execution_count": 9,
   "metadata": {},
   "outputs": [
    {
     "data": {
      "text/plain": [
       "{'Although': [(11, 1), (16, 1), (18, 1)],\n",
       " 'Beautiful': [(3, 1)],\n",
       " 'Complex': [(6, 1)],\n",
       " 'Dutch': [(16, 61)],\n",
       " 'Errors': [(12, 1)],\n",
       " 'Explicit': [(4, 1)],\n",
       " 'Flat': [(7, 1)],\n",
       " 'If': [(19, 1), (20, 1)],\n",
       " 'In': [(14, 1)],\n",
       " 'Namespaces': [(21, 1)],\n",
       " 'Now': [(17, 1)],\n",
       " 'Peters': [(1, 27)],\n",
       " 'Python': [(1, 12)],\n",
       " 'Readability': [(9, 1)],\n",
       " 'Simple': [(5, 1)],\n",
       " 'Sparse': [(8, 1)],\n",
       " 'Special': [(10, 1)],\n",
       " 'The': [(1, 1)],\n",
       " 'There': [(15, 1)],\n",
       " 'Tim': [(1, 23)],\n",
       " 'Unless': [(13, 1)],\n",
       " 'Zen': [(1, 5)],\n",
       " 'a': [(19, 48), (20, 53)],\n",
       " 'ambiguity': [(14, 16)],\n",
       " 'and': [(15, 23)],\n",
       " 'are': [(21, 12)],\n",
       " 'aren': [(10, 15)],\n",
       " 'at': [(16, 38)],\n",
       " 'bad': [(19, 50)],\n",
       " 'be': [(15, 14), (16, 27), (20, 50)],\n",
       " 'beats': [(11, 23)],\n",
       " 'better': [(3, 14),\n",
       "  (4, 13),\n",
       "  (5, 11),\n",
       "  (6, 12),\n",
       "  (7, 9),\n",
       "  (8, 11),\n",
       "  (17, 8),\n",
       "  (18, 25)],\n",
       " 'break': [(10, 40)],\n",
       " 'by': [(1, 20)],\n",
       " 'cases': [(10, 9)],\n",
       " 'complex': [(5, 23)],\n",
       " 'complicated': [(6, 24)],\n",
       " 'counts': [(9, 13)],\n",
       " 'dense': [(8, 23)],\n",
       " 'do': [(15, 64), (21, 48)],\n",
       " 'easy': [(20, 26)],\n",
       " 'enough': [(10, 30)],\n",
       " 'explain': [(19, 34), (20, 34)],\n",
       " 'explicitly': [(13, 8)],\n",
       " 'face': [(14, 8)],\n",
       " 'first': [(16, 41)],\n",
       " 'good': [(20, 55)],\n",
       " 'great': [(21, 28)],\n",
       " 'guess': [(14, 52)],\n",
       " 'hard': [(19, 26)],\n",
       " 'honking': [(21, 20)],\n",
       " 'idea': [(19, 54), (20, 60), (21, 34)],\n",
       " 'implementation': [(19, 8), (20, 8)],\n",
       " 'implicit': [(4, 25)],\n",
       " 'is': [(3, 11),\n",
       "  (4, 10),\n",
       "  (5, 8),\n",
       "  (6, 9),\n",
       "  (7, 6),\n",
       "  (8, 8),\n",
       "  (17, 5),\n",
       "  (18, 16),\n",
       "  (19, 23),\n",
       "  (20, 23)],\n",
       " 'it': [(15, 67), (19, 43), (20, 43)],\n",
       " 'let': [(21, 42)],\n",
       " 'may': [(16, 19), (20, 46)],\n",
       " 'more': [(21, 51)],\n",
       " 'nested': [(7, 21)],\n",
       " 'never': [(12, 15), (17, 20), (18, 10)],\n",
       " 'not': [(16, 23)],\n",
       " 'now': [(18, 45)],\n",
       " 'obvious': [(15, 49), (16, 30)],\n",
       " 'of': [(1, 9), (14, 13), (21, 56)],\n",
       " 'often': [(18, 19)],\n",
       " 'one': [(15, 17), (15, 43), (21, 16)],\n",
       " 'only': [(15, 38)],\n",
       " 'pass': [(12, 21)],\n",
       " 'practicality': [(11, 10)],\n",
       " 'preferably': [(15, 27)],\n",
       " 'purity': [(11, 29)],\n",
       " 're': [(16, 58)],\n",
       " 'refuse': [(14, 27)],\n",
       " 'right': [(18, 38)],\n",
       " 'rules': [(10, 50)],\n",
       " 's': [(19, 46), (21, 46)],\n",
       " 'should': [(12, 8), (15, 7)],\n",
       " 'silenced': [(13, 19)],\n",
       " 'silently': [(12, 26)],\n",
       " 'special': [(10, 22)],\n",
       " 't': [(10, 20)],\n",
       " 'temptation': [(14, 38)],\n",
       " 'than': [(3, 21),\n",
       "  (4, 20),\n",
       "  (5, 18),\n",
       "  (6, 19),\n",
       "  (7, 16),\n",
       "  (8, 18),\n",
       "  (17, 15),\n",
       "  (18, 32)],\n",
       " 'that': [(16, 10)],\n",
       " 'the': [(10, 46), (14, 4), (14, 34), (19, 4), (20, 4)],\n",
       " 'those': [(21, 59)],\n",
       " 'to': [(10, 37), (14, 49), (15, 61), (19, 31), (20, 31)],\n",
       " 'ugly': [(3, 26)],\n",
       " 'unless': [(16, 47)],\n",
       " 'way': [(15, 57), (16, 15)],\n",
       " 'you': [(16, 54)]}"
      ]
     },
     "execution_count": 9,
     "metadata": {},
     "output_type": "execute_result"
    }
   ],
   "source": [
    "index"
   ]
  },
  {
   "cell_type": "code",
   "execution_count": 17,
   "metadata": {},
   "outputs": [
    {
     "name": "stdout",
     "output_type": "stream",
     "text": [
      "The\n",
      "setdefault: []\n",
      "{'The': [(1, 1)]}\n",
      "Zen\n",
      "setdefault: []\n",
      "{'The': [(1, 1)], 'Zen': [(1, 5)]}\n",
      "of\n",
      "setdefault: []\n",
      "{'The': [(1, 1)], 'Zen': [(1, 5)], 'of': [(1, 9)]}\n",
      "Python\n",
      "setdefault: []\n",
      "{'The': [(1, 1)], 'Zen': [(1, 5)], 'Python': [(1, 12)], 'of': [(1, 9)]}\n",
      "by\n",
      "setdefault: []\n",
      "{'The': [(1, 1)], 'by': [(1, 20)], 'Zen': [(1, 5)], 'Python': [(1, 12)], 'of': [(1, 9)]}\n",
      "Tim\n",
      "setdefault: []\n",
      "{'Zen': [(1, 5)], 'Python': [(1, 12)], 'Tim': [(1, 23)], 'The': [(1, 1)], 'by': [(1, 20)], 'of': [(1, 9)]}\n",
      "Peters\n",
      "setdefault: []\n",
      "{'Peters': [(1, 27)], 'Zen': [(1, 5)], 'Python': [(1, 12)], 'Tim': [(1, 23)], 'The': [(1, 1)], 'by': [(1, 20)], 'of': [(1, 9)]}\n",
      "Beautiful\n",
      "setdefault: []\n",
      "{'Peters': [(1, 27)], 'Zen': [(1, 5)], 'Python': [(1, 12)], 'Beautiful': [(3, 1)], 'Tim': [(1, 23)], 'The': [(1, 1)], 'by': [(1, 20)], 'of': [(1, 9)]}\n",
      "is\n",
      "setdefault: []\n",
      "{'is': [(3, 11)], 'Peters': [(1, 27)], 'Zen': [(1, 5)], 'Python': [(1, 12)], 'Beautiful': [(3, 1)], 'Tim': [(1, 23)], 'The': [(1, 1)], 'by': [(1, 20)], 'of': [(1, 9)]}\n",
      "better\n",
      "setdefault: []\n",
      "{'is': [(3, 11)], 'better': [(3, 14)], 'Peters': [(1, 27)], 'Zen': [(1, 5)], 'Python': [(1, 12)], 'Beautiful': [(3, 1)], 'Tim': [(1, 23)], 'The': [(1, 1)], 'by': [(1, 20)], 'of': [(1, 9)]}\n",
      "than\n",
      "setdefault: []\n",
      "{'is': [(3, 11)], 'than': [(3, 21)], 'better': [(3, 14)], 'Peters': [(1, 27)], 'Zen': [(1, 5)], 'Python': [(1, 12)], 'Beautiful': [(3, 1)], 'Tim': [(1, 23)], 'The': [(1, 1)], 'by': [(1, 20)], 'of': [(1, 9)]}\n",
      "ugly\n",
      "setdefault: []\n",
      "{'of': [(1, 9)], 'Peters': [(1, 27)], 'Python': [(1, 12)], 'Tim': [(1, 23)], 'The': [(1, 1)], 'is': [(3, 11)], 'better': [(3, 14)], 'Beautiful': [(3, 1)], 'Zen': [(1, 5)], 'ugly': [(3, 26)], 'than': [(3, 21)], 'by': [(1, 20)]}\n",
      "Explicit\n",
      "setdefault: []\n",
      "{'of': [(1, 9)], 'Peters': [(1, 27)], 'Python': [(1, 12)], 'Tim': [(1, 23)], 'The': [(1, 1)], 'Explicit': [(4, 1)], 'is': [(3, 11)], 'better': [(3, 14)], 'Beautiful': [(3, 1)], 'Zen': [(1, 5)], 'ugly': [(3, 26)], 'than': [(3, 21)], 'by': [(1, 20)]}\n",
      "is\n",
      "setdefault: [(3, 11)]\n",
      "{'of': [(1, 9)], 'Peters': [(1, 27)], 'Python': [(1, 12)], 'Tim': [(1, 23)], 'The': [(1, 1)], 'Explicit': [(4, 1)], 'is': [(3, 11), (4, 10)], 'better': [(3, 14)], 'Beautiful': [(3, 1)], 'Zen': [(1, 5)], 'ugly': [(3, 26)], 'than': [(3, 21)], 'by': [(1, 20)]}\n",
      "better\n",
      "setdefault: [(3, 14)]\n",
      "{'of': [(1, 9)], 'Peters': [(1, 27)], 'Python': [(1, 12)], 'Tim': [(1, 23)], 'The': [(1, 1)], 'Explicit': [(4, 1)], 'is': [(3, 11), (4, 10)], 'better': [(3, 14), (4, 13)], 'Beautiful': [(3, 1)], 'Zen': [(1, 5)], 'ugly': [(3, 26)], 'than': [(3, 21)], 'by': [(1, 20)]}\n",
      "than\n",
      "setdefault: [(3, 21)]\n",
      "{'of': [(1, 9)], 'Peters': [(1, 27)], 'Python': [(1, 12)], 'Tim': [(1, 23)], 'The': [(1, 1)], 'Explicit': [(4, 1)], 'is': [(3, 11), (4, 10)], 'better': [(3, 14), (4, 13)], 'Beautiful': [(3, 1)], 'Zen': [(1, 5)], 'ugly': [(3, 26)], 'than': [(3, 21), (4, 20)], 'by': [(1, 20)]}\n",
      "implicit\n",
      "setdefault: []\n",
      "{'of': [(1, 9)], 'Peters': [(1, 27)], 'Python': [(1, 12)], 'Tim': [(1, 23)], 'The': [(1, 1)], 'implicit': [(4, 25)], 'Explicit': [(4, 1)], 'is': [(3, 11), (4, 10)], 'better': [(3, 14), (4, 13)], 'Beautiful': [(3, 1)], 'Zen': [(1, 5)], 'ugly': [(3, 26)], 'than': [(3, 21), (4, 20)], 'by': [(1, 20)]}\n",
      "Simple\n",
      "setdefault: []\n",
      "{'of': [(1, 9)], 'Peters': [(1, 27)], 'Python': [(1, 12)], 'Tim': [(1, 23)], 'The': [(1, 1)], 'implicit': [(4, 25)], 'Explicit': [(4, 1)], 'is': [(3, 11), (4, 10)], 'better': [(3, 14), (4, 13)], 'Beautiful': [(3, 1)], 'Zen': [(1, 5)], 'ugly': [(3, 26)], 'Simple': [(5, 1)], 'than': [(3, 21), (4, 20)], 'by': [(1, 20)]}\n",
      "is\n",
      "setdefault: [(3, 11), (4, 10)]\n",
      "{'of': [(1, 9)], 'Peters': [(1, 27)], 'Python': [(1, 12)], 'Tim': [(1, 23)], 'The': [(1, 1)], 'implicit': [(4, 25)], 'Explicit': [(4, 1)], 'is': [(3, 11), (4, 10), (5, 8)], 'better': [(3, 14), (4, 13)], 'Beautiful': [(3, 1)], 'Zen': [(1, 5)], 'ugly': [(3, 26)], 'Simple': [(5, 1)], 'than': [(3, 21), (4, 20)], 'by': [(1, 20)]}\n",
      "better\n",
      "setdefault: [(3, 14), (4, 13)]\n",
      "{'of': [(1, 9)], 'Peters': [(1, 27)], 'Python': [(1, 12)], 'Tim': [(1, 23)], 'The': [(1, 1)], 'implicit': [(4, 25)], 'Explicit': [(4, 1)], 'is': [(3, 11), (4, 10), (5, 8)], 'better': [(3, 14), (4, 13), (5, 11)], 'Beautiful': [(3, 1)], 'Zen': [(1, 5)], 'ugly': [(3, 26)], 'Simple': [(5, 1)], 'than': [(3, 21), (4, 20)], 'by': [(1, 20)]}\n",
      "than\n",
      "setdefault: [(3, 21), (4, 20)]\n",
      "{'of': [(1, 9)], 'Peters': [(1, 27)], 'Python': [(1, 12)], 'Tim': [(1, 23)], 'The': [(1, 1)], 'implicit': [(4, 25)], 'Explicit': [(4, 1)], 'is': [(3, 11), (4, 10), (5, 8)], 'better': [(3, 14), (4, 13), (5, 11)], 'Beautiful': [(3, 1)], 'Zen': [(1, 5)], 'ugly': [(3, 26)], 'Simple': [(5, 1)], 'than': [(3, 21), (4, 20), (5, 18)], 'by': [(1, 20)]}\n",
      "complex\n",
      "setdefault: []\n",
      "{'of': [(1, 9)], 'Peters': [(1, 27)], 'Python': [(1, 12)], 'Tim': [(1, 23)], 'The': [(1, 1)], 'implicit': [(4, 25)], 'Explicit': [(4, 1)], 'is': [(3, 11), (4, 10), (5, 8)], 'better': [(3, 14), (4, 13), (5, 11)], 'Beautiful': [(3, 1)], 'Zen': [(1, 5)], 'ugly': [(3, 26)], 'complex': [(5, 23)], 'Simple': [(5, 1)], 'than': [(3, 21), (4, 20), (5, 18)], 'by': [(1, 20)]}\n",
      "Complex\n",
      "setdefault: []\n",
      "{'Complex': [(6, 1)], 'of': [(1, 9)], 'Peters': [(1, 27)], 'Python': [(1, 12)], 'Tim': [(1, 23)], 'The': [(1, 1)], 'implicit': [(4, 25)], 'Explicit': [(4, 1)], 'is': [(3, 11), (4, 10), (5, 8)], 'better': [(3, 14), (4, 13), (5, 11)], 'Beautiful': [(3, 1)], 'Zen': [(1, 5)], 'ugly': [(3, 26)], 'complex': [(5, 23)], 'Simple': [(5, 1)], 'than': [(3, 21), (4, 20), (5, 18)], 'by': [(1, 20)]}\n",
      "is\n",
      "setdefault: [(3, 11), (4, 10), (5, 8)]\n",
      "{'Complex': [(6, 1)], 'of': [(1, 9)], 'Peters': [(1, 27)], 'Python': [(1, 12)], 'Tim': [(1, 23)], 'The': [(1, 1)], 'implicit': [(4, 25)], 'Explicit': [(4, 1)], 'is': [(3, 11), (4, 10), (5, 8), (6, 9)], 'better': [(3, 14), (4, 13), (5, 11)], 'Beautiful': [(3, 1)], 'Zen': [(1, 5)], 'ugly': [(3, 26)], 'complex': [(5, 23)], 'Simple': [(5, 1)], 'than': [(3, 21), (4, 20), (5, 18)], 'by': [(1, 20)]}\n",
      "better\n",
      "setdefault: [(3, 14), (4, 13), (5, 11)]\n",
      "{'Complex': [(6, 1)], 'of': [(1, 9)], 'Peters': [(1, 27)], 'Python': [(1, 12)], 'Tim': [(1, 23)], 'The': [(1, 1)], 'implicit': [(4, 25)], 'Explicit': [(4, 1)], 'is': [(3, 11), (4, 10), (5, 8), (6, 9)], 'better': [(3, 14), (4, 13), (5, 11), (6, 12)], 'Beautiful': [(3, 1)], 'Zen': [(1, 5)], 'ugly': [(3, 26)], 'complex': [(5, 23)], 'Simple': [(5, 1)], 'than': [(3, 21), (4, 20), (5, 18)], 'by': [(1, 20)]}\n",
      "than\n",
      "setdefault: [(3, 21), (4, 20), (5, 18)]\n",
      "{'Complex': [(6, 1)], 'of': [(1, 9)], 'Peters': [(1, 27)], 'Python': [(1, 12)], 'Tim': [(1, 23)], 'The': [(1, 1)], 'implicit': [(4, 25)], 'Explicit': [(4, 1)], 'is': [(3, 11), (4, 10), (5, 8), (6, 9)], 'better': [(3, 14), (4, 13), (5, 11), (6, 12)], 'Beautiful': [(3, 1)], 'Zen': [(1, 5)], 'ugly': [(3, 26)], 'complex': [(5, 23)], 'Simple': [(5, 1)], 'than': [(3, 21), (4, 20), (5, 18), (6, 19)], 'by': [(1, 20)]}\n",
      "complicated\n",
      "setdefault: []\n",
      "{'Complex': [(6, 1)], 'of': [(1, 9)], 'Peters': [(1, 27)], 'Python': [(1, 12)], 'Tim': [(1, 23)], 'The': [(1, 1)], 'implicit': [(4, 25)], 'Explicit': [(4, 1)], 'is': [(3, 11), (4, 10), (5, 8), (6, 9)], 'better': [(3, 14), (4, 13), (5, 11), (6, 12)], 'Beautiful': [(3, 1)], 'Zen': [(1, 5)], 'ugly': [(3, 26)], 'complex': [(5, 23)], 'Simple': [(5, 1)], 'complicated': [(6, 24)], 'than': [(3, 21), (4, 20), (5, 18), (6, 19)], 'by': [(1, 20)]}\n",
      "Flat\n",
      "setdefault: []\n",
      "{'Complex': [(6, 1)], 'of': [(1, 9)], 'Peters': [(1, 27)], 'Python': [(1, 12)], 'Tim': [(1, 23)], 'The': [(1, 1)], 'implicit': [(4, 25)], 'Explicit': [(4, 1)], 'is': [(3, 11), (4, 10), (5, 8), (6, 9)], 'better': [(3, 14), (4, 13), (5, 11), (6, 12)], 'Beautiful': [(3, 1)], 'Flat': [(7, 1)], 'Zen': [(1, 5)], 'ugly': [(3, 26)], 'complex': [(5, 23)], 'Simple': [(5, 1)], 'complicated': [(6, 24)], 'than': [(3, 21), (4, 20), (5, 18), (6, 19)], 'by': [(1, 20)]}\n",
      "is\n",
      "setdefault: [(3, 11), (4, 10), (5, 8), (6, 9)]\n",
      "{'Complex': [(6, 1)], 'of': [(1, 9)], 'Peters': [(1, 27)], 'Python': [(1, 12)], 'Tim': [(1, 23)], 'The': [(1, 1)], 'implicit': [(4, 25)], 'Explicit': [(4, 1)], 'is': [(3, 11), (4, 10), (5, 8), (6, 9), (7, 6)], 'better': [(3, 14), (4, 13), (5, 11), (6, 12)], 'Beautiful': [(3, 1)], 'Flat': [(7, 1)], 'Zen': [(1, 5)], 'ugly': [(3, 26)], 'complex': [(5, 23)], 'Simple': [(5, 1)], 'complicated': [(6, 24)], 'than': [(3, 21), (4, 20), (5, 18), (6, 19)], 'by': [(1, 20)]}\n",
      "better\n",
      "setdefault: [(3, 14), (4, 13), (5, 11), (6, 12)]\n",
      "{'Complex': [(6, 1)], 'of': [(1, 9)], 'Peters': [(1, 27)], 'Python': [(1, 12)], 'Tim': [(1, 23)], 'The': [(1, 1)], 'implicit': [(4, 25)], 'Explicit': [(4, 1)], 'is': [(3, 11), (4, 10), (5, 8), (6, 9), (7, 6)], 'better': [(3, 14), (4, 13), (5, 11), (6, 12), (7, 9)], 'Beautiful': [(3, 1)], 'Flat': [(7, 1)], 'Zen': [(1, 5)], 'ugly': [(3, 26)], 'complex': [(5, 23)], 'Simple': [(5, 1)], 'complicated': [(6, 24)], 'than': [(3, 21), (4, 20), (5, 18), (6, 19)], 'by': [(1, 20)]}\n",
      "than\n",
      "setdefault: [(3, 21), (4, 20), (5, 18), (6, 19)]\n",
      "{'Complex': [(6, 1)], 'of': [(1, 9)], 'Peters': [(1, 27)], 'Python': [(1, 12)], 'Tim': [(1, 23)], 'The': [(1, 1)], 'implicit': [(4, 25)], 'Explicit': [(4, 1)], 'is': [(3, 11), (4, 10), (5, 8), (6, 9), (7, 6)], 'better': [(3, 14), (4, 13), (5, 11), (6, 12), (7, 9)], 'Beautiful': [(3, 1)], 'Flat': [(7, 1)], 'Zen': [(1, 5)], 'ugly': [(3, 26)], 'complex': [(5, 23)], 'Simple': [(5, 1)], 'complicated': [(6, 24)], 'than': [(3, 21), (4, 20), (5, 18), (6, 19), (7, 16)], 'by': [(1, 20)]}\n",
      "nested\n",
      "setdefault: []\n",
      "{'Complex': [(6, 1)], 'of': [(1, 9)], 'Peters': [(1, 27)], 'Python': [(1, 12)], 'Tim': [(1, 23)], 'The': [(1, 1)], 'implicit': [(4, 25)], 'nested': [(7, 21)], 'Explicit': [(4, 1)], 'is': [(3, 11), (4, 10), (5, 8), (6, 9), (7, 6)], 'better': [(3, 14), (4, 13), (5, 11), (6, 12), (7, 9)], 'Beautiful': [(3, 1)], 'Flat': [(7, 1)], 'Zen': [(1, 5)], 'ugly': [(3, 26)], 'complex': [(5, 23)], 'Simple': [(5, 1)], 'complicated': [(6, 24)], 'than': [(3, 21), (4, 20), (5, 18), (6, 19), (7, 16)], 'by': [(1, 20)]}\n",
      "Sparse\n",
      "setdefault: []\n",
      "{'Complex': [(6, 1)], 'of': [(1, 9)], 'Peters': [(1, 27)], 'Python': [(1, 12)], 'Tim': [(1, 23)], 'The': [(1, 1)], 'implicit': [(4, 25)], 'nested': [(7, 21)], 'Explicit': [(4, 1)], 'is': [(3, 11), (4, 10), (5, 8), (6, 9), (7, 6)], 'better': [(3, 14), (4, 13), (5, 11), (6, 12), (7, 9)], 'Beautiful': [(3, 1)], 'Flat': [(7, 1)], 'Zen': [(1, 5)], 'ugly': [(3, 26)], 'complex': [(5, 23)], 'Simple': [(5, 1)], 'Sparse': [(8, 1)], 'complicated': [(6, 24)], 'than': [(3, 21), (4, 20), (5, 18), (6, 19), (7, 16)], 'by': [(1, 20)]}\n",
      "is\n",
      "setdefault: [(3, 11), (4, 10), (5, 8), (6, 9), (7, 6)]\n",
      "{'Complex': [(6, 1)], 'of': [(1, 9)], 'Peters': [(1, 27)], 'Python': [(1, 12)], 'Tim': [(1, 23)], 'The': [(1, 1)], 'implicit': [(4, 25)], 'nested': [(7, 21)], 'Explicit': [(4, 1)], 'is': [(3, 11), (4, 10), (5, 8), (6, 9), (7, 6), (8, 8)], 'better': [(3, 14), (4, 13), (5, 11), (6, 12), (7, 9)], 'Beautiful': [(3, 1)], 'Flat': [(7, 1)], 'Zen': [(1, 5)], 'ugly': [(3, 26)], 'complex': [(5, 23)], 'Simple': [(5, 1)], 'Sparse': [(8, 1)], 'complicated': [(6, 24)], 'than': [(3, 21), (4, 20), (5, 18), (6, 19), (7, 16)], 'by': [(1, 20)]}\n",
      "better\n",
      "setdefault: [(3, 14), (4, 13), (5, 11), (6, 12), (7, 9)]\n",
      "{'Complex': [(6, 1)], 'of': [(1, 9)], 'Peters': [(1, 27)], 'Python': [(1, 12)], 'Tim': [(1, 23)], 'The': [(1, 1)], 'implicit': [(4, 25)], 'nested': [(7, 21)], 'Explicit': [(4, 1)], 'is': [(3, 11), (4, 10), (5, 8), (6, 9), (7, 6), (8, 8)], 'better': [(3, 14), (4, 13), (5, 11), (6, 12), (7, 9), (8, 11)], 'Beautiful': [(3, 1)], 'Flat': [(7, 1)], 'Zen': [(1, 5)], 'ugly': [(3, 26)], 'complex': [(5, 23)], 'Simple': [(5, 1)], 'Sparse': [(8, 1)], 'complicated': [(6, 24)], 'than': [(3, 21), (4, 20), (5, 18), (6, 19), (7, 16)], 'by': [(1, 20)]}\n",
      "than\n",
      "setdefault: [(3, 21), (4, 20), (5, 18), (6, 19), (7, 16)]\n",
      "{'Complex': [(6, 1)], 'of': [(1, 9)], 'Peters': [(1, 27)], 'Python': [(1, 12)], 'Tim': [(1, 23)], 'The': [(1, 1)], 'implicit': [(4, 25)], 'nested': [(7, 21)], 'Explicit': [(4, 1)], 'is': [(3, 11), (4, 10), (5, 8), (6, 9), (7, 6), (8, 8)], 'better': [(3, 14), (4, 13), (5, 11), (6, 12), (7, 9), (8, 11)], 'Beautiful': [(3, 1)], 'Flat': [(7, 1)], 'Zen': [(1, 5)], 'ugly': [(3, 26)], 'complex': [(5, 23)], 'Simple': [(5, 1)], 'Sparse': [(8, 1)], 'complicated': [(6, 24)], 'than': [(3, 21), (4, 20), (5, 18), (6, 19), (7, 16), (8, 18)], 'by': [(1, 20)]}\n",
      "dense\n",
      "setdefault: []\n",
      "{'Peters': [(1, 27)], 'by': [(1, 20)], 'nested': [(7, 21)], 'Explicit': [(4, 1)], 'of': [(1, 9)], 'complex': [(5, 23)], 'Sparse': [(8, 1)], 'ugly': [(3, 26)], 'Complex': [(6, 1)], 'Python': [(1, 12)], 'Tim': [(1, 23)], 'The': [(1, 1)], 'implicit': [(4, 25)], 'dense': [(8, 23)], 'is': [(3, 11), (4, 10), (5, 8), (6, 9), (7, 6), (8, 8)], 'better': [(3, 14), (4, 13), (5, 11), (6, 12), (7, 9), (8, 11)], 'Beautiful': [(3, 1)], 'Zen': [(1, 5)], 'Flat': [(7, 1)], 'complicated': [(6, 24)], 'than': [(3, 21), (4, 20), (5, 18), (6, 19), (7, 16), (8, 18)], 'Simple': [(5, 1)]}\n",
      "Readability\n",
      "setdefault: []\n",
      "{'Peters': [(1, 27)], 'by': [(1, 20)], 'Readability': [(9, 1)], 'nested': [(7, 21)], 'Explicit': [(4, 1)], 'of': [(1, 9)], 'complex': [(5, 23)], 'Sparse': [(8, 1)], 'ugly': [(3, 26)], 'Complex': [(6, 1)], 'Python': [(1, 12)], 'Tim': [(1, 23)], 'The': [(1, 1)], 'implicit': [(4, 25)], 'dense': [(8, 23)], 'is': [(3, 11), (4, 10), (5, 8), (6, 9), (7, 6), (8, 8)], 'better': [(3, 14), (4, 13), (5, 11), (6, 12), (7, 9), (8, 11)], 'Beautiful': [(3, 1)], 'Zen': [(1, 5)], 'Flat': [(7, 1)], 'complicated': [(6, 24)], 'than': [(3, 21), (4, 20), (5, 18), (6, 19), (7, 16), (8, 18)], 'Simple': [(5, 1)]}\n",
      "counts\n",
      "setdefault: []\n",
      "{'Peters': [(1, 27)], 'by': [(1, 20)], 'Readability': [(9, 1)], 'nested': [(7, 21)], 'Explicit': [(4, 1)], 'of': [(1, 9)], 'complex': [(5, 23)], 'Sparse': [(8, 1)], 'ugly': [(3, 26)], 'Complex': [(6, 1)], 'counts': [(9, 13)], 'Python': [(1, 12)], 'Tim': [(1, 23)], 'The': [(1, 1)], 'implicit': [(4, 25)], 'dense': [(8, 23)], 'is': [(3, 11), (4, 10), (5, 8), (6, 9), (7, 6), (8, 8)], 'better': [(3, 14), (4, 13), (5, 11), (6, 12), (7, 9), (8, 11)], 'Beautiful': [(3, 1)], 'Zen': [(1, 5)], 'Flat': [(7, 1)], 'complicated': [(6, 24)], 'than': [(3, 21), (4, 20), (5, 18), (6, 19), (7, 16), (8, 18)], 'Simple': [(5, 1)]}\n",
      "Special\n",
      "setdefault: []\n",
      "{'Peters': [(1, 27)], 'by': [(1, 20)], 'Readability': [(9, 1)], 'nested': [(7, 21)], 'Explicit': [(4, 1)], 'of': [(1, 9)], 'complex': [(5, 23)], 'Sparse': [(8, 1)], 'ugly': [(3, 26)], 'Complex': [(6, 1)], 'counts': [(9, 13)], 'Python': [(1, 12)], 'Tim': [(1, 23)], 'The': [(1, 1)], 'implicit': [(4, 25)], 'dense': [(8, 23)], 'is': [(3, 11), (4, 10), (5, 8), (6, 9), (7, 6), (8, 8)], 'better': [(3, 14), (4, 13), (5, 11), (6, 12), (7, 9), (8, 11)], 'Beautiful': [(3, 1)], 'Zen': [(1, 5)], 'Flat': [(7, 1)], 'Special': [(10, 1)], 'complicated': [(6, 24)], 'than': [(3, 21), (4, 20), (5, 18), (6, 19), (7, 16), (8, 18)], 'Simple': [(5, 1)]}\n",
      "cases\n",
      "setdefault: []\n",
      "{'Peters': [(1, 27)], 'by': [(1, 20)], 'cases': [(10, 9)], 'Readability': [(9, 1)], 'nested': [(7, 21)], 'Explicit': [(4, 1)], 'of': [(1, 9)], 'complex': [(5, 23)], 'Sparse': [(8, 1)], 'ugly': [(3, 26)], 'Complex': [(6, 1)], 'counts': [(9, 13)], 'Python': [(1, 12)], 'Tim': [(1, 23)], 'The': [(1, 1)], 'implicit': [(4, 25)], 'dense': [(8, 23)], 'is': [(3, 11), (4, 10), (5, 8), (6, 9), (7, 6), (8, 8)], 'better': [(3, 14), (4, 13), (5, 11), (6, 12), (7, 9), (8, 11)], 'Beautiful': [(3, 1)], 'Zen': [(1, 5)], 'Flat': [(7, 1)], 'Special': [(10, 1)], 'complicated': [(6, 24)], 'than': [(3, 21), (4, 20), (5, 18), (6, 19), (7, 16), (8, 18)], 'Simple': [(5, 1)]}\n",
      "aren\n",
      "setdefault: []\n",
      "{'Peters': [(1, 27)], 'by': [(1, 20)], 'cases': [(10, 9)], 'Readability': [(9, 1)], 'aren': [(10, 15)], 'nested': [(7, 21)], 'Explicit': [(4, 1)], 'of': [(1, 9)], 'complex': [(5, 23)], 'Sparse': [(8, 1)], 'ugly': [(3, 26)], 'Complex': [(6, 1)], 'counts': [(9, 13)], 'Python': [(1, 12)], 'Tim': [(1, 23)], 'The': [(1, 1)], 'implicit': [(4, 25)], 'dense': [(8, 23)], 'is': [(3, 11), (4, 10), (5, 8), (6, 9), (7, 6), (8, 8)], 'better': [(3, 14), (4, 13), (5, 11), (6, 12), (7, 9), (8, 11)], 'Beautiful': [(3, 1)], 'Zen': [(1, 5)], 'Flat': [(7, 1)], 'Special': [(10, 1)], 'complicated': [(6, 24)], 'than': [(3, 21), (4, 20), (5, 18), (6, 19), (7, 16), (8, 18)], 'Simple': [(5, 1)]}\n",
      "t\n",
      "setdefault: []\n",
      "{'Peters': [(1, 27)], 'by': [(1, 20)], 'cases': [(10, 9)], 'Readability': [(9, 1)], 'aren': [(10, 15)], 'nested': [(7, 21)], 'Explicit': [(4, 1)], 'of': [(1, 9)], 'complex': [(5, 23)], 'Sparse': [(8, 1)], 'ugly': [(3, 26)], 'Complex': [(6, 1)], 'counts': [(9, 13)], 'Python': [(1, 12)], 'Tim': [(1, 23)], 'The': [(1, 1)], 't': [(10, 20)], 'implicit': [(4, 25)], 'dense': [(8, 23)], 'is': [(3, 11), (4, 10), (5, 8), (6, 9), (7, 6), (8, 8)], 'better': [(3, 14), (4, 13), (5, 11), (6, 12), (7, 9), (8, 11)], 'Beautiful': [(3, 1)], 'Zen': [(1, 5)], 'Flat': [(7, 1)], 'Special': [(10, 1)], 'complicated': [(6, 24)], 'than': [(3, 21), (4, 20), (5, 18), (6, 19), (7, 16), (8, 18)], 'Simple': [(5, 1)]}\n",
      "special\n",
      "setdefault: []\n",
      "{'Peters': [(1, 27)], 'by': [(1, 20)], 'cases': [(10, 9)], 'Readability': [(9, 1)], 'aren': [(10, 15)], 'nested': [(7, 21)], 'Explicit': [(4, 1)], 'of': [(1, 9)], 'complex': [(5, 23)], 'Sparse': [(8, 1)], 'ugly': [(3, 26)], 'special': [(10, 22)], 'Complex': [(6, 1)], 'counts': [(9, 13)], 'Python': [(1, 12)], 'Tim': [(1, 23)], 'The': [(1, 1)], 't': [(10, 20)], 'implicit': [(4, 25)], 'dense': [(8, 23)], 'is': [(3, 11), (4, 10), (5, 8), (6, 9), (7, 6), (8, 8)], 'better': [(3, 14), (4, 13), (5, 11), (6, 12), (7, 9), (8, 11)], 'Beautiful': [(3, 1)], 'Zen': [(1, 5)], 'Flat': [(7, 1)], 'Special': [(10, 1)], 'complicated': [(6, 24)], 'than': [(3, 21), (4, 20), (5, 18), (6, 19), (7, 16), (8, 18)], 'Simple': [(5, 1)]}\n",
      "enough\n",
      "setdefault: []\n",
      "{'Peters': [(1, 27)], 'by': [(1, 20)], 'cases': [(10, 9)], 'Readability': [(9, 1)], 'aren': [(10, 15)], 'nested': [(7, 21)], 'Explicit': [(4, 1)], 'of': [(1, 9)], 'complex': [(5, 23)], 'Sparse': [(8, 1)], 'ugly': [(3, 26)], 'special': [(10, 22)], 'Complex': [(6, 1)], 'counts': [(9, 13)], 'Python': [(1, 12)], 'Tim': [(1, 23)], 'The': [(1, 1)], 't': [(10, 20)], 'implicit': [(4, 25)], 'dense': [(8, 23)], 'enough': [(10, 30)], 'is': [(3, 11), (4, 10), (5, 8), (6, 9), (7, 6), (8, 8)], 'better': [(3, 14), (4, 13), (5, 11), (6, 12), (7, 9), (8, 11)], 'Beautiful': [(3, 1)], 'Zen': [(1, 5)], 'Flat': [(7, 1)], 'Special': [(10, 1)], 'complicated': [(6, 24)], 'than': [(3, 21), (4, 20), (5, 18), (6, 19), (7, 16), (8, 18)], 'Simple': [(5, 1)]}\n",
      "to\n",
      "setdefault: []\n",
      "{'Peters': [(1, 27)], 'by': [(1, 20)], 'cases': [(10, 9)], 'to': [(10, 37)], 'Readability': [(9, 1)], 'aren': [(10, 15)], 'nested': [(7, 21)], 'Explicit': [(4, 1)], 'of': [(1, 9)], 'complex': [(5, 23)], 'Sparse': [(8, 1)], 'ugly': [(3, 26)], 'special': [(10, 22)], 'Complex': [(6, 1)], 'counts': [(9, 13)], 'Python': [(1, 12)], 'Tim': [(1, 23)], 'The': [(1, 1)], 't': [(10, 20)], 'implicit': [(4, 25)], 'dense': [(8, 23)], 'enough': [(10, 30)], 'is': [(3, 11), (4, 10), (5, 8), (6, 9), (7, 6), (8, 8)], 'better': [(3, 14), (4, 13), (5, 11), (6, 12), (7, 9), (8, 11)], 'Beautiful': [(3, 1)], 'Zen': [(1, 5)], 'Flat': [(7, 1)], 'Special': [(10, 1)], 'complicated': [(6, 24)], 'than': [(3, 21), (4, 20), (5, 18), (6, 19), (7, 16), (8, 18)], 'Simple': [(5, 1)]}\n",
      "break\n",
      "setdefault: []\n",
      "{'Peters': [(1, 27)], 'by': [(1, 20)], 'cases': [(10, 9)], 'to': [(10, 37)], 'Readability': [(9, 1)], 'aren': [(10, 15)], 'nested': [(7, 21)], 'Explicit': [(4, 1)], 'of': [(1, 9)], 'complex': [(5, 23)], 'Sparse': [(8, 1)], 'ugly': [(3, 26)], 'special': [(10, 22)], 'Complex': [(6, 1)], 'counts': [(9, 13)], 'Python': [(1, 12)], 'break': [(10, 40)], 'Tim': [(1, 23)], 'The': [(1, 1)], 't': [(10, 20)], 'implicit': [(4, 25)], 'dense': [(8, 23)], 'enough': [(10, 30)], 'is': [(3, 11), (4, 10), (5, 8), (6, 9), (7, 6), (8, 8)], 'better': [(3, 14), (4, 13), (5, 11), (6, 12), (7, 9), (8, 11)], 'Beautiful': [(3, 1)], 'Zen': [(1, 5)], 'Flat': [(7, 1)], 'Special': [(10, 1)], 'complicated': [(6, 24)], 'than': [(3, 21), (4, 20), (5, 18), (6, 19), (7, 16), (8, 18)], 'Simple': [(5, 1)]}\n",
      "the\n",
      "setdefault: []\n",
      "{'Peters': [(1, 27)], 'by': [(1, 20)], 'cases': [(10, 9)], 'to': [(10, 37)], 'Readability': [(9, 1)], 'aren': [(10, 15)], 'the': [(10, 46)], 'nested': [(7, 21)], 'Explicit': [(4, 1)], 'of': [(1, 9)], 'complex': [(5, 23)], 'Sparse': [(8, 1)], 'ugly': [(3, 26)], 'special': [(10, 22)], 'Complex': [(6, 1)], 'counts': [(9, 13)], 'Python': [(1, 12)], 'break': [(10, 40)], 'Tim': [(1, 23)], 'The': [(1, 1)], 't': [(10, 20)], 'implicit': [(4, 25)], 'dense': [(8, 23)], 'enough': [(10, 30)], 'is': [(3, 11), (4, 10), (5, 8), (6, 9), (7, 6), (8, 8)], 'better': [(3, 14), (4, 13), (5, 11), (6, 12), (7, 9), (8, 11)], 'Beautiful': [(3, 1)], 'Zen': [(1, 5)], 'Flat': [(7, 1)], 'Special': [(10, 1)], 'complicated': [(6, 24)], 'than': [(3, 21), (4, 20), (5, 18), (6, 19), (7, 16), (8, 18)], 'Simple': [(5, 1)]}\n",
      "rules\n",
      "setdefault: []\n",
      "{'Peters': [(1, 27)], 'by': [(1, 20)], 'cases': [(10, 9)], 'to': [(10, 37)], 'Readability': [(9, 1)], 'aren': [(10, 15)], 'the': [(10, 46)], 'nested': [(7, 21)], 'Explicit': [(4, 1)], 'of': [(1, 9)], 'complex': [(5, 23)], 'Sparse': [(8, 1)], 'ugly': [(3, 26)], 'special': [(10, 22)], 'Complex': [(6, 1)], 'counts': [(9, 13)], 'Python': [(1, 12)], 'break': [(10, 40)], 'Tim': [(1, 23)], 'The': [(1, 1)], 't': [(10, 20)], 'implicit': [(4, 25)], 'rules': [(10, 50)], 'dense': [(8, 23)], 'enough': [(10, 30)], 'is': [(3, 11), (4, 10), (5, 8), (6, 9), (7, 6), (8, 8)], 'better': [(3, 14), (4, 13), (5, 11), (6, 12), (7, 9), (8, 11)], 'Beautiful': [(3, 1)], 'Zen': [(1, 5)], 'Flat': [(7, 1)], 'Special': [(10, 1)], 'complicated': [(6, 24)], 'than': [(3, 21), (4, 20), (5, 18), (6, 19), (7, 16), (8, 18)], 'Simple': [(5, 1)]}\n",
      "Although\n",
      "setdefault: []\n",
      "{'Peters': [(1, 27)], 'by': [(1, 20)], 'cases': [(10, 9)], 'to': [(10, 37)], 'Readability': [(9, 1)], 'aren': [(10, 15)], 'the': [(10, 46)], 'nested': [(7, 21)], 'Explicit': [(4, 1)], 'of': [(1, 9)], 'complex': [(5, 23)], 'Sparse': [(8, 1)], 'Although': [(11, 1)], 'ugly': [(3, 26)], 'special': [(10, 22)], 'Complex': [(6, 1)], 'counts': [(9, 13)], 'Python': [(1, 12)], 'break': [(10, 40)], 'Tim': [(1, 23)], 'The': [(1, 1)], 't': [(10, 20)], 'implicit': [(4, 25)], 'rules': [(10, 50)], 'dense': [(8, 23)], 'enough': [(10, 30)], 'is': [(3, 11), (4, 10), (5, 8), (6, 9), (7, 6), (8, 8)], 'better': [(3, 14), (4, 13), (5, 11), (6, 12), (7, 9), (8, 11)], 'Beautiful': [(3, 1)], 'Zen': [(1, 5)], 'Flat': [(7, 1)], 'Special': [(10, 1)], 'complicated': [(6, 24)], 'than': [(3, 21), (4, 20), (5, 18), (6, 19), (7, 16), (8, 18)], 'Simple': [(5, 1)]}\n",
      "practicality\n",
      "setdefault: []\n",
      "{'Peters': [(1, 27)], 'by': [(1, 20)], 'cases': [(10, 9)], 'to': [(10, 37)], 'Readability': [(9, 1)], 'aren': [(10, 15)], 'the': [(10, 46)], 'nested': [(7, 21)], 'Explicit': [(4, 1)], 'of': [(1, 9)], 'complex': [(5, 23)], 'practicality': [(11, 10)], 'Sparse': [(8, 1)], 'Although': [(11, 1)], 'ugly': [(3, 26)], 'special': [(10, 22)], 'Complex': [(6, 1)], 'counts': [(9, 13)], 'Python': [(1, 12)], 'break': [(10, 40)], 'Tim': [(1, 23)], 'The': [(1, 1)], 't': [(10, 20)], 'implicit': [(4, 25)], 'rules': [(10, 50)], 'dense': [(8, 23)], 'enough': [(10, 30)], 'is': [(3, 11), (4, 10), (5, 8), (6, 9), (7, 6), (8, 8)], 'better': [(3, 14), (4, 13), (5, 11), (6, 12), (7, 9), (8, 11)], 'Beautiful': [(3, 1)], 'Zen': [(1, 5)], 'Flat': [(7, 1)], 'Special': [(10, 1)], 'complicated': [(6, 24)], 'than': [(3, 21), (4, 20), (5, 18), (6, 19), (7, 16), (8, 18)], 'Simple': [(5, 1)]}\n",
      "beats\n",
      "setdefault: []\n",
      "{'beats': [(11, 23)], 'Peters': [(1, 27)], 'by': [(1, 20)], 'cases': [(10, 9)], 'to': [(10, 37)], 'Readability': [(9, 1)], 'aren': [(10, 15)], 'the': [(10, 46)], 'nested': [(7, 21)], 'Explicit': [(4, 1)], 'of': [(1, 9)], 'complex': [(5, 23)], 'practicality': [(11, 10)], 'Sparse': [(8, 1)], 'Although': [(11, 1)], 'ugly': [(3, 26)], 'special': [(10, 22)], 'Complex': [(6, 1)], 'counts': [(9, 13)], 'Python': [(1, 12)], 'break': [(10, 40)], 'Tim': [(1, 23)], 'The': [(1, 1)], 't': [(10, 20)], 'implicit': [(4, 25)], 'rules': [(10, 50)], 'dense': [(8, 23)], 'enough': [(10, 30)], 'is': [(3, 11), (4, 10), (5, 8), (6, 9), (7, 6), (8, 8)], 'better': [(3, 14), (4, 13), (5, 11), (6, 12), (7, 9), (8, 11)], 'Beautiful': [(3, 1)], 'Zen': [(1, 5)], 'Flat': [(7, 1)], 'Special': [(10, 1)], 'complicated': [(6, 24)], 'than': [(3, 21), (4, 20), (5, 18), (6, 19), (7, 16), (8, 18)], 'Simple': [(5, 1)]}\n",
      "purity\n",
      "setdefault: []\n",
      "{'beats': [(11, 23)], 'Peters': [(1, 27)], 'by': [(1, 20)], 'cases': [(10, 9)], 'purity': [(11, 29)], 'to': [(10, 37)], 'Readability': [(9, 1)], 'aren': [(10, 15)], 'the': [(10, 46)], 'nested': [(7, 21)], 'Explicit': [(4, 1)], 'of': [(1, 9)], 'complex': [(5, 23)], 'practicality': [(11, 10)], 'Sparse': [(8, 1)], 'Although': [(11, 1)], 'ugly': [(3, 26)], 'special': [(10, 22)], 'Complex': [(6, 1)], 'counts': [(9, 13)], 'Python': [(1, 12)], 'break': [(10, 40)], 'Tim': [(1, 23)], 'The': [(1, 1)], 't': [(10, 20)], 'implicit': [(4, 25)], 'rules': [(10, 50)], 'dense': [(8, 23)], 'enough': [(10, 30)], 'is': [(3, 11), (4, 10), (5, 8), (6, 9), (7, 6), (8, 8)], 'better': [(3, 14), (4, 13), (5, 11), (6, 12), (7, 9), (8, 11)], 'Beautiful': [(3, 1)], 'Zen': [(1, 5)], 'Flat': [(7, 1)], 'Special': [(10, 1)], 'complicated': [(6, 24)], 'than': [(3, 21), (4, 20), (5, 18), (6, 19), (7, 16), (8, 18)], 'Simple': [(5, 1)]}\n",
      "Errors\n",
      "setdefault: []\n",
      "{'beats': [(11, 23)], 'Peters': [(1, 27)], 'by': [(1, 20)], 'cases': [(10, 9)], 'purity': [(11, 29)], 'to': [(10, 37)], 'Readability': [(9, 1)], 'aren': [(10, 15)], 'the': [(10, 46)], 'nested': [(7, 21)], 'Explicit': [(4, 1)], 'of': [(1, 9)], 'complex': [(5, 23)], 'practicality': [(11, 10)], 'Sparse': [(8, 1)], 'Although': [(11, 1)], 'ugly': [(3, 26)], 'special': [(10, 22)], 'Complex': [(6, 1)], 'counts': [(9, 13)], 'Python': [(1, 12)], 'break': [(10, 40)], 'Tim': [(1, 23)], 'The': [(1, 1)], 't': [(10, 20)], 'implicit': [(4, 25)], 'rules': [(10, 50)], 'dense': [(8, 23)], 'enough': [(10, 30)], 'is': [(3, 11), (4, 10), (5, 8), (6, 9), (7, 6), (8, 8)], 'better': [(3, 14), (4, 13), (5, 11), (6, 12), (7, 9), (8, 11)], 'Beautiful': [(3, 1)], 'Errors': [(12, 1)], 'Zen': [(1, 5)], 'Flat': [(7, 1)], 'Special': [(10, 1)], 'complicated': [(6, 24)], 'than': [(3, 21), (4, 20), (5, 18), (6, 19), (7, 16), (8, 18)], 'Simple': [(5, 1)]}\n",
      "should\n",
      "setdefault: []\n",
      "{'beats': [(11, 23)], 'Peters': [(1, 27)], 'by': [(1, 20)], 'cases': [(10, 9)], 'purity': [(11, 29)], 'to': [(10, 37)], 'Readability': [(9, 1)], 'aren': [(10, 15)], 'the': [(10, 46)], 'nested': [(7, 21)], 'Explicit': [(4, 1)], 'of': [(1, 9)], 'complex': [(5, 23)], 'practicality': [(11, 10)], 'should': [(12, 8)], 'Sparse': [(8, 1)], 'Although': [(11, 1)], 'ugly': [(3, 26)], 'special': [(10, 22)], 'Complex': [(6, 1)], 'counts': [(9, 13)], 'Python': [(1, 12)], 'break': [(10, 40)], 'Tim': [(1, 23)], 'The': [(1, 1)], 't': [(10, 20)], 'implicit': [(4, 25)], 'rules': [(10, 50)], 'dense': [(8, 23)], 'enough': [(10, 30)], 'is': [(3, 11), (4, 10), (5, 8), (6, 9), (7, 6), (8, 8)], 'better': [(3, 14), (4, 13), (5, 11), (6, 12), (7, 9), (8, 11)], 'Beautiful': [(3, 1)], 'Errors': [(12, 1)], 'Zen': [(1, 5)], 'Flat': [(7, 1)], 'Special': [(10, 1)], 'complicated': [(6, 24)], 'than': [(3, 21), (4, 20), (5, 18), (6, 19), (7, 16), (8, 18)], 'Simple': [(5, 1)]}\n",
      "never\n",
      "setdefault: []\n",
      "{'beats': [(11, 23)], 'Peters': [(1, 27)], 'by': [(1, 20)], 'cases': [(10, 9)], 'purity': [(11, 29)], 'to': [(10, 37)], 'Readability': [(9, 1)], 'aren': [(10, 15)], 'the': [(10, 46)], 'nested': [(7, 21)], 'Explicit': [(4, 1)], 'of': [(1, 9)], 'complex': [(5, 23)], 'never': [(12, 15)], 'practicality': [(11, 10)], 'should': [(12, 8)], 'Sparse': [(8, 1)], 'Although': [(11, 1)], 'ugly': [(3, 26)], 'special': [(10, 22)], 'Complex': [(6, 1)], 'counts': [(9, 13)], 'Python': [(1, 12)], 'break': [(10, 40)], 'Tim': [(1, 23)], 'The': [(1, 1)], 't': [(10, 20)], 'implicit': [(4, 25)], 'rules': [(10, 50)], 'dense': [(8, 23)], 'enough': [(10, 30)], 'is': [(3, 11), (4, 10), (5, 8), (6, 9), (7, 6), (8, 8)], 'better': [(3, 14), (4, 13), (5, 11), (6, 12), (7, 9), (8, 11)], 'Beautiful': [(3, 1)], 'Errors': [(12, 1)], 'Zen': [(1, 5)], 'Flat': [(7, 1)], 'Special': [(10, 1)], 'complicated': [(6, 24)], 'than': [(3, 21), (4, 20), (5, 18), (6, 19), (7, 16), (8, 18)], 'Simple': [(5, 1)]}\n",
      "pass\n",
      "setdefault: []\n",
      "{'beats': [(11, 23)], 'Peters': [(1, 27)], 'by': [(1, 20)], 'cases': [(10, 9)], 'purity': [(11, 29)], 'to': [(10, 37)], 'Readability': [(9, 1)], 'aren': [(10, 15)], 'the': [(10, 46)], 'nested': [(7, 21)], 'Explicit': [(4, 1)], 'of': [(1, 9)], 'complex': [(5, 23)], 'never': [(12, 15)], 'practicality': [(11, 10)], 'should': [(12, 8)], 'Sparse': [(8, 1)], 'Although': [(11, 1)], 'ugly': [(3, 26)], 'special': [(10, 22)], 'Complex': [(6, 1)], 'counts': [(9, 13)], 'Python': [(1, 12)], 'break': [(10, 40)], 'Tim': [(1, 23)], 'The': [(1, 1)], 't': [(10, 20)], 'implicit': [(4, 25)], 'rules': [(10, 50)], 'dense': [(8, 23)], 'enough': [(10, 30)], 'is': [(3, 11), (4, 10), (5, 8), (6, 9), (7, 6), (8, 8)], 'better': [(3, 14), (4, 13), (5, 11), (6, 12), (7, 9), (8, 11)], 'Beautiful': [(3, 1)], 'Errors': [(12, 1)], 'Zen': [(1, 5)], 'Flat': [(7, 1)], 'pass': [(12, 21)], 'Special': [(10, 1)], 'complicated': [(6, 24)], 'than': [(3, 21), (4, 20), (5, 18), (6, 19), (7, 16), (8, 18)], 'Simple': [(5, 1)]}\n",
      "silently\n",
      "setdefault: []\n",
      "{'beats': [(11, 23)], 'Peters': [(1, 27)], 'by': [(1, 20)], 'cases': [(10, 9)], 'purity': [(11, 29)], 'to': [(10, 37)], 'Readability': [(9, 1)], 'aren': [(10, 15)], 'the': [(10, 46)], 'nested': [(7, 21)], 'Explicit': [(4, 1)], 'of': [(1, 9)], 'complex': [(5, 23)], 'never': [(12, 15)], 'practicality': [(11, 10)], 'should': [(12, 8)], 'Sparse': [(8, 1)], 'Although': [(11, 1)], 'ugly': [(3, 26)], 'special': [(10, 22)], 'Complex': [(6, 1)], 'counts': [(9, 13)], 'Python': [(1, 12)], 'break': [(10, 40)], 'Tim': [(1, 23)], 'The': [(1, 1)], 't': [(10, 20)], 'implicit': [(4, 25)], 'rules': [(10, 50)], 'dense': [(8, 23)], 'enough': [(10, 30)], 'is': [(3, 11), (4, 10), (5, 8), (6, 9), (7, 6), (8, 8)], 'better': [(3, 14), (4, 13), (5, 11), (6, 12), (7, 9), (8, 11)], 'Beautiful': [(3, 1)], 'Errors': [(12, 1)], 'Zen': [(1, 5)], 'Flat': [(7, 1)], 'silently': [(12, 26)], 'pass': [(12, 21)], 'Special': [(10, 1)], 'complicated': [(6, 24)], 'than': [(3, 21), (4, 20), (5, 18), (6, 19), (7, 16), (8, 18)], 'Simple': [(5, 1)]}\n",
      "Unless\n",
      "setdefault: []\n",
      "{'pass': [(12, 21)], 'implicit': [(4, 25)], 'the': [(10, 46)], 'Readability': [(9, 1)], 'to': [(10, 37)], 'never': [(12, 15)], 'practicality': [(11, 10)], 'should': [(12, 8)], 'Unless': [(13, 1)], 'silently': [(12, 26)], 'Errors': [(12, 1)], 'Python': [(1, 12)], 'break': [(10, 40)], 'Tim': [(1, 23)], 'cases': [(10, 9)], 'dense': [(8, 23)], 'ugly': [(3, 26)], 'Zen': [(1, 5)], 'aren': [(10, 15)], 'Special': [(10, 1)], 'by': [(1, 20)], 'beats': [(11, 23)], 'Peters': [(1, 27)], 'special': [(10, 22)], 'purity': [(11, 29)], 'Flat': [(7, 1)], 'nested': [(7, 21)], 'Explicit': [(4, 1)], 'of': [(1, 9)], 'Beautiful': [(3, 1)], 'complex': [(5, 23)], 'Sparse': [(8, 1)], 'Complex': [(6, 1)], 'counts': [(9, 13)], 'The': [(1, 1)], 't': [(10, 20)], 'rules': [(10, 50)], 'complicated': [(6, 24)], 'is': [(3, 11), (4, 10), (5, 8), (6, 9), (7, 6), (8, 8)], 'better': [(3, 14), (4, 13), (5, 11), (6, 12), (7, 9), (8, 11)], 'Although': [(11, 1)], 'enough': [(10, 30)], 'than': [(3, 21), (4, 20), (5, 18), (6, 19), (7, 16), (8, 18)], 'Simple': [(5, 1)]}\n",
      "explicitly\n",
      "setdefault: []\n",
      "{'pass': [(12, 21)], 'implicit': [(4, 25)], 'the': [(10, 46)], 'Readability': [(9, 1)], 'to': [(10, 37)], 'never': [(12, 15)], 'practicality': [(11, 10)], 'should': [(12, 8)], 'Unless': [(13, 1)], 'silently': [(12, 26)], 'Errors': [(12, 1)], 'Python': [(1, 12)], 'break': [(10, 40)], 'Tim': [(1, 23)], 'cases': [(10, 9)], 'dense': [(8, 23)], 'ugly': [(3, 26)], 'Zen': [(1, 5)], 'aren': [(10, 15)], 'Special': [(10, 1)], 'by': [(1, 20)], 'beats': [(11, 23)], 'Peters': [(1, 27)], 'special': [(10, 22)], 'purity': [(11, 29)], 'Flat': [(7, 1)], 'nested': [(7, 21)], 'Explicit': [(4, 1)], 'of': [(1, 9)], 'Beautiful': [(3, 1)], 'complex': [(5, 23)], 'Sparse': [(8, 1)], 'Complex': [(6, 1)], 'counts': [(9, 13)], 'The': [(1, 1)], 't': [(10, 20)], 'rules': [(10, 50)], 'complicated': [(6, 24)], 'is': [(3, 11), (4, 10), (5, 8), (6, 9), (7, 6), (8, 8)], 'better': [(3, 14), (4, 13), (5, 11), (6, 12), (7, 9), (8, 11)], 'Although': [(11, 1)], 'explicitly': [(13, 8)], 'enough': [(10, 30)], 'than': [(3, 21), (4, 20), (5, 18), (6, 19), (7, 16), (8, 18)], 'Simple': [(5, 1)]}\n",
      "silenced\n",
      "setdefault: []\n",
      "{'pass': [(12, 21)], 'implicit': [(4, 25)], 'silenced': [(13, 19)], 'the': [(10, 46)], 'Readability': [(9, 1)], 'to': [(10, 37)], 'never': [(12, 15)], 'practicality': [(11, 10)], 'should': [(12, 8)], 'Unless': [(13, 1)], 'silently': [(12, 26)], 'Errors': [(12, 1)], 'Python': [(1, 12)], 'break': [(10, 40)], 'Tim': [(1, 23)], 'cases': [(10, 9)], 'dense': [(8, 23)], 'ugly': [(3, 26)], 'Zen': [(1, 5)], 'aren': [(10, 15)], 'Special': [(10, 1)], 'by': [(1, 20)], 'beats': [(11, 23)], 'Peters': [(1, 27)], 'special': [(10, 22)], 'purity': [(11, 29)], 'Flat': [(7, 1)], 'nested': [(7, 21)], 'Explicit': [(4, 1)], 'of': [(1, 9)], 'Beautiful': [(3, 1)], 'complex': [(5, 23)], 'Sparse': [(8, 1)], 'Complex': [(6, 1)], 'counts': [(9, 13)], 'The': [(1, 1)], 't': [(10, 20)], 'rules': [(10, 50)], 'complicated': [(6, 24)], 'is': [(3, 11), (4, 10), (5, 8), (6, 9), (7, 6), (8, 8)], 'better': [(3, 14), (4, 13), (5, 11), (6, 12), (7, 9), (8, 11)], 'Although': [(11, 1)], 'explicitly': [(13, 8)], 'enough': [(10, 30)], 'than': [(3, 21), (4, 20), (5, 18), (6, 19), (7, 16), (8, 18)], 'Simple': [(5, 1)]}\n",
      "In\n",
      "setdefault: []\n",
      "{'pass': [(12, 21)], 'implicit': [(4, 25)], 'silenced': [(13, 19)], 'the': [(10, 46)], 'Readability': [(9, 1)], 'to': [(10, 37)], 'never': [(12, 15)], 'practicality': [(11, 10)], 'should': [(12, 8)], 'Unless': [(13, 1)], 'silently': [(12, 26)], 'Errors': [(12, 1)], 'Python': [(1, 12)], 'break': [(10, 40)], 'Tim': [(1, 23)], 'cases': [(10, 9)], 'dense': [(8, 23)], 'ugly': [(3, 26)], 'Zen': [(1, 5)], 'aren': [(10, 15)], 'Special': [(10, 1)], 'by': [(1, 20)], 'beats': [(11, 23)], 'Peters': [(1, 27)], 'special': [(10, 22)], 'purity': [(11, 29)], 'Flat': [(7, 1)], 'nested': [(7, 21)], 'Explicit': [(4, 1)], 'of': [(1, 9)], 'Beautiful': [(3, 1)], 'complex': [(5, 23)], 'Sparse': [(8, 1)], 'Complex': [(6, 1)], 'counts': [(9, 13)], 'The': [(1, 1)], 't': [(10, 20)], 'rules': [(10, 50)], 'In': [(14, 1)], 'complicated': [(6, 24)], 'is': [(3, 11), (4, 10), (5, 8), (6, 9), (7, 6), (8, 8)], 'better': [(3, 14), (4, 13), (5, 11), (6, 12), (7, 9), (8, 11)], 'Although': [(11, 1)], 'explicitly': [(13, 8)], 'enough': [(10, 30)], 'than': [(3, 21), (4, 20), (5, 18), (6, 19), (7, 16), (8, 18)], 'Simple': [(5, 1)]}\n",
      "the\n",
      "setdefault: [(10, 46)]\n",
      "{'pass': [(12, 21)], 'implicit': [(4, 25)], 'silenced': [(13, 19)], 'the': [(10, 46), (14, 4)], 'Readability': [(9, 1)], 'to': [(10, 37)], 'never': [(12, 15)], 'practicality': [(11, 10)], 'should': [(12, 8)], 'Unless': [(13, 1)], 'silently': [(12, 26)], 'Errors': [(12, 1)], 'Python': [(1, 12)], 'break': [(10, 40)], 'Tim': [(1, 23)], 'cases': [(10, 9)], 'dense': [(8, 23)], 'ugly': [(3, 26)], 'Zen': [(1, 5)], 'aren': [(10, 15)], 'Special': [(10, 1)], 'by': [(1, 20)], 'beats': [(11, 23)], 'Peters': [(1, 27)], 'special': [(10, 22)], 'purity': [(11, 29)], 'Flat': [(7, 1)], 'nested': [(7, 21)], 'Explicit': [(4, 1)], 'of': [(1, 9)], 'Beautiful': [(3, 1)], 'complex': [(5, 23)], 'Sparse': [(8, 1)], 'Complex': [(6, 1)], 'counts': [(9, 13)], 'The': [(1, 1)], 't': [(10, 20)], 'rules': [(10, 50)], 'In': [(14, 1)], 'complicated': [(6, 24)], 'is': [(3, 11), (4, 10), (5, 8), (6, 9), (7, 6), (8, 8)], 'better': [(3, 14), (4, 13), (5, 11), (6, 12), (7, 9), (8, 11)], 'Although': [(11, 1)], 'explicitly': [(13, 8)], 'enough': [(10, 30)], 'than': [(3, 21), (4, 20), (5, 18), (6, 19), (7, 16), (8, 18)], 'Simple': [(5, 1)]}\n",
      "face\n",
      "setdefault: []\n",
      "{'pass': [(12, 21)], 'implicit': [(4, 25)], 'silenced': [(13, 19)], 'the': [(10, 46), (14, 4)], 'Readability': [(9, 1)], 'to': [(10, 37)], 'never': [(12, 15)], 'practicality': [(11, 10)], 'should': [(12, 8)], 'Unless': [(13, 1)], 'silently': [(12, 26)], 'Errors': [(12, 1)], 'Python': [(1, 12)], 'break': [(10, 40)], 'Tim': [(1, 23)], 'cases': [(10, 9)], 'dense': [(8, 23)], 'ugly': [(3, 26)], 'Zen': [(1, 5)], 'aren': [(10, 15)], 'Special': [(10, 1)], 'by': [(1, 20)], 'beats': [(11, 23)], 'Peters': [(1, 27)], 'special': [(10, 22)], 'purity': [(11, 29)], 'Flat': [(7, 1)], 'nested': [(7, 21)], 'Explicit': [(4, 1)], 'of': [(1, 9)], 'Beautiful': [(3, 1)], 'complex': [(5, 23)], 'Sparse': [(8, 1)], 'Complex': [(6, 1)], 'counts': [(9, 13)], 'The': [(1, 1)], 't': [(10, 20)], 'rules': [(10, 50)], 'In': [(14, 1)], 'complicated': [(6, 24)], 'is': [(3, 11), (4, 10), (5, 8), (6, 9), (7, 6), (8, 8)], 'better': [(3, 14), (4, 13), (5, 11), (6, 12), (7, 9), (8, 11)], 'Although': [(11, 1)], 'explicitly': [(13, 8)], 'face': [(14, 8)], 'enough': [(10, 30)], 'than': [(3, 21), (4, 20), (5, 18), (6, 19), (7, 16), (8, 18)], 'Simple': [(5, 1)]}\n",
      "of\n",
      "setdefault: [(1, 9)]\n",
      "{'pass': [(12, 21)], 'implicit': [(4, 25)], 'silenced': [(13, 19)], 'the': [(10, 46), (14, 4)], 'Readability': [(9, 1)], 'to': [(10, 37)], 'never': [(12, 15)], 'practicality': [(11, 10)], 'should': [(12, 8)], 'Unless': [(13, 1)], 'silently': [(12, 26)], 'Errors': [(12, 1)], 'Python': [(1, 12)], 'break': [(10, 40)], 'Tim': [(1, 23)], 'cases': [(10, 9)], 'dense': [(8, 23)], 'ugly': [(3, 26)], 'Zen': [(1, 5)], 'aren': [(10, 15)], 'Special': [(10, 1)], 'by': [(1, 20)], 'beats': [(11, 23)], 'Peters': [(1, 27)], 'special': [(10, 22)], 'purity': [(11, 29)], 'Flat': [(7, 1)], 'nested': [(7, 21)], 'Explicit': [(4, 1)], 'of': [(1, 9), (14, 13)], 'Beautiful': [(3, 1)], 'complex': [(5, 23)], 'Sparse': [(8, 1)], 'Complex': [(6, 1)], 'counts': [(9, 13)], 'The': [(1, 1)], 't': [(10, 20)], 'rules': [(10, 50)], 'In': [(14, 1)], 'complicated': [(6, 24)], 'is': [(3, 11), (4, 10), (5, 8), (6, 9), (7, 6), (8, 8)], 'better': [(3, 14), (4, 13), (5, 11), (6, 12), (7, 9), (8, 11)], 'Although': [(11, 1)], 'explicitly': [(13, 8)], 'face': [(14, 8)], 'enough': [(10, 30)], 'than': [(3, 21), (4, 20), (5, 18), (6, 19), (7, 16), (8, 18)], 'Simple': [(5, 1)]}\n",
      "ambiguity\n",
      "setdefault: []\n",
      "{'pass': [(12, 21)], 'implicit': [(4, 25)], 'silenced': [(13, 19)], 'the': [(10, 46), (14, 4)], 'Readability': [(9, 1)], 'to': [(10, 37)], 'never': [(12, 15)], 'practicality': [(11, 10)], 'should': [(12, 8)], 'Unless': [(13, 1)], 'silently': [(12, 26)], 'Errors': [(12, 1)], 'Python': [(1, 12)], 'break': [(10, 40)], 'Tim': [(1, 23)], 'cases': [(10, 9)], 'dense': [(8, 23)], 'ugly': [(3, 26)], 'Zen': [(1, 5)], 'aren': [(10, 15)], 'Special': [(10, 1)], 'by': [(1, 20)], 'beats': [(11, 23)], 'Peters': [(1, 27)], 'special': [(10, 22)], 'purity': [(11, 29)], 'Flat': [(7, 1)], 'ambiguity': [(14, 16)], 'nested': [(7, 21)], 'Explicit': [(4, 1)], 'of': [(1, 9), (14, 13)], 'Beautiful': [(3, 1)], 'complex': [(5, 23)], 'Sparse': [(8, 1)], 'Complex': [(6, 1)], 'counts': [(9, 13)], 'The': [(1, 1)], 't': [(10, 20)], 'rules': [(10, 50)], 'In': [(14, 1)], 'complicated': [(6, 24)], 'is': [(3, 11), (4, 10), (5, 8), (6, 9), (7, 6), (8, 8)], 'better': [(3, 14), (4, 13), (5, 11), (6, 12), (7, 9), (8, 11)], 'Although': [(11, 1)], 'explicitly': [(13, 8)], 'face': [(14, 8)], 'enough': [(10, 30)], 'than': [(3, 21), (4, 20), (5, 18), (6, 19), (7, 16), (8, 18)], 'Simple': [(5, 1)]}\n",
      "refuse\n",
      "setdefault: []\n",
      "{'pass': [(12, 21)], 'implicit': [(4, 25)], 'silenced': [(13, 19)], 'the': [(10, 46), (14, 4)], 'Readability': [(9, 1)], 'to': [(10, 37)], 'never': [(12, 15)], 'practicality': [(11, 10)], 'should': [(12, 8)], 'Unless': [(13, 1)], 'silently': [(12, 26)], 'Errors': [(12, 1)], 'Python': [(1, 12)], 'break': [(10, 40)], 'Tim': [(1, 23)], 'cases': [(10, 9)], 'dense': [(8, 23)], 'ugly': [(3, 26)], 'Zen': [(1, 5)], 'aren': [(10, 15)], 'Special': [(10, 1)], 'by': [(1, 20)], 'beats': [(11, 23)], 'Peters': [(1, 27)], 'special': [(10, 22)], 'purity': [(11, 29)], 'refuse': [(14, 27)], 'Flat': [(7, 1)], 'ambiguity': [(14, 16)], 'nested': [(7, 21)], 'Explicit': [(4, 1)], 'of': [(1, 9), (14, 13)], 'Beautiful': [(3, 1)], 'complex': [(5, 23)], 'Sparse': [(8, 1)], 'Complex': [(6, 1)], 'counts': [(9, 13)], 'The': [(1, 1)], 't': [(10, 20)], 'rules': [(10, 50)], 'In': [(14, 1)], 'complicated': [(6, 24)], 'is': [(3, 11), (4, 10), (5, 8), (6, 9), (7, 6), (8, 8)], 'better': [(3, 14), (4, 13), (5, 11), (6, 12), (7, 9), (8, 11)], 'Although': [(11, 1)], 'explicitly': [(13, 8)], 'face': [(14, 8)], 'enough': [(10, 30)], 'than': [(3, 21), (4, 20), (5, 18), (6, 19), (7, 16), (8, 18)], 'Simple': [(5, 1)]}\n",
      "the\n",
      "setdefault: [(10, 46), (14, 4)]\n",
      "{'pass': [(12, 21)], 'implicit': [(4, 25)], 'silenced': [(13, 19)], 'the': [(10, 46), (14, 4), (14, 34)], 'Readability': [(9, 1)], 'to': [(10, 37)], 'never': [(12, 15)], 'practicality': [(11, 10)], 'should': [(12, 8)], 'Unless': [(13, 1)], 'silently': [(12, 26)], 'Errors': [(12, 1)], 'Python': [(1, 12)], 'break': [(10, 40)], 'Tim': [(1, 23)], 'cases': [(10, 9)], 'dense': [(8, 23)], 'ugly': [(3, 26)], 'Zen': [(1, 5)], 'aren': [(10, 15)], 'Special': [(10, 1)], 'by': [(1, 20)], 'beats': [(11, 23)], 'Peters': [(1, 27)], 'special': [(10, 22)], 'purity': [(11, 29)], 'refuse': [(14, 27)], 'Flat': [(7, 1)], 'ambiguity': [(14, 16)], 'nested': [(7, 21)], 'Explicit': [(4, 1)], 'of': [(1, 9), (14, 13)], 'Beautiful': [(3, 1)], 'complex': [(5, 23)], 'Sparse': [(8, 1)], 'Complex': [(6, 1)], 'counts': [(9, 13)], 'The': [(1, 1)], 't': [(10, 20)], 'rules': [(10, 50)], 'In': [(14, 1)], 'complicated': [(6, 24)], 'is': [(3, 11), (4, 10), (5, 8), (6, 9), (7, 6), (8, 8)], 'better': [(3, 14), (4, 13), (5, 11), (6, 12), (7, 9), (8, 11)], 'Although': [(11, 1)], 'explicitly': [(13, 8)], 'face': [(14, 8)], 'enough': [(10, 30)], 'than': [(3, 21), (4, 20), (5, 18), (6, 19), (7, 16), (8, 18)], 'Simple': [(5, 1)]}\n",
      "temptation\n",
      "setdefault: []\n",
      "{'pass': [(12, 21)], 'implicit': [(4, 25)], 'silenced': [(13, 19)], 'the': [(10, 46), (14, 4), (14, 34)], 'Readability': [(9, 1)], 'to': [(10, 37)], 'never': [(12, 15)], 'practicality': [(11, 10)], 'should': [(12, 8)], 'Unless': [(13, 1)], 'silently': [(12, 26)], 'Errors': [(12, 1)], 'Python': [(1, 12)], 'break': [(10, 40)], 'Tim': [(1, 23)], 'cases': [(10, 9)], 'dense': [(8, 23)], 'ugly': [(3, 26)], 'Zen': [(1, 5)], 'aren': [(10, 15)], 'Special': [(10, 1)], 'by': [(1, 20)], 'beats': [(11, 23)], 'Peters': [(1, 27)], 'special': [(10, 22)], 'purity': [(11, 29)], 'refuse': [(14, 27)], 'Flat': [(7, 1)], 'ambiguity': [(14, 16)], 'temptation': [(14, 38)], 'nested': [(7, 21)], 'Explicit': [(4, 1)], 'of': [(1, 9), (14, 13)], 'Beautiful': [(3, 1)], 'complex': [(5, 23)], 'Sparse': [(8, 1)], 'Complex': [(6, 1)], 'counts': [(9, 13)], 'The': [(1, 1)], 't': [(10, 20)], 'rules': [(10, 50)], 'In': [(14, 1)], 'complicated': [(6, 24)], 'is': [(3, 11), (4, 10), (5, 8), (6, 9), (7, 6), (8, 8)], 'better': [(3, 14), (4, 13), (5, 11), (6, 12), (7, 9), (8, 11)], 'Although': [(11, 1)], 'explicitly': [(13, 8)], 'face': [(14, 8)], 'enough': [(10, 30)], 'than': [(3, 21), (4, 20), (5, 18), (6, 19), (7, 16), (8, 18)], 'Simple': [(5, 1)]}\n",
      "to\n",
      "setdefault: [(10, 37)]\n",
      "{'pass': [(12, 21)], 'implicit': [(4, 25)], 'silenced': [(13, 19)], 'the': [(10, 46), (14, 4), (14, 34)], 'Readability': [(9, 1)], 'to': [(10, 37), (14, 49)], 'never': [(12, 15)], 'practicality': [(11, 10)], 'should': [(12, 8)], 'Unless': [(13, 1)], 'silently': [(12, 26)], 'Errors': [(12, 1)], 'Python': [(1, 12)], 'break': [(10, 40)], 'Tim': [(1, 23)], 'cases': [(10, 9)], 'dense': [(8, 23)], 'ugly': [(3, 26)], 'Zen': [(1, 5)], 'aren': [(10, 15)], 'Special': [(10, 1)], 'by': [(1, 20)], 'beats': [(11, 23)], 'Peters': [(1, 27)], 'special': [(10, 22)], 'purity': [(11, 29)], 'refuse': [(14, 27)], 'Flat': [(7, 1)], 'ambiguity': [(14, 16)], 'temptation': [(14, 38)], 'nested': [(7, 21)], 'Explicit': [(4, 1)], 'of': [(1, 9), (14, 13)], 'Beautiful': [(3, 1)], 'complex': [(5, 23)], 'Sparse': [(8, 1)], 'Complex': [(6, 1)], 'counts': [(9, 13)], 'The': [(1, 1)], 't': [(10, 20)], 'rules': [(10, 50)], 'In': [(14, 1)], 'complicated': [(6, 24)], 'is': [(3, 11), (4, 10), (5, 8), (6, 9), (7, 6), (8, 8)], 'better': [(3, 14), (4, 13), (5, 11), (6, 12), (7, 9), (8, 11)], 'Although': [(11, 1)], 'explicitly': [(13, 8)], 'face': [(14, 8)], 'enough': [(10, 30)], 'than': [(3, 21), (4, 20), (5, 18), (6, 19), (7, 16), (8, 18)], 'Simple': [(5, 1)]}\n",
      "guess\n",
      "setdefault: []\n",
      "{'pass': [(12, 21)], 'implicit': [(4, 25)], 'silenced': [(13, 19)], 'the': [(10, 46), (14, 4), (14, 34)], 'Readability': [(9, 1)], 'to': [(10, 37), (14, 49)], 'never': [(12, 15)], 'practicality': [(11, 10)], 'should': [(12, 8)], 'Unless': [(13, 1)], 'silently': [(12, 26)], 'Errors': [(12, 1)], 'guess': [(14, 52)], 'Python': [(1, 12)], 'break': [(10, 40)], 'Tim': [(1, 23)], 'cases': [(10, 9)], 'dense': [(8, 23)], 'ugly': [(3, 26)], 'Zen': [(1, 5)], 'aren': [(10, 15)], 'Special': [(10, 1)], 'by': [(1, 20)], 'beats': [(11, 23)], 'Peters': [(1, 27)], 'special': [(10, 22)], 'purity': [(11, 29)], 'refuse': [(14, 27)], 'Flat': [(7, 1)], 'ambiguity': [(14, 16)], 'temptation': [(14, 38)], 'nested': [(7, 21)], 'Explicit': [(4, 1)], 'of': [(1, 9), (14, 13)], 'Beautiful': [(3, 1)], 'complex': [(5, 23)], 'Sparse': [(8, 1)], 'Complex': [(6, 1)], 'counts': [(9, 13)], 'The': [(1, 1)], 't': [(10, 20)], 'rules': [(10, 50)], 'In': [(14, 1)], 'complicated': [(6, 24)], 'is': [(3, 11), (4, 10), (5, 8), (6, 9), (7, 6), (8, 8)], 'better': [(3, 14), (4, 13), (5, 11), (6, 12), (7, 9), (8, 11)], 'Although': [(11, 1)], 'explicitly': [(13, 8)], 'face': [(14, 8)], 'enough': [(10, 30)], 'than': [(3, 21), (4, 20), (5, 18), (6, 19), (7, 16), (8, 18)], 'Simple': [(5, 1)]}\n",
      "There\n",
      "setdefault: []\n",
      "{'pass': [(12, 21)], 'implicit': [(4, 25)], 'silenced': [(13, 19)], 'the': [(10, 46), (14, 4), (14, 34)], 'Readability': [(9, 1)], 'to': [(10, 37), (14, 49)], 'never': [(12, 15)], 'practicality': [(11, 10)], 'should': [(12, 8)], 'Unless': [(13, 1)], 'silently': [(12, 26)], 'Errors': [(12, 1)], 'guess': [(14, 52)], 'There': [(15, 1)], 'Python': [(1, 12)], 'break': [(10, 40)], 'Tim': [(1, 23)], 'cases': [(10, 9)], 'dense': [(8, 23)], 'ugly': [(3, 26)], 'Zen': [(1, 5)], 'aren': [(10, 15)], 'Special': [(10, 1)], 'by': [(1, 20)], 'beats': [(11, 23)], 'Peters': [(1, 27)], 'special': [(10, 22)], 'purity': [(11, 29)], 'refuse': [(14, 27)], 'Flat': [(7, 1)], 'ambiguity': [(14, 16)], 'temptation': [(14, 38)], 'nested': [(7, 21)], 'Explicit': [(4, 1)], 'of': [(1, 9), (14, 13)], 'Beautiful': [(3, 1)], 'complex': [(5, 23)], 'Sparse': [(8, 1)], 'Complex': [(6, 1)], 'counts': [(9, 13)], 'The': [(1, 1)], 't': [(10, 20)], 'rules': [(10, 50)], 'In': [(14, 1)], 'complicated': [(6, 24)], 'is': [(3, 11), (4, 10), (5, 8), (6, 9), (7, 6), (8, 8)], 'better': [(3, 14), (4, 13), (5, 11), (6, 12), (7, 9), (8, 11)], 'Although': [(11, 1)], 'explicitly': [(13, 8)], 'face': [(14, 8)], 'enough': [(10, 30)], 'than': [(3, 21), (4, 20), (5, 18), (6, 19), (7, 16), (8, 18)], 'Simple': [(5, 1)]}\n",
      "should\n",
      "setdefault: [(12, 8)]\n",
      "{'pass': [(12, 21)], 'implicit': [(4, 25)], 'silenced': [(13, 19)], 'the': [(10, 46), (14, 4), (14, 34)], 'Readability': [(9, 1)], 'to': [(10, 37), (14, 49)], 'never': [(12, 15)], 'practicality': [(11, 10)], 'should': [(12, 8), (15, 7)], 'Unless': [(13, 1)], 'silently': [(12, 26)], 'Errors': [(12, 1)], 'guess': [(14, 52)], 'There': [(15, 1)], 'Python': [(1, 12)], 'break': [(10, 40)], 'Tim': [(1, 23)], 'cases': [(10, 9)], 'dense': [(8, 23)], 'ugly': [(3, 26)], 'Zen': [(1, 5)], 'aren': [(10, 15)], 'Special': [(10, 1)], 'by': [(1, 20)], 'beats': [(11, 23)], 'Peters': [(1, 27)], 'special': [(10, 22)], 'purity': [(11, 29)], 'refuse': [(14, 27)], 'Flat': [(7, 1)], 'ambiguity': [(14, 16)], 'temptation': [(14, 38)], 'nested': [(7, 21)], 'Explicit': [(4, 1)], 'of': [(1, 9), (14, 13)], 'Beautiful': [(3, 1)], 'complex': [(5, 23)], 'Sparse': [(8, 1)], 'Complex': [(6, 1)], 'counts': [(9, 13)], 'The': [(1, 1)], 't': [(10, 20)], 'rules': [(10, 50)], 'In': [(14, 1)], 'complicated': [(6, 24)], 'is': [(3, 11), (4, 10), (5, 8), (6, 9), (7, 6), (8, 8)], 'better': [(3, 14), (4, 13), (5, 11), (6, 12), (7, 9), (8, 11)], 'Although': [(11, 1)], 'explicitly': [(13, 8)], 'face': [(14, 8)], 'enough': [(10, 30)], 'than': [(3, 21), (4, 20), (5, 18), (6, 19), (7, 16), (8, 18)], 'Simple': [(5, 1)]}\n",
      "be\n",
      "setdefault: []\n",
      "{'pass': [(12, 21)], 'implicit': [(4, 25)], 'silenced': [(13, 19)], 'the': [(10, 46), (14, 4), (14, 34)], 'Readability': [(9, 1)], 'to': [(10, 37), (14, 49)], 'never': [(12, 15)], 'practicality': [(11, 10)], 'should': [(12, 8), (15, 7)], 'Unless': [(13, 1)], 'silently': [(12, 26)], 'Errors': [(12, 1)], 'guess': [(14, 52)], 'There': [(15, 1)], 'Python': [(1, 12)], 'break': [(10, 40)], 'Tim': [(1, 23)], 'cases': [(10, 9)], 'dense': [(8, 23)], 'ugly': [(3, 26)], 'Zen': [(1, 5)], 'aren': [(10, 15)], 'Special': [(10, 1)], 'by': [(1, 20)], 'beats': [(11, 23)], 'Peters': [(1, 27)], 'special': [(10, 22)], 'purity': [(11, 29)], 'refuse': [(14, 27)], 'Flat': [(7, 1)], 'ambiguity': [(14, 16)], 'temptation': [(14, 38)], 'nested': [(7, 21)], 'Explicit': [(4, 1)], 'of': [(1, 9), (14, 13)], 'Beautiful': [(3, 1)], 'complex': [(5, 23)], 'Sparse': [(8, 1)], 'Complex': [(6, 1)], 'counts': [(9, 13)], 'be': [(15, 14)], 'The': [(1, 1)], 't': [(10, 20)], 'rules': [(10, 50)], 'In': [(14, 1)], 'complicated': [(6, 24)], 'is': [(3, 11), (4, 10), (5, 8), (6, 9), (7, 6), (8, 8)], 'better': [(3, 14), (4, 13), (5, 11), (6, 12), (7, 9), (8, 11)], 'Although': [(11, 1)], 'explicitly': [(13, 8)], 'face': [(14, 8)], 'enough': [(10, 30)], 'than': [(3, 21), (4, 20), (5, 18), (6, 19), (7, 16), (8, 18)], 'Simple': [(5, 1)]}\n",
      "one\n",
      "setdefault: []\n",
      "{'pass': [(12, 21)], 'implicit': [(4, 25)], 'silenced': [(13, 19)], 'the': [(10, 46), (14, 4), (14, 34)], 'Readability': [(9, 1)], 'to': [(10, 37), (14, 49)], 'never': [(12, 15)], 'practicality': [(11, 10)], 'should': [(12, 8), (15, 7)], 'Unless': [(13, 1)], 'silently': [(12, 26)], 'Errors': [(12, 1)], 'guess': [(14, 52)], 'There': [(15, 1)], 'Python': [(1, 12)], 'break': [(10, 40)], 'Tim': [(1, 23)], 'cases': [(10, 9)], 'dense': [(8, 23)], 'ugly': [(3, 26)], 'Zen': [(1, 5)], 'aren': [(10, 15)], 'Special': [(10, 1)], 'by': [(1, 20)], 'beats': [(11, 23)], 'Peters': [(1, 27)], 'one': [(15, 17)], 'special': [(10, 22)], 'purity': [(11, 29)], 'refuse': [(14, 27)], 'Flat': [(7, 1)], 'ambiguity': [(14, 16)], 'temptation': [(14, 38)], 'nested': [(7, 21)], 'Explicit': [(4, 1)], 'of': [(1, 9), (14, 13)], 'Beautiful': [(3, 1)], 'complex': [(5, 23)], 'Sparse': [(8, 1)], 'Complex': [(6, 1)], 'counts': [(9, 13)], 'be': [(15, 14)], 'The': [(1, 1)], 't': [(10, 20)], 'rules': [(10, 50)], 'In': [(14, 1)], 'complicated': [(6, 24)], 'is': [(3, 11), (4, 10), (5, 8), (6, 9), (7, 6), (8, 8)], 'better': [(3, 14), (4, 13), (5, 11), (6, 12), (7, 9), (8, 11)], 'Although': [(11, 1)], 'explicitly': [(13, 8)], 'face': [(14, 8)], 'enough': [(10, 30)], 'than': [(3, 21), (4, 20), (5, 18), (6, 19), (7, 16), (8, 18)], 'Simple': [(5, 1)]}\n",
      "and\n",
      "setdefault: []\n",
      "{'pass': [(12, 21)], 'implicit': [(4, 25)], 'and': [(15, 23)], 'silenced': [(13, 19)], 'the': [(10, 46), (14, 4), (14, 34)], 'Readability': [(9, 1)], 'to': [(10, 37), (14, 49)], 'never': [(12, 15)], 'practicality': [(11, 10)], 'should': [(12, 8), (15, 7)], 'Unless': [(13, 1)], 'silently': [(12, 26)], 'Errors': [(12, 1)], 'guess': [(14, 52)], 'There': [(15, 1)], 'Python': [(1, 12)], 'break': [(10, 40)], 'Tim': [(1, 23)], 'cases': [(10, 9)], 'dense': [(8, 23)], 'ugly': [(3, 26)], 'Zen': [(1, 5)], 'aren': [(10, 15)], 'Special': [(10, 1)], 'by': [(1, 20)], 'beats': [(11, 23)], 'Peters': [(1, 27)], 'one': [(15, 17)], 'special': [(10, 22)], 'purity': [(11, 29)], 'refuse': [(14, 27)], 'Flat': [(7, 1)], 'ambiguity': [(14, 16)], 'temptation': [(14, 38)], 'nested': [(7, 21)], 'Explicit': [(4, 1)], 'of': [(1, 9), (14, 13)], 'Beautiful': [(3, 1)], 'complex': [(5, 23)], 'Sparse': [(8, 1)], 'Complex': [(6, 1)], 'counts': [(9, 13)], 'be': [(15, 14)], 'The': [(1, 1)], 't': [(10, 20)], 'rules': [(10, 50)], 'In': [(14, 1)], 'complicated': [(6, 24)], 'is': [(3, 11), (4, 10), (5, 8), (6, 9), (7, 6), (8, 8)], 'better': [(3, 14), (4, 13), (5, 11), (6, 12), (7, 9), (8, 11)], 'Although': [(11, 1)], 'explicitly': [(13, 8)], 'face': [(14, 8)], 'enough': [(10, 30)], 'than': [(3, 21), (4, 20), (5, 18), (6, 19), (7, 16), (8, 18)], 'Simple': [(5, 1)]}\n",
      "preferably\n",
      "setdefault: []\n",
      "{'pass': [(12, 21)], 'implicit': [(4, 25)], 'and': [(15, 23)], 'silenced': [(13, 19)], 'the': [(10, 46), (14, 4), (14, 34)], 'Readability': [(9, 1)], 'to': [(10, 37), (14, 49)], 'never': [(12, 15)], 'practicality': [(11, 10)], 'should': [(12, 8), (15, 7)], 'Unless': [(13, 1)], 'silently': [(12, 26)], 'Errors': [(12, 1)], 'guess': [(14, 52)], 'There': [(15, 1)], 'Python': [(1, 12)], 'break': [(10, 40)], 'Tim': [(1, 23)], 'cases': [(10, 9)], 'preferably': [(15, 27)], 'dense': [(8, 23)], 'ugly': [(3, 26)], 'Zen': [(1, 5)], 'aren': [(10, 15)], 'Special': [(10, 1)], 'by': [(1, 20)], 'beats': [(11, 23)], 'Peters': [(1, 27)], 'one': [(15, 17)], 'special': [(10, 22)], 'purity': [(11, 29)], 'refuse': [(14, 27)], 'Flat': [(7, 1)], 'ambiguity': [(14, 16)], 'temptation': [(14, 38)], 'nested': [(7, 21)], 'Explicit': [(4, 1)], 'of': [(1, 9), (14, 13)], 'Beautiful': [(3, 1)], 'complex': [(5, 23)], 'Sparse': [(8, 1)], 'Complex': [(6, 1)], 'counts': [(9, 13)], 'be': [(15, 14)], 'The': [(1, 1)], 't': [(10, 20)], 'rules': [(10, 50)], 'In': [(14, 1)], 'complicated': [(6, 24)], 'is': [(3, 11), (4, 10), (5, 8), (6, 9), (7, 6), (8, 8)], 'better': [(3, 14), (4, 13), (5, 11), (6, 12), (7, 9), (8, 11)], 'Although': [(11, 1)], 'explicitly': [(13, 8)], 'face': [(14, 8)], 'enough': [(10, 30)], 'than': [(3, 21), (4, 20), (5, 18), (6, 19), (7, 16), (8, 18)], 'Simple': [(5, 1)]}\n",
      "only\n",
      "setdefault: []\n",
      "{'pass': [(12, 21)], 'implicit': [(4, 25)], 'and': [(15, 23)], 'silenced': [(13, 19)], 'the': [(10, 46), (14, 4), (14, 34)], 'Readability': [(9, 1)], 'to': [(10, 37), (14, 49)], 'never': [(12, 15)], 'practicality': [(11, 10)], 'should': [(12, 8), (15, 7)], 'Unless': [(13, 1)], 'silently': [(12, 26)], 'Errors': [(12, 1)], 'guess': [(14, 52)], 'There': [(15, 1)], 'Python': [(1, 12)], 'break': [(10, 40)], 'Tim': [(1, 23)], 'cases': [(10, 9)], 'preferably': [(15, 27)], 'dense': [(8, 23)], 'ugly': [(3, 26)], 'Zen': [(1, 5)], 'aren': [(10, 15)], 'Special': [(10, 1)], 'by': [(1, 20)], 'beats': [(11, 23)], 'Peters': [(1, 27)], 'one': [(15, 17)], 'special': [(10, 22)], 'purity': [(11, 29)], 'refuse': [(14, 27)], 'Flat': [(7, 1)], 'ambiguity': [(14, 16)], 'only': [(15, 38)], 'temptation': [(14, 38)], 'nested': [(7, 21)], 'Explicit': [(4, 1)], 'of': [(1, 9), (14, 13)], 'Beautiful': [(3, 1)], 'complex': [(5, 23)], 'Sparse': [(8, 1)], 'Complex': [(6, 1)], 'counts': [(9, 13)], 'be': [(15, 14)], 'The': [(1, 1)], 't': [(10, 20)], 'rules': [(10, 50)], 'In': [(14, 1)], 'complicated': [(6, 24)], 'is': [(3, 11), (4, 10), (5, 8), (6, 9), (7, 6), (8, 8)], 'better': [(3, 14), (4, 13), (5, 11), (6, 12), (7, 9), (8, 11)], 'Although': [(11, 1)], 'explicitly': [(13, 8)], 'face': [(14, 8)], 'enough': [(10, 30)], 'than': [(3, 21), (4, 20), (5, 18), (6, 19), (7, 16), (8, 18)], 'Simple': [(5, 1)]}\n",
      "one\n",
      "setdefault: [(15, 17)]\n",
      "{'pass': [(12, 21)], 'implicit': [(4, 25)], 'and': [(15, 23)], 'silenced': [(13, 19)], 'the': [(10, 46), (14, 4), (14, 34)], 'Readability': [(9, 1)], 'to': [(10, 37), (14, 49)], 'never': [(12, 15)], 'practicality': [(11, 10)], 'should': [(12, 8), (15, 7)], 'Unless': [(13, 1)], 'silently': [(12, 26)], 'Errors': [(12, 1)], 'guess': [(14, 52)], 'There': [(15, 1)], 'Python': [(1, 12)], 'break': [(10, 40)], 'Tim': [(1, 23)], 'cases': [(10, 9)], 'preferably': [(15, 27)], 'dense': [(8, 23)], 'ugly': [(3, 26)], 'Zen': [(1, 5)], 'aren': [(10, 15)], 'Special': [(10, 1)], 'by': [(1, 20)], 'beats': [(11, 23)], 'Peters': [(1, 27)], 'one': [(15, 17), (15, 43)], 'special': [(10, 22)], 'purity': [(11, 29)], 'refuse': [(14, 27)], 'Flat': [(7, 1)], 'ambiguity': [(14, 16)], 'only': [(15, 38)], 'temptation': [(14, 38)], 'nested': [(7, 21)], 'Explicit': [(4, 1)], 'of': [(1, 9), (14, 13)], 'Beautiful': [(3, 1)], 'complex': [(5, 23)], 'Sparse': [(8, 1)], 'Complex': [(6, 1)], 'counts': [(9, 13)], 'be': [(15, 14)], 'The': [(1, 1)], 't': [(10, 20)], 'rules': [(10, 50)], 'In': [(14, 1)], 'complicated': [(6, 24)], 'is': [(3, 11), (4, 10), (5, 8), (6, 9), (7, 6), (8, 8)], 'better': [(3, 14), (4, 13), (5, 11), (6, 12), (7, 9), (8, 11)], 'Although': [(11, 1)], 'explicitly': [(13, 8)], 'face': [(14, 8)], 'enough': [(10, 30)], 'than': [(3, 21), (4, 20), (5, 18), (6, 19), (7, 16), (8, 18)], 'Simple': [(5, 1)]}\n",
      "obvious\n",
      "setdefault: []\n",
      "{'pass': [(12, 21)], 'implicit': [(4, 25)], 'and': [(15, 23)], 'silenced': [(13, 19)], 'the': [(10, 46), (14, 4), (14, 34)], 'Readability': [(9, 1)], 'obvious': [(15, 49)], 'to': [(10, 37), (14, 49)], 'never': [(12, 15)], 'practicality': [(11, 10)], 'should': [(12, 8), (15, 7)], 'Unless': [(13, 1)], 'silently': [(12, 26)], 'Errors': [(12, 1)], 'guess': [(14, 52)], 'There': [(15, 1)], 'Python': [(1, 12)], 'break': [(10, 40)], 'Tim': [(1, 23)], 'cases': [(10, 9)], 'preferably': [(15, 27)], 'dense': [(8, 23)], 'ugly': [(3, 26)], 'Zen': [(1, 5)], 'aren': [(10, 15)], 'Special': [(10, 1)], 'by': [(1, 20)], 'beats': [(11, 23)], 'Peters': [(1, 27)], 'one': [(15, 17), (15, 43)], 'special': [(10, 22)], 'purity': [(11, 29)], 'refuse': [(14, 27)], 'Flat': [(7, 1)], 'ambiguity': [(14, 16)], 'only': [(15, 38)], 'temptation': [(14, 38)], 'nested': [(7, 21)], 'Explicit': [(4, 1)], 'of': [(1, 9), (14, 13)], 'Beautiful': [(3, 1)], 'complex': [(5, 23)], 'Sparse': [(8, 1)], 'Complex': [(6, 1)], 'counts': [(9, 13)], 'be': [(15, 14)], 'The': [(1, 1)], 't': [(10, 20)], 'rules': [(10, 50)], 'In': [(14, 1)], 'complicated': [(6, 24)], 'is': [(3, 11), (4, 10), (5, 8), (6, 9), (7, 6), (8, 8)], 'better': [(3, 14), (4, 13), (5, 11), (6, 12), (7, 9), (8, 11)], 'Although': [(11, 1)], 'explicitly': [(13, 8)], 'face': [(14, 8)], 'enough': [(10, 30)], 'than': [(3, 21), (4, 20), (5, 18), (6, 19), (7, 16), (8, 18)], 'Simple': [(5, 1)]}\n",
      "way\n",
      "setdefault: []\n",
      "{'pass': [(12, 21)], 'implicit': [(4, 25)], 'and': [(15, 23)], 'silenced': [(13, 19)], 'way': [(15, 57)], 'the': [(10, 46), (14, 4), (14, 34)], 'Readability': [(9, 1)], 'obvious': [(15, 49)], 'to': [(10, 37), (14, 49)], 'never': [(12, 15)], 'practicality': [(11, 10)], 'should': [(12, 8), (15, 7)], 'Unless': [(13, 1)], 'silently': [(12, 26)], 'Errors': [(12, 1)], 'guess': [(14, 52)], 'There': [(15, 1)], 'Python': [(1, 12)], 'break': [(10, 40)], 'Tim': [(1, 23)], 'cases': [(10, 9)], 'preferably': [(15, 27)], 'dense': [(8, 23)], 'ugly': [(3, 26)], 'Zen': [(1, 5)], 'aren': [(10, 15)], 'Special': [(10, 1)], 'by': [(1, 20)], 'beats': [(11, 23)], 'Peters': [(1, 27)], 'one': [(15, 17), (15, 43)], 'special': [(10, 22)], 'purity': [(11, 29)], 'refuse': [(14, 27)], 'Flat': [(7, 1)], 'ambiguity': [(14, 16)], 'only': [(15, 38)], 'temptation': [(14, 38)], 'nested': [(7, 21)], 'Explicit': [(4, 1)], 'of': [(1, 9), (14, 13)], 'Beautiful': [(3, 1)], 'complex': [(5, 23)], 'Sparse': [(8, 1)], 'Complex': [(6, 1)], 'counts': [(9, 13)], 'be': [(15, 14)], 'The': [(1, 1)], 't': [(10, 20)], 'rules': [(10, 50)], 'In': [(14, 1)], 'complicated': [(6, 24)], 'is': [(3, 11), (4, 10), (5, 8), (6, 9), (7, 6), (8, 8)], 'better': [(3, 14), (4, 13), (5, 11), (6, 12), (7, 9), (8, 11)], 'Although': [(11, 1)], 'explicitly': [(13, 8)], 'face': [(14, 8)], 'enough': [(10, 30)], 'than': [(3, 21), (4, 20), (5, 18), (6, 19), (7, 16), (8, 18)], 'Simple': [(5, 1)]}\n",
      "to\n",
      "setdefault: [(10, 37), (14, 49)]\n",
      "{'pass': [(12, 21)], 'implicit': [(4, 25)], 'and': [(15, 23)], 'silenced': [(13, 19)], 'way': [(15, 57)], 'the': [(10, 46), (14, 4), (14, 34)], 'Readability': [(9, 1)], 'obvious': [(15, 49)], 'to': [(10, 37), (14, 49), (15, 61)], 'never': [(12, 15)], 'practicality': [(11, 10)], 'should': [(12, 8), (15, 7)], 'Unless': [(13, 1)], 'silently': [(12, 26)], 'Errors': [(12, 1)], 'guess': [(14, 52)], 'There': [(15, 1)], 'Python': [(1, 12)], 'break': [(10, 40)], 'Tim': [(1, 23)], 'cases': [(10, 9)], 'preferably': [(15, 27)], 'dense': [(8, 23)], 'ugly': [(3, 26)], 'Zen': [(1, 5)], 'aren': [(10, 15)], 'Special': [(10, 1)], 'by': [(1, 20)], 'beats': [(11, 23)], 'Peters': [(1, 27)], 'one': [(15, 17), (15, 43)], 'special': [(10, 22)], 'purity': [(11, 29)], 'refuse': [(14, 27)], 'Flat': [(7, 1)], 'ambiguity': [(14, 16)], 'only': [(15, 38)], 'temptation': [(14, 38)], 'nested': [(7, 21)], 'Explicit': [(4, 1)], 'of': [(1, 9), (14, 13)], 'Beautiful': [(3, 1)], 'complex': [(5, 23)], 'Sparse': [(8, 1)], 'Complex': [(6, 1)], 'counts': [(9, 13)], 'be': [(15, 14)], 'The': [(1, 1)], 't': [(10, 20)], 'rules': [(10, 50)], 'In': [(14, 1)], 'complicated': [(6, 24)], 'is': [(3, 11), (4, 10), (5, 8), (6, 9), (7, 6), (8, 8)], 'better': [(3, 14), (4, 13), (5, 11), (6, 12), (7, 9), (8, 11)], 'Although': [(11, 1)], 'explicitly': [(13, 8)], 'face': [(14, 8)], 'enough': [(10, 30)], 'than': [(3, 21), (4, 20), (5, 18), (6, 19), (7, 16), (8, 18)], 'Simple': [(5, 1)]}\n",
      "do\n",
      "setdefault: []\n",
      "{'pass': [(12, 21)], 'implicit': [(4, 25)], 'and': [(15, 23)], 'silenced': [(13, 19)], 'way': [(15, 57)], 'the': [(10, 46), (14, 4), (14, 34)], 'Readability': [(9, 1)], 'obvious': [(15, 49)], 'to': [(10, 37), (14, 49), (15, 61)], 'never': [(12, 15)], 'practicality': [(11, 10)], 'should': [(12, 8), (15, 7)], 'Unless': [(13, 1)], 'silently': [(12, 26)], 'Errors': [(12, 1)], 'guess': [(14, 52)], 'There': [(15, 1)], 'Python': [(1, 12)], 'break': [(10, 40)], 'Tim': [(1, 23)], 'cases': [(10, 9)], 'preferably': [(15, 27)], 'do': [(15, 64)], 'dense': [(8, 23)], 'ugly': [(3, 26)], 'Zen': [(1, 5)], 'aren': [(10, 15)], 'Special': [(10, 1)], 'by': [(1, 20)], 'beats': [(11, 23)], 'Peters': [(1, 27)], 'one': [(15, 17), (15, 43)], 'special': [(10, 22)], 'purity': [(11, 29)], 'refuse': [(14, 27)], 'Flat': [(7, 1)], 'ambiguity': [(14, 16)], 'only': [(15, 38)], 'temptation': [(14, 38)], 'nested': [(7, 21)], 'Explicit': [(4, 1)], 'of': [(1, 9), (14, 13)], 'Beautiful': [(3, 1)], 'complex': [(5, 23)], 'Sparse': [(8, 1)], 'Complex': [(6, 1)], 'counts': [(9, 13)], 'be': [(15, 14)], 'The': [(1, 1)], 't': [(10, 20)], 'rules': [(10, 50)], 'In': [(14, 1)], 'complicated': [(6, 24)], 'is': [(3, 11), (4, 10), (5, 8), (6, 9), (7, 6), (8, 8)], 'better': [(3, 14), (4, 13), (5, 11), (6, 12), (7, 9), (8, 11)], 'Although': [(11, 1)], 'explicitly': [(13, 8)], 'face': [(14, 8)], 'enough': [(10, 30)], 'than': [(3, 21), (4, 20), (5, 18), (6, 19), (7, 16), (8, 18)], 'Simple': [(5, 1)]}\n",
      "it\n",
      "setdefault: []\n",
      "{'pass': [(12, 21)], 'implicit': [(4, 25)], 'and': [(15, 23)], 'silenced': [(13, 19)], 'way': [(15, 57)], 'the': [(10, 46), (14, 4), (14, 34)], 'Readability': [(9, 1)], 'obvious': [(15, 49)], 'to': [(10, 37), (14, 49), (15, 61)], 'never': [(12, 15)], 'practicality': [(11, 10)], 'should': [(12, 8), (15, 7)], 'Unless': [(13, 1)], 'silently': [(12, 26)], 'Errors': [(12, 1)], 'guess': [(14, 52)], 'There': [(15, 1)], 'Python': [(1, 12)], 'break': [(10, 40)], 'Tim': [(1, 23)], 'cases': [(10, 9)], 'preferably': [(15, 27)], 'do': [(15, 64)], 'dense': [(8, 23)], 'ugly': [(3, 26)], 'Zen': [(1, 5)], 'aren': [(10, 15)], 'Special': [(10, 1)], 'by': [(1, 20)], 'beats': [(11, 23)], 'Peters': [(1, 27)], 'one': [(15, 17), (15, 43)], 'special': [(10, 22)], 'purity': [(11, 29)], 'refuse': [(14, 27)], 'it': [(15, 67)], 'Flat': [(7, 1)], 'ambiguity': [(14, 16)], 'only': [(15, 38)], 'temptation': [(14, 38)], 'nested': [(7, 21)], 'Explicit': [(4, 1)], 'of': [(1, 9), (14, 13)], 'Beautiful': [(3, 1)], 'complex': [(5, 23)], 'Sparse': [(8, 1)], 'Complex': [(6, 1)], 'counts': [(9, 13)], 'be': [(15, 14)], 'The': [(1, 1)], 't': [(10, 20)], 'rules': [(10, 50)], 'In': [(14, 1)], 'complicated': [(6, 24)], 'is': [(3, 11), (4, 10), (5, 8), (6, 9), (7, 6), (8, 8)], 'better': [(3, 14), (4, 13), (5, 11), (6, 12), (7, 9), (8, 11)], 'Although': [(11, 1)], 'explicitly': [(13, 8)], 'face': [(14, 8)], 'enough': [(10, 30)], 'than': [(3, 21), (4, 20), (5, 18), (6, 19), (7, 16), (8, 18)], 'Simple': [(5, 1)]}\n",
      "Although\n",
      "setdefault: [(11, 1)]\n",
      "{'pass': [(12, 21)], 'implicit': [(4, 25)], 'and': [(15, 23)], 'silenced': [(13, 19)], 'way': [(15, 57)], 'the': [(10, 46), (14, 4), (14, 34)], 'Readability': [(9, 1)], 'obvious': [(15, 49)], 'to': [(10, 37), (14, 49), (15, 61)], 'never': [(12, 15)], 'practicality': [(11, 10)], 'should': [(12, 8), (15, 7)], 'Unless': [(13, 1)], 'silently': [(12, 26)], 'Errors': [(12, 1)], 'guess': [(14, 52)], 'There': [(15, 1)], 'Python': [(1, 12)], 'break': [(10, 40)], 'Tim': [(1, 23)], 'cases': [(10, 9)], 'preferably': [(15, 27)], 'do': [(15, 64)], 'dense': [(8, 23)], 'ugly': [(3, 26)], 'Zen': [(1, 5)], 'aren': [(10, 15)], 'Special': [(10, 1)], 'by': [(1, 20)], 'beats': [(11, 23)], 'Peters': [(1, 27)], 'one': [(15, 17), (15, 43)], 'special': [(10, 22)], 'purity': [(11, 29)], 'refuse': [(14, 27)], 'it': [(15, 67)], 'Flat': [(7, 1)], 'ambiguity': [(14, 16)], 'only': [(15, 38)], 'temptation': [(14, 38)], 'nested': [(7, 21)], 'Explicit': [(4, 1)], 'of': [(1, 9), (14, 13)], 'Beautiful': [(3, 1)], 'complex': [(5, 23)], 'Sparse': [(8, 1)], 'Complex': [(6, 1)], 'counts': [(9, 13)], 'be': [(15, 14)], 'The': [(1, 1)], 't': [(10, 20)], 'rules': [(10, 50)], 'In': [(14, 1)], 'complicated': [(6, 24)], 'is': [(3, 11), (4, 10), (5, 8), (6, 9), (7, 6), (8, 8)], 'better': [(3, 14), (4, 13), (5, 11), (6, 12), (7, 9), (8, 11)], 'Although': [(11, 1), (16, 1)], 'explicitly': [(13, 8)], 'face': [(14, 8)], 'enough': [(10, 30)], 'than': [(3, 21), (4, 20), (5, 18), (6, 19), (7, 16), (8, 18)], 'Simple': [(5, 1)]}\n",
      "that\n",
      "setdefault: []\n",
      "{'pass': [(12, 21)], 'implicit': [(4, 25)], 'and': [(15, 23)], 'silenced': [(13, 19)], 'way': [(15, 57)], 'the': [(10, 46), (14, 4), (14, 34)], 'Readability': [(9, 1)], 'obvious': [(15, 49)], 'to': [(10, 37), (14, 49), (15, 61)], 'never': [(12, 15)], 'practicality': [(11, 10)], 'should': [(12, 8), (15, 7)], 'Unless': [(13, 1)], 'silently': [(12, 26)], 'Errors': [(12, 1)], 'guess': [(14, 52)], 'There': [(15, 1)], 'Python': [(1, 12)], 'break': [(10, 40)], 'Tim': [(1, 23)], 'cases': [(10, 9)], 'preferably': [(15, 27)], 'do': [(15, 64)], 'dense': [(8, 23)], 'ugly': [(3, 26)], 'Zen': [(1, 5)], 'aren': [(10, 15)], 'Special': [(10, 1)], 'by': [(1, 20)], 'beats': [(11, 23)], 'Peters': [(1, 27)], 'one': [(15, 17), (15, 43)], 'special': [(10, 22)], 'purity': [(11, 29)], 'refuse': [(14, 27)], 'it': [(15, 67)], 'Flat': [(7, 1)], 'ambiguity': [(14, 16)], 'only': [(15, 38)], 'temptation': [(14, 38)], 'nested': [(7, 21)], 'Explicit': [(4, 1)], 'of': [(1, 9), (14, 13)], 'Beautiful': [(3, 1)], 'complex': [(5, 23)], 'Sparse': [(8, 1)], 'Complex': [(6, 1)], 'counts': [(9, 13)], 'be': [(15, 14)], 'The': [(1, 1)], 't': [(10, 20)], 'rules': [(10, 50)], 'In': [(14, 1)], 'that': [(16, 10)], 'complicated': [(6, 24)], 'is': [(3, 11), (4, 10), (5, 8), (6, 9), (7, 6), (8, 8)], 'better': [(3, 14), (4, 13), (5, 11), (6, 12), (7, 9), (8, 11)], 'Although': [(11, 1), (16, 1)], 'explicitly': [(13, 8)], 'face': [(14, 8)], 'enough': [(10, 30)], 'than': [(3, 21), (4, 20), (5, 18), (6, 19), (7, 16), (8, 18)], 'Simple': [(5, 1)]}\n",
      "way\n",
      "setdefault: [(15, 57)]\n",
      "{'pass': [(12, 21)], 'implicit': [(4, 25)], 'and': [(15, 23)], 'silenced': [(13, 19)], 'way': [(15, 57), (16, 15)], 'the': [(10, 46), (14, 4), (14, 34)], 'Readability': [(9, 1)], 'obvious': [(15, 49)], 'to': [(10, 37), (14, 49), (15, 61)], 'never': [(12, 15)], 'practicality': [(11, 10)], 'should': [(12, 8), (15, 7)], 'Unless': [(13, 1)], 'silently': [(12, 26)], 'Errors': [(12, 1)], 'guess': [(14, 52)], 'There': [(15, 1)], 'Python': [(1, 12)], 'break': [(10, 40)], 'Tim': [(1, 23)], 'cases': [(10, 9)], 'preferably': [(15, 27)], 'do': [(15, 64)], 'dense': [(8, 23)], 'ugly': [(3, 26)], 'Zen': [(1, 5)], 'aren': [(10, 15)], 'Special': [(10, 1)], 'by': [(1, 20)], 'beats': [(11, 23)], 'Peters': [(1, 27)], 'one': [(15, 17), (15, 43)], 'special': [(10, 22)], 'purity': [(11, 29)], 'refuse': [(14, 27)], 'it': [(15, 67)], 'Flat': [(7, 1)], 'ambiguity': [(14, 16)], 'only': [(15, 38)], 'temptation': [(14, 38)], 'nested': [(7, 21)], 'Explicit': [(4, 1)], 'of': [(1, 9), (14, 13)], 'Beautiful': [(3, 1)], 'complex': [(5, 23)], 'Sparse': [(8, 1)], 'Complex': [(6, 1)], 'counts': [(9, 13)], 'be': [(15, 14)], 'The': [(1, 1)], 't': [(10, 20)], 'rules': [(10, 50)], 'In': [(14, 1)], 'that': [(16, 10)], 'complicated': [(6, 24)], 'is': [(3, 11), (4, 10), (5, 8), (6, 9), (7, 6), (8, 8)], 'better': [(3, 14), (4, 13), (5, 11), (6, 12), (7, 9), (8, 11)], 'Although': [(11, 1), (16, 1)], 'explicitly': [(13, 8)], 'face': [(14, 8)], 'enough': [(10, 30)], 'than': [(3, 21), (4, 20), (5, 18), (6, 19), (7, 16), (8, 18)], 'Simple': [(5, 1)]}\n",
      "may\n",
      "setdefault: []\n",
      "{'pass': [(12, 21)], 'implicit': [(4, 25)], 'and': [(15, 23)], 'silenced': [(13, 19)], 'way': [(15, 57), (16, 15)], 'the': [(10, 46), (14, 4), (14, 34)], 'may': [(16, 19)], 'Readability': [(9, 1)], 'obvious': [(15, 49)], 'to': [(10, 37), (14, 49), (15, 61)], 'never': [(12, 15)], 'practicality': [(11, 10)], 'should': [(12, 8), (15, 7)], 'Unless': [(13, 1)], 'silently': [(12, 26)], 'Errors': [(12, 1)], 'guess': [(14, 52)], 'There': [(15, 1)], 'Python': [(1, 12)], 'break': [(10, 40)], 'Tim': [(1, 23)], 'cases': [(10, 9)], 'preferably': [(15, 27)], 'do': [(15, 64)], 'dense': [(8, 23)], 'ugly': [(3, 26)], 'Zen': [(1, 5)], 'aren': [(10, 15)], 'Special': [(10, 1)], 'by': [(1, 20)], 'beats': [(11, 23)], 'Peters': [(1, 27)], 'one': [(15, 17), (15, 43)], 'special': [(10, 22)], 'purity': [(11, 29)], 'refuse': [(14, 27)], 'it': [(15, 67)], 'Flat': [(7, 1)], 'ambiguity': [(14, 16)], 'only': [(15, 38)], 'temptation': [(14, 38)], 'nested': [(7, 21)], 'Explicit': [(4, 1)], 'of': [(1, 9), (14, 13)], 'Beautiful': [(3, 1)], 'complex': [(5, 23)], 'Sparse': [(8, 1)], 'Complex': [(6, 1)], 'counts': [(9, 13)], 'be': [(15, 14)], 'The': [(1, 1)], 't': [(10, 20)], 'rules': [(10, 50)], 'In': [(14, 1)], 'that': [(16, 10)], 'complicated': [(6, 24)], 'is': [(3, 11), (4, 10), (5, 8), (6, 9), (7, 6), (8, 8)], 'better': [(3, 14), (4, 13), (5, 11), (6, 12), (7, 9), (8, 11)], 'Although': [(11, 1), (16, 1)], 'explicitly': [(13, 8)], 'face': [(14, 8)], 'enough': [(10, 30)], 'than': [(3, 21), (4, 20), (5, 18), (6, 19), (7, 16), (8, 18)], 'Simple': [(5, 1)]}\n",
      "not\n",
      "setdefault: []\n",
      "{'pass': [(12, 21)], 'implicit': [(4, 25)], 'and': [(15, 23)], 'silenced': [(13, 19)], 'way': [(15, 57), (16, 15)], 'the': [(10, 46), (14, 4), (14, 34)], 'may': [(16, 19)], 'Readability': [(9, 1)], 'obvious': [(15, 49)], 'to': [(10, 37), (14, 49), (15, 61)], 'never': [(12, 15)], 'practicality': [(11, 10)], 'should': [(12, 8), (15, 7)], 'Unless': [(13, 1)], 'silently': [(12, 26)], 'not': [(16, 23)], 'Errors': [(12, 1)], 'guess': [(14, 52)], 'There': [(15, 1)], 'Python': [(1, 12)], 'break': [(10, 40)], 'Tim': [(1, 23)], 'cases': [(10, 9)], 'preferably': [(15, 27)], 'do': [(15, 64)], 'dense': [(8, 23)], 'ugly': [(3, 26)], 'Zen': [(1, 5)], 'aren': [(10, 15)], 'Special': [(10, 1)], 'by': [(1, 20)], 'beats': [(11, 23)], 'Peters': [(1, 27)], 'one': [(15, 17), (15, 43)], 'special': [(10, 22)], 'purity': [(11, 29)], 'refuse': [(14, 27)], 'it': [(15, 67)], 'Flat': [(7, 1)], 'ambiguity': [(14, 16)], 'only': [(15, 38)], 'temptation': [(14, 38)], 'nested': [(7, 21)], 'Explicit': [(4, 1)], 'of': [(1, 9), (14, 13)], 'Beautiful': [(3, 1)], 'complex': [(5, 23)], 'Sparse': [(8, 1)], 'Complex': [(6, 1)], 'counts': [(9, 13)], 'be': [(15, 14)], 'The': [(1, 1)], 't': [(10, 20)], 'rules': [(10, 50)], 'In': [(14, 1)], 'that': [(16, 10)], 'complicated': [(6, 24)], 'is': [(3, 11), (4, 10), (5, 8), (6, 9), (7, 6), (8, 8)], 'better': [(3, 14), (4, 13), (5, 11), (6, 12), (7, 9), (8, 11)], 'Although': [(11, 1), (16, 1)], 'explicitly': [(13, 8)], 'face': [(14, 8)], 'enough': [(10, 30)], 'than': [(3, 21), (4, 20), (5, 18), (6, 19), (7, 16), (8, 18)], 'Simple': [(5, 1)]}\n",
      "be\n",
      "setdefault: [(15, 14)]\n",
      "{'pass': [(12, 21)], 'implicit': [(4, 25)], 'and': [(15, 23)], 'silenced': [(13, 19)], 'way': [(15, 57), (16, 15)], 'the': [(10, 46), (14, 4), (14, 34)], 'may': [(16, 19)], 'Readability': [(9, 1)], 'obvious': [(15, 49)], 'to': [(10, 37), (14, 49), (15, 61)], 'never': [(12, 15)], 'practicality': [(11, 10)], 'should': [(12, 8), (15, 7)], 'Unless': [(13, 1)], 'silently': [(12, 26)], 'not': [(16, 23)], 'Errors': [(12, 1)], 'guess': [(14, 52)], 'There': [(15, 1)], 'Python': [(1, 12)], 'break': [(10, 40)], 'Tim': [(1, 23)], 'cases': [(10, 9)], 'preferably': [(15, 27)], 'do': [(15, 64)], 'dense': [(8, 23)], 'ugly': [(3, 26)], 'Zen': [(1, 5)], 'aren': [(10, 15)], 'Special': [(10, 1)], 'by': [(1, 20)], 'beats': [(11, 23)], 'Peters': [(1, 27)], 'one': [(15, 17), (15, 43)], 'special': [(10, 22)], 'purity': [(11, 29)], 'refuse': [(14, 27)], 'it': [(15, 67)], 'Flat': [(7, 1)], 'ambiguity': [(14, 16)], 'only': [(15, 38)], 'temptation': [(14, 38)], 'nested': [(7, 21)], 'Explicit': [(4, 1)], 'of': [(1, 9), (14, 13)], 'Beautiful': [(3, 1)], 'complex': [(5, 23)], 'Sparse': [(8, 1)], 'Complex': [(6, 1)], 'counts': [(9, 13)], 'be': [(15, 14), (16, 27)], 'The': [(1, 1)], 't': [(10, 20)], 'rules': [(10, 50)], 'In': [(14, 1)], 'that': [(16, 10)], 'complicated': [(6, 24)], 'is': [(3, 11), (4, 10), (5, 8), (6, 9), (7, 6), (8, 8)], 'better': [(3, 14), (4, 13), (5, 11), (6, 12), (7, 9), (8, 11)], 'Although': [(11, 1), (16, 1)], 'explicitly': [(13, 8)], 'face': [(14, 8)], 'enough': [(10, 30)], 'than': [(3, 21), (4, 20), (5, 18), (6, 19), (7, 16), (8, 18)], 'Simple': [(5, 1)]}\n",
      "obvious\n",
      "setdefault: [(15, 49)]\n",
      "{'pass': [(12, 21)], 'implicit': [(4, 25)], 'and': [(15, 23)], 'silenced': [(13, 19)], 'way': [(15, 57), (16, 15)], 'the': [(10, 46), (14, 4), (14, 34)], 'may': [(16, 19)], 'Readability': [(9, 1)], 'obvious': [(15, 49), (16, 30)], 'to': [(10, 37), (14, 49), (15, 61)], 'never': [(12, 15)], 'practicality': [(11, 10)], 'should': [(12, 8), (15, 7)], 'Unless': [(13, 1)], 'silently': [(12, 26)], 'not': [(16, 23)], 'Errors': [(12, 1)], 'guess': [(14, 52)], 'There': [(15, 1)], 'Python': [(1, 12)], 'break': [(10, 40)], 'Tim': [(1, 23)], 'cases': [(10, 9)], 'preferably': [(15, 27)], 'do': [(15, 64)], 'dense': [(8, 23)], 'ugly': [(3, 26)], 'Zen': [(1, 5)], 'aren': [(10, 15)], 'Special': [(10, 1)], 'by': [(1, 20)], 'beats': [(11, 23)], 'Peters': [(1, 27)], 'one': [(15, 17), (15, 43)], 'special': [(10, 22)], 'purity': [(11, 29)], 'refuse': [(14, 27)], 'it': [(15, 67)], 'Flat': [(7, 1)], 'ambiguity': [(14, 16)], 'only': [(15, 38)], 'temptation': [(14, 38)], 'nested': [(7, 21)], 'Explicit': [(4, 1)], 'of': [(1, 9), (14, 13)], 'Beautiful': [(3, 1)], 'complex': [(5, 23)], 'Sparse': [(8, 1)], 'Complex': [(6, 1)], 'counts': [(9, 13)], 'be': [(15, 14), (16, 27)], 'The': [(1, 1)], 't': [(10, 20)], 'rules': [(10, 50)], 'In': [(14, 1)], 'that': [(16, 10)], 'complicated': [(6, 24)], 'is': [(3, 11), (4, 10), (5, 8), (6, 9), (7, 6), (8, 8)], 'better': [(3, 14), (4, 13), (5, 11), (6, 12), (7, 9), (8, 11)], 'Although': [(11, 1), (16, 1)], 'explicitly': [(13, 8)], 'face': [(14, 8)], 'enough': [(10, 30)], 'than': [(3, 21), (4, 20), (5, 18), (6, 19), (7, 16), (8, 18)], 'Simple': [(5, 1)]}\n",
      "at\n",
      "setdefault: []\n",
      "{'pass': [(12, 21)], 'implicit': [(4, 25)], 'and': [(15, 23)], 'silenced': [(13, 19)], 'way': [(15, 57), (16, 15)], 'the': [(10, 46), (14, 4), (14, 34)], 'at': [(16, 38)], 'may': [(16, 19)], 'Readability': [(9, 1)], 'obvious': [(15, 49), (16, 30)], 'to': [(10, 37), (14, 49), (15, 61)], 'never': [(12, 15)], 'practicality': [(11, 10)], 'should': [(12, 8), (15, 7)], 'Unless': [(13, 1)], 'silently': [(12, 26)], 'not': [(16, 23)], 'Errors': [(12, 1)], 'guess': [(14, 52)], 'There': [(15, 1)], 'Python': [(1, 12)], 'break': [(10, 40)], 'Tim': [(1, 23)], 'cases': [(10, 9)], 'preferably': [(15, 27)], 'do': [(15, 64)], 'dense': [(8, 23)], 'ugly': [(3, 26)], 'Zen': [(1, 5)], 'aren': [(10, 15)], 'Special': [(10, 1)], 'by': [(1, 20)], 'beats': [(11, 23)], 'Peters': [(1, 27)], 'one': [(15, 17), (15, 43)], 'special': [(10, 22)], 'purity': [(11, 29)], 'refuse': [(14, 27)], 'it': [(15, 67)], 'Flat': [(7, 1)], 'ambiguity': [(14, 16)], 'only': [(15, 38)], 'temptation': [(14, 38)], 'nested': [(7, 21)], 'Explicit': [(4, 1)], 'of': [(1, 9), (14, 13)], 'Beautiful': [(3, 1)], 'complex': [(5, 23)], 'Sparse': [(8, 1)], 'Complex': [(6, 1)], 'counts': [(9, 13)], 'be': [(15, 14), (16, 27)], 'The': [(1, 1)], 't': [(10, 20)], 'rules': [(10, 50)], 'In': [(14, 1)], 'that': [(16, 10)], 'complicated': [(6, 24)], 'is': [(3, 11), (4, 10), (5, 8), (6, 9), (7, 6), (8, 8)], 'better': [(3, 14), (4, 13), (5, 11), (6, 12), (7, 9), (8, 11)], 'Although': [(11, 1), (16, 1)], 'explicitly': [(13, 8)], 'face': [(14, 8)], 'enough': [(10, 30)], 'than': [(3, 21), (4, 20), (5, 18), (6, 19), (7, 16), (8, 18)], 'Simple': [(5, 1)]}\n",
      "first\n",
      "setdefault: []\n",
      "{'pass': [(12, 21)], 'implicit': [(4, 25)], 'and': [(15, 23)], 'silenced': [(13, 19)], 'way': [(15, 57), (16, 15)], 'the': [(10, 46), (14, 4), (14, 34)], 'at': [(16, 38)], 'may': [(16, 19)], 'Readability': [(9, 1)], 'obvious': [(15, 49), (16, 30)], 'to': [(10, 37), (14, 49), (15, 61)], 'never': [(12, 15)], 'practicality': [(11, 10)], 'should': [(12, 8), (15, 7)], 'Unless': [(13, 1)], 'silently': [(12, 26)], 'not': [(16, 23)], 'Errors': [(12, 1)], 'guess': [(14, 52)], 'There': [(15, 1)], 'Python': [(1, 12)], 'break': [(10, 40)], 'Tim': [(1, 23)], 'cases': [(10, 9)], 'preferably': [(15, 27)], 'do': [(15, 64)], 'dense': [(8, 23)], 'ugly': [(3, 26)], 'Zen': [(1, 5)], 'aren': [(10, 15)], 'Special': [(10, 1)], 'by': [(1, 20)], 'beats': [(11, 23)], 'Peters': [(1, 27)], 'one': [(15, 17), (15, 43)], 'special': [(10, 22)], 'purity': [(11, 29)], 'refuse': [(14, 27)], 'it': [(15, 67)], 'Flat': [(7, 1)], 'ambiguity': [(14, 16)], 'only': [(15, 38)], 'temptation': [(14, 38)], 'nested': [(7, 21)], 'Explicit': [(4, 1)], 'of': [(1, 9), (14, 13)], 'Beautiful': [(3, 1)], 'complex': [(5, 23)], 'Sparse': [(8, 1)], 'Complex': [(6, 1)], 'counts': [(9, 13)], 'be': [(15, 14), (16, 27)], 'The': [(1, 1)], 't': [(10, 20)], 'rules': [(10, 50)], 'In': [(14, 1)], 'that': [(16, 10)], 'complicated': [(6, 24)], 'is': [(3, 11), (4, 10), (5, 8), (6, 9), (7, 6), (8, 8)], 'better': [(3, 14), (4, 13), (5, 11), (6, 12), (7, 9), (8, 11)], 'Although': [(11, 1), (16, 1)], 'explicitly': [(13, 8)], 'first': [(16, 41)], 'face': [(14, 8)], 'enough': [(10, 30)], 'than': [(3, 21), (4, 20), (5, 18), (6, 19), (7, 16), (8, 18)], 'Simple': [(5, 1)]}\n",
      "unless\n",
      "setdefault: []\n",
      "{'pass': [(12, 21)], 'implicit': [(4, 25)], 'and': [(15, 23)], 'silenced': [(13, 19)], 'way': [(15, 57), (16, 15)], 'the': [(10, 46), (14, 4), (14, 34)], 'at': [(16, 38)], 'may': [(16, 19)], 'Readability': [(9, 1)], 'obvious': [(15, 49), (16, 30)], 'to': [(10, 37), (14, 49), (15, 61)], 'never': [(12, 15)], 'practicality': [(11, 10)], 'should': [(12, 8), (15, 7)], 'Unless': [(13, 1)], 'silently': [(12, 26)], 'not': [(16, 23)], 'Errors': [(12, 1)], 'guess': [(14, 52)], 'There': [(15, 1)], 'Python': [(1, 12)], 'break': [(10, 40)], 'Tim': [(1, 23)], 'cases': [(10, 9)], 'preferably': [(15, 27)], 'do': [(15, 64)], 'dense': [(8, 23)], 'ugly': [(3, 26)], 'Zen': [(1, 5)], 'aren': [(10, 15)], 'Special': [(10, 1)], 'by': [(1, 20)], 'beats': [(11, 23)], 'Peters': [(1, 27)], 'one': [(15, 17), (15, 43)], 'special': [(10, 22)], 'purity': [(11, 29)], 'refuse': [(14, 27)], 'it': [(15, 67)], 'Flat': [(7, 1)], 'ambiguity': [(14, 16)], 'only': [(15, 38)], 'temptation': [(14, 38)], 'nested': [(7, 21)], 'Explicit': [(4, 1)], 'of': [(1, 9), (14, 13)], 'Beautiful': [(3, 1)], 'complex': [(5, 23)], 'Sparse': [(8, 1)], 'Complex': [(6, 1)], 'counts': [(9, 13)], 'be': [(15, 14), (16, 27)], 'unless': [(16, 47)], 'The': [(1, 1)], 't': [(10, 20)], 'rules': [(10, 50)], 'In': [(14, 1)], 'that': [(16, 10)], 'complicated': [(6, 24)], 'is': [(3, 11), (4, 10), (5, 8), (6, 9), (7, 6), (8, 8)], 'better': [(3, 14), (4, 13), (5, 11), (6, 12), (7, 9), (8, 11)], 'Although': [(11, 1), (16, 1)], 'explicitly': [(13, 8)], 'first': [(16, 41)], 'face': [(14, 8)], 'enough': [(10, 30)], 'than': [(3, 21), (4, 20), (5, 18), (6, 19), (7, 16), (8, 18)], 'Simple': [(5, 1)]}\n",
      "you\n",
      "setdefault: []\n",
      "{'pass': [(12, 21)], 'implicit': [(4, 25)], 'and': [(15, 23)], 'silenced': [(13, 19)], 'way': [(15, 57), (16, 15)], 'the': [(10, 46), (14, 4), (14, 34)], 'at': [(16, 38)], 'may': [(16, 19)], 'Readability': [(9, 1)], 'obvious': [(15, 49), (16, 30)], 'to': [(10, 37), (14, 49), (15, 61)], 'never': [(12, 15)], 'practicality': [(11, 10)], 'should': [(12, 8), (15, 7)], 'Unless': [(13, 1)], 'silently': [(12, 26)], 'not': [(16, 23)], 'Errors': [(12, 1)], 'guess': [(14, 52)], 'There': [(15, 1)], 'Python': [(1, 12)], 'break': [(10, 40)], 'Tim': [(1, 23)], 'cases': [(10, 9)], 'preferably': [(15, 27)], 'do': [(15, 64)], 'dense': [(8, 23)], 'ugly': [(3, 26)], 'Zen': [(1, 5)], 'aren': [(10, 15)], 'Special': [(10, 1)], 'by': [(1, 20)], 'beats': [(11, 23)], 'Peters': [(1, 27)], 'one': [(15, 17), (15, 43)], 'special': [(10, 22)], 'purity': [(11, 29)], 'refuse': [(14, 27)], 'it': [(15, 67)], 'Flat': [(7, 1)], 'ambiguity': [(14, 16)], 'only': [(15, 38)], 'temptation': [(14, 38)], 'nested': [(7, 21)], 'Explicit': [(4, 1)], 'of': [(1, 9), (14, 13)], 'Beautiful': [(3, 1)], 'complex': [(5, 23)], 'Sparse': [(8, 1)], 'Complex': [(6, 1)], 'you': [(16, 54)], 'counts': [(9, 13)], 'be': [(15, 14), (16, 27)], 'unless': [(16, 47)], 'The': [(1, 1)], 't': [(10, 20)], 'rules': [(10, 50)], 'In': [(14, 1)], 'that': [(16, 10)], 'complicated': [(6, 24)], 'is': [(3, 11), (4, 10), (5, 8), (6, 9), (7, 6), (8, 8)], 'better': [(3, 14), (4, 13), (5, 11), (6, 12), (7, 9), (8, 11)], 'Although': [(11, 1), (16, 1)], 'explicitly': [(13, 8)], 'first': [(16, 41)], 'face': [(14, 8)], 'enough': [(10, 30)], 'than': [(3, 21), (4, 20), (5, 18), (6, 19), (7, 16), (8, 18)], 'Simple': [(5, 1)]}\n",
      "re\n",
      "setdefault: []\n",
      "{'pass': [(12, 21)], 'implicit': [(4, 25)], 'and': [(15, 23)], 'silenced': [(13, 19)], 'way': [(15, 57), (16, 15)], 'the': [(10, 46), (14, 4), (14, 34)], 'at': [(16, 38)], 'may': [(16, 19)], 'Readability': [(9, 1)], 'obvious': [(15, 49), (16, 30)], 'to': [(10, 37), (14, 49), (15, 61)], 'never': [(12, 15)], 'practicality': [(11, 10)], 'should': [(12, 8), (15, 7)], 'Unless': [(13, 1)], 'silently': [(12, 26)], 'not': [(16, 23)], 'Errors': [(12, 1)], 'guess': [(14, 52)], 'There': [(15, 1)], 'Python': [(1, 12)], 'break': [(10, 40)], 'Tim': [(1, 23)], 'cases': [(10, 9)], 'preferably': [(15, 27)], 'do': [(15, 64)], 're': [(16, 58)], 'dense': [(8, 23)], 'ugly': [(3, 26)], 'Zen': [(1, 5)], 'aren': [(10, 15)], 'Special': [(10, 1)], 'by': [(1, 20)], 'beats': [(11, 23)], 'Peters': [(1, 27)], 'one': [(15, 17), (15, 43)], 'special': [(10, 22)], 'purity': [(11, 29)], 'refuse': [(14, 27)], 'it': [(15, 67)], 'Flat': [(7, 1)], 'ambiguity': [(14, 16)], 'only': [(15, 38)], 'temptation': [(14, 38)], 'nested': [(7, 21)], 'Explicit': [(4, 1)], 'of': [(1, 9), (14, 13)], 'Beautiful': [(3, 1)], 'complex': [(5, 23)], 'Sparse': [(8, 1)], 'Complex': [(6, 1)], 'you': [(16, 54)], 'counts': [(9, 13)], 'be': [(15, 14), (16, 27)], 'unless': [(16, 47)], 'The': [(1, 1)], 't': [(10, 20)], 'rules': [(10, 50)], 'In': [(14, 1)], 'that': [(16, 10)], 'complicated': [(6, 24)], 'is': [(3, 11), (4, 10), (5, 8), (6, 9), (7, 6), (8, 8)], 'better': [(3, 14), (4, 13), (5, 11), (6, 12), (7, 9), (8, 11)], 'Although': [(11, 1), (16, 1)], 'explicitly': [(13, 8)], 'first': [(16, 41)], 'face': [(14, 8)], 'enough': [(10, 30)], 'than': [(3, 21), (4, 20), (5, 18), (6, 19), (7, 16), (8, 18)], 'Simple': [(5, 1)]}\n",
      "Dutch\n",
      "setdefault: []\n",
      "{'pass': [(12, 21)], 'implicit': [(4, 25)], 'and': [(15, 23)], 'silenced': [(13, 19)], 'way': [(15, 57), (16, 15)], 'the': [(10, 46), (14, 4), (14, 34)], 'at': [(16, 38)], 'may': [(16, 19)], 'Readability': [(9, 1)], 'obvious': [(15, 49), (16, 30)], 'to': [(10, 37), (14, 49), (15, 61)], 'never': [(12, 15)], 'practicality': [(11, 10)], 'should': [(12, 8), (15, 7)], 'Unless': [(13, 1)], 'silently': [(12, 26)], 'not': [(16, 23)], 'Errors': [(12, 1)], 'guess': [(14, 52)], 'There': [(15, 1)], 'Python': [(1, 12)], 'break': [(10, 40)], 'Tim': [(1, 23)], 'cases': [(10, 9)], 'preferably': [(15, 27)], 'do': [(15, 64)], 're': [(16, 58)], 'dense': [(8, 23)], 'ugly': [(3, 26)], 'Zen': [(1, 5)], 'aren': [(10, 15)], 'Special': [(10, 1)], 'by': [(1, 20)], 'beats': [(11, 23)], 'Peters': [(1, 27)], 'one': [(15, 17), (15, 43)], 'special': [(10, 22)], 'purity': [(11, 29)], 'refuse': [(14, 27)], 'it': [(15, 67)], 'Flat': [(7, 1)], 'ambiguity': [(14, 16)], 'only': [(15, 38)], 'temptation': [(14, 38)], 'nested': [(7, 21)], 'Explicit': [(4, 1)], 'of': [(1, 9), (14, 13)], 'Beautiful': [(3, 1)], 'complex': [(5, 23)], 'Sparse': [(8, 1)], 'Complex': [(6, 1)], 'you': [(16, 54)], 'counts': [(9, 13)], 'be': [(15, 14), (16, 27)], 'unless': [(16, 47)], 'The': [(1, 1)], 't': [(10, 20)], 'rules': [(10, 50)], 'In': [(14, 1)], 'that': [(16, 10)], 'complicated': [(6, 24)], 'is': [(3, 11), (4, 10), (5, 8), (6, 9), (7, 6), (8, 8)], 'Dutch': [(16, 61)], 'better': [(3, 14), (4, 13), (5, 11), (6, 12), (7, 9), (8, 11)], 'Although': [(11, 1), (16, 1)], 'explicitly': [(13, 8)], 'first': [(16, 41)], 'face': [(14, 8)], 'enough': [(10, 30)], 'than': [(3, 21), (4, 20), (5, 18), (6, 19), (7, 16), (8, 18)], 'Simple': [(5, 1)]}\n",
      "Now\n",
      "setdefault: []\n",
      "{'pass': [(12, 21)], 'implicit': [(4, 25)], 'and': [(15, 23)], 'silenced': [(13, 19)], 'way': [(15, 57), (16, 15)], 'the': [(10, 46), (14, 4), (14, 34)], 'at': [(16, 38)], 'may': [(16, 19)], 'Readability': [(9, 1)], 'obvious': [(15, 49), (16, 30)], 'to': [(10, 37), (14, 49), (15, 61)], 'never': [(12, 15)], 'practicality': [(11, 10)], 'should': [(12, 8), (15, 7)], 'Unless': [(13, 1)], 'silently': [(12, 26)], 'not': [(16, 23)], 'Errors': [(12, 1)], 'guess': [(14, 52)], 'There': [(15, 1)], 'Python': [(1, 12)], 'break': [(10, 40)], 'Tim': [(1, 23)], 'cases': [(10, 9)], 'preferably': [(15, 27)], 'do': [(15, 64)], 're': [(16, 58)], 'dense': [(8, 23)], 'ugly': [(3, 26)], 'Zen': [(1, 5)], 'aren': [(10, 15)], 'Special': [(10, 1)], 'by': [(1, 20)], 'beats': [(11, 23)], 'Now': [(17, 1)], 'Peters': [(1, 27)], 'one': [(15, 17), (15, 43)], 'special': [(10, 22)], 'purity': [(11, 29)], 'refuse': [(14, 27)], 'it': [(15, 67)], 'Flat': [(7, 1)], 'ambiguity': [(14, 16)], 'only': [(15, 38)], 'temptation': [(14, 38)], 'nested': [(7, 21)], 'Explicit': [(4, 1)], 'of': [(1, 9), (14, 13)], 'Beautiful': [(3, 1)], 'complex': [(5, 23)], 'Sparse': [(8, 1)], 'Complex': [(6, 1)], 'you': [(16, 54)], 'counts': [(9, 13)], 'be': [(15, 14), (16, 27)], 'unless': [(16, 47)], 'The': [(1, 1)], 't': [(10, 20)], 'rules': [(10, 50)], 'In': [(14, 1)], 'that': [(16, 10)], 'complicated': [(6, 24)], 'is': [(3, 11), (4, 10), (5, 8), (6, 9), (7, 6), (8, 8)], 'Dutch': [(16, 61)], 'better': [(3, 14), (4, 13), (5, 11), (6, 12), (7, 9), (8, 11)], 'Although': [(11, 1), (16, 1)], 'explicitly': [(13, 8)], 'first': [(16, 41)], 'face': [(14, 8)], 'enough': [(10, 30)], 'than': [(3, 21), (4, 20), (5, 18), (6, 19), (7, 16), (8, 18)], 'Simple': [(5, 1)]}\n",
      "is\n",
      "setdefault: [(3, 11), (4, 10), (5, 8), (6, 9), (7, 6), (8, 8)]\n",
      "{'pass': [(12, 21)], 'implicit': [(4, 25)], 'and': [(15, 23)], 'silenced': [(13, 19)], 'way': [(15, 57), (16, 15)], 'the': [(10, 46), (14, 4), (14, 34)], 'at': [(16, 38)], 'may': [(16, 19)], 'Readability': [(9, 1)], 'obvious': [(15, 49), (16, 30)], 'to': [(10, 37), (14, 49), (15, 61)], 'never': [(12, 15)], 'practicality': [(11, 10)], 'should': [(12, 8), (15, 7)], 'Unless': [(13, 1)], 'silently': [(12, 26)], 'not': [(16, 23)], 'Errors': [(12, 1)], 'guess': [(14, 52)], 'There': [(15, 1)], 'Python': [(1, 12)], 'break': [(10, 40)], 'Tim': [(1, 23)], 'cases': [(10, 9)], 'preferably': [(15, 27)], 'do': [(15, 64)], 're': [(16, 58)], 'dense': [(8, 23)], 'ugly': [(3, 26)], 'Zen': [(1, 5)], 'aren': [(10, 15)], 'Special': [(10, 1)], 'by': [(1, 20)], 'beats': [(11, 23)], 'Now': [(17, 1)], 'Peters': [(1, 27)], 'one': [(15, 17), (15, 43)], 'special': [(10, 22)], 'purity': [(11, 29)], 'refuse': [(14, 27)], 'it': [(15, 67)], 'Flat': [(7, 1)], 'ambiguity': [(14, 16)], 'only': [(15, 38)], 'temptation': [(14, 38)], 'nested': [(7, 21)], 'Explicit': [(4, 1)], 'of': [(1, 9), (14, 13)], 'Beautiful': [(3, 1)], 'complex': [(5, 23)], 'Sparse': [(8, 1)], 'Complex': [(6, 1)], 'you': [(16, 54)], 'counts': [(9, 13)], 'be': [(15, 14), (16, 27)], 'unless': [(16, 47)], 'The': [(1, 1)], 't': [(10, 20)], 'rules': [(10, 50)], 'In': [(14, 1)], 'that': [(16, 10)], 'complicated': [(6, 24)], 'is': [(3, 11), (4, 10), (5, 8), (6, 9), (7, 6), (8, 8), (17, 5)], 'Dutch': [(16, 61)], 'better': [(3, 14), (4, 13), (5, 11), (6, 12), (7, 9), (8, 11)], 'Although': [(11, 1), (16, 1)], 'explicitly': [(13, 8)], 'first': [(16, 41)], 'face': [(14, 8)], 'enough': [(10, 30)], 'than': [(3, 21), (4, 20), (5, 18), (6, 19), (7, 16), (8, 18)], 'Simple': [(5, 1)]}\n",
      "better\n",
      "setdefault: [(3, 14), (4, 13), (5, 11), (6, 12), (7, 9), (8, 11)]\n",
      "{'pass': [(12, 21)], 'implicit': [(4, 25)], 'and': [(15, 23)], 'silenced': [(13, 19)], 'way': [(15, 57), (16, 15)], 'the': [(10, 46), (14, 4), (14, 34)], 'at': [(16, 38)], 'may': [(16, 19)], 'Readability': [(9, 1)], 'obvious': [(15, 49), (16, 30)], 'to': [(10, 37), (14, 49), (15, 61)], 'never': [(12, 15)], 'practicality': [(11, 10)], 'should': [(12, 8), (15, 7)], 'Unless': [(13, 1)], 'silently': [(12, 26)], 'not': [(16, 23)], 'Errors': [(12, 1)], 'guess': [(14, 52)], 'There': [(15, 1)], 'Python': [(1, 12)], 'break': [(10, 40)], 'Tim': [(1, 23)], 'cases': [(10, 9)], 'preferably': [(15, 27)], 'do': [(15, 64)], 're': [(16, 58)], 'dense': [(8, 23)], 'ugly': [(3, 26)], 'Zen': [(1, 5)], 'aren': [(10, 15)], 'Special': [(10, 1)], 'by': [(1, 20)], 'beats': [(11, 23)], 'Now': [(17, 1)], 'Peters': [(1, 27)], 'one': [(15, 17), (15, 43)], 'special': [(10, 22)], 'purity': [(11, 29)], 'refuse': [(14, 27)], 'it': [(15, 67)], 'Flat': [(7, 1)], 'ambiguity': [(14, 16)], 'only': [(15, 38)], 'temptation': [(14, 38)], 'nested': [(7, 21)], 'Explicit': [(4, 1)], 'of': [(1, 9), (14, 13)], 'Beautiful': [(3, 1)], 'complex': [(5, 23)], 'Sparse': [(8, 1)], 'Complex': [(6, 1)], 'you': [(16, 54)], 'counts': [(9, 13)], 'be': [(15, 14), (16, 27)], 'unless': [(16, 47)], 'The': [(1, 1)], 't': [(10, 20)], 'rules': [(10, 50)], 'In': [(14, 1)], 'that': [(16, 10)], 'complicated': [(6, 24)], 'is': [(3, 11), (4, 10), (5, 8), (6, 9), (7, 6), (8, 8), (17, 5)], 'Dutch': [(16, 61)], 'better': [(3, 14), (4, 13), (5, 11), (6, 12), (7, 9), (8, 11), (17, 8)], 'Although': [(11, 1), (16, 1)], 'explicitly': [(13, 8)], 'first': [(16, 41)], 'face': [(14, 8)], 'enough': [(10, 30)], 'than': [(3, 21), (4, 20), (5, 18), (6, 19), (7, 16), (8, 18)], 'Simple': [(5, 1)]}\n",
      "than\n",
      "setdefault: [(3, 21), (4, 20), (5, 18), (6, 19), (7, 16), (8, 18)]\n",
      "{'pass': [(12, 21)], 'implicit': [(4, 25)], 'and': [(15, 23)], 'silenced': [(13, 19)], 'way': [(15, 57), (16, 15)], 'the': [(10, 46), (14, 4), (14, 34)], 'at': [(16, 38)], 'may': [(16, 19)], 'Readability': [(9, 1)], 'obvious': [(15, 49), (16, 30)], 'to': [(10, 37), (14, 49), (15, 61)], 'never': [(12, 15)], 'practicality': [(11, 10)], 'should': [(12, 8), (15, 7)], 'Unless': [(13, 1)], 'silently': [(12, 26)], 'not': [(16, 23)], 'Errors': [(12, 1)], 'guess': [(14, 52)], 'There': [(15, 1)], 'Python': [(1, 12)], 'break': [(10, 40)], 'Tim': [(1, 23)], 'cases': [(10, 9)], 'preferably': [(15, 27)], 'do': [(15, 64)], 're': [(16, 58)], 'dense': [(8, 23)], 'ugly': [(3, 26)], 'Zen': [(1, 5)], 'aren': [(10, 15)], 'Special': [(10, 1)], 'by': [(1, 20)], 'beats': [(11, 23)], 'Now': [(17, 1)], 'Peters': [(1, 27)], 'one': [(15, 17), (15, 43)], 'special': [(10, 22)], 'purity': [(11, 29)], 'refuse': [(14, 27)], 'it': [(15, 67)], 'Flat': [(7, 1)], 'ambiguity': [(14, 16)], 'only': [(15, 38)], 'temptation': [(14, 38)], 'nested': [(7, 21)], 'Explicit': [(4, 1)], 'of': [(1, 9), (14, 13)], 'Beautiful': [(3, 1)], 'complex': [(5, 23)], 'Sparse': [(8, 1)], 'Complex': [(6, 1)], 'you': [(16, 54)], 'counts': [(9, 13)], 'be': [(15, 14), (16, 27)], 'unless': [(16, 47)], 'The': [(1, 1)], 't': [(10, 20)], 'rules': [(10, 50)], 'In': [(14, 1)], 'that': [(16, 10)], 'complicated': [(6, 24)], 'is': [(3, 11), (4, 10), (5, 8), (6, 9), (7, 6), (8, 8), (17, 5)], 'Dutch': [(16, 61)], 'better': [(3, 14), (4, 13), (5, 11), (6, 12), (7, 9), (8, 11), (17, 8)], 'Although': [(11, 1), (16, 1)], 'explicitly': [(13, 8)], 'first': [(16, 41)], 'face': [(14, 8)], 'enough': [(10, 30)], 'than': [(3, 21), (4, 20), (5, 18), (6, 19), (7, 16), (8, 18), (17, 15)], 'Simple': [(5, 1)]}\n",
      "never\n",
      "setdefault: [(12, 15)]\n",
      "{'pass': [(12, 21)], 'implicit': [(4, 25)], 'and': [(15, 23)], 'silenced': [(13, 19)], 'way': [(15, 57), (16, 15)], 'the': [(10, 46), (14, 4), (14, 34)], 'at': [(16, 38)], 'may': [(16, 19)], 'Readability': [(9, 1)], 'obvious': [(15, 49), (16, 30)], 'to': [(10, 37), (14, 49), (15, 61)], 'never': [(12, 15), (17, 20)], 'practicality': [(11, 10)], 'should': [(12, 8), (15, 7)], 'Unless': [(13, 1)], 'silently': [(12, 26)], 'not': [(16, 23)], 'Errors': [(12, 1)], 'guess': [(14, 52)], 'There': [(15, 1)], 'Python': [(1, 12)], 'break': [(10, 40)], 'Tim': [(1, 23)], 'cases': [(10, 9)], 'preferably': [(15, 27)], 'do': [(15, 64)], 're': [(16, 58)], 'dense': [(8, 23)], 'ugly': [(3, 26)], 'Zen': [(1, 5)], 'aren': [(10, 15)], 'Special': [(10, 1)], 'by': [(1, 20)], 'beats': [(11, 23)], 'Now': [(17, 1)], 'Peters': [(1, 27)], 'one': [(15, 17), (15, 43)], 'special': [(10, 22)], 'purity': [(11, 29)], 'refuse': [(14, 27)], 'it': [(15, 67)], 'Flat': [(7, 1)], 'ambiguity': [(14, 16)], 'only': [(15, 38)], 'temptation': [(14, 38)], 'nested': [(7, 21)], 'Explicit': [(4, 1)], 'of': [(1, 9), (14, 13)], 'Beautiful': [(3, 1)], 'complex': [(5, 23)], 'Sparse': [(8, 1)], 'Complex': [(6, 1)], 'you': [(16, 54)], 'counts': [(9, 13)], 'be': [(15, 14), (16, 27)], 'unless': [(16, 47)], 'The': [(1, 1)], 't': [(10, 20)], 'rules': [(10, 50)], 'In': [(14, 1)], 'that': [(16, 10)], 'complicated': [(6, 24)], 'is': [(3, 11), (4, 10), (5, 8), (6, 9), (7, 6), (8, 8), (17, 5)], 'Dutch': [(16, 61)], 'better': [(3, 14), (4, 13), (5, 11), (6, 12), (7, 9), (8, 11), (17, 8)], 'Although': [(11, 1), (16, 1)], 'explicitly': [(13, 8)], 'first': [(16, 41)], 'face': [(14, 8)], 'enough': [(10, 30)], 'than': [(3, 21), (4, 20), (5, 18), (6, 19), (7, 16), (8, 18), (17, 15)], 'Simple': [(5, 1)]}\n",
      "Although\n",
      "setdefault: [(11, 1), (16, 1)]\n",
      "{'pass': [(12, 21)], 'implicit': [(4, 25)], 'and': [(15, 23)], 'silenced': [(13, 19)], 'way': [(15, 57), (16, 15)], 'the': [(10, 46), (14, 4), (14, 34)], 'at': [(16, 38)], 'may': [(16, 19)], 'Readability': [(9, 1)], 'obvious': [(15, 49), (16, 30)], 'to': [(10, 37), (14, 49), (15, 61)], 'never': [(12, 15), (17, 20)], 'practicality': [(11, 10)], 'should': [(12, 8), (15, 7)], 'Unless': [(13, 1)], 'silently': [(12, 26)], 'not': [(16, 23)], 'Errors': [(12, 1)], 'guess': [(14, 52)], 'There': [(15, 1)], 'Python': [(1, 12)], 'break': [(10, 40)], 'Tim': [(1, 23)], 'cases': [(10, 9)], 'preferably': [(15, 27)], 'do': [(15, 64)], 're': [(16, 58)], 'dense': [(8, 23)], 'ugly': [(3, 26)], 'Zen': [(1, 5)], 'aren': [(10, 15)], 'Special': [(10, 1)], 'by': [(1, 20)], 'beats': [(11, 23)], 'Now': [(17, 1)], 'Peters': [(1, 27)], 'one': [(15, 17), (15, 43)], 'special': [(10, 22)], 'purity': [(11, 29)], 'refuse': [(14, 27)], 'it': [(15, 67)], 'Flat': [(7, 1)], 'ambiguity': [(14, 16)], 'only': [(15, 38)], 'temptation': [(14, 38)], 'nested': [(7, 21)], 'Explicit': [(4, 1)], 'of': [(1, 9), (14, 13)], 'Beautiful': [(3, 1)], 'complex': [(5, 23)], 'Sparse': [(8, 1)], 'Complex': [(6, 1)], 'you': [(16, 54)], 'counts': [(9, 13)], 'be': [(15, 14), (16, 27)], 'unless': [(16, 47)], 'The': [(1, 1)], 't': [(10, 20)], 'rules': [(10, 50)], 'In': [(14, 1)], 'that': [(16, 10)], 'complicated': [(6, 24)], 'is': [(3, 11), (4, 10), (5, 8), (6, 9), (7, 6), (8, 8), (17, 5)], 'Dutch': [(16, 61)], 'better': [(3, 14), (4, 13), (5, 11), (6, 12), (7, 9), (8, 11), (17, 8)], 'Although': [(11, 1), (16, 1), (18, 1)], 'explicitly': [(13, 8)], 'first': [(16, 41)], 'face': [(14, 8)], 'enough': [(10, 30)], 'than': [(3, 21), (4, 20), (5, 18), (6, 19), (7, 16), (8, 18), (17, 15)], 'Simple': [(5, 1)]}\n",
      "never\n",
      "setdefault: [(12, 15), (17, 20)]\n",
      "{'pass': [(12, 21)], 'implicit': [(4, 25)], 'and': [(15, 23)], 'silenced': [(13, 19)], 'way': [(15, 57), (16, 15)], 'the': [(10, 46), (14, 4), (14, 34)], 'at': [(16, 38)], 'may': [(16, 19)], 'Readability': [(9, 1)], 'obvious': [(15, 49), (16, 30)], 'to': [(10, 37), (14, 49), (15, 61)], 'never': [(12, 15), (17, 20), (18, 10)], 'practicality': [(11, 10)], 'should': [(12, 8), (15, 7)], 'Unless': [(13, 1)], 'silently': [(12, 26)], 'not': [(16, 23)], 'Errors': [(12, 1)], 'guess': [(14, 52)], 'There': [(15, 1)], 'Python': [(1, 12)], 'break': [(10, 40)], 'Tim': [(1, 23)], 'cases': [(10, 9)], 'preferably': [(15, 27)], 'do': [(15, 64)], 're': [(16, 58)], 'dense': [(8, 23)], 'ugly': [(3, 26)], 'Zen': [(1, 5)], 'aren': [(10, 15)], 'Special': [(10, 1)], 'by': [(1, 20)], 'beats': [(11, 23)], 'Now': [(17, 1)], 'Peters': [(1, 27)], 'one': [(15, 17), (15, 43)], 'special': [(10, 22)], 'purity': [(11, 29)], 'refuse': [(14, 27)], 'it': [(15, 67)], 'Flat': [(7, 1)], 'ambiguity': [(14, 16)], 'only': [(15, 38)], 'temptation': [(14, 38)], 'nested': [(7, 21)], 'Explicit': [(4, 1)], 'of': [(1, 9), (14, 13)], 'Beautiful': [(3, 1)], 'complex': [(5, 23)], 'Sparse': [(8, 1)], 'Complex': [(6, 1)], 'you': [(16, 54)], 'counts': [(9, 13)], 'be': [(15, 14), (16, 27)], 'unless': [(16, 47)], 'The': [(1, 1)], 't': [(10, 20)], 'rules': [(10, 50)], 'In': [(14, 1)], 'that': [(16, 10)], 'complicated': [(6, 24)], 'is': [(3, 11), (4, 10), (5, 8), (6, 9), (7, 6), (8, 8), (17, 5)], 'Dutch': [(16, 61)], 'better': [(3, 14), (4, 13), (5, 11), (6, 12), (7, 9), (8, 11), (17, 8)], 'Although': [(11, 1), (16, 1), (18, 1)], 'explicitly': [(13, 8)], 'first': [(16, 41)], 'face': [(14, 8)], 'enough': [(10, 30)], 'than': [(3, 21), (4, 20), (5, 18), (6, 19), (7, 16), (8, 18), (17, 15)], 'Simple': [(5, 1)]}\n",
      "is\n",
      "setdefault: [(3, 11), (4, 10), (5, 8), (6, 9), (7, 6), (8, 8), (17, 5)]\n",
      "{'pass': [(12, 21)], 'implicit': [(4, 25)], 'and': [(15, 23)], 'silenced': [(13, 19)], 'way': [(15, 57), (16, 15)], 'the': [(10, 46), (14, 4), (14, 34)], 'at': [(16, 38)], 'may': [(16, 19)], 'Readability': [(9, 1)], 'obvious': [(15, 49), (16, 30)], 'to': [(10, 37), (14, 49), (15, 61)], 'never': [(12, 15), (17, 20), (18, 10)], 'practicality': [(11, 10)], 'should': [(12, 8), (15, 7)], 'Unless': [(13, 1)], 'silently': [(12, 26)], 'not': [(16, 23)], 'Errors': [(12, 1)], 'guess': [(14, 52)], 'There': [(15, 1)], 'Python': [(1, 12)], 'break': [(10, 40)], 'Tim': [(1, 23)], 'cases': [(10, 9)], 'preferably': [(15, 27)], 'do': [(15, 64)], 're': [(16, 58)], 'dense': [(8, 23)], 'ugly': [(3, 26)], 'Zen': [(1, 5)], 'aren': [(10, 15)], 'Special': [(10, 1)], 'by': [(1, 20)], 'beats': [(11, 23)], 'Now': [(17, 1)], 'Peters': [(1, 27)], 'one': [(15, 17), (15, 43)], 'special': [(10, 22)], 'purity': [(11, 29)], 'refuse': [(14, 27)], 'it': [(15, 67)], 'Flat': [(7, 1)], 'ambiguity': [(14, 16)], 'only': [(15, 38)], 'temptation': [(14, 38)], 'nested': [(7, 21)], 'Explicit': [(4, 1)], 'of': [(1, 9), (14, 13)], 'Beautiful': [(3, 1)], 'complex': [(5, 23)], 'Sparse': [(8, 1)], 'Complex': [(6, 1)], 'you': [(16, 54)], 'counts': [(9, 13)], 'be': [(15, 14), (16, 27)], 'unless': [(16, 47)], 'The': [(1, 1)], 't': [(10, 20)], 'rules': [(10, 50)], 'In': [(14, 1)], 'that': [(16, 10)], 'complicated': [(6, 24)], 'is': [(3, 11), (4, 10), (5, 8), (6, 9), (7, 6), (8, 8), (17, 5), (18, 16)], 'Dutch': [(16, 61)], 'better': [(3, 14), (4, 13), (5, 11), (6, 12), (7, 9), (8, 11), (17, 8)], 'Although': [(11, 1), (16, 1), (18, 1)], 'explicitly': [(13, 8)], 'first': [(16, 41)], 'face': [(14, 8)], 'enough': [(10, 30)], 'than': [(3, 21), (4, 20), (5, 18), (6, 19), (7, 16), (8, 18), (17, 15)], 'Simple': [(5, 1)]}\n",
      "often\n",
      "setdefault: []\n",
      "{'pass': [(12, 21)], 'implicit': [(4, 25)], 'and': [(15, 23)], 'silenced': [(13, 19)], 'way': [(15, 57), (16, 15)], 'the': [(10, 46), (14, 4), (14, 34)], 'at': [(16, 38)], 'may': [(16, 19)], 'Readability': [(9, 1)], 'obvious': [(15, 49), (16, 30)], 'to': [(10, 37), (14, 49), (15, 61)], 'never': [(12, 15), (17, 20), (18, 10)], 'practicality': [(11, 10)], 'should': [(12, 8), (15, 7)], 'Unless': [(13, 1)], 'silently': [(12, 26)], 'not': [(16, 23)], 'Errors': [(12, 1)], 'guess': [(14, 52)], 'There': [(15, 1)], 'Python': [(1, 12)], 'break': [(10, 40)], 'Tim': [(1, 23)], 'cases': [(10, 9)], 'preferably': [(15, 27)], 'do': [(15, 64)], 're': [(16, 58)], 'dense': [(8, 23)], 'ugly': [(3, 26)], 'Zen': [(1, 5)], 'aren': [(10, 15)], 'Special': [(10, 1)], 'by': [(1, 20)], 'beats': [(11, 23)], 'Now': [(17, 1)], 'often': [(18, 19)], 'Peters': [(1, 27)], 'one': [(15, 17), (15, 43)], 'special': [(10, 22)], 'purity': [(11, 29)], 'refuse': [(14, 27)], 'it': [(15, 67)], 'Flat': [(7, 1)], 'ambiguity': [(14, 16)], 'only': [(15, 38)], 'temptation': [(14, 38)], 'nested': [(7, 21)], 'Explicit': [(4, 1)], 'of': [(1, 9), (14, 13)], 'Beautiful': [(3, 1)], 'complex': [(5, 23)], 'Sparse': [(8, 1)], 'Complex': [(6, 1)], 'you': [(16, 54)], 'counts': [(9, 13)], 'be': [(15, 14), (16, 27)], 'unless': [(16, 47)], 'The': [(1, 1)], 't': [(10, 20)], 'rules': [(10, 50)], 'In': [(14, 1)], 'that': [(16, 10)], 'complicated': [(6, 24)], 'is': [(3, 11), (4, 10), (5, 8), (6, 9), (7, 6), (8, 8), (17, 5), (18, 16)], 'Dutch': [(16, 61)], 'better': [(3, 14), (4, 13), (5, 11), (6, 12), (7, 9), (8, 11), (17, 8)], 'Although': [(11, 1), (16, 1), (18, 1)], 'explicitly': [(13, 8)], 'first': [(16, 41)], 'face': [(14, 8)], 'enough': [(10, 30)], 'than': [(3, 21), (4, 20), (5, 18), (6, 19), (7, 16), (8, 18), (17, 15)], 'Simple': [(5, 1)]}\n",
      "better\n",
      "setdefault: [(3, 14), (4, 13), (5, 11), (6, 12), (7, 9), (8, 11), (17, 8)]\n",
      "{'pass': [(12, 21)], 'implicit': [(4, 25)], 'and': [(15, 23)], 'silenced': [(13, 19)], 'way': [(15, 57), (16, 15)], 'the': [(10, 46), (14, 4), (14, 34)], 'at': [(16, 38)], 'may': [(16, 19)], 'Readability': [(9, 1)], 'obvious': [(15, 49), (16, 30)], 'to': [(10, 37), (14, 49), (15, 61)], 'never': [(12, 15), (17, 20), (18, 10)], 'practicality': [(11, 10)], 'should': [(12, 8), (15, 7)], 'Unless': [(13, 1)], 'silently': [(12, 26)], 'not': [(16, 23)], 'Errors': [(12, 1)], 'guess': [(14, 52)], 'There': [(15, 1)], 'Python': [(1, 12)], 'break': [(10, 40)], 'Tim': [(1, 23)], 'cases': [(10, 9)], 'preferably': [(15, 27)], 'do': [(15, 64)], 're': [(16, 58)], 'dense': [(8, 23)], 'ugly': [(3, 26)], 'Zen': [(1, 5)], 'aren': [(10, 15)], 'Special': [(10, 1)], 'by': [(1, 20)], 'beats': [(11, 23)], 'Now': [(17, 1)], 'often': [(18, 19)], 'Peters': [(1, 27)], 'one': [(15, 17), (15, 43)], 'special': [(10, 22)], 'purity': [(11, 29)], 'refuse': [(14, 27)], 'it': [(15, 67)], 'Flat': [(7, 1)], 'ambiguity': [(14, 16)], 'only': [(15, 38)], 'temptation': [(14, 38)], 'nested': [(7, 21)], 'Explicit': [(4, 1)], 'of': [(1, 9), (14, 13)], 'Beautiful': [(3, 1)], 'complex': [(5, 23)], 'Sparse': [(8, 1)], 'Complex': [(6, 1)], 'you': [(16, 54)], 'counts': [(9, 13)], 'be': [(15, 14), (16, 27)], 'unless': [(16, 47)], 'The': [(1, 1)], 't': [(10, 20)], 'rules': [(10, 50)], 'In': [(14, 1)], 'that': [(16, 10)], 'complicated': [(6, 24)], 'is': [(3, 11), (4, 10), (5, 8), (6, 9), (7, 6), (8, 8), (17, 5), (18, 16)], 'Dutch': [(16, 61)], 'better': [(3, 14), (4, 13), (5, 11), (6, 12), (7, 9), (8, 11), (17, 8), (18, 25)], 'Although': [(11, 1), (16, 1), (18, 1)], 'explicitly': [(13, 8)], 'first': [(16, 41)], 'face': [(14, 8)], 'enough': [(10, 30)], 'than': [(3, 21), (4, 20), (5, 18), (6, 19), (7, 16), (8, 18), (17, 15)], 'Simple': [(5, 1)]}\n",
      "than\n",
      "setdefault: [(3, 21), (4, 20), (5, 18), (6, 19), (7, 16), (8, 18), (17, 15)]\n",
      "{'pass': [(12, 21)], 'implicit': [(4, 25)], 'and': [(15, 23)], 'silenced': [(13, 19)], 'way': [(15, 57), (16, 15)], 'the': [(10, 46), (14, 4), (14, 34)], 'at': [(16, 38)], 'may': [(16, 19)], 'Readability': [(9, 1)], 'obvious': [(15, 49), (16, 30)], 'to': [(10, 37), (14, 49), (15, 61)], 'never': [(12, 15), (17, 20), (18, 10)], 'practicality': [(11, 10)], 'should': [(12, 8), (15, 7)], 'Unless': [(13, 1)], 'silently': [(12, 26)], 'not': [(16, 23)], 'Errors': [(12, 1)], 'guess': [(14, 52)], 'There': [(15, 1)], 'Python': [(1, 12)], 'break': [(10, 40)], 'Tim': [(1, 23)], 'cases': [(10, 9)], 'preferably': [(15, 27)], 'do': [(15, 64)], 're': [(16, 58)], 'dense': [(8, 23)], 'ugly': [(3, 26)], 'Zen': [(1, 5)], 'aren': [(10, 15)], 'Special': [(10, 1)], 'by': [(1, 20)], 'beats': [(11, 23)], 'Now': [(17, 1)], 'often': [(18, 19)], 'Peters': [(1, 27)], 'one': [(15, 17), (15, 43)], 'special': [(10, 22)], 'purity': [(11, 29)], 'refuse': [(14, 27)], 'it': [(15, 67)], 'Flat': [(7, 1)], 'ambiguity': [(14, 16)], 'only': [(15, 38)], 'temptation': [(14, 38)], 'nested': [(7, 21)], 'Explicit': [(4, 1)], 'of': [(1, 9), (14, 13)], 'Beautiful': [(3, 1)], 'complex': [(5, 23)], 'Sparse': [(8, 1)], 'Complex': [(6, 1)], 'you': [(16, 54)], 'counts': [(9, 13)], 'be': [(15, 14), (16, 27)], 'unless': [(16, 47)], 'The': [(1, 1)], 't': [(10, 20)], 'rules': [(10, 50)], 'In': [(14, 1)], 'that': [(16, 10)], 'complicated': [(6, 24)], 'is': [(3, 11), (4, 10), (5, 8), (6, 9), (7, 6), (8, 8), (17, 5), (18, 16)], 'Dutch': [(16, 61)], 'better': [(3, 14), (4, 13), (5, 11), (6, 12), (7, 9), (8, 11), (17, 8), (18, 25)], 'Although': [(11, 1), (16, 1), (18, 1)], 'explicitly': [(13, 8)], 'first': [(16, 41)], 'face': [(14, 8)], 'enough': [(10, 30)], 'than': [(3, 21), (4, 20), (5, 18), (6, 19), (7, 16), (8, 18), (17, 15), (18, 32)], 'Simple': [(5, 1)]}\n",
      "right\n",
      "setdefault: []\n",
      "{'pass': [(12, 21)], 'implicit': [(4, 25)], 'and': [(15, 23)], 'silenced': [(13, 19)], 'way': [(15, 57), (16, 15)], 'the': [(10, 46), (14, 4), (14, 34)], 'at': [(16, 38)], 'may': [(16, 19)], 'Readability': [(9, 1)], 'obvious': [(15, 49), (16, 30)], 'to': [(10, 37), (14, 49), (15, 61)], 'never': [(12, 15), (17, 20), (18, 10)], 'practicality': [(11, 10)], 'should': [(12, 8), (15, 7)], 'Unless': [(13, 1)], 'silently': [(12, 26)], 'not': [(16, 23)], 'Errors': [(12, 1)], 'guess': [(14, 52)], 'There': [(15, 1)], 'Python': [(1, 12)], 'break': [(10, 40)], 'Tim': [(1, 23)], 'cases': [(10, 9)], 'preferably': [(15, 27)], 'do': [(15, 64)], 're': [(16, 58)], 'dense': [(8, 23)], 'ugly': [(3, 26)], 'Zen': [(1, 5)], 'aren': [(10, 15)], 'Special': [(10, 1)], 'by': [(1, 20)], 'beats': [(11, 23)], 'Now': [(17, 1)], 'often': [(18, 19)], 'Peters': [(1, 27)], 'one': [(15, 17), (15, 43)], 'special': [(10, 22)], 'purity': [(11, 29)], 'refuse': [(14, 27)], 'it': [(15, 67)], 'Flat': [(7, 1)], 'ambiguity': [(14, 16)], 'only': [(15, 38)], 'temptation': [(14, 38)], 'nested': [(7, 21)], 'Explicit': [(4, 1)], 'of': [(1, 9), (14, 13)], 'Beautiful': [(3, 1)], 'complex': [(5, 23)], 'Sparse': [(8, 1)], 'Complex': [(6, 1)], 'you': [(16, 54)], 'counts': [(9, 13)], 'be': [(15, 14), (16, 27)], 'right': [(18, 38)], 'unless': [(16, 47)], 'The': [(1, 1)], 't': [(10, 20)], 'rules': [(10, 50)], 'In': [(14, 1)], 'that': [(16, 10)], 'complicated': [(6, 24)], 'is': [(3, 11), (4, 10), (5, 8), (6, 9), (7, 6), (8, 8), (17, 5), (18, 16)], 'Dutch': [(16, 61)], 'better': [(3, 14), (4, 13), (5, 11), (6, 12), (7, 9), (8, 11), (17, 8), (18, 25)], 'Although': [(11, 1), (16, 1), (18, 1)], 'explicitly': [(13, 8)], 'first': [(16, 41)], 'face': [(14, 8)], 'enough': [(10, 30)], 'than': [(3, 21), (4, 20), (5, 18), (6, 19), (7, 16), (8, 18), (17, 15), (18, 32)], 'Simple': [(5, 1)]}\n",
      "now\n",
      "setdefault: []\n",
      "{'pass': [(12, 21)], 'implicit': [(4, 25)], 'and': [(15, 23)], 'silenced': [(13, 19)], 'way': [(15, 57), (16, 15)], 'the': [(10, 46), (14, 4), (14, 34)], 'at': [(16, 38)], 'may': [(16, 19)], 'Readability': [(9, 1)], 'obvious': [(15, 49), (16, 30)], 'to': [(10, 37), (14, 49), (15, 61)], 'never': [(12, 15), (17, 20), (18, 10)], 'practicality': [(11, 10)], 'should': [(12, 8), (15, 7)], 'Unless': [(13, 1)], 'silently': [(12, 26)], 'not': [(16, 23)], 'Errors': [(12, 1)], 'guess': [(14, 52)], 'There': [(15, 1)], 'Python': [(1, 12)], 'break': [(10, 40)], 'Tim': [(1, 23)], 'cases': [(10, 9)], 'preferably': [(15, 27)], 'do': [(15, 64)], 're': [(16, 58)], 'dense': [(8, 23)], 'ugly': [(3, 26)], 'Zen': [(1, 5)], 'aren': [(10, 15)], 'now': [(18, 45)], 'Special': [(10, 1)], 'by': [(1, 20)], 'beats': [(11, 23)], 'Now': [(17, 1)], 'often': [(18, 19)], 'Peters': [(1, 27)], 'one': [(15, 17), (15, 43)], 'special': [(10, 22)], 'purity': [(11, 29)], 'refuse': [(14, 27)], 'it': [(15, 67)], 'Flat': [(7, 1)], 'ambiguity': [(14, 16)], 'only': [(15, 38)], 'temptation': [(14, 38)], 'nested': [(7, 21)], 'Explicit': [(4, 1)], 'of': [(1, 9), (14, 13)], 'Beautiful': [(3, 1)], 'complex': [(5, 23)], 'Sparse': [(8, 1)], 'Complex': [(6, 1)], 'you': [(16, 54)], 'counts': [(9, 13)], 'be': [(15, 14), (16, 27)], 'right': [(18, 38)], 'unless': [(16, 47)], 'The': [(1, 1)], 't': [(10, 20)], 'rules': [(10, 50)], 'In': [(14, 1)], 'that': [(16, 10)], 'complicated': [(6, 24)], 'is': [(3, 11), (4, 10), (5, 8), (6, 9), (7, 6), (8, 8), (17, 5), (18, 16)], 'Dutch': [(16, 61)], 'better': [(3, 14), (4, 13), (5, 11), (6, 12), (7, 9), (8, 11), (17, 8), (18, 25)], 'Although': [(11, 1), (16, 1), (18, 1)], 'explicitly': [(13, 8)], 'first': [(16, 41)], 'face': [(14, 8)], 'enough': [(10, 30)], 'than': [(3, 21), (4, 20), (5, 18), (6, 19), (7, 16), (8, 18), (17, 15), (18, 32)], 'Simple': [(5, 1)]}\n",
      "If\n",
      "setdefault: []\n",
      "{'pass': [(12, 21)], 'implicit': [(4, 25)], 'and': [(15, 23)], 'silenced': [(13, 19)], 'way': [(15, 57), (16, 15)], 'the': [(10, 46), (14, 4), (14, 34)], 'at': [(16, 38)], 'may': [(16, 19)], 'Readability': [(9, 1)], 'obvious': [(15, 49), (16, 30)], 'to': [(10, 37), (14, 49), (15, 61)], 'never': [(12, 15), (17, 20), (18, 10)], 'practicality': [(11, 10)], 'should': [(12, 8), (15, 7)], 'Unless': [(13, 1)], 'silently': [(12, 26)], 'not': [(16, 23)], 'Errors': [(12, 1)], 'guess': [(14, 52)], 'There': [(15, 1)], 'Python': [(1, 12)], 'break': [(10, 40)], 'Tim': [(1, 23)], 'cases': [(10, 9)], 'preferably': [(15, 27)], 'do': [(15, 64)], 're': [(16, 58)], 'dense': [(8, 23)], 'ugly': [(3, 26)], 'Zen': [(1, 5)], 'aren': [(10, 15)], 'now': [(18, 45)], 'Special': [(10, 1)], 'by': [(1, 20)], 'If': [(19, 1)], 'beats': [(11, 23)], 'Now': [(17, 1)], 'often': [(18, 19)], 'Peters': [(1, 27)], 'one': [(15, 17), (15, 43)], 'special': [(10, 22)], 'purity': [(11, 29)], 'refuse': [(14, 27)], 'it': [(15, 67)], 'Flat': [(7, 1)], 'ambiguity': [(14, 16)], 'only': [(15, 38)], 'temptation': [(14, 38)], 'nested': [(7, 21)], 'Explicit': [(4, 1)], 'of': [(1, 9), (14, 13)], 'Beautiful': [(3, 1)], 'complex': [(5, 23)], 'Sparse': [(8, 1)], 'Complex': [(6, 1)], 'you': [(16, 54)], 'counts': [(9, 13)], 'be': [(15, 14), (16, 27)], 'right': [(18, 38)], 'unless': [(16, 47)], 'The': [(1, 1)], 't': [(10, 20)], 'rules': [(10, 50)], 'In': [(14, 1)], 'that': [(16, 10)], 'complicated': [(6, 24)], 'is': [(3, 11), (4, 10), (5, 8), (6, 9), (7, 6), (8, 8), (17, 5), (18, 16)], 'Dutch': [(16, 61)], 'better': [(3, 14), (4, 13), (5, 11), (6, 12), (7, 9), (8, 11), (17, 8), (18, 25)], 'Although': [(11, 1), (16, 1), (18, 1)], 'explicitly': [(13, 8)], 'first': [(16, 41)], 'face': [(14, 8)], 'enough': [(10, 30)], 'than': [(3, 21), (4, 20), (5, 18), (6, 19), (7, 16), (8, 18), (17, 15), (18, 32)], 'Simple': [(5, 1)]}\n",
      "the\n",
      "setdefault: [(10, 46), (14, 4), (14, 34)]\n",
      "{'pass': [(12, 21)], 'implicit': [(4, 25)], 'and': [(15, 23)], 'silenced': [(13, 19)], 'way': [(15, 57), (16, 15)], 'the': [(10, 46), (14, 4), (14, 34), (19, 4)], 'at': [(16, 38)], 'may': [(16, 19)], 'Readability': [(9, 1)], 'obvious': [(15, 49), (16, 30)], 'to': [(10, 37), (14, 49), (15, 61)], 'never': [(12, 15), (17, 20), (18, 10)], 'practicality': [(11, 10)], 'should': [(12, 8), (15, 7)], 'Unless': [(13, 1)], 'silently': [(12, 26)], 'not': [(16, 23)], 'Errors': [(12, 1)], 'guess': [(14, 52)], 'There': [(15, 1)], 'Python': [(1, 12)], 'break': [(10, 40)], 'Tim': [(1, 23)], 'cases': [(10, 9)], 'preferably': [(15, 27)], 'do': [(15, 64)], 're': [(16, 58)], 'dense': [(8, 23)], 'ugly': [(3, 26)], 'Zen': [(1, 5)], 'aren': [(10, 15)], 'now': [(18, 45)], 'Special': [(10, 1)], 'by': [(1, 20)], 'If': [(19, 1)], 'beats': [(11, 23)], 'Now': [(17, 1)], 'often': [(18, 19)], 'Peters': [(1, 27)], 'one': [(15, 17), (15, 43)], 'special': [(10, 22)], 'purity': [(11, 29)], 'refuse': [(14, 27)], 'it': [(15, 67)], 'Flat': [(7, 1)], 'ambiguity': [(14, 16)], 'only': [(15, 38)], 'temptation': [(14, 38)], 'nested': [(7, 21)], 'Explicit': [(4, 1)], 'of': [(1, 9), (14, 13)], 'Beautiful': [(3, 1)], 'complex': [(5, 23)], 'Sparse': [(8, 1)], 'Complex': [(6, 1)], 'you': [(16, 54)], 'counts': [(9, 13)], 'be': [(15, 14), (16, 27)], 'right': [(18, 38)], 'unless': [(16, 47)], 'The': [(1, 1)], 't': [(10, 20)], 'rules': [(10, 50)], 'In': [(14, 1)], 'that': [(16, 10)], 'complicated': [(6, 24)], 'is': [(3, 11), (4, 10), (5, 8), (6, 9), (7, 6), (8, 8), (17, 5), (18, 16)], 'Dutch': [(16, 61)], 'better': [(3, 14), (4, 13), (5, 11), (6, 12), (7, 9), (8, 11), (17, 8), (18, 25)], 'Although': [(11, 1), (16, 1), (18, 1)], 'explicitly': [(13, 8)], 'first': [(16, 41)], 'face': [(14, 8)], 'enough': [(10, 30)], 'than': [(3, 21), (4, 20), (5, 18), (6, 19), (7, 16), (8, 18), (17, 15), (18, 32)], 'Simple': [(5, 1)]}\n",
      "implementation\n",
      "setdefault: []\n",
      "{'pass': [(12, 21)], 'implicit': [(4, 25)], 'and': [(15, 23)], 'silenced': [(13, 19)], 'way': [(15, 57), (16, 15)], 'the': [(10, 46), (14, 4), (14, 34), (19, 4)], 'at': [(16, 38)], 'may': [(16, 19)], 'Readability': [(9, 1)], 'obvious': [(15, 49), (16, 30)], 'to': [(10, 37), (14, 49), (15, 61)], 'never': [(12, 15), (17, 20), (18, 10)], 'practicality': [(11, 10)], 'should': [(12, 8), (15, 7)], 'Unless': [(13, 1)], 'silently': [(12, 26)], 'not': [(16, 23)], 'Errors': [(12, 1)], 'guess': [(14, 52)], 'There': [(15, 1)], 'Python': [(1, 12)], 'break': [(10, 40)], 'Tim': [(1, 23)], 'cases': [(10, 9)], 'preferably': [(15, 27)], 'do': [(15, 64)], 're': [(16, 58)], 'dense': [(8, 23)], 'ugly': [(3, 26)], 'Zen': [(1, 5)], 'aren': [(10, 15)], 'now': [(18, 45)], 'Special': [(10, 1)], 'by': [(1, 20)], 'If': [(19, 1)], 'beats': [(11, 23)], 'Now': [(17, 1)], 'often': [(18, 19)], 'Peters': [(1, 27)], 'one': [(15, 17), (15, 43)], 'special': [(10, 22)], 'purity': [(11, 29)], 'refuse': [(14, 27)], 'it': [(15, 67)], 'Flat': [(7, 1)], 'ambiguity': [(14, 16)], 'only': [(15, 38)], 'temptation': [(14, 38)], 'nested': [(7, 21)], 'Explicit': [(4, 1)], 'of': [(1, 9), (14, 13)], 'Beautiful': [(3, 1)], 'complex': [(5, 23)], 'Sparse': [(8, 1)], 'Complex': [(6, 1)], 'you': [(16, 54)], 'counts': [(9, 13)], 'be': [(15, 14), (16, 27)], 'right': [(18, 38)], 'unless': [(16, 47)], 'The': [(1, 1)], 't': [(10, 20)], 'rules': [(10, 50)], 'In': [(14, 1)], 'that': [(16, 10)], 'complicated': [(6, 24)], 'is': [(3, 11), (4, 10), (5, 8), (6, 9), (7, 6), (8, 8), (17, 5), (18, 16)], 'Dutch': [(16, 61)], 'better': [(3, 14), (4, 13), (5, 11), (6, 12), (7, 9), (8, 11), (17, 8), (18, 25)], 'Although': [(11, 1), (16, 1), (18, 1)], 'explicitly': [(13, 8)], 'first': [(16, 41)], 'face': [(14, 8)], 'implementation': [(19, 8)], 'enough': [(10, 30)], 'than': [(3, 21), (4, 20), (5, 18), (6, 19), (7, 16), (8, 18), (17, 15), (18, 32)], 'Simple': [(5, 1)]}\n",
      "is\n",
      "setdefault: [(3, 11), (4, 10), (5, 8), (6, 9), (7, 6), (8, 8), (17, 5), (18, 16)]\n",
      "{'pass': [(12, 21)], 'implicit': [(4, 25)], 'and': [(15, 23)], 'silenced': [(13, 19)], 'way': [(15, 57), (16, 15)], 'the': [(10, 46), (14, 4), (14, 34), (19, 4)], 'at': [(16, 38)], 'may': [(16, 19)], 'Readability': [(9, 1)], 'obvious': [(15, 49), (16, 30)], 'to': [(10, 37), (14, 49), (15, 61)], 'never': [(12, 15), (17, 20), (18, 10)], 'practicality': [(11, 10)], 'should': [(12, 8), (15, 7)], 'Unless': [(13, 1)], 'silently': [(12, 26)], 'not': [(16, 23)], 'Errors': [(12, 1)], 'guess': [(14, 52)], 'There': [(15, 1)], 'Python': [(1, 12)], 'break': [(10, 40)], 'Tim': [(1, 23)], 'cases': [(10, 9)], 'preferably': [(15, 27)], 'do': [(15, 64)], 're': [(16, 58)], 'dense': [(8, 23)], 'ugly': [(3, 26)], 'Zen': [(1, 5)], 'aren': [(10, 15)], 'now': [(18, 45)], 'Special': [(10, 1)], 'by': [(1, 20)], 'If': [(19, 1)], 'beats': [(11, 23)], 'Now': [(17, 1)], 'often': [(18, 19)], 'Peters': [(1, 27)], 'one': [(15, 17), (15, 43)], 'special': [(10, 22)], 'purity': [(11, 29)], 'refuse': [(14, 27)], 'it': [(15, 67)], 'Flat': [(7, 1)], 'ambiguity': [(14, 16)], 'only': [(15, 38)], 'temptation': [(14, 38)], 'nested': [(7, 21)], 'Explicit': [(4, 1)], 'of': [(1, 9), (14, 13)], 'Beautiful': [(3, 1)], 'complex': [(5, 23)], 'Sparse': [(8, 1)], 'Complex': [(6, 1)], 'you': [(16, 54)], 'counts': [(9, 13)], 'be': [(15, 14), (16, 27)], 'right': [(18, 38)], 'unless': [(16, 47)], 'The': [(1, 1)], 't': [(10, 20)], 'rules': [(10, 50)], 'In': [(14, 1)], 'that': [(16, 10)], 'complicated': [(6, 24)], 'is': [(3, 11), (4, 10), (5, 8), (6, 9), (7, 6), (8, 8), (17, 5), (18, 16), (19, 23)], 'Dutch': [(16, 61)], 'better': [(3, 14), (4, 13), (5, 11), (6, 12), (7, 9), (8, 11), (17, 8), (18, 25)], 'Although': [(11, 1), (16, 1), (18, 1)], 'explicitly': [(13, 8)], 'first': [(16, 41)], 'face': [(14, 8)], 'implementation': [(19, 8)], 'enough': [(10, 30)], 'than': [(3, 21), (4, 20), (5, 18), (6, 19), (7, 16), (8, 18), (17, 15), (18, 32)], 'Simple': [(5, 1)]}\n",
      "hard\n",
      "setdefault: []\n",
      "{'pass': [(12, 21)], 'implicit': [(4, 25)], 'and': [(15, 23)], 'silenced': [(13, 19)], 'way': [(15, 57), (16, 15)], 'the': [(10, 46), (14, 4), (14, 34), (19, 4)], 'hard': [(19, 26)], 'at': [(16, 38)], 'may': [(16, 19)], 'Readability': [(9, 1)], 'obvious': [(15, 49), (16, 30)], 'to': [(10, 37), (14, 49), (15, 61)], 'never': [(12, 15), (17, 20), (18, 10)], 'practicality': [(11, 10)], 'should': [(12, 8), (15, 7)], 'Unless': [(13, 1)], 'silently': [(12, 26)], 'not': [(16, 23)], 'Errors': [(12, 1)], 'guess': [(14, 52)], 'There': [(15, 1)], 'Python': [(1, 12)], 'break': [(10, 40)], 'Tim': [(1, 23)], 'cases': [(10, 9)], 'preferably': [(15, 27)], 'do': [(15, 64)], 're': [(16, 58)], 'dense': [(8, 23)], 'ugly': [(3, 26)], 'Zen': [(1, 5)], 'aren': [(10, 15)], 'now': [(18, 45)], 'Special': [(10, 1)], 'by': [(1, 20)], 'If': [(19, 1)], 'beats': [(11, 23)], 'Now': [(17, 1)], 'often': [(18, 19)], 'Peters': [(1, 27)], 'one': [(15, 17), (15, 43)], 'special': [(10, 22)], 'purity': [(11, 29)], 'refuse': [(14, 27)], 'it': [(15, 67)], 'Flat': [(7, 1)], 'ambiguity': [(14, 16)], 'only': [(15, 38)], 'temptation': [(14, 38)], 'nested': [(7, 21)], 'Explicit': [(4, 1)], 'of': [(1, 9), (14, 13)], 'Beautiful': [(3, 1)], 'complex': [(5, 23)], 'Sparse': [(8, 1)], 'Complex': [(6, 1)], 'you': [(16, 54)], 'counts': [(9, 13)], 'be': [(15, 14), (16, 27)], 'right': [(18, 38)], 'unless': [(16, 47)], 'The': [(1, 1)], 't': [(10, 20)], 'rules': [(10, 50)], 'In': [(14, 1)], 'that': [(16, 10)], 'complicated': [(6, 24)], 'is': [(3, 11), (4, 10), (5, 8), (6, 9), (7, 6), (8, 8), (17, 5), (18, 16), (19, 23)], 'Dutch': [(16, 61)], 'better': [(3, 14), (4, 13), (5, 11), (6, 12), (7, 9), (8, 11), (17, 8), (18, 25)], 'Although': [(11, 1), (16, 1), (18, 1)], 'explicitly': [(13, 8)], 'first': [(16, 41)], 'face': [(14, 8)], 'implementation': [(19, 8)], 'enough': [(10, 30)], 'than': [(3, 21), (4, 20), (5, 18), (6, 19), (7, 16), (8, 18), (17, 15), (18, 32)], 'Simple': [(5, 1)]}\n",
      "to\n",
      "setdefault: [(10, 37), (14, 49), (15, 61)]\n",
      "{'pass': [(12, 21)], 'implicit': [(4, 25)], 'and': [(15, 23)], 'silenced': [(13, 19)], 'way': [(15, 57), (16, 15)], 'the': [(10, 46), (14, 4), (14, 34), (19, 4)], 'hard': [(19, 26)], 'at': [(16, 38)], 'may': [(16, 19)], 'Readability': [(9, 1)], 'obvious': [(15, 49), (16, 30)], 'to': [(10, 37), (14, 49), (15, 61), (19, 31)], 'never': [(12, 15), (17, 20), (18, 10)], 'practicality': [(11, 10)], 'should': [(12, 8), (15, 7)], 'Unless': [(13, 1)], 'silently': [(12, 26)], 'not': [(16, 23)], 'Errors': [(12, 1)], 'guess': [(14, 52)], 'There': [(15, 1)], 'Python': [(1, 12)], 'break': [(10, 40)], 'Tim': [(1, 23)], 'cases': [(10, 9)], 'preferably': [(15, 27)], 'do': [(15, 64)], 're': [(16, 58)], 'dense': [(8, 23)], 'ugly': [(3, 26)], 'Zen': [(1, 5)], 'aren': [(10, 15)], 'now': [(18, 45)], 'Special': [(10, 1)], 'by': [(1, 20)], 'If': [(19, 1)], 'beats': [(11, 23)], 'Now': [(17, 1)], 'often': [(18, 19)], 'Peters': [(1, 27)], 'one': [(15, 17), (15, 43)], 'special': [(10, 22)], 'purity': [(11, 29)], 'refuse': [(14, 27)], 'it': [(15, 67)], 'Flat': [(7, 1)], 'ambiguity': [(14, 16)], 'only': [(15, 38)], 'temptation': [(14, 38)], 'nested': [(7, 21)], 'Explicit': [(4, 1)], 'of': [(1, 9), (14, 13)], 'Beautiful': [(3, 1)], 'complex': [(5, 23)], 'Sparse': [(8, 1)], 'Complex': [(6, 1)], 'you': [(16, 54)], 'counts': [(9, 13)], 'be': [(15, 14), (16, 27)], 'right': [(18, 38)], 'unless': [(16, 47)], 'The': [(1, 1)], 't': [(10, 20)], 'rules': [(10, 50)], 'In': [(14, 1)], 'that': [(16, 10)], 'complicated': [(6, 24)], 'is': [(3, 11), (4, 10), (5, 8), (6, 9), (7, 6), (8, 8), (17, 5), (18, 16), (19, 23)], 'Dutch': [(16, 61)], 'better': [(3, 14), (4, 13), (5, 11), (6, 12), (7, 9), (8, 11), (17, 8), (18, 25)], 'Although': [(11, 1), (16, 1), (18, 1)], 'explicitly': [(13, 8)], 'first': [(16, 41)], 'face': [(14, 8)], 'implementation': [(19, 8)], 'enough': [(10, 30)], 'than': [(3, 21), (4, 20), (5, 18), (6, 19), (7, 16), (8, 18), (17, 15), (18, 32)], 'Simple': [(5, 1)]}\n",
      "explain\n",
      "setdefault: []\n",
      "{'pass': [(12, 21)], 'implicit': [(4, 25)], 'and': [(15, 23)], 'silenced': [(13, 19)], 'way': [(15, 57), (16, 15)], 'the': [(10, 46), (14, 4), (14, 34), (19, 4)], 'hard': [(19, 26)], 'at': [(16, 38)], 'may': [(16, 19)], 'Readability': [(9, 1)], 'obvious': [(15, 49), (16, 30)], 'to': [(10, 37), (14, 49), (15, 61), (19, 31)], 'never': [(12, 15), (17, 20), (18, 10)], 'practicality': [(11, 10)], 'should': [(12, 8), (15, 7)], 'Unless': [(13, 1)], 'silently': [(12, 26)], 'not': [(16, 23)], 'Errors': [(12, 1)], 'guess': [(14, 52)], 'There': [(15, 1)], 'Python': [(1, 12)], 'break': [(10, 40)], 'Tim': [(1, 23)], 'cases': [(10, 9)], 'preferably': [(15, 27)], 'do': [(15, 64)], 're': [(16, 58)], 'dense': [(8, 23)], 'ugly': [(3, 26)], 'Zen': [(1, 5)], 'aren': [(10, 15)], 'explain': [(19, 34)], 'now': [(18, 45)], 'Special': [(10, 1)], 'by': [(1, 20)], 'If': [(19, 1)], 'beats': [(11, 23)], 'Now': [(17, 1)], 'often': [(18, 19)], 'Peters': [(1, 27)], 'one': [(15, 17), (15, 43)], 'special': [(10, 22)], 'purity': [(11, 29)], 'refuse': [(14, 27)], 'it': [(15, 67)], 'Flat': [(7, 1)], 'ambiguity': [(14, 16)], 'only': [(15, 38)], 'temptation': [(14, 38)], 'nested': [(7, 21)], 'Explicit': [(4, 1)], 'of': [(1, 9), (14, 13)], 'Beautiful': [(3, 1)], 'complex': [(5, 23)], 'Sparse': [(8, 1)], 'Complex': [(6, 1)], 'you': [(16, 54)], 'counts': [(9, 13)], 'be': [(15, 14), (16, 27)], 'right': [(18, 38)], 'unless': [(16, 47)], 'The': [(1, 1)], 't': [(10, 20)], 'rules': [(10, 50)], 'In': [(14, 1)], 'that': [(16, 10)], 'complicated': [(6, 24)], 'is': [(3, 11), (4, 10), (5, 8), (6, 9), (7, 6), (8, 8), (17, 5), (18, 16), (19, 23)], 'Dutch': [(16, 61)], 'better': [(3, 14), (4, 13), (5, 11), (6, 12), (7, 9), (8, 11), (17, 8), (18, 25)], 'Although': [(11, 1), (16, 1), (18, 1)], 'explicitly': [(13, 8)], 'first': [(16, 41)], 'face': [(14, 8)], 'implementation': [(19, 8)], 'enough': [(10, 30)], 'than': [(3, 21), (4, 20), (5, 18), (6, 19), (7, 16), (8, 18), (17, 15), (18, 32)], 'Simple': [(5, 1)]}\n",
      "it\n",
      "setdefault: [(15, 67)]\n",
      "{'pass': [(12, 21)], 'implicit': [(4, 25)], 'and': [(15, 23)], 'silenced': [(13, 19)], 'way': [(15, 57), (16, 15)], 'the': [(10, 46), (14, 4), (14, 34), (19, 4)], 'hard': [(19, 26)], 'at': [(16, 38)], 'may': [(16, 19)], 'Readability': [(9, 1)], 'obvious': [(15, 49), (16, 30)], 'to': [(10, 37), (14, 49), (15, 61), (19, 31)], 'never': [(12, 15), (17, 20), (18, 10)], 'practicality': [(11, 10)], 'should': [(12, 8), (15, 7)], 'Unless': [(13, 1)], 'silently': [(12, 26)], 'not': [(16, 23)], 'Errors': [(12, 1)], 'guess': [(14, 52)], 'There': [(15, 1)], 'Python': [(1, 12)], 'break': [(10, 40)], 'Tim': [(1, 23)], 'cases': [(10, 9)], 'preferably': [(15, 27)], 'do': [(15, 64)], 're': [(16, 58)], 'dense': [(8, 23)], 'ugly': [(3, 26)], 'Zen': [(1, 5)], 'aren': [(10, 15)], 'explain': [(19, 34)], 'now': [(18, 45)], 'Special': [(10, 1)], 'by': [(1, 20)], 'If': [(19, 1)], 'beats': [(11, 23)], 'Now': [(17, 1)], 'often': [(18, 19)], 'Peters': [(1, 27)], 'one': [(15, 17), (15, 43)], 'special': [(10, 22)], 'purity': [(11, 29)], 'refuse': [(14, 27)], 'it': [(15, 67), (19, 43)], 'Flat': [(7, 1)], 'ambiguity': [(14, 16)], 'only': [(15, 38)], 'temptation': [(14, 38)], 'nested': [(7, 21)], 'Explicit': [(4, 1)], 'of': [(1, 9), (14, 13)], 'Beautiful': [(3, 1)], 'complex': [(5, 23)], 'Sparse': [(8, 1)], 'Complex': [(6, 1)], 'you': [(16, 54)], 'counts': [(9, 13)], 'be': [(15, 14), (16, 27)], 'right': [(18, 38)], 'unless': [(16, 47)], 'The': [(1, 1)], 't': [(10, 20)], 'rules': [(10, 50)], 'In': [(14, 1)], 'that': [(16, 10)], 'complicated': [(6, 24)], 'is': [(3, 11), (4, 10), (5, 8), (6, 9), (7, 6), (8, 8), (17, 5), (18, 16), (19, 23)], 'Dutch': [(16, 61)], 'better': [(3, 14), (4, 13), (5, 11), (6, 12), (7, 9), (8, 11), (17, 8), (18, 25)], 'Although': [(11, 1), (16, 1), (18, 1)], 'explicitly': [(13, 8)], 'first': [(16, 41)], 'face': [(14, 8)], 'implementation': [(19, 8)], 'enough': [(10, 30)], 'than': [(3, 21), (4, 20), (5, 18), (6, 19), (7, 16), (8, 18), (17, 15), (18, 32)], 'Simple': [(5, 1)]}\n",
      "s\n",
      "setdefault: []\n",
      "{'pass': [(12, 21)], 'implicit': [(4, 25)], 'and': [(15, 23)], 'silenced': [(13, 19)], 'way': [(15, 57), (16, 15)], 'the': [(10, 46), (14, 4), (14, 34), (19, 4)], 'hard': [(19, 26)], 'at': [(16, 38)], 'may': [(16, 19)], 'Readability': [(9, 1)], 'obvious': [(15, 49), (16, 30)], 'to': [(10, 37), (14, 49), (15, 61), (19, 31)], 'never': [(12, 15), (17, 20), (18, 10)], 'practicality': [(11, 10)], 'should': [(12, 8), (15, 7)], 'Unless': [(13, 1)], 'silently': [(12, 26)], 'not': [(16, 23)], 'Errors': [(12, 1)], 'guess': [(14, 52)], 'There': [(15, 1)], 'Python': [(1, 12)], 'break': [(10, 40)], 'Tim': [(1, 23)], 'cases': [(10, 9)], 'preferably': [(15, 27)], 'do': [(15, 64)], 're': [(16, 58)], 'dense': [(8, 23)], 'ugly': [(3, 26)], 'Zen': [(1, 5)], 'aren': [(10, 15)], 'explain': [(19, 34)], 'now': [(18, 45)], 'Special': [(10, 1)], 'by': [(1, 20)], 'If': [(19, 1)], 'beats': [(11, 23)], 'Now': [(17, 1)], 'often': [(18, 19)], 'Peters': [(1, 27)], 'one': [(15, 17), (15, 43)], 'special': [(10, 22)], 'purity': [(11, 29)], 'refuse': [(14, 27)], 'it': [(15, 67), (19, 43)], 'Flat': [(7, 1)], 'ambiguity': [(14, 16)], 'only': [(15, 38)], 's': [(19, 46)], 'temptation': [(14, 38)], 'nested': [(7, 21)], 'Explicit': [(4, 1)], 'of': [(1, 9), (14, 13)], 'Beautiful': [(3, 1)], 'complex': [(5, 23)], 'Sparse': [(8, 1)], 'Complex': [(6, 1)], 'you': [(16, 54)], 'counts': [(9, 13)], 'be': [(15, 14), (16, 27)], 'right': [(18, 38)], 'unless': [(16, 47)], 'The': [(1, 1)], 't': [(10, 20)], 'rules': [(10, 50)], 'In': [(14, 1)], 'that': [(16, 10)], 'complicated': [(6, 24)], 'is': [(3, 11), (4, 10), (5, 8), (6, 9), (7, 6), (8, 8), (17, 5), (18, 16), (19, 23)], 'Dutch': [(16, 61)], 'better': [(3, 14), (4, 13), (5, 11), (6, 12), (7, 9), (8, 11), (17, 8), (18, 25)], 'Although': [(11, 1), (16, 1), (18, 1)], 'explicitly': [(13, 8)], 'first': [(16, 41)], 'face': [(14, 8)], 'implementation': [(19, 8)], 'enough': [(10, 30)], 'than': [(3, 21), (4, 20), (5, 18), (6, 19), (7, 16), (8, 18), (17, 15), (18, 32)], 'Simple': [(5, 1)]}\n",
      "a\n",
      "setdefault: []\n",
      "{'pass': [(12, 21)], 'implicit': [(4, 25)], 'and': [(15, 23)], 'silenced': [(13, 19)], 'way': [(15, 57), (16, 15)], 'the': [(10, 46), (14, 4), (14, 34), (19, 4)], 'hard': [(19, 26)], 'at': [(16, 38)], 'may': [(16, 19)], 'Readability': [(9, 1)], 'obvious': [(15, 49), (16, 30)], 'to': [(10, 37), (14, 49), (15, 61), (19, 31)], 'never': [(12, 15), (17, 20), (18, 10)], 'practicality': [(11, 10)], 'should': [(12, 8), (15, 7)], 'Unless': [(13, 1)], 'silently': [(12, 26)], 'not': [(16, 23)], 'Errors': [(12, 1)], 'guess': [(14, 52)], 'There': [(15, 1)], 'Python': [(1, 12)], 'break': [(10, 40)], 'Tim': [(1, 23)], 'cases': [(10, 9)], 'preferably': [(15, 27)], 'do': [(15, 64)], 're': [(16, 58)], 'dense': [(8, 23)], 'ugly': [(3, 26)], 'Zen': [(1, 5)], 'aren': [(10, 15)], 'explain': [(19, 34)], 'now': [(18, 45)], 'Special': [(10, 1)], 'by': [(1, 20)], 'If': [(19, 1)], 'beats': [(11, 23)], 'Now': [(17, 1)], 'often': [(18, 19)], 'Peters': [(1, 27)], 'one': [(15, 17), (15, 43)], 'special': [(10, 22)], 'purity': [(11, 29)], 'refuse': [(14, 27)], 'it': [(15, 67), (19, 43)], 'Flat': [(7, 1)], 'ambiguity': [(14, 16)], 'only': [(15, 38)], 's': [(19, 46)], 'temptation': [(14, 38)], 'nested': [(7, 21)], 'Explicit': [(4, 1)], 'of': [(1, 9), (14, 13)], 'Beautiful': [(3, 1)], 'complex': [(5, 23)], 'Sparse': [(8, 1)], 'a': [(19, 48)], 'Complex': [(6, 1)], 'you': [(16, 54)], 'counts': [(9, 13)], 'be': [(15, 14), (16, 27)], 'right': [(18, 38)], 'unless': [(16, 47)], 'The': [(1, 1)], 't': [(10, 20)], 'rules': [(10, 50)], 'In': [(14, 1)], 'that': [(16, 10)], 'complicated': [(6, 24)], 'is': [(3, 11), (4, 10), (5, 8), (6, 9), (7, 6), (8, 8), (17, 5), (18, 16), (19, 23)], 'Dutch': [(16, 61)], 'better': [(3, 14), (4, 13), (5, 11), (6, 12), (7, 9), (8, 11), (17, 8), (18, 25)], 'Although': [(11, 1), (16, 1), (18, 1)], 'explicitly': [(13, 8)], 'first': [(16, 41)], 'face': [(14, 8)], 'implementation': [(19, 8)], 'enough': [(10, 30)], 'than': [(3, 21), (4, 20), (5, 18), (6, 19), (7, 16), (8, 18), (17, 15), (18, 32)], 'Simple': [(5, 1)]}\n",
      "bad\n",
      "setdefault: []\n",
      "{'pass': [(12, 21)], 'implicit': [(4, 25)], 'and': [(15, 23)], 'silenced': [(13, 19)], 'way': [(15, 57), (16, 15)], 'the': [(10, 46), (14, 4), (14, 34), (19, 4)], 'hard': [(19, 26)], 'at': [(16, 38)], 'may': [(16, 19)], 'Readability': [(9, 1)], 'obvious': [(15, 49), (16, 30)], 'to': [(10, 37), (14, 49), (15, 61), (19, 31)], 'never': [(12, 15), (17, 20), (18, 10)], 'practicality': [(11, 10)], 'should': [(12, 8), (15, 7)], 'Unless': [(13, 1)], 'silently': [(12, 26)], 'not': [(16, 23)], 'Errors': [(12, 1)], 'guess': [(14, 52)], 'There': [(15, 1)], 'Python': [(1, 12)], 'break': [(10, 40)], 'Tim': [(1, 23)], 'cases': [(10, 9)], 'preferably': [(15, 27)], 'do': [(15, 64)], 're': [(16, 58)], 'dense': [(8, 23)], 'ugly': [(3, 26)], 'Zen': [(1, 5)], 'aren': [(10, 15)], 'explain': [(19, 34)], 'now': [(18, 45)], 'Special': [(10, 1)], 'by': [(1, 20)], 'If': [(19, 1)], 'beats': [(11, 23)], 'Now': [(17, 1)], 'often': [(18, 19)], 'Peters': [(1, 27)], 'one': [(15, 17), (15, 43)], 'special': [(10, 22)], 'purity': [(11, 29)], 'refuse': [(14, 27)], 'it': [(15, 67), (19, 43)], 'Flat': [(7, 1)], 'ambiguity': [(14, 16)], 'only': [(15, 38)], 's': [(19, 46)], 'temptation': [(14, 38)], 'nested': [(7, 21)], 'Explicit': [(4, 1)], 'of': [(1, 9), (14, 13)], 'Beautiful': [(3, 1)], 'complex': [(5, 23)], 'Sparse': [(8, 1)], 'a': [(19, 48)], 'bad': [(19, 50)], 'Complex': [(6, 1)], 'you': [(16, 54)], 'counts': [(9, 13)], 'be': [(15, 14), (16, 27)], 'right': [(18, 38)], 'unless': [(16, 47)], 'The': [(1, 1)], 't': [(10, 20)], 'rules': [(10, 50)], 'In': [(14, 1)], 'that': [(16, 10)], 'complicated': [(6, 24)], 'is': [(3, 11), (4, 10), (5, 8), (6, 9), (7, 6), (8, 8), (17, 5), (18, 16), (19, 23)], 'Dutch': [(16, 61)], 'better': [(3, 14), (4, 13), (5, 11), (6, 12), (7, 9), (8, 11), (17, 8), (18, 25)], 'Although': [(11, 1), (16, 1), (18, 1)], 'explicitly': [(13, 8)], 'first': [(16, 41)], 'face': [(14, 8)], 'implementation': [(19, 8)], 'enough': [(10, 30)], 'than': [(3, 21), (4, 20), (5, 18), (6, 19), (7, 16), (8, 18), (17, 15), (18, 32)], 'Simple': [(5, 1)]}\n",
      "idea\n",
      "setdefault: []\n",
      "{'pass': [(12, 21)], 'implicit': [(4, 25)], 'and': [(15, 23)], 'silenced': [(13, 19)], 'way': [(15, 57), (16, 15)], 'the': [(10, 46), (14, 4), (14, 34), (19, 4)], 'hard': [(19, 26)], 'at': [(16, 38)], 'may': [(16, 19)], 'Readability': [(9, 1)], 'obvious': [(15, 49), (16, 30)], 'to': [(10, 37), (14, 49), (15, 61), (19, 31)], 'never': [(12, 15), (17, 20), (18, 10)], 'practicality': [(11, 10)], 'should': [(12, 8), (15, 7)], 'Unless': [(13, 1)], 'silently': [(12, 26)], 'not': [(16, 23)], 'Errors': [(12, 1)], 'guess': [(14, 52)], 'There': [(15, 1)], 'Python': [(1, 12)], 'break': [(10, 40)], 'Tim': [(1, 23)], 'cases': [(10, 9)], 'preferably': [(15, 27)], 'do': [(15, 64)], 're': [(16, 58)], 'idea': [(19, 54)], 'dense': [(8, 23)], 'ugly': [(3, 26)], 'Zen': [(1, 5)], 'aren': [(10, 15)], 'explain': [(19, 34)], 'now': [(18, 45)], 'Special': [(10, 1)], 'by': [(1, 20)], 'If': [(19, 1)], 'beats': [(11, 23)], 'Now': [(17, 1)], 'often': [(18, 19)], 'Peters': [(1, 27)], 'one': [(15, 17), (15, 43)], 'special': [(10, 22)], 'purity': [(11, 29)], 'refuse': [(14, 27)], 'it': [(15, 67), (19, 43)], 'Flat': [(7, 1)], 'ambiguity': [(14, 16)], 'only': [(15, 38)], 's': [(19, 46)], 'temptation': [(14, 38)], 'nested': [(7, 21)], 'Explicit': [(4, 1)], 'of': [(1, 9), (14, 13)], 'Beautiful': [(3, 1)], 'complex': [(5, 23)], 'Sparse': [(8, 1)], 'a': [(19, 48)], 'bad': [(19, 50)], 'Complex': [(6, 1)], 'you': [(16, 54)], 'counts': [(9, 13)], 'be': [(15, 14), (16, 27)], 'right': [(18, 38)], 'unless': [(16, 47)], 'The': [(1, 1)], 't': [(10, 20)], 'rules': [(10, 50)], 'In': [(14, 1)], 'that': [(16, 10)], 'complicated': [(6, 24)], 'is': [(3, 11), (4, 10), (5, 8), (6, 9), (7, 6), (8, 8), (17, 5), (18, 16), (19, 23)], 'Dutch': [(16, 61)], 'better': [(3, 14), (4, 13), (5, 11), (6, 12), (7, 9), (8, 11), (17, 8), (18, 25)], 'Although': [(11, 1), (16, 1), (18, 1)], 'explicitly': [(13, 8)], 'first': [(16, 41)], 'face': [(14, 8)], 'implementation': [(19, 8)], 'enough': [(10, 30)], 'than': [(3, 21), (4, 20), (5, 18), (6, 19), (7, 16), (8, 18), (17, 15), (18, 32)], 'Simple': [(5, 1)]}\n",
      "If\n",
      "setdefault: [(19, 1)]\n",
      "{'pass': [(12, 21)], 'implicit': [(4, 25)], 'and': [(15, 23)], 'silenced': [(13, 19)], 'way': [(15, 57), (16, 15)], 'the': [(10, 46), (14, 4), (14, 34), (19, 4)], 'hard': [(19, 26)], 'at': [(16, 38)], 'may': [(16, 19)], 'Readability': [(9, 1)], 'obvious': [(15, 49), (16, 30)], 'to': [(10, 37), (14, 49), (15, 61), (19, 31)], 'never': [(12, 15), (17, 20), (18, 10)], 'practicality': [(11, 10)], 'should': [(12, 8), (15, 7)], 'Unless': [(13, 1)], 'silently': [(12, 26)], 'not': [(16, 23)], 'Errors': [(12, 1)], 'guess': [(14, 52)], 'There': [(15, 1)], 'Python': [(1, 12)], 'break': [(10, 40)], 'Tim': [(1, 23)], 'cases': [(10, 9)], 'preferably': [(15, 27)], 'do': [(15, 64)], 're': [(16, 58)], 'idea': [(19, 54)], 'dense': [(8, 23)], 'ugly': [(3, 26)], 'Zen': [(1, 5)], 'aren': [(10, 15)], 'explain': [(19, 34)], 'now': [(18, 45)], 'Special': [(10, 1)], 'by': [(1, 20)], 'If': [(19, 1), (20, 1)], 'beats': [(11, 23)], 'Now': [(17, 1)], 'often': [(18, 19)], 'Peters': [(1, 27)], 'one': [(15, 17), (15, 43)], 'special': [(10, 22)], 'purity': [(11, 29)], 'refuse': [(14, 27)], 'it': [(15, 67), (19, 43)], 'Flat': [(7, 1)], 'ambiguity': [(14, 16)], 'only': [(15, 38)], 's': [(19, 46)], 'temptation': [(14, 38)], 'nested': [(7, 21)], 'Explicit': [(4, 1)], 'of': [(1, 9), (14, 13)], 'Beautiful': [(3, 1)], 'complex': [(5, 23)], 'Sparse': [(8, 1)], 'a': [(19, 48)], 'bad': [(19, 50)], 'Complex': [(6, 1)], 'you': [(16, 54)], 'counts': [(9, 13)], 'be': [(15, 14), (16, 27)], 'right': [(18, 38)], 'unless': [(16, 47)], 'The': [(1, 1)], 't': [(10, 20)], 'rules': [(10, 50)], 'In': [(14, 1)], 'that': [(16, 10)], 'complicated': [(6, 24)], 'is': [(3, 11), (4, 10), (5, 8), (6, 9), (7, 6), (8, 8), (17, 5), (18, 16), (19, 23)], 'Dutch': [(16, 61)], 'better': [(3, 14), (4, 13), (5, 11), (6, 12), (7, 9), (8, 11), (17, 8), (18, 25)], 'Although': [(11, 1), (16, 1), (18, 1)], 'explicitly': [(13, 8)], 'first': [(16, 41)], 'face': [(14, 8)], 'implementation': [(19, 8)], 'enough': [(10, 30)], 'than': [(3, 21), (4, 20), (5, 18), (6, 19), (7, 16), (8, 18), (17, 15), (18, 32)], 'Simple': [(5, 1)]}\n",
      "the\n",
      "setdefault: [(10, 46), (14, 4), (14, 34), (19, 4)]\n",
      "{'pass': [(12, 21)], 'implicit': [(4, 25)], 'and': [(15, 23)], 'silenced': [(13, 19)], 'way': [(15, 57), (16, 15)], 'the': [(10, 46), (14, 4), (14, 34), (19, 4), (20, 4)], 'hard': [(19, 26)], 'at': [(16, 38)], 'may': [(16, 19)], 'Readability': [(9, 1)], 'obvious': [(15, 49), (16, 30)], 'to': [(10, 37), (14, 49), (15, 61), (19, 31)], 'never': [(12, 15), (17, 20), (18, 10)], 'practicality': [(11, 10)], 'should': [(12, 8), (15, 7)], 'Unless': [(13, 1)], 'silently': [(12, 26)], 'not': [(16, 23)], 'Errors': [(12, 1)], 'guess': [(14, 52)], 'There': [(15, 1)], 'Python': [(1, 12)], 'break': [(10, 40)], 'Tim': [(1, 23)], 'cases': [(10, 9)], 'preferably': [(15, 27)], 'do': [(15, 64)], 're': [(16, 58)], 'idea': [(19, 54)], 'dense': [(8, 23)], 'ugly': [(3, 26)], 'Zen': [(1, 5)], 'aren': [(10, 15)], 'explain': [(19, 34)], 'now': [(18, 45)], 'Special': [(10, 1)], 'by': [(1, 20)], 'If': [(19, 1), (20, 1)], 'beats': [(11, 23)], 'Now': [(17, 1)], 'often': [(18, 19)], 'Peters': [(1, 27)], 'one': [(15, 17), (15, 43)], 'special': [(10, 22)], 'purity': [(11, 29)], 'refuse': [(14, 27)], 'it': [(15, 67), (19, 43)], 'Flat': [(7, 1)], 'ambiguity': [(14, 16)], 'only': [(15, 38)], 's': [(19, 46)], 'temptation': [(14, 38)], 'nested': [(7, 21)], 'Explicit': [(4, 1)], 'of': [(1, 9), (14, 13)], 'Beautiful': [(3, 1)], 'complex': [(5, 23)], 'Sparse': [(8, 1)], 'a': [(19, 48)], 'bad': [(19, 50)], 'Complex': [(6, 1)], 'you': [(16, 54)], 'counts': [(9, 13)], 'be': [(15, 14), (16, 27)], 'right': [(18, 38)], 'unless': [(16, 47)], 'The': [(1, 1)], 't': [(10, 20)], 'rules': [(10, 50)], 'In': [(14, 1)], 'that': [(16, 10)], 'complicated': [(6, 24)], 'is': [(3, 11), (4, 10), (5, 8), (6, 9), (7, 6), (8, 8), (17, 5), (18, 16), (19, 23)], 'Dutch': [(16, 61)], 'better': [(3, 14), (4, 13), (5, 11), (6, 12), (7, 9), (8, 11), (17, 8), (18, 25)], 'Although': [(11, 1), (16, 1), (18, 1)], 'explicitly': [(13, 8)], 'first': [(16, 41)], 'face': [(14, 8)], 'implementation': [(19, 8)], 'enough': [(10, 30)], 'than': [(3, 21), (4, 20), (5, 18), (6, 19), (7, 16), (8, 18), (17, 15), (18, 32)], 'Simple': [(5, 1)]}\n",
      "implementation\n",
      "setdefault: [(19, 8)]\n",
      "{'pass': [(12, 21)], 'implicit': [(4, 25)], 'and': [(15, 23)], 'silenced': [(13, 19)], 'way': [(15, 57), (16, 15)], 'the': [(10, 46), (14, 4), (14, 34), (19, 4), (20, 4)], 'hard': [(19, 26)], 'at': [(16, 38)], 'may': [(16, 19)], 'Readability': [(9, 1)], 'obvious': [(15, 49), (16, 30)], 'to': [(10, 37), (14, 49), (15, 61), (19, 31)], 'never': [(12, 15), (17, 20), (18, 10)], 'practicality': [(11, 10)], 'should': [(12, 8), (15, 7)], 'Unless': [(13, 1)], 'silently': [(12, 26)], 'not': [(16, 23)], 'Errors': [(12, 1)], 'guess': [(14, 52)], 'There': [(15, 1)], 'Python': [(1, 12)], 'break': [(10, 40)], 'Tim': [(1, 23)], 'cases': [(10, 9)], 'preferably': [(15, 27)], 'do': [(15, 64)], 're': [(16, 58)], 'idea': [(19, 54)], 'dense': [(8, 23)], 'ugly': [(3, 26)], 'Zen': [(1, 5)], 'aren': [(10, 15)], 'explain': [(19, 34)], 'now': [(18, 45)], 'Special': [(10, 1)], 'by': [(1, 20)], 'If': [(19, 1), (20, 1)], 'beats': [(11, 23)], 'Now': [(17, 1)], 'often': [(18, 19)], 'Peters': [(1, 27)], 'one': [(15, 17), (15, 43)], 'special': [(10, 22)], 'purity': [(11, 29)], 'refuse': [(14, 27)], 'it': [(15, 67), (19, 43)], 'Flat': [(7, 1)], 'ambiguity': [(14, 16)], 'only': [(15, 38)], 's': [(19, 46)], 'temptation': [(14, 38)], 'nested': [(7, 21)], 'Explicit': [(4, 1)], 'of': [(1, 9), (14, 13)], 'Beautiful': [(3, 1)], 'complex': [(5, 23)], 'Sparse': [(8, 1)], 'a': [(19, 48)], 'bad': [(19, 50)], 'Complex': [(6, 1)], 'you': [(16, 54)], 'counts': [(9, 13)], 'be': [(15, 14), (16, 27)], 'right': [(18, 38)], 'unless': [(16, 47)], 'The': [(1, 1)], 't': [(10, 20)], 'rules': [(10, 50)], 'In': [(14, 1)], 'that': [(16, 10)], 'complicated': [(6, 24)], 'is': [(3, 11), (4, 10), (5, 8), (6, 9), (7, 6), (8, 8), (17, 5), (18, 16), (19, 23)], 'Dutch': [(16, 61)], 'better': [(3, 14), (4, 13), (5, 11), (6, 12), (7, 9), (8, 11), (17, 8), (18, 25)], 'Although': [(11, 1), (16, 1), (18, 1)], 'explicitly': [(13, 8)], 'first': [(16, 41)], 'face': [(14, 8)], 'implementation': [(19, 8), (20, 8)], 'enough': [(10, 30)], 'than': [(3, 21), (4, 20), (5, 18), (6, 19), (7, 16), (8, 18), (17, 15), (18, 32)], 'Simple': [(5, 1)]}\n",
      "is\n",
      "setdefault: [(3, 11), (4, 10), (5, 8), (6, 9), (7, 6), (8, 8), (17, 5), (18, 16), (19, 23)]\n",
      "{'pass': [(12, 21)], 'implicit': [(4, 25)], 'and': [(15, 23)], 'silenced': [(13, 19)], 'way': [(15, 57), (16, 15)], 'the': [(10, 46), (14, 4), (14, 34), (19, 4), (20, 4)], 'hard': [(19, 26)], 'at': [(16, 38)], 'may': [(16, 19)], 'Readability': [(9, 1)], 'obvious': [(15, 49), (16, 30)], 'to': [(10, 37), (14, 49), (15, 61), (19, 31)], 'never': [(12, 15), (17, 20), (18, 10)], 'practicality': [(11, 10)], 'should': [(12, 8), (15, 7)], 'Unless': [(13, 1)], 'silently': [(12, 26)], 'not': [(16, 23)], 'Errors': [(12, 1)], 'guess': [(14, 52)], 'There': [(15, 1)], 'Python': [(1, 12)], 'break': [(10, 40)], 'Tim': [(1, 23)], 'cases': [(10, 9)], 'preferably': [(15, 27)], 'do': [(15, 64)], 're': [(16, 58)], 'idea': [(19, 54)], 'dense': [(8, 23)], 'ugly': [(3, 26)], 'Zen': [(1, 5)], 'aren': [(10, 15)], 'explain': [(19, 34)], 'now': [(18, 45)], 'Special': [(10, 1)], 'by': [(1, 20)], 'If': [(19, 1), (20, 1)], 'beats': [(11, 23)], 'Now': [(17, 1)], 'often': [(18, 19)], 'Peters': [(1, 27)], 'one': [(15, 17), (15, 43)], 'special': [(10, 22)], 'purity': [(11, 29)], 'refuse': [(14, 27)], 'it': [(15, 67), (19, 43)], 'Flat': [(7, 1)], 'ambiguity': [(14, 16)], 'only': [(15, 38)], 's': [(19, 46)], 'temptation': [(14, 38)], 'nested': [(7, 21)], 'Explicit': [(4, 1)], 'of': [(1, 9), (14, 13)], 'Beautiful': [(3, 1)], 'complex': [(5, 23)], 'Sparse': [(8, 1)], 'a': [(19, 48)], 'bad': [(19, 50)], 'Complex': [(6, 1)], 'you': [(16, 54)], 'counts': [(9, 13)], 'be': [(15, 14), (16, 27)], 'right': [(18, 38)], 'unless': [(16, 47)], 'The': [(1, 1)], 't': [(10, 20)], 'rules': [(10, 50)], 'In': [(14, 1)], 'that': [(16, 10)], 'complicated': [(6, 24)], 'is': [(3, 11), (4, 10), (5, 8), (6, 9), (7, 6), (8, 8), (17, 5), (18, 16), (19, 23), (20, 23)], 'Dutch': [(16, 61)], 'better': [(3, 14), (4, 13), (5, 11), (6, 12), (7, 9), (8, 11), (17, 8), (18, 25)], 'Although': [(11, 1), (16, 1), (18, 1)], 'explicitly': [(13, 8)], 'first': [(16, 41)], 'face': [(14, 8)], 'implementation': [(19, 8), (20, 8)], 'enough': [(10, 30)], 'than': [(3, 21), (4, 20), (5, 18), (6, 19), (7, 16), (8, 18), (17, 15), (18, 32)], 'Simple': [(5, 1)]}\n",
      "easy\n",
      "setdefault: []\n",
      "{'pass': [(12, 21)], 'implicit': [(4, 25)], 'and': [(15, 23)], 'silenced': [(13, 19)], 'way': [(15, 57), (16, 15)], 'the': [(10, 46), (14, 4), (14, 34), (19, 4), (20, 4)], 'hard': [(19, 26)], 'at': [(16, 38)], 'may': [(16, 19)], 'Readability': [(9, 1)], 'easy': [(20, 26)], 'obvious': [(15, 49), (16, 30)], 'to': [(10, 37), (14, 49), (15, 61), (19, 31)], 'never': [(12, 15), (17, 20), (18, 10)], 'practicality': [(11, 10)], 'should': [(12, 8), (15, 7)], 'Unless': [(13, 1)], 'silently': [(12, 26)], 'not': [(16, 23)], 'Errors': [(12, 1)], 'guess': [(14, 52)], 'There': [(15, 1)], 'Python': [(1, 12)], 'break': [(10, 40)], 'Tim': [(1, 23)], 'cases': [(10, 9)], 'preferably': [(15, 27)], 'do': [(15, 64)], 're': [(16, 58)], 'idea': [(19, 54)], 'dense': [(8, 23)], 'ugly': [(3, 26)], 'Zen': [(1, 5)], 'aren': [(10, 15)], 'explain': [(19, 34)], 'now': [(18, 45)], 'Special': [(10, 1)], 'by': [(1, 20)], 'If': [(19, 1), (20, 1)], 'beats': [(11, 23)], 'Now': [(17, 1)], 'often': [(18, 19)], 'Peters': [(1, 27)], 'one': [(15, 17), (15, 43)], 'special': [(10, 22)], 'purity': [(11, 29)], 'refuse': [(14, 27)], 'it': [(15, 67), (19, 43)], 'Flat': [(7, 1)], 'ambiguity': [(14, 16)], 'only': [(15, 38)], 's': [(19, 46)], 'temptation': [(14, 38)], 'nested': [(7, 21)], 'Explicit': [(4, 1)], 'of': [(1, 9), (14, 13)], 'Beautiful': [(3, 1)], 'complex': [(5, 23)], 'Sparse': [(8, 1)], 'a': [(19, 48)], 'bad': [(19, 50)], 'Complex': [(6, 1)], 'you': [(16, 54)], 'counts': [(9, 13)], 'be': [(15, 14), (16, 27)], 'right': [(18, 38)], 'unless': [(16, 47)], 'The': [(1, 1)], 't': [(10, 20)], 'rules': [(10, 50)], 'In': [(14, 1)], 'that': [(16, 10)], 'complicated': [(6, 24)], 'is': [(3, 11), (4, 10), (5, 8), (6, 9), (7, 6), (8, 8), (17, 5), (18, 16), (19, 23), (20, 23)], 'Dutch': [(16, 61)], 'better': [(3, 14), (4, 13), (5, 11), (6, 12), (7, 9), (8, 11), (17, 8), (18, 25)], 'Although': [(11, 1), (16, 1), (18, 1)], 'explicitly': [(13, 8)], 'first': [(16, 41)], 'face': [(14, 8)], 'implementation': [(19, 8), (20, 8)], 'enough': [(10, 30)], 'than': [(3, 21), (4, 20), (5, 18), (6, 19), (7, 16), (8, 18), (17, 15), (18, 32)], 'Simple': [(5, 1)]}\n",
      "to\n",
      "setdefault: [(10, 37), (14, 49), (15, 61), (19, 31)]\n",
      "{'pass': [(12, 21)], 'implicit': [(4, 25)], 'and': [(15, 23)], 'silenced': [(13, 19)], 'way': [(15, 57), (16, 15)], 'the': [(10, 46), (14, 4), (14, 34), (19, 4), (20, 4)], 'hard': [(19, 26)], 'at': [(16, 38)], 'may': [(16, 19)], 'Readability': [(9, 1)], 'easy': [(20, 26)], 'obvious': [(15, 49), (16, 30)], 'to': [(10, 37), (14, 49), (15, 61), (19, 31), (20, 31)], 'never': [(12, 15), (17, 20), (18, 10)], 'practicality': [(11, 10)], 'should': [(12, 8), (15, 7)], 'Unless': [(13, 1)], 'silently': [(12, 26)], 'not': [(16, 23)], 'Errors': [(12, 1)], 'guess': [(14, 52)], 'There': [(15, 1)], 'Python': [(1, 12)], 'break': [(10, 40)], 'Tim': [(1, 23)], 'cases': [(10, 9)], 'preferably': [(15, 27)], 'do': [(15, 64)], 're': [(16, 58)], 'idea': [(19, 54)], 'dense': [(8, 23)], 'ugly': [(3, 26)], 'Zen': [(1, 5)], 'aren': [(10, 15)], 'explain': [(19, 34)], 'now': [(18, 45)], 'Special': [(10, 1)], 'by': [(1, 20)], 'If': [(19, 1), (20, 1)], 'beats': [(11, 23)], 'Now': [(17, 1)], 'often': [(18, 19)], 'Peters': [(1, 27)], 'one': [(15, 17), (15, 43)], 'special': [(10, 22)], 'purity': [(11, 29)], 'refuse': [(14, 27)], 'it': [(15, 67), (19, 43)], 'Flat': [(7, 1)], 'ambiguity': [(14, 16)], 'only': [(15, 38)], 's': [(19, 46)], 'temptation': [(14, 38)], 'nested': [(7, 21)], 'Explicit': [(4, 1)], 'of': [(1, 9), (14, 13)], 'Beautiful': [(3, 1)], 'complex': [(5, 23)], 'Sparse': [(8, 1)], 'a': [(19, 48)], 'bad': [(19, 50)], 'Complex': [(6, 1)], 'you': [(16, 54)], 'counts': [(9, 13)], 'be': [(15, 14), (16, 27)], 'right': [(18, 38)], 'unless': [(16, 47)], 'The': [(1, 1)], 't': [(10, 20)], 'rules': [(10, 50)], 'In': [(14, 1)], 'that': [(16, 10)], 'complicated': [(6, 24)], 'is': [(3, 11), (4, 10), (5, 8), (6, 9), (7, 6), (8, 8), (17, 5), (18, 16), (19, 23), (20, 23)], 'Dutch': [(16, 61)], 'better': [(3, 14), (4, 13), (5, 11), (6, 12), (7, 9), (8, 11), (17, 8), (18, 25)], 'Although': [(11, 1), (16, 1), (18, 1)], 'explicitly': [(13, 8)], 'first': [(16, 41)], 'face': [(14, 8)], 'implementation': [(19, 8), (20, 8)], 'enough': [(10, 30)], 'than': [(3, 21), (4, 20), (5, 18), (6, 19), (7, 16), (8, 18), (17, 15), (18, 32)], 'Simple': [(5, 1)]}\n",
      "explain\n",
      "setdefault: [(19, 34)]\n",
      "{'pass': [(12, 21)], 'implicit': [(4, 25)], 'and': [(15, 23)], 'silenced': [(13, 19)], 'way': [(15, 57), (16, 15)], 'the': [(10, 46), (14, 4), (14, 34), (19, 4), (20, 4)], 'hard': [(19, 26)], 'at': [(16, 38)], 'may': [(16, 19)], 'Readability': [(9, 1)], 'easy': [(20, 26)], 'obvious': [(15, 49), (16, 30)], 'to': [(10, 37), (14, 49), (15, 61), (19, 31), (20, 31)], 'never': [(12, 15), (17, 20), (18, 10)], 'practicality': [(11, 10)], 'should': [(12, 8), (15, 7)], 'Unless': [(13, 1)], 'silently': [(12, 26)], 'not': [(16, 23)], 'Errors': [(12, 1)], 'guess': [(14, 52)], 'There': [(15, 1)], 'Python': [(1, 12)], 'break': [(10, 40)], 'Tim': [(1, 23)], 'cases': [(10, 9)], 'preferably': [(15, 27)], 'do': [(15, 64)], 're': [(16, 58)], 'idea': [(19, 54)], 'dense': [(8, 23)], 'ugly': [(3, 26)], 'Zen': [(1, 5)], 'aren': [(10, 15)], 'explain': [(19, 34), (20, 34)], 'now': [(18, 45)], 'Special': [(10, 1)], 'by': [(1, 20)], 'If': [(19, 1), (20, 1)], 'beats': [(11, 23)], 'Now': [(17, 1)], 'often': [(18, 19)], 'Peters': [(1, 27)], 'one': [(15, 17), (15, 43)], 'special': [(10, 22)], 'purity': [(11, 29)], 'refuse': [(14, 27)], 'it': [(15, 67), (19, 43)], 'Flat': [(7, 1)], 'ambiguity': [(14, 16)], 'only': [(15, 38)], 's': [(19, 46)], 'temptation': [(14, 38)], 'nested': [(7, 21)], 'Explicit': [(4, 1)], 'of': [(1, 9), (14, 13)], 'Beautiful': [(3, 1)], 'complex': [(5, 23)], 'Sparse': [(8, 1)], 'a': [(19, 48)], 'bad': [(19, 50)], 'Complex': [(6, 1)], 'you': [(16, 54)], 'counts': [(9, 13)], 'be': [(15, 14), (16, 27)], 'right': [(18, 38)], 'unless': [(16, 47)], 'The': [(1, 1)], 't': [(10, 20)], 'rules': [(10, 50)], 'In': [(14, 1)], 'that': [(16, 10)], 'complicated': [(6, 24)], 'is': [(3, 11), (4, 10), (5, 8), (6, 9), (7, 6), (8, 8), (17, 5), (18, 16), (19, 23), (20, 23)], 'Dutch': [(16, 61)], 'better': [(3, 14), (4, 13), (5, 11), (6, 12), (7, 9), (8, 11), (17, 8), (18, 25)], 'Although': [(11, 1), (16, 1), (18, 1)], 'explicitly': [(13, 8)], 'first': [(16, 41)], 'face': [(14, 8)], 'implementation': [(19, 8), (20, 8)], 'enough': [(10, 30)], 'than': [(3, 21), (4, 20), (5, 18), (6, 19), (7, 16), (8, 18), (17, 15), (18, 32)], 'Simple': [(5, 1)]}\n",
      "it\n",
      "setdefault: [(15, 67), (19, 43)]\n",
      "{'pass': [(12, 21)], 'implicit': [(4, 25)], 'and': [(15, 23)], 'silenced': [(13, 19)], 'way': [(15, 57), (16, 15)], 'the': [(10, 46), (14, 4), (14, 34), (19, 4), (20, 4)], 'hard': [(19, 26)], 'at': [(16, 38)], 'may': [(16, 19)], 'Readability': [(9, 1)], 'easy': [(20, 26)], 'obvious': [(15, 49), (16, 30)], 'to': [(10, 37), (14, 49), (15, 61), (19, 31), (20, 31)], 'never': [(12, 15), (17, 20), (18, 10)], 'practicality': [(11, 10)], 'should': [(12, 8), (15, 7)], 'Unless': [(13, 1)], 'silently': [(12, 26)], 'not': [(16, 23)], 'Errors': [(12, 1)], 'guess': [(14, 52)], 'There': [(15, 1)], 'Python': [(1, 12)], 'break': [(10, 40)], 'Tim': [(1, 23)], 'cases': [(10, 9)], 'preferably': [(15, 27)], 'do': [(15, 64)], 're': [(16, 58)], 'idea': [(19, 54)], 'dense': [(8, 23)], 'ugly': [(3, 26)], 'Zen': [(1, 5)], 'aren': [(10, 15)], 'explain': [(19, 34), (20, 34)], 'now': [(18, 45)], 'Special': [(10, 1)], 'by': [(1, 20)], 'If': [(19, 1), (20, 1)], 'beats': [(11, 23)], 'Now': [(17, 1)], 'often': [(18, 19)], 'Peters': [(1, 27)], 'one': [(15, 17), (15, 43)], 'special': [(10, 22)], 'purity': [(11, 29)], 'refuse': [(14, 27)], 'it': [(15, 67), (19, 43), (20, 43)], 'Flat': [(7, 1)], 'ambiguity': [(14, 16)], 'only': [(15, 38)], 's': [(19, 46)], 'temptation': [(14, 38)], 'nested': [(7, 21)], 'Explicit': [(4, 1)], 'of': [(1, 9), (14, 13)], 'Beautiful': [(3, 1)], 'complex': [(5, 23)], 'Sparse': [(8, 1)], 'a': [(19, 48)], 'bad': [(19, 50)], 'Complex': [(6, 1)], 'you': [(16, 54)], 'counts': [(9, 13)], 'be': [(15, 14), (16, 27)], 'right': [(18, 38)], 'unless': [(16, 47)], 'The': [(1, 1)], 't': [(10, 20)], 'rules': [(10, 50)], 'In': [(14, 1)], 'that': [(16, 10)], 'complicated': [(6, 24)], 'is': [(3, 11), (4, 10), (5, 8), (6, 9), (7, 6), (8, 8), (17, 5), (18, 16), (19, 23), (20, 23)], 'Dutch': [(16, 61)], 'better': [(3, 14), (4, 13), (5, 11), (6, 12), (7, 9), (8, 11), (17, 8), (18, 25)], 'Although': [(11, 1), (16, 1), (18, 1)], 'explicitly': [(13, 8)], 'first': [(16, 41)], 'face': [(14, 8)], 'implementation': [(19, 8), (20, 8)], 'enough': [(10, 30)], 'than': [(3, 21), (4, 20), (5, 18), (6, 19), (7, 16), (8, 18), (17, 15), (18, 32)], 'Simple': [(5, 1)]}\n",
      "may\n",
      "setdefault: [(16, 19)]\n",
      "{'pass': [(12, 21)], 'implicit': [(4, 25)], 'and': [(15, 23)], 'silenced': [(13, 19)], 'way': [(15, 57), (16, 15)], 'the': [(10, 46), (14, 4), (14, 34), (19, 4), (20, 4)], 'hard': [(19, 26)], 'at': [(16, 38)], 'may': [(16, 19), (20, 46)], 'Readability': [(9, 1)], 'easy': [(20, 26)], 'obvious': [(15, 49), (16, 30)], 'to': [(10, 37), (14, 49), (15, 61), (19, 31), (20, 31)], 'never': [(12, 15), (17, 20), (18, 10)], 'practicality': [(11, 10)], 'should': [(12, 8), (15, 7)], 'Unless': [(13, 1)], 'silently': [(12, 26)], 'not': [(16, 23)], 'Errors': [(12, 1)], 'guess': [(14, 52)], 'There': [(15, 1)], 'Python': [(1, 12)], 'break': [(10, 40)], 'Tim': [(1, 23)], 'cases': [(10, 9)], 'preferably': [(15, 27)], 'do': [(15, 64)], 're': [(16, 58)], 'idea': [(19, 54)], 'dense': [(8, 23)], 'ugly': [(3, 26)], 'Zen': [(1, 5)], 'aren': [(10, 15)], 'explain': [(19, 34), (20, 34)], 'now': [(18, 45)], 'Special': [(10, 1)], 'by': [(1, 20)], 'If': [(19, 1), (20, 1)], 'beats': [(11, 23)], 'Now': [(17, 1)], 'often': [(18, 19)], 'Peters': [(1, 27)], 'one': [(15, 17), (15, 43)], 'special': [(10, 22)], 'purity': [(11, 29)], 'refuse': [(14, 27)], 'it': [(15, 67), (19, 43), (20, 43)], 'Flat': [(7, 1)], 'ambiguity': [(14, 16)], 'only': [(15, 38)], 's': [(19, 46)], 'temptation': [(14, 38)], 'nested': [(7, 21)], 'Explicit': [(4, 1)], 'of': [(1, 9), (14, 13)], 'Beautiful': [(3, 1)], 'complex': [(5, 23)], 'Sparse': [(8, 1)], 'a': [(19, 48)], 'bad': [(19, 50)], 'Complex': [(6, 1)], 'you': [(16, 54)], 'counts': [(9, 13)], 'be': [(15, 14), (16, 27)], 'right': [(18, 38)], 'unless': [(16, 47)], 'The': [(1, 1)], 't': [(10, 20)], 'rules': [(10, 50)], 'In': [(14, 1)], 'that': [(16, 10)], 'complicated': [(6, 24)], 'is': [(3, 11), (4, 10), (5, 8), (6, 9), (7, 6), (8, 8), (17, 5), (18, 16), (19, 23), (20, 23)], 'Dutch': [(16, 61)], 'better': [(3, 14), (4, 13), (5, 11), (6, 12), (7, 9), (8, 11), (17, 8), (18, 25)], 'Although': [(11, 1), (16, 1), (18, 1)], 'explicitly': [(13, 8)], 'first': [(16, 41)], 'face': [(14, 8)], 'implementation': [(19, 8), (20, 8)], 'enough': [(10, 30)], 'than': [(3, 21), (4, 20), (5, 18), (6, 19), (7, 16), (8, 18), (17, 15), (18, 32)], 'Simple': [(5, 1)]}\n",
      "be\n",
      "setdefault: [(15, 14), (16, 27)]\n",
      "{'pass': [(12, 21)], 'implicit': [(4, 25)], 'and': [(15, 23)], 'silenced': [(13, 19)], 'way': [(15, 57), (16, 15)], 'the': [(10, 46), (14, 4), (14, 34), (19, 4), (20, 4)], 'hard': [(19, 26)], 'at': [(16, 38)], 'may': [(16, 19), (20, 46)], 'Readability': [(9, 1)], 'easy': [(20, 26)], 'obvious': [(15, 49), (16, 30)], 'to': [(10, 37), (14, 49), (15, 61), (19, 31), (20, 31)], 'never': [(12, 15), (17, 20), (18, 10)], 'practicality': [(11, 10)], 'should': [(12, 8), (15, 7)], 'Unless': [(13, 1)], 'silently': [(12, 26)], 'not': [(16, 23)], 'Errors': [(12, 1)], 'guess': [(14, 52)], 'There': [(15, 1)], 'Python': [(1, 12)], 'break': [(10, 40)], 'Tim': [(1, 23)], 'cases': [(10, 9)], 'preferably': [(15, 27)], 'do': [(15, 64)], 're': [(16, 58)], 'idea': [(19, 54)], 'dense': [(8, 23)], 'ugly': [(3, 26)], 'Zen': [(1, 5)], 'aren': [(10, 15)], 'explain': [(19, 34), (20, 34)], 'now': [(18, 45)], 'Special': [(10, 1)], 'by': [(1, 20)], 'If': [(19, 1), (20, 1)], 'beats': [(11, 23)], 'Now': [(17, 1)], 'often': [(18, 19)], 'Peters': [(1, 27)], 'one': [(15, 17), (15, 43)], 'special': [(10, 22)], 'purity': [(11, 29)], 'refuse': [(14, 27)], 'it': [(15, 67), (19, 43), (20, 43)], 'Flat': [(7, 1)], 'ambiguity': [(14, 16)], 'only': [(15, 38)], 's': [(19, 46)], 'temptation': [(14, 38)], 'nested': [(7, 21)], 'Explicit': [(4, 1)], 'of': [(1, 9), (14, 13)], 'Beautiful': [(3, 1)], 'complex': [(5, 23)], 'Sparse': [(8, 1)], 'a': [(19, 48)], 'bad': [(19, 50)], 'Complex': [(6, 1)], 'you': [(16, 54)], 'counts': [(9, 13)], 'be': [(15, 14), (16, 27), (20, 50)], 'right': [(18, 38)], 'unless': [(16, 47)], 'The': [(1, 1)], 't': [(10, 20)], 'rules': [(10, 50)], 'In': [(14, 1)], 'that': [(16, 10)], 'complicated': [(6, 24)], 'is': [(3, 11), (4, 10), (5, 8), (6, 9), (7, 6), (8, 8), (17, 5), (18, 16), (19, 23), (20, 23)], 'Dutch': [(16, 61)], 'better': [(3, 14), (4, 13), (5, 11), (6, 12), (7, 9), (8, 11), (17, 8), (18, 25)], 'Although': [(11, 1), (16, 1), (18, 1)], 'explicitly': [(13, 8)], 'first': [(16, 41)], 'face': [(14, 8)], 'implementation': [(19, 8), (20, 8)], 'enough': [(10, 30)], 'than': [(3, 21), (4, 20), (5, 18), (6, 19), (7, 16), (8, 18), (17, 15), (18, 32)], 'Simple': [(5, 1)]}\n",
      "a\n",
      "setdefault: [(19, 48)]\n",
      "{'pass': [(12, 21)], 'implicit': [(4, 25)], 'and': [(15, 23)], 'silenced': [(13, 19)], 'way': [(15, 57), (16, 15)], 'the': [(10, 46), (14, 4), (14, 34), (19, 4), (20, 4)], 'hard': [(19, 26)], 'at': [(16, 38)], 'may': [(16, 19), (20, 46)], 'Readability': [(9, 1)], 'easy': [(20, 26)], 'obvious': [(15, 49), (16, 30)], 'to': [(10, 37), (14, 49), (15, 61), (19, 31), (20, 31)], 'never': [(12, 15), (17, 20), (18, 10)], 'practicality': [(11, 10)], 'should': [(12, 8), (15, 7)], 'Unless': [(13, 1)], 'silently': [(12, 26)], 'not': [(16, 23)], 'Errors': [(12, 1)], 'guess': [(14, 52)], 'There': [(15, 1)], 'Python': [(1, 12)], 'break': [(10, 40)], 'Tim': [(1, 23)], 'cases': [(10, 9)], 'preferably': [(15, 27)], 'do': [(15, 64)], 're': [(16, 58)], 'idea': [(19, 54)], 'dense': [(8, 23)], 'ugly': [(3, 26)], 'Zen': [(1, 5)], 'aren': [(10, 15)], 'explain': [(19, 34), (20, 34)], 'now': [(18, 45)], 'Special': [(10, 1)], 'by': [(1, 20)], 'If': [(19, 1), (20, 1)], 'beats': [(11, 23)], 'Now': [(17, 1)], 'often': [(18, 19)], 'Peters': [(1, 27)], 'one': [(15, 17), (15, 43)], 'special': [(10, 22)], 'purity': [(11, 29)], 'refuse': [(14, 27)], 'it': [(15, 67), (19, 43), (20, 43)], 'Flat': [(7, 1)], 'ambiguity': [(14, 16)], 'only': [(15, 38)], 's': [(19, 46)], 'temptation': [(14, 38)], 'nested': [(7, 21)], 'Explicit': [(4, 1)], 'of': [(1, 9), (14, 13)], 'Beautiful': [(3, 1)], 'complex': [(5, 23)], 'Sparse': [(8, 1)], 'a': [(19, 48), (20, 53)], 'bad': [(19, 50)], 'Complex': [(6, 1)], 'you': [(16, 54)], 'counts': [(9, 13)], 'be': [(15, 14), (16, 27), (20, 50)], 'right': [(18, 38)], 'unless': [(16, 47)], 'The': [(1, 1)], 't': [(10, 20)], 'rules': [(10, 50)], 'In': [(14, 1)], 'that': [(16, 10)], 'complicated': [(6, 24)], 'is': [(3, 11), (4, 10), (5, 8), (6, 9), (7, 6), (8, 8), (17, 5), (18, 16), (19, 23), (20, 23)], 'Dutch': [(16, 61)], 'better': [(3, 14), (4, 13), (5, 11), (6, 12), (7, 9), (8, 11), (17, 8), (18, 25)], 'Although': [(11, 1), (16, 1), (18, 1)], 'explicitly': [(13, 8)], 'first': [(16, 41)], 'face': [(14, 8)], 'implementation': [(19, 8), (20, 8)], 'enough': [(10, 30)], 'than': [(3, 21), (4, 20), (5, 18), (6, 19), (7, 16), (8, 18), (17, 15), (18, 32)], 'Simple': [(5, 1)]}\n",
      "good\n",
      "setdefault: []\n",
      "{'pass': [(12, 21)], 'implicit': [(4, 25)], 'and': [(15, 23)], 'silenced': [(13, 19)], 'way': [(15, 57), (16, 15)], 'the': [(10, 46), (14, 4), (14, 34), (19, 4), (20, 4)], 'hard': [(19, 26)], 'at': [(16, 38)], 'may': [(16, 19), (20, 46)], 'Readability': [(9, 1)], 'easy': [(20, 26)], 'obvious': [(15, 49), (16, 30)], 'to': [(10, 37), (14, 49), (15, 61), (19, 31), (20, 31)], 'never': [(12, 15), (17, 20), (18, 10)], 'practicality': [(11, 10)], 'should': [(12, 8), (15, 7)], 'Unless': [(13, 1)], 'silently': [(12, 26)], 'not': [(16, 23)], 'Errors': [(12, 1)], 'guess': [(14, 52)], 'There': [(15, 1)], 'Python': [(1, 12)], 'break': [(10, 40)], 'Tim': [(1, 23)], 'cases': [(10, 9)], 'preferably': [(15, 27)], 'do': [(15, 64)], 're': [(16, 58)], 'idea': [(19, 54)], 'dense': [(8, 23)], 'ugly': [(3, 26)], 'Zen': [(1, 5)], 'aren': [(10, 15)], 'explain': [(19, 34), (20, 34)], 'now': [(18, 45)], 'Special': [(10, 1)], 'by': [(1, 20)], 'If': [(19, 1), (20, 1)], 'beats': [(11, 23)], 'Now': [(17, 1)], 'often': [(18, 19)], 'Peters': [(1, 27)], 'one': [(15, 17), (15, 43)], 'special': [(10, 22)], 'purity': [(11, 29)], 'refuse': [(14, 27)], 'it': [(15, 67), (19, 43), (20, 43)], 'Flat': [(7, 1)], 'ambiguity': [(14, 16)], 'only': [(15, 38)], 's': [(19, 46)], 'temptation': [(14, 38)], 'nested': [(7, 21)], 'Explicit': [(4, 1)], 'of': [(1, 9), (14, 13)], 'Beautiful': [(3, 1)], 'complex': [(5, 23)], 'Sparse': [(8, 1)], 'a': [(19, 48), (20, 53)], 'bad': [(19, 50)], 'Complex': [(6, 1)], 'you': [(16, 54)], 'counts': [(9, 13)], 'be': [(15, 14), (16, 27), (20, 50)], 'right': [(18, 38)], 'unless': [(16, 47)], 'The': [(1, 1)], 't': [(10, 20)], 'good': [(20, 55)], 'rules': [(10, 50)], 'In': [(14, 1)], 'that': [(16, 10)], 'complicated': [(6, 24)], 'is': [(3, 11), (4, 10), (5, 8), (6, 9), (7, 6), (8, 8), (17, 5), (18, 16), (19, 23), (20, 23)], 'Dutch': [(16, 61)], 'better': [(3, 14), (4, 13), (5, 11), (6, 12), (7, 9), (8, 11), (17, 8), (18, 25)], 'Although': [(11, 1), (16, 1), (18, 1)], 'explicitly': [(13, 8)], 'first': [(16, 41)], 'face': [(14, 8)], 'implementation': [(19, 8), (20, 8)], 'enough': [(10, 30)], 'than': [(3, 21), (4, 20), (5, 18), (6, 19), (7, 16), (8, 18), (17, 15), (18, 32)], 'Simple': [(5, 1)]}\n",
      "idea\n",
      "setdefault: [(19, 54)]\n",
      "{'pass': [(12, 21)], 'implicit': [(4, 25)], 'and': [(15, 23)], 'silenced': [(13, 19)], 'way': [(15, 57), (16, 15)], 'the': [(10, 46), (14, 4), (14, 34), (19, 4), (20, 4)], 'hard': [(19, 26)], 'at': [(16, 38)], 'may': [(16, 19), (20, 46)], 'Readability': [(9, 1)], 'easy': [(20, 26)], 'obvious': [(15, 49), (16, 30)], 'to': [(10, 37), (14, 49), (15, 61), (19, 31), (20, 31)], 'never': [(12, 15), (17, 20), (18, 10)], 'practicality': [(11, 10)], 'should': [(12, 8), (15, 7)], 'Unless': [(13, 1)], 'silently': [(12, 26)], 'not': [(16, 23)], 'Errors': [(12, 1)], 'guess': [(14, 52)], 'There': [(15, 1)], 'Python': [(1, 12)], 'break': [(10, 40)], 'Tim': [(1, 23)], 'cases': [(10, 9)], 'preferably': [(15, 27)], 'do': [(15, 64)], 're': [(16, 58)], 'idea': [(19, 54), (20, 60)], 'dense': [(8, 23)], 'ugly': [(3, 26)], 'Zen': [(1, 5)], 'aren': [(10, 15)], 'explain': [(19, 34), (20, 34)], 'now': [(18, 45)], 'Special': [(10, 1)], 'by': [(1, 20)], 'If': [(19, 1), (20, 1)], 'beats': [(11, 23)], 'Now': [(17, 1)], 'often': [(18, 19)], 'Peters': [(1, 27)], 'one': [(15, 17), (15, 43)], 'special': [(10, 22)], 'purity': [(11, 29)], 'refuse': [(14, 27)], 'it': [(15, 67), (19, 43), (20, 43)], 'Flat': [(7, 1)], 'ambiguity': [(14, 16)], 'only': [(15, 38)], 's': [(19, 46)], 'temptation': [(14, 38)], 'nested': [(7, 21)], 'Explicit': [(4, 1)], 'of': [(1, 9), (14, 13)], 'Beautiful': [(3, 1)], 'complex': [(5, 23)], 'Sparse': [(8, 1)], 'a': [(19, 48), (20, 53)], 'bad': [(19, 50)], 'Complex': [(6, 1)], 'you': [(16, 54)], 'counts': [(9, 13)], 'be': [(15, 14), (16, 27), (20, 50)], 'right': [(18, 38)], 'unless': [(16, 47)], 'The': [(1, 1)], 't': [(10, 20)], 'good': [(20, 55)], 'rules': [(10, 50)], 'In': [(14, 1)], 'that': [(16, 10)], 'complicated': [(6, 24)], 'is': [(3, 11), (4, 10), (5, 8), (6, 9), (7, 6), (8, 8), (17, 5), (18, 16), (19, 23), (20, 23)], 'Dutch': [(16, 61)], 'better': [(3, 14), (4, 13), (5, 11), (6, 12), (7, 9), (8, 11), (17, 8), (18, 25)], 'Although': [(11, 1), (16, 1), (18, 1)], 'explicitly': [(13, 8)], 'first': [(16, 41)], 'face': [(14, 8)], 'implementation': [(19, 8), (20, 8)], 'enough': [(10, 30)], 'than': [(3, 21), (4, 20), (5, 18), (6, 19), (7, 16), (8, 18), (17, 15), (18, 32)], 'Simple': [(5, 1)]}\n",
      "Namespaces\n",
      "setdefault: []\n",
      "{'pass': [(12, 21)], 'to': [(10, 37), (14, 49), (15, 61), (19, 31), (20, 31)], 'never': [(12, 15), (17, 20), (18, 10)], 'practicality': [(11, 10)], 'should': [(12, 8), (15, 7)], 'Errors': [(12, 1)], 're': [(16, 58)], 'break': [(10, 40)], 'Tim': [(1, 23)], 'easy': [(20, 26)], 'you': [(16, 54)], 'do': [(15, 64)], 'dense': [(8, 23)], 'aren': [(10, 15)], 'Special': [(10, 1)], 'beats': [(11, 23)], 'Readability': [(9, 1)], 'one': [(15, 17), (15, 43)], 'special': [(10, 22)], 'purity': [(11, 29)], 'Flat': [(7, 1)], 'Now': [(17, 1)], 'ambiguity': [(14, 16)], 'only': [(15, 38)], 'Explicit': [(4, 1)], 'of': [(1, 9), (14, 13)], 'complex': [(5, 23)], 'Sparse': [(8, 1)], 'a': [(19, 48), (20, 53)], 'Complex': [(6, 1)], 't': [(10, 20)], 'rules': [(10, 50)], 'that': [(16, 10)], 'is': [(3, 11), (4, 10), (5, 8), (6, 9), (7, 6), (8, 8), (17, 5), (18, 16), (19, 23), (20, 23)], 'better': [(3, 14), (4, 13), (5, 11), (6, 12), (7, 9), (8, 11), (17, 8), (18, 25)], 'ugly': [(3, 26)], 'temptation': [(14, 38)], 'implementation': [(19, 8), (20, 8)], 'complicated': [(6, 24)], 'Simple': [(5, 1)], 'cases': [(10, 9)], 'and': [(15, 23)], 'silenced': [(13, 19)], 'the': [(10, 46), (14, 4), (14, 34), (19, 4), (20, 4)], 'hard': [(19, 26)], 'at': [(16, 38)], 'may': [(16, 19), (20, 46)], 'Peters': [(1, 27)], 'obvious': [(15, 49), (16, 30)], 'way': [(15, 57), (16, 15)], 'Unless': [(13, 1)], 'silently': [(12, 26)], 'not': [(16, 23)], 'guess': [(14, 52)], 'There': [(15, 1)], 'Python': [(1, 12)], 'Dutch': [(16, 61)], 'implicit': [(4, 25)], 'Zen': [(1, 5)], 'Namespaces': [(21, 1)], 'explain': [(19, 34), (20, 34)], 'now': [(18, 45)], 'by': [(1, 20)], 'explicitly': [(13, 8)], 's': [(19, 46)], 'idea': [(19, 54), (20, 60)], 'refuse': [(14, 27)], 'preferably': [(15, 27)], 'face': [(14, 8)], 'nested': [(7, 21)], 'Beautiful': [(3, 1)], 'often': [(18, 19)], 'bad': [(19, 50)], 'it': [(15, 67), (19, 43), (20, 43)], 'counts': [(9, 13)], 'be': [(15, 14), (16, 27), (20, 50)], 'right': [(18, 38)], 'unless': [(16, 47)], 'The': [(1, 1)], 'good': [(20, 55)], 'In': [(14, 1)], 'enough': [(10, 30)], 'Although': [(11, 1), (16, 1), (18, 1)], 'If': [(19, 1), (20, 1)], 'first': [(16, 41)], 'than': [(3, 21), (4, 20), (5, 18), (6, 19), (7, 16), (8, 18), (17, 15), (18, 32)]}\n",
      "are\n",
      "setdefault: []\n",
      "{'pass': [(12, 21)], 'to': [(10, 37), (14, 49), (15, 61), (19, 31), (20, 31)], 'never': [(12, 15), (17, 20), (18, 10)], 'practicality': [(11, 10)], 'should': [(12, 8), (15, 7)], 'Errors': [(12, 1)], 're': [(16, 58)], 'break': [(10, 40)], 'Tim': [(1, 23)], 'easy': [(20, 26)], 'are': [(21, 12)], 'you': [(16, 54)], 'do': [(15, 64)], 'dense': [(8, 23)], 'aren': [(10, 15)], 'Special': [(10, 1)], 'beats': [(11, 23)], 'Readability': [(9, 1)], 'one': [(15, 17), (15, 43)], 'special': [(10, 22)], 'purity': [(11, 29)], 'Flat': [(7, 1)], 'Now': [(17, 1)], 'ambiguity': [(14, 16)], 'only': [(15, 38)], 'Explicit': [(4, 1)], 'of': [(1, 9), (14, 13)], 'complex': [(5, 23)], 'Sparse': [(8, 1)], 'a': [(19, 48), (20, 53)], 'Complex': [(6, 1)], 't': [(10, 20)], 'rules': [(10, 50)], 'that': [(16, 10)], 'is': [(3, 11), (4, 10), (5, 8), (6, 9), (7, 6), (8, 8), (17, 5), (18, 16), (19, 23), (20, 23)], 'better': [(3, 14), (4, 13), (5, 11), (6, 12), (7, 9), (8, 11), (17, 8), (18, 25)], 'ugly': [(3, 26)], 'temptation': [(14, 38)], 'implementation': [(19, 8), (20, 8)], 'complicated': [(6, 24)], 'Simple': [(5, 1)], 'cases': [(10, 9)], 'and': [(15, 23)], 'silenced': [(13, 19)], 'the': [(10, 46), (14, 4), (14, 34), (19, 4), (20, 4)], 'hard': [(19, 26)], 'at': [(16, 38)], 'may': [(16, 19), (20, 46)], 'Peters': [(1, 27)], 'obvious': [(15, 49), (16, 30)], 'way': [(15, 57), (16, 15)], 'Unless': [(13, 1)], 'silently': [(12, 26)], 'not': [(16, 23)], 'guess': [(14, 52)], 'There': [(15, 1)], 'Python': [(1, 12)], 'Dutch': [(16, 61)], 'implicit': [(4, 25)], 'Zen': [(1, 5)], 'Namespaces': [(21, 1)], 'explain': [(19, 34), (20, 34)], 'now': [(18, 45)], 'by': [(1, 20)], 'explicitly': [(13, 8)], 's': [(19, 46)], 'idea': [(19, 54), (20, 60)], 'refuse': [(14, 27)], 'preferably': [(15, 27)], 'face': [(14, 8)], 'nested': [(7, 21)], 'Beautiful': [(3, 1)], 'often': [(18, 19)], 'bad': [(19, 50)], 'it': [(15, 67), (19, 43), (20, 43)], 'counts': [(9, 13)], 'be': [(15, 14), (16, 27), (20, 50)], 'right': [(18, 38)], 'unless': [(16, 47)], 'The': [(1, 1)], 'good': [(20, 55)], 'In': [(14, 1)], 'enough': [(10, 30)], 'Although': [(11, 1), (16, 1), (18, 1)], 'If': [(19, 1), (20, 1)], 'first': [(16, 41)], 'than': [(3, 21), (4, 20), (5, 18), (6, 19), (7, 16), (8, 18), (17, 15), (18, 32)]}\n",
      "one\n",
      "setdefault: [(15, 17), (15, 43)]\n",
      "{'pass': [(12, 21)], 'to': [(10, 37), (14, 49), (15, 61), (19, 31), (20, 31)], 'never': [(12, 15), (17, 20), (18, 10)], 'practicality': [(11, 10)], 'should': [(12, 8), (15, 7)], 'Errors': [(12, 1)], 're': [(16, 58)], 'break': [(10, 40)], 'Tim': [(1, 23)], 'easy': [(20, 26)], 'are': [(21, 12)], 'you': [(16, 54)], 'do': [(15, 64)], 'dense': [(8, 23)], 'aren': [(10, 15)], 'Special': [(10, 1)], 'beats': [(11, 23)], 'Readability': [(9, 1)], 'one': [(15, 17), (15, 43), (21, 16)], 'special': [(10, 22)], 'purity': [(11, 29)], 'Flat': [(7, 1)], 'Now': [(17, 1)], 'ambiguity': [(14, 16)], 'only': [(15, 38)], 'Explicit': [(4, 1)], 'of': [(1, 9), (14, 13)], 'complex': [(5, 23)], 'Sparse': [(8, 1)], 'a': [(19, 48), (20, 53)], 'Complex': [(6, 1)], 't': [(10, 20)], 'rules': [(10, 50)], 'that': [(16, 10)], 'is': [(3, 11), (4, 10), (5, 8), (6, 9), (7, 6), (8, 8), (17, 5), (18, 16), (19, 23), (20, 23)], 'better': [(3, 14), (4, 13), (5, 11), (6, 12), (7, 9), (8, 11), (17, 8), (18, 25)], 'ugly': [(3, 26)], 'temptation': [(14, 38)], 'implementation': [(19, 8), (20, 8)], 'complicated': [(6, 24)], 'Simple': [(5, 1)], 'cases': [(10, 9)], 'and': [(15, 23)], 'silenced': [(13, 19)], 'the': [(10, 46), (14, 4), (14, 34), (19, 4), (20, 4)], 'hard': [(19, 26)], 'at': [(16, 38)], 'may': [(16, 19), (20, 46)], 'Peters': [(1, 27)], 'obvious': [(15, 49), (16, 30)], 'way': [(15, 57), (16, 15)], 'Unless': [(13, 1)], 'silently': [(12, 26)], 'not': [(16, 23)], 'guess': [(14, 52)], 'There': [(15, 1)], 'Python': [(1, 12)], 'Dutch': [(16, 61)], 'implicit': [(4, 25)], 'Zen': [(1, 5)], 'Namespaces': [(21, 1)], 'explain': [(19, 34), (20, 34)], 'now': [(18, 45)], 'by': [(1, 20)], 'explicitly': [(13, 8)], 's': [(19, 46)], 'idea': [(19, 54), (20, 60)], 'refuse': [(14, 27)], 'preferably': [(15, 27)], 'face': [(14, 8)], 'nested': [(7, 21)], 'Beautiful': [(3, 1)], 'often': [(18, 19)], 'bad': [(19, 50)], 'it': [(15, 67), (19, 43), (20, 43)], 'counts': [(9, 13)], 'be': [(15, 14), (16, 27), (20, 50)], 'right': [(18, 38)], 'unless': [(16, 47)], 'The': [(1, 1)], 'good': [(20, 55)], 'In': [(14, 1)], 'enough': [(10, 30)], 'Although': [(11, 1), (16, 1), (18, 1)], 'If': [(19, 1), (20, 1)], 'first': [(16, 41)], 'than': [(3, 21), (4, 20), (5, 18), (6, 19), (7, 16), (8, 18), (17, 15), (18, 32)]}\n",
      "honking\n",
      "setdefault: []\n",
      "{'pass': [(12, 21)], 'to': [(10, 37), (14, 49), (15, 61), (19, 31), (20, 31)], 'never': [(12, 15), (17, 20), (18, 10)], 'practicality': [(11, 10)], 'should': [(12, 8), (15, 7)], 'Errors': [(12, 1)], 're': [(16, 58)], 'break': [(10, 40)], 'Tim': [(1, 23)], 'easy': [(20, 26)], 'are': [(21, 12)], 'you': [(16, 54)], 'do': [(15, 64)], 'dense': [(8, 23)], 'aren': [(10, 15)], 'Special': [(10, 1)], 'beats': [(11, 23)], 'Readability': [(9, 1)], 'one': [(15, 17), (15, 43), (21, 16)], 'special': [(10, 22)], 'purity': [(11, 29)], 'Flat': [(7, 1)], 'Now': [(17, 1)], 'ambiguity': [(14, 16)], 'only': [(15, 38)], 'Explicit': [(4, 1)], 'of': [(1, 9), (14, 13)], 'complex': [(5, 23)], 'Sparse': [(8, 1)], 'a': [(19, 48), (20, 53)], 'Complex': [(6, 1)], 't': [(10, 20)], 'rules': [(10, 50)], 'that': [(16, 10)], 'is': [(3, 11), (4, 10), (5, 8), (6, 9), (7, 6), (8, 8), (17, 5), (18, 16), (19, 23), (20, 23)], 'better': [(3, 14), (4, 13), (5, 11), (6, 12), (7, 9), (8, 11), (17, 8), (18, 25)], 'ugly': [(3, 26)], 'temptation': [(14, 38)], 'implementation': [(19, 8), (20, 8)], 'complicated': [(6, 24)], 'Simple': [(5, 1)], 'cases': [(10, 9)], 'and': [(15, 23)], 'silenced': [(13, 19)], 'the': [(10, 46), (14, 4), (14, 34), (19, 4), (20, 4)], 'hard': [(19, 26)], 'at': [(16, 38)], 'may': [(16, 19), (20, 46)], 'Peters': [(1, 27)], 'obvious': [(15, 49), (16, 30)], 'way': [(15, 57), (16, 15)], 'Unless': [(13, 1)], 'silently': [(12, 26)], 'not': [(16, 23)], 'guess': [(14, 52)], 'There': [(15, 1)], 'Python': [(1, 12)], 'Dutch': [(16, 61)], 'implicit': [(4, 25)], 'Zen': [(1, 5)], 'Namespaces': [(21, 1)], 'explain': [(19, 34), (20, 34)], 'now': [(18, 45)], 'by': [(1, 20)], 'explicitly': [(13, 8)], 's': [(19, 46)], 'idea': [(19, 54), (20, 60)], 'honking': [(21, 20)], 'refuse': [(14, 27)], 'preferably': [(15, 27)], 'face': [(14, 8)], 'nested': [(7, 21)], 'Beautiful': [(3, 1)], 'often': [(18, 19)], 'bad': [(19, 50)], 'it': [(15, 67), (19, 43), (20, 43)], 'counts': [(9, 13)], 'be': [(15, 14), (16, 27), (20, 50)], 'right': [(18, 38)], 'unless': [(16, 47)], 'The': [(1, 1)], 'good': [(20, 55)], 'In': [(14, 1)], 'enough': [(10, 30)], 'Although': [(11, 1), (16, 1), (18, 1)], 'If': [(19, 1), (20, 1)], 'first': [(16, 41)], 'than': [(3, 21), (4, 20), (5, 18), (6, 19), (7, 16), (8, 18), (17, 15), (18, 32)]}\n",
      "great\n",
      "setdefault: []\n",
      "{'pass': [(12, 21)], 'great': [(21, 28)], 'to': [(10, 37), (14, 49), (15, 61), (19, 31), (20, 31)], 'never': [(12, 15), (17, 20), (18, 10)], 'practicality': [(11, 10)], 'should': [(12, 8), (15, 7)], 'Errors': [(12, 1)], 're': [(16, 58)], 'break': [(10, 40)], 'Tim': [(1, 23)], 'easy': [(20, 26)], 'are': [(21, 12)], 'you': [(16, 54)], 'do': [(15, 64)], 'dense': [(8, 23)], 'aren': [(10, 15)], 'Special': [(10, 1)], 'beats': [(11, 23)], 'Readability': [(9, 1)], 'one': [(15, 17), (15, 43), (21, 16)], 'special': [(10, 22)], 'purity': [(11, 29)], 'Flat': [(7, 1)], 'Now': [(17, 1)], 'ambiguity': [(14, 16)], 'only': [(15, 38)], 'Explicit': [(4, 1)], 'of': [(1, 9), (14, 13)], 'complex': [(5, 23)], 'Sparse': [(8, 1)], 'a': [(19, 48), (20, 53)], 'Complex': [(6, 1)], 't': [(10, 20)], 'rules': [(10, 50)], 'that': [(16, 10)], 'is': [(3, 11), (4, 10), (5, 8), (6, 9), (7, 6), (8, 8), (17, 5), (18, 16), (19, 23), (20, 23)], 'better': [(3, 14), (4, 13), (5, 11), (6, 12), (7, 9), (8, 11), (17, 8), (18, 25)], 'ugly': [(3, 26)], 'temptation': [(14, 38)], 'implementation': [(19, 8), (20, 8)], 'complicated': [(6, 24)], 'Simple': [(5, 1)], 'cases': [(10, 9)], 'and': [(15, 23)], 'silenced': [(13, 19)], 'the': [(10, 46), (14, 4), (14, 34), (19, 4), (20, 4)], 'hard': [(19, 26)], 'at': [(16, 38)], 'may': [(16, 19), (20, 46)], 'Peters': [(1, 27)], 'obvious': [(15, 49), (16, 30)], 'way': [(15, 57), (16, 15)], 'Unless': [(13, 1)], 'silently': [(12, 26)], 'not': [(16, 23)], 'guess': [(14, 52)], 'There': [(15, 1)], 'Python': [(1, 12)], 'Dutch': [(16, 61)], 'implicit': [(4, 25)], 'Zen': [(1, 5)], 'Namespaces': [(21, 1)], 'explain': [(19, 34), (20, 34)], 'now': [(18, 45)], 'by': [(1, 20)], 'explicitly': [(13, 8)], 's': [(19, 46)], 'idea': [(19, 54), (20, 60)], 'honking': [(21, 20)], 'refuse': [(14, 27)], 'preferably': [(15, 27)], 'face': [(14, 8)], 'nested': [(7, 21)], 'Beautiful': [(3, 1)], 'often': [(18, 19)], 'bad': [(19, 50)], 'it': [(15, 67), (19, 43), (20, 43)], 'counts': [(9, 13)], 'be': [(15, 14), (16, 27), (20, 50)], 'right': [(18, 38)], 'unless': [(16, 47)], 'The': [(1, 1)], 'good': [(20, 55)], 'In': [(14, 1)], 'enough': [(10, 30)], 'Although': [(11, 1), (16, 1), (18, 1)], 'If': [(19, 1), (20, 1)], 'first': [(16, 41)], 'than': [(3, 21), (4, 20), (5, 18), (6, 19), (7, 16), (8, 18), (17, 15), (18, 32)]}\n",
      "idea\n",
      "setdefault: [(19, 54), (20, 60)]\n",
      "{'pass': [(12, 21)], 'great': [(21, 28)], 'to': [(10, 37), (14, 49), (15, 61), (19, 31), (20, 31)], 'never': [(12, 15), (17, 20), (18, 10)], 'practicality': [(11, 10)], 'should': [(12, 8), (15, 7)], 'Errors': [(12, 1)], 're': [(16, 58)], 'break': [(10, 40)], 'Tim': [(1, 23)], 'easy': [(20, 26)], 'are': [(21, 12)], 'you': [(16, 54)], 'do': [(15, 64)], 'dense': [(8, 23)], 'aren': [(10, 15)], 'Special': [(10, 1)], 'beats': [(11, 23)], 'Readability': [(9, 1)], 'one': [(15, 17), (15, 43), (21, 16)], 'special': [(10, 22)], 'purity': [(11, 29)], 'Flat': [(7, 1)], 'Now': [(17, 1)], 'ambiguity': [(14, 16)], 'only': [(15, 38)], 'Explicit': [(4, 1)], 'of': [(1, 9), (14, 13)], 'complex': [(5, 23)], 'Sparse': [(8, 1)], 'a': [(19, 48), (20, 53)], 'Complex': [(6, 1)], 't': [(10, 20)], 'rules': [(10, 50)], 'that': [(16, 10)], 'is': [(3, 11), (4, 10), (5, 8), (6, 9), (7, 6), (8, 8), (17, 5), (18, 16), (19, 23), (20, 23)], 'better': [(3, 14), (4, 13), (5, 11), (6, 12), (7, 9), (8, 11), (17, 8), (18, 25)], 'ugly': [(3, 26)], 'temptation': [(14, 38)], 'implementation': [(19, 8), (20, 8)], 'complicated': [(6, 24)], 'Simple': [(5, 1)], 'cases': [(10, 9)], 'and': [(15, 23)], 'silenced': [(13, 19)], 'the': [(10, 46), (14, 4), (14, 34), (19, 4), (20, 4)], 'hard': [(19, 26)], 'at': [(16, 38)], 'may': [(16, 19), (20, 46)], 'Peters': [(1, 27)], 'obvious': [(15, 49), (16, 30)], 'way': [(15, 57), (16, 15)], 'Unless': [(13, 1)], 'silently': [(12, 26)], 'not': [(16, 23)], 'guess': [(14, 52)], 'There': [(15, 1)], 'Python': [(1, 12)], 'Dutch': [(16, 61)], 'implicit': [(4, 25)], 'Zen': [(1, 5)], 'Namespaces': [(21, 1)], 'explain': [(19, 34), (20, 34)], 'now': [(18, 45)], 'by': [(1, 20)], 'explicitly': [(13, 8)], 's': [(19, 46)], 'idea': [(19, 54), (20, 60), (21, 34)], 'honking': [(21, 20)], 'refuse': [(14, 27)], 'preferably': [(15, 27)], 'face': [(14, 8)], 'nested': [(7, 21)], 'Beautiful': [(3, 1)], 'often': [(18, 19)], 'bad': [(19, 50)], 'it': [(15, 67), (19, 43), (20, 43)], 'counts': [(9, 13)], 'be': [(15, 14), (16, 27), (20, 50)], 'right': [(18, 38)], 'unless': [(16, 47)], 'The': [(1, 1)], 'good': [(20, 55)], 'In': [(14, 1)], 'enough': [(10, 30)], 'Although': [(11, 1), (16, 1), (18, 1)], 'If': [(19, 1), (20, 1)], 'first': [(16, 41)], 'than': [(3, 21), (4, 20), (5, 18), (6, 19), (7, 16), (8, 18), (17, 15), (18, 32)]}\n",
      "let\n",
      "setdefault: []\n",
      "{'pass': [(12, 21)], 'great': [(21, 28)], 'to': [(10, 37), (14, 49), (15, 61), (19, 31), (20, 31)], 'never': [(12, 15), (17, 20), (18, 10)], 'practicality': [(11, 10)], 'should': [(12, 8), (15, 7)], 'Errors': [(12, 1)], 're': [(16, 58)], 'break': [(10, 40)], 'Tim': [(1, 23)], 'easy': [(20, 26)], 'are': [(21, 12)], 'you': [(16, 54)], 'do': [(15, 64)], 'dense': [(8, 23)], 'aren': [(10, 15)], 'Special': [(10, 1)], 'beats': [(11, 23)], 'Readability': [(9, 1)], 'one': [(15, 17), (15, 43), (21, 16)], 'special': [(10, 22)], 'purity': [(11, 29)], 'Flat': [(7, 1)], 'Now': [(17, 1)], 'ambiguity': [(14, 16)], 'only': [(15, 38)], 'Explicit': [(4, 1)], 'of': [(1, 9), (14, 13)], 'complex': [(5, 23)], 'Sparse': [(8, 1)], 'a': [(19, 48), (20, 53)], 'Complex': [(6, 1)], 't': [(10, 20)], 'rules': [(10, 50)], 'that': [(16, 10)], 'is': [(3, 11), (4, 10), (5, 8), (6, 9), (7, 6), (8, 8), (17, 5), (18, 16), (19, 23), (20, 23)], 'better': [(3, 14), (4, 13), (5, 11), (6, 12), (7, 9), (8, 11), (17, 8), (18, 25)], 'ugly': [(3, 26)], 'let': [(21, 42)], 'temptation': [(14, 38)], 'implementation': [(19, 8), (20, 8)], 'complicated': [(6, 24)], 'Simple': [(5, 1)], 'cases': [(10, 9)], 'and': [(15, 23)], 'silenced': [(13, 19)], 'the': [(10, 46), (14, 4), (14, 34), (19, 4), (20, 4)], 'hard': [(19, 26)], 'at': [(16, 38)], 'may': [(16, 19), (20, 46)], 'Peters': [(1, 27)], 'obvious': [(15, 49), (16, 30)], 'way': [(15, 57), (16, 15)], 'Unless': [(13, 1)], 'silently': [(12, 26)], 'not': [(16, 23)], 'guess': [(14, 52)], 'There': [(15, 1)], 'Python': [(1, 12)], 'Dutch': [(16, 61)], 'implicit': [(4, 25)], 'Zen': [(1, 5)], 'Namespaces': [(21, 1)], 'explain': [(19, 34), (20, 34)], 'now': [(18, 45)], 'by': [(1, 20)], 'explicitly': [(13, 8)], 's': [(19, 46)], 'idea': [(19, 54), (20, 60), (21, 34)], 'honking': [(21, 20)], 'refuse': [(14, 27)], 'preferably': [(15, 27)], 'face': [(14, 8)], 'nested': [(7, 21)], 'Beautiful': [(3, 1)], 'often': [(18, 19)], 'bad': [(19, 50)], 'it': [(15, 67), (19, 43), (20, 43)], 'counts': [(9, 13)], 'be': [(15, 14), (16, 27), (20, 50)], 'right': [(18, 38)], 'unless': [(16, 47)], 'The': [(1, 1)], 'good': [(20, 55)], 'In': [(14, 1)], 'enough': [(10, 30)], 'Although': [(11, 1), (16, 1), (18, 1)], 'If': [(19, 1), (20, 1)], 'first': [(16, 41)], 'than': [(3, 21), (4, 20), (5, 18), (6, 19), (7, 16), (8, 18), (17, 15), (18, 32)]}\n",
      "s\n",
      "setdefault: [(19, 46)]\n",
      "{'pass': [(12, 21)], 'great': [(21, 28)], 'to': [(10, 37), (14, 49), (15, 61), (19, 31), (20, 31)], 'never': [(12, 15), (17, 20), (18, 10)], 'practicality': [(11, 10)], 'should': [(12, 8), (15, 7)], 'Errors': [(12, 1)], 're': [(16, 58)], 'break': [(10, 40)], 'Tim': [(1, 23)], 'easy': [(20, 26)], 'are': [(21, 12)], 'you': [(16, 54)], 'do': [(15, 64)], 'dense': [(8, 23)], 'aren': [(10, 15)], 'Special': [(10, 1)], 'beats': [(11, 23)], 'Readability': [(9, 1)], 'one': [(15, 17), (15, 43), (21, 16)], 'special': [(10, 22)], 'purity': [(11, 29)], 'Flat': [(7, 1)], 'Now': [(17, 1)], 'ambiguity': [(14, 16)], 'only': [(15, 38)], 'Explicit': [(4, 1)], 'of': [(1, 9), (14, 13)], 'complex': [(5, 23)], 'Sparse': [(8, 1)], 'a': [(19, 48), (20, 53)], 'Complex': [(6, 1)], 't': [(10, 20)], 'rules': [(10, 50)], 'that': [(16, 10)], 'is': [(3, 11), (4, 10), (5, 8), (6, 9), (7, 6), (8, 8), (17, 5), (18, 16), (19, 23), (20, 23)], 'better': [(3, 14), (4, 13), (5, 11), (6, 12), (7, 9), (8, 11), (17, 8), (18, 25)], 'ugly': [(3, 26)], 'let': [(21, 42)], 'temptation': [(14, 38)], 'implementation': [(19, 8), (20, 8)], 'complicated': [(6, 24)], 'Simple': [(5, 1)], 'cases': [(10, 9)], 'and': [(15, 23)], 'silenced': [(13, 19)], 'the': [(10, 46), (14, 4), (14, 34), (19, 4), (20, 4)], 'hard': [(19, 26)], 'at': [(16, 38)], 'may': [(16, 19), (20, 46)], 'Peters': [(1, 27)], 'obvious': [(15, 49), (16, 30)], 'way': [(15, 57), (16, 15)], 'Unless': [(13, 1)], 'silently': [(12, 26)], 'not': [(16, 23)], 'guess': [(14, 52)], 'There': [(15, 1)], 'Python': [(1, 12)], 'Dutch': [(16, 61)], 'implicit': [(4, 25)], 'Zen': [(1, 5)], 'Namespaces': [(21, 1)], 'explain': [(19, 34), (20, 34)], 'now': [(18, 45)], 'by': [(1, 20)], 'explicitly': [(13, 8)], 's': [(19, 46), (21, 46)], 'idea': [(19, 54), (20, 60), (21, 34)], 'honking': [(21, 20)], 'refuse': [(14, 27)], 'preferably': [(15, 27)], 'face': [(14, 8)], 'nested': [(7, 21)], 'Beautiful': [(3, 1)], 'often': [(18, 19)], 'bad': [(19, 50)], 'it': [(15, 67), (19, 43), (20, 43)], 'counts': [(9, 13)], 'be': [(15, 14), (16, 27), (20, 50)], 'right': [(18, 38)], 'unless': [(16, 47)], 'The': [(1, 1)], 'good': [(20, 55)], 'In': [(14, 1)], 'enough': [(10, 30)], 'Although': [(11, 1), (16, 1), (18, 1)], 'If': [(19, 1), (20, 1)], 'first': [(16, 41)], 'than': [(3, 21), (4, 20), (5, 18), (6, 19), (7, 16), (8, 18), (17, 15), (18, 32)]}\n",
      "do\n",
      "setdefault: [(15, 64)]\n",
      "{'pass': [(12, 21)], 'great': [(21, 28)], 'to': [(10, 37), (14, 49), (15, 61), (19, 31), (20, 31)], 'never': [(12, 15), (17, 20), (18, 10)], 'practicality': [(11, 10)], 'should': [(12, 8), (15, 7)], 'Errors': [(12, 1)], 're': [(16, 58)], 'break': [(10, 40)], 'Tim': [(1, 23)], 'easy': [(20, 26)], 'are': [(21, 12)], 'you': [(16, 54)], 'do': [(15, 64), (21, 48)], 'dense': [(8, 23)], 'aren': [(10, 15)], 'Special': [(10, 1)], 'beats': [(11, 23)], 'Readability': [(9, 1)], 'one': [(15, 17), (15, 43), (21, 16)], 'special': [(10, 22)], 'purity': [(11, 29)], 'Flat': [(7, 1)], 'Now': [(17, 1)], 'ambiguity': [(14, 16)], 'only': [(15, 38)], 'Explicit': [(4, 1)], 'of': [(1, 9), (14, 13)], 'complex': [(5, 23)], 'Sparse': [(8, 1)], 'a': [(19, 48), (20, 53)], 'Complex': [(6, 1)], 't': [(10, 20)], 'rules': [(10, 50)], 'that': [(16, 10)], 'is': [(3, 11), (4, 10), (5, 8), (6, 9), (7, 6), (8, 8), (17, 5), (18, 16), (19, 23), (20, 23)], 'better': [(3, 14), (4, 13), (5, 11), (6, 12), (7, 9), (8, 11), (17, 8), (18, 25)], 'ugly': [(3, 26)], 'let': [(21, 42)], 'temptation': [(14, 38)], 'implementation': [(19, 8), (20, 8)], 'complicated': [(6, 24)], 'Simple': [(5, 1)], 'cases': [(10, 9)], 'and': [(15, 23)], 'silenced': [(13, 19)], 'the': [(10, 46), (14, 4), (14, 34), (19, 4), (20, 4)], 'hard': [(19, 26)], 'at': [(16, 38)], 'may': [(16, 19), (20, 46)], 'Peters': [(1, 27)], 'obvious': [(15, 49), (16, 30)], 'way': [(15, 57), (16, 15)], 'Unless': [(13, 1)], 'silently': [(12, 26)], 'not': [(16, 23)], 'guess': [(14, 52)], 'There': [(15, 1)], 'Python': [(1, 12)], 'Dutch': [(16, 61)], 'implicit': [(4, 25)], 'Zen': [(1, 5)], 'Namespaces': [(21, 1)], 'explain': [(19, 34), (20, 34)], 'now': [(18, 45)], 'by': [(1, 20)], 'explicitly': [(13, 8)], 's': [(19, 46), (21, 46)], 'idea': [(19, 54), (20, 60), (21, 34)], 'honking': [(21, 20)], 'refuse': [(14, 27)], 'preferably': [(15, 27)], 'face': [(14, 8)], 'nested': [(7, 21)], 'Beautiful': [(3, 1)], 'often': [(18, 19)], 'bad': [(19, 50)], 'it': [(15, 67), (19, 43), (20, 43)], 'counts': [(9, 13)], 'be': [(15, 14), (16, 27), (20, 50)], 'right': [(18, 38)], 'unless': [(16, 47)], 'The': [(1, 1)], 'good': [(20, 55)], 'In': [(14, 1)], 'enough': [(10, 30)], 'Although': [(11, 1), (16, 1), (18, 1)], 'If': [(19, 1), (20, 1)], 'first': [(16, 41)], 'than': [(3, 21), (4, 20), (5, 18), (6, 19), (7, 16), (8, 18), (17, 15), (18, 32)]}\n",
      "more\n",
      "setdefault: []\n",
      "{'pass': [(12, 21)], 'great': [(21, 28)], 'to': [(10, 37), (14, 49), (15, 61), (19, 31), (20, 31)], 'never': [(12, 15), (17, 20), (18, 10)], 'practicality': [(11, 10)], 'should': [(12, 8), (15, 7)], 'Errors': [(12, 1)], 're': [(16, 58)], 'break': [(10, 40)], 'Tim': [(1, 23)], 'easy': [(20, 26)], 'are': [(21, 12)], 'you': [(16, 54)], 'do': [(15, 64), (21, 48)], 'dense': [(8, 23)], 'aren': [(10, 15)], 'Special': [(10, 1)], 'beats': [(11, 23)], 'Readability': [(9, 1)], 'one': [(15, 17), (15, 43), (21, 16)], 'special': [(10, 22)], 'purity': [(11, 29)], 'Flat': [(7, 1)], 'Now': [(17, 1)], 'ambiguity': [(14, 16)], 'only': [(15, 38)], 'Explicit': [(4, 1)], 'of': [(1, 9), (14, 13)], 'complex': [(5, 23)], 'Sparse': [(8, 1)], 'a': [(19, 48), (20, 53)], 'Complex': [(6, 1)], 't': [(10, 20)], 'rules': [(10, 50)], 'that': [(16, 10)], 'is': [(3, 11), (4, 10), (5, 8), (6, 9), (7, 6), (8, 8), (17, 5), (18, 16), (19, 23), (20, 23)], 'better': [(3, 14), (4, 13), (5, 11), (6, 12), (7, 9), (8, 11), (17, 8), (18, 25)], 'ugly': [(3, 26)], 'let': [(21, 42)], 'temptation': [(14, 38)], 'implementation': [(19, 8), (20, 8)], 'complicated': [(6, 24)], 'Simple': [(5, 1)], 'cases': [(10, 9)], 'and': [(15, 23)], 'silenced': [(13, 19)], 'the': [(10, 46), (14, 4), (14, 34), (19, 4), (20, 4)], 'hard': [(19, 26)], 'at': [(16, 38)], 'may': [(16, 19), (20, 46)], 'Peters': [(1, 27)], 'obvious': [(15, 49), (16, 30)], 'way': [(15, 57), (16, 15)], 'Unless': [(13, 1)], 'silently': [(12, 26)], 'not': [(16, 23)], 'guess': [(14, 52)], 'There': [(15, 1)], 'Python': [(1, 12)], 'Dutch': [(16, 61)], 'implicit': [(4, 25)], 'Zen': [(1, 5)], 'Namespaces': [(21, 1)], 'explain': [(19, 34), (20, 34)], 'now': [(18, 45)], 'by': [(1, 20)], 'explicitly': [(13, 8)], 's': [(19, 46), (21, 46)], 'idea': [(19, 54), (20, 60), (21, 34)], 'honking': [(21, 20)], 'refuse': [(14, 27)], 'preferably': [(15, 27)], 'face': [(14, 8)], 'nested': [(7, 21)], 'Beautiful': [(3, 1)], 'often': [(18, 19)], 'bad': [(19, 50)], 'it': [(15, 67), (19, 43), (20, 43)], 'counts': [(9, 13)], 'be': [(15, 14), (16, 27), (20, 50)], 'right': [(18, 38)], 'unless': [(16, 47)], 'The': [(1, 1)], 'good': [(20, 55)], 'In': [(14, 1)], 'enough': [(10, 30)], 'Although': [(11, 1), (16, 1), (18, 1)], 'If': [(19, 1), (20, 1)], 'more': [(21, 51)], 'first': [(16, 41)], 'than': [(3, 21), (4, 20), (5, 18), (6, 19), (7, 16), (8, 18), (17, 15), (18, 32)]}\n",
      "of\n",
      "setdefault: [(1, 9), (14, 13)]\n",
      "{'pass': [(12, 21)], 'great': [(21, 28)], 'to': [(10, 37), (14, 49), (15, 61), (19, 31), (20, 31)], 'never': [(12, 15), (17, 20), (18, 10)], 'practicality': [(11, 10)], 'should': [(12, 8), (15, 7)], 'Errors': [(12, 1)], 're': [(16, 58)], 'break': [(10, 40)], 'Tim': [(1, 23)], 'easy': [(20, 26)], 'are': [(21, 12)], 'you': [(16, 54)], 'do': [(15, 64), (21, 48)], 'dense': [(8, 23)], 'aren': [(10, 15)], 'Special': [(10, 1)], 'beats': [(11, 23)], 'Readability': [(9, 1)], 'one': [(15, 17), (15, 43), (21, 16)], 'special': [(10, 22)], 'purity': [(11, 29)], 'Flat': [(7, 1)], 'Now': [(17, 1)], 'ambiguity': [(14, 16)], 'only': [(15, 38)], 'Explicit': [(4, 1)], 'of': [(1, 9), (14, 13), (21, 56)], 'complex': [(5, 23)], 'Sparse': [(8, 1)], 'a': [(19, 48), (20, 53)], 'Complex': [(6, 1)], 't': [(10, 20)], 'rules': [(10, 50)], 'that': [(16, 10)], 'is': [(3, 11), (4, 10), (5, 8), (6, 9), (7, 6), (8, 8), (17, 5), (18, 16), (19, 23), (20, 23)], 'better': [(3, 14), (4, 13), (5, 11), (6, 12), (7, 9), (8, 11), (17, 8), (18, 25)], 'ugly': [(3, 26)], 'let': [(21, 42)], 'temptation': [(14, 38)], 'implementation': [(19, 8), (20, 8)], 'complicated': [(6, 24)], 'Simple': [(5, 1)], 'cases': [(10, 9)], 'and': [(15, 23)], 'silenced': [(13, 19)], 'the': [(10, 46), (14, 4), (14, 34), (19, 4), (20, 4)], 'hard': [(19, 26)], 'at': [(16, 38)], 'may': [(16, 19), (20, 46)], 'Peters': [(1, 27)], 'obvious': [(15, 49), (16, 30)], 'way': [(15, 57), (16, 15)], 'Unless': [(13, 1)], 'silently': [(12, 26)], 'not': [(16, 23)], 'guess': [(14, 52)], 'There': [(15, 1)], 'Python': [(1, 12)], 'Dutch': [(16, 61)], 'implicit': [(4, 25)], 'Zen': [(1, 5)], 'Namespaces': [(21, 1)], 'explain': [(19, 34), (20, 34)], 'now': [(18, 45)], 'by': [(1, 20)], 'explicitly': [(13, 8)], 's': [(19, 46), (21, 46)], 'idea': [(19, 54), (20, 60), (21, 34)], 'honking': [(21, 20)], 'refuse': [(14, 27)], 'preferably': [(15, 27)], 'face': [(14, 8)], 'nested': [(7, 21)], 'Beautiful': [(3, 1)], 'often': [(18, 19)], 'bad': [(19, 50)], 'it': [(15, 67), (19, 43), (20, 43)], 'counts': [(9, 13)], 'be': [(15, 14), (16, 27), (20, 50)], 'right': [(18, 38)], 'unless': [(16, 47)], 'The': [(1, 1)], 'good': [(20, 55)], 'In': [(14, 1)], 'enough': [(10, 30)], 'Although': [(11, 1), (16, 1), (18, 1)], 'If': [(19, 1), (20, 1)], 'more': [(21, 51)], 'first': [(16, 41)], 'than': [(3, 21), (4, 20), (5, 18), (6, 19), (7, 16), (8, 18), (17, 15), (18, 32)]}\n",
      "those\n",
      "setdefault: []\n",
      "{'pass': [(12, 21)], 'great': [(21, 28)], 'to': [(10, 37), (14, 49), (15, 61), (19, 31), (20, 31)], 'never': [(12, 15), (17, 20), (18, 10)], 'practicality': [(11, 10)], 'should': [(12, 8), (15, 7)], 'Errors': [(12, 1)], 're': [(16, 58)], 'break': [(10, 40)], 'Tim': [(1, 23)], 'easy': [(20, 26)], 'are': [(21, 12)], 'you': [(16, 54)], 'do': [(15, 64), (21, 48)], 'dense': [(8, 23)], 'aren': [(10, 15)], 'Special': [(10, 1)], 'beats': [(11, 23)], 'those': [(21, 59)], 'Readability': [(9, 1)], 'one': [(15, 17), (15, 43), (21, 16)], 'special': [(10, 22)], 'purity': [(11, 29)], 'Flat': [(7, 1)], 'Now': [(17, 1)], 'ambiguity': [(14, 16)], 'only': [(15, 38)], 'Explicit': [(4, 1)], 'of': [(1, 9), (14, 13), (21, 56)], 'complex': [(5, 23)], 'Sparse': [(8, 1)], 'a': [(19, 48), (20, 53)], 'Complex': [(6, 1)], 't': [(10, 20)], 'rules': [(10, 50)], 'that': [(16, 10)], 'is': [(3, 11), (4, 10), (5, 8), (6, 9), (7, 6), (8, 8), (17, 5), (18, 16), (19, 23), (20, 23)], 'better': [(3, 14), (4, 13), (5, 11), (6, 12), (7, 9), (8, 11), (17, 8), (18, 25)], 'ugly': [(3, 26)], 'let': [(21, 42)], 'temptation': [(14, 38)], 'implementation': [(19, 8), (20, 8)], 'complicated': [(6, 24)], 'Simple': [(5, 1)], 'cases': [(10, 9)], 'and': [(15, 23)], 'silenced': [(13, 19)], 'the': [(10, 46), (14, 4), (14, 34), (19, 4), (20, 4)], 'hard': [(19, 26)], 'at': [(16, 38)], 'may': [(16, 19), (20, 46)], 'Peters': [(1, 27)], 'obvious': [(15, 49), (16, 30)], 'way': [(15, 57), (16, 15)], 'Unless': [(13, 1)], 'silently': [(12, 26)], 'not': [(16, 23)], 'guess': [(14, 52)], 'There': [(15, 1)], 'Python': [(1, 12)], 'Dutch': [(16, 61)], 'implicit': [(4, 25)], 'Zen': [(1, 5)], 'Namespaces': [(21, 1)], 'explain': [(19, 34), (20, 34)], 'now': [(18, 45)], 'by': [(1, 20)], 'explicitly': [(13, 8)], 's': [(19, 46), (21, 46)], 'idea': [(19, 54), (20, 60), (21, 34)], 'honking': [(21, 20)], 'refuse': [(14, 27)], 'preferably': [(15, 27)], 'face': [(14, 8)], 'nested': [(7, 21)], 'Beautiful': [(3, 1)], 'often': [(18, 19)], 'bad': [(19, 50)], 'it': [(15, 67), (19, 43), (20, 43)], 'counts': [(9, 13)], 'be': [(15, 14), (16, 27), (20, 50)], 'right': [(18, 38)], 'unless': [(16, 47)], 'The': [(1, 1)], 'good': [(20, 55)], 'In': [(14, 1)], 'enough': [(10, 30)], 'Although': [(11, 1), (16, 1), (18, 1)], 'If': [(19, 1), (20, 1)], 'more': [(21, 51)], 'first': [(16, 41)], 'than': [(3, 21), (4, 20), (5, 18), (6, 19), (7, 16), (8, 18), (17, 15), (18, 32)]}\n"
     ]
    }
   ],
   "source": [
    "import sys\n",
    "import re\n",
    "\n",
    "WORD_RE = re.compile('\\w+')\n",
    "\n",
    "index = {}\n",
    "with open('zen.txt', encoding='utf-8') as fp:\n",
    "    for line_no, line in enumerate(fp, 1):\n",
    "        for match in WORD_RE.finditer(line):\n",
    "            word = match.group()\n",
    "            print(word)\n",
    "            column_no = match.start() + 1\n",
    "            location = (line_no, column_no)\n",
    "            # setdefault returns the value, so it can be updated without requiring a second search.\n",
    "            print('setdefault:', index.setdefault(word, []))\n",
    "            index.setdefault(word, []).append(location)\n",
    "            print(index)"
   ]
  },
  {
   "cell_type": "code",
   "execution_count": 15,
   "metadata": {
    "scrolled": true
   },
   "outputs": [
    {
     "name": "stdout",
     "output_type": "stream",
     "text": [
      "a [(19, 48), (20, 53)]\n",
      "Although [(11, 1), (16, 1), (18, 1)]\n",
      "ambiguity [(14, 16)]\n",
      "and [(15, 23)]\n",
      "are [(21, 12)]\n",
      "aren [(10, 15)]\n",
      "at [(16, 38)]\n",
      "bad [(19, 50)]\n",
      "be [(15, 14), (16, 27), (20, 50)]\n",
      "beats [(11, 23)]\n",
      "Beautiful [(3, 1)]\n",
      "better [(3, 14), (4, 13), (5, 11), (6, 12), (7, 9), (8, 11), (17, 8), (18, 25)]\n",
      "break [(10, 40)]\n",
      "by [(1, 20)]\n",
      "cases [(10, 9)]\n",
      "complex [(5, 23)]\n",
      "Complex [(6, 1)]\n",
      "complicated [(6, 24)]\n",
      "counts [(9, 13)]\n",
      "dense [(8, 23)]\n",
      "do [(15, 64), (21, 48)]\n",
      "Dutch [(16, 61)]\n",
      "easy [(20, 26)]\n",
      "enough [(10, 30)]\n",
      "Errors [(12, 1)]\n",
      "explain [(19, 34), (20, 34)]\n",
      "Explicit [(4, 1)]\n",
      "explicitly [(13, 8)]\n",
      "face [(14, 8)]\n",
      "first [(16, 41)]\n",
      "Flat [(7, 1)]\n",
      "good [(20, 55)]\n",
      "great [(21, 28)]\n",
      "guess [(14, 52)]\n",
      "hard [(19, 26)]\n",
      "honking [(21, 20)]\n",
      "idea [(19, 54), (20, 60), (21, 34)]\n",
      "If [(19, 1), (20, 1)]\n",
      "implementation [(19, 8), (20, 8)]\n",
      "implicit [(4, 25)]\n",
      "In [(14, 1)]\n",
      "is [(3, 11), (4, 10), (5, 8), (6, 9), (7, 6), (8, 8), (17, 5), (18, 16), (19, 23), (20, 23)]\n",
      "it [(15, 67), (19, 43), (20, 43)]\n",
      "let [(21, 42)]\n",
      "may [(16, 19), (20, 46)]\n",
      "more [(21, 51)]\n",
      "Namespaces [(21, 1)]\n",
      "nested [(7, 21)]\n",
      "never [(12, 15), (17, 20), (18, 10)]\n",
      "not [(16, 23)]\n",
      "Now [(17, 1)]\n",
      "now [(18, 45)]\n",
      "obvious [(15, 49), (16, 30)]\n",
      "of [(1, 9), (14, 13), (21, 56)]\n",
      "often [(18, 19)]\n",
      "one [(15, 17), (15, 43), (21, 16)]\n",
      "only [(15, 38)]\n",
      "pass [(12, 21)]\n",
      "Peters [(1, 27)]\n",
      "practicality [(11, 10)]\n",
      "preferably [(15, 27)]\n",
      "purity [(11, 29)]\n",
      "Python [(1, 12)]\n",
      "re [(16, 58)]\n",
      "Readability [(9, 1)]\n",
      "refuse [(14, 27)]\n",
      "right [(18, 38)]\n",
      "rules [(10, 50)]\n",
      "s [(19, 46), (21, 46)]\n",
      "should [(12, 8), (15, 7)]\n",
      "silenced [(13, 19)]\n",
      "silently [(12, 26)]\n",
      "Simple [(5, 1)]\n",
      "Sparse [(8, 1)]\n",
      "Special [(10, 1)]\n",
      "special [(10, 22)]\n",
      "t [(10, 20)]\n",
      "temptation [(14, 38)]\n",
      "than [(3, 21), (4, 20), (5, 18), (6, 19), (7, 16), (8, 18), (17, 15), (18, 32)]\n",
      "that [(16, 10)]\n",
      "the [(10, 46), (14, 4), (14, 34), (19, 4), (20, 4)]\n",
      "The [(1, 1)]\n",
      "There [(15, 1)]\n",
      "those [(21, 59)]\n",
      "Tim [(1, 23)]\n",
      "to [(10, 37), (14, 49), (15, 61), (19, 31), (20, 31)]\n",
      "ugly [(3, 26)]\n",
      "Unless [(13, 1)]\n",
      "unless [(16, 47)]\n",
      "way [(15, 57), (16, 15)]\n",
      "you [(16, 54)]\n",
      "Zen [(1, 5)]\n"
     ]
    }
   ],
   "source": [
    "for word in sorted(index, key=str.upper):\n",
    "    print(word, index[word])"
   ]
  },
  {
   "cell_type": "code",
   "execution_count": 18,
   "metadata": {},
   "outputs": [
    {
     "name": "stdout",
     "output_type": "stream",
     "text": [
      "The\n",
      "setdefault: []\n",
      "{'The': [(1, 1)]}\n",
      "Zen\n",
      "setdefault: []\n",
      "{'The': [(1, 1)], 'Zen': [(1, 5)]}\n",
      "of\n",
      "setdefault: []\n",
      "{'The': [(1, 1)], 'Zen': [(1, 5)], 'of': [(1, 9)]}\n",
      "Python\n",
      "setdefault: []\n",
      "{'The': [(1, 1)], 'Zen': [(1, 5)], 'Python': [(1, 12)], 'of': [(1, 9)]}\n",
      "by\n",
      "setdefault: []\n",
      "{'The': [(1, 1)], 'by': [(1, 20)], 'Zen': [(1, 5)], 'Python': [(1, 12)], 'of': [(1, 9)]}\n",
      "Tim\n",
      "setdefault: []\n",
      "{'Zen': [(1, 5)], 'Python': [(1, 12)], 'Tim': [(1, 23)], 'The': [(1, 1)], 'by': [(1, 20)], 'of': [(1, 9)]}\n",
      "Peters\n",
      "setdefault: []\n",
      "{'Peters': [(1, 27)], 'Zen': [(1, 5)], 'Python': [(1, 12)], 'Tim': [(1, 23)], 'The': [(1, 1)], 'by': [(1, 20)], 'of': [(1, 9)]}\n",
      "Beautiful\n",
      "setdefault: []\n",
      "{'Peters': [(1, 27)], 'Zen': [(1, 5)], 'Python': [(1, 12)], 'Beautiful': [(3, 1)], 'Tim': [(1, 23)], 'The': [(1, 1)], 'by': [(1, 20)], 'of': [(1, 9)]}\n",
      "is\n",
      "setdefault: []\n",
      "{'is': [(3, 11)], 'Peters': [(1, 27)], 'Zen': [(1, 5)], 'Python': [(1, 12)], 'Beautiful': [(3, 1)], 'Tim': [(1, 23)], 'The': [(1, 1)], 'by': [(1, 20)], 'of': [(1, 9)]}\n",
      "better\n",
      "setdefault: []\n",
      "{'is': [(3, 11)], 'better': [(3, 14)], 'Peters': [(1, 27)], 'Zen': [(1, 5)], 'Python': [(1, 12)], 'Beautiful': [(3, 1)], 'Tim': [(1, 23)], 'The': [(1, 1)], 'by': [(1, 20)], 'of': [(1, 9)]}\n",
      "than\n",
      "setdefault: []\n",
      "{'is': [(3, 11)], 'than': [(3, 21)], 'better': [(3, 14)], 'Peters': [(1, 27)], 'Zen': [(1, 5)], 'Python': [(1, 12)], 'Beautiful': [(3, 1)], 'Tim': [(1, 23)], 'The': [(1, 1)], 'by': [(1, 20)], 'of': [(1, 9)]}\n",
      "ugly\n",
      "setdefault: []\n",
      "{'of': [(1, 9)], 'Peters': [(1, 27)], 'Python': [(1, 12)], 'Tim': [(1, 23)], 'The': [(1, 1)], 'is': [(3, 11)], 'better': [(3, 14)], 'Beautiful': [(3, 1)], 'Zen': [(1, 5)], 'ugly': [(3, 26)], 'than': [(3, 21)], 'by': [(1, 20)]}\n",
      "Explicit\n",
      "setdefault: []\n",
      "{'of': [(1, 9)], 'Peters': [(1, 27)], 'Python': [(1, 12)], 'Tim': [(1, 23)], 'The': [(1, 1)], 'Explicit': [(4, 1)], 'is': [(3, 11)], 'better': [(3, 14)], 'Beautiful': [(3, 1)], 'Zen': [(1, 5)], 'ugly': [(3, 26)], 'than': [(3, 21)], 'by': [(1, 20)]}\n",
      "is\n",
      "setdefault: [(3, 11)]\n",
      "{'of': [(1, 9)], 'Peters': [(1, 27)], 'Python': [(1, 12)], 'Tim': [(1, 23)], 'The': [(1, 1)], 'Explicit': [(4, 1)], 'is': [(3, 11), (4, 10)], 'better': [(3, 14)], 'Beautiful': [(3, 1)], 'Zen': [(1, 5)], 'ugly': [(3, 26)], 'than': [(3, 21)], 'by': [(1, 20)]}\n",
      "better\n",
      "setdefault: [(3, 14)]\n",
      "{'of': [(1, 9)], 'Peters': [(1, 27)], 'Python': [(1, 12)], 'Tim': [(1, 23)], 'The': [(1, 1)], 'Explicit': [(4, 1)], 'is': [(3, 11), (4, 10)], 'better': [(3, 14), (4, 13)], 'Beautiful': [(3, 1)], 'Zen': [(1, 5)], 'ugly': [(3, 26)], 'than': [(3, 21)], 'by': [(1, 20)]}\n",
      "than\n",
      "setdefault: [(3, 21)]\n",
      "{'of': [(1, 9)], 'Peters': [(1, 27)], 'Python': [(1, 12)], 'Tim': [(1, 23)], 'The': [(1, 1)], 'Explicit': [(4, 1)], 'is': [(3, 11), (4, 10)], 'better': [(3, 14), (4, 13)], 'Beautiful': [(3, 1)], 'Zen': [(1, 5)], 'ugly': [(3, 26)], 'than': [(3, 21), (4, 20)], 'by': [(1, 20)]}\n",
      "implicit\n",
      "setdefault: []\n",
      "{'of': [(1, 9)], 'Peters': [(1, 27)], 'Python': [(1, 12)], 'Tim': [(1, 23)], 'The': [(1, 1)], 'implicit': [(4, 25)], 'Explicit': [(4, 1)], 'is': [(3, 11), (4, 10)], 'better': [(3, 14), (4, 13)], 'Beautiful': [(3, 1)], 'Zen': [(1, 5)], 'ugly': [(3, 26)], 'than': [(3, 21), (4, 20)], 'by': [(1, 20)]}\n",
      "Simple\n",
      "setdefault: []\n",
      "{'of': [(1, 9)], 'Peters': [(1, 27)], 'Python': [(1, 12)], 'Tim': [(1, 23)], 'The': [(1, 1)], 'implicit': [(4, 25)], 'Explicit': [(4, 1)], 'is': [(3, 11), (4, 10)], 'better': [(3, 14), (4, 13)], 'Beautiful': [(3, 1)], 'Zen': [(1, 5)], 'ugly': [(3, 26)], 'Simple': [(5, 1)], 'than': [(3, 21), (4, 20)], 'by': [(1, 20)]}\n",
      "is\n",
      "setdefault: [(3, 11), (4, 10)]\n",
      "{'of': [(1, 9)], 'Peters': [(1, 27)], 'Python': [(1, 12)], 'Tim': [(1, 23)], 'The': [(1, 1)], 'implicit': [(4, 25)], 'Explicit': [(4, 1)], 'is': [(3, 11), (4, 10), (5, 8)], 'better': [(3, 14), (4, 13)], 'Beautiful': [(3, 1)], 'Zen': [(1, 5)], 'ugly': [(3, 26)], 'Simple': [(5, 1)], 'than': [(3, 21), (4, 20)], 'by': [(1, 20)]}\n",
      "better\n",
      "setdefault: [(3, 14), (4, 13)]\n",
      "{'of': [(1, 9)], 'Peters': [(1, 27)], 'Python': [(1, 12)], 'Tim': [(1, 23)], 'The': [(1, 1)], 'implicit': [(4, 25)], 'Explicit': [(4, 1)], 'is': [(3, 11), (4, 10), (5, 8)], 'better': [(3, 14), (4, 13), (5, 11)], 'Beautiful': [(3, 1)], 'Zen': [(1, 5)], 'ugly': [(3, 26)], 'Simple': [(5, 1)], 'than': [(3, 21), (4, 20)], 'by': [(1, 20)]}\n",
      "than\n",
      "setdefault: [(3, 21), (4, 20)]\n",
      "{'of': [(1, 9)], 'Peters': [(1, 27)], 'Python': [(1, 12)], 'Tim': [(1, 23)], 'The': [(1, 1)], 'implicit': [(4, 25)], 'Explicit': [(4, 1)], 'is': [(3, 11), (4, 10), (5, 8)], 'better': [(3, 14), (4, 13), (5, 11)], 'Beautiful': [(3, 1)], 'Zen': [(1, 5)], 'ugly': [(3, 26)], 'Simple': [(5, 1)], 'than': [(3, 21), (4, 20), (5, 18)], 'by': [(1, 20)]}\n",
      "complex\n",
      "setdefault: []\n",
      "{'of': [(1, 9)], 'Peters': [(1, 27)], 'Python': [(1, 12)], 'Tim': [(1, 23)], 'The': [(1, 1)], 'implicit': [(4, 25)], 'Explicit': [(4, 1)], 'is': [(3, 11), (4, 10), (5, 8)], 'better': [(3, 14), (4, 13), (5, 11)], 'Beautiful': [(3, 1)], 'Zen': [(1, 5)], 'ugly': [(3, 26)], 'complex': [(5, 23)], 'Simple': [(5, 1)], 'than': [(3, 21), (4, 20), (5, 18)], 'by': [(1, 20)]}\n",
      "Complex\n",
      "setdefault: []\n",
      "{'Complex': [(6, 1)], 'of': [(1, 9)], 'Peters': [(1, 27)], 'Python': [(1, 12)], 'Tim': [(1, 23)], 'The': [(1, 1)], 'implicit': [(4, 25)], 'Explicit': [(4, 1)], 'is': [(3, 11), (4, 10), (5, 8)], 'better': [(3, 14), (4, 13), (5, 11)], 'Beautiful': [(3, 1)], 'Zen': [(1, 5)], 'ugly': [(3, 26)], 'complex': [(5, 23)], 'Simple': [(5, 1)], 'than': [(3, 21), (4, 20), (5, 18)], 'by': [(1, 20)]}\n",
      "is\n",
      "setdefault: [(3, 11), (4, 10), (5, 8)]\n",
      "{'Complex': [(6, 1)], 'of': [(1, 9)], 'Peters': [(1, 27)], 'Python': [(1, 12)], 'Tim': [(1, 23)], 'The': [(1, 1)], 'implicit': [(4, 25)], 'Explicit': [(4, 1)], 'is': [(3, 11), (4, 10), (5, 8), (6, 9)], 'better': [(3, 14), (4, 13), (5, 11)], 'Beautiful': [(3, 1)], 'Zen': [(1, 5)], 'ugly': [(3, 26)], 'complex': [(5, 23)], 'Simple': [(5, 1)], 'than': [(3, 21), (4, 20), (5, 18)], 'by': [(1, 20)]}\n",
      "better\n",
      "setdefault: [(3, 14), (4, 13), (5, 11)]\n",
      "{'Complex': [(6, 1)], 'of': [(1, 9)], 'Peters': [(1, 27)], 'Python': [(1, 12)], 'Tim': [(1, 23)], 'The': [(1, 1)], 'implicit': [(4, 25)], 'Explicit': [(4, 1)], 'is': [(3, 11), (4, 10), (5, 8), (6, 9)], 'better': [(3, 14), (4, 13), (5, 11), (6, 12)], 'Beautiful': [(3, 1)], 'Zen': [(1, 5)], 'ugly': [(3, 26)], 'complex': [(5, 23)], 'Simple': [(5, 1)], 'than': [(3, 21), (4, 20), (5, 18)], 'by': [(1, 20)]}\n",
      "than\n",
      "setdefault: [(3, 21), (4, 20), (5, 18)]\n",
      "{'Complex': [(6, 1)], 'of': [(1, 9)], 'Peters': [(1, 27)], 'Python': [(1, 12)], 'Tim': [(1, 23)], 'The': [(1, 1)], 'implicit': [(4, 25)], 'Explicit': [(4, 1)], 'is': [(3, 11), (4, 10), (5, 8), (6, 9)], 'better': [(3, 14), (4, 13), (5, 11), (6, 12)], 'Beautiful': [(3, 1)], 'Zen': [(1, 5)], 'ugly': [(3, 26)], 'complex': [(5, 23)], 'Simple': [(5, 1)], 'than': [(3, 21), (4, 20), (5, 18), (6, 19)], 'by': [(1, 20)]}\n",
      "complicated\n",
      "setdefault: []\n",
      "{'Complex': [(6, 1)], 'of': [(1, 9)], 'Peters': [(1, 27)], 'Python': [(1, 12)], 'Tim': [(1, 23)], 'The': [(1, 1)], 'implicit': [(4, 25)], 'Explicit': [(4, 1)], 'is': [(3, 11), (4, 10), (5, 8), (6, 9)], 'better': [(3, 14), (4, 13), (5, 11), (6, 12)], 'Beautiful': [(3, 1)], 'Zen': [(1, 5)], 'ugly': [(3, 26)], 'complex': [(5, 23)], 'Simple': [(5, 1)], 'complicated': [(6, 24)], 'than': [(3, 21), (4, 20), (5, 18), (6, 19)], 'by': [(1, 20)]}\n",
      "Flat\n",
      "setdefault: []\n",
      "{'Complex': [(6, 1)], 'of': [(1, 9)], 'Peters': [(1, 27)], 'Python': [(1, 12)], 'Tim': [(1, 23)], 'The': [(1, 1)], 'implicit': [(4, 25)], 'Explicit': [(4, 1)], 'is': [(3, 11), (4, 10), (5, 8), (6, 9)], 'better': [(3, 14), (4, 13), (5, 11), (6, 12)], 'Beautiful': [(3, 1)], 'Flat': [(7, 1)], 'Zen': [(1, 5)], 'ugly': [(3, 26)], 'complex': [(5, 23)], 'Simple': [(5, 1)], 'complicated': [(6, 24)], 'than': [(3, 21), (4, 20), (5, 18), (6, 19)], 'by': [(1, 20)]}\n",
      "is\n",
      "setdefault: [(3, 11), (4, 10), (5, 8), (6, 9)]\n",
      "{'Complex': [(6, 1)], 'of': [(1, 9)], 'Peters': [(1, 27)], 'Python': [(1, 12)], 'Tim': [(1, 23)], 'The': [(1, 1)], 'implicit': [(4, 25)], 'Explicit': [(4, 1)], 'is': [(3, 11), (4, 10), (5, 8), (6, 9), (7, 6)], 'better': [(3, 14), (4, 13), (5, 11), (6, 12)], 'Beautiful': [(3, 1)], 'Flat': [(7, 1)], 'Zen': [(1, 5)], 'ugly': [(3, 26)], 'complex': [(5, 23)], 'Simple': [(5, 1)], 'complicated': [(6, 24)], 'than': [(3, 21), (4, 20), (5, 18), (6, 19)], 'by': [(1, 20)]}\n",
      "better\n",
      "setdefault: [(3, 14), (4, 13), (5, 11), (6, 12)]\n",
      "{'Complex': [(6, 1)], 'of': [(1, 9)], 'Peters': [(1, 27)], 'Python': [(1, 12)], 'Tim': [(1, 23)], 'The': [(1, 1)], 'implicit': [(4, 25)], 'Explicit': [(4, 1)], 'is': [(3, 11), (4, 10), (5, 8), (6, 9), (7, 6)], 'better': [(3, 14), (4, 13), (5, 11), (6, 12), (7, 9)], 'Beautiful': [(3, 1)], 'Flat': [(7, 1)], 'Zen': [(1, 5)], 'ugly': [(3, 26)], 'complex': [(5, 23)], 'Simple': [(5, 1)], 'complicated': [(6, 24)], 'than': [(3, 21), (4, 20), (5, 18), (6, 19)], 'by': [(1, 20)]}\n",
      "than\n",
      "setdefault: [(3, 21), (4, 20), (5, 18), (6, 19)]\n",
      "{'Complex': [(6, 1)], 'of': [(1, 9)], 'Peters': [(1, 27)], 'Python': [(1, 12)], 'Tim': [(1, 23)], 'The': [(1, 1)], 'implicit': [(4, 25)], 'Explicit': [(4, 1)], 'is': [(3, 11), (4, 10), (5, 8), (6, 9), (7, 6)], 'better': [(3, 14), (4, 13), (5, 11), (6, 12), (7, 9)], 'Beautiful': [(3, 1)], 'Flat': [(7, 1)], 'Zen': [(1, 5)], 'ugly': [(3, 26)], 'complex': [(5, 23)], 'Simple': [(5, 1)], 'complicated': [(6, 24)], 'than': [(3, 21), (4, 20), (5, 18), (6, 19), (7, 16)], 'by': [(1, 20)]}\n",
      "nested\n",
      "setdefault: []\n",
      "{'Complex': [(6, 1)], 'of': [(1, 9)], 'Peters': [(1, 27)], 'Python': [(1, 12)], 'Tim': [(1, 23)], 'The': [(1, 1)], 'implicit': [(4, 25)], 'nested': [(7, 21)], 'Explicit': [(4, 1)], 'is': [(3, 11), (4, 10), (5, 8), (6, 9), (7, 6)], 'better': [(3, 14), (4, 13), (5, 11), (6, 12), (7, 9)], 'Beautiful': [(3, 1)], 'Flat': [(7, 1)], 'Zen': [(1, 5)], 'ugly': [(3, 26)], 'complex': [(5, 23)], 'Simple': [(5, 1)], 'complicated': [(6, 24)], 'than': [(3, 21), (4, 20), (5, 18), (6, 19), (7, 16)], 'by': [(1, 20)]}\n",
      "Sparse\n",
      "setdefault: []\n",
      "{'Complex': [(6, 1)], 'of': [(1, 9)], 'Peters': [(1, 27)], 'Python': [(1, 12)], 'Tim': [(1, 23)], 'The': [(1, 1)], 'implicit': [(4, 25)], 'nested': [(7, 21)], 'Explicit': [(4, 1)], 'is': [(3, 11), (4, 10), (5, 8), (6, 9), (7, 6)], 'better': [(3, 14), (4, 13), (5, 11), (6, 12), (7, 9)], 'Beautiful': [(3, 1)], 'Flat': [(7, 1)], 'Zen': [(1, 5)], 'ugly': [(3, 26)], 'complex': [(5, 23)], 'Simple': [(5, 1)], 'Sparse': [(8, 1)], 'complicated': [(6, 24)], 'than': [(3, 21), (4, 20), (5, 18), (6, 19), (7, 16)], 'by': [(1, 20)]}\n",
      "is\n",
      "setdefault: [(3, 11), (4, 10), (5, 8), (6, 9), (7, 6)]\n",
      "{'Complex': [(6, 1)], 'of': [(1, 9)], 'Peters': [(1, 27)], 'Python': [(1, 12)], 'Tim': [(1, 23)], 'The': [(1, 1)], 'implicit': [(4, 25)], 'nested': [(7, 21)], 'Explicit': [(4, 1)], 'is': [(3, 11), (4, 10), (5, 8), (6, 9), (7, 6), (8, 8)], 'better': [(3, 14), (4, 13), (5, 11), (6, 12), (7, 9)], 'Beautiful': [(3, 1)], 'Flat': [(7, 1)], 'Zen': [(1, 5)], 'ugly': [(3, 26)], 'complex': [(5, 23)], 'Simple': [(5, 1)], 'Sparse': [(8, 1)], 'complicated': [(6, 24)], 'than': [(3, 21), (4, 20), (5, 18), (6, 19), (7, 16)], 'by': [(1, 20)]}\n",
      "better\n",
      "setdefault: [(3, 14), (4, 13), (5, 11), (6, 12), (7, 9)]\n",
      "{'Complex': [(6, 1)], 'of': [(1, 9)], 'Peters': [(1, 27)], 'Python': [(1, 12)], 'Tim': [(1, 23)], 'The': [(1, 1)], 'implicit': [(4, 25)], 'nested': [(7, 21)], 'Explicit': [(4, 1)], 'is': [(3, 11), (4, 10), (5, 8), (6, 9), (7, 6), (8, 8)], 'better': [(3, 14), (4, 13), (5, 11), (6, 12), (7, 9), (8, 11)], 'Beautiful': [(3, 1)], 'Flat': [(7, 1)], 'Zen': [(1, 5)], 'ugly': [(3, 26)], 'complex': [(5, 23)], 'Simple': [(5, 1)], 'Sparse': [(8, 1)], 'complicated': [(6, 24)], 'than': [(3, 21), (4, 20), (5, 18), (6, 19), (7, 16)], 'by': [(1, 20)]}\n",
      "than\n",
      "setdefault: [(3, 21), (4, 20), (5, 18), (6, 19), (7, 16)]\n",
      "{'Complex': [(6, 1)], 'of': [(1, 9)], 'Peters': [(1, 27)], 'Python': [(1, 12)], 'Tim': [(1, 23)], 'The': [(1, 1)], 'implicit': [(4, 25)], 'nested': [(7, 21)], 'Explicit': [(4, 1)], 'is': [(3, 11), (4, 10), (5, 8), (6, 9), (7, 6), (8, 8)], 'better': [(3, 14), (4, 13), (5, 11), (6, 12), (7, 9), (8, 11)], 'Beautiful': [(3, 1)], 'Flat': [(7, 1)], 'Zen': [(1, 5)], 'ugly': [(3, 26)], 'complex': [(5, 23)], 'Simple': [(5, 1)], 'Sparse': [(8, 1)], 'complicated': [(6, 24)], 'than': [(3, 21), (4, 20), (5, 18), (6, 19), (7, 16), (8, 18)], 'by': [(1, 20)]}\n",
      "dense\n",
      "setdefault: []\n",
      "{'Peters': [(1, 27)], 'by': [(1, 20)], 'nested': [(7, 21)], 'Explicit': [(4, 1)], 'of': [(1, 9)], 'complex': [(5, 23)], 'Sparse': [(8, 1)], 'ugly': [(3, 26)], 'Complex': [(6, 1)], 'Python': [(1, 12)], 'Tim': [(1, 23)], 'The': [(1, 1)], 'implicit': [(4, 25)], 'dense': [(8, 23)], 'is': [(3, 11), (4, 10), (5, 8), (6, 9), (7, 6), (8, 8)], 'better': [(3, 14), (4, 13), (5, 11), (6, 12), (7, 9), (8, 11)], 'Beautiful': [(3, 1)], 'Zen': [(1, 5)], 'Flat': [(7, 1)], 'complicated': [(6, 24)], 'than': [(3, 21), (4, 20), (5, 18), (6, 19), (7, 16), (8, 18)], 'Simple': [(5, 1)]}\n",
      "Readability\n",
      "setdefault: []\n",
      "{'Peters': [(1, 27)], 'by': [(1, 20)], 'Readability': [(9, 1)], 'nested': [(7, 21)], 'Explicit': [(4, 1)], 'of': [(1, 9)], 'complex': [(5, 23)], 'Sparse': [(8, 1)], 'ugly': [(3, 26)], 'Complex': [(6, 1)], 'Python': [(1, 12)], 'Tim': [(1, 23)], 'The': [(1, 1)], 'implicit': [(4, 25)], 'dense': [(8, 23)], 'is': [(3, 11), (4, 10), (5, 8), (6, 9), (7, 6), (8, 8)], 'better': [(3, 14), (4, 13), (5, 11), (6, 12), (7, 9), (8, 11)], 'Beautiful': [(3, 1)], 'Zen': [(1, 5)], 'Flat': [(7, 1)], 'complicated': [(6, 24)], 'than': [(3, 21), (4, 20), (5, 18), (6, 19), (7, 16), (8, 18)], 'Simple': [(5, 1)]}\n",
      "counts\n",
      "setdefault: []\n",
      "{'Peters': [(1, 27)], 'by': [(1, 20)], 'Readability': [(9, 1)], 'nested': [(7, 21)], 'Explicit': [(4, 1)], 'of': [(1, 9)], 'complex': [(5, 23)], 'Sparse': [(8, 1)], 'ugly': [(3, 26)], 'Complex': [(6, 1)], 'counts': [(9, 13)], 'Python': [(1, 12)], 'Tim': [(1, 23)], 'The': [(1, 1)], 'implicit': [(4, 25)], 'dense': [(8, 23)], 'is': [(3, 11), (4, 10), (5, 8), (6, 9), (7, 6), (8, 8)], 'better': [(3, 14), (4, 13), (5, 11), (6, 12), (7, 9), (8, 11)], 'Beautiful': [(3, 1)], 'Zen': [(1, 5)], 'Flat': [(7, 1)], 'complicated': [(6, 24)], 'than': [(3, 21), (4, 20), (5, 18), (6, 19), (7, 16), (8, 18)], 'Simple': [(5, 1)]}\n",
      "Special\n",
      "setdefault: []\n",
      "{'Peters': [(1, 27)], 'by': [(1, 20)], 'Readability': [(9, 1)], 'nested': [(7, 21)], 'Explicit': [(4, 1)], 'of': [(1, 9)], 'complex': [(5, 23)], 'Sparse': [(8, 1)], 'ugly': [(3, 26)], 'Complex': [(6, 1)], 'counts': [(9, 13)], 'Python': [(1, 12)], 'Tim': [(1, 23)], 'The': [(1, 1)], 'implicit': [(4, 25)], 'dense': [(8, 23)], 'is': [(3, 11), (4, 10), (5, 8), (6, 9), (7, 6), (8, 8)], 'better': [(3, 14), (4, 13), (5, 11), (6, 12), (7, 9), (8, 11)], 'Beautiful': [(3, 1)], 'Zen': [(1, 5)], 'Flat': [(7, 1)], 'Special': [(10, 1)], 'complicated': [(6, 24)], 'than': [(3, 21), (4, 20), (5, 18), (6, 19), (7, 16), (8, 18)], 'Simple': [(5, 1)]}\n",
      "cases\n",
      "setdefault: []\n",
      "{'Peters': [(1, 27)], 'by': [(1, 20)], 'cases': [(10, 9)], 'Readability': [(9, 1)], 'nested': [(7, 21)], 'Explicit': [(4, 1)], 'of': [(1, 9)], 'complex': [(5, 23)], 'Sparse': [(8, 1)], 'ugly': [(3, 26)], 'Complex': [(6, 1)], 'counts': [(9, 13)], 'Python': [(1, 12)], 'Tim': [(1, 23)], 'The': [(1, 1)], 'implicit': [(4, 25)], 'dense': [(8, 23)], 'is': [(3, 11), (4, 10), (5, 8), (6, 9), (7, 6), (8, 8)], 'better': [(3, 14), (4, 13), (5, 11), (6, 12), (7, 9), (8, 11)], 'Beautiful': [(3, 1)], 'Zen': [(1, 5)], 'Flat': [(7, 1)], 'Special': [(10, 1)], 'complicated': [(6, 24)], 'than': [(3, 21), (4, 20), (5, 18), (6, 19), (7, 16), (8, 18)], 'Simple': [(5, 1)]}\n",
      "aren\n",
      "setdefault: []\n",
      "{'Peters': [(1, 27)], 'by': [(1, 20)], 'cases': [(10, 9)], 'Readability': [(9, 1)], 'aren': [(10, 15)], 'nested': [(7, 21)], 'Explicit': [(4, 1)], 'of': [(1, 9)], 'complex': [(5, 23)], 'Sparse': [(8, 1)], 'ugly': [(3, 26)], 'Complex': [(6, 1)], 'counts': [(9, 13)], 'Python': [(1, 12)], 'Tim': [(1, 23)], 'The': [(1, 1)], 'implicit': [(4, 25)], 'dense': [(8, 23)], 'is': [(3, 11), (4, 10), (5, 8), (6, 9), (7, 6), (8, 8)], 'better': [(3, 14), (4, 13), (5, 11), (6, 12), (7, 9), (8, 11)], 'Beautiful': [(3, 1)], 'Zen': [(1, 5)], 'Flat': [(7, 1)], 'Special': [(10, 1)], 'complicated': [(6, 24)], 'than': [(3, 21), (4, 20), (5, 18), (6, 19), (7, 16), (8, 18)], 'Simple': [(5, 1)]}\n",
      "t\n",
      "setdefault: []\n",
      "{'Peters': [(1, 27)], 'by': [(1, 20)], 'cases': [(10, 9)], 'Readability': [(9, 1)], 'aren': [(10, 15)], 'nested': [(7, 21)], 'Explicit': [(4, 1)], 'of': [(1, 9)], 'complex': [(5, 23)], 'Sparse': [(8, 1)], 'ugly': [(3, 26)], 'Complex': [(6, 1)], 'counts': [(9, 13)], 'Python': [(1, 12)], 'Tim': [(1, 23)], 'The': [(1, 1)], 't': [(10, 20)], 'implicit': [(4, 25)], 'dense': [(8, 23)], 'is': [(3, 11), (4, 10), (5, 8), (6, 9), (7, 6), (8, 8)], 'better': [(3, 14), (4, 13), (5, 11), (6, 12), (7, 9), (8, 11)], 'Beautiful': [(3, 1)], 'Zen': [(1, 5)], 'Flat': [(7, 1)], 'Special': [(10, 1)], 'complicated': [(6, 24)], 'than': [(3, 21), (4, 20), (5, 18), (6, 19), (7, 16), (8, 18)], 'Simple': [(5, 1)]}\n",
      "special\n",
      "setdefault: []\n",
      "{'Peters': [(1, 27)], 'by': [(1, 20)], 'cases': [(10, 9)], 'Readability': [(9, 1)], 'aren': [(10, 15)], 'nested': [(7, 21)], 'Explicit': [(4, 1)], 'of': [(1, 9)], 'complex': [(5, 23)], 'Sparse': [(8, 1)], 'ugly': [(3, 26)], 'special': [(10, 22)], 'Complex': [(6, 1)], 'counts': [(9, 13)], 'Python': [(1, 12)], 'Tim': [(1, 23)], 'The': [(1, 1)], 't': [(10, 20)], 'implicit': [(4, 25)], 'dense': [(8, 23)], 'is': [(3, 11), (4, 10), (5, 8), (6, 9), (7, 6), (8, 8)], 'better': [(3, 14), (4, 13), (5, 11), (6, 12), (7, 9), (8, 11)], 'Beautiful': [(3, 1)], 'Zen': [(1, 5)], 'Flat': [(7, 1)], 'Special': [(10, 1)], 'complicated': [(6, 24)], 'than': [(3, 21), (4, 20), (5, 18), (6, 19), (7, 16), (8, 18)], 'Simple': [(5, 1)]}\n",
      "enough\n",
      "setdefault: []\n",
      "{'Peters': [(1, 27)], 'by': [(1, 20)], 'cases': [(10, 9)], 'Readability': [(9, 1)], 'aren': [(10, 15)], 'nested': [(7, 21)], 'Explicit': [(4, 1)], 'of': [(1, 9)], 'complex': [(5, 23)], 'Sparse': [(8, 1)], 'ugly': [(3, 26)], 'special': [(10, 22)], 'Complex': [(6, 1)], 'counts': [(9, 13)], 'Python': [(1, 12)], 'Tim': [(1, 23)], 'The': [(1, 1)], 't': [(10, 20)], 'implicit': [(4, 25)], 'dense': [(8, 23)], 'enough': [(10, 30)], 'is': [(3, 11), (4, 10), (5, 8), (6, 9), (7, 6), (8, 8)], 'better': [(3, 14), (4, 13), (5, 11), (6, 12), (7, 9), (8, 11)], 'Beautiful': [(3, 1)], 'Zen': [(1, 5)], 'Flat': [(7, 1)], 'Special': [(10, 1)], 'complicated': [(6, 24)], 'than': [(3, 21), (4, 20), (5, 18), (6, 19), (7, 16), (8, 18)], 'Simple': [(5, 1)]}\n",
      "to\n",
      "setdefault: []\n",
      "{'Peters': [(1, 27)], 'by': [(1, 20)], 'cases': [(10, 9)], 'to': [(10, 37)], 'Readability': [(9, 1)], 'aren': [(10, 15)], 'nested': [(7, 21)], 'Explicit': [(4, 1)], 'of': [(1, 9)], 'complex': [(5, 23)], 'Sparse': [(8, 1)], 'ugly': [(3, 26)], 'special': [(10, 22)], 'Complex': [(6, 1)], 'counts': [(9, 13)], 'Python': [(1, 12)], 'Tim': [(1, 23)], 'The': [(1, 1)], 't': [(10, 20)], 'implicit': [(4, 25)], 'dense': [(8, 23)], 'enough': [(10, 30)], 'is': [(3, 11), (4, 10), (5, 8), (6, 9), (7, 6), (8, 8)], 'better': [(3, 14), (4, 13), (5, 11), (6, 12), (7, 9), (8, 11)], 'Beautiful': [(3, 1)], 'Zen': [(1, 5)], 'Flat': [(7, 1)], 'Special': [(10, 1)], 'complicated': [(6, 24)], 'than': [(3, 21), (4, 20), (5, 18), (6, 19), (7, 16), (8, 18)], 'Simple': [(5, 1)]}\n",
      "break\n",
      "setdefault: []\n",
      "{'Peters': [(1, 27)], 'by': [(1, 20)], 'cases': [(10, 9)], 'to': [(10, 37)], 'Readability': [(9, 1)], 'aren': [(10, 15)], 'nested': [(7, 21)], 'Explicit': [(4, 1)], 'of': [(1, 9)], 'complex': [(5, 23)], 'Sparse': [(8, 1)], 'ugly': [(3, 26)], 'special': [(10, 22)], 'Complex': [(6, 1)], 'counts': [(9, 13)], 'Python': [(1, 12)], 'break': [(10, 40)], 'Tim': [(1, 23)], 'The': [(1, 1)], 't': [(10, 20)], 'implicit': [(4, 25)], 'dense': [(8, 23)], 'enough': [(10, 30)], 'is': [(3, 11), (4, 10), (5, 8), (6, 9), (7, 6), (8, 8)], 'better': [(3, 14), (4, 13), (5, 11), (6, 12), (7, 9), (8, 11)], 'Beautiful': [(3, 1)], 'Zen': [(1, 5)], 'Flat': [(7, 1)], 'Special': [(10, 1)], 'complicated': [(6, 24)], 'than': [(3, 21), (4, 20), (5, 18), (6, 19), (7, 16), (8, 18)], 'Simple': [(5, 1)]}\n",
      "the\n",
      "setdefault: []\n",
      "{'Peters': [(1, 27)], 'by': [(1, 20)], 'cases': [(10, 9)], 'to': [(10, 37)], 'Readability': [(9, 1)], 'aren': [(10, 15)], 'the': [(10, 46)], 'nested': [(7, 21)], 'Explicit': [(4, 1)], 'of': [(1, 9)], 'complex': [(5, 23)], 'Sparse': [(8, 1)], 'ugly': [(3, 26)], 'special': [(10, 22)], 'Complex': [(6, 1)], 'counts': [(9, 13)], 'Python': [(1, 12)], 'break': [(10, 40)], 'Tim': [(1, 23)], 'The': [(1, 1)], 't': [(10, 20)], 'implicit': [(4, 25)], 'dense': [(8, 23)], 'enough': [(10, 30)], 'is': [(3, 11), (4, 10), (5, 8), (6, 9), (7, 6), (8, 8)], 'better': [(3, 14), (4, 13), (5, 11), (6, 12), (7, 9), (8, 11)], 'Beautiful': [(3, 1)], 'Zen': [(1, 5)], 'Flat': [(7, 1)], 'Special': [(10, 1)], 'complicated': [(6, 24)], 'than': [(3, 21), (4, 20), (5, 18), (6, 19), (7, 16), (8, 18)], 'Simple': [(5, 1)]}\n",
      "rules\n",
      "setdefault: []\n",
      "{'Peters': [(1, 27)], 'by': [(1, 20)], 'cases': [(10, 9)], 'to': [(10, 37)], 'Readability': [(9, 1)], 'aren': [(10, 15)], 'the': [(10, 46)], 'nested': [(7, 21)], 'Explicit': [(4, 1)], 'of': [(1, 9)], 'complex': [(5, 23)], 'Sparse': [(8, 1)], 'ugly': [(3, 26)], 'special': [(10, 22)], 'Complex': [(6, 1)], 'counts': [(9, 13)], 'Python': [(1, 12)], 'break': [(10, 40)], 'Tim': [(1, 23)], 'The': [(1, 1)], 't': [(10, 20)], 'implicit': [(4, 25)], 'rules': [(10, 50)], 'dense': [(8, 23)], 'enough': [(10, 30)], 'is': [(3, 11), (4, 10), (5, 8), (6, 9), (7, 6), (8, 8)], 'better': [(3, 14), (4, 13), (5, 11), (6, 12), (7, 9), (8, 11)], 'Beautiful': [(3, 1)], 'Zen': [(1, 5)], 'Flat': [(7, 1)], 'Special': [(10, 1)], 'complicated': [(6, 24)], 'than': [(3, 21), (4, 20), (5, 18), (6, 19), (7, 16), (8, 18)], 'Simple': [(5, 1)]}\n",
      "Although\n",
      "setdefault: []\n",
      "{'Peters': [(1, 27)], 'by': [(1, 20)], 'cases': [(10, 9)], 'to': [(10, 37)], 'Readability': [(9, 1)], 'aren': [(10, 15)], 'the': [(10, 46)], 'nested': [(7, 21)], 'Explicit': [(4, 1)], 'of': [(1, 9)], 'complex': [(5, 23)], 'Sparse': [(8, 1)], 'Although': [(11, 1)], 'ugly': [(3, 26)], 'special': [(10, 22)], 'Complex': [(6, 1)], 'counts': [(9, 13)], 'Python': [(1, 12)], 'break': [(10, 40)], 'Tim': [(1, 23)], 'The': [(1, 1)], 't': [(10, 20)], 'implicit': [(4, 25)], 'rules': [(10, 50)], 'dense': [(8, 23)], 'enough': [(10, 30)], 'is': [(3, 11), (4, 10), (5, 8), (6, 9), (7, 6), (8, 8)], 'better': [(3, 14), (4, 13), (5, 11), (6, 12), (7, 9), (8, 11)], 'Beautiful': [(3, 1)], 'Zen': [(1, 5)], 'Flat': [(7, 1)], 'Special': [(10, 1)], 'complicated': [(6, 24)], 'than': [(3, 21), (4, 20), (5, 18), (6, 19), (7, 16), (8, 18)], 'Simple': [(5, 1)]}\n",
      "practicality\n",
      "setdefault: []\n",
      "{'Peters': [(1, 27)], 'by': [(1, 20)], 'cases': [(10, 9)], 'to': [(10, 37)], 'Readability': [(9, 1)], 'aren': [(10, 15)], 'the': [(10, 46)], 'nested': [(7, 21)], 'Explicit': [(4, 1)], 'of': [(1, 9)], 'complex': [(5, 23)], 'practicality': [(11, 10)], 'Sparse': [(8, 1)], 'Although': [(11, 1)], 'ugly': [(3, 26)], 'special': [(10, 22)], 'Complex': [(6, 1)], 'counts': [(9, 13)], 'Python': [(1, 12)], 'break': [(10, 40)], 'Tim': [(1, 23)], 'The': [(1, 1)], 't': [(10, 20)], 'implicit': [(4, 25)], 'rules': [(10, 50)], 'dense': [(8, 23)], 'enough': [(10, 30)], 'is': [(3, 11), (4, 10), (5, 8), (6, 9), (7, 6), (8, 8)], 'better': [(3, 14), (4, 13), (5, 11), (6, 12), (7, 9), (8, 11)], 'Beautiful': [(3, 1)], 'Zen': [(1, 5)], 'Flat': [(7, 1)], 'Special': [(10, 1)], 'complicated': [(6, 24)], 'than': [(3, 21), (4, 20), (5, 18), (6, 19), (7, 16), (8, 18)], 'Simple': [(5, 1)]}\n",
      "beats\n",
      "setdefault: []\n",
      "{'beats': [(11, 23)], 'Peters': [(1, 27)], 'by': [(1, 20)], 'cases': [(10, 9)], 'to': [(10, 37)], 'Readability': [(9, 1)], 'aren': [(10, 15)], 'the': [(10, 46)], 'nested': [(7, 21)], 'Explicit': [(4, 1)], 'of': [(1, 9)], 'complex': [(5, 23)], 'practicality': [(11, 10)], 'Sparse': [(8, 1)], 'Although': [(11, 1)], 'ugly': [(3, 26)], 'special': [(10, 22)], 'Complex': [(6, 1)], 'counts': [(9, 13)], 'Python': [(1, 12)], 'break': [(10, 40)], 'Tim': [(1, 23)], 'The': [(1, 1)], 't': [(10, 20)], 'implicit': [(4, 25)], 'rules': [(10, 50)], 'dense': [(8, 23)], 'enough': [(10, 30)], 'is': [(3, 11), (4, 10), (5, 8), (6, 9), (7, 6), (8, 8)], 'better': [(3, 14), (4, 13), (5, 11), (6, 12), (7, 9), (8, 11)], 'Beautiful': [(3, 1)], 'Zen': [(1, 5)], 'Flat': [(7, 1)], 'Special': [(10, 1)], 'complicated': [(6, 24)], 'than': [(3, 21), (4, 20), (5, 18), (6, 19), (7, 16), (8, 18)], 'Simple': [(5, 1)]}\n",
      "purity\n",
      "setdefault: []\n",
      "{'beats': [(11, 23)], 'Peters': [(1, 27)], 'by': [(1, 20)], 'cases': [(10, 9)], 'purity': [(11, 29)], 'to': [(10, 37)], 'Readability': [(9, 1)], 'aren': [(10, 15)], 'the': [(10, 46)], 'nested': [(7, 21)], 'Explicit': [(4, 1)], 'of': [(1, 9)], 'complex': [(5, 23)], 'practicality': [(11, 10)], 'Sparse': [(8, 1)], 'Although': [(11, 1)], 'ugly': [(3, 26)], 'special': [(10, 22)], 'Complex': [(6, 1)], 'counts': [(9, 13)], 'Python': [(1, 12)], 'break': [(10, 40)], 'Tim': [(1, 23)], 'The': [(1, 1)], 't': [(10, 20)], 'implicit': [(4, 25)], 'rules': [(10, 50)], 'dense': [(8, 23)], 'enough': [(10, 30)], 'is': [(3, 11), (4, 10), (5, 8), (6, 9), (7, 6), (8, 8)], 'better': [(3, 14), (4, 13), (5, 11), (6, 12), (7, 9), (8, 11)], 'Beautiful': [(3, 1)], 'Zen': [(1, 5)], 'Flat': [(7, 1)], 'Special': [(10, 1)], 'complicated': [(6, 24)], 'than': [(3, 21), (4, 20), (5, 18), (6, 19), (7, 16), (8, 18)], 'Simple': [(5, 1)]}\n",
      "Errors\n",
      "setdefault: []\n",
      "{'beats': [(11, 23)], 'Peters': [(1, 27)], 'by': [(1, 20)], 'cases': [(10, 9)], 'purity': [(11, 29)], 'to': [(10, 37)], 'Readability': [(9, 1)], 'aren': [(10, 15)], 'the': [(10, 46)], 'nested': [(7, 21)], 'Explicit': [(4, 1)], 'of': [(1, 9)], 'complex': [(5, 23)], 'practicality': [(11, 10)], 'Sparse': [(8, 1)], 'Although': [(11, 1)], 'ugly': [(3, 26)], 'special': [(10, 22)], 'Complex': [(6, 1)], 'counts': [(9, 13)], 'Python': [(1, 12)], 'break': [(10, 40)], 'Tim': [(1, 23)], 'The': [(1, 1)], 't': [(10, 20)], 'implicit': [(4, 25)], 'rules': [(10, 50)], 'dense': [(8, 23)], 'enough': [(10, 30)], 'is': [(3, 11), (4, 10), (5, 8), (6, 9), (7, 6), (8, 8)], 'better': [(3, 14), (4, 13), (5, 11), (6, 12), (7, 9), (8, 11)], 'Beautiful': [(3, 1)], 'Errors': [(12, 1)], 'Zen': [(1, 5)], 'Flat': [(7, 1)], 'Special': [(10, 1)], 'complicated': [(6, 24)], 'than': [(3, 21), (4, 20), (5, 18), (6, 19), (7, 16), (8, 18)], 'Simple': [(5, 1)]}\n",
      "should\n",
      "setdefault: []\n",
      "{'beats': [(11, 23)], 'Peters': [(1, 27)], 'by': [(1, 20)], 'cases': [(10, 9)], 'purity': [(11, 29)], 'to': [(10, 37)], 'Readability': [(9, 1)], 'aren': [(10, 15)], 'the': [(10, 46)], 'nested': [(7, 21)], 'Explicit': [(4, 1)], 'of': [(1, 9)], 'complex': [(5, 23)], 'practicality': [(11, 10)], 'should': [(12, 8)], 'Sparse': [(8, 1)], 'Although': [(11, 1)], 'ugly': [(3, 26)], 'special': [(10, 22)], 'Complex': [(6, 1)], 'counts': [(9, 13)], 'Python': [(1, 12)], 'break': [(10, 40)], 'Tim': [(1, 23)], 'The': [(1, 1)], 't': [(10, 20)], 'implicit': [(4, 25)], 'rules': [(10, 50)], 'dense': [(8, 23)], 'enough': [(10, 30)], 'is': [(3, 11), (4, 10), (5, 8), (6, 9), (7, 6), (8, 8)], 'better': [(3, 14), (4, 13), (5, 11), (6, 12), (7, 9), (8, 11)], 'Beautiful': [(3, 1)], 'Errors': [(12, 1)], 'Zen': [(1, 5)], 'Flat': [(7, 1)], 'Special': [(10, 1)], 'complicated': [(6, 24)], 'than': [(3, 21), (4, 20), (5, 18), (6, 19), (7, 16), (8, 18)], 'Simple': [(5, 1)]}\n",
      "never\n",
      "setdefault: []\n",
      "{'beats': [(11, 23)], 'Peters': [(1, 27)], 'by': [(1, 20)], 'cases': [(10, 9)], 'purity': [(11, 29)], 'to': [(10, 37)], 'Readability': [(9, 1)], 'aren': [(10, 15)], 'the': [(10, 46)], 'nested': [(7, 21)], 'Explicit': [(4, 1)], 'of': [(1, 9)], 'complex': [(5, 23)], 'never': [(12, 15)], 'practicality': [(11, 10)], 'should': [(12, 8)], 'Sparse': [(8, 1)], 'Although': [(11, 1)], 'ugly': [(3, 26)], 'special': [(10, 22)], 'Complex': [(6, 1)], 'counts': [(9, 13)], 'Python': [(1, 12)], 'break': [(10, 40)], 'Tim': [(1, 23)], 'The': [(1, 1)], 't': [(10, 20)], 'implicit': [(4, 25)], 'rules': [(10, 50)], 'dense': [(8, 23)], 'enough': [(10, 30)], 'is': [(3, 11), (4, 10), (5, 8), (6, 9), (7, 6), (8, 8)], 'better': [(3, 14), (4, 13), (5, 11), (6, 12), (7, 9), (8, 11)], 'Beautiful': [(3, 1)], 'Errors': [(12, 1)], 'Zen': [(1, 5)], 'Flat': [(7, 1)], 'Special': [(10, 1)], 'complicated': [(6, 24)], 'than': [(3, 21), (4, 20), (5, 18), (6, 19), (7, 16), (8, 18)], 'Simple': [(5, 1)]}\n",
      "pass\n",
      "setdefault: []\n",
      "{'beats': [(11, 23)], 'Peters': [(1, 27)], 'by': [(1, 20)], 'cases': [(10, 9)], 'purity': [(11, 29)], 'to': [(10, 37)], 'Readability': [(9, 1)], 'aren': [(10, 15)], 'the': [(10, 46)], 'nested': [(7, 21)], 'Explicit': [(4, 1)], 'of': [(1, 9)], 'complex': [(5, 23)], 'never': [(12, 15)], 'practicality': [(11, 10)], 'should': [(12, 8)], 'Sparse': [(8, 1)], 'Although': [(11, 1)], 'ugly': [(3, 26)], 'special': [(10, 22)], 'Complex': [(6, 1)], 'counts': [(9, 13)], 'Python': [(1, 12)], 'break': [(10, 40)], 'Tim': [(1, 23)], 'The': [(1, 1)], 't': [(10, 20)], 'implicit': [(4, 25)], 'rules': [(10, 50)], 'dense': [(8, 23)], 'enough': [(10, 30)], 'is': [(3, 11), (4, 10), (5, 8), (6, 9), (7, 6), (8, 8)], 'better': [(3, 14), (4, 13), (5, 11), (6, 12), (7, 9), (8, 11)], 'Beautiful': [(3, 1)], 'Errors': [(12, 1)], 'Zen': [(1, 5)], 'Flat': [(7, 1)], 'pass': [(12, 21)], 'Special': [(10, 1)], 'complicated': [(6, 24)], 'than': [(3, 21), (4, 20), (5, 18), (6, 19), (7, 16), (8, 18)], 'Simple': [(5, 1)]}\n",
      "silently\n",
      "setdefault: []\n",
      "{'beats': [(11, 23)], 'Peters': [(1, 27)], 'by': [(1, 20)], 'cases': [(10, 9)], 'purity': [(11, 29)], 'to': [(10, 37)], 'Readability': [(9, 1)], 'aren': [(10, 15)], 'the': [(10, 46)], 'nested': [(7, 21)], 'Explicit': [(4, 1)], 'of': [(1, 9)], 'complex': [(5, 23)], 'never': [(12, 15)], 'practicality': [(11, 10)], 'should': [(12, 8)], 'Sparse': [(8, 1)], 'Although': [(11, 1)], 'ugly': [(3, 26)], 'special': [(10, 22)], 'Complex': [(6, 1)], 'counts': [(9, 13)], 'Python': [(1, 12)], 'break': [(10, 40)], 'Tim': [(1, 23)], 'The': [(1, 1)], 't': [(10, 20)], 'implicit': [(4, 25)], 'rules': [(10, 50)], 'dense': [(8, 23)], 'enough': [(10, 30)], 'is': [(3, 11), (4, 10), (5, 8), (6, 9), (7, 6), (8, 8)], 'better': [(3, 14), (4, 13), (5, 11), (6, 12), (7, 9), (8, 11)], 'Beautiful': [(3, 1)], 'Errors': [(12, 1)], 'Zen': [(1, 5)], 'Flat': [(7, 1)], 'silently': [(12, 26)], 'pass': [(12, 21)], 'Special': [(10, 1)], 'complicated': [(6, 24)], 'than': [(3, 21), (4, 20), (5, 18), (6, 19), (7, 16), (8, 18)], 'Simple': [(5, 1)]}\n",
      "Unless\n",
      "setdefault: []\n",
      "{'pass': [(12, 21)], 'implicit': [(4, 25)], 'the': [(10, 46)], 'Readability': [(9, 1)], 'to': [(10, 37)], 'never': [(12, 15)], 'practicality': [(11, 10)], 'should': [(12, 8)], 'Unless': [(13, 1)], 'silently': [(12, 26)], 'Errors': [(12, 1)], 'Python': [(1, 12)], 'break': [(10, 40)], 'Tim': [(1, 23)], 'cases': [(10, 9)], 'dense': [(8, 23)], 'ugly': [(3, 26)], 'Zen': [(1, 5)], 'aren': [(10, 15)], 'Special': [(10, 1)], 'by': [(1, 20)], 'beats': [(11, 23)], 'Peters': [(1, 27)], 'special': [(10, 22)], 'purity': [(11, 29)], 'Flat': [(7, 1)], 'nested': [(7, 21)], 'Explicit': [(4, 1)], 'of': [(1, 9)], 'Beautiful': [(3, 1)], 'complex': [(5, 23)], 'Sparse': [(8, 1)], 'Complex': [(6, 1)], 'counts': [(9, 13)], 'The': [(1, 1)], 't': [(10, 20)], 'rules': [(10, 50)], 'complicated': [(6, 24)], 'is': [(3, 11), (4, 10), (5, 8), (6, 9), (7, 6), (8, 8)], 'better': [(3, 14), (4, 13), (5, 11), (6, 12), (7, 9), (8, 11)], 'Although': [(11, 1)], 'enough': [(10, 30)], 'than': [(3, 21), (4, 20), (5, 18), (6, 19), (7, 16), (8, 18)], 'Simple': [(5, 1)]}\n",
      "explicitly\n",
      "setdefault: []\n",
      "{'pass': [(12, 21)], 'implicit': [(4, 25)], 'the': [(10, 46)], 'Readability': [(9, 1)], 'to': [(10, 37)], 'never': [(12, 15)], 'practicality': [(11, 10)], 'should': [(12, 8)], 'Unless': [(13, 1)], 'silently': [(12, 26)], 'Errors': [(12, 1)], 'Python': [(1, 12)], 'break': [(10, 40)], 'Tim': [(1, 23)], 'cases': [(10, 9)], 'dense': [(8, 23)], 'ugly': [(3, 26)], 'Zen': [(1, 5)], 'aren': [(10, 15)], 'Special': [(10, 1)], 'by': [(1, 20)], 'beats': [(11, 23)], 'Peters': [(1, 27)], 'special': [(10, 22)], 'purity': [(11, 29)], 'Flat': [(7, 1)], 'nested': [(7, 21)], 'Explicit': [(4, 1)], 'of': [(1, 9)], 'Beautiful': [(3, 1)], 'complex': [(5, 23)], 'Sparse': [(8, 1)], 'Complex': [(6, 1)], 'counts': [(9, 13)], 'The': [(1, 1)], 't': [(10, 20)], 'rules': [(10, 50)], 'complicated': [(6, 24)], 'is': [(3, 11), (4, 10), (5, 8), (6, 9), (7, 6), (8, 8)], 'better': [(3, 14), (4, 13), (5, 11), (6, 12), (7, 9), (8, 11)], 'Although': [(11, 1)], 'explicitly': [(13, 8)], 'enough': [(10, 30)], 'than': [(3, 21), (4, 20), (5, 18), (6, 19), (7, 16), (8, 18)], 'Simple': [(5, 1)]}\n",
      "silenced\n",
      "setdefault: []\n",
      "{'pass': [(12, 21)], 'implicit': [(4, 25)], 'silenced': [(13, 19)], 'the': [(10, 46)], 'Readability': [(9, 1)], 'to': [(10, 37)], 'never': [(12, 15)], 'practicality': [(11, 10)], 'should': [(12, 8)], 'Unless': [(13, 1)], 'silently': [(12, 26)], 'Errors': [(12, 1)], 'Python': [(1, 12)], 'break': [(10, 40)], 'Tim': [(1, 23)], 'cases': [(10, 9)], 'dense': [(8, 23)], 'ugly': [(3, 26)], 'Zen': [(1, 5)], 'aren': [(10, 15)], 'Special': [(10, 1)], 'by': [(1, 20)], 'beats': [(11, 23)], 'Peters': [(1, 27)], 'special': [(10, 22)], 'purity': [(11, 29)], 'Flat': [(7, 1)], 'nested': [(7, 21)], 'Explicit': [(4, 1)], 'of': [(1, 9)], 'Beautiful': [(3, 1)], 'complex': [(5, 23)], 'Sparse': [(8, 1)], 'Complex': [(6, 1)], 'counts': [(9, 13)], 'The': [(1, 1)], 't': [(10, 20)], 'rules': [(10, 50)], 'complicated': [(6, 24)], 'is': [(3, 11), (4, 10), (5, 8), (6, 9), (7, 6), (8, 8)], 'better': [(3, 14), (4, 13), (5, 11), (6, 12), (7, 9), (8, 11)], 'Although': [(11, 1)], 'explicitly': [(13, 8)], 'enough': [(10, 30)], 'than': [(3, 21), (4, 20), (5, 18), (6, 19), (7, 16), (8, 18)], 'Simple': [(5, 1)]}\n",
      "In\n",
      "setdefault: []\n",
      "{'pass': [(12, 21)], 'implicit': [(4, 25)], 'silenced': [(13, 19)], 'the': [(10, 46)], 'Readability': [(9, 1)], 'to': [(10, 37)], 'never': [(12, 15)], 'practicality': [(11, 10)], 'should': [(12, 8)], 'Unless': [(13, 1)], 'silently': [(12, 26)], 'Errors': [(12, 1)], 'Python': [(1, 12)], 'break': [(10, 40)], 'Tim': [(1, 23)], 'cases': [(10, 9)], 'dense': [(8, 23)], 'ugly': [(3, 26)], 'Zen': [(1, 5)], 'aren': [(10, 15)], 'Special': [(10, 1)], 'by': [(1, 20)], 'beats': [(11, 23)], 'Peters': [(1, 27)], 'special': [(10, 22)], 'purity': [(11, 29)], 'Flat': [(7, 1)], 'nested': [(7, 21)], 'Explicit': [(4, 1)], 'of': [(1, 9)], 'Beautiful': [(3, 1)], 'complex': [(5, 23)], 'Sparse': [(8, 1)], 'Complex': [(6, 1)], 'counts': [(9, 13)], 'The': [(1, 1)], 't': [(10, 20)], 'rules': [(10, 50)], 'In': [(14, 1)], 'complicated': [(6, 24)], 'is': [(3, 11), (4, 10), (5, 8), (6, 9), (7, 6), (8, 8)], 'better': [(3, 14), (4, 13), (5, 11), (6, 12), (7, 9), (8, 11)], 'Although': [(11, 1)], 'explicitly': [(13, 8)], 'enough': [(10, 30)], 'than': [(3, 21), (4, 20), (5, 18), (6, 19), (7, 16), (8, 18)], 'Simple': [(5, 1)]}\n",
      "the\n",
      "setdefault: [(10, 46)]\n",
      "{'pass': [(12, 21)], 'implicit': [(4, 25)], 'silenced': [(13, 19)], 'the': [(10, 46), (14, 4)], 'Readability': [(9, 1)], 'to': [(10, 37)], 'never': [(12, 15)], 'practicality': [(11, 10)], 'should': [(12, 8)], 'Unless': [(13, 1)], 'silently': [(12, 26)], 'Errors': [(12, 1)], 'Python': [(1, 12)], 'break': [(10, 40)], 'Tim': [(1, 23)], 'cases': [(10, 9)], 'dense': [(8, 23)], 'ugly': [(3, 26)], 'Zen': [(1, 5)], 'aren': [(10, 15)], 'Special': [(10, 1)], 'by': [(1, 20)], 'beats': [(11, 23)], 'Peters': [(1, 27)], 'special': [(10, 22)], 'purity': [(11, 29)], 'Flat': [(7, 1)], 'nested': [(7, 21)], 'Explicit': [(4, 1)], 'of': [(1, 9)], 'Beautiful': [(3, 1)], 'complex': [(5, 23)], 'Sparse': [(8, 1)], 'Complex': [(6, 1)], 'counts': [(9, 13)], 'The': [(1, 1)], 't': [(10, 20)], 'rules': [(10, 50)], 'In': [(14, 1)], 'complicated': [(6, 24)], 'is': [(3, 11), (4, 10), (5, 8), (6, 9), (7, 6), (8, 8)], 'better': [(3, 14), (4, 13), (5, 11), (6, 12), (7, 9), (8, 11)], 'Although': [(11, 1)], 'explicitly': [(13, 8)], 'enough': [(10, 30)], 'than': [(3, 21), (4, 20), (5, 18), (6, 19), (7, 16), (8, 18)], 'Simple': [(5, 1)]}\n",
      "face\n",
      "setdefault: []\n",
      "{'pass': [(12, 21)], 'implicit': [(4, 25)], 'silenced': [(13, 19)], 'the': [(10, 46), (14, 4)], 'Readability': [(9, 1)], 'to': [(10, 37)], 'never': [(12, 15)], 'practicality': [(11, 10)], 'should': [(12, 8)], 'Unless': [(13, 1)], 'silently': [(12, 26)], 'Errors': [(12, 1)], 'Python': [(1, 12)], 'break': [(10, 40)], 'Tim': [(1, 23)], 'cases': [(10, 9)], 'dense': [(8, 23)], 'ugly': [(3, 26)], 'Zen': [(1, 5)], 'aren': [(10, 15)], 'Special': [(10, 1)], 'by': [(1, 20)], 'beats': [(11, 23)], 'Peters': [(1, 27)], 'special': [(10, 22)], 'purity': [(11, 29)], 'Flat': [(7, 1)], 'nested': [(7, 21)], 'Explicit': [(4, 1)], 'of': [(1, 9)], 'Beautiful': [(3, 1)], 'complex': [(5, 23)], 'Sparse': [(8, 1)], 'Complex': [(6, 1)], 'counts': [(9, 13)], 'The': [(1, 1)], 't': [(10, 20)], 'rules': [(10, 50)], 'In': [(14, 1)], 'complicated': [(6, 24)], 'is': [(3, 11), (4, 10), (5, 8), (6, 9), (7, 6), (8, 8)], 'better': [(3, 14), (4, 13), (5, 11), (6, 12), (7, 9), (8, 11)], 'Although': [(11, 1)], 'explicitly': [(13, 8)], 'face': [(14, 8)], 'enough': [(10, 30)], 'than': [(3, 21), (4, 20), (5, 18), (6, 19), (7, 16), (8, 18)], 'Simple': [(5, 1)]}\n",
      "of\n",
      "setdefault: [(1, 9)]\n",
      "{'pass': [(12, 21)], 'implicit': [(4, 25)], 'silenced': [(13, 19)], 'the': [(10, 46), (14, 4)], 'Readability': [(9, 1)], 'to': [(10, 37)], 'never': [(12, 15)], 'practicality': [(11, 10)], 'should': [(12, 8)], 'Unless': [(13, 1)], 'silently': [(12, 26)], 'Errors': [(12, 1)], 'Python': [(1, 12)], 'break': [(10, 40)], 'Tim': [(1, 23)], 'cases': [(10, 9)], 'dense': [(8, 23)], 'ugly': [(3, 26)], 'Zen': [(1, 5)], 'aren': [(10, 15)], 'Special': [(10, 1)], 'by': [(1, 20)], 'beats': [(11, 23)], 'Peters': [(1, 27)], 'special': [(10, 22)], 'purity': [(11, 29)], 'Flat': [(7, 1)], 'nested': [(7, 21)], 'Explicit': [(4, 1)], 'of': [(1, 9), (14, 13)], 'Beautiful': [(3, 1)], 'complex': [(5, 23)], 'Sparse': [(8, 1)], 'Complex': [(6, 1)], 'counts': [(9, 13)], 'The': [(1, 1)], 't': [(10, 20)], 'rules': [(10, 50)], 'In': [(14, 1)], 'complicated': [(6, 24)], 'is': [(3, 11), (4, 10), (5, 8), (6, 9), (7, 6), (8, 8)], 'better': [(3, 14), (4, 13), (5, 11), (6, 12), (7, 9), (8, 11)], 'Although': [(11, 1)], 'explicitly': [(13, 8)], 'face': [(14, 8)], 'enough': [(10, 30)], 'than': [(3, 21), (4, 20), (5, 18), (6, 19), (7, 16), (8, 18)], 'Simple': [(5, 1)]}\n",
      "ambiguity\n",
      "setdefault: []\n",
      "{'pass': [(12, 21)], 'implicit': [(4, 25)], 'silenced': [(13, 19)], 'the': [(10, 46), (14, 4)], 'Readability': [(9, 1)], 'to': [(10, 37)], 'never': [(12, 15)], 'practicality': [(11, 10)], 'should': [(12, 8)], 'Unless': [(13, 1)], 'silently': [(12, 26)], 'Errors': [(12, 1)], 'Python': [(1, 12)], 'break': [(10, 40)], 'Tim': [(1, 23)], 'cases': [(10, 9)], 'dense': [(8, 23)], 'ugly': [(3, 26)], 'Zen': [(1, 5)], 'aren': [(10, 15)], 'Special': [(10, 1)], 'by': [(1, 20)], 'beats': [(11, 23)], 'Peters': [(1, 27)], 'special': [(10, 22)], 'purity': [(11, 29)], 'Flat': [(7, 1)], 'ambiguity': [(14, 16)], 'nested': [(7, 21)], 'Explicit': [(4, 1)], 'of': [(1, 9), (14, 13)], 'Beautiful': [(3, 1)], 'complex': [(5, 23)], 'Sparse': [(8, 1)], 'Complex': [(6, 1)], 'counts': [(9, 13)], 'The': [(1, 1)], 't': [(10, 20)], 'rules': [(10, 50)], 'In': [(14, 1)], 'complicated': [(6, 24)], 'is': [(3, 11), (4, 10), (5, 8), (6, 9), (7, 6), (8, 8)], 'better': [(3, 14), (4, 13), (5, 11), (6, 12), (7, 9), (8, 11)], 'Although': [(11, 1)], 'explicitly': [(13, 8)], 'face': [(14, 8)], 'enough': [(10, 30)], 'than': [(3, 21), (4, 20), (5, 18), (6, 19), (7, 16), (8, 18)], 'Simple': [(5, 1)]}\n",
      "refuse\n",
      "setdefault: []\n",
      "{'pass': [(12, 21)], 'implicit': [(4, 25)], 'silenced': [(13, 19)], 'the': [(10, 46), (14, 4)], 'Readability': [(9, 1)], 'to': [(10, 37)], 'never': [(12, 15)], 'practicality': [(11, 10)], 'should': [(12, 8)], 'Unless': [(13, 1)], 'silently': [(12, 26)], 'Errors': [(12, 1)], 'Python': [(1, 12)], 'break': [(10, 40)], 'Tim': [(1, 23)], 'cases': [(10, 9)], 'dense': [(8, 23)], 'ugly': [(3, 26)], 'Zen': [(1, 5)], 'aren': [(10, 15)], 'Special': [(10, 1)], 'by': [(1, 20)], 'beats': [(11, 23)], 'Peters': [(1, 27)], 'special': [(10, 22)], 'purity': [(11, 29)], 'refuse': [(14, 27)], 'Flat': [(7, 1)], 'ambiguity': [(14, 16)], 'nested': [(7, 21)], 'Explicit': [(4, 1)], 'of': [(1, 9), (14, 13)], 'Beautiful': [(3, 1)], 'complex': [(5, 23)], 'Sparse': [(8, 1)], 'Complex': [(6, 1)], 'counts': [(9, 13)], 'The': [(1, 1)], 't': [(10, 20)], 'rules': [(10, 50)], 'In': [(14, 1)], 'complicated': [(6, 24)], 'is': [(3, 11), (4, 10), (5, 8), (6, 9), (7, 6), (8, 8)], 'better': [(3, 14), (4, 13), (5, 11), (6, 12), (7, 9), (8, 11)], 'Although': [(11, 1)], 'explicitly': [(13, 8)], 'face': [(14, 8)], 'enough': [(10, 30)], 'than': [(3, 21), (4, 20), (5, 18), (6, 19), (7, 16), (8, 18)], 'Simple': [(5, 1)]}\n",
      "the\n",
      "setdefault: [(10, 46), (14, 4)]\n",
      "{'pass': [(12, 21)], 'implicit': [(4, 25)], 'silenced': [(13, 19)], 'the': [(10, 46), (14, 4), (14, 34)], 'Readability': [(9, 1)], 'to': [(10, 37)], 'never': [(12, 15)], 'practicality': [(11, 10)], 'should': [(12, 8)], 'Unless': [(13, 1)], 'silently': [(12, 26)], 'Errors': [(12, 1)], 'Python': [(1, 12)], 'break': [(10, 40)], 'Tim': [(1, 23)], 'cases': [(10, 9)], 'dense': [(8, 23)], 'ugly': [(3, 26)], 'Zen': [(1, 5)], 'aren': [(10, 15)], 'Special': [(10, 1)], 'by': [(1, 20)], 'beats': [(11, 23)], 'Peters': [(1, 27)], 'special': [(10, 22)], 'purity': [(11, 29)], 'refuse': [(14, 27)], 'Flat': [(7, 1)], 'ambiguity': [(14, 16)], 'nested': [(7, 21)], 'Explicit': [(4, 1)], 'of': [(1, 9), (14, 13)], 'Beautiful': [(3, 1)], 'complex': [(5, 23)], 'Sparse': [(8, 1)], 'Complex': [(6, 1)], 'counts': [(9, 13)], 'The': [(1, 1)], 't': [(10, 20)], 'rules': [(10, 50)], 'In': [(14, 1)], 'complicated': [(6, 24)], 'is': [(3, 11), (4, 10), (5, 8), (6, 9), (7, 6), (8, 8)], 'better': [(3, 14), (4, 13), (5, 11), (6, 12), (7, 9), (8, 11)], 'Although': [(11, 1)], 'explicitly': [(13, 8)], 'face': [(14, 8)], 'enough': [(10, 30)], 'than': [(3, 21), (4, 20), (5, 18), (6, 19), (7, 16), (8, 18)], 'Simple': [(5, 1)]}\n",
      "temptation\n",
      "setdefault: []\n",
      "{'pass': [(12, 21)], 'implicit': [(4, 25)], 'silenced': [(13, 19)], 'the': [(10, 46), (14, 4), (14, 34)], 'Readability': [(9, 1)], 'to': [(10, 37)], 'never': [(12, 15)], 'practicality': [(11, 10)], 'should': [(12, 8)], 'Unless': [(13, 1)], 'silently': [(12, 26)], 'Errors': [(12, 1)], 'Python': [(1, 12)], 'break': [(10, 40)], 'Tim': [(1, 23)], 'cases': [(10, 9)], 'dense': [(8, 23)], 'ugly': [(3, 26)], 'Zen': [(1, 5)], 'aren': [(10, 15)], 'Special': [(10, 1)], 'by': [(1, 20)], 'beats': [(11, 23)], 'Peters': [(1, 27)], 'special': [(10, 22)], 'purity': [(11, 29)], 'refuse': [(14, 27)], 'Flat': [(7, 1)], 'ambiguity': [(14, 16)], 'temptation': [(14, 38)], 'nested': [(7, 21)], 'Explicit': [(4, 1)], 'of': [(1, 9), (14, 13)], 'Beautiful': [(3, 1)], 'complex': [(5, 23)], 'Sparse': [(8, 1)], 'Complex': [(6, 1)], 'counts': [(9, 13)], 'The': [(1, 1)], 't': [(10, 20)], 'rules': [(10, 50)], 'In': [(14, 1)], 'complicated': [(6, 24)], 'is': [(3, 11), (4, 10), (5, 8), (6, 9), (7, 6), (8, 8)], 'better': [(3, 14), (4, 13), (5, 11), (6, 12), (7, 9), (8, 11)], 'Although': [(11, 1)], 'explicitly': [(13, 8)], 'face': [(14, 8)], 'enough': [(10, 30)], 'than': [(3, 21), (4, 20), (5, 18), (6, 19), (7, 16), (8, 18)], 'Simple': [(5, 1)]}\n",
      "to\n",
      "setdefault: [(10, 37)]\n",
      "{'pass': [(12, 21)], 'implicit': [(4, 25)], 'silenced': [(13, 19)], 'the': [(10, 46), (14, 4), (14, 34)], 'Readability': [(9, 1)], 'to': [(10, 37), (14, 49)], 'never': [(12, 15)], 'practicality': [(11, 10)], 'should': [(12, 8)], 'Unless': [(13, 1)], 'silently': [(12, 26)], 'Errors': [(12, 1)], 'Python': [(1, 12)], 'break': [(10, 40)], 'Tim': [(1, 23)], 'cases': [(10, 9)], 'dense': [(8, 23)], 'ugly': [(3, 26)], 'Zen': [(1, 5)], 'aren': [(10, 15)], 'Special': [(10, 1)], 'by': [(1, 20)], 'beats': [(11, 23)], 'Peters': [(1, 27)], 'special': [(10, 22)], 'purity': [(11, 29)], 'refuse': [(14, 27)], 'Flat': [(7, 1)], 'ambiguity': [(14, 16)], 'temptation': [(14, 38)], 'nested': [(7, 21)], 'Explicit': [(4, 1)], 'of': [(1, 9), (14, 13)], 'Beautiful': [(3, 1)], 'complex': [(5, 23)], 'Sparse': [(8, 1)], 'Complex': [(6, 1)], 'counts': [(9, 13)], 'The': [(1, 1)], 't': [(10, 20)], 'rules': [(10, 50)], 'In': [(14, 1)], 'complicated': [(6, 24)], 'is': [(3, 11), (4, 10), (5, 8), (6, 9), (7, 6), (8, 8)], 'better': [(3, 14), (4, 13), (5, 11), (6, 12), (7, 9), (8, 11)], 'Although': [(11, 1)], 'explicitly': [(13, 8)], 'face': [(14, 8)], 'enough': [(10, 30)], 'than': [(3, 21), (4, 20), (5, 18), (6, 19), (7, 16), (8, 18)], 'Simple': [(5, 1)]}\n",
      "guess\n",
      "setdefault: []\n",
      "{'pass': [(12, 21)], 'implicit': [(4, 25)], 'silenced': [(13, 19)], 'the': [(10, 46), (14, 4), (14, 34)], 'Readability': [(9, 1)], 'to': [(10, 37), (14, 49)], 'never': [(12, 15)], 'practicality': [(11, 10)], 'should': [(12, 8)], 'Unless': [(13, 1)], 'silently': [(12, 26)], 'Errors': [(12, 1)], 'guess': [(14, 52)], 'Python': [(1, 12)], 'break': [(10, 40)], 'Tim': [(1, 23)], 'cases': [(10, 9)], 'dense': [(8, 23)], 'ugly': [(3, 26)], 'Zen': [(1, 5)], 'aren': [(10, 15)], 'Special': [(10, 1)], 'by': [(1, 20)], 'beats': [(11, 23)], 'Peters': [(1, 27)], 'special': [(10, 22)], 'purity': [(11, 29)], 'refuse': [(14, 27)], 'Flat': [(7, 1)], 'ambiguity': [(14, 16)], 'temptation': [(14, 38)], 'nested': [(7, 21)], 'Explicit': [(4, 1)], 'of': [(1, 9), (14, 13)], 'Beautiful': [(3, 1)], 'complex': [(5, 23)], 'Sparse': [(8, 1)], 'Complex': [(6, 1)], 'counts': [(9, 13)], 'The': [(1, 1)], 't': [(10, 20)], 'rules': [(10, 50)], 'In': [(14, 1)], 'complicated': [(6, 24)], 'is': [(3, 11), (4, 10), (5, 8), (6, 9), (7, 6), (8, 8)], 'better': [(3, 14), (4, 13), (5, 11), (6, 12), (7, 9), (8, 11)], 'Although': [(11, 1)], 'explicitly': [(13, 8)], 'face': [(14, 8)], 'enough': [(10, 30)], 'than': [(3, 21), (4, 20), (5, 18), (6, 19), (7, 16), (8, 18)], 'Simple': [(5, 1)]}\n",
      "There\n",
      "setdefault: []\n",
      "{'pass': [(12, 21)], 'implicit': [(4, 25)], 'silenced': [(13, 19)], 'the': [(10, 46), (14, 4), (14, 34)], 'Readability': [(9, 1)], 'to': [(10, 37), (14, 49)], 'never': [(12, 15)], 'practicality': [(11, 10)], 'should': [(12, 8)], 'Unless': [(13, 1)], 'silently': [(12, 26)], 'Errors': [(12, 1)], 'guess': [(14, 52)], 'There': [(15, 1)], 'Python': [(1, 12)], 'break': [(10, 40)], 'Tim': [(1, 23)], 'cases': [(10, 9)], 'dense': [(8, 23)], 'ugly': [(3, 26)], 'Zen': [(1, 5)], 'aren': [(10, 15)], 'Special': [(10, 1)], 'by': [(1, 20)], 'beats': [(11, 23)], 'Peters': [(1, 27)], 'special': [(10, 22)], 'purity': [(11, 29)], 'refuse': [(14, 27)], 'Flat': [(7, 1)], 'ambiguity': [(14, 16)], 'temptation': [(14, 38)], 'nested': [(7, 21)], 'Explicit': [(4, 1)], 'of': [(1, 9), (14, 13)], 'Beautiful': [(3, 1)], 'complex': [(5, 23)], 'Sparse': [(8, 1)], 'Complex': [(6, 1)], 'counts': [(9, 13)], 'The': [(1, 1)], 't': [(10, 20)], 'rules': [(10, 50)], 'In': [(14, 1)], 'complicated': [(6, 24)], 'is': [(3, 11), (4, 10), (5, 8), (6, 9), (7, 6), (8, 8)], 'better': [(3, 14), (4, 13), (5, 11), (6, 12), (7, 9), (8, 11)], 'Although': [(11, 1)], 'explicitly': [(13, 8)], 'face': [(14, 8)], 'enough': [(10, 30)], 'than': [(3, 21), (4, 20), (5, 18), (6, 19), (7, 16), (8, 18)], 'Simple': [(5, 1)]}\n",
      "should\n",
      "setdefault: [(12, 8)]\n",
      "{'pass': [(12, 21)], 'implicit': [(4, 25)], 'silenced': [(13, 19)], 'the': [(10, 46), (14, 4), (14, 34)], 'Readability': [(9, 1)], 'to': [(10, 37), (14, 49)], 'never': [(12, 15)], 'practicality': [(11, 10)], 'should': [(12, 8), (15, 7)], 'Unless': [(13, 1)], 'silently': [(12, 26)], 'Errors': [(12, 1)], 'guess': [(14, 52)], 'There': [(15, 1)], 'Python': [(1, 12)], 'break': [(10, 40)], 'Tim': [(1, 23)], 'cases': [(10, 9)], 'dense': [(8, 23)], 'ugly': [(3, 26)], 'Zen': [(1, 5)], 'aren': [(10, 15)], 'Special': [(10, 1)], 'by': [(1, 20)], 'beats': [(11, 23)], 'Peters': [(1, 27)], 'special': [(10, 22)], 'purity': [(11, 29)], 'refuse': [(14, 27)], 'Flat': [(7, 1)], 'ambiguity': [(14, 16)], 'temptation': [(14, 38)], 'nested': [(7, 21)], 'Explicit': [(4, 1)], 'of': [(1, 9), (14, 13)], 'Beautiful': [(3, 1)], 'complex': [(5, 23)], 'Sparse': [(8, 1)], 'Complex': [(6, 1)], 'counts': [(9, 13)], 'The': [(1, 1)], 't': [(10, 20)], 'rules': [(10, 50)], 'In': [(14, 1)], 'complicated': [(6, 24)], 'is': [(3, 11), (4, 10), (5, 8), (6, 9), (7, 6), (8, 8)], 'better': [(3, 14), (4, 13), (5, 11), (6, 12), (7, 9), (8, 11)], 'Although': [(11, 1)], 'explicitly': [(13, 8)], 'face': [(14, 8)], 'enough': [(10, 30)], 'than': [(3, 21), (4, 20), (5, 18), (6, 19), (7, 16), (8, 18)], 'Simple': [(5, 1)]}\n",
      "be\n",
      "setdefault: []\n",
      "{'pass': [(12, 21)], 'implicit': [(4, 25)], 'silenced': [(13, 19)], 'the': [(10, 46), (14, 4), (14, 34)], 'Readability': [(9, 1)], 'to': [(10, 37), (14, 49)], 'never': [(12, 15)], 'practicality': [(11, 10)], 'should': [(12, 8), (15, 7)], 'Unless': [(13, 1)], 'silently': [(12, 26)], 'Errors': [(12, 1)], 'guess': [(14, 52)], 'There': [(15, 1)], 'Python': [(1, 12)], 'break': [(10, 40)], 'Tim': [(1, 23)], 'cases': [(10, 9)], 'dense': [(8, 23)], 'ugly': [(3, 26)], 'Zen': [(1, 5)], 'aren': [(10, 15)], 'Special': [(10, 1)], 'by': [(1, 20)], 'beats': [(11, 23)], 'Peters': [(1, 27)], 'special': [(10, 22)], 'purity': [(11, 29)], 'refuse': [(14, 27)], 'Flat': [(7, 1)], 'ambiguity': [(14, 16)], 'temptation': [(14, 38)], 'nested': [(7, 21)], 'Explicit': [(4, 1)], 'of': [(1, 9), (14, 13)], 'Beautiful': [(3, 1)], 'complex': [(5, 23)], 'Sparse': [(8, 1)], 'Complex': [(6, 1)], 'counts': [(9, 13)], 'be': [(15, 14)], 'The': [(1, 1)], 't': [(10, 20)], 'rules': [(10, 50)], 'In': [(14, 1)], 'complicated': [(6, 24)], 'is': [(3, 11), (4, 10), (5, 8), (6, 9), (7, 6), (8, 8)], 'better': [(3, 14), (4, 13), (5, 11), (6, 12), (7, 9), (8, 11)], 'Although': [(11, 1)], 'explicitly': [(13, 8)], 'face': [(14, 8)], 'enough': [(10, 30)], 'than': [(3, 21), (4, 20), (5, 18), (6, 19), (7, 16), (8, 18)], 'Simple': [(5, 1)]}\n",
      "one\n",
      "setdefault: []\n",
      "{'pass': [(12, 21)], 'implicit': [(4, 25)], 'silenced': [(13, 19)], 'the': [(10, 46), (14, 4), (14, 34)], 'Readability': [(9, 1)], 'to': [(10, 37), (14, 49)], 'never': [(12, 15)], 'practicality': [(11, 10)], 'should': [(12, 8), (15, 7)], 'Unless': [(13, 1)], 'silently': [(12, 26)], 'Errors': [(12, 1)], 'guess': [(14, 52)], 'There': [(15, 1)], 'Python': [(1, 12)], 'break': [(10, 40)], 'Tim': [(1, 23)], 'cases': [(10, 9)], 'dense': [(8, 23)], 'ugly': [(3, 26)], 'Zen': [(1, 5)], 'aren': [(10, 15)], 'Special': [(10, 1)], 'by': [(1, 20)], 'beats': [(11, 23)], 'Peters': [(1, 27)], 'one': [(15, 17)], 'special': [(10, 22)], 'purity': [(11, 29)], 'refuse': [(14, 27)], 'Flat': [(7, 1)], 'ambiguity': [(14, 16)], 'temptation': [(14, 38)], 'nested': [(7, 21)], 'Explicit': [(4, 1)], 'of': [(1, 9), (14, 13)], 'Beautiful': [(3, 1)], 'complex': [(5, 23)], 'Sparse': [(8, 1)], 'Complex': [(6, 1)], 'counts': [(9, 13)], 'be': [(15, 14)], 'The': [(1, 1)], 't': [(10, 20)], 'rules': [(10, 50)], 'In': [(14, 1)], 'complicated': [(6, 24)], 'is': [(3, 11), (4, 10), (5, 8), (6, 9), (7, 6), (8, 8)], 'better': [(3, 14), (4, 13), (5, 11), (6, 12), (7, 9), (8, 11)], 'Although': [(11, 1)], 'explicitly': [(13, 8)], 'face': [(14, 8)], 'enough': [(10, 30)], 'than': [(3, 21), (4, 20), (5, 18), (6, 19), (7, 16), (8, 18)], 'Simple': [(5, 1)]}\n",
      "and\n",
      "setdefault: []\n",
      "{'pass': [(12, 21)], 'implicit': [(4, 25)], 'and': [(15, 23)], 'silenced': [(13, 19)], 'the': [(10, 46), (14, 4), (14, 34)], 'Readability': [(9, 1)], 'to': [(10, 37), (14, 49)], 'never': [(12, 15)], 'practicality': [(11, 10)], 'should': [(12, 8), (15, 7)], 'Unless': [(13, 1)], 'silently': [(12, 26)], 'Errors': [(12, 1)], 'guess': [(14, 52)], 'There': [(15, 1)], 'Python': [(1, 12)], 'break': [(10, 40)], 'Tim': [(1, 23)], 'cases': [(10, 9)], 'dense': [(8, 23)], 'ugly': [(3, 26)], 'Zen': [(1, 5)], 'aren': [(10, 15)], 'Special': [(10, 1)], 'by': [(1, 20)], 'beats': [(11, 23)], 'Peters': [(1, 27)], 'one': [(15, 17)], 'special': [(10, 22)], 'purity': [(11, 29)], 'refuse': [(14, 27)], 'Flat': [(7, 1)], 'ambiguity': [(14, 16)], 'temptation': [(14, 38)], 'nested': [(7, 21)], 'Explicit': [(4, 1)], 'of': [(1, 9), (14, 13)], 'Beautiful': [(3, 1)], 'complex': [(5, 23)], 'Sparse': [(8, 1)], 'Complex': [(6, 1)], 'counts': [(9, 13)], 'be': [(15, 14)], 'The': [(1, 1)], 't': [(10, 20)], 'rules': [(10, 50)], 'In': [(14, 1)], 'complicated': [(6, 24)], 'is': [(3, 11), (4, 10), (5, 8), (6, 9), (7, 6), (8, 8)], 'better': [(3, 14), (4, 13), (5, 11), (6, 12), (7, 9), (8, 11)], 'Although': [(11, 1)], 'explicitly': [(13, 8)], 'face': [(14, 8)], 'enough': [(10, 30)], 'than': [(3, 21), (4, 20), (5, 18), (6, 19), (7, 16), (8, 18)], 'Simple': [(5, 1)]}\n",
      "preferably\n",
      "setdefault: []\n",
      "{'pass': [(12, 21)], 'implicit': [(4, 25)], 'and': [(15, 23)], 'silenced': [(13, 19)], 'the': [(10, 46), (14, 4), (14, 34)], 'Readability': [(9, 1)], 'to': [(10, 37), (14, 49)], 'never': [(12, 15)], 'practicality': [(11, 10)], 'should': [(12, 8), (15, 7)], 'Unless': [(13, 1)], 'silently': [(12, 26)], 'Errors': [(12, 1)], 'guess': [(14, 52)], 'There': [(15, 1)], 'Python': [(1, 12)], 'break': [(10, 40)], 'Tim': [(1, 23)], 'cases': [(10, 9)], 'preferably': [(15, 27)], 'dense': [(8, 23)], 'ugly': [(3, 26)], 'Zen': [(1, 5)], 'aren': [(10, 15)], 'Special': [(10, 1)], 'by': [(1, 20)], 'beats': [(11, 23)], 'Peters': [(1, 27)], 'one': [(15, 17)], 'special': [(10, 22)], 'purity': [(11, 29)], 'refuse': [(14, 27)], 'Flat': [(7, 1)], 'ambiguity': [(14, 16)], 'temptation': [(14, 38)], 'nested': [(7, 21)], 'Explicit': [(4, 1)], 'of': [(1, 9), (14, 13)], 'Beautiful': [(3, 1)], 'complex': [(5, 23)], 'Sparse': [(8, 1)], 'Complex': [(6, 1)], 'counts': [(9, 13)], 'be': [(15, 14)], 'The': [(1, 1)], 't': [(10, 20)], 'rules': [(10, 50)], 'In': [(14, 1)], 'complicated': [(6, 24)], 'is': [(3, 11), (4, 10), (5, 8), (6, 9), (7, 6), (8, 8)], 'better': [(3, 14), (4, 13), (5, 11), (6, 12), (7, 9), (8, 11)], 'Although': [(11, 1)], 'explicitly': [(13, 8)], 'face': [(14, 8)], 'enough': [(10, 30)], 'than': [(3, 21), (4, 20), (5, 18), (6, 19), (7, 16), (8, 18)], 'Simple': [(5, 1)]}\n",
      "only\n",
      "setdefault: []\n",
      "{'pass': [(12, 21)], 'implicit': [(4, 25)], 'and': [(15, 23)], 'silenced': [(13, 19)], 'the': [(10, 46), (14, 4), (14, 34)], 'Readability': [(9, 1)], 'to': [(10, 37), (14, 49)], 'never': [(12, 15)], 'practicality': [(11, 10)], 'should': [(12, 8), (15, 7)], 'Unless': [(13, 1)], 'silently': [(12, 26)], 'Errors': [(12, 1)], 'guess': [(14, 52)], 'There': [(15, 1)], 'Python': [(1, 12)], 'break': [(10, 40)], 'Tim': [(1, 23)], 'cases': [(10, 9)], 'preferably': [(15, 27)], 'dense': [(8, 23)], 'ugly': [(3, 26)], 'Zen': [(1, 5)], 'aren': [(10, 15)], 'Special': [(10, 1)], 'by': [(1, 20)], 'beats': [(11, 23)], 'Peters': [(1, 27)], 'one': [(15, 17)], 'special': [(10, 22)], 'purity': [(11, 29)], 'refuse': [(14, 27)], 'Flat': [(7, 1)], 'ambiguity': [(14, 16)], 'only': [(15, 38)], 'temptation': [(14, 38)], 'nested': [(7, 21)], 'Explicit': [(4, 1)], 'of': [(1, 9), (14, 13)], 'Beautiful': [(3, 1)], 'complex': [(5, 23)], 'Sparse': [(8, 1)], 'Complex': [(6, 1)], 'counts': [(9, 13)], 'be': [(15, 14)], 'The': [(1, 1)], 't': [(10, 20)], 'rules': [(10, 50)], 'In': [(14, 1)], 'complicated': [(6, 24)], 'is': [(3, 11), (4, 10), (5, 8), (6, 9), (7, 6), (8, 8)], 'better': [(3, 14), (4, 13), (5, 11), (6, 12), (7, 9), (8, 11)], 'Although': [(11, 1)], 'explicitly': [(13, 8)], 'face': [(14, 8)], 'enough': [(10, 30)], 'than': [(3, 21), (4, 20), (5, 18), (6, 19), (7, 16), (8, 18)], 'Simple': [(5, 1)]}\n",
      "one\n",
      "setdefault: [(15, 17)]\n",
      "{'pass': [(12, 21)], 'implicit': [(4, 25)], 'and': [(15, 23)], 'silenced': [(13, 19)], 'the': [(10, 46), (14, 4), (14, 34)], 'Readability': [(9, 1)], 'to': [(10, 37), (14, 49)], 'never': [(12, 15)], 'practicality': [(11, 10)], 'should': [(12, 8), (15, 7)], 'Unless': [(13, 1)], 'silently': [(12, 26)], 'Errors': [(12, 1)], 'guess': [(14, 52)], 'There': [(15, 1)], 'Python': [(1, 12)], 'break': [(10, 40)], 'Tim': [(1, 23)], 'cases': [(10, 9)], 'preferably': [(15, 27)], 'dense': [(8, 23)], 'ugly': [(3, 26)], 'Zen': [(1, 5)], 'aren': [(10, 15)], 'Special': [(10, 1)], 'by': [(1, 20)], 'beats': [(11, 23)], 'Peters': [(1, 27)], 'one': [(15, 17), (15, 43)], 'special': [(10, 22)], 'purity': [(11, 29)], 'refuse': [(14, 27)], 'Flat': [(7, 1)], 'ambiguity': [(14, 16)], 'only': [(15, 38)], 'temptation': [(14, 38)], 'nested': [(7, 21)], 'Explicit': [(4, 1)], 'of': [(1, 9), (14, 13)], 'Beautiful': [(3, 1)], 'complex': [(5, 23)], 'Sparse': [(8, 1)], 'Complex': [(6, 1)], 'counts': [(9, 13)], 'be': [(15, 14)], 'The': [(1, 1)], 't': [(10, 20)], 'rules': [(10, 50)], 'In': [(14, 1)], 'complicated': [(6, 24)], 'is': [(3, 11), (4, 10), (5, 8), (6, 9), (7, 6), (8, 8)], 'better': [(3, 14), (4, 13), (5, 11), (6, 12), (7, 9), (8, 11)], 'Although': [(11, 1)], 'explicitly': [(13, 8)], 'face': [(14, 8)], 'enough': [(10, 30)], 'than': [(3, 21), (4, 20), (5, 18), (6, 19), (7, 16), (8, 18)], 'Simple': [(5, 1)]}\n",
      "obvious\n",
      "setdefault: []\n",
      "{'pass': [(12, 21)], 'implicit': [(4, 25)], 'and': [(15, 23)], 'silenced': [(13, 19)], 'the': [(10, 46), (14, 4), (14, 34)], 'Readability': [(9, 1)], 'obvious': [(15, 49)], 'to': [(10, 37), (14, 49)], 'never': [(12, 15)], 'practicality': [(11, 10)], 'should': [(12, 8), (15, 7)], 'Unless': [(13, 1)], 'silently': [(12, 26)], 'Errors': [(12, 1)], 'guess': [(14, 52)], 'There': [(15, 1)], 'Python': [(1, 12)], 'break': [(10, 40)], 'Tim': [(1, 23)], 'cases': [(10, 9)], 'preferably': [(15, 27)], 'dense': [(8, 23)], 'ugly': [(3, 26)], 'Zen': [(1, 5)], 'aren': [(10, 15)], 'Special': [(10, 1)], 'by': [(1, 20)], 'beats': [(11, 23)], 'Peters': [(1, 27)], 'one': [(15, 17), (15, 43)], 'special': [(10, 22)], 'purity': [(11, 29)], 'refuse': [(14, 27)], 'Flat': [(7, 1)], 'ambiguity': [(14, 16)], 'only': [(15, 38)], 'temptation': [(14, 38)], 'nested': [(7, 21)], 'Explicit': [(4, 1)], 'of': [(1, 9), (14, 13)], 'Beautiful': [(3, 1)], 'complex': [(5, 23)], 'Sparse': [(8, 1)], 'Complex': [(6, 1)], 'counts': [(9, 13)], 'be': [(15, 14)], 'The': [(1, 1)], 't': [(10, 20)], 'rules': [(10, 50)], 'In': [(14, 1)], 'complicated': [(6, 24)], 'is': [(3, 11), (4, 10), (5, 8), (6, 9), (7, 6), (8, 8)], 'better': [(3, 14), (4, 13), (5, 11), (6, 12), (7, 9), (8, 11)], 'Although': [(11, 1)], 'explicitly': [(13, 8)], 'face': [(14, 8)], 'enough': [(10, 30)], 'than': [(3, 21), (4, 20), (5, 18), (6, 19), (7, 16), (8, 18)], 'Simple': [(5, 1)]}\n",
      "way\n",
      "setdefault: []\n",
      "{'pass': [(12, 21)], 'implicit': [(4, 25)], 'and': [(15, 23)], 'silenced': [(13, 19)], 'way': [(15, 57)], 'the': [(10, 46), (14, 4), (14, 34)], 'Readability': [(9, 1)], 'obvious': [(15, 49)], 'to': [(10, 37), (14, 49)], 'never': [(12, 15)], 'practicality': [(11, 10)], 'should': [(12, 8), (15, 7)], 'Unless': [(13, 1)], 'silently': [(12, 26)], 'Errors': [(12, 1)], 'guess': [(14, 52)], 'There': [(15, 1)], 'Python': [(1, 12)], 'break': [(10, 40)], 'Tim': [(1, 23)], 'cases': [(10, 9)], 'preferably': [(15, 27)], 'dense': [(8, 23)], 'ugly': [(3, 26)], 'Zen': [(1, 5)], 'aren': [(10, 15)], 'Special': [(10, 1)], 'by': [(1, 20)], 'beats': [(11, 23)], 'Peters': [(1, 27)], 'one': [(15, 17), (15, 43)], 'special': [(10, 22)], 'purity': [(11, 29)], 'refuse': [(14, 27)], 'Flat': [(7, 1)], 'ambiguity': [(14, 16)], 'only': [(15, 38)], 'temptation': [(14, 38)], 'nested': [(7, 21)], 'Explicit': [(4, 1)], 'of': [(1, 9), (14, 13)], 'Beautiful': [(3, 1)], 'complex': [(5, 23)], 'Sparse': [(8, 1)], 'Complex': [(6, 1)], 'counts': [(9, 13)], 'be': [(15, 14)], 'The': [(1, 1)], 't': [(10, 20)], 'rules': [(10, 50)], 'In': [(14, 1)], 'complicated': [(6, 24)], 'is': [(3, 11), (4, 10), (5, 8), (6, 9), (7, 6), (8, 8)], 'better': [(3, 14), (4, 13), (5, 11), (6, 12), (7, 9), (8, 11)], 'Although': [(11, 1)], 'explicitly': [(13, 8)], 'face': [(14, 8)], 'enough': [(10, 30)], 'than': [(3, 21), (4, 20), (5, 18), (6, 19), (7, 16), (8, 18)], 'Simple': [(5, 1)]}\n",
      "to\n",
      "setdefault: [(10, 37), (14, 49)]\n",
      "{'pass': [(12, 21)], 'implicit': [(4, 25)], 'and': [(15, 23)], 'silenced': [(13, 19)], 'way': [(15, 57)], 'the': [(10, 46), (14, 4), (14, 34)], 'Readability': [(9, 1)], 'obvious': [(15, 49)], 'to': [(10, 37), (14, 49), (15, 61)], 'never': [(12, 15)], 'practicality': [(11, 10)], 'should': [(12, 8), (15, 7)], 'Unless': [(13, 1)], 'silently': [(12, 26)], 'Errors': [(12, 1)], 'guess': [(14, 52)], 'There': [(15, 1)], 'Python': [(1, 12)], 'break': [(10, 40)], 'Tim': [(1, 23)], 'cases': [(10, 9)], 'preferably': [(15, 27)], 'dense': [(8, 23)], 'ugly': [(3, 26)], 'Zen': [(1, 5)], 'aren': [(10, 15)], 'Special': [(10, 1)], 'by': [(1, 20)], 'beats': [(11, 23)], 'Peters': [(1, 27)], 'one': [(15, 17), (15, 43)], 'special': [(10, 22)], 'purity': [(11, 29)], 'refuse': [(14, 27)], 'Flat': [(7, 1)], 'ambiguity': [(14, 16)], 'only': [(15, 38)], 'temptation': [(14, 38)], 'nested': [(7, 21)], 'Explicit': [(4, 1)], 'of': [(1, 9), (14, 13)], 'Beautiful': [(3, 1)], 'complex': [(5, 23)], 'Sparse': [(8, 1)], 'Complex': [(6, 1)], 'counts': [(9, 13)], 'be': [(15, 14)], 'The': [(1, 1)], 't': [(10, 20)], 'rules': [(10, 50)], 'In': [(14, 1)], 'complicated': [(6, 24)], 'is': [(3, 11), (4, 10), (5, 8), (6, 9), (7, 6), (8, 8)], 'better': [(3, 14), (4, 13), (5, 11), (6, 12), (7, 9), (8, 11)], 'Although': [(11, 1)], 'explicitly': [(13, 8)], 'face': [(14, 8)], 'enough': [(10, 30)], 'than': [(3, 21), (4, 20), (5, 18), (6, 19), (7, 16), (8, 18)], 'Simple': [(5, 1)]}\n",
      "do\n",
      "setdefault: []\n",
      "{'pass': [(12, 21)], 'implicit': [(4, 25)], 'and': [(15, 23)], 'silenced': [(13, 19)], 'way': [(15, 57)], 'the': [(10, 46), (14, 4), (14, 34)], 'Readability': [(9, 1)], 'obvious': [(15, 49)], 'to': [(10, 37), (14, 49), (15, 61)], 'never': [(12, 15)], 'practicality': [(11, 10)], 'should': [(12, 8), (15, 7)], 'Unless': [(13, 1)], 'silently': [(12, 26)], 'Errors': [(12, 1)], 'guess': [(14, 52)], 'There': [(15, 1)], 'Python': [(1, 12)], 'break': [(10, 40)], 'Tim': [(1, 23)], 'cases': [(10, 9)], 'preferably': [(15, 27)], 'do': [(15, 64)], 'dense': [(8, 23)], 'ugly': [(3, 26)], 'Zen': [(1, 5)], 'aren': [(10, 15)], 'Special': [(10, 1)], 'by': [(1, 20)], 'beats': [(11, 23)], 'Peters': [(1, 27)], 'one': [(15, 17), (15, 43)], 'special': [(10, 22)], 'purity': [(11, 29)], 'refuse': [(14, 27)], 'Flat': [(7, 1)], 'ambiguity': [(14, 16)], 'only': [(15, 38)], 'temptation': [(14, 38)], 'nested': [(7, 21)], 'Explicit': [(4, 1)], 'of': [(1, 9), (14, 13)], 'Beautiful': [(3, 1)], 'complex': [(5, 23)], 'Sparse': [(8, 1)], 'Complex': [(6, 1)], 'counts': [(9, 13)], 'be': [(15, 14)], 'The': [(1, 1)], 't': [(10, 20)], 'rules': [(10, 50)], 'In': [(14, 1)], 'complicated': [(6, 24)], 'is': [(3, 11), (4, 10), (5, 8), (6, 9), (7, 6), (8, 8)], 'better': [(3, 14), (4, 13), (5, 11), (6, 12), (7, 9), (8, 11)], 'Although': [(11, 1)], 'explicitly': [(13, 8)], 'face': [(14, 8)], 'enough': [(10, 30)], 'than': [(3, 21), (4, 20), (5, 18), (6, 19), (7, 16), (8, 18)], 'Simple': [(5, 1)]}\n",
      "it\n",
      "setdefault: []\n",
      "{'pass': [(12, 21)], 'implicit': [(4, 25)], 'and': [(15, 23)], 'silenced': [(13, 19)], 'way': [(15, 57)], 'the': [(10, 46), (14, 4), (14, 34)], 'Readability': [(9, 1)], 'obvious': [(15, 49)], 'to': [(10, 37), (14, 49), (15, 61)], 'never': [(12, 15)], 'practicality': [(11, 10)], 'should': [(12, 8), (15, 7)], 'Unless': [(13, 1)], 'silently': [(12, 26)], 'Errors': [(12, 1)], 'guess': [(14, 52)], 'There': [(15, 1)], 'Python': [(1, 12)], 'break': [(10, 40)], 'Tim': [(1, 23)], 'cases': [(10, 9)], 'preferably': [(15, 27)], 'do': [(15, 64)], 'dense': [(8, 23)], 'ugly': [(3, 26)], 'Zen': [(1, 5)], 'aren': [(10, 15)], 'Special': [(10, 1)], 'by': [(1, 20)], 'beats': [(11, 23)], 'Peters': [(1, 27)], 'one': [(15, 17), (15, 43)], 'special': [(10, 22)], 'purity': [(11, 29)], 'refuse': [(14, 27)], 'it': [(15, 67)], 'Flat': [(7, 1)], 'ambiguity': [(14, 16)], 'only': [(15, 38)], 'temptation': [(14, 38)], 'nested': [(7, 21)], 'Explicit': [(4, 1)], 'of': [(1, 9), (14, 13)], 'Beautiful': [(3, 1)], 'complex': [(5, 23)], 'Sparse': [(8, 1)], 'Complex': [(6, 1)], 'counts': [(9, 13)], 'be': [(15, 14)], 'The': [(1, 1)], 't': [(10, 20)], 'rules': [(10, 50)], 'In': [(14, 1)], 'complicated': [(6, 24)], 'is': [(3, 11), (4, 10), (5, 8), (6, 9), (7, 6), (8, 8)], 'better': [(3, 14), (4, 13), (5, 11), (6, 12), (7, 9), (8, 11)], 'Although': [(11, 1)], 'explicitly': [(13, 8)], 'face': [(14, 8)], 'enough': [(10, 30)], 'than': [(3, 21), (4, 20), (5, 18), (6, 19), (7, 16), (8, 18)], 'Simple': [(5, 1)]}\n",
      "Although\n",
      "setdefault: [(11, 1)]\n",
      "{'pass': [(12, 21)], 'implicit': [(4, 25)], 'and': [(15, 23)], 'silenced': [(13, 19)], 'way': [(15, 57)], 'the': [(10, 46), (14, 4), (14, 34)], 'Readability': [(9, 1)], 'obvious': [(15, 49)], 'to': [(10, 37), (14, 49), (15, 61)], 'never': [(12, 15)], 'practicality': [(11, 10)], 'should': [(12, 8), (15, 7)], 'Unless': [(13, 1)], 'silently': [(12, 26)], 'Errors': [(12, 1)], 'guess': [(14, 52)], 'There': [(15, 1)], 'Python': [(1, 12)], 'break': [(10, 40)], 'Tim': [(1, 23)], 'cases': [(10, 9)], 'preferably': [(15, 27)], 'do': [(15, 64)], 'dense': [(8, 23)], 'ugly': [(3, 26)], 'Zen': [(1, 5)], 'aren': [(10, 15)], 'Special': [(10, 1)], 'by': [(1, 20)], 'beats': [(11, 23)], 'Peters': [(1, 27)], 'one': [(15, 17), (15, 43)], 'special': [(10, 22)], 'purity': [(11, 29)], 'refuse': [(14, 27)], 'it': [(15, 67)], 'Flat': [(7, 1)], 'ambiguity': [(14, 16)], 'only': [(15, 38)], 'temptation': [(14, 38)], 'nested': [(7, 21)], 'Explicit': [(4, 1)], 'of': [(1, 9), (14, 13)], 'Beautiful': [(3, 1)], 'complex': [(5, 23)], 'Sparse': [(8, 1)], 'Complex': [(6, 1)], 'counts': [(9, 13)], 'be': [(15, 14)], 'The': [(1, 1)], 't': [(10, 20)], 'rules': [(10, 50)], 'In': [(14, 1)], 'complicated': [(6, 24)], 'is': [(3, 11), (4, 10), (5, 8), (6, 9), (7, 6), (8, 8)], 'better': [(3, 14), (4, 13), (5, 11), (6, 12), (7, 9), (8, 11)], 'Although': [(11, 1), (16, 1)], 'explicitly': [(13, 8)], 'face': [(14, 8)], 'enough': [(10, 30)], 'than': [(3, 21), (4, 20), (5, 18), (6, 19), (7, 16), (8, 18)], 'Simple': [(5, 1)]}\n",
      "that\n",
      "setdefault: []\n",
      "{'pass': [(12, 21)], 'implicit': [(4, 25)], 'and': [(15, 23)], 'silenced': [(13, 19)], 'way': [(15, 57)], 'the': [(10, 46), (14, 4), (14, 34)], 'Readability': [(9, 1)], 'obvious': [(15, 49)], 'to': [(10, 37), (14, 49), (15, 61)], 'never': [(12, 15)], 'practicality': [(11, 10)], 'should': [(12, 8), (15, 7)], 'Unless': [(13, 1)], 'silently': [(12, 26)], 'Errors': [(12, 1)], 'guess': [(14, 52)], 'There': [(15, 1)], 'Python': [(1, 12)], 'break': [(10, 40)], 'Tim': [(1, 23)], 'cases': [(10, 9)], 'preferably': [(15, 27)], 'do': [(15, 64)], 'dense': [(8, 23)], 'ugly': [(3, 26)], 'Zen': [(1, 5)], 'aren': [(10, 15)], 'Special': [(10, 1)], 'by': [(1, 20)], 'beats': [(11, 23)], 'Peters': [(1, 27)], 'one': [(15, 17), (15, 43)], 'special': [(10, 22)], 'purity': [(11, 29)], 'refuse': [(14, 27)], 'it': [(15, 67)], 'Flat': [(7, 1)], 'ambiguity': [(14, 16)], 'only': [(15, 38)], 'temptation': [(14, 38)], 'nested': [(7, 21)], 'Explicit': [(4, 1)], 'of': [(1, 9), (14, 13)], 'Beautiful': [(3, 1)], 'complex': [(5, 23)], 'Sparse': [(8, 1)], 'Complex': [(6, 1)], 'counts': [(9, 13)], 'be': [(15, 14)], 'The': [(1, 1)], 't': [(10, 20)], 'rules': [(10, 50)], 'In': [(14, 1)], 'that': [(16, 10)], 'complicated': [(6, 24)], 'is': [(3, 11), (4, 10), (5, 8), (6, 9), (7, 6), (8, 8)], 'better': [(3, 14), (4, 13), (5, 11), (6, 12), (7, 9), (8, 11)], 'Although': [(11, 1), (16, 1)], 'explicitly': [(13, 8)], 'face': [(14, 8)], 'enough': [(10, 30)], 'than': [(3, 21), (4, 20), (5, 18), (6, 19), (7, 16), (8, 18)], 'Simple': [(5, 1)]}\n",
      "way\n",
      "setdefault: [(15, 57)]\n",
      "{'pass': [(12, 21)], 'implicit': [(4, 25)], 'and': [(15, 23)], 'silenced': [(13, 19)], 'way': [(15, 57), (16, 15)], 'the': [(10, 46), (14, 4), (14, 34)], 'Readability': [(9, 1)], 'obvious': [(15, 49)], 'to': [(10, 37), (14, 49), (15, 61)], 'never': [(12, 15)], 'practicality': [(11, 10)], 'should': [(12, 8), (15, 7)], 'Unless': [(13, 1)], 'silently': [(12, 26)], 'Errors': [(12, 1)], 'guess': [(14, 52)], 'There': [(15, 1)], 'Python': [(1, 12)], 'break': [(10, 40)], 'Tim': [(1, 23)], 'cases': [(10, 9)], 'preferably': [(15, 27)], 'do': [(15, 64)], 'dense': [(8, 23)], 'ugly': [(3, 26)], 'Zen': [(1, 5)], 'aren': [(10, 15)], 'Special': [(10, 1)], 'by': [(1, 20)], 'beats': [(11, 23)], 'Peters': [(1, 27)], 'one': [(15, 17), (15, 43)], 'special': [(10, 22)], 'purity': [(11, 29)], 'refuse': [(14, 27)], 'it': [(15, 67)], 'Flat': [(7, 1)], 'ambiguity': [(14, 16)], 'only': [(15, 38)], 'temptation': [(14, 38)], 'nested': [(7, 21)], 'Explicit': [(4, 1)], 'of': [(1, 9), (14, 13)], 'Beautiful': [(3, 1)], 'complex': [(5, 23)], 'Sparse': [(8, 1)], 'Complex': [(6, 1)], 'counts': [(9, 13)], 'be': [(15, 14)], 'The': [(1, 1)], 't': [(10, 20)], 'rules': [(10, 50)], 'In': [(14, 1)], 'that': [(16, 10)], 'complicated': [(6, 24)], 'is': [(3, 11), (4, 10), (5, 8), (6, 9), (7, 6), (8, 8)], 'better': [(3, 14), (4, 13), (5, 11), (6, 12), (7, 9), (8, 11)], 'Although': [(11, 1), (16, 1)], 'explicitly': [(13, 8)], 'face': [(14, 8)], 'enough': [(10, 30)], 'than': [(3, 21), (4, 20), (5, 18), (6, 19), (7, 16), (8, 18)], 'Simple': [(5, 1)]}\n",
      "may\n",
      "setdefault: []\n",
      "{'pass': [(12, 21)], 'implicit': [(4, 25)], 'and': [(15, 23)], 'silenced': [(13, 19)], 'way': [(15, 57), (16, 15)], 'the': [(10, 46), (14, 4), (14, 34)], 'may': [(16, 19)], 'Readability': [(9, 1)], 'obvious': [(15, 49)], 'to': [(10, 37), (14, 49), (15, 61)], 'never': [(12, 15)], 'practicality': [(11, 10)], 'should': [(12, 8), (15, 7)], 'Unless': [(13, 1)], 'silently': [(12, 26)], 'Errors': [(12, 1)], 'guess': [(14, 52)], 'There': [(15, 1)], 'Python': [(1, 12)], 'break': [(10, 40)], 'Tim': [(1, 23)], 'cases': [(10, 9)], 'preferably': [(15, 27)], 'do': [(15, 64)], 'dense': [(8, 23)], 'ugly': [(3, 26)], 'Zen': [(1, 5)], 'aren': [(10, 15)], 'Special': [(10, 1)], 'by': [(1, 20)], 'beats': [(11, 23)], 'Peters': [(1, 27)], 'one': [(15, 17), (15, 43)], 'special': [(10, 22)], 'purity': [(11, 29)], 'refuse': [(14, 27)], 'it': [(15, 67)], 'Flat': [(7, 1)], 'ambiguity': [(14, 16)], 'only': [(15, 38)], 'temptation': [(14, 38)], 'nested': [(7, 21)], 'Explicit': [(4, 1)], 'of': [(1, 9), (14, 13)], 'Beautiful': [(3, 1)], 'complex': [(5, 23)], 'Sparse': [(8, 1)], 'Complex': [(6, 1)], 'counts': [(9, 13)], 'be': [(15, 14)], 'The': [(1, 1)], 't': [(10, 20)], 'rules': [(10, 50)], 'In': [(14, 1)], 'that': [(16, 10)], 'complicated': [(6, 24)], 'is': [(3, 11), (4, 10), (5, 8), (6, 9), (7, 6), (8, 8)], 'better': [(3, 14), (4, 13), (5, 11), (6, 12), (7, 9), (8, 11)], 'Although': [(11, 1), (16, 1)], 'explicitly': [(13, 8)], 'face': [(14, 8)], 'enough': [(10, 30)], 'than': [(3, 21), (4, 20), (5, 18), (6, 19), (7, 16), (8, 18)], 'Simple': [(5, 1)]}\n",
      "not\n",
      "setdefault: []\n",
      "{'pass': [(12, 21)], 'implicit': [(4, 25)], 'and': [(15, 23)], 'silenced': [(13, 19)], 'way': [(15, 57), (16, 15)], 'the': [(10, 46), (14, 4), (14, 34)], 'may': [(16, 19)], 'Readability': [(9, 1)], 'obvious': [(15, 49)], 'to': [(10, 37), (14, 49), (15, 61)], 'never': [(12, 15)], 'practicality': [(11, 10)], 'should': [(12, 8), (15, 7)], 'Unless': [(13, 1)], 'silently': [(12, 26)], 'not': [(16, 23)], 'Errors': [(12, 1)], 'guess': [(14, 52)], 'There': [(15, 1)], 'Python': [(1, 12)], 'break': [(10, 40)], 'Tim': [(1, 23)], 'cases': [(10, 9)], 'preferably': [(15, 27)], 'do': [(15, 64)], 'dense': [(8, 23)], 'ugly': [(3, 26)], 'Zen': [(1, 5)], 'aren': [(10, 15)], 'Special': [(10, 1)], 'by': [(1, 20)], 'beats': [(11, 23)], 'Peters': [(1, 27)], 'one': [(15, 17), (15, 43)], 'special': [(10, 22)], 'purity': [(11, 29)], 'refuse': [(14, 27)], 'it': [(15, 67)], 'Flat': [(7, 1)], 'ambiguity': [(14, 16)], 'only': [(15, 38)], 'temptation': [(14, 38)], 'nested': [(7, 21)], 'Explicit': [(4, 1)], 'of': [(1, 9), (14, 13)], 'Beautiful': [(3, 1)], 'complex': [(5, 23)], 'Sparse': [(8, 1)], 'Complex': [(6, 1)], 'counts': [(9, 13)], 'be': [(15, 14)], 'The': [(1, 1)], 't': [(10, 20)], 'rules': [(10, 50)], 'In': [(14, 1)], 'that': [(16, 10)], 'complicated': [(6, 24)], 'is': [(3, 11), (4, 10), (5, 8), (6, 9), (7, 6), (8, 8)], 'better': [(3, 14), (4, 13), (5, 11), (6, 12), (7, 9), (8, 11)], 'Although': [(11, 1), (16, 1)], 'explicitly': [(13, 8)], 'face': [(14, 8)], 'enough': [(10, 30)], 'than': [(3, 21), (4, 20), (5, 18), (6, 19), (7, 16), (8, 18)], 'Simple': [(5, 1)]}\n",
      "be\n",
      "setdefault: [(15, 14)]\n",
      "{'pass': [(12, 21)], 'implicit': [(4, 25)], 'and': [(15, 23)], 'silenced': [(13, 19)], 'way': [(15, 57), (16, 15)], 'the': [(10, 46), (14, 4), (14, 34)], 'may': [(16, 19)], 'Readability': [(9, 1)], 'obvious': [(15, 49)], 'to': [(10, 37), (14, 49), (15, 61)], 'never': [(12, 15)], 'practicality': [(11, 10)], 'should': [(12, 8), (15, 7)], 'Unless': [(13, 1)], 'silently': [(12, 26)], 'not': [(16, 23)], 'Errors': [(12, 1)], 'guess': [(14, 52)], 'There': [(15, 1)], 'Python': [(1, 12)], 'break': [(10, 40)], 'Tim': [(1, 23)], 'cases': [(10, 9)], 'preferably': [(15, 27)], 'do': [(15, 64)], 'dense': [(8, 23)], 'ugly': [(3, 26)], 'Zen': [(1, 5)], 'aren': [(10, 15)], 'Special': [(10, 1)], 'by': [(1, 20)], 'beats': [(11, 23)], 'Peters': [(1, 27)], 'one': [(15, 17), (15, 43)], 'special': [(10, 22)], 'purity': [(11, 29)], 'refuse': [(14, 27)], 'it': [(15, 67)], 'Flat': [(7, 1)], 'ambiguity': [(14, 16)], 'only': [(15, 38)], 'temptation': [(14, 38)], 'nested': [(7, 21)], 'Explicit': [(4, 1)], 'of': [(1, 9), (14, 13)], 'Beautiful': [(3, 1)], 'complex': [(5, 23)], 'Sparse': [(8, 1)], 'Complex': [(6, 1)], 'counts': [(9, 13)], 'be': [(15, 14), (16, 27)], 'The': [(1, 1)], 't': [(10, 20)], 'rules': [(10, 50)], 'In': [(14, 1)], 'that': [(16, 10)], 'complicated': [(6, 24)], 'is': [(3, 11), (4, 10), (5, 8), (6, 9), (7, 6), (8, 8)], 'better': [(3, 14), (4, 13), (5, 11), (6, 12), (7, 9), (8, 11)], 'Although': [(11, 1), (16, 1)], 'explicitly': [(13, 8)], 'face': [(14, 8)], 'enough': [(10, 30)], 'than': [(3, 21), (4, 20), (5, 18), (6, 19), (7, 16), (8, 18)], 'Simple': [(5, 1)]}\n",
      "obvious\n",
      "setdefault: [(15, 49)]\n",
      "{'pass': [(12, 21)], 'implicit': [(4, 25)], 'and': [(15, 23)], 'silenced': [(13, 19)], 'way': [(15, 57), (16, 15)], 'the': [(10, 46), (14, 4), (14, 34)], 'may': [(16, 19)], 'Readability': [(9, 1)], 'obvious': [(15, 49), (16, 30)], 'to': [(10, 37), (14, 49), (15, 61)], 'never': [(12, 15)], 'practicality': [(11, 10)], 'should': [(12, 8), (15, 7)], 'Unless': [(13, 1)], 'silently': [(12, 26)], 'not': [(16, 23)], 'Errors': [(12, 1)], 'guess': [(14, 52)], 'There': [(15, 1)], 'Python': [(1, 12)], 'break': [(10, 40)], 'Tim': [(1, 23)], 'cases': [(10, 9)], 'preferably': [(15, 27)], 'do': [(15, 64)], 'dense': [(8, 23)], 'ugly': [(3, 26)], 'Zen': [(1, 5)], 'aren': [(10, 15)], 'Special': [(10, 1)], 'by': [(1, 20)], 'beats': [(11, 23)], 'Peters': [(1, 27)], 'one': [(15, 17), (15, 43)], 'special': [(10, 22)], 'purity': [(11, 29)], 'refuse': [(14, 27)], 'it': [(15, 67)], 'Flat': [(7, 1)], 'ambiguity': [(14, 16)], 'only': [(15, 38)], 'temptation': [(14, 38)], 'nested': [(7, 21)], 'Explicit': [(4, 1)], 'of': [(1, 9), (14, 13)], 'Beautiful': [(3, 1)], 'complex': [(5, 23)], 'Sparse': [(8, 1)], 'Complex': [(6, 1)], 'counts': [(9, 13)], 'be': [(15, 14), (16, 27)], 'The': [(1, 1)], 't': [(10, 20)], 'rules': [(10, 50)], 'In': [(14, 1)], 'that': [(16, 10)], 'complicated': [(6, 24)], 'is': [(3, 11), (4, 10), (5, 8), (6, 9), (7, 6), (8, 8)], 'better': [(3, 14), (4, 13), (5, 11), (6, 12), (7, 9), (8, 11)], 'Although': [(11, 1), (16, 1)], 'explicitly': [(13, 8)], 'face': [(14, 8)], 'enough': [(10, 30)], 'than': [(3, 21), (4, 20), (5, 18), (6, 19), (7, 16), (8, 18)], 'Simple': [(5, 1)]}\n",
      "at\n",
      "setdefault: []\n",
      "{'pass': [(12, 21)], 'implicit': [(4, 25)], 'and': [(15, 23)], 'silenced': [(13, 19)], 'way': [(15, 57), (16, 15)], 'the': [(10, 46), (14, 4), (14, 34)], 'at': [(16, 38)], 'may': [(16, 19)], 'Readability': [(9, 1)], 'obvious': [(15, 49), (16, 30)], 'to': [(10, 37), (14, 49), (15, 61)], 'never': [(12, 15)], 'practicality': [(11, 10)], 'should': [(12, 8), (15, 7)], 'Unless': [(13, 1)], 'silently': [(12, 26)], 'not': [(16, 23)], 'Errors': [(12, 1)], 'guess': [(14, 52)], 'There': [(15, 1)], 'Python': [(1, 12)], 'break': [(10, 40)], 'Tim': [(1, 23)], 'cases': [(10, 9)], 'preferably': [(15, 27)], 'do': [(15, 64)], 'dense': [(8, 23)], 'ugly': [(3, 26)], 'Zen': [(1, 5)], 'aren': [(10, 15)], 'Special': [(10, 1)], 'by': [(1, 20)], 'beats': [(11, 23)], 'Peters': [(1, 27)], 'one': [(15, 17), (15, 43)], 'special': [(10, 22)], 'purity': [(11, 29)], 'refuse': [(14, 27)], 'it': [(15, 67)], 'Flat': [(7, 1)], 'ambiguity': [(14, 16)], 'only': [(15, 38)], 'temptation': [(14, 38)], 'nested': [(7, 21)], 'Explicit': [(4, 1)], 'of': [(1, 9), (14, 13)], 'Beautiful': [(3, 1)], 'complex': [(5, 23)], 'Sparse': [(8, 1)], 'Complex': [(6, 1)], 'counts': [(9, 13)], 'be': [(15, 14), (16, 27)], 'The': [(1, 1)], 't': [(10, 20)], 'rules': [(10, 50)], 'In': [(14, 1)], 'that': [(16, 10)], 'complicated': [(6, 24)], 'is': [(3, 11), (4, 10), (5, 8), (6, 9), (7, 6), (8, 8)], 'better': [(3, 14), (4, 13), (5, 11), (6, 12), (7, 9), (8, 11)], 'Although': [(11, 1), (16, 1)], 'explicitly': [(13, 8)], 'face': [(14, 8)], 'enough': [(10, 30)], 'than': [(3, 21), (4, 20), (5, 18), (6, 19), (7, 16), (8, 18)], 'Simple': [(5, 1)]}\n",
      "first\n",
      "setdefault: []\n",
      "{'pass': [(12, 21)], 'implicit': [(4, 25)], 'and': [(15, 23)], 'silenced': [(13, 19)], 'way': [(15, 57), (16, 15)], 'the': [(10, 46), (14, 4), (14, 34)], 'at': [(16, 38)], 'may': [(16, 19)], 'Readability': [(9, 1)], 'obvious': [(15, 49), (16, 30)], 'to': [(10, 37), (14, 49), (15, 61)], 'never': [(12, 15)], 'practicality': [(11, 10)], 'should': [(12, 8), (15, 7)], 'Unless': [(13, 1)], 'silently': [(12, 26)], 'not': [(16, 23)], 'Errors': [(12, 1)], 'guess': [(14, 52)], 'There': [(15, 1)], 'Python': [(1, 12)], 'break': [(10, 40)], 'Tim': [(1, 23)], 'cases': [(10, 9)], 'preferably': [(15, 27)], 'do': [(15, 64)], 'dense': [(8, 23)], 'ugly': [(3, 26)], 'Zen': [(1, 5)], 'aren': [(10, 15)], 'Special': [(10, 1)], 'by': [(1, 20)], 'beats': [(11, 23)], 'Peters': [(1, 27)], 'one': [(15, 17), (15, 43)], 'special': [(10, 22)], 'purity': [(11, 29)], 'refuse': [(14, 27)], 'it': [(15, 67)], 'Flat': [(7, 1)], 'ambiguity': [(14, 16)], 'only': [(15, 38)], 'temptation': [(14, 38)], 'nested': [(7, 21)], 'Explicit': [(4, 1)], 'of': [(1, 9), (14, 13)], 'Beautiful': [(3, 1)], 'complex': [(5, 23)], 'Sparse': [(8, 1)], 'Complex': [(6, 1)], 'counts': [(9, 13)], 'be': [(15, 14), (16, 27)], 'The': [(1, 1)], 't': [(10, 20)], 'rules': [(10, 50)], 'In': [(14, 1)], 'that': [(16, 10)], 'complicated': [(6, 24)], 'is': [(3, 11), (4, 10), (5, 8), (6, 9), (7, 6), (8, 8)], 'better': [(3, 14), (4, 13), (5, 11), (6, 12), (7, 9), (8, 11)], 'Although': [(11, 1), (16, 1)], 'explicitly': [(13, 8)], 'first': [(16, 41)], 'face': [(14, 8)], 'enough': [(10, 30)], 'than': [(3, 21), (4, 20), (5, 18), (6, 19), (7, 16), (8, 18)], 'Simple': [(5, 1)]}\n",
      "unless\n",
      "setdefault: []\n",
      "{'pass': [(12, 21)], 'implicit': [(4, 25)], 'and': [(15, 23)], 'silenced': [(13, 19)], 'way': [(15, 57), (16, 15)], 'the': [(10, 46), (14, 4), (14, 34)], 'at': [(16, 38)], 'may': [(16, 19)], 'Readability': [(9, 1)], 'obvious': [(15, 49), (16, 30)], 'to': [(10, 37), (14, 49), (15, 61)], 'never': [(12, 15)], 'practicality': [(11, 10)], 'should': [(12, 8), (15, 7)], 'Unless': [(13, 1)], 'silently': [(12, 26)], 'not': [(16, 23)], 'Errors': [(12, 1)], 'guess': [(14, 52)], 'There': [(15, 1)], 'Python': [(1, 12)], 'break': [(10, 40)], 'Tim': [(1, 23)], 'cases': [(10, 9)], 'preferably': [(15, 27)], 'do': [(15, 64)], 'dense': [(8, 23)], 'ugly': [(3, 26)], 'Zen': [(1, 5)], 'aren': [(10, 15)], 'Special': [(10, 1)], 'by': [(1, 20)], 'beats': [(11, 23)], 'Peters': [(1, 27)], 'one': [(15, 17), (15, 43)], 'special': [(10, 22)], 'purity': [(11, 29)], 'refuse': [(14, 27)], 'it': [(15, 67)], 'Flat': [(7, 1)], 'ambiguity': [(14, 16)], 'only': [(15, 38)], 'temptation': [(14, 38)], 'nested': [(7, 21)], 'Explicit': [(4, 1)], 'of': [(1, 9), (14, 13)], 'Beautiful': [(3, 1)], 'complex': [(5, 23)], 'Sparse': [(8, 1)], 'Complex': [(6, 1)], 'counts': [(9, 13)], 'be': [(15, 14), (16, 27)], 'unless': [(16, 47)], 'The': [(1, 1)], 't': [(10, 20)], 'rules': [(10, 50)], 'In': [(14, 1)], 'that': [(16, 10)], 'complicated': [(6, 24)], 'is': [(3, 11), (4, 10), (5, 8), (6, 9), (7, 6), (8, 8)], 'better': [(3, 14), (4, 13), (5, 11), (6, 12), (7, 9), (8, 11)], 'Although': [(11, 1), (16, 1)], 'explicitly': [(13, 8)], 'first': [(16, 41)], 'face': [(14, 8)], 'enough': [(10, 30)], 'than': [(3, 21), (4, 20), (5, 18), (6, 19), (7, 16), (8, 18)], 'Simple': [(5, 1)]}\n",
      "you\n",
      "setdefault: []\n",
      "{'pass': [(12, 21)], 'implicit': [(4, 25)], 'and': [(15, 23)], 'silenced': [(13, 19)], 'way': [(15, 57), (16, 15)], 'the': [(10, 46), (14, 4), (14, 34)], 'at': [(16, 38)], 'may': [(16, 19)], 'Readability': [(9, 1)], 'obvious': [(15, 49), (16, 30)], 'to': [(10, 37), (14, 49), (15, 61)], 'never': [(12, 15)], 'practicality': [(11, 10)], 'should': [(12, 8), (15, 7)], 'Unless': [(13, 1)], 'silently': [(12, 26)], 'not': [(16, 23)], 'Errors': [(12, 1)], 'guess': [(14, 52)], 'There': [(15, 1)], 'Python': [(1, 12)], 'break': [(10, 40)], 'Tim': [(1, 23)], 'cases': [(10, 9)], 'preferably': [(15, 27)], 'do': [(15, 64)], 'dense': [(8, 23)], 'ugly': [(3, 26)], 'Zen': [(1, 5)], 'aren': [(10, 15)], 'Special': [(10, 1)], 'by': [(1, 20)], 'beats': [(11, 23)], 'Peters': [(1, 27)], 'one': [(15, 17), (15, 43)], 'special': [(10, 22)], 'purity': [(11, 29)], 'refuse': [(14, 27)], 'it': [(15, 67)], 'Flat': [(7, 1)], 'ambiguity': [(14, 16)], 'only': [(15, 38)], 'temptation': [(14, 38)], 'nested': [(7, 21)], 'Explicit': [(4, 1)], 'of': [(1, 9), (14, 13)], 'Beautiful': [(3, 1)], 'complex': [(5, 23)], 'Sparse': [(8, 1)], 'Complex': [(6, 1)], 'you': [(16, 54)], 'counts': [(9, 13)], 'be': [(15, 14), (16, 27)], 'unless': [(16, 47)], 'The': [(1, 1)], 't': [(10, 20)], 'rules': [(10, 50)], 'In': [(14, 1)], 'that': [(16, 10)], 'complicated': [(6, 24)], 'is': [(3, 11), (4, 10), (5, 8), (6, 9), (7, 6), (8, 8)], 'better': [(3, 14), (4, 13), (5, 11), (6, 12), (7, 9), (8, 11)], 'Although': [(11, 1), (16, 1)], 'explicitly': [(13, 8)], 'first': [(16, 41)], 'face': [(14, 8)], 'enough': [(10, 30)], 'than': [(3, 21), (4, 20), (5, 18), (6, 19), (7, 16), (8, 18)], 'Simple': [(5, 1)]}\n",
      "re\n",
      "setdefault: []\n",
      "{'pass': [(12, 21)], 'implicit': [(4, 25)], 'and': [(15, 23)], 'silenced': [(13, 19)], 'way': [(15, 57), (16, 15)], 'the': [(10, 46), (14, 4), (14, 34)], 'at': [(16, 38)], 'may': [(16, 19)], 'Readability': [(9, 1)], 'obvious': [(15, 49), (16, 30)], 'to': [(10, 37), (14, 49), (15, 61)], 'never': [(12, 15)], 'practicality': [(11, 10)], 'should': [(12, 8), (15, 7)], 'Unless': [(13, 1)], 'silently': [(12, 26)], 'not': [(16, 23)], 'Errors': [(12, 1)], 'guess': [(14, 52)], 'There': [(15, 1)], 'Python': [(1, 12)], 'break': [(10, 40)], 'Tim': [(1, 23)], 'cases': [(10, 9)], 'preferably': [(15, 27)], 'do': [(15, 64)], 're': [(16, 58)], 'dense': [(8, 23)], 'ugly': [(3, 26)], 'Zen': [(1, 5)], 'aren': [(10, 15)], 'Special': [(10, 1)], 'by': [(1, 20)], 'beats': [(11, 23)], 'Peters': [(1, 27)], 'one': [(15, 17), (15, 43)], 'special': [(10, 22)], 'purity': [(11, 29)], 'refuse': [(14, 27)], 'it': [(15, 67)], 'Flat': [(7, 1)], 'ambiguity': [(14, 16)], 'only': [(15, 38)], 'temptation': [(14, 38)], 'nested': [(7, 21)], 'Explicit': [(4, 1)], 'of': [(1, 9), (14, 13)], 'Beautiful': [(3, 1)], 'complex': [(5, 23)], 'Sparse': [(8, 1)], 'Complex': [(6, 1)], 'you': [(16, 54)], 'counts': [(9, 13)], 'be': [(15, 14), (16, 27)], 'unless': [(16, 47)], 'The': [(1, 1)], 't': [(10, 20)], 'rules': [(10, 50)], 'In': [(14, 1)], 'that': [(16, 10)], 'complicated': [(6, 24)], 'is': [(3, 11), (4, 10), (5, 8), (6, 9), (7, 6), (8, 8)], 'better': [(3, 14), (4, 13), (5, 11), (6, 12), (7, 9), (8, 11)], 'Although': [(11, 1), (16, 1)], 'explicitly': [(13, 8)], 'first': [(16, 41)], 'face': [(14, 8)], 'enough': [(10, 30)], 'than': [(3, 21), (4, 20), (5, 18), (6, 19), (7, 16), (8, 18)], 'Simple': [(5, 1)]}\n",
      "Dutch\n",
      "setdefault: []\n",
      "{'pass': [(12, 21)], 'implicit': [(4, 25)], 'and': [(15, 23)], 'silenced': [(13, 19)], 'way': [(15, 57), (16, 15)], 'the': [(10, 46), (14, 4), (14, 34)], 'at': [(16, 38)], 'may': [(16, 19)], 'Readability': [(9, 1)], 'obvious': [(15, 49), (16, 30)], 'to': [(10, 37), (14, 49), (15, 61)], 'never': [(12, 15)], 'practicality': [(11, 10)], 'should': [(12, 8), (15, 7)], 'Unless': [(13, 1)], 'silently': [(12, 26)], 'not': [(16, 23)], 'Errors': [(12, 1)], 'guess': [(14, 52)], 'There': [(15, 1)], 'Python': [(1, 12)], 'break': [(10, 40)], 'Tim': [(1, 23)], 'cases': [(10, 9)], 'preferably': [(15, 27)], 'do': [(15, 64)], 're': [(16, 58)], 'dense': [(8, 23)], 'ugly': [(3, 26)], 'Zen': [(1, 5)], 'aren': [(10, 15)], 'Special': [(10, 1)], 'by': [(1, 20)], 'beats': [(11, 23)], 'Peters': [(1, 27)], 'one': [(15, 17), (15, 43)], 'special': [(10, 22)], 'purity': [(11, 29)], 'refuse': [(14, 27)], 'it': [(15, 67)], 'Flat': [(7, 1)], 'ambiguity': [(14, 16)], 'only': [(15, 38)], 'temptation': [(14, 38)], 'nested': [(7, 21)], 'Explicit': [(4, 1)], 'of': [(1, 9), (14, 13)], 'Beautiful': [(3, 1)], 'complex': [(5, 23)], 'Sparse': [(8, 1)], 'Complex': [(6, 1)], 'you': [(16, 54)], 'counts': [(9, 13)], 'be': [(15, 14), (16, 27)], 'unless': [(16, 47)], 'The': [(1, 1)], 't': [(10, 20)], 'rules': [(10, 50)], 'In': [(14, 1)], 'that': [(16, 10)], 'complicated': [(6, 24)], 'is': [(3, 11), (4, 10), (5, 8), (6, 9), (7, 6), (8, 8)], 'Dutch': [(16, 61)], 'better': [(3, 14), (4, 13), (5, 11), (6, 12), (7, 9), (8, 11)], 'Although': [(11, 1), (16, 1)], 'explicitly': [(13, 8)], 'first': [(16, 41)], 'face': [(14, 8)], 'enough': [(10, 30)], 'than': [(3, 21), (4, 20), (5, 18), (6, 19), (7, 16), (8, 18)], 'Simple': [(5, 1)]}\n",
      "Now\n",
      "setdefault: []\n",
      "{'pass': [(12, 21)], 'implicit': [(4, 25)], 'and': [(15, 23)], 'silenced': [(13, 19)], 'way': [(15, 57), (16, 15)], 'the': [(10, 46), (14, 4), (14, 34)], 'at': [(16, 38)], 'may': [(16, 19)], 'Readability': [(9, 1)], 'obvious': [(15, 49), (16, 30)], 'to': [(10, 37), (14, 49), (15, 61)], 'never': [(12, 15)], 'practicality': [(11, 10)], 'should': [(12, 8), (15, 7)], 'Unless': [(13, 1)], 'silently': [(12, 26)], 'not': [(16, 23)], 'Errors': [(12, 1)], 'guess': [(14, 52)], 'There': [(15, 1)], 'Python': [(1, 12)], 'break': [(10, 40)], 'Tim': [(1, 23)], 'cases': [(10, 9)], 'preferably': [(15, 27)], 'do': [(15, 64)], 're': [(16, 58)], 'dense': [(8, 23)], 'ugly': [(3, 26)], 'Zen': [(1, 5)], 'aren': [(10, 15)], 'Special': [(10, 1)], 'by': [(1, 20)], 'beats': [(11, 23)], 'Now': [(17, 1)], 'Peters': [(1, 27)], 'one': [(15, 17), (15, 43)], 'special': [(10, 22)], 'purity': [(11, 29)], 'refuse': [(14, 27)], 'it': [(15, 67)], 'Flat': [(7, 1)], 'ambiguity': [(14, 16)], 'only': [(15, 38)], 'temptation': [(14, 38)], 'nested': [(7, 21)], 'Explicit': [(4, 1)], 'of': [(1, 9), (14, 13)], 'Beautiful': [(3, 1)], 'complex': [(5, 23)], 'Sparse': [(8, 1)], 'Complex': [(6, 1)], 'you': [(16, 54)], 'counts': [(9, 13)], 'be': [(15, 14), (16, 27)], 'unless': [(16, 47)], 'The': [(1, 1)], 't': [(10, 20)], 'rules': [(10, 50)], 'In': [(14, 1)], 'that': [(16, 10)], 'complicated': [(6, 24)], 'is': [(3, 11), (4, 10), (5, 8), (6, 9), (7, 6), (8, 8)], 'Dutch': [(16, 61)], 'better': [(3, 14), (4, 13), (5, 11), (6, 12), (7, 9), (8, 11)], 'Although': [(11, 1), (16, 1)], 'explicitly': [(13, 8)], 'first': [(16, 41)], 'face': [(14, 8)], 'enough': [(10, 30)], 'than': [(3, 21), (4, 20), (5, 18), (6, 19), (7, 16), (8, 18)], 'Simple': [(5, 1)]}\n",
      "is\n",
      "setdefault: [(3, 11), (4, 10), (5, 8), (6, 9), (7, 6), (8, 8)]\n",
      "{'pass': [(12, 21)], 'implicit': [(4, 25)], 'and': [(15, 23)], 'silenced': [(13, 19)], 'way': [(15, 57), (16, 15)], 'the': [(10, 46), (14, 4), (14, 34)], 'at': [(16, 38)], 'may': [(16, 19)], 'Readability': [(9, 1)], 'obvious': [(15, 49), (16, 30)], 'to': [(10, 37), (14, 49), (15, 61)], 'never': [(12, 15)], 'practicality': [(11, 10)], 'should': [(12, 8), (15, 7)], 'Unless': [(13, 1)], 'silently': [(12, 26)], 'not': [(16, 23)], 'Errors': [(12, 1)], 'guess': [(14, 52)], 'There': [(15, 1)], 'Python': [(1, 12)], 'break': [(10, 40)], 'Tim': [(1, 23)], 'cases': [(10, 9)], 'preferably': [(15, 27)], 'do': [(15, 64)], 're': [(16, 58)], 'dense': [(8, 23)], 'ugly': [(3, 26)], 'Zen': [(1, 5)], 'aren': [(10, 15)], 'Special': [(10, 1)], 'by': [(1, 20)], 'beats': [(11, 23)], 'Now': [(17, 1)], 'Peters': [(1, 27)], 'one': [(15, 17), (15, 43)], 'special': [(10, 22)], 'purity': [(11, 29)], 'refuse': [(14, 27)], 'it': [(15, 67)], 'Flat': [(7, 1)], 'ambiguity': [(14, 16)], 'only': [(15, 38)], 'temptation': [(14, 38)], 'nested': [(7, 21)], 'Explicit': [(4, 1)], 'of': [(1, 9), (14, 13)], 'Beautiful': [(3, 1)], 'complex': [(5, 23)], 'Sparse': [(8, 1)], 'Complex': [(6, 1)], 'you': [(16, 54)], 'counts': [(9, 13)], 'be': [(15, 14), (16, 27)], 'unless': [(16, 47)], 'The': [(1, 1)], 't': [(10, 20)], 'rules': [(10, 50)], 'In': [(14, 1)], 'that': [(16, 10)], 'complicated': [(6, 24)], 'is': [(3, 11), (4, 10), (5, 8), (6, 9), (7, 6), (8, 8), (17, 5)], 'Dutch': [(16, 61)], 'better': [(3, 14), (4, 13), (5, 11), (6, 12), (7, 9), (8, 11)], 'Although': [(11, 1), (16, 1)], 'explicitly': [(13, 8)], 'first': [(16, 41)], 'face': [(14, 8)], 'enough': [(10, 30)], 'than': [(3, 21), (4, 20), (5, 18), (6, 19), (7, 16), (8, 18)], 'Simple': [(5, 1)]}\n",
      "better\n",
      "setdefault: [(3, 14), (4, 13), (5, 11), (6, 12), (7, 9), (8, 11)]\n",
      "{'pass': [(12, 21)], 'implicit': [(4, 25)], 'and': [(15, 23)], 'silenced': [(13, 19)], 'way': [(15, 57), (16, 15)], 'the': [(10, 46), (14, 4), (14, 34)], 'at': [(16, 38)], 'may': [(16, 19)], 'Readability': [(9, 1)], 'obvious': [(15, 49), (16, 30)], 'to': [(10, 37), (14, 49), (15, 61)], 'never': [(12, 15)], 'practicality': [(11, 10)], 'should': [(12, 8), (15, 7)], 'Unless': [(13, 1)], 'silently': [(12, 26)], 'not': [(16, 23)], 'Errors': [(12, 1)], 'guess': [(14, 52)], 'There': [(15, 1)], 'Python': [(1, 12)], 'break': [(10, 40)], 'Tim': [(1, 23)], 'cases': [(10, 9)], 'preferably': [(15, 27)], 'do': [(15, 64)], 're': [(16, 58)], 'dense': [(8, 23)], 'ugly': [(3, 26)], 'Zen': [(1, 5)], 'aren': [(10, 15)], 'Special': [(10, 1)], 'by': [(1, 20)], 'beats': [(11, 23)], 'Now': [(17, 1)], 'Peters': [(1, 27)], 'one': [(15, 17), (15, 43)], 'special': [(10, 22)], 'purity': [(11, 29)], 'refuse': [(14, 27)], 'it': [(15, 67)], 'Flat': [(7, 1)], 'ambiguity': [(14, 16)], 'only': [(15, 38)], 'temptation': [(14, 38)], 'nested': [(7, 21)], 'Explicit': [(4, 1)], 'of': [(1, 9), (14, 13)], 'Beautiful': [(3, 1)], 'complex': [(5, 23)], 'Sparse': [(8, 1)], 'Complex': [(6, 1)], 'you': [(16, 54)], 'counts': [(9, 13)], 'be': [(15, 14), (16, 27)], 'unless': [(16, 47)], 'The': [(1, 1)], 't': [(10, 20)], 'rules': [(10, 50)], 'In': [(14, 1)], 'that': [(16, 10)], 'complicated': [(6, 24)], 'is': [(3, 11), (4, 10), (5, 8), (6, 9), (7, 6), (8, 8), (17, 5)], 'Dutch': [(16, 61)], 'better': [(3, 14), (4, 13), (5, 11), (6, 12), (7, 9), (8, 11), (17, 8)], 'Although': [(11, 1), (16, 1)], 'explicitly': [(13, 8)], 'first': [(16, 41)], 'face': [(14, 8)], 'enough': [(10, 30)], 'than': [(3, 21), (4, 20), (5, 18), (6, 19), (7, 16), (8, 18)], 'Simple': [(5, 1)]}\n",
      "than\n",
      "setdefault: [(3, 21), (4, 20), (5, 18), (6, 19), (7, 16), (8, 18)]\n",
      "{'pass': [(12, 21)], 'implicit': [(4, 25)], 'and': [(15, 23)], 'silenced': [(13, 19)], 'way': [(15, 57), (16, 15)], 'the': [(10, 46), (14, 4), (14, 34)], 'at': [(16, 38)], 'may': [(16, 19)], 'Readability': [(9, 1)], 'obvious': [(15, 49), (16, 30)], 'to': [(10, 37), (14, 49), (15, 61)], 'never': [(12, 15)], 'practicality': [(11, 10)], 'should': [(12, 8), (15, 7)], 'Unless': [(13, 1)], 'silently': [(12, 26)], 'not': [(16, 23)], 'Errors': [(12, 1)], 'guess': [(14, 52)], 'There': [(15, 1)], 'Python': [(1, 12)], 'break': [(10, 40)], 'Tim': [(1, 23)], 'cases': [(10, 9)], 'preferably': [(15, 27)], 'do': [(15, 64)], 're': [(16, 58)], 'dense': [(8, 23)], 'ugly': [(3, 26)], 'Zen': [(1, 5)], 'aren': [(10, 15)], 'Special': [(10, 1)], 'by': [(1, 20)], 'beats': [(11, 23)], 'Now': [(17, 1)], 'Peters': [(1, 27)], 'one': [(15, 17), (15, 43)], 'special': [(10, 22)], 'purity': [(11, 29)], 'refuse': [(14, 27)], 'it': [(15, 67)], 'Flat': [(7, 1)], 'ambiguity': [(14, 16)], 'only': [(15, 38)], 'temptation': [(14, 38)], 'nested': [(7, 21)], 'Explicit': [(4, 1)], 'of': [(1, 9), (14, 13)], 'Beautiful': [(3, 1)], 'complex': [(5, 23)], 'Sparse': [(8, 1)], 'Complex': [(6, 1)], 'you': [(16, 54)], 'counts': [(9, 13)], 'be': [(15, 14), (16, 27)], 'unless': [(16, 47)], 'The': [(1, 1)], 't': [(10, 20)], 'rules': [(10, 50)], 'In': [(14, 1)], 'that': [(16, 10)], 'complicated': [(6, 24)], 'is': [(3, 11), (4, 10), (5, 8), (6, 9), (7, 6), (8, 8), (17, 5)], 'Dutch': [(16, 61)], 'better': [(3, 14), (4, 13), (5, 11), (6, 12), (7, 9), (8, 11), (17, 8)], 'Although': [(11, 1), (16, 1)], 'explicitly': [(13, 8)], 'first': [(16, 41)], 'face': [(14, 8)], 'enough': [(10, 30)], 'than': [(3, 21), (4, 20), (5, 18), (6, 19), (7, 16), (8, 18), (17, 15)], 'Simple': [(5, 1)]}\n",
      "never\n",
      "setdefault: [(12, 15)]\n",
      "{'pass': [(12, 21)], 'implicit': [(4, 25)], 'and': [(15, 23)], 'silenced': [(13, 19)], 'way': [(15, 57), (16, 15)], 'the': [(10, 46), (14, 4), (14, 34)], 'at': [(16, 38)], 'may': [(16, 19)], 'Readability': [(9, 1)], 'obvious': [(15, 49), (16, 30)], 'to': [(10, 37), (14, 49), (15, 61)], 'never': [(12, 15), (17, 20)], 'practicality': [(11, 10)], 'should': [(12, 8), (15, 7)], 'Unless': [(13, 1)], 'silently': [(12, 26)], 'not': [(16, 23)], 'Errors': [(12, 1)], 'guess': [(14, 52)], 'There': [(15, 1)], 'Python': [(1, 12)], 'break': [(10, 40)], 'Tim': [(1, 23)], 'cases': [(10, 9)], 'preferably': [(15, 27)], 'do': [(15, 64)], 're': [(16, 58)], 'dense': [(8, 23)], 'ugly': [(3, 26)], 'Zen': [(1, 5)], 'aren': [(10, 15)], 'Special': [(10, 1)], 'by': [(1, 20)], 'beats': [(11, 23)], 'Now': [(17, 1)], 'Peters': [(1, 27)], 'one': [(15, 17), (15, 43)], 'special': [(10, 22)], 'purity': [(11, 29)], 'refuse': [(14, 27)], 'it': [(15, 67)], 'Flat': [(7, 1)], 'ambiguity': [(14, 16)], 'only': [(15, 38)], 'temptation': [(14, 38)], 'nested': [(7, 21)], 'Explicit': [(4, 1)], 'of': [(1, 9), (14, 13)], 'Beautiful': [(3, 1)], 'complex': [(5, 23)], 'Sparse': [(8, 1)], 'Complex': [(6, 1)], 'you': [(16, 54)], 'counts': [(9, 13)], 'be': [(15, 14), (16, 27)], 'unless': [(16, 47)], 'The': [(1, 1)], 't': [(10, 20)], 'rules': [(10, 50)], 'In': [(14, 1)], 'that': [(16, 10)], 'complicated': [(6, 24)], 'is': [(3, 11), (4, 10), (5, 8), (6, 9), (7, 6), (8, 8), (17, 5)], 'Dutch': [(16, 61)], 'better': [(3, 14), (4, 13), (5, 11), (6, 12), (7, 9), (8, 11), (17, 8)], 'Although': [(11, 1), (16, 1)], 'explicitly': [(13, 8)], 'first': [(16, 41)], 'face': [(14, 8)], 'enough': [(10, 30)], 'than': [(3, 21), (4, 20), (5, 18), (6, 19), (7, 16), (8, 18), (17, 15)], 'Simple': [(5, 1)]}\n",
      "Although\n",
      "setdefault: [(11, 1), (16, 1)]\n",
      "{'pass': [(12, 21)], 'implicit': [(4, 25)], 'and': [(15, 23)], 'silenced': [(13, 19)], 'way': [(15, 57), (16, 15)], 'the': [(10, 46), (14, 4), (14, 34)], 'at': [(16, 38)], 'may': [(16, 19)], 'Readability': [(9, 1)], 'obvious': [(15, 49), (16, 30)], 'to': [(10, 37), (14, 49), (15, 61)], 'never': [(12, 15), (17, 20)], 'practicality': [(11, 10)], 'should': [(12, 8), (15, 7)], 'Unless': [(13, 1)], 'silently': [(12, 26)], 'not': [(16, 23)], 'Errors': [(12, 1)], 'guess': [(14, 52)], 'There': [(15, 1)], 'Python': [(1, 12)], 'break': [(10, 40)], 'Tim': [(1, 23)], 'cases': [(10, 9)], 'preferably': [(15, 27)], 'do': [(15, 64)], 're': [(16, 58)], 'dense': [(8, 23)], 'ugly': [(3, 26)], 'Zen': [(1, 5)], 'aren': [(10, 15)], 'Special': [(10, 1)], 'by': [(1, 20)], 'beats': [(11, 23)], 'Now': [(17, 1)], 'Peters': [(1, 27)], 'one': [(15, 17), (15, 43)], 'special': [(10, 22)], 'purity': [(11, 29)], 'refuse': [(14, 27)], 'it': [(15, 67)], 'Flat': [(7, 1)], 'ambiguity': [(14, 16)], 'only': [(15, 38)], 'temptation': [(14, 38)], 'nested': [(7, 21)], 'Explicit': [(4, 1)], 'of': [(1, 9), (14, 13)], 'Beautiful': [(3, 1)], 'complex': [(5, 23)], 'Sparse': [(8, 1)], 'Complex': [(6, 1)], 'you': [(16, 54)], 'counts': [(9, 13)], 'be': [(15, 14), (16, 27)], 'unless': [(16, 47)], 'The': [(1, 1)], 't': [(10, 20)], 'rules': [(10, 50)], 'In': [(14, 1)], 'that': [(16, 10)], 'complicated': [(6, 24)], 'is': [(3, 11), (4, 10), (5, 8), (6, 9), (7, 6), (8, 8), (17, 5)], 'Dutch': [(16, 61)], 'better': [(3, 14), (4, 13), (5, 11), (6, 12), (7, 9), (8, 11), (17, 8)], 'Although': [(11, 1), (16, 1), (18, 1)], 'explicitly': [(13, 8)], 'first': [(16, 41)], 'face': [(14, 8)], 'enough': [(10, 30)], 'than': [(3, 21), (4, 20), (5, 18), (6, 19), (7, 16), (8, 18), (17, 15)], 'Simple': [(5, 1)]}\n",
      "never\n",
      "setdefault: [(12, 15), (17, 20)]\n",
      "{'pass': [(12, 21)], 'implicit': [(4, 25)], 'and': [(15, 23)], 'silenced': [(13, 19)], 'way': [(15, 57), (16, 15)], 'the': [(10, 46), (14, 4), (14, 34)], 'at': [(16, 38)], 'may': [(16, 19)], 'Readability': [(9, 1)], 'obvious': [(15, 49), (16, 30)], 'to': [(10, 37), (14, 49), (15, 61)], 'never': [(12, 15), (17, 20), (18, 10)], 'practicality': [(11, 10)], 'should': [(12, 8), (15, 7)], 'Unless': [(13, 1)], 'silently': [(12, 26)], 'not': [(16, 23)], 'Errors': [(12, 1)], 'guess': [(14, 52)], 'There': [(15, 1)], 'Python': [(1, 12)], 'break': [(10, 40)], 'Tim': [(1, 23)], 'cases': [(10, 9)], 'preferably': [(15, 27)], 'do': [(15, 64)], 're': [(16, 58)], 'dense': [(8, 23)], 'ugly': [(3, 26)], 'Zen': [(1, 5)], 'aren': [(10, 15)], 'Special': [(10, 1)], 'by': [(1, 20)], 'beats': [(11, 23)], 'Now': [(17, 1)], 'Peters': [(1, 27)], 'one': [(15, 17), (15, 43)], 'special': [(10, 22)], 'purity': [(11, 29)], 'refuse': [(14, 27)], 'it': [(15, 67)], 'Flat': [(7, 1)], 'ambiguity': [(14, 16)], 'only': [(15, 38)], 'temptation': [(14, 38)], 'nested': [(7, 21)], 'Explicit': [(4, 1)], 'of': [(1, 9), (14, 13)], 'Beautiful': [(3, 1)], 'complex': [(5, 23)], 'Sparse': [(8, 1)], 'Complex': [(6, 1)], 'you': [(16, 54)], 'counts': [(9, 13)], 'be': [(15, 14), (16, 27)], 'unless': [(16, 47)], 'The': [(1, 1)], 't': [(10, 20)], 'rules': [(10, 50)], 'In': [(14, 1)], 'that': [(16, 10)], 'complicated': [(6, 24)], 'is': [(3, 11), (4, 10), (5, 8), (6, 9), (7, 6), (8, 8), (17, 5)], 'Dutch': [(16, 61)], 'better': [(3, 14), (4, 13), (5, 11), (6, 12), (7, 9), (8, 11), (17, 8)], 'Although': [(11, 1), (16, 1), (18, 1)], 'explicitly': [(13, 8)], 'first': [(16, 41)], 'face': [(14, 8)], 'enough': [(10, 30)], 'than': [(3, 21), (4, 20), (5, 18), (6, 19), (7, 16), (8, 18), (17, 15)], 'Simple': [(5, 1)]}\n",
      "is\n",
      "setdefault: [(3, 11), (4, 10), (5, 8), (6, 9), (7, 6), (8, 8), (17, 5)]\n",
      "{'pass': [(12, 21)], 'implicit': [(4, 25)], 'and': [(15, 23)], 'silenced': [(13, 19)], 'way': [(15, 57), (16, 15)], 'the': [(10, 46), (14, 4), (14, 34)], 'at': [(16, 38)], 'may': [(16, 19)], 'Readability': [(9, 1)], 'obvious': [(15, 49), (16, 30)], 'to': [(10, 37), (14, 49), (15, 61)], 'never': [(12, 15), (17, 20), (18, 10)], 'practicality': [(11, 10)], 'should': [(12, 8), (15, 7)], 'Unless': [(13, 1)], 'silently': [(12, 26)], 'not': [(16, 23)], 'Errors': [(12, 1)], 'guess': [(14, 52)], 'There': [(15, 1)], 'Python': [(1, 12)], 'break': [(10, 40)], 'Tim': [(1, 23)], 'cases': [(10, 9)], 'preferably': [(15, 27)], 'do': [(15, 64)], 're': [(16, 58)], 'dense': [(8, 23)], 'ugly': [(3, 26)], 'Zen': [(1, 5)], 'aren': [(10, 15)], 'Special': [(10, 1)], 'by': [(1, 20)], 'beats': [(11, 23)], 'Now': [(17, 1)], 'Peters': [(1, 27)], 'one': [(15, 17), (15, 43)], 'special': [(10, 22)], 'purity': [(11, 29)], 'refuse': [(14, 27)], 'it': [(15, 67)], 'Flat': [(7, 1)], 'ambiguity': [(14, 16)], 'only': [(15, 38)], 'temptation': [(14, 38)], 'nested': [(7, 21)], 'Explicit': [(4, 1)], 'of': [(1, 9), (14, 13)], 'Beautiful': [(3, 1)], 'complex': [(5, 23)], 'Sparse': [(8, 1)], 'Complex': [(6, 1)], 'you': [(16, 54)], 'counts': [(9, 13)], 'be': [(15, 14), (16, 27)], 'unless': [(16, 47)], 'The': [(1, 1)], 't': [(10, 20)], 'rules': [(10, 50)], 'In': [(14, 1)], 'that': [(16, 10)], 'complicated': [(6, 24)], 'is': [(3, 11), (4, 10), (5, 8), (6, 9), (7, 6), (8, 8), (17, 5), (18, 16)], 'Dutch': [(16, 61)], 'better': [(3, 14), (4, 13), (5, 11), (6, 12), (7, 9), (8, 11), (17, 8)], 'Although': [(11, 1), (16, 1), (18, 1)], 'explicitly': [(13, 8)], 'first': [(16, 41)], 'face': [(14, 8)], 'enough': [(10, 30)], 'than': [(3, 21), (4, 20), (5, 18), (6, 19), (7, 16), (8, 18), (17, 15)], 'Simple': [(5, 1)]}\n",
      "often\n",
      "setdefault: []\n",
      "{'pass': [(12, 21)], 'implicit': [(4, 25)], 'and': [(15, 23)], 'silenced': [(13, 19)], 'way': [(15, 57), (16, 15)], 'the': [(10, 46), (14, 4), (14, 34)], 'at': [(16, 38)], 'may': [(16, 19)], 'Readability': [(9, 1)], 'obvious': [(15, 49), (16, 30)], 'to': [(10, 37), (14, 49), (15, 61)], 'never': [(12, 15), (17, 20), (18, 10)], 'practicality': [(11, 10)], 'should': [(12, 8), (15, 7)], 'Unless': [(13, 1)], 'silently': [(12, 26)], 'not': [(16, 23)], 'Errors': [(12, 1)], 'guess': [(14, 52)], 'There': [(15, 1)], 'Python': [(1, 12)], 'break': [(10, 40)], 'Tim': [(1, 23)], 'cases': [(10, 9)], 'preferably': [(15, 27)], 'do': [(15, 64)], 're': [(16, 58)], 'dense': [(8, 23)], 'ugly': [(3, 26)], 'Zen': [(1, 5)], 'aren': [(10, 15)], 'Special': [(10, 1)], 'by': [(1, 20)], 'beats': [(11, 23)], 'Now': [(17, 1)], 'often': [(18, 19)], 'Peters': [(1, 27)], 'one': [(15, 17), (15, 43)], 'special': [(10, 22)], 'purity': [(11, 29)], 'refuse': [(14, 27)], 'it': [(15, 67)], 'Flat': [(7, 1)], 'ambiguity': [(14, 16)], 'only': [(15, 38)], 'temptation': [(14, 38)], 'nested': [(7, 21)], 'Explicit': [(4, 1)], 'of': [(1, 9), (14, 13)], 'Beautiful': [(3, 1)], 'complex': [(5, 23)], 'Sparse': [(8, 1)], 'Complex': [(6, 1)], 'you': [(16, 54)], 'counts': [(9, 13)], 'be': [(15, 14), (16, 27)], 'unless': [(16, 47)], 'The': [(1, 1)], 't': [(10, 20)], 'rules': [(10, 50)], 'In': [(14, 1)], 'that': [(16, 10)], 'complicated': [(6, 24)], 'is': [(3, 11), (4, 10), (5, 8), (6, 9), (7, 6), (8, 8), (17, 5), (18, 16)], 'Dutch': [(16, 61)], 'better': [(3, 14), (4, 13), (5, 11), (6, 12), (7, 9), (8, 11), (17, 8)], 'Although': [(11, 1), (16, 1), (18, 1)], 'explicitly': [(13, 8)], 'first': [(16, 41)], 'face': [(14, 8)], 'enough': [(10, 30)], 'than': [(3, 21), (4, 20), (5, 18), (6, 19), (7, 16), (8, 18), (17, 15)], 'Simple': [(5, 1)]}\n",
      "better\n",
      "setdefault: [(3, 14), (4, 13), (5, 11), (6, 12), (7, 9), (8, 11), (17, 8)]\n",
      "{'pass': [(12, 21)], 'implicit': [(4, 25)], 'and': [(15, 23)], 'silenced': [(13, 19)], 'way': [(15, 57), (16, 15)], 'the': [(10, 46), (14, 4), (14, 34)], 'at': [(16, 38)], 'may': [(16, 19)], 'Readability': [(9, 1)], 'obvious': [(15, 49), (16, 30)], 'to': [(10, 37), (14, 49), (15, 61)], 'never': [(12, 15), (17, 20), (18, 10)], 'practicality': [(11, 10)], 'should': [(12, 8), (15, 7)], 'Unless': [(13, 1)], 'silently': [(12, 26)], 'not': [(16, 23)], 'Errors': [(12, 1)], 'guess': [(14, 52)], 'There': [(15, 1)], 'Python': [(1, 12)], 'break': [(10, 40)], 'Tim': [(1, 23)], 'cases': [(10, 9)], 'preferably': [(15, 27)], 'do': [(15, 64)], 're': [(16, 58)], 'dense': [(8, 23)], 'ugly': [(3, 26)], 'Zen': [(1, 5)], 'aren': [(10, 15)], 'Special': [(10, 1)], 'by': [(1, 20)], 'beats': [(11, 23)], 'Now': [(17, 1)], 'often': [(18, 19)], 'Peters': [(1, 27)], 'one': [(15, 17), (15, 43)], 'special': [(10, 22)], 'purity': [(11, 29)], 'refuse': [(14, 27)], 'it': [(15, 67)], 'Flat': [(7, 1)], 'ambiguity': [(14, 16)], 'only': [(15, 38)], 'temptation': [(14, 38)], 'nested': [(7, 21)], 'Explicit': [(4, 1)], 'of': [(1, 9), (14, 13)], 'Beautiful': [(3, 1)], 'complex': [(5, 23)], 'Sparse': [(8, 1)], 'Complex': [(6, 1)], 'you': [(16, 54)], 'counts': [(9, 13)], 'be': [(15, 14), (16, 27)], 'unless': [(16, 47)], 'The': [(1, 1)], 't': [(10, 20)], 'rules': [(10, 50)], 'In': [(14, 1)], 'that': [(16, 10)], 'complicated': [(6, 24)], 'is': [(3, 11), (4, 10), (5, 8), (6, 9), (7, 6), (8, 8), (17, 5), (18, 16)], 'Dutch': [(16, 61)], 'better': [(3, 14), (4, 13), (5, 11), (6, 12), (7, 9), (8, 11), (17, 8), (18, 25)], 'Although': [(11, 1), (16, 1), (18, 1)], 'explicitly': [(13, 8)], 'first': [(16, 41)], 'face': [(14, 8)], 'enough': [(10, 30)], 'than': [(3, 21), (4, 20), (5, 18), (6, 19), (7, 16), (8, 18), (17, 15)], 'Simple': [(5, 1)]}\n",
      "than\n",
      "setdefault: [(3, 21), (4, 20), (5, 18), (6, 19), (7, 16), (8, 18), (17, 15)]\n",
      "{'pass': [(12, 21)], 'implicit': [(4, 25)], 'and': [(15, 23)], 'silenced': [(13, 19)], 'way': [(15, 57), (16, 15)], 'the': [(10, 46), (14, 4), (14, 34)], 'at': [(16, 38)], 'may': [(16, 19)], 'Readability': [(9, 1)], 'obvious': [(15, 49), (16, 30)], 'to': [(10, 37), (14, 49), (15, 61)], 'never': [(12, 15), (17, 20), (18, 10)], 'practicality': [(11, 10)], 'should': [(12, 8), (15, 7)], 'Unless': [(13, 1)], 'silently': [(12, 26)], 'not': [(16, 23)], 'Errors': [(12, 1)], 'guess': [(14, 52)], 'There': [(15, 1)], 'Python': [(1, 12)], 'break': [(10, 40)], 'Tim': [(1, 23)], 'cases': [(10, 9)], 'preferably': [(15, 27)], 'do': [(15, 64)], 're': [(16, 58)], 'dense': [(8, 23)], 'ugly': [(3, 26)], 'Zen': [(1, 5)], 'aren': [(10, 15)], 'Special': [(10, 1)], 'by': [(1, 20)], 'beats': [(11, 23)], 'Now': [(17, 1)], 'often': [(18, 19)], 'Peters': [(1, 27)], 'one': [(15, 17), (15, 43)], 'special': [(10, 22)], 'purity': [(11, 29)], 'refuse': [(14, 27)], 'it': [(15, 67)], 'Flat': [(7, 1)], 'ambiguity': [(14, 16)], 'only': [(15, 38)], 'temptation': [(14, 38)], 'nested': [(7, 21)], 'Explicit': [(4, 1)], 'of': [(1, 9), (14, 13)], 'Beautiful': [(3, 1)], 'complex': [(5, 23)], 'Sparse': [(8, 1)], 'Complex': [(6, 1)], 'you': [(16, 54)], 'counts': [(9, 13)], 'be': [(15, 14), (16, 27)], 'unless': [(16, 47)], 'The': [(1, 1)], 't': [(10, 20)], 'rules': [(10, 50)], 'In': [(14, 1)], 'that': [(16, 10)], 'complicated': [(6, 24)], 'is': [(3, 11), (4, 10), (5, 8), (6, 9), (7, 6), (8, 8), (17, 5), (18, 16)], 'Dutch': [(16, 61)], 'better': [(3, 14), (4, 13), (5, 11), (6, 12), (7, 9), (8, 11), (17, 8), (18, 25)], 'Although': [(11, 1), (16, 1), (18, 1)], 'explicitly': [(13, 8)], 'first': [(16, 41)], 'face': [(14, 8)], 'enough': [(10, 30)], 'than': [(3, 21), (4, 20), (5, 18), (6, 19), (7, 16), (8, 18), (17, 15), (18, 32)], 'Simple': [(5, 1)]}\n",
      "right\n",
      "setdefault: []\n",
      "{'pass': [(12, 21)], 'implicit': [(4, 25)], 'and': [(15, 23)], 'silenced': [(13, 19)], 'way': [(15, 57), (16, 15)], 'the': [(10, 46), (14, 4), (14, 34)], 'at': [(16, 38)], 'may': [(16, 19)], 'Readability': [(9, 1)], 'obvious': [(15, 49), (16, 30)], 'to': [(10, 37), (14, 49), (15, 61)], 'never': [(12, 15), (17, 20), (18, 10)], 'practicality': [(11, 10)], 'should': [(12, 8), (15, 7)], 'Unless': [(13, 1)], 'silently': [(12, 26)], 'not': [(16, 23)], 'Errors': [(12, 1)], 'guess': [(14, 52)], 'There': [(15, 1)], 'Python': [(1, 12)], 'break': [(10, 40)], 'Tim': [(1, 23)], 'cases': [(10, 9)], 'preferably': [(15, 27)], 'do': [(15, 64)], 're': [(16, 58)], 'dense': [(8, 23)], 'ugly': [(3, 26)], 'Zen': [(1, 5)], 'aren': [(10, 15)], 'Special': [(10, 1)], 'by': [(1, 20)], 'beats': [(11, 23)], 'Now': [(17, 1)], 'often': [(18, 19)], 'Peters': [(1, 27)], 'one': [(15, 17), (15, 43)], 'special': [(10, 22)], 'purity': [(11, 29)], 'refuse': [(14, 27)], 'it': [(15, 67)], 'Flat': [(7, 1)], 'ambiguity': [(14, 16)], 'only': [(15, 38)], 'temptation': [(14, 38)], 'nested': [(7, 21)], 'Explicit': [(4, 1)], 'of': [(1, 9), (14, 13)], 'Beautiful': [(3, 1)], 'complex': [(5, 23)], 'Sparse': [(8, 1)], 'Complex': [(6, 1)], 'you': [(16, 54)], 'counts': [(9, 13)], 'be': [(15, 14), (16, 27)], 'right': [(18, 38)], 'unless': [(16, 47)], 'The': [(1, 1)], 't': [(10, 20)], 'rules': [(10, 50)], 'In': [(14, 1)], 'that': [(16, 10)], 'complicated': [(6, 24)], 'is': [(3, 11), (4, 10), (5, 8), (6, 9), (7, 6), (8, 8), (17, 5), (18, 16)], 'Dutch': [(16, 61)], 'better': [(3, 14), (4, 13), (5, 11), (6, 12), (7, 9), (8, 11), (17, 8), (18, 25)], 'Although': [(11, 1), (16, 1), (18, 1)], 'explicitly': [(13, 8)], 'first': [(16, 41)], 'face': [(14, 8)], 'enough': [(10, 30)], 'than': [(3, 21), (4, 20), (5, 18), (6, 19), (7, 16), (8, 18), (17, 15), (18, 32)], 'Simple': [(5, 1)]}\n",
      "now\n",
      "setdefault: []\n",
      "{'pass': [(12, 21)], 'implicit': [(4, 25)], 'and': [(15, 23)], 'silenced': [(13, 19)], 'way': [(15, 57), (16, 15)], 'the': [(10, 46), (14, 4), (14, 34)], 'at': [(16, 38)], 'may': [(16, 19)], 'Readability': [(9, 1)], 'obvious': [(15, 49), (16, 30)], 'to': [(10, 37), (14, 49), (15, 61)], 'never': [(12, 15), (17, 20), (18, 10)], 'practicality': [(11, 10)], 'should': [(12, 8), (15, 7)], 'Unless': [(13, 1)], 'silently': [(12, 26)], 'not': [(16, 23)], 'Errors': [(12, 1)], 'guess': [(14, 52)], 'There': [(15, 1)], 'Python': [(1, 12)], 'break': [(10, 40)], 'Tim': [(1, 23)], 'cases': [(10, 9)], 'preferably': [(15, 27)], 'do': [(15, 64)], 're': [(16, 58)], 'dense': [(8, 23)], 'ugly': [(3, 26)], 'Zen': [(1, 5)], 'aren': [(10, 15)], 'now': [(18, 45)], 'Special': [(10, 1)], 'by': [(1, 20)], 'beats': [(11, 23)], 'Now': [(17, 1)], 'often': [(18, 19)], 'Peters': [(1, 27)], 'one': [(15, 17), (15, 43)], 'special': [(10, 22)], 'purity': [(11, 29)], 'refuse': [(14, 27)], 'it': [(15, 67)], 'Flat': [(7, 1)], 'ambiguity': [(14, 16)], 'only': [(15, 38)], 'temptation': [(14, 38)], 'nested': [(7, 21)], 'Explicit': [(4, 1)], 'of': [(1, 9), (14, 13)], 'Beautiful': [(3, 1)], 'complex': [(5, 23)], 'Sparse': [(8, 1)], 'Complex': [(6, 1)], 'you': [(16, 54)], 'counts': [(9, 13)], 'be': [(15, 14), (16, 27)], 'right': [(18, 38)], 'unless': [(16, 47)], 'The': [(1, 1)], 't': [(10, 20)], 'rules': [(10, 50)], 'In': [(14, 1)], 'that': [(16, 10)], 'complicated': [(6, 24)], 'is': [(3, 11), (4, 10), (5, 8), (6, 9), (7, 6), (8, 8), (17, 5), (18, 16)], 'Dutch': [(16, 61)], 'better': [(3, 14), (4, 13), (5, 11), (6, 12), (7, 9), (8, 11), (17, 8), (18, 25)], 'Although': [(11, 1), (16, 1), (18, 1)], 'explicitly': [(13, 8)], 'first': [(16, 41)], 'face': [(14, 8)], 'enough': [(10, 30)], 'than': [(3, 21), (4, 20), (5, 18), (6, 19), (7, 16), (8, 18), (17, 15), (18, 32)], 'Simple': [(5, 1)]}\n",
      "If\n",
      "setdefault: []\n",
      "{'pass': [(12, 21)], 'implicit': [(4, 25)], 'and': [(15, 23)], 'silenced': [(13, 19)], 'way': [(15, 57), (16, 15)], 'the': [(10, 46), (14, 4), (14, 34)], 'at': [(16, 38)], 'may': [(16, 19)], 'Readability': [(9, 1)], 'obvious': [(15, 49), (16, 30)], 'to': [(10, 37), (14, 49), (15, 61)], 'never': [(12, 15), (17, 20), (18, 10)], 'practicality': [(11, 10)], 'should': [(12, 8), (15, 7)], 'Unless': [(13, 1)], 'silently': [(12, 26)], 'not': [(16, 23)], 'Errors': [(12, 1)], 'guess': [(14, 52)], 'There': [(15, 1)], 'Python': [(1, 12)], 'break': [(10, 40)], 'Tim': [(1, 23)], 'cases': [(10, 9)], 'preferably': [(15, 27)], 'do': [(15, 64)], 're': [(16, 58)], 'dense': [(8, 23)], 'ugly': [(3, 26)], 'Zen': [(1, 5)], 'aren': [(10, 15)], 'now': [(18, 45)], 'Special': [(10, 1)], 'by': [(1, 20)], 'If': [(19, 1)], 'beats': [(11, 23)], 'Now': [(17, 1)], 'often': [(18, 19)], 'Peters': [(1, 27)], 'one': [(15, 17), (15, 43)], 'special': [(10, 22)], 'purity': [(11, 29)], 'refuse': [(14, 27)], 'it': [(15, 67)], 'Flat': [(7, 1)], 'ambiguity': [(14, 16)], 'only': [(15, 38)], 'temptation': [(14, 38)], 'nested': [(7, 21)], 'Explicit': [(4, 1)], 'of': [(1, 9), (14, 13)], 'Beautiful': [(3, 1)], 'complex': [(5, 23)], 'Sparse': [(8, 1)], 'Complex': [(6, 1)], 'you': [(16, 54)], 'counts': [(9, 13)], 'be': [(15, 14), (16, 27)], 'right': [(18, 38)], 'unless': [(16, 47)], 'The': [(1, 1)], 't': [(10, 20)], 'rules': [(10, 50)], 'In': [(14, 1)], 'that': [(16, 10)], 'complicated': [(6, 24)], 'is': [(3, 11), (4, 10), (5, 8), (6, 9), (7, 6), (8, 8), (17, 5), (18, 16)], 'Dutch': [(16, 61)], 'better': [(3, 14), (4, 13), (5, 11), (6, 12), (7, 9), (8, 11), (17, 8), (18, 25)], 'Although': [(11, 1), (16, 1), (18, 1)], 'explicitly': [(13, 8)], 'first': [(16, 41)], 'face': [(14, 8)], 'enough': [(10, 30)], 'than': [(3, 21), (4, 20), (5, 18), (6, 19), (7, 16), (8, 18), (17, 15), (18, 32)], 'Simple': [(5, 1)]}\n",
      "the\n",
      "setdefault: [(10, 46), (14, 4), (14, 34)]\n",
      "{'pass': [(12, 21)], 'implicit': [(4, 25)], 'and': [(15, 23)], 'silenced': [(13, 19)], 'way': [(15, 57), (16, 15)], 'the': [(10, 46), (14, 4), (14, 34), (19, 4)], 'at': [(16, 38)], 'may': [(16, 19)], 'Readability': [(9, 1)], 'obvious': [(15, 49), (16, 30)], 'to': [(10, 37), (14, 49), (15, 61)], 'never': [(12, 15), (17, 20), (18, 10)], 'practicality': [(11, 10)], 'should': [(12, 8), (15, 7)], 'Unless': [(13, 1)], 'silently': [(12, 26)], 'not': [(16, 23)], 'Errors': [(12, 1)], 'guess': [(14, 52)], 'There': [(15, 1)], 'Python': [(1, 12)], 'break': [(10, 40)], 'Tim': [(1, 23)], 'cases': [(10, 9)], 'preferably': [(15, 27)], 'do': [(15, 64)], 're': [(16, 58)], 'dense': [(8, 23)], 'ugly': [(3, 26)], 'Zen': [(1, 5)], 'aren': [(10, 15)], 'now': [(18, 45)], 'Special': [(10, 1)], 'by': [(1, 20)], 'If': [(19, 1)], 'beats': [(11, 23)], 'Now': [(17, 1)], 'often': [(18, 19)], 'Peters': [(1, 27)], 'one': [(15, 17), (15, 43)], 'special': [(10, 22)], 'purity': [(11, 29)], 'refuse': [(14, 27)], 'it': [(15, 67)], 'Flat': [(7, 1)], 'ambiguity': [(14, 16)], 'only': [(15, 38)], 'temptation': [(14, 38)], 'nested': [(7, 21)], 'Explicit': [(4, 1)], 'of': [(1, 9), (14, 13)], 'Beautiful': [(3, 1)], 'complex': [(5, 23)], 'Sparse': [(8, 1)], 'Complex': [(6, 1)], 'you': [(16, 54)], 'counts': [(9, 13)], 'be': [(15, 14), (16, 27)], 'right': [(18, 38)], 'unless': [(16, 47)], 'The': [(1, 1)], 't': [(10, 20)], 'rules': [(10, 50)], 'In': [(14, 1)], 'that': [(16, 10)], 'complicated': [(6, 24)], 'is': [(3, 11), (4, 10), (5, 8), (6, 9), (7, 6), (8, 8), (17, 5), (18, 16)], 'Dutch': [(16, 61)], 'better': [(3, 14), (4, 13), (5, 11), (6, 12), (7, 9), (8, 11), (17, 8), (18, 25)], 'Although': [(11, 1), (16, 1), (18, 1)], 'explicitly': [(13, 8)], 'first': [(16, 41)], 'face': [(14, 8)], 'enough': [(10, 30)], 'than': [(3, 21), (4, 20), (5, 18), (6, 19), (7, 16), (8, 18), (17, 15), (18, 32)], 'Simple': [(5, 1)]}\n",
      "implementation\n",
      "setdefault: []\n",
      "{'pass': [(12, 21)], 'implicit': [(4, 25)], 'and': [(15, 23)], 'silenced': [(13, 19)], 'way': [(15, 57), (16, 15)], 'the': [(10, 46), (14, 4), (14, 34), (19, 4)], 'at': [(16, 38)], 'may': [(16, 19)], 'Readability': [(9, 1)], 'obvious': [(15, 49), (16, 30)], 'to': [(10, 37), (14, 49), (15, 61)], 'never': [(12, 15), (17, 20), (18, 10)], 'practicality': [(11, 10)], 'should': [(12, 8), (15, 7)], 'Unless': [(13, 1)], 'silently': [(12, 26)], 'not': [(16, 23)], 'Errors': [(12, 1)], 'guess': [(14, 52)], 'There': [(15, 1)], 'Python': [(1, 12)], 'break': [(10, 40)], 'Tim': [(1, 23)], 'cases': [(10, 9)], 'preferably': [(15, 27)], 'do': [(15, 64)], 're': [(16, 58)], 'dense': [(8, 23)], 'ugly': [(3, 26)], 'Zen': [(1, 5)], 'aren': [(10, 15)], 'now': [(18, 45)], 'Special': [(10, 1)], 'by': [(1, 20)], 'If': [(19, 1)], 'beats': [(11, 23)], 'Now': [(17, 1)], 'often': [(18, 19)], 'Peters': [(1, 27)], 'one': [(15, 17), (15, 43)], 'special': [(10, 22)], 'purity': [(11, 29)], 'refuse': [(14, 27)], 'it': [(15, 67)], 'Flat': [(7, 1)], 'ambiguity': [(14, 16)], 'only': [(15, 38)], 'temptation': [(14, 38)], 'nested': [(7, 21)], 'Explicit': [(4, 1)], 'of': [(1, 9), (14, 13)], 'Beautiful': [(3, 1)], 'complex': [(5, 23)], 'Sparse': [(8, 1)], 'Complex': [(6, 1)], 'you': [(16, 54)], 'counts': [(9, 13)], 'be': [(15, 14), (16, 27)], 'right': [(18, 38)], 'unless': [(16, 47)], 'The': [(1, 1)], 't': [(10, 20)], 'rules': [(10, 50)], 'In': [(14, 1)], 'that': [(16, 10)], 'complicated': [(6, 24)], 'is': [(3, 11), (4, 10), (5, 8), (6, 9), (7, 6), (8, 8), (17, 5), (18, 16)], 'Dutch': [(16, 61)], 'better': [(3, 14), (4, 13), (5, 11), (6, 12), (7, 9), (8, 11), (17, 8), (18, 25)], 'Although': [(11, 1), (16, 1), (18, 1)], 'explicitly': [(13, 8)], 'first': [(16, 41)], 'face': [(14, 8)], 'implementation': [(19, 8)], 'enough': [(10, 30)], 'than': [(3, 21), (4, 20), (5, 18), (6, 19), (7, 16), (8, 18), (17, 15), (18, 32)], 'Simple': [(5, 1)]}\n",
      "is\n",
      "setdefault: [(3, 11), (4, 10), (5, 8), (6, 9), (7, 6), (8, 8), (17, 5), (18, 16)]\n",
      "{'pass': [(12, 21)], 'implicit': [(4, 25)], 'and': [(15, 23)], 'silenced': [(13, 19)], 'way': [(15, 57), (16, 15)], 'the': [(10, 46), (14, 4), (14, 34), (19, 4)], 'at': [(16, 38)], 'may': [(16, 19)], 'Readability': [(9, 1)], 'obvious': [(15, 49), (16, 30)], 'to': [(10, 37), (14, 49), (15, 61)], 'never': [(12, 15), (17, 20), (18, 10)], 'practicality': [(11, 10)], 'should': [(12, 8), (15, 7)], 'Unless': [(13, 1)], 'silently': [(12, 26)], 'not': [(16, 23)], 'Errors': [(12, 1)], 'guess': [(14, 52)], 'There': [(15, 1)], 'Python': [(1, 12)], 'break': [(10, 40)], 'Tim': [(1, 23)], 'cases': [(10, 9)], 'preferably': [(15, 27)], 'do': [(15, 64)], 're': [(16, 58)], 'dense': [(8, 23)], 'ugly': [(3, 26)], 'Zen': [(1, 5)], 'aren': [(10, 15)], 'now': [(18, 45)], 'Special': [(10, 1)], 'by': [(1, 20)], 'If': [(19, 1)], 'beats': [(11, 23)], 'Now': [(17, 1)], 'often': [(18, 19)], 'Peters': [(1, 27)], 'one': [(15, 17), (15, 43)], 'special': [(10, 22)], 'purity': [(11, 29)], 'refuse': [(14, 27)], 'it': [(15, 67)], 'Flat': [(7, 1)], 'ambiguity': [(14, 16)], 'only': [(15, 38)], 'temptation': [(14, 38)], 'nested': [(7, 21)], 'Explicit': [(4, 1)], 'of': [(1, 9), (14, 13)], 'Beautiful': [(3, 1)], 'complex': [(5, 23)], 'Sparse': [(8, 1)], 'Complex': [(6, 1)], 'you': [(16, 54)], 'counts': [(9, 13)], 'be': [(15, 14), (16, 27)], 'right': [(18, 38)], 'unless': [(16, 47)], 'The': [(1, 1)], 't': [(10, 20)], 'rules': [(10, 50)], 'In': [(14, 1)], 'that': [(16, 10)], 'complicated': [(6, 24)], 'is': [(3, 11), (4, 10), (5, 8), (6, 9), (7, 6), (8, 8), (17, 5), (18, 16), (19, 23)], 'Dutch': [(16, 61)], 'better': [(3, 14), (4, 13), (5, 11), (6, 12), (7, 9), (8, 11), (17, 8), (18, 25)], 'Although': [(11, 1), (16, 1), (18, 1)], 'explicitly': [(13, 8)], 'first': [(16, 41)], 'face': [(14, 8)], 'implementation': [(19, 8)], 'enough': [(10, 30)], 'than': [(3, 21), (4, 20), (5, 18), (6, 19), (7, 16), (8, 18), (17, 15), (18, 32)], 'Simple': [(5, 1)]}\n",
      "hard\n",
      "setdefault: []\n",
      "{'pass': [(12, 21)], 'implicit': [(4, 25)], 'and': [(15, 23)], 'silenced': [(13, 19)], 'way': [(15, 57), (16, 15)], 'the': [(10, 46), (14, 4), (14, 34), (19, 4)], 'hard': [(19, 26)], 'at': [(16, 38)], 'may': [(16, 19)], 'Readability': [(9, 1)], 'obvious': [(15, 49), (16, 30)], 'to': [(10, 37), (14, 49), (15, 61)], 'never': [(12, 15), (17, 20), (18, 10)], 'practicality': [(11, 10)], 'should': [(12, 8), (15, 7)], 'Unless': [(13, 1)], 'silently': [(12, 26)], 'not': [(16, 23)], 'Errors': [(12, 1)], 'guess': [(14, 52)], 'There': [(15, 1)], 'Python': [(1, 12)], 'break': [(10, 40)], 'Tim': [(1, 23)], 'cases': [(10, 9)], 'preferably': [(15, 27)], 'do': [(15, 64)], 're': [(16, 58)], 'dense': [(8, 23)], 'ugly': [(3, 26)], 'Zen': [(1, 5)], 'aren': [(10, 15)], 'now': [(18, 45)], 'Special': [(10, 1)], 'by': [(1, 20)], 'If': [(19, 1)], 'beats': [(11, 23)], 'Now': [(17, 1)], 'often': [(18, 19)], 'Peters': [(1, 27)], 'one': [(15, 17), (15, 43)], 'special': [(10, 22)], 'purity': [(11, 29)], 'refuse': [(14, 27)], 'it': [(15, 67)], 'Flat': [(7, 1)], 'ambiguity': [(14, 16)], 'only': [(15, 38)], 'temptation': [(14, 38)], 'nested': [(7, 21)], 'Explicit': [(4, 1)], 'of': [(1, 9), (14, 13)], 'Beautiful': [(3, 1)], 'complex': [(5, 23)], 'Sparse': [(8, 1)], 'Complex': [(6, 1)], 'you': [(16, 54)], 'counts': [(9, 13)], 'be': [(15, 14), (16, 27)], 'right': [(18, 38)], 'unless': [(16, 47)], 'The': [(1, 1)], 't': [(10, 20)], 'rules': [(10, 50)], 'In': [(14, 1)], 'that': [(16, 10)], 'complicated': [(6, 24)], 'is': [(3, 11), (4, 10), (5, 8), (6, 9), (7, 6), (8, 8), (17, 5), (18, 16), (19, 23)], 'Dutch': [(16, 61)], 'better': [(3, 14), (4, 13), (5, 11), (6, 12), (7, 9), (8, 11), (17, 8), (18, 25)], 'Although': [(11, 1), (16, 1), (18, 1)], 'explicitly': [(13, 8)], 'first': [(16, 41)], 'face': [(14, 8)], 'implementation': [(19, 8)], 'enough': [(10, 30)], 'than': [(3, 21), (4, 20), (5, 18), (6, 19), (7, 16), (8, 18), (17, 15), (18, 32)], 'Simple': [(5, 1)]}\n",
      "to\n",
      "setdefault: [(10, 37), (14, 49), (15, 61)]\n",
      "{'pass': [(12, 21)], 'implicit': [(4, 25)], 'and': [(15, 23)], 'silenced': [(13, 19)], 'way': [(15, 57), (16, 15)], 'the': [(10, 46), (14, 4), (14, 34), (19, 4)], 'hard': [(19, 26)], 'at': [(16, 38)], 'may': [(16, 19)], 'Readability': [(9, 1)], 'obvious': [(15, 49), (16, 30)], 'to': [(10, 37), (14, 49), (15, 61), (19, 31)], 'never': [(12, 15), (17, 20), (18, 10)], 'practicality': [(11, 10)], 'should': [(12, 8), (15, 7)], 'Unless': [(13, 1)], 'silently': [(12, 26)], 'not': [(16, 23)], 'Errors': [(12, 1)], 'guess': [(14, 52)], 'There': [(15, 1)], 'Python': [(1, 12)], 'break': [(10, 40)], 'Tim': [(1, 23)], 'cases': [(10, 9)], 'preferably': [(15, 27)], 'do': [(15, 64)], 're': [(16, 58)], 'dense': [(8, 23)], 'ugly': [(3, 26)], 'Zen': [(1, 5)], 'aren': [(10, 15)], 'now': [(18, 45)], 'Special': [(10, 1)], 'by': [(1, 20)], 'If': [(19, 1)], 'beats': [(11, 23)], 'Now': [(17, 1)], 'often': [(18, 19)], 'Peters': [(1, 27)], 'one': [(15, 17), (15, 43)], 'special': [(10, 22)], 'purity': [(11, 29)], 'refuse': [(14, 27)], 'it': [(15, 67)], 'Flat': [(7, 1)], 'ambiguity': [(14, 16)], 'only': [(15, 38)], 'temptation': [(14, 38)], 'nested': [(7, 21)], 'Explicit': [(4, 1)], 'of': [(1, 9), (14, 13)], 'Beautiful': [(3, 1)], 'complex': [(5, 23)], 'Sparse': [(8, 1)], 'Complex': [(6, 1)], 'you': [(16, 54)], 'counts': [(9, 13)], 'be': [(15, 14), (16, 27)], 'right': [(18, 38)], 'unless': [(16, 47)], 'The': [(1, 1)], 't': [(10, 20)], 'rules': [(10, 50)], 'In': [(14, 1)], 'that': [(16, 10)], 'complicated': [(6, 24)], 'is': [(3, 11), (4, 10), (5, 8), (6, 9), (7, 6), (8, 8), (17, 5), (18, 16), (19, 23)], 'Dutch': [(16, 61)], 'better': [(3, 14), (4, 13), (5, 11), (6, 12), (7, 9), (8, 11), (17, 8), (18, 25)], 'Although': [(11, 1), (16, 1), (18, 1)], 'explicitly': [(13, 8)], 'first': [(16, 41)], 'face': [(14, 8)], 'implementation': [(19, 8)], 'enough': [(10, 30)], 'than': [(3, 21), (4, 20), (5, 18), (6, 19), (7, 16), (8, 18), (17, 15), (18, 32)], 'Simple': [(5, 1)]}\n",
      "explain\n",
      "setdefault: []\n",
      "{'pass': [(12, 21)], 'implicit': [(4, 25)], 'and': [(15, 23)], 'silenced': [(13, 19)], 'way': [(15, 57), (16, 15)], 'the': [(10, 46), (14, 4), (14, 34), (19, 4)], 'hard': [(19, 26)], 'at': [(16, 38)], 'may': [(16, 19)], 'Readability': [(9, 1)], 'obvious': [(15, 49), (16, 30)], 'to': [(10, 37), (14, 49), (15, 61), (19, 31)], 'never': [(12, 15), (17, 20), (18, 10)], 'practicality': [(11, 10)], 'should': [(12, 8), (15, 7)], 'Unless': [(13, 1)], 'silently': [(12, 26)], 'not': [(16, 23)], 'Errors': [(12, 1)], 'guess': [(14, 52)], 'There': [(15, 1)], 'Python': [(1, 12)], 'break': [(10, 40)], 'Tim': [(1, 23)], 'cases': [(10, 9)], 'preferably': [(15, 27)], 'do': [(15, 64)], 're': [(16, 58)], 'dense': [(8, 23)], 'ugly': [(3, 26)], 'Zen': [(1, 5)], 'aren': [(10, 15)], 'explain': [(19, 34)], 'now': [(18, 45)], 'Special': [(10, 1)], 'by': [(1, 20)], 'If': [(19, 1)], 'beats': [(11, 23)], 'Now': [(17, 1)], 'often': [(18, 19)], 'Peters': [(1, 27)], 'one': [(15, 17), (15, 43)], 'special': [(10, 22)], 'purity': [(11, 29)], 'refuse': [(14, 27)], 'it': [(15, 67)], 'Flat': [(7, 1)], 'ambiguity': [(14, 16)], 'only': [(15, 38)], 'temptation': [(14, 38)], 'nested': [(7, 21)], 'Explicit': [(4, 1)], 'of': [(1, 9), (14, 13)], 'Beautiful': [(3, 1)], 'complex': [(5, 23)], 'Sparse': [(8, 1)], 'Complex': [(6, 1)], 'you': [(16, 54)], 'counts': [(9, 13)], 'be': [(15, 14), (16, 27)], 'right': [(18, 38)], 'unless': [(16, 47)], 'The': [(1, 1)], 't': [(10, 20)], 'rules': [(10, 50)], 'In': [(14, 1)], 'that': [(16, 10)], 'complicated': [(6, 24)], 'is': [(3, 11), (4, 10), (5, 8), (6, 9), (7, 6), (8, 8), (17, 5), (18, 16), (19, 23)], 'Dutch': [(16, 61)], 'better': [(3, 14), (4, 13), (5, 11), (6, 12), (7, 9), (8, 11), (17, 8), (18, 25)], 'Although': [(11, 1), (16, 1), (18, 1)], 'explicitly': [(13, 8)], 'first': [(16, 41)], 'face': [(14, 8)], 'implementation': [(19, 8)], 'enough': [(10, 30)], 'than': [(3, 21), (4, 20), (5, 18), (6, 19), (7, 16), (8, 18), (17, 15), (18, 32)], 'Simple': [(5, 1)]}\n",
      "it\n",
      "setdefault: [(15, 67)]\n",
      "{'pass': [(12, 21)], 'implicit': [(4, 25)], 'and': [(15, 23)], 'silenced': [(13, 19)], 'way': [(15, 57), (16, 15)], 'the': [(10, 46), (14, 4), (14, 34), (19, 4)], 'hard': [(19, 26)], 'at': [(16, 38)], 'may': [(16, 19)], 'Readability': [(9, 1)], 'obvious': [(15, 49), (16, 30)], 'to': [(10, 37), (14, 49), (15, 61), (19, 31)], 'never': [(12, 15), (17, 20), (18, 10)], 'practicality': [(11, 10)], 'should': [(12, 8), (15, 7)], 'Unless': [(13, 1)], 'silently': [(12, 26)], 'not': [(16, 23)], 'Errors': [(12, 1)], 'guess': [(14, 52)], 'There': [(15, 1)], 'Python': [(1, 12)], 'break': [(10, 40)], 'Tim': [(1, 23)], 'cases': [(10, 9)], 'preferably': [(15, 27)], 'do': [(15, 64)], 're': [(16, 58)], 'dense': [(8, 23)], 'ugly': [(3, 26)], 'Zen': [(1, 5)], 'aren': [(10, 15)], 'explain': [(19, 34)], 'now': [(18, 45)], 'Special': [(10, 1)], 'by': [(1, 20)], 'If': [(19, 1)], 'beats': [(11, 23)], 'Now': [(17, 1)], 'often': [(18, 19)], 'Peters': [(1, 27)], 'one': [(15, 17), (15, 43)], 'special': [(10, 22)], 'purity': [(11, 29)], 'refuse': [(14, 27)], 'it': [(15, 67), (19, 43)], 'Flat': [(7, 1)], 'ambiguity': [(14, 16)], 'only': [(15, 38)], 'temptation': [(14, 38)], 'nested': [(7, 21)], 'Explicit': [(4, 1)], 'of': [(1, 9), (14, 13)], 'Beautiful': [(3, 1)], 'complex': [(5, 23)], 'Sparse': [(8, 1)], 'Complex': [(6, 1)], 'you': [(16, 54)], 'counts': [(9, 13)], 'be': [(15, 14), (16, 27)], 'right': [(18, 38)], 'unless': [(16, 47)], 'The': [(1, 1)], 't': [(10, 20)], 'rules': [(10, 50)], 'In': [(14, 1)], 'that': [(16, 10)], 'complicated': [(6, 24)], 'is': [(3, 11), (4, 10), (5, 8), (6, 9), (7, 6), (8, 8), (17, 5), (18, 16), (19, 23)], 'Dutch': [(16, 61)], 'better': [(3, 14), (4, 13), (5, 11), (6, 12), (7, 9), (8, 11), (17, 8), (18, 25)], 'Although': [(11, 1), (16, 1), (18, 1)], 'explicitly': [(13, 8)], 'first': [(16, 41)], 'face': [(14, 8)], 'implementation': [(19, 8)], 'enough': [(10, 30)], 'than': [(3, 21), (4, 20), (5, 18), (6, 19), (7, 16), (8, 18), (17, 15), (18, 32)], 'Simple': [(5, 1)]}\n",
      "s\n",
      "setdefault: []\n",
      "{'pass': [(12, 21)], 'implicit': [(4, 25)], 'and': [(15, 23)], 'silenced': [(13, 19)], 'way': [(15, 57), (16, 15)], 'the': [(10, 46), (14, 4), (14, 34), (19, 4)], 'hard': [(19, 26)], 'at': [(16, 38)], 'may': [(16, 19)], 'Readability': [(9, 1)], 'obvious': [(15, 49), (16, 30)], 'to': [(10, 37), (14, 49), (15, 61), (19, 31)], 'never': [(12, 15), (17, 20), (18, 10)], 'practicality': [(11, 10)], 'should': [(12, 8), (15, 7)], 'Unless': [(13, 1)], 'silently': [(12, 26)], 'not': [(16, 23)], 'Errors': [(12, 1)], 'guess': [(14, 52)], 'There': [(15, 1)], 'Python': [(1, 12)], 'break': [(10, 40)], 'Tim': [(1, 23)], 'cases': [(10, 9)], 'preferably': [(15, 27)], 'do': [(15, 64)], 're': [(16, 58)], 'dense': [(8, 23)], 'ugly': [(3, 26)], 'Zen': [(1, 5)], 'aren': [(10, 15)], 'explain': [(19, 34)], 'now': [(18, 45)], 'Special': [(10, 1)], 'by': [(1, 20)], 'If': [(19, 1)], 'beats': [(11, 23)], 'Now': [(17, 1)], 'often': [(18, 19)], 'Peters': [(1, 27)], 'one': [(15, 17), (15, 43)], 'special': [(10, 22)], 'purity': [(11, 29)], 'refuse': [(14, 27)], 'it': [(15, 67), (19, 43)], 'Flat': [(7, 1)], 'ambiguity': [(14, 16)], 'only': [(15, 38)], 's': [(19, 46)], 'temptation': [(14, 38)], 'nested': [(7, 21)], 'Explicit': [(4, 1)], 'of': [(1, 9), (14, 13)], 'Beautiful': [(3, 1)], 'complex': [(5, 23)], 'Sparse': [(8, 1)], 'Complex': [(6, 1)], 'you': [(16, 54)], 'counts': [(9, 13)], 'be': [(15, 14), (16, 27)], 'right': [(18, 38)], 'unless': [(16, 47)], 'The': [(1, 1)], 't': [(10, 20)], 'rules': [(10, 50)], 'In': [(14, 1)], 'that': [(16, 10)], 'complicated': [(6, 24)], 'is': [(3, 11), (4, 10), (5, 8), (6, 9), (7, 6), (8, 8), (17, 5), (18, 16), (19, 23)], 'Dutch': [(16, 61)], 'better': [(3, 14), (4, 13), (5, 11), (6, 12), (7, 9), (8, 11), (17, 8), (18, 25)], 'Although': [(11, 1), (16, 1), (18, 1)], 'explicitly': [(13, 8)], 'first': [(16, 41)], 'face': [(14, 8)], 'implementation': [(19, 8)], 'enough': [(10, 30)], 'than': [(3, 21), (4, 20), (5, 18), (6, 19), (7, 16), (8, 18), (17, 15), (18, 32)], 'Simple': [(5, 1)]}\n",
      "a\n",
      "setdefault: []\n",
      "{'pass': [(12, 21)], 'implicit': [(4, 25)], 'and': [(15, 23)], 'silenced': [(13, 19)], 'way': [(15, 57), (16, 15)], 'the': [(10, 46), (14, 4), (14, 34), (19, 4)], 'hard': [(19, 26)], 'at': [(16, 38)], 'may': [(16, 19)], 'Readability': [(9, 1)], 'obvious': [(15, 49), (16, 30)], 'to': [(10, 37), (14, 49), (15, 61), (19, 31)], 'never': [(12, 15), (17, 20), (18, 10)], 'practicality': [(11, 10)], 'should': [(12, 8), (15, 7)], 'Unless': [(13, 1)], 'silently': [(12, 26)], 'not': [(16, 23)], 'Errors': [(12, 1)], 'guess': [(14, 52)], 'There': [(15, 1)], 'Python': [(1, 12)], 'break': [(10, 40)], 'Tim': [(1, 23)], 'cases': [(10, 9)], 'preferably': [(15, 27)], 'do': [(15, 64)], 're': [(16, 58)], 'dense': [(8, 23)], 'ugly': [(3, 26)], 'Zen': [(1, 5)], 'aren': [(10, 15)], 'explain': [(19, 34)], 'now': [(18, 45)], 'Special': [(10, 1)], 'by': [(1, 20)], 'If': [(19, 1)], 'beats': [(11, 23)], 'Now': [(17, 1)], 'often': [(18, 19)], 'Peters': [(1, 27)], 'one': [(15, 17), (15, 43)], 'special': [(10, 22)], 'purity': [(11, 29)], 'refuse': [(14, 27)], 'it': [(15, 67), (19, 43)], 'Flat': [(7, 1)], 'ambiguity': [(14, 16)], 'only': [(15, 38)], 's': [(19, 46)], 'temptation': [(14, 38)], 'nested': [(7, 21)], 'Explicit': [(4, 1)], 'of': [(1, 9), (14, 13)], 'Beautiful': [(3, 1)], 'complex': [(5, 23)], 'Sparse': [(8, 1)], 'a': [(19, 48)], 'Complex': [(6, 1)], 'you': [(16, 54)], 'counts': [(9, 13)], 'be': [(15, 14), (16, 27)], 'right': [(18, 38)], 'unless': [(16, 47)], 'The': [(1, 1)], 't': [(10, 20)], 'rules': [(10, 50)], 'In': [(14, 1)], 'that': [(16, 10)], 'complicated': [(6, 24)], 'is': [(3, 11), (4, 10), (5, 8), (6, 9), (7, 6), (8, 8), (17, 5), (18, 16), (19, 23)], 'Dutch': [(16, 61)], 'better': [(3, 14), (4, 13), (5, 11), (6, 12), (7, 9), (8, 11), (17, 8), (18, 25)], 'Although': [(11, 1), (16, 1), (18, 1)], 'explicitly': [(13, 8)], 'first': [(16, 41)], 'face': [(14, 8)], 'implementation': [(19, 8)], 'enough': [(10, 30)], 'than': [(3, 21), (4, 20), (5, 18), (6, 19), (7, 16), (8, 18), (17, 15), (18, 32)], 'Simple': [(5, 1)]}\n",
      "bad\n",
      "setdefault: []\n",
      "{'pass': [(12, 21)], 'implicit': [(4, 25)], 'and': [(15, 23)], 'silenced': [(13, 19)], 'way': [(15, 57), (16, 15)], 'the': [(10, 46), (14, 4), (14, 34), (19, 4)], 'hard': [(19, 26)], 'at': [(16, 38)], 'may': [(16, 19)], 'Readability': [(9, 1)], 'obvious': [(15, 49), (16, 30)], 'to': [(10, 37), (14, 49), (15, 61), (19, 31)], 'never': [(12, 15), (17, 20), (18, 10)], 'practicality': [(11, 10)], 'should': [(12, 8), (15, 7)], 'Unless': [(13, 1)], 'silently': [(12, 26)], 'not': [(16, 23)], 'Errors': [(12, 1)], 'guess': [(14, 52)], 'There': [(15, 1)], 'Python': [(1, 12)], 'break': [(10, 40)], 'Tim': [(1, 23)], 'cases': [(10, 9)], 'preferably': [(15, 27)], 'do': [(15, 64)], 're': [(16, 58)], 'dense': [(8, 23)], 'ugly': [(3, 26)], 'Zen': [(1, 5)], 'aren': [(10, 15)], 'explain': [(19, 34)], 'now': [(18, 45)], 'Special': [(10, 1)], 'by': [(1, 20)], 'If': [(19, 1)], 'beats': [(11, 23)], 'Now': [(17, 1)], 'often': [(18, 19)], 'Peters': [(1, 27)], 'one': [(15, 17), (15, 43)], 'special': [(10, 22)], 'purity': [(11, 29)], 'refuse': [(14, 27)], 'it': [(15, 67), (19, 43)], 'Flat': [(7, 1)], 'ambiguity': [(14, 16)], 'only': [(15, 38)], 's': [(19, 46)], 'temptation': [(14, 38)], 'nested': [(7, 21)], 'Explicit': [(4, 1)], 'of': [(1, 9), (14, 13)], 'Beautiful': [(3, 1)], 'complex': [(5, 23)], 'Sparse': [(8, 1)], 'a': [(19, 48)], 'bad': [(19, 50)], 'Complex': [(6, 1)], 'you': [(16, 54)], 'counts': [(9, 13)], 'be': [(15, 14), (16, 27)], 'right': [(18, 38)], 'unless': [(16, 47)], 'The': [(1, 1)], 't': [(10, 20)], 'rules': [(10, 50)], 'In': [(14, 1)], 'that': [(16, 10)], 'complicated': [(6, 24)], 'is': [(3, 11), (4, 10), (5, 8), (6, 9), (7, 6), (8, 8), (17, 5), (18, 16), (19, 23)], 'Dutch': [(16, 61)], 'better': [(3, 14), (4, 13), (5, 11), (6, 12), (7, 9), (8, 11), (17, 8), (18, 25)], 'Although': [(11, 1), (16, 1), (18, 1)], 'explicitly': [(13, 8)], 'first': [(16, 41)], 'face': [(14, 8)], 'implementation': [(19, 8)], 'enough': [(10, 30)], 'than': [(3, 21), (4, 20), (5, 18), (6, 19), (7, 16), (8, 18), (17, 15), (18, 32)], 'Simple': [(5, 1)]}\n",
      "idea\n",
      "setdefault: []\n",
      "{'pass': [(12, 21)], 'implicit': [(4, 25)], 'and': [(15, 23)], 'silenced': [(13, 19)], 'way': [(15, 57), (16, 15)], 'the': [(10, 46), (14, 4), (14, 34), (19, 4)], 'hard': [(19, 26)], 'at': [(16, 38)], 'may': [(16, 19)], 'Readability': [(9, 1)], 'obvious': [(15, 49), (16, 30)], 'to': [(10, 37), (14, 49), (15, 61), (19, 31)], 'never': [(12, 15), (17, 20), (18, 10)], 'practicality': [(11, 10)], 'should': [(12, 8), (15, 7)], 'Unless': [(13, 1)], 'silently': [(12, 26)], 'not': [(16, 23)], 'Errors': [(12, 1)], 'guess': [(14, 52)], 'There': [(15, 1)], 'Python': [(1, 12)], 'break': [(10, 40)], 'Tim': [(1, 23)], 'cases': [(10, 9)], 'preferably': [(15, 27)], 'do': [(15, 64)], 're': [(16, 58)], 'idea': [(19, 54)], 'dense': [(8, 23)], 'ugly': [(3, 26)], 'Zen': [(1, 5)], 'aren': [(10, 15)], 'explain': [(19, 34)], 'now': [(18, 45)], 'Special': [(10, 1)], 'by': [(1, 20)], 'If': [(19, 1)], 'beats': [(11, 23)], 'Now': [(17, 1)], 'often': [(18, 19)], 'Peters': [(1, 27)], 'one': [(15, 17), (15, 43)], 'special': [(10, 22)], 'purity': [(11, 29)], 'refuse': [(14, 27)], 'it': [(15, 67), (19, 43)], 'Flat': [(7, 1)], 'ambiguity': [(14, 16)], 'only': [(15, 38)], 's': [(19, 46)], 'temptation': [(14, 38)], 'nested': [(7, 21)], 'Explicit': [(4, 1)], 'of': [(1, 9), (14, 13)], 'Beautiful': [(3, 1)], 'complex': [(5, 23)], 'Sparse': [(8, 1)], 'a': [(19, 48)], 'bad': [(19, 50)], 'Complex': [(6, 1)], 'you': [(16, 54)], 'counts': [(9, 13)], 'be': [(15, 14), (16, 27)], 'right': [(18, 38)], 'unless': [(16, 47)], 'The': [(1, 1)], 't': [(10, 20)], 'rules': [(10, 50)], 'In': [(14, 1)], 'that': [(16, 10)], 'complicated': [(6, 24)], 'is': [(3, 11), (4, 10), (5, 8), (6, 9), (7, 6), (8, 8), (17, 5), (18, 16), (19, 23)], 'Dutch': [(16, 61)], 'better': [(3, 14), (4, 13), (5, 11), (6, 12), (7, 9), (8, 11), (17, 8), (18, 25)], 'Although': [(11, 1), (16, 1), (18, 1)], 'explicitly': [(13, 8)], 'first': [(16, 41)], 'face': [(14, 8)], 'implementation': [(19, 8)], 'enough': [(10, 30)], 'than': [(3, 21), (4, 20), (5, 18), (6, 19), (7, 16), (8, 18), (17, 15), (18, 32)], 'Simple': [(5, 1)]}\n",
      "If\n",
      "setdefault: [(19, 1)]\n",
      "{'pass': [(12, 21)], 'implicit': [(4, 25)], 'and': [(15, 23)], 'silenced': [(13, 19)], 'way': [(15, 57), (16, 15)], 'the': [(10, 46), (14, 4), (14, 34), (19, 4)], 'hard': [(19, 26)], 'at': [(16, 38)], 'may': [(16, 19)], 'Readability': [(9, 1)], 'obvious': [(15, 49), (16, 30)], 'to': [(10, 37), (14, 49), (15, 61), (19, 31)], 'never': [(12, 15), (17, 20), (18, 10)], 'practicality': [(11, 10)], 'should': [(12, 8), (15, 7)], 'Unless': [(13, 1)], 'silently': [(12, 26)], 'not': [(16, 23)], 'Errors': [(12, 1)], 'guess': [(14, 52)], 'There': [(15, 1)], 'Python': [(1, 12)], 'break': [(10, 40)], 'Tim': [(1, 23)], 'cases': [(10, 9)], 'preferably': [(15, 27)], 'do': [(15, 64)], 're': [(16, 58)], 'idea': [(19, 54)], 'dense': [(8, 23)], 'ugly': [(3, 26)], 'Zen': [(1, 5)], 'aren': [(10, 15)], 'explain': [(19, 34)], 'now': [(18, 45)], 'Special': [(10, 1)], 'by': [(1, 20)], 'If': [(19, 1), (20, 1)], 'beats': [(11, 23)], 'Now': [(17, 1)], 'often': [(18, 19)], 'Peters': [(1, 27)], 'one': [(15, 17), (15, 43)], 'special': [(10, 22)], 'purity': [(11, 29)], 'refuse': [(14, 27)], 'it': [(15, 67), (19, 43)], 'Flat': [(7, 1)], 'ambiguity': [(14, 16)], 'only': [(15, 38)], 's': [(19, 46)], 'temptation': [(14, 38)], 'nested': [(7, 21)], 'Explicit': [(4, 1)], 'of': [(1, 9), (14, 13)], 'Beautiful': [(3, 1)], 'complex': [(5, 23)], 'Sparse': [(8, 1)], 'a': [(19, 48)], 'bad': [(19, 50)], 'Complex': [(6, 1)], 'you': [(16, 54)], 'counts': [(9, 13)], 'be': [(15, 14), (16, 27)], 'right': [(18, 38)], 'unless': [(16, 47)], 'The': [(1, 1)], 't': [(10, 20)], 'rules': [(10, 50)], 'In': [(14, 1)], 'that': [(16, 10)], 'complicated': [(6, 24)], 'is': [(3, 11), (4, 10), (5, 8), (6, 9), (7, 6), (8, 8), (17, 5), (18, 16), (19, 23)], 'Dutch': [(16, 61)], 'better': [(3, 14), (4, 13), (5, 11), (6, 12), (7, 9), (8, 11), (17, 8), (18, 25)], 'Although': [(11, 1), (16, 1), (18, 1)], 'explicitly': [(13, 8)], 'first': [(16, 41)], 'face': [(14, 8)], 'implementation': [(19, 8)], 'enough': [(10, 30)], 'than': [(3, 21), (4, 20), (5, 18), (6, 19), (7, 16), (8, 18), (17, 15), (18, 32)], 'Simple': [(5, 1)]}\n",
      "the\n",
      "setdefault: [(10, 46), (14, 4), (14, 34), (19, 4)]\n",
      "{'pass': [(12, 21)], 'implicit': [(4, 25)], 'and': [(15, 23)], 'silenced': [(13, 19)], 'way': [(15, 57), (16, 15)], 'the': [(10, 46), (14, 4), (14, 34), (19, 4), (20, 4)], 'hard': [(19, 26)], 'at': [(16, 38)], 'may': [(16, 19)], 'Readability': [(9, 1)], 'obvious': [(15, 49), (16, 30)], 'to': [(10, 37), (14, 49), (15, 61), (19, 31)], 'never': [(12, 15), (17, 20), (18, 10)], 'practicality': [(11, 10)], 'should': [(12, 8), (15, 7)], 'Unless': [(13, 1)], 'silently': [(12, 26)], 'not': [(16, 23)], 'Errors': [(12, 1)], 'guess': [(14, 52)], 'There': [(15, 1)], 'Python': [(1, 12)], 'break': [(10, 40)], 'Tim': [(1, 23)], 'cases': [(10, 9)], 'preferably': [(15, 27)], 'do': [(15, 64)], 're': [(16, 58)], 'idea': [(19, 54)], 'dense': [(8, 23)], 'ugly': [(3, 26)], 'Zen': [(1, 5)], 'aren': [(10, 15)], 'explain': [(19, 34)], 'now': [(18, 45)], 'Special': [(10, 1)], 'by': [(1, 20)], 'If': [(19, 1), (20, 1)], 'beats': [(11, 23)], 'Now': [(17, 1)], 'often': [(18, 19)], 'Peters': [(1, 27)], 'one': [(15, 17), (15, 43)], 'special': [(10, 22)], 'purity': [(11, 29)], 'refuse': [(14, 27)], 'it': [(15, 67), (19, 43)], 'Flat': [(7, 1)], 'ambiguity': [(14, 16)], 'only': [(15, 38)], 's': [(19, 46)], 'temptation': [(14, 38)], 'nested': [(7, 21)], 'Explicit': [(4, 1)], 'of': [(1, 9), (14, 13)], 'Beautiful': [(3, 1)], 'complex': [(5, 23)], 'Sparse': [(8, 1)], 'a': [(19, 48)], 'bad': [(19, 50)], 'Complex': [(6, 1)], 'you': [(16, 54)], 'counts': [(9, 13)], 'be': [(15, 14), (16, 27)], 'right': [(18, 38)], 'unless': [(16, 47)], 'The': [(1, 1)], 't': [(10, 20)], 'rules': [(10, 50)], 'In': [(14, 1)], 'that': [(16, 10)], 'complicated': [(6, 24)], 'is': [(3, 11), (4, 10), (5, 8), (6, 9), (7, 6), (8, 8), (17, 5), (18, 16), (19, 23)], 'Dutch': [(16, 61)], 'better': [(3, 14), (4, 13), (5, 11), (6, 12), (7, 9), (8, 11), (17, 8), (18, 25)], 'Although': [(11, 1), (16, 1), (18, 1)], 'explicitly': [(13, 8)], 'first': [(16, 41)], 'face': [(14, 8)], 'implementation': [(19, 8)], 'enough': [(10, 30)], 'than': [(3, 21), (4, 20), (5, 18), (6, 19), (7, 16), (8, 18), (17, 15), (18, 32)], 'Simple': [(5, 1)]}\n",
      "implementation\n",
      "setdefault: [(19, 8)]\n",
      "{'pass': [(12, 21)], 'implicit': [(4, 25)], 'and': [(15, 23)], 'silenced': [(13, 19)], 'way': [(15, 57), (16, 15)], 'the': [(10, 46), (14, 4), (14, 34), (19, 4), (20, 4)], 'hard': [(19, 26)], 'at': [(16, 38)], 'may': [(16, 19)], 'Readability': [(9, 1)], 'obvious': [(15, 49), (16, 30)], 'to': [(10, 37), (14, 49), (15, 61), (19, 31)], 'never': [(12, 15), (17, 20), (18, 10)], 'practicality': [(11, 10)], 'should': [(12, 8), (15, 7)], 'Unless': [(13, 1)], 'silently': [(12, 26)], 'not': [(16, 23)], 'Errors': [(12, 1)], 'guess': [(14, 52)], 'There': [(15, 1)], 'Python': [(1, 12)], 'break': [(10, 40)], 'Tim': [(1, 23)], 'cases': [(10, 9)], 'preferably': [(15, 27)], 'do': [(15, 64)], 're': [(16, 58)], 'idea': [(19, 54)], 'dense': [(8, 23)], 'ugly': [(3, 26)], 'Zen': [(1, 5)], 'aren': [(10, 15)], 'explain': [(19, 34)], 'now': [(18, 45)], 'Special': [(10, 1)], 'by': [(1, 20)], 'If': [(19, 1), (20, 1)], 'beats': [(11, 23)], 'Now': [(17, 1)], 'often': [(18, 19)], 'Peters': [(1, 27)], 'one': [(15, 17), (15, 43)], 'special': [(10, 22)], 'purity': [(11, 29)], 'refuse': [(14, 27)], 'it': [(15, 67), (19, 43)], 'Flat': [(7, 1)], 'ambiguity': [(14, 16)], 'only': [(15, 38)], 's': [(19, 46)], 'temptation': [(14, 38)], 'nested': [(7, 21)], 'Explicit': [(4, 1)], 'of': [(1, 9), (14, 13)], 'Beautiful': [(3, 1)], 'complex': [(5, 23)], 'Sparse': [(8, 1)], 'a': [(19, 48)], 'bad': [(19, 50)], 'Complex': [(6, 1)], 'you': [(16, 54)], 'counts': [(9, 13)], 'be': [(15, 14), (16, 27)], 'right': [(18, 38)], 'unless': [(16, 47)], 'The': [(1, 1)], 't': [(10, 20)], 'rules': [(10, 50)], 'In': [(14, 1)], 'that': [(16, 10)], 'complicated': [(6, 24)], 'is': [(3, 11), (4, 10), (5, 8), (6, 9), (7, 6), (8, 8), (17, 5), (18, 16), (19, 23)], 'Dutch': [(16, 61)], 'better': [(3, 14), (4, 13), (5, 11), (6, 12), (7, 9), (8, 11), (17, 8), (18, 25)], 'Although': [(11, 1), (16, 1), (18, 1)], 'explicitly': [(13, 8)], 'first': [(16, 41)], 'face': [(14, 8)], 'implementation': [(19, 8), (20, 8)], 'enough': [(10, 30)], 'than': [(3, 21), (4, 20), (5, 18), (6, 19), (7, 16), (8, 18), (17, 15), (18, 32)], 'Simple': [(5, 1)]}\n",
      "is\n",
      "setdefault: [(3, 11), (4, 10), (5, 8), (6, 9), (7, 6), (8, 8), (17, 5), (18, 16), (19, 23)]\n",
      "{'pass': [(12, 21)], 'implicit': [(4, 25)], 'and': [(15, 23)], 'silenced': [(13, 19)], 'way': [(15, 57), (16, 15)], 'the': [(10, 46), (14, 4), (14, 34), (19, 4), (20, 4)], 'hard': [(19, 26)], 'at': [(16, 38)], 'may': [(16, 19)], 'Readability': [(9, 1)], 'obvious': [(15, 49), (16, 30)], 'to': [(10, 37), (14, 49), (15, 61), (19, 31)], 'never': [(12, 15), (17, 20), (18, 10)], 'practicality': [(11, 10)], 'should': [(12, 8), (15, 7)], 'Unless': [(13, 1)], 'silently': [(12, 26)], 'not': [(16, 23)], 'Errors': [(12, 1)], 'guess': [(14, 52)], 'There': [(15, 1)], 'Python': [(1, 12)], 'break': [(10, 40)], 'Tim': [(1, 23)], 'cases': [(10, 9)], 'preferably': [(15, 27)], 'do': [(15, 64)], 're': [(16, 58)], 'idea': [(19, 54)], 'dense': [(8, 23)], 'ugly': [(3, 26)], 'Zen': [(1, 5)], 'aren': [(10, 15)], 'explain': [(19, 34)], 'now': [(18, 45)], 'Special': [(10, 1)], 'by': [(1, 20)], 'If': [(19, 1), (20, 1)], 'beats': [(11, 23)], 'Now': [(17, 1)], 'often': [(18, 19)], 'Peters': [(1, 27)], 'one': [(15, 17), (15, 43)], 'special': [(10, 22)], 'purity': [(11, 29)], 'refuse': [(14, 27)], 'it': [(15, 67), (19, 43)], 'Flat': [(7, 1)], 'ambiguity': [(14, 16)], 'only': [(15, 38)], 's': [(19, 46)], 'temptation': [(14, 38)], 'nested': [(7, 21)], 'Explicit': [(4, 1)], 'of': [(1, 9), (14, 13)], 'Beautiful': [(3, 1)], 'complex': [(5, 23)], 'Sparse': [(8, 1)], 'a': [(19, 48)], 'bad': [(19, 50)], 'Complex': [(6, 1)], 'you': [(16, 54)], 'counts': [(9, 13)], 'be': [(15, 14), (16, 27)], 'right': [(18, 38)], 'unless': [(16, 47)], 'The': [(1, 1)], 't': [(10, 20)], 'rules': [(10, 50)], 'In': [(14, 1)], 'that': [(16, 10)], 'complicated': [(6, 24)], 'is': [(3, 11), (4, 10), (5, 8), (6, 9), (7, 6), (8, 8), (17, 5), (18, 16), (19, 23), (20, 23)], 'Dutch': [(16, 61)], 'better': [(3, 14), (4, 13), (5, 11), (6, 12), (7, 9), (8, 11), (17, 8), (18, 25)], 'Although': [(11, 1), (16, 1), (18, 1)], 'explicitly': [(13, 8)], 'first': [(16, 41)], 'face': [(14, 8)], 'implementation': [(19, 8), (20, 8)], 'enough': [(10, 30)], 'than': [(3, 21), (4, 20), (5, 18), (6, 19), (7, 16), (8, 18), (17, 15), (18, 32)], 'Simple': [(5, 1)]}\n",
      "easy\n",
      "setdefault: []\n",
      "{'pass': [(12, 21)], 'implicit': [(4, 25)], 'and': [(15, 23)], 'silenced': [(13, 19)], 'way': [(15, 57), (16, 15)], 'the': [(10, 46), (14, 4), (14, 34), (19, 4), (20, 4)], 'hard': [(19, 26)], 'at': [(16, 38)], 'may': [(16, 19)], 'Readability': [(9, 1)], 'easy': [(20, 26)], 'obvious': [(15, 49), (16, 30)], 'to': [(10, 37), (14, 49), (15, 61), (19, 31)], 'never': [(12, 15), (17, 20), (18, 10)], 'practicality': [(11, 10)], 'should': [(12, 8), (15, 7)], 'Unless': [(13, 1)], 'silently': [(12, 26)], 'not': [(16, 23)], 'Errors': [(12, 1)], 'guess': [(14, 52)], 'There': [(15, 1)], 'Python': [(1, 12)], 'break': [(10, 40)], 'Tim': [(1, 23)], 'cases': [(10, 9)], 'preferably': [(15, 27)], 'do': [(15, 64)], 're': [(16, 58)], 'idea': [(19, 54)], 'dense': [(8, 23)], 'ugly': [(3, 26)], 'Zen': [(1, 5)], 'aren': [(10, 15)], 'explain': [(19, 34)], 'now': [(18, 45)], 'Special': [(10, 1)], 'by': [(1, 20)], 'If': [(19, 1), (20, 1)], 'beats': [(11, 23)], 'Now': [(17, 1)], 'often': [(18, 19)], 'Peters': [(1, 27)], 'one': [(15, 17), (15, 43)], 'special': [(10, 22)], 'purity': [(11, 29)], 'refuse': [(14, 27)], 'it': [(15, 67), (19, 43)], 'Flat': [(7, 1)], 'ambiguity': [(14, 16)], 'only': [(15, 38)], 's': [(19, 46)], 'temptation': [(14, 38)], 'nested': [(7, 21)], 'Explicit': [(4, 1)], 'of': [(1, 9), (14, 13)], 'Beautiful': [(3, 1)], 'complex': [(5, 23)], 'Sparse': [(8, 1)], 'a': [(19, 48)], 'bad': [(19, 50)], 'Complex': [(6, 1)], 'you': [(16, 54)], 'counts': [(9, 13)], 'be': [(15, 14), (16, 27)], 'right': [(18, 38)], 'unless': [(16, 47)], 'The': [(1, 1)], 't': [(10, 20)], 'rules': [(10, 50)], 'In': [(14, 1)], 'that': [(16, 10)], 'complicated': [(6, 24)], 'is': [(3, 11), (4, 10), (5, 8), (6, 9), (7, 6), (8, 8), (17, 5), (18, 16), (19, 23), (20, 23)], 'Dutch': [(16, 61)], 'better': [(3, 14), (4, 13), (5, 11), (6, 12), (7, 9), (8, 11), (17, 8), (18, 25)], 'Although': [(11, 1), (16, 1), (18, 1)], 'explicitly': [(13, 8)], 'first': [(16, 41)], 'face': [(14, 8)], 'implementation': [(19, 8), (20, 8)], 'enough': [(10, 30)], 'than': [(3, 21), (4, 20), (5, 18), (6, 19), (7, 16), (8, 18), (17, 15), (18, 32)], 'Simple': [(5, 1)]}\n",
      "to\n",
      "setdefault: [(10, 37), (14, 49), (15, 61), (19, 31)]\n",
      "{'pass': [(12, 21)], 'implicit': [(4, 25)], 'and': [(15, 23)], 'silenced': [(13, 19)], 'way': [(15, 57), (16, 15)], 'the': [(10, 46), (14, 4), (14, 34), (19, 4), (20, 4)], 'hard': [(19, 26)], 'at': [(16, 38)], 'may': [(16, 19)], 'Readability': [(9, 1)], 'easy': [(20, 26)], 'obvious': [(15, 49), (16, 30)], 'to': [(10, 37), (14, 49), (15, 61), (19, 31), (20, 31)], 'never': [(12, 15), (17, 20), (18, 10)], 'practicality': [(11, 10)], 'should': [(12, 8), (15, 7)], 'Unless': [(13, 1)], 'silently': [(12, 26)], 'not': [(16, 23)], 'Errors': [(12, 1)], 'guess': [(14, 52)], 'There': [(15, 1)], 'Python': [(1, 12)], 'break': [(10, 40)], 'Tim': [(1, 23)], 'cases': [(10, 9)], 'preferably': [(15, 27)], 'do': [(15, 64)], 're': [(16, 58)], 'idea': [(19, 54)], 'dense': [(8, 23)], 'ugly': [(3, 26)], 'Zen': [(1, 5)], 'aren': [(10, 15)], 'explain': [(19, 34)], 'now': [(18, 45)], 'Special': [(10, 1)], 'by': [(1, 20)], 'If': [(19, 1), (20, 1)], 'beats': [(11, 23)], 'Now': [(17, 1)], 'often': [(18, 19)], 'Peters': [(1, 27)], 'one': [(15, 17), (15, 43)], 'special': [(10, 22)], 'purity': [(11, 29)], 'refuse': [(14, 27)], 'it': [(15, 67), (19, 43)], 'Flat': [(7, 1)], 'ambiguity': [(14, 16)], 'only': [(15, 38)], 's': [(19, 46)], 'temptation': [(14, 38)], 'nested': [(7, 21)], 'Explicit': [(4, 1)], 'of': [(1, 9), (14, 13)], 'Beautiful': [(3, 1)], 'complex': [(5, 23)], 'Sparse': [(8, 1)], 'a': [(19, 48)], 'bad': [(19, 50)], 'Complex': [(6, 1)], 'you': [(16, 54)], 'counts': [(9, 13)], 'be': [(15, 14), (16, 27)], 'right': [(18, 38)], 'unless': [(16, 47)], 'The': [(1, 1)], 't': [(10, 20)], 'rules': [(10, 50)], 'In': [(14, 1)], 'that': [(16, 10)], 'complicated': [(6, 24)], 'is': [(3, 11), (4, 10), (5, 8), (6, 9), (7, 6), (8, 8), (17, 5), (18, 16), (19, 23), (20, 23)], 'Dutch': [(16, 61)], 'better': [(3, 14), (4, 13), (5, 11), (6, 12), (7, 9), (8, 11), (17, 8), (18, 25)], 'Although': [(11, 1), (16, 1), (18, 1)], 'explicitly': [(13, 8)], 'first': [(16, 41)], 'face': [(14, 8)], 'implementation': [(19, 8), (20, 8)], 'enough': [(10, 30)], 'than': [(3, 21), (4, 20), (5, 18), (6, 19), (7, 16), (8, 18), (17, 15), (18, 32)], 'Simple': [(5, 1)]}\n",
      "explain\n",
      "setdefault: [(19, 34)]\n",
      "{'pass': [(12, 21)], 'implicit': [(4, 25)], 'and': [(15, 23)], 'silenced': [(13, 19)], 'way': [(15, 57), (16, 15)], 'the': [(10, 46), (14, 4), (14, 34), (19, 4), (20, 4)], 'hard': [(19, 26)], 'at': [(16, 38)], 'may': [(16, 19)], 'Readability': [(9, 1)], 'easy': [(20, 26)], 'obvious': [(15, 49), (16, 30)], 'to': [(10, 37), (14, 49), (15, 61), (19, 31), (20, 31)], 'never': [(12, 15), (17, 20), (18, 10)], 'practicality': [(11, 10)], 'should': [(12, 8), (15, 7)], 'Unless': [(13, 1)], 'silently': [(12, 26)], 'not': [(16, 23)], 'Errors': [(12, 1)], 'guess': [(14, 52)], 'There': [(15, 1)], 'Python': [(1, 12)], 'break': [(10, 40)], 'Tim': [(1, 23)], 'cases': [(10, 9)], 'preferably': [(15, 27)], 'do': [(15, 64)], 're': [(16, 58)], 'idea': [(19, 54)], 'dense': [(8, 23)], 'ugly': [(3, 26)], 'Zen': [(1, 5)], 'aren': [(10, 15)], 'explain': [(19, 34), (20, 34)], 'now': [(18, 45)], 'Special': [(10, 1)], 'by': [(1, 20)], 'If': [(19, 1), (20, 1)], 'beats': [(11, 23)], 'Now': [(17, 1)], 'often': [(18, 19)], 'Peters': [(1, 27)], 'one': [(15, 17), (15, 43)], 'special': [(10, 22)], 'purity': [(11, 29)], 'refuse': [(14, 27)], 'it': [(15, 67), (19, 43)], 'Flat': [(7, 1)], 'ambiguity': [(14, 16)], 'only': [(15, 38)], 's': [(19, 46)], 'temptation': [(14, 38)], 'nested': [(7, 21)], 'Explicit': [(4, 1)], 'of': [(1, 9), (14, 13)], 'Beautiful': [(3, 1)], 'complex': [(5, 23)], 'Sparse': [(8, 1)], 'a': [(19, 48)], 'bad': [(19, 50)], 'Complex': [(6, 1)], 'you': [(16, 54)], 'counts': [(9, 13)], 'be': [(15, 14), (16, 27)], 'right': [(18, 38)], 'unless': [(16, 47)], 'The': [(1, 1)], 't': [(10, 20)], 'rules': [(10, 50)], 'In': [(14, 1)], 'that': [(16, 10)], 'complicated': [(6, 24)], 'is': [(3, 11), (4, 10), (5, 8), (6, 9), (7, 6), (8, 8), (17, 5), (18, 16), (19, 23), (20, 23)], 'Dutch': [(16, 61)], 'better': [(3, 14), (4, 13), (5, 11), (6, 12), (7, 9), (8, 11), (17, 8), (18, 25)], 'Although': [(11, 1), (16, 1), (18, 1)], 'explicitly': [(13, 8)], 'first': [(16, 41)], 'face': [(14, 8)], 'implementation': [(19, 8), (20, 8)], 'enough': [(10, 30)], 'than': [(3, 21), (4, 20), (5, 18), (6, 19), (7, 16), (8, 18), (17, 15), (18, 32)], 'Simple': [(5, 1)]}\n",
      "it\n",
      "setdefault: [(15, 67), (19, 43)]\n",
      "{'pass': [(12, 21)], 'implicit': [(4, 25)], 'and': [(15, 23)], 'silenced': [(13, 19)], 'way': [(15, 57), (16, 15)], 'the': [(10, 46), (14, 4), (14, 34), (19, 4), (20, 4)], 'hard': [(19, 26)], 'at': [(16, 38)], 'may': [(16, 19)], 'Readability': [(9, 1)], 'easy': [(20, 26)], 'obvious': [(15, 49), (16, 30)], 'to': [(10, 37), (14, 49), (15, 61), (19, 31), (20, 31)], 'never': [(12, 15), (17, 20), (18, 10)], 'practicality': [(11, 10)], 'should': [(12, 8), (15, 7)], 'Unless': [(13, 1)], 'silently': [(12, 26)], 'not': [(16, 23)], 'Errors': [(12, 1)], 'guess': [(14, 52)], 'There': [(15, 1)], 'Python': [(1, 12)], 'break': [(10, 40)], 'Tim': [(1, 23)], 'cases': [(10, 9)], 'preferably': [(15, 27)], 'do': [(15, 64)], 're': [(16, 58)], 'idea': [(19, 54)], 'dense': [(8, 23)], 'ugly': [(3, 26)], 'Zen': [(1, 5)], 'aren': [(10, 15)], 'explain': [(19, 34), (20, 34)], 'now': [(18, 45)], 'Special': [(10, 1)], 'by': [(1, 20)], 'If': [(19, 1), (20, 1)], 'beats': [(11, 23)], 'Now': [(17, 1)], 'often': [(18, 19)], 'Peters': [(1, 27)], 'one': [(15, 17), (15, 43)], 'special': [(10, 22)], 'purity': [(11, 29)], 'refuse': [(14, 27)], 'it': [(15, 67), (19, 43), (20, 43)], 'Flat': [(7, 1)], 'ambiguity': [(14, 16)], 'only': [(15, 38)], 's': [(19, 46)], 'temptation': [(14, 38)], 'nested': [(7, 21)], 'Explicit': [(4, 1)], 'of': [(1, 9), (14, 13)], 'Beautiful': [(3, 1)], 'complex': [(5, 23)], 'Sparse': [(8, 1)], 'a': [(19, 48)], 'bad': [(19, 50)], 'Complex': [(6, 1)], 'you': [(16, 54)], 'counts': [(9, 13)], 'be': [(15, 14), (16, 27)], 'right': [(18, 38)], 'unless': [(16, 47)], 'The': [(1, 1)], 't': [(10, 20)], 'rules': [(10, 50)], 'In': [(14, 1)], 'that': [(16, 10)], 'complicated': [(6, 24)], 'is': [(3, 11), (4, 10), (5, 8), (6, 9), (7, 6), (8, 8), (17, 5), (18, 16), (19, 23), (20, 23)], 'Dutch': [(16, 61)], 'better': [(3, 14), (4, 13), (5, 11), (6, 12), (7, 9), (8, 11), (17, 8), (18, 25)], 'Although': [(11, 1), (16, 1), (18, 1)], 'explicitly': [(13, 8)], 'first': [(16, 41)], 'face': [(14, 8)], 'implementation': [(19, 8), (20, 8)], 'enough': [(10, 30)], 'than': [(3, 21), (4, 20), (5, 18), (6, 19), (7, 16), (8, 18), (17, 15), (18, 32)], 'Simple': [(5, 1)]}\n",
      "may\n",
      "setdefault: [(16, 19)]\n",
      "{'pass': [(12, 21)], 'implicit': [(4, 25)], 'and': [(15, 23)], 'silenced': [(13, 19)], 'way': [(15, 57), (16, 15)], 'the': [(10, 46), (14, 4), (14, 34), (19, 4), (20, 4)], 'hard': [(19, 26)], 'at': [(16, 38)], 'may': [(16, 19), (20, 46)], 'Readability': [(9, 1)], 'easy': [(20, 26)], 'obvious': [(15, 49), (16, 30)], 'to': [(10, 37), (14, 49), (15, 61), (19, 31), (20, 31)], 'never': [(12, 15), (17, 20), (18, 10)], 'practicality': [(11, 10)], 'should': [(12, 8), (15, 7)], 'Unless': [(13, 1)], 'silently': [(12, 26)], 'not': [(16, 23)], 'Errors': [(12, 1)], 'guess': [(14, 52)], 'There': [(15, 1)], 'Python': [(1, 12)], 'break': [(10, 40)], 'Tim': [(1, 23)], 'cases': [(10, 9)], 'preferably': [(15, 27)], 'do': [(15, 64)], 're': [(16, 58)], 'idea': [(19, 54)], 'dense': [(8, 23)], 'ugly': [(3, 26)], 'Zen': [(1, 5)], 'aren': [(10, 15)], 'explain': [(19, 34), (20, 34)], 'now': [(18, 45)], 'Special': [(10, 1)], 'by': [(1, 20)], 'If': [(19, 1), (20, 1)], 'beats': [(11, 23)], 'Now': [(17, 1)], 'often': [(18, 19)], 'Peters': [(1, 27)], 'one': [(15, 17), (15, 43)], 'special': [(10, 22)], 'purity': [(11, 29)], 'refuse': [(14, 27)], 'it': [(15, 67), (19, 43), (20, 43)], 'Flat': [(7, 1)], 'ambiguity': [(14, 16)], 'only': [(15, 38)], 's': [(19, 46)], 'temptation': [(14, 38)], 'nested': [(7, 21)], 'Explicit': [(4, 1)], 'of': [(1, 9), (14, 13)], 'Beautiful': [(3, 1)], 'complex': [(5, 23)], 'Sparse': [(8, 1)], 'a': [(19, 48)], 'bad': [(19, 50)], 'Complex': [(6, 1)], 'you': [(16, 54)], 'counts': [(9, 13)], 'be': [(15, 14), (16, 27)], 'right': [(18, 38)], 'unless': [(16, 47)], 'The': [(1, 1)], 't': [(10, 20)], 'rules': [(10, 50)], 'In': [(14, 1)], 'that': [(16, 10)], 'complicated': [(6, 24)], 'is': [(3, 11), (4, 10), (5, 8), (6, 9), (7, 6), (8, 8), (17, 5), (18, 16), (19, 23), (20, 23)], 'Dutch': [(16, 61)], 'better': [(3, 14), (4, 13), (5, 11), (6, 12), (7, 9), (8, 11), (17, 8), (18, 25)], 'Although': [(11, 1), (16, 1), (18, 1)], 'explicitly': [(13, 8)], 'first': [(16, 41)], 'face': [(14, 8)], 'implementation': [(19, 8), (20, 8)], 'enough': [(10, 30)], 'than': [(3, 21), (4, 20), (5, 18), (6, 19), (7, 16), (8, 18), (17, 15), (18, 32)], 'Simple': [(5, 1)]}\n",
      "be\n",
      "setdefault: [(15, 14), (16, 27)]\n",
      "{'pass': [(12, 21)], 'implicit': [(4, 25)], 'and': [(15, 23)], 'silenced': [(13, 19)], 'way': [(15, 57), (16, 15)], 'the': [(10, 46), (14, 4), (14, 34), (19, 4), (20, 4)], 'hard': [(19, 26)], 'at': [(16, 38)], 'may': [(16, 19), (20, 46)], 'Readability': [(9, 1)], 'easy': [(20, 26)], 'obvious': [(15, 49), (16, 30)], 'to': [(10, 37), (14, 49), (15, 61), (19, 31), (20, 31)], 'never': [(12, 15), (17, 20), (18, 10)], 'practicality': [(11, 10)], 'should': [(12, 8), (15, 7)], 'Unless': [(13, 1)], 'silently': [(12, 26)], 'not': [(16, 23)], 'Errors': [(12, 1)], 'guess': [(14, 52)], 'There': [(15, 1)], 'Python': [(1, 12)], 'break': [(10, 40)], 'Tim': [(1, 23)], 'cases': [(10, 9)], 'preferably': [(15, 27)], 'do': [(15, 64)], 're': [(16, 58)], 'idea': [(19, 54)], 'dense': [(8, 23)], 'ugly': [(3, 26)], 'Zen': [(1, 5)], 'aren': [(10, 15)], 'explain': [(19, 34), (20, 34)], 'now': [(18, 45)], 'Special': [(10, 1)], 'by': [(1, 20)], 'If': [(19, 1), (20, 1)], 'beats': [(11, 23)], 'Now': [(17, 1)], 'often': [(18, 19)], 'Peters': [(1, 27)], 'one': [(15, 17), (15, 43)], 'special': [(10, 22)], 'purity': [(11, 29)], 'refuse': [(14, 27)], 'it': [(15, 67), (19, 43), (20, 43)], 'Flat': [(7, 1)], 'ambiguity': [(14, 16)], 'only': [(15, 38)], 's': [(19, 46)], 'temptation': [(14, 38)], 'nested': [(7, 21)], 'Explicit': [(4, 1)], 'of': [(1, 9), (14, 13)], 'Beautiful': [(3, 1)], 'complex': [(5, 23)], 'Sparse': [(8, 1)], 'a': [(19, 48)], 'bad': [(19, 50)], 'Complex': [(6, 1)], 'you': [(16, 54)], 'counts': [(9, 13)], 'be': [(15, 14), (16, 27), (20, 50)], 'right': [(18, 38)], 'unless': [(16, 47)], 'The': [(1, 1)], 't': [(10, 20)], 'rules': [(10, 50)], 'In': [(14, 1)], 'that': [(16, 10)], 'complicated': [(6, 24)], 'is': [(3, 11), (4, 10), (5, 8), (6, 9), (7, 6), (8, 8), (17, 5), (18, 16), (19, 23), (20, 23)], 'Dutch': [(16, 61)], 'better': [(3, 14), (4, 13), (5, 11), (6, 12), (7, 9), (8, 11), (17, 8), (18, 25)], 'Although': [(11, 1), (16, 1), (18, 1)], 'explicitly': [(13, 8)], 'first': [(16, 41)], 'face': [(14, 8)], 'implementation': [(19, 8), (20, 8)], 'enough': [(10, 30)], 'than': [(3, 21), (4, 20), (5, 18), (6, 19), (7, 16), (8, 18), (17, 15), (18, 32)], 'Simple': [(5, 1)]}\n",
      "a\n",
      "setdefault: [(19, 48)]\n",
      "{'pass': [(12, 21)], 'implicit': [(4, 25)], 'and': [(15, 23)], 'silenced': [(13, 19)], 'way': [(15, 57), (16, 15)], 'the': [(10, 46), (14, 4), (14, 34), (19, 4), (20, 4)], 'hard': [(19, 26)], 'at': [(16, 38)], 'may': [(16, 19), (20, 46)], 'Readability': [(9, 1)], 'easy': [(20, 26)], 'obvious': [(15, 49), (16, 30)], 'to': [(10, 37), (14, 49), (15, 61), (19, 31), (20, 31)], 'never': [(12, 15), (17, 20), (18, 10)], 'practicality': [(11, 10)], 'should': [(12, 8), (15, 7)], 'Unless': [(13, 1)], 'silently': [(12, 26)], 'not': [(16, 23)], 'Errors': [(12, 1)], 'guess': [(14, 52)], 'There': [(15, 1)], 'Python': [(1, 12)], 'break': [(10, 40)], 'Tim': [(1, 23)], 'cases': [(10, 9)], 'preferably': [(15, 27)], 'do': [(15, 64)], 're': [(16, 58)], 'idea': [(19, 54)], 'dense': [(8, 23)], 'ugly': [(3, 26)], 'Zen': [(1, 5)], 'aren': [(10, 15)], 'explain': [(19, 34), (20, 34)], 'now': [(18, 45)], 'Special': [(10, 1)], 'by': [(1, 20)], 'If': [(19, 1), (20, 1)], 'beats': [(11, 23)], 'Now': [(17, 1)], 'often': [(18, 19)], 'Peters': [(1, 27)], 'one': [(15, 17), (15, 43)], 'special': [(10, 22)], 'purity': [(11, 29)], 'refuse': [(14, 27)], 'it': [(15, 67), (19, 43), (20, 43)], 'Flat': [(7, 1)], 'ambiguity': [(14, 16)], 'only': [(15, 38)], 's': [(19, 46)], 'temptation': [(14, 38)], 'nested': [(7, 21)], 'Explicit': [(4, 1)], 'of': [(1, 9), (14, 13)], 'Beautiful': [(3, 1)], 'complex': [(5, 23)], 'Sparse': [(8, 1)], 'a': [(19, 48), (20, 53)], 'bad': [(19, 50)], 'Complex': [(6, 1)], 'you': [(16, 54)], 'counts': [(9, 13)], 'be': [(15, 14), (16, 27), (20, 50)], 'right': [(18, 38)], 'unless': [(16, 47)], 'The': [(1, 1)], 't': [(10, 20)], 'rules': [(10, 50)], 'In': [(14, 1)], 'that': [(16, 10)], 'complicated': [(6, 24)], 'is': [(3, 11), (4, 10), (5, 8), (6, 9), (7, 6), (8, 8), (17, 5), (18, 16), (19, 23), (20, 23)], 'Dutch': [(16, 61)], 'better': [(3, 14), (4, 13), (5, 11), (6, 12), (7, 9), (8, 11), (17, 8), (18, 25)], 'Although': [(11, 1), (16, 1), (18, 1)], 'explicitly': [(13, 8)], 'first': [(16, 41)], 'face': [(14, 8)], 'implementation': [(19, 8), (20, 8)], 'enough': [(10, 30)], 'than': [(3, 21), (4, 20), (5, 18), (6, 19), (7, 16), (8, 18), (17, 15), (18, 32)], 'Simple': [(5, 1)]}\n",
      "good\n",
      "setdefault: []\n",
      "{'pass': [(12, 21)], 'implicit': [(4, 25)], 'and': [(15, 23)], 'silenced': [(13, 19)], 'way': [(15, 57), (16, 15)], 'the': [(10, 46), (14, 4), (14, 34), (19, 4), (20, 4)], 'hard': [(19, 26)], 'at': [(16, 38)], 'may': [(16, 19), (20, 46)], 'Readability': [(9, 1)], 'easy': [(20, 26)], 'obvious': [(15, 49), (16, 30)], 'to': [(10, 37), (14, 49), (15, 61), (19, 31), (20, 31)], 'never': [(12, 15), (17, 20), (18, 10)], 'practicality': [(11, 10)], 'should': [(12, 8), (15, 7)], 'Unless': [(13, 1)], 'silently': [(12, 26)], 'not': [(16, 23)], 'Errors': [(12, 1)], 'guess': [(14, 52)], 'There': [(15, 1)], 'Python': [(1, 12)], 'break': [(10, 40)], 'Tim': [(1, 23)], 'cases': [(10, 9)], 'preferably': [(15, 27)], 'do': [(15, 64)], 're': [(16, 58)], 'idea': [(19, 54)], 'dense': [(8, 23)], 'ugly': [(3, 26)], 'Zen': [(1, 5)], 'aren': [(10, 15)], 'explain': [(19, 34), (20, 34)], 'now': [(18, 45)], 'Special': [(10, 1)], 'by': [(1, 20)], 'If': [(19, 1), (20, 1)], 'beats': [(11, 23)], 'Now': [(17, 1)], 'often': [(18, 19)], 'Peters': [(1, 27)], 'one': [(15, 17), (15, 43)], 'special': [(10, 22)], 'purity': [(11, 29)], 'refuse': [(14, 27)], 'it': [(15, 67), (19, 43), (20, 43)], 'Flat': [(7, 1)], 'ambiguity': [(14, 16)], 'only': [(15, 38)], 's': [(19, 46)], 'temptation': [(14, 38)], 'nested': [(7, 21)], 'Explicit': [(4, 1)], 'of': [(1, 9), (14, 13)], 'Beautiful': [(3, 1)], 'complex': [(5, 23)], 'Sparse': [(8, 1)], 'a': [(19, 48), (20, 53)], 'bad': [(19, 50)], 'Complex': [(6, 1)], 'you': [(16, 54)], 'counts': [(9, 13)], 'be': [(15, 14), (16, 27), (20, 50)], 'right': [(18, 38)], 'unless': [(16, 47)], 'The': [(1, 1)], 't': [(10, 20)], 'good': [(20, 55)], 'rules': [(10, 50)], 'In': [(14, 1)], 'that': [(16, 10)], 'complicated': [(6, 24)], 'is': [(3, 11), (4, 10), (5, 8), (6, 9), (7, 6), (8, 8), (17, 5), (18, 16), (19, 23), (20, 23)], 'Dutch': [(16, 61)], 'better': [(3, 14), (4, 13), (5, 11), (6, 12), (7, 9), (8, 11), (17, 8), (18, 25)], 'Although': [(11, 1), (16, 1), (18, 1)], 'explicitly': [(13, 8)], 'first': [(16, 41)], 'face': [(14, 8)], 'implementation': [(19, 8), (20, 8)], 'enough': [(10, 30)], 'than': [(3, 21), (4, 20), (5, 18), (6, 19), (7, 16), (8, 18), (17, 15), (18, 32)], 'Simple': [(5, 1)]}\n",
      "idea\n",
      "setdefault: [(19, 54)]\n",
      "{'pass': [(12, 21)], 'implicit': [(4, 25)], 'and': [(15, 23)], 'silenced': [(13, 19)], 'way': [(15, 57), (16, 15)], 'the': [(10, 46), (14, 4), (14, 34), (19, 4), (20, 4)], 'hard': [(19, 26)], 'at': [(16, 38)], 'may': [(16, 19), (20, 46)], 'Readability': [(9, 1)], 'easy': [(20, 26)], 'obvious': [(15, 49), (16, 30)], 'to': [(10, 37), (14, 49), (15, 61), (19, 31), (20, 31)], 'never': [(12, 15), (17, 20), (18, 10)], 'practicality': [(11, 10)], 'should': [(12, 8), (15, 7)], 'Unless': [(13, 1)], 'silently': [(12, 26)], 'not': [(16, 23)], 'Errors': [(12, 1)], 'guess': [(14, 52)], 'There': [(15, 1)], 'Python': [(1, 12)], 'break': [(10, 40)], 'Tim': [(1, 23)], 'cases': [(10, 9)], 'preferably': [(15, 27)], 'do': [(15, 64)], 're': [(16, 58)], 'idea': [(19, 54), (20, 60)], 'dense': [(8, 23)], 'ugly': [(3, 26)], 'Zen': [(1, 5)], 'aren': [(10, 15)], 'explain': [(19, 34), (20, 34)], 'now': [(18, 45)], 'Special': [(10, 1)], 'by': [(1, 20)], 'If': [(19, 1), (20, 1)], 'beats': [(11, 23)], 'Now': [(17, 1)], 'often': [(18, 19)], 'Peters': [(1, 27)], 'one': [(15, 17), (15, 43)], 'special': [(10, 22)], 'purity': [(11, 29)], 'refuse': [(14, 27)], 'it': [(15, 67), (19, 43), (20, 43)], 'Flat': [(7, 1)], 'ambiguity': [(14, 16)], 'only': [(15, 38)], 's': [(19, 46)], 'temptation': [(14, 38)], 'nested': [(7, 21)], 'Explicit': [(4, 1)], 'of': [(1, 9), (14, 13)], 'Beautiful': [(3, 1)], 'complex': [(5, 23)], 'Sparse': [(8, 1)], 'a': [(19, 48), (20, 53)], 'bad': [(19, 50)], 'Complex': [(6, 1)], 'you': [(16, 54)], 'counts': [(9, 13)], 'be': [(15, 14), (16, 27), (20, 50)], 'right': [(18, 38)], 'unless': [(16, 47)], 'The': [(1, 1)], 't': [(10, 20)], 'good': [(20, 55)], 'rules': [(10, 50)], 'In': [(14, 1)], 'that': [(16, 10)], 'complicated': [(6, 24)], 'is': [(3, 11), (4, 10), (5, 8), (6, 9), (7, 6), (8, 8), (17, 5), (18, 16), (19, 23), (20, 23)], 'Dutch': [(16, 61)], 'better': [(3, 14), (4, 13), (5, 11), (6, 12), (7, 9), (8, 11), (17, 8), (18, 25)], 'Although': [(11, 1), (16, 1), (18, 1)], 'explicitly': [(13, 8)], 'first': [(16, 41)], 'face': [(14, 8)], 'implementation': [(19, 8), (20, 8)], 'enough': [(10, 30)], 'than': [(3, 21), (4, 20), (5, 18), (6, 19), (7, 16), (8, 18), (17, 15), (18, 32)], 'Simple': [(5, 1)]}\n",
      "Namespaces\n",
      "setdefault: []\n",
      "{'pass': [(12, 21)], 'to': [(10, 37), (14, 49), (15, 61), (19, 31), (20, 31)], 'never': [(12, 15), (17, 20), (18, 10)], 'practicality': [(11, 10)], 'should': [(12, 8), (15, 7)], 'Errors': [(12, 1)], 're': [(16, 58)], 'break': [(10, 40)], 'Tim': [(1, 23)], 'easy': [(20, 26)], 'you': [(16, 54)], 'do': [(15, 64)], 'dense': [(8, 23)], 'aren': [(10, 15)], 'Special': [(10, 1)], 'beats': [(11, 23)], 'Readability': [(9, 1)], 'one': [(15, 17), (15, 43)], 'special': [(10, 22)], 'purity': [(11, 29)], 'Flat': [(7, 1)], 'Now': [(17, 1)], 'ambiguity': [(14, 16)], 'only': [(15, 38)], 'Explicit': [(4, 1)], 'of': [(1, 9), (14, 13)], 'complex': [(5, 23)], 'Sparse': [(8, 1)], 'a': [(19, 48), (20, 53)], 'Complex': [(6, 1)], 't': [(10, 20)], 'rules': [(10, 50)], 'that': [(16, 10)], 'is': [(3, 11), (4, 10), (5, 8), (6, 9), (7, 6), (8, 8), (17, 5), (18, 16), (19, 23), (20, 23)], 'better': [(3, 14), (4, 13), (5, 11), (6, 12), (7, 9), (8, 11), (17, 8), (18, 25)], 'ugly': [(3, 26)], 'temptation': [(14, 38)], 'implementation': [(19, 8), (20, 8)], 'complicated': [(6, 24)], 'Simple': [(5, 1)], 'cases': [(10, 9)], 'and': [(15, 23)], 'silenced': [(13, 19)], 'the': [(10, 46), (14, 4), (14, 34), (19, 4), (20, 4)], 'hard': [(19, 26)], 'at': [(16, 38)], 'may': [(16, 19), (20, 46)], 'Peters': [(1, 27)], 'obvious': [(15, 49), (16, 30)], 'way': [(15, 57), (16, 15)], 'Unless': [(13, 1)], 'silently': [(12, 26)], 'not': [(16, 23)], 'guess': [(14, 52)], 'There': [(15, 1)], 'Python': [(1, 12)], 'Dutch': [(16, 61)], 'implicit': [(4, 25)], 'Zen': [(1, 5)], 'Namespaces': [(21, 1)], 'explain': [(19, 34), (20, 34)], 'now': [(18, 45)], 'by': [(1, 20)], 'explicitly': [(13, 8)], 's': [(19, 46)], 'idea': [(19, 54), (20, 60)], 'refuse': [(14, 27)], 'preferably': [(15, 27)], 'face': [(14, 8)], 'nested': [(7, 21)], 'Beautiful': [(3, 1)], 'often': [(18, 19)], 'bad': [(19, 50)], 'it': [(15, 67), (19, 43), (20, 43)], 'counts': [(9, 13)], 'be': [(15, 14), (16, 27), (20, 50)], 'right': [(18, 38)], 'unless': [(16, 47)], 'The': [(1, 1)], 'good': [(20, 55)], 'In': [(14, 1)], 'enough': [(10, 30)], 'Although': [(11, 1), (16, 1), (18, 1)], 'If': [(19, 1), (20, 1)], 'first': [(16, 41)], 'than': [(3, 21), (4, 20), (5, 18), (6, 19), (7, 16), (8, 18), (17, 15), (18, 32)]}\n",
      "are\n",
      "setdefault: []\n",
      "{'pass': [(12, 21)], 'to': [(10, 37), (14, 49), (15, 61), (19, 31), (20, 31)], 'never': [(12, 15), (17, 20), (18, 10)], 'practicality': [(11, 10)], 'should': [(12, 8), (15, 7)], 'Errors': [(12, 1)], 're': [(16, 58)], 'break': [(10, 40)], 'Tim': [(1, 23)], 'easy': [(20, 26)], 'are': [(21, 12)], 'you': [(16, 54)], 'do': [(15, 64)], 'dense': [(8, 23)], 'aren': [(10, 15)], 'Special': [(10, 1)], 'beats': [(11, 23)], 'Readability': [(9, 1)], 'one': [(15, 17), (15, 43)], 'special': [(10, 22)], 'purity': [(11, 29)], 'Flat': [(7, 1)], 'Now': [(17, 1)], 'ambiguity': [(14, 16)], 'only': [(15, 38)], 'Explicit': [(4, 1)], 'of': [(1, 9), (14, 13)], 'complex': [(5, 23)], 'Sparse': [(8, 1)], 'a': [(19, 48), (20, 53)], 'Complex': [(6, 1)], 't': [(10, 20)], 'rules': [(10, 50)], 'that': [(16, 10)], 'is': [(3, 11), (4, 10), (5, 8), (6, 9), (7, 6), (8, 8), (17, 5), (18, 16), (19, 23), (20, 23)], 'better': [(3, 14), (4, 13), (5, 11), (6, 12), (7, 9), (8, 11), (17, 8), (18, 25)], 'ugly': [(3, 26)], 'temptation': [(14, 38)], 'implementation': [(19, 8), (20, 8)], 'complicated': [(6, 24)], 'Simple': [(5, 1)], 'cases': [(10, 9)], 'and': [(15, 23)], 'silenced': [(13, 19)], 'the': [(10, 46), (14, 4), (14, 34), (19, 4), (20, 4)], 'hard': [(19, 26)], 'at': [(16, 38)], 'may': [(16, 19), (20, 46)], 'Peters': [(1, 27)], 'obvious': [(15, 49), (16, 30)], 'way': [(15, 57), (16, 15)], 'Unless': [(13, 1)], 'silently': [(12, 26)], 'not': [(16, 23)], 'guess': [(14, 52)], 'There': [(15, 1)], 'Python': [(1, 12)], 'Dutch': [(16, 61)], 'implicit': [(4, 25)], 'Zen': [(1, 5)], 'Namespaces': [(21, 1)], 'explain': [(19, 34), (20, 34)], 'now': [(18, 45)], 'by': [(1, 20)], 'explicitly': [(13, 8)], 's': [(19, 46)], 'idea': [(19, 54), (20, 60)], 'refuse': [(14, 27)], 'preferably': [(15, 27)], 'face': [(14, 8)], 'nested': [(7, 21)], 'Beautiful': [(3, 1)], 'often': [(18, 19)], 'bad': [(19, 50)], 'it': [(15, 67), (19, 43), (20, 43)], 'counts': [(9, 13)], 'be': [(15, 14), (16, 27), (20, 50)], 'right': [(18, 38)], 'unless': [(16, 47)], 'The': [(1, 1)], 'good': [(20, 55)], 'In': [(14, 1)], 'enough': [(10, 30)], 'Although': [(11, 1), (16, 1), (18, 1)], 'If': [(19, 1), (20, 1)], 'first': [(16, 41)], 'than': [(3, 21), (4, 20), (5, 18), (6, 19), (7, 16), (8, 18), (17, 15), (18, 32)]}\n",
      "one\n",
      "setdefault: [(15, 17), (15, 43)]\n",
      "{'pass': [(12, 21)], 'to': [(10, 37), (14, 49), (15, 61), (19, 31), (20, 31)], 'never': [(12, 15), (17, 20), (18, 10)], 'practicality': [(11, 10)], 'should': [(12, 8), (15, 7)], 'Errors': [(12, 1)], 're': [(16, 58)], 'break': [(10, 40)], 'Tim': [(1, 23)], 'easy': [(20, 26)], 'are': [(21, 12)], 'you': [(16, 54)], 'do': [(15, 64)], 'dense': [(8, 23)], 'aren': [(10, 15)], 'Special': [(10, 1)], 'beats': [(11, 23)], 'Readability': [(9, 1)], 'one': [(15, 17), (15, 43), (21, 16)], 'special': [(10, 22)], 'purity': [(11, 29)], 'Flat': [(7, 1)], 'Now': [(17, 1)], 'ambiguity': [(14, 16)], 'only': [(15, 38)], 'Explicit': [(4, 1)], 'of': [(1, 9), (14, 13)], 'complex': [(5, 23)], 'Sparse': [(8, 1)], 'a': [(19, 48), (20, 53)], 'Complex': [(6, 1)], 't': [(10, 20)], 'rules': [(10, 50)], 'that': [(16, 10)], 'is': [(3, 11), (4, 10), (5, 8), (6, 9), (7, 6), (8, 8), (17, 5), (18, 16), (19, 23), (20, 23)], 'better': [(3, 14), (4, 13), (5, 11), (6, 12), (7, 9), (8, 11), (17, 8), (18, 25)], 'ugly': [(3, 26)], 'temptation': [(14, 38)], 'implementation': [(19, 8), (20, 8)], 'complicated': [(6, 24)], 'Simple': [(5, 1)], 'cases': [(10, 9)], 'and': [(15, 23)], 'silenced': [(13, 19)], 'the': [(10, 46), (14, 4), (14, 34), (19, 4), (20, 4)], 'hard': [(19, 26)], 'at': [(16, 38)], 'may': [(16, 19), (20, 46)], 'Peters': [(1, 27)], 'obvious': [(15, 49), (16, 30)], 'way': [(15, 57), (16, 15)], 'Unless': [(13, 1)], 'silently': [(12, 26)], 'not': [(16, 23)], 'guess': [(14, 52)], 'There': [(15, 1)], 'Python': [(1, 12)], 'Dutch': [(16, 61)], 'implicit': [(4, 25)], 'Zen': [(1, 5)], 'Namespaces': [(21, 1)], 'explain': [(19, 34), (20, 34)], 'now': [(18, 45)], 'by': [(1, 20)], 'explicitly': [(13, 8)], 's': [(19, 46)], 'idea': [(19, 54), (20, 60)], 'refuse': [(14, 27)], 'preferably': [(15, 27)], 'face': [(14, 8)], 'nested': [(7, 21)], 'Beautiful': [(3, 1)], 'often': [(18, 19)], 'bad': [(19, 50)], 'it': [(15, 67), (19, 43), (20, 43)], 'counts': [(9, 13)], 'be': [(15, 14), (16, 27), (20, 50)], 'right': [(18, 38)], 'unless': [(16, 47)], 'The': [(1, 1)], 'good': [(20, 55)], 'In': [(14, 1)], 'enough': [(10, 30)], 'Although': [(11, 1), (16, 1), (18, 1)], 'If': [(19, 1), (20, 1)], 'first': [(16, 41)], 'than': [(3, 21), (4, 20), (5, 18), (6, 19), (7, 16), (8, 18), (17, 15), (18, 32)]}\n",
      "honking\n",
      "setdefault: []\n",
      "{'pass': [(12, 21)], 'to': [(10, 37), (14, 49), (15, 61), (19, 31), (20, 31)], 'never': [(12, 15), (17, 20), (18, 10)], 'practicality': [(11, 10)], 'should': [(12, 8), (15, 7)], 'Errors': [(12, 1)], 're': [(16, 58)], 'break': [(10, 40)], 'Tim': [(1, 23)], 'easy': [(20, 26)], 'are': [(21, 12)], 'you': [(16, 54)], 'do': [(15, 64)], 'dense': [(8, 23)], 'aren': [(10, 15)], 'Special': [(10, 1)], 'beats': [(11, 23)], 'Readability': [(9, 1)], 'one': [(15, 17), (15, 43), (21, 16)], 'special': [(10, 22)], 'purity': [(11, 29)], 'Flat': [(7, 1)], 'Now': [(17, 1)], 'ambiguity': [(14, 16)], 'only': [(15, 38)], 'Explicit': [(4, 1)], 'of': [(1, 9), (14, 13)], 'complex': [(5, 23)], 'Sparse': [(8, 1)], 'a': [(19, 48), (20, 53)], 'Complex': [(6, 1)], 't': [(10, 20)], 'rules': [(10, 50)], 'that': [(16, 10)], 'is': [(3, 11), (4, 10), (5, 8), (6, 9), (7, 6), (8, 8), (17, 5), (18, 16), (19, 23), (20, 23)], 'better': [(3, 14), (4, 13), (5, 11), (6, 12), (7, 9), (8, 11), (17, 8), (18, 25)], 'ugly': [(3, 26)], 'temptation': [(14, 38)], 'implementation': [(19, 8), (20, 8)], 'complicated': [(6, 24)], 'Simple': [(5, 1)], 'cases': [(10, 9)], 'and': [(15, 23)], 'silenced': [(13, 19)], 'the': [(10, 46), (14, 4), (14, 34), (19, 4), (20, 4)], 'hard': [(19, 26)], 'at': [(16, 38)], 'may': [(16, 19), (20, 46)], 'Peters': [(1, 27)], 'obvious': [(15, 49), (16, 30)], 'way': [(15, 57), (16, 15)], 'Unless': [(13, 1)], 'silently': [(12, 26)], 'not': [(16, 23)], 'guess': [(14, 52)], 'There': [(15, 1)], 'Python': [(1, 12)], 'Dutch': [(16, 61)], 'implicit': [(4, 25)], 'Zen': [(1, 5)], 'Namespaces': [(21, 1)], 'explain': [(19, 34), (20, 34)], 'now': [(18, 45)], 'by': [(1, 20)], 'explicitly': [(13, 8)], 's': [(19, 46)], 'idea': [(19, 54), (20, 60)], 'honking': [(21, 20)], 'refuse': [(14, 27)], 'preferably': [(15, 27)], 'face': [(14, 8)], 'nested': [(7, 21)], 'Beautiful': [(3, 1)], 'often': [(18, 19)], 'bad': [(19, 50)], 'it': [(15, 67), (19, 43), (20, 43)], 'counts': [(9, 13)], 'be': [(15, 14), (16, 27), (20, 50)], 'right': [(18, 38)], 'unless': [(16, 47)], 'The': [(1, 1)], 'good': [(20, 55)], 'In': [(14, 1)], 'enough': [(10, 30)], 'Although': [(11, 1), (16, 1), (18, 1)], 'If': [(19, 1), (20, 1)], 'first': [(16, 41)], 'than': [(3, 21), (4, 20), (5, 18), (6, 19), (7, 16), (8, 18), (17, 15), (18, 32)]}\n",
      "great\n",
      "setdefault: []\n",
      "{'pass': [(12, 21)], 'great': [(21, 28)], 'to': [(10, 37), (14, 49), (15, 61), (19, 31), (20, 31)], 'never': [(12, 15), (17, 20), (18, 10)], 'practicality': [(11, 10)], 'should': [(12, 8), (15, 7)], 'Errors': [(12, 1)], 're': [(16, 58)], 'break': [(10, 40)], 'Tim': [(1, 23)], 'easy': [(20, 26)], 'are': [(21, 12)], 'you': [(16, 54)], 'do': [(15, 64)], 'dense': [(8, 23)], 'aren': [(10, 15)], 'Special': [(10, 1)], 'beats': [(11, 23)], 'Readability': [(9, 1)], 'one': [(15, 17), (15, 43), (21, 16)], 'special': [(10, 22)], 'purity': [(11, 29)], 'Flat': [(7, 1)], 'Now': [(17, 1)], 'ambiguity': [(14, 16)], 'only': [(15, 38)], 'Explicit': [(4, 1)], 'of': [(1, 9), (14, 13)], 'complex': [(5, 23)], 'Sparse': [(8, 1)], 'a': [(19, 48), (20, 53)], 'Complex': [(6, 1)], 't': [(10, 20)], 'rules': [(10, 50)], 'that': [(16, 10)], 'is': [(3, 11), (4, 10), (5, 8), (6, 9), (7, 6), (8, 8), (17, 5), (18, 16), (19, 23), (20, 23)], 'better': [(3, 14), (4, 13), (5, 11), (6, 12), (7, 9), (8, 11), (17, 8), (18, 25)], 'ugly': [(3, 26)], 'temptation': [(14, 38)], 'implementation': [(19, 8), (20, 8)], 'complicated': [(6, 24)], 'Simple': [(5, 1)], 'cases': [(10, 9)], 'and': [(15, 23)], 'silenced': [(13, 19)], 'the': [(10, 46), (14, 4), (14, 34), (19, 4), (20, 4)], 'hard': [(19, 26)], 'at': [(16, 38)], 'may': [(16, 19), (20, 46)], 'Peters': [(1, 27)], 'obvious': [(15, 49), (16, 30)], 'way': [(15, 57), (16, 15)], 'Unless': [(13, 1)], 'silently': [(12, 26)], 'not': [(16, 23)], 'guess': [(14, 52)], 'There': [(15, 1)], 'Python': [(1, 12)], 'Dutch': [(16, 61)], 'implicit': [(4, 25)], 'Zen': [(1, 5)], 'Namespaces': [(21, 1)], 'explain': [(19, 34), (20, 34)], 'now': [(18, 45)], 'by': [(1, 20)], 'explicitly': [(13, 8)], 's': [(19, 46)], 'idea': [(19, 54), (20, 60)], 'honking': [(21, 20)], 'refuse': [(14, 27)], 'preferably': [(15, 27)], 'face': [(14, 8)], 'nested': [(7, 21)], 'Beautiful': [(3, 1)], 'often': [(18, 19)], 'bad': [(19, 50)], 'it': [(15, 67), (19, 43), (20, 43)], 'counts': [(9, 13)], 'be': [(15, 14), (16, 27), (20, 50)], 'right': [(18, 38)], 'unless': [(16, 47)], 'The': [(1, 1)], 'good': [(20, 55)], 'In': [(14, 1)], 'enough': [(10, 30)], 'Although': [(11, 1), (16, 1), (18, 1)], 'If': [(19, 1), (20, 1)], 'first': [(16, 41)], 'than': [(3, 21), (4, 20), (5, 18), (6, 19), (7, 16), (8, 18), (17, 15), (18, 32)]}\n",
      "idea\n",
      "setdefault: [(19, 54), (20, 60)]\n",
      "{'pass': [(12, 21)], 'great': [(21, 28)], 'to': [(10, 37), (14, 49), (15, 61), (19, 31), (20, 31)], 'never': [(12, 15), (17, 20), (18, 10)], 'practicality': [(11, 10)], 'should': [(12, 8), (15, 7)], 'Errors': [(12, 1)], 're': [(16, 58)], 'break': [(10, 40)], 'Tim': [(1, 23)], 'easy': [(20, 26)], 'are': [(21, 12)], 'you': [(16, 54)], 'do': [(15, 64)], 'dense': [(8, 23)], 'aren': [(10, 15)], 'Special': [(10, 1)], 'beats': [(11, 23)], 'Readability': [(9, 1)], 'one': [(15, 17), (15, 43), (21, 16)], 'special': [(10, 22)], 'purity': [(11, 29)], 'Flat': [(7, 1)], 'Now': [(17, 1)], 'ambiguity': [(14, 16)], 'only': [(15, 38)], 'Explicit': [(4, 1)], 'of': [(1, 9), (14, 13)], 'complex': [(5, 23)], 'Sparse': [(8, 1)], 'a': [(19, 48), (20, 53)], 'Complex': [(6, 1)], 't': [(10, 20)], 'rules': [(10, 50)], 'that': [(16, 10)], 'is': [(3, 11), (4, 10), (5, 8), (6, 9), (7, 6), (8, 8), (17, 5), (18, 16), (19, 23), (20, 23)], 'better': [(3, 14), (4, 13), (5, 11), (6, 12), (7, 9), (8, 11), (17, 8), (18, 25)], 'ugly': [(3, 26)], 'temptation': [(14, 38)], 'implementation': [(19, 8), (20, 8)], 'complicated': [(6, 24)], 'Simple': [(5, 1)], 'cases': [(10, 9)], 'and': [(15, 23)], 'silenced': [(13, 19)], 'the': [(10, 46), (14, 4), (14, 34), (19, 4), (20, 4)], 'hard': [(19, 26)], 'at': [(16, 38)], 'may': [(16, 19), (20, 46)], 'Peters': [(1, 27)], 'obvious': [(15, 49), (16, 30)], 'way': [(15, 57), (16, 15)], 'Unless': [(13, 1)], 'silently': [(12, 26)], 'not': [(16, 23)], 'guess': [(14, 52)], 'There': [(15, 1)], 'Python': [(1, 12)], 'Dutch': [(16, 61)], 'implicit': [(4, 25)], 'Zen': [(1, 5)], 'Namespaces': [(21, 1)], 'explain': [(19, 34), (20, 34)], 'now': [(18, 45)], 'by': [(1, 20)], 'explicitly': [(13, 8)], 's': [(19, 46)], 'idea': [(19, 54), (20, 60), (21, 34)], 'honking': [(21, 20)], 'refuse': [(14, 27)], 'preferably': [(15, 27)], 'face': [(14, 8)], 'nested': [(7, 21)], 'Beautiful': [(3, 1)], 'often': [(18, 19)], 'bad': [(19, 50)], 'it': [(15, 67), (19, 43), (20, 43)], 'counts': [(9, 13)], 'be': [(15, 14), (16, 27), (20, 50)], 'right': [(18, 38)], 'unless': [(16, 47)], 'The': [(1, 1)], 'good': [(20, 55)], 'In': [(14, 1)], 'enough': [(10, 30)], 'Although': [(11, 1), (16, 1), (18, 1)], 'If': [(19, 1), (20, 1)], 'first': [(16, 41)], 'than': [(3, 21), (4, 20), (5, 18), (6, 19), (7, 16), (8, 18), (17, 15), (18, 32)]}\n",
      "let\n",
      "setdefault: []\n",
      "{'pass': [(12, 21)], 'great': [(21, 28)], 'to': [(10, 37), (14, 49), (15, 61), (19, 31), (20, 31)], 'never': [(12, 15), (17, 20), (18, 10)], 'practicality': [(11, 10)], 'should': [(12, 8), (15, 7)], 'Errors': [(12, 1)], 're': [(16, 58)], 'break': [(10, 40)], 'Tim': [(1, 23)], 'easy': [(20, 26)], 'are': [(21, 12)], 'you': [(16, 54)], 'do': [(15, 64)], 'dense': [(8, 23)], 'aren': [(10, 15)], 'Special': [(10, 1)], 'beats': [(11, 23)], 'Readability': [(9, 1)], 'one': [(15, 17), (15, 43), (21, 16)], 'special': [(10, 22)], 'purity': [(11, 29)], 'Flat': [(7, 1)], 'Now': [(17, 1)], 'ambiguity': [(14, 16)], 'only': [(15, 38)], 'Explicit': [(4, 1)], 'of': [(1, 9), (14, 13)], 'complex': [(5, 23)], 'Sparse': [(8, 1)], 'a': [(19, 48), (20, 53)], 'Complex': [(6, 1)], 't': [(10, 20)], 'rules': [(10, 50)], 'that': [(16, 10)], 'is': [(3, 11), (4, 10), (5, 8), (6, 9), (7, 6), (8, 8), (17, 5), (18, 16), (19, 23), (20, 23)], 'better': [(3, 14), (4, 13), (5, 11), (6, 12), (7, 9), (8, 11), (17, 8), (18, 25)], 'ugly': [(3, 26)], 'let': [(21, 42)], 'temptation': [(14, 38)], 'implementation': [(19, 8), (20, 8)], 'complicated': [(6, 24)], 'Simple': [(5, 1)], 'cases': [(10, 9)], 'and': [(15, 23)], 'silenced': [(13, 19)], 'the': [(10, 46), (14, 4), (14, 34), (19, 4), (20, 4)], 'hard': [(19, 26)], 'at': [(16, 38)], 'may': [(16, 19), (20, 46)], 'Peters': [(1, 27)], 'obvious': [(15, 49), (16, 30)], 'way': [(15, 57), (16, 15)], 'Unless': [(13, 1)], 'silently': [(12, 26)], 'not': [(16, 23)], 'guess': [(14, 52)], 'There': [(15, 1)], 'Python': [(1, 12)], 'Dutch': [(16, 61)], 'implicit': [(4, 25)], 'Zen': [(1, 5)], 'Namespaces': [(21, 1)], 'explain': [(19, 34), (20, 34)], 'now': [(18, 45)], 'by': [(1, 20)], 'explicitly': [(13, 8)], 's': [(19, 46)], 'idea': [(19, 54), (20, 60), (21, 34)], 'honking': [(21, 20)], 'refuse': [(14, 27)], 'preferably': [(15, 27)], 'face': [(14, 8)], 'nested': [(7, 21)], 'Beautiful': [(3, 1)], 'often': [(18, 19)], 'bad': [(19, 50)], 'it': [(15, 67), (19, 43), (20, 43)], 'counts': [(9, 13)], 'be': [(15, 14), (16, 27), (20, 50)], 'right': [(18, 38)], 'unless': [(16, 47)], 'The': [(1, 1)], 'good': [(20, 55)], 'In': [(14, 1)], 'enough': [(10, 30)], 'Although': [(11, 1), (16, 1), (18, 1)], 'If': [(19, 1), (20, 1)], 'first': [(16, 41)], 'than': [(3, 21), (4, 20), (5, 18), (6, 19), (7, 16), (8, 18), (17, 15), (18, 32)]}\n",
      "s\n",
      "setdefault: [(19, 46)]\n",
      "{'pass': [(12, 21)], 'great': [(21, 28)], 'to': [(10, 37), (14, 49), (15, 61), (19, 31), (20, 31)], 'never': [(12, 15), (17, 20), (18, 10)], 'practicality': [(11, 10)], 'should': [(12, 8), (15, 7)], 'Errors': [(12, 1)], 're': [(16, 58)], 'break': [(10, 40)], 'Tim': [(1, 23)], 'easy': [(20, 26)], 'are': [(21, 12)], 'you': [(16, 54)], 'do': [(15, 64)], 'dense': [(8, 23)], 'aren': [(10, 15)], 'Special': [(10, 1)], 'beats': [(11, 23)], 'Readability': [(9, 1)], 'one': [(15, 17), (15, 43), (21, 16)], 'special': [(10, 22)], 'purity': [(11, 29)], 'Flat': [(7, 1)], 'Now': [(17, 1)], 'ambiguity': [(14, 16)], 'only': [(15, 38)], 'Explicit': [(4, 1)], 'of': [(1, 9), (14, 13)], 'complex': [(5, 23)], 'Sparse': [(8, 1)], 'a': [(19, 48), (20, 53)], 'Complex': [(6, 1)], 't': [(10, 20)], 'rules': [(10, 50)], 'that': [(16, 10)], 'is': [(3, 11), (4, 10), (5, 8), (6, 9), (7, 6), (8, 8), (17, 5), (18, 16), (19, 23), (20, 23)], 'better': [(3, 14), (4, 13), (5, 11), (6, 12), (7, 9), (8, 11), (17, 8), (18, 25)], 'ugly': [(3, 26)], 'let': [(21, 42)], 'temptation': [(14, 38)], 'implementation': [(19, 8), (20, 8)], 'complicated': [(6, 24)], 'Simple': [(5, 1)], 'cases': [(10, 9)], 'and': [(15, 23)], 'silenced': [(13, 19)], 'the': [(10, 46), (14, 4), (14, 34), (19, 4), (20, 4)], 'hard': [(19, 26)], 'at': [(16, 38)], 'may': [(16, 19), (20, 46)], 'Peters': [(1, 27)], 'obvious': [(15, 49), (16, 30)], 'way': [(15, 57), (16, 15)], 'Unless': [(13, 1)], 'silently': [(12, 26)], 'not': [(16, 23)], 'guess': [(14, 52)], 'There': [(15, 1)], 'Python': [(1, 12)], 'Dutch': [(16, 61)], 'implicit': [(4, 25)], 'Zen': [(1, 5)], 'Namespaces': [(21, 1)], 'explain': [(19, 34), (20, 34)], 'now': [(18, 45)], 'by': [(1, 20)], 'explicitly': [(13, 8)], 's': [(19, 46), (21, 46)], 'idea': [(19, 54), (20, 60), (21, 34)], 'honking': [(21, 20)], 'refuse': [(14, 27)], 'preferably': [(15, 27)], 'face': [(14, 8)], 'nested': [(7, 21)], 'Beautiful': [(3, 1)], 'often': [(18, 19)], 'bad': [(19, 50)], 'it': [(15, 67), (19, 43), (20, 43)], 'counts': [(9, 13)], 'be': [(15, 14), (16, 27), (20, 50)], 'right': [(18, 38)], 'unless': [(16, 47)], 'The': [(1, 1)], 'good': [(20, 55)], 'In': [(14, 1)], 'enough': [(10, 30)], 'Although': [(11, 1), (16, 1), (18, 1)], 'If': [(19, 1), (20, 1)], 'first': [(16, 41)], 'than': [(3, 21), (4, 20), (5, 18), (6, 19), (7, 16), (8, 18), (17, 15), (18, 32)]}\n",
      "do\n",
      "setdefault: [(15, 64)]\n",
      "{'pass': [(12, 21)], 'great': [(21, 28)], 'to': [(10, 37), (14, 49), (15, 61), (19, 31), (20, 31)], 'never': [(12, 15), (17, 20), (18, 10)], 'practicality': [(11, 10)], 'should': [(12, 8), (15, 7)], 'Errors': [(12, 1)], 're': [(16, 58)], 'break': [(10, 40)], 'Tim': [(1, 23)], 'easy': [(20, 26)], 'are': [(21, 12)], 'you': [(16, 54)], 'do': [(15, 64), (21, 48)], 'dense': [(8, 23)], 'aren': [(10, 15)], 'Special': [(10, 1)], 'beats': [(11, 23)], 'Readability': [(9, 1)], 'one': [(15, 17), (15, 43), (21, 16)], 'special': [(10, 22)], 'purity': [(11, 29)], 'Flat': [(7, 1)], 'Now': [(17, 1)], 'ambiguity': [(14, 16)], 'only': [(15, 38)], 'Explicit': [(4, 1)], 'of': [(1, 9), (14, 13)], 'complex': [(5, 23)], 'Sparse': [(8, 1)], 'a': [(19, 48), (20, 53)], 'Complex': [(6, 1)], 't': [(10, 20)], 'rules': [(10, 50)], 'that': [(16, 10)], 'is': [(3, 11), (4, 10), (5, 8), (6, 9), (7, 6), (8, 8), (17, 5), (18, 16), (19, 23), (20, 23)], 'better': [(3, 14), (4, 13), (5, 11), (6, 12), (7, 9), (8, 11), (17, 8), (18, 25)], 'ugly': [(3, 26)], 'let': [(21, 42)], 'temptation': [(14, 38)], 'implementation': [(19, 8), (20, 8)], 'complicated': [(6, 24)], 'Simple': [(5, 1)], 'cases': [(10, 9)], 'and': [(15, 23)], 'silenced': [(13, 19)], 'the': [(10, 46), (14, 4), (14, 34), (19, 4), (20, 4)], 'hard': [(19, 26)], 'at': [(16, 38)], 'may': [(16, 19), (20, 46)], 'Peters': [(1, 27)], 'obvious': [(15, 49), (16, 30)], 'way': [(15, 57), (16, 15)], 'Unless': [(13, 1)], 'silently': [(12, 26)], 'not': [(16, 23)], 'guess': [(14, 52)], 'There': [(15, 1)], 'Python': [(1, 12)], 'Dutch': [(16, 61)], 'implicit': [(4, 25)], 'Zen': [(1, 5)], 'Namespaces': [(21, 1)], 'explain': [(19, 34), (20, 34)], 'now': [(18, 45)], 'by': [(1, 20)], 'explicitly': [(13, 8)], 's': [(19, 46), (21, 46)], 'idea': [(19, 54), (20, 60), (21, 34)], 'honking': [(21, 20)], 'refuse': [(14, 27)], 'preferably': [(15, 27)], 'face': [(14, 8)], 'nested': [(7, 21)], 'Beautiful': [(3, 1)], 'often': [(18, 19)], 'bad': [(19, 50)], 'it': [(15, 67), (19, 43), (20, 43)], 'counts': [(9, 13)], 'be': [(15, 14), (16, 27), (20, 50)], 'right': [(18, 38)], 'unless': [(16, 47)], 'The': [(1, 1)], 'good': [(20, 55)], 'In': [(14, 1)], 'enough': [(10, 30)], 'Although': [(11, 1), (16, 1), (18, 1)], 'If': [(19, 1), (20, 1)], 'first': [(16, 41)], 'than': [(3, 21), (4, 20), (5, 18), (6, 19), (7, 16), (8, 18), (17, 15), (18, 32)]}\n",
      "more\n",
      "setdefault: []\n",
      "{'pass': [(12, 21)], 'great': [(21, 28)], 'to': [(10, 37), (14, 49), (15, 61), (19, 31), (20, 31)], 'never': [(12, 15), (17, 20), (18, 10)], 'practicality': [(11, 10)], 'should': [(12, 8), (15, 7)], 'Errors': [(12, 1)], 're': [(16, 58)], 'break': [(10, 40)], 'Tim': [(1, 23)], 'easy': [(20, 26)], 'are': [(21, 12)], 'you': [(16, 54)], 'do': [(15, 64), (21, 48)], 'dense': [(8, 23)], 'aren': [(10, 15)], 'Special': [(10, 1)], 'beats': [(11, 23)], 'Readability': [(9, 1)], 'one': [(15, 17), (15, 43), (21, 16)], 'special': [(10, 22)], 'purity': [(11, 29)], 'Flat': [(7, 1)], 'Now': [(17, 1)], 'ambiguity': [(14, 16)], 'only': [(15, 38)], 'Explicit': [(4, 1)], 'of': [(1, 9), (14, 13)], 'complex': [(5, 23)], 'Sparse': [(8, 1)], 'a': [(19, 48), (20, 53)], 'Complex': [(6, 1)], 't': [(10, 20)], 'rules': [(10, 50)], 'that': [(16, 10)], 'is': [(3, 11), (4, 10), (5, 8), (6, 9), (7, 6), (8, 8), (17, 5), (18, 16), (19, 23), (20, 23)], 'better': [(3, 14), (4, 13), (5, 11), (6, 12), (7, 9), (8, 11), (17, 8), (18, 25)], 'ugly': [(3, 26)], 'let': [(21, 42)], 'temptation': [(14, 38)], 'implementation': [(19, 8), (20, 8)], 'complicated': [(6, 24)], 'Simple': [(5, 1)], 'cases': [(10, 9)], 'and': [(15, 23)], 'silenced': [(13, 19)], 'the': [(10, 46), (14, 4), (14, 34), (19, 4), (20, 4)], 'hard': [(19, 26)], 'at': [(16, 38)], 'may': [(16, 19), (20, 46)], 'Peters': [(1, 27)], 'obvious': [(15, 49), (16, 30)], 'way': [(15, 57), (16, 15)], 'Unless': [(13, 1)], 'silently': [(12, 26)], 'not': [(16, 23)], 'guess': [(14, 52)], 'There': [(15, 1)], 'Python': [(1, 12)], 'Dutch': [(16, 61)], 'implicit': [(4, 25)], 'Zen': [(1, 5)], 'Namespaces': [(21, 1)], 'explain': [(19, 34), (20, 34)], 'now': [(18, 45)], 'by': [(1, 20)], 'explicitly': [(13, 8)], 's': [(19, 46), (21, 46)], 'idea': [(19, 54), (20, 60), (21, 34)], 'honking': [(21, 20)], 'refuse': [(14, 27)], 'preferably': [(15, 27)], 'face': [(14, 8)], 'nested': [(7, 21)], 'Beautiful': [(3, 1)], 'often': [(18, 19)], 'bad': [(19, 50)], 'it': [(15, 67), (19, 43), (20, 43)], 'counts': [(9, 13)], 'be': [(15, 14), (16, 27), (20, 50)], 'right': [(18, 38)], 'unless': [(16, 47)], 'The': [(1, 1)], 'good': [(20, 55)], 'In': [(14, 1)], 'enough': [(10, 30)], 'Although': [(11, 1), (16, 1), (18, 1)], 'If': [(19, 1), (20, 1)], 'more': [(21, 51)], 'first': [(16, 41)], 'than': [(3, 21), (4, 20), (5, 18), (6, 19), (7, 16), (8, 18), (17, 15), (18, 32)]}\n",
      "of\n",
      "setdefault: [(1, 9), (14, 13)]\n",
      "{'pass': [(12, 21)], 'great': [(21, 28)], 'to': [(10, 37), (14, 49), (15, 61), (19, 31), (20, 31)], 'never': [(12, 15), (17, 20), (18, 10)], 'practicality': [(11, 10)], 'should': [(12, 8), (15, 7)], 'Errors': [(12, 1)], 're': [(16, 58)], 'break': [(10, 40)], 'Tim': [(1, 23)], 'easy': [(20, 26)], 'are': [(21, 12)], 'you': [(16, 54)], 'do': [(15, 64), (21, 48)], 'dense': [(8, 23)], 'aren': [(10, 15)], 'Special': [(10, 1)], 'beats': [(11, 23)], 'Readability': [(9, 1)], 'one': [(15, 17), (15, 43), (21, 16)], 'special': [(10, 22)], 'purity': [(11, 29)], 'Flat': [(7, 1)], 'Now': [(17, 1)], 'ambiguity': [(14, 16)], 'only': [(15, 38)], 'Explicit': [(4, 1)], 'of': [(1, 9), (14, 13), (21, 56)], 'complex': [(5, 23)], 'Sparse': [(8, 1)], 'a': [(19, 48), (20, 53)], 'Complex': [(6, 1)], 't': [(10, 20)], 'rules': [(10, 50)], 'that': [(16, 10)], 'is': [(3, 11), (4, 10), (5, 8), (6, 9), (7, 6), (8, 8), (17, 5), (18, 16), (19, 23), (20, 23)], 'better': [(3, 14), (4, 13), (5, 11), (6, 12), (7, 9), (8, 11), (17, 8), (18, 25)], 'ugly': [(3, 26)], 'let': [(21, 42)], 'temptation': [(14, 38)], 'implementation': [(19, 8), (20, 8)], 'complicated': [(6, 24)], 'Simple': [(5, 1)], 'cases': [(10, 9)], 'and': [(15, 23)], 'silenced': [(13, 19)], 'the': [(10, 46), (14, 4), (14, 34), (19, 4), (20, 4)], 'hard': [(19, 26)], 'at': [(16, 38)], 'may': [(16, 19), (20, 46)], 'Peters': [(1, 27)], 'obvious': [(15, 49), (16, 30)], 'way': [(15, 57), (16, 15)], 'Unless': [(13, 1)], 'silently': [(12, 26)], 'not': [(16, 23)], 'guess': [(14, 52)], 'There': [(15, 1)], 'Python': [(1, 12)], 'Dutch': [(16, 61)], 'implicit': [(4, 25)], 'Zen': [(1, 5)], 'Namespaces': [(21, 1)], 'explain': [(19, 34), (20, 34)], 'now': [(18, 45)], 'by': [(1, 20)], 'explicitly': [(13, 8)], 's': [(19, 46), (21, 46)], 'idea': [(19, 54), (20, 60), (21, 34)], 'honking': [(21, 20)], 'refuse': [(14, 27)], 'preferably': [(15, 27)], 'face': [(14, 8)], 'nested': [(7, 21)], 'Beautiful': [(3, 1)], 'often': [(18, 19)], 'bad': [(19, 50)], 'it': [(15, 67), (19, 43), (20, 43)], 'counts': [(9, 13)], 'be': [(15, 14), (16, 27), (20, 50)], 'right': [(18, 38)], 'unless': [(16, 47)], 'The': [(1, 1)], 'good': [(20, 55)], 'In': [(14, 1)], 'enough': [(10, 30)], 'Although': [(11, 1), (16, 1), (18, 1)], 'If': [(19, 1), (20, 1)], 'more': [(21, 51)], 'first': [(16, 41)], 'than': [(3, 21), (4, 20), (5, 18), (6, 19), (7, 16), (8, 18), (17, 15), (18, 32)]}\n",
      "those\n",
      "setdefault: []\n",
      "{'pass': [(12, 21)], 'great': [(21, 28)], 'to': [(10, 37), (14, 49), (15, 61), (19, 31), (20, 31)], 'never': [(12, 15), (17, 20), (18, 10)], 'practicality': [(11, 10)], 'should': [(12, 8), (15, 7)], 'Errors': [(12, 1)], 're': [(16, 58)], 'break': [(10, 40)], 'Tim': [(1, 23)], 'easy': [(20, 26)], 'are': [(21, 12)], 'you': [(16, 54)], 'do': [(15, 64), (21, 48)], 'dense': [(8, 23)], 'aren': [(10, 15)], 'Special': [(10, 1)], 'beats': [(11, 23)], 'those': [(21, 59)], 'Readability': [(9, 1)], 'one': [(15, 17), (15, 43), (21, 16)], 'special': [(10, 22)], 'purity': [(11, 29)], 'Flat': [(7, 1)], 'Now': [(17, 1)], 'ambiguity': [(14, 16)], 'only': [(15, 38)], 'Explicit': [(4, 1)], 'of': [(1, 9), (14, 13), (21, 56)], 'complex': [(5, 23)], 'Sparse': [(8, 1)], 'a': [(19, 48), (20, 53)], 'Complex': [(6, 1)], 't': [(10, 20)], 'rules': [(10, 50)], 'that': [(16, 10)], 'is': [(3, 11), (4, 10), (5, 8), (6, 9), (7, 6), (8, 8), (17, 5), (18, 16), (19, 23), (20, 23)], 'better': [(3, 14), (4, 13), (5, 11), (6, 12), (7, 9), (8, 11), (17, 8), (18, 25)], 'ugly': [(3, 26)], 'let': [(21, 42)], 'temptation': [(14, 38)], 'implementation': [(19, 8), (20, 8)], 'complicated': [(6, 24)], 'Simple': [(5, 1)], 'cases': [(10, 9)], 'and': [(15, 23)], 'silenced': [(13, 19)], 'the': [(10, 46), (14, 4), (14, 34), (19, 4), (20, 4)], 'hard': [(19, 26)], 'at': [(16, 38)], 'may': [(16, 19), (20, 46)], 'Peters': [(1, 27)], 'obvious': [(15, 49), (16, 30)], 'way': [(15, 57), (16, 15)], 'Unless': [(13, 1)], 'silently': [(12, 26)], 'not': [(16, 23)], 'guess': [(14, 52)], 'There': [(15, 1)], 'Python': [(1, 12)], 'Dutch': [(16, 61)], 'implicit': [(4, 25)], 'Zen': [(1, 5)], 'Namespaces': [(21, 1)], 'explain': [(19, 34), (20, 34)], 'now': [(18, 45)], 'by': [(1, 20)], 'explicitly': [(13, 8)], 's': [(19, 46), (21, 46)], 'idea': [(19, 54), (20, 60), (21, 34)], 'honking': [(21, 20)], 'refuse': [(14, 27)], 'preferably': [(15, 27)], 'face': [(14, 8)], 'nested': [(7, 21)], 'Beautiful': [(3, 1)], 'often': [(18, 19)], 'bad': [(19, 50)], 'it': [(15, 67), (19, 43), (20, 43)], 'counts': [(9, 13)], 'be': [(15, 14), (16, 27), (20, 50)], 'right': [(18, 38)], 'unless': [(16, 47)], 'The': [(1, 1)], 'good': [(20, 55)], 'In': [(14, 1)], 'enough': [(10, 30)], 'Although': [(11, 1), (16, 1), (18, 1)], 'If': [(19, 1), (20, 1)], 'more': [(21, 51)], 'first': [(16, 41)], 'than': [(3, 21), (4, 20), (5, 18), (6, 19), (7, 16), (8, 18), (17, 15), (18, 32)]}\n"
     ]
    }
   ],
   "source": [
    "import sys\n",
    "import re\n",
    "\n",
    "WORD_RE = re.compile('\\w+')\n",
    "\n",
    "index = {}\n",
    "with open('zen.txt', encoding='utf-8') as fp:\n",
    "    for line_no, line in enumerate(fp, 1):\n",
    "        for match in WORD_RE.finditer(line):\n",
    "            word = match.group()\n",
    "            print(word)\n",
    "            column_no = match.start() + 1\n",
    "            location = (line_no, column_no)\n",
    "            # setdefault returns the value, so it can be updated without requiring a second search.\n",
    "            print('setdefault:', index.setdefault(word, []))\n",
    "            \n",
    "            if word not in index:\n",
    "                index[word] = []\n",
    "            index[word].append(location)\n",
    "            print(index)"
   ]
  },
  {
   "cell_type": "code",
   "execution_count": 19,
   "metadata": {
    "scrolled": true
   },
   "outputs": [
    {
     "name": "stdout",
     "output_type": "stream",
     "text": [
      "a [(19, 48), (20, 53)]\n",
      "Although [(11, 1), (16, 1), (18, 1)]\n",
      "ambiguity [(14, 16)]\n",
      "and [(15, 23)]\n",
      "are [(21, 12)]\n",
      "aren [(10, 15)]\n",
      "at [(16, 38)]\n",
      "bad [(19, 50)]\n",
      "be [(15, 14), (16, 27), (20, 50)]\n",
      "beats [(11, 23)]\n",
      "Beautiful [(3, 1)]\n",
      "better [(3, 14), (4, 13), (5, 11), (6, 12), (7, 9), (8, 11), (17, 8), (18, 25)]\n",
      "break [(10, 40)]\n",
      "by [(1, 20)]\n",
      "cases [(10, 9)]\n",
      "complex [(5, 23)]\n",
      "Complex [(6, 1)]\n",
      "complicated [(6, 24)]\n",
      "counts [(9, 13)]\n",
      "dense [(8, 23)]\n",
      "do [(15, 64), (21, 48)]\n",
      "Dutch [(16, 61)]\n",
      "easy [(20, 26)]\n",
      "enough [(10, 30)]\n",
      "Errors [(12, 1)]\n",
      "explain [(19, 34), (20, 34)]\n",
      "Explicit [(4, 1)]\n",
      "explicitly [(13, 8)]\n",
      "face [(14, 8)]\n",
      "first [(16, 41)]\n",
      "Flat [(7, 1)]\n",
      "good [(20, 55)]\n",
      "great [(21, 28)]\n",
      "guess [(14, 52)]\n",
      "hard [(19, 26)]\n",
      "honking [(21, 20)]\n",
      "idea [(19, 54), (20, 60), (21, 34)]\n",
      "If [(19, 1), (20, 1)]\n",
      "implementation [(19, 8), (20, 8)]\n",
      "implicit [(4, 25)]\n",
      "In [(14, 1)]\n",
      "is [(3, 11), (4, 10), (5, 8), (6, 9), (7, 6), (8, 8), (17, 5), (18, 16), (19, 23), (20, 23)]\n",
      "it [(15, 67), (19, 43), (20, 43)]\n",
      "let [(21, 42)]\n",
      "may [(16, 19), (20, 46)]\n",
      "more [(21, 51)]\n",
      "Namespaces [(21, 1)]\n",
      "nested [(7, 21)]\n",
      "never [(12, 15), (17, 20), (18, 10)]\n",
      "not [(16, 23)]\n",
      "Now [(17, 1)]\n",
      "now [(18, 45)]\n",
      "obvious [(15, 49), (16, 30)]\n",
      "of [(1, 9), (14, 13), (21, 56)]\n",
      "often [(18, 19)]\n",
      "one [(15, 17), (15, 43), (21, 16)]\n",
      "only [(15, 38)]\n",
      "pass [(12, 21)]\n",
      "Peters [(1, 27)]\n",
      "practicality [(11, 10)]\n",
      "preferably [(15, 27)]\n",
      "purity [(11, 29)]\n",
      "Python [(1, 12)]\n",
      "re [(16, 58)]\n",
      "Readability [(9, 1)]\n",
      "refuse [(14, 27)]\n",
      "right [(18, 38)]\n",
      "rules [(10, 50)]\n",
      "s [(19, 46), (21, 46)]\n",
      "should [(12, 8), (15, 7)]\n",
      "silenced [(13, 19)]\n",
      "silently [(12, 26)]\n",
      "Simple [(5, 1)]\n",
      "Sparse [(8, 1)]\n",
      "Special [(10, 1)]\n",
      "special [(10, 22)]\n",
      "t [(10, 20)]\n",
      "temptation [(14, 38)]\n",
      "than [(3, 21), (4, 20), (5, 18), (6, 19), (7, 16), (8, 18), (17, 15), (18, 32)]\n",
      "that [(16, 10)]\n",
      "the [(10, 46), (14, 4), (14, 34), (19, 4), (20, 4)]\n",
      "The [(1, 1)]\n",
      "There [(15, 1)]\n",
      "those [(21, 59)]\n",
      "Tim [(1, 23)]\n",
      "to [(10, 37), (14, 49), (15, 61), (19, 31), (20, 31)]\n",
      "ugly [(3, 26)]\n",
      "Unless [(13, 1)]\n",
      "unless [(16, 47)]\n",
      "way [(15, 57), (16, 15)]\n",
      "you [(16, 54)]\n",
      "Zen [(1, 5)]\n"
     ]
    }
   ],
   "source": [
    "for word in sorted(index, key=str.upper):\n",
    "    print(word, index[word])"
   ]
  },
  {
   "cell_type": "markdown",
   "metadata": {},
   "source": [
    "## 4.Mappings with flexible key lookup"
   ]
  },
  {
   "cell_type": "markdown",
   "metadata": {},
   "source": [
    "missing key를 검색했을 때 미리 만들어진 값을 리턴하도록 maaping을 만들면 편리하다. 두 가지 접근법이 있다 : 하나는 defaultdict를 사용, 다른 하나는 dict나 다른 mapping type의 subcalss을 만들고 __missing__ 메소드를 구현"
   ]
  },
  {
   "cell_type": "markdown",
   "metadata": {},
   "source": [
    "### defaultdict : another take on missing keys"
   ]
  },
  {
   "cell_type": "markdown",
   "metadata": {
    "collapsed": true
   },
   "source": [
    "**A defaultdict is configured to create items on demand whenever a missing key is searched**"
   ]
  },
  {
   "cell_type": "markdown",
   "metadata": {},
   "source": [
    "- `1` - calls list() to create a new list.\n",
    "- `2` - inserts the list into dd using 'new-key' as key\n",
    "- `3` - returns a reference to that list."
   ]
  },
  {
   "cell_type": "code",
   "execution_count": 20,
   "metadata": {
    "collapsed": true
   },
   "outputs": [],
   "source": [
    "import sys\n",
    "import re\n",
    "import collections \n",
    "\n",
    "WORD_RE = re.compile('\\w+')\n",
    "\n",
    "# Create a defaultdict with the list constructor as \n",
    "index = collections.defaultdict(list)\n",
    "with open('zen.txt', encoding='utf-8') as fp:\n",
    "    for line_no, line in enumerate(fp, 1):\n",
    "        for match in WORD_RE.finditer(line):\n",
    "            word = match.group()\n",
    "            column_no = match.start() + 1\n",
    "            location = (line_no, column_no)\n",
    "            # If word is not initially in the index, the default_factory is called to produce the \n",
    "            # missing value\n",
    "            index[word].append(location)"
   ]
  },
  {
   "cell_type": "code",
   "execution_count": 21,
   "metadata": {
    "scrolled": true
   },
   "outputs": [
    {
     "name": "stdout",
     "output_type": "stream",
     "text": [
      "a [(19, 48), (20, 53)]\n",
      "Although [(11, 1), (16, 1), (18, 1)]\n",
      "ambiguity [(14, 16)]\n",
      "and [(15, 23)]\n",
      "are [(21, 12)]\n",
      "aren [(10, 15)]\n",
      "at [(16, 38)]\n",
      "bad [(19, 50)]\n",
      "be [(15, 14), (16, 27), (20, 50)]\n",
      "beats [(11, 23)]\n",
      "Beautiful [(3, 1)]\n",
      "better [(3, 14), (4, 13), (5, 11), (6, 12), (7, 9), (8, 11), (17, 8), (18, 25)]\n",
      "break [(10, 40)]\n",
      "by [(1, 20)]\n",
      "cases [(10, 9)]\n",
      "complex [(5, 23)]\n",
      "Complex [(6, 1)]\n",
      "complicated [(6, 24)]\n",
      "counts [(9, 13)]\n",
      "dense [(8, 23)]\n",
      "do [(15, 64), (21, 48)]\n",
      "Dutch [(16, 61)]\n",
      "easy [(20, 26)]\n",
      "enough [(10, 30)]\n",
      "Errors [(12, 1)]\n",
      "explain [(19, 34), (20, 34)]\n",
      "Explicit [(4, 1)]\n",
      "explicitly [(13, 8)]\n",
      "face [(14, 8)]\n",
      "first [(16, 41)]\n",
      "Flat [(7, 1)]\n",
      "good [(20, 55)]\n",
      "great [(21, 28)]\n",
      "guess [(14, 52)]\n",
      "hard [(19, 26)]\n",
      "honking [(21, 20)]\n",
      "idea [(19, 54), (20, 60), (21, 34)]\n",
      "If [(19, 1), (20, 1)]\n",
      "implementation [(19, 8), (20, 8)]\n",
      "implicit [(4, 25)]\n",
      "In [(14, 1)]\n",
      "is [(3, 11), (4, 10), (5, 8), (6, 9), (7, 6), (8, 8), (17, 5), (18, 16), (19, 23), (20, 23)]\n",
      "it [(15, 67), (19, 43), (20, 43)]\n",
      "let [(21, 42)]\n",
      "may [(16, 19), (20, 46)]\n",
      "more [(21, 51)]\n",
      "Namespaces [(21, 1)]\n",
      "nested [(7, 21)]\n",
      "never [(12, 15), (17, 20), (18, 10)]\n",
      "not [(16, 23)]\n",
      "Now [(17, 1)]\n",
      "now [(18, 45)]\n",
      "obvious [(15, 49), (16, 30)]\n",
      "of [(1, 9), (14, 13), (21, 56)]\n",
      "often [(18, 19)]\n",
      "one [(15, 17), (15, 43), (21, 16)]\n",
      "only [(15, 38)]\n",
      "pass [(12, 21)]\n",
      "Peters [(1, 27)]\n",
      "practicality [(11, 10)]\n",
      "preferably [(15, 27)]\n",
      "purity [(11, 29)]\n",
      "Python [(1, 12)]\n",
      "re [(16, 58)]\n",
      "Readability [(9, 1)]\n",
      "refuse [(14, 27)]\n",
      "right [(18, 38)]\n",
      "rules [(10, 50)]\n",
      "s [(19, 46), (21, 46)]\n",
      "should [(12, 8), (15, 7)]\n",
      "silenced [(13, 19)]\n",
      "silently [(12, 26)]\n",
      "Simple [(5, 1)]\n",
      "Sparse [(8, 1)]\n",
      "Special [(10, 1)]\n",
      "special [(10, 22)]\n",
      "t [(10, 20)]\n",
      "temptation [(14, 38)]\n",
      "than [(3, 21), (4, 20), (5, 18), (6, 19), (7, 16), (8, 18), (17, 15), (18, 32)]\n",
      "that [(16, 10)]\n",
      "the [(10, 46), (14, 4), (14, 34), (19, 4), (20, 4)]\n",
      "The [(1, 1)]\n",
      "There [(15, 1)]\n",
      "those [(21, 59)]\n",
      "Tim [(1, 23)]\n",
      "to [(10, 37), (14, 49), (15, 61), (19, 31), (20, 31)]\n",
      "ugly [(3, 26)]\n",
      "Unless [(13, 1)]\n",
      "unless [(16, 47)]\n",
      "way [(15, 57), (16, 15)]\n",
      "you [(16, 54)]\n",
      "Zen [(1, 5)]\n"
     ]
    }
   ],
   "source": [
    "for word in sorted(index, key=str.upper):\n",
    "    print(word, index[word])"
   ]
  },
  {
   "cell_type": "markdown",
   "metadata": {},
   "source": [
    "## The __missing__ method"
   ]
  },
  {
   "cell_type": "markdown",
   "metadata": {},
   "source": [
    "If you subcalss **dict** and provide a ___missing__ method, the standart **dict.__getitem__** will call it whenever a key is not found, instead of raising KeyError"
   ]
  },
  {
   "cell_type": "code",
   "execution_count": 23,
   "metadata": {
    "collapsed": true
   },
   "outputs": [],
   "source": [
    "class StrKeyDict0(dict):\n",
    "    def __missing__(self, key):\n",
    "        if isinstance(key, str):\n",
    "            raise KeyError(key)\n",
    "        return self[str(key)]\n",
    "    \n",
    "    def get(self, key, default=None):\n",
    "        try:\n",
    "            return self[key]\n",
    "        except KeyError:\n",
    "            return default\n",
    "        \n",
    "    def __contains__(self, key):\n",
    "        # Search for unmodified key (the instance may contatin non-str keys), \n",
    "        # then for a str built from the key\n",
    "        return key in self.keys() or str(key) in self.keys()"
   ]
  },
  {
   "cell_type": "code",
   "execution_count": 24,
   "metadata": {},
   "outputs": [
    {
     "data": {
      "text/plain": [
       "'two'"
      ]
     },
     "execution_count": 24,
     "metadata": {},
     "output_type": "execute_result"
    }
   ],
   "source": [
    "d = StrKeyDict0([('2', 'two'), ('4', 'four')])\n",
    "d['2']"
   ]
  },
  {
   "cell_type": "code",
   "execution_count": 25,
   "metadata": {},
   "outputs": [
    {
     "data": {
      "text/plain": [
       "'four'"
      ]
     },
     "execution_count": 25,
     "metadata": {},
     "output_type": "execute_result"
    }
   ],
   "source": [
    "d[4]"
   ]
  },
  {
   "cell_type": "code",
   "execution_count": 26,
   "metadata": {},
   "outputs": [
    {
     "ename": "KeyError",
     "evalue": "'1'",
     "output_type": "error",
     "traceback": [
      "\u001b[1;31m---------------------------------------------------------------------------\u001b[0m",
      "\u001b[1;31mKeyError\u001b[0m                                  Traceback (most recent call last)",
      "\u001b[1;32m<ipython-input-26-abe283337115>\u001b[0m in \u001b[0;36m<module>\u001b[1;34m()\u001b[0m\n\u001b[1;32m----> 1\u001b[1;33m \u001b[0md\u001b[0m\u001b[1;33m[\u001b[0m\u001b[1;36m1\u001b[0m\u001b[1;33m]\u001b[0m\u001b[1;33m\u001b[0m\u001b[0m\n\u001b[0m",
      "\u001b[1;32m<ipython-input-23-0afb1cd8cfa9>\u001b[0m in \u001b[0;36m__missing__\u001b[1;34m(self, key)\u001b[0m\n\u001b[0;32m      3\u001b[0m         \u001b[1;32mif\u001b[0m \u001b[0misinstance\u001b[0m\u001b[1;33m(\u001b[0m\u001b[0mkey\u001b[0m\u001b[1;33m,\u001b[0m \u001b[0mstr\u001b[0m\u001b[1;33m)\u001b[0m\u001b[1;33m:\u001b[0m\u001b[1;33m\u001b[0m\u001b[0m\n\u001b[0;32m      4\u001b[0m             \u001b[1;32mraise\u001b[0m \u001b[0mKeyError\u001b[0m\u001b[1;33m(\u001b[0m\u001b[0mkey\u001b[0m\u001b[1;33m)\u001b[0m\u001b[1;33m\u001b[0m\u001b[0m\n\u001b[1;32m----> 5\u001b[1;33m         \u001b[1;32mreturn\u001b[0m \u001b[0mself\u001b[0m\u001b[1;33m[\u001b[0m\u001b[0mstr\u001b[0m\u001b[1;33m(\u001b[0m\u001b[0mkey\u001b[0m\u001b[1;33m)\u001b[0m\u001b[1;33m]\u001b[0m\u001b[1;33m\u001b[0m\u001b[0m\n\u001b[0m\u001b[0;32m      6\u001b[0m \u001b[1;33m\u001b[0m\u001b[0m\n\u001b[0;32m      7\u001b[0m     \u001b[1;32mdef\u001b[0m \u001b[0mget\u001b[0m\u001b[1;33m(\u001b[0m\u001b[0mself\u001b[0m\u001b[1;33m,\u001b[0m \u001b[0mkey\u001b[0m\u001b[1;33m,\u001b[0m \u001b[0mdefault\u001b[0m\u001b[1;33m=\u001b[0m\u001b[1;32mNone\u001b[0m\u001b[1;33m)\u001b[0m\u001b[1;33m:\u001b[0m\u001b[1;33m\u001b[0m\u001b[0m\n",
      "\u001b[1;32m<ipython-input-23-0afb1cd8cfa9>\u001b[0m in \u001b[0;36m__missing__\u001b[1;34m(self, key)\u001b[0m\n\u001b[0;32m      2\u001b[0m     \u001b[1;32mdef\u001b[0m \u001b[0m__missing__\u001b[0m\u001b[1;33m(\u001b[0m\u001b[0mself\u001b[0m\u001b[1;33m,\u001b[0m \u001b[0mkey\u001b[0m\u001b[1;33m)\u001b[0m\u001b[1;33m:\u001b[0m\u001b[1;33m\u001b[0m\u001b[0m\n\u001b[0;32m      3\u001b[0m         \u001b[1;32mif\u001b[0m \u001b[0misinstance\u001b[0m\u001b[1;33m(\u001b[0m\u001b[0mkey\u001b[0m\u001b[1;33m,\u001b[0m \u001b[0mstr\u001b[0m\u001b[1;33m)\u001b[0m\u001b[1;33m:\u001b[0m\u001b[1;33m\u001b[0m\u001b[0m\n\u001b[1;32m----> 4\u001b[1;33m             \u001b[1;32mraise\u001b[0m \u001b[0mKeyError\u001b[0m\u001b[1;33m(\u001b[0m\u001b[0mkey\u001b[0m\u001b[1;33m)\u001b[0m\u001b[1;33m\u001b[0m\u001b[0m\n\u001b[0m\u001b[0;32m      5\u001b[0m         \u001b[1;32mreturn\u001b[0m \u001b[0mself\u001b[0m\u001b[1;33m[\u001b[0m\u001b[0mstr\u001b[0m\u001b[1;33m(\u001b[0m\u001b[0mkey\u001b[0m\u001b[1;33m)\u001b[0m\u001b[1;33m]\u001b[0m\u001b[1;33m\u001b[0m\u001b[0m\n\u001b[0;32m      6\u001b[0m \u001b[1;33m\u001b[0m\u001b[0m\n",
      "\u001b[1;31mKeyError\u001b[0m: '1'"
     ]
    }
   ],
   "source": [
    "d[1]"
   ]
  },
  {
   "cell_type": "code",
   "execution_count": 27,
   "metadata": {},
   "outputs": [
    {
     "data": {
      "text/plain": [
       "'two'"
      ]
     },
     "execution_count": 27,
     "metadata": {},
     "output_type": "execute_result"
    }
   ],
   "source": [
    "d.get('2')"
   ]
  },
  {
   "cell_type": "code",
   "execution_count": 29,
   "metadata": {},
   "outputs": [
    {
     "data": {
      "text/plain": [
       "'four'"
      ]
     },
     "execution_count": 29,
     "metadata": {},
     "output_type": "execute_result"
    }
   ],
   "source": [
    "d.get(4)"
   ]
  },
  {
   "cell_type": "code",
   "execution_count": 30,
   "metadata": {},
   "outputs": [
    {
     "data": {
      "text/plain": [
       "'N/A'"
      ]
     },
     "execution_count": 30,
     "metadata": {},
     "output_type": "execute_result"
    }
   ],
   "source": [
    "d.get(1, 'N/A')"
   ]
  },
  {
   "cell_type": "code",
   "execution_count": 31,
   "metadata": {
    "scrolled": true
   },
   "outputs": [
    {
     "data": {
      "text/plain": [
       "True"
      ]
     },
     "execution_count": 31,
     "metadata": {},
     "output_type": "execute_result"
    }
   ],
   "source": [
    "2 in d"
   ]
  },
  {
   "cell_type": "code",
   "execution_count": 32,
   "metadata": {},
   "outputs": [
    {
     "data": {
      "text/plain": [
       "False"
      ]
     },
     "execution_count": 32,
     "metadata": {},
     "output_type": "execute_result"
    }
   ],
   "source": [
    "1 in d"
   ]
  },
  {
   "cell_type": "markdown",
   "metadata": {},
   "source": [
    "## 5.Variations of dict"
   ]
  },
  {
   "cell_type": "markdown",
   "metadata": {},
   "source": [
    "**Ordered Dict**\n",
    "\n",
    "삽입한 순서대로 key를 유지한다-> predictable한 순서로 iteration이 가능하다. __popitem__ 메소드는 첫번째 아이템을 pop한다. __popitem(last=True)__는 마지막 아이템을 pop 할수 있다>"
   ]
  },
  {
   "cell_type": "markdown",
   "metadata": {},
   "source": [
    "**ChainMap**\n"
   ]
  },
  {
   "cell_type": "code",
   "execution_count": 34,
   "metadata": {
    "collapsed": true
   },
   "outputs": [],
   "source": [
    "import collections\n",
    "import builtins\n",
    "pylookup = collections.ChainMap(locals(), globals(), vars(builtins))"
   ]
  },
  {
   "cell_type": "markdown",
   "metadata": {
    "collapsed": true
   },
   "source": [
    "**Collections**\n",
    "\n",
    "a mapping that holds an integer count for each key.\n",
    "\n",
    "This can be used to count instances of hashable objects(the keys) or as a multiset - a set that can hold several occurrences of each element."
   ]
  },
  {
   "cell_type": "code",
   "execution_count": 35,
   "metadata": {},
   "outputs": [
    {
     "data": {
      "text/plain": [
       "Counter({'a': 5, 'b': 2, 'c': 1, 'd': 1, 'r': 2})"
      ]
     },
     "execution_count": 35,
     "metadata": {},
     "output_type": "execute_result"
    }
   ],
   "source": [
    "import collections\n",
    "\n",
    "ct = collections.Counter('abracadabra')\n",
    "ct"
   ]
  },
  {
   "cell_type": "code",
   "execution_count": 36,
   "metadata": {},
   "outputs": [
    {
     "data": {
      "text/plain": [
       "Counter({'a': 10, 'b': 2, 'c': 1, 'd': 1, 'r': 2, 'z': 3})"
      ]
     },
     "execution_count": 36,
     "metadata": {},
     "output_type": "execute_result"
    }
   ],
   "source": [
    "ct.update('aaaaazzz')\n",
    "ct"
   ]
  },
  {
   "cell_type": "code",
   "execution_count": 37,
   "metadata": {},
   "outputs": [
    {
     "data": {
      "text/plain": [
       "[('a', 10), ('z', 3)]"
      ]
     },
     "execution_count": 37,
     "metadata": {},
     "output_type": "execute_result"
    }
   ],
   "source": [
    "ct.most_common(2)"
   ]
  },
  {
   "cell_type": "markdown",
   "metadata": {},
   "source": [
    "**UserDict**\n",
    "\n",
    "A pure python implementation of a mapping that works like a standara dict.\n",
    "\n",
    "UserDict is designed to be subclassed"
   ]
  },
  {
   "cell_type": "markdown",
   "metadata": {},
   "source": [
    "## 6.Subclassing UserDict"
   ]
  },
  {
   "cell_type": "markdown",
   "metadata": {},
   "source": [
    "- the bulit-in has some implementation shortcuts that end up forcing us to override methods that we can just inherit from UserDict with no problems\n",
    "\n",
    "- has an internal dict instance, called data, which holds the actual items\n",
    "\n",
    "- it stores all keys as **str**, avoiding unpleasant surprises if the instance is built or updated with data containing non-string keys"
   ]
  },
  {
   "cell_type": "code",
   "execution_count": 39,
   "metadata": {
    "collapsed": true
   },
   "outputs": [],
   "source": [
    "import collections\n",
    "\n",
    "class StrKeyDict(collections.UserDict):\n",
    "    \n",
    "    def __missing__(self, key):\n",
    "        if isinstance(key, str):\n",
    "            raise KeyError(key)\n",
    "        return self[str(key)]\n",
    "    \n",
    "    def __contains__(self, key):\n",
    "        \n",
    "        return str(key) in self.data\n",
    "    \n",
    "    def __setitem__(self, key, item):\n",
    "        self.data[str(key)] = item\n",
    "        "
   ]
  },
  {
   "cell_type": "markdown",
   "metadata": {},
   "source": [
    "**MutalbeMapping.update**\n",
    "\n",
    "it uses self[key] = value to add items, it ends up calling our implementation of __setitem__\n",
    "\n",
    "**Mapping.get**\n",
    "\n",
    "just inherited Mapping.get "
   ]
  },
  {
   "cell_type": "code",
   "execution_count": 46,
   "metadata": {},
   "outputs": [
    {
     "data": {
      "text/plain": [
       "3333"
      ]
     },
     "execution_count": 46,
     "metadata": {},
     "output_type": "execute_result"
    }
   ],
   "source": [
    "test = StrKeyDict({'one':1, 'two':2, 'three':3})\n",
    "test.update({'three':3333,'four':4})\n",
    "test.get('three')"
   ]
  },
  {
   "cell_type": "markdown",
   "metadata": {},
   "source": [
    "## 7.Immutable Mappings"
   ]
  },
  {
   "cell_type": "markdown",
   "metadata": {},
   "source": [
    "The mapping types provided by the standard library are all mutalbe\n",
    "\n",
    "gurantee aht a user cannot change a mapping by mistake - prevent inadvertant updates\n",
    "\n",
    "**mappingproxy instance** : a read-only but dynamic view of the original mapping."
   ]
  },
  {
   "cell_type": "code",
   "execution_count": 49,
   "metadata": {},
   "outputs": [
    {
     "data": {
      "text/plain": [
       "mappingproxy({1: 'A'})"
      ]
     },
     "execution_count": 49,
     "metadata": {},
     "output_type": "execute_result"
    }
   ],
   "source": [
    "from types import MappingProxyType\n",
    "d = {1:'A'}\n",
    "d_proxy = MappingProxyType(d)\n",
    "d_proxy"
   ]
  },
  {
   "cell_type": "code",
   "execution_count": 50,
   "metadata": {},
   "outputs": [
    {
     "data": {
      "text/plain": [
       "'A'"
      ]
     },
     "execution_count": 50,
     "metadata": {},
     "output_type": "execute_result"
    }
   ],
   "source": [
    "d_proxy[1]"
   ]
  },
  {
   "cell_type": "code",
   "execution_count": 51,
   "metadata": {},
   "outputs": [
    {
     "ename": "TypeError",
     "evalue": "'mappingproxy' object does not support item assignment",
     "output_type": "error",
     "traceback": [
      "\u001b[1;31m---------------------------------------------------------------------------\u001b[0m",
      "\u001b[1;31mTypeError\u001b[0m                                 Traceback (most recent call last)",
      "\u001b[1;32m<ipython-input-51-cb84dba8e1f4>\u001b[0m in \u001b[0;36m<module>\u001b[1;34m()\u001b[0m\n\u001b[1;32m----> 1\u001b[1;33m \u001b[0md_proxy\u001b[0m\u001b[1;33m[\u001b[0m\u001b[1;36m2\u001b[0m\u001b[1;33m]\u001b[0m\u001b[1;33m=\u001b[0m\u001b[1;34m'x'\u001b[0m\u001b[1;33m\u001b[0m\u001b[0m\n\u001b[0m",
      "\u001b[1;31mTypeError\u001b[0m: 'mappingproxy' object does not support item assignment"
     ]
    }
   ],
   "source": [
    "# Changes cannot be made through d_proxy\n",
    "d_proxy[2]='x'"
   ]
  },
  {
   "cell_type": "code",
   "execution_count": 52,
   "metadata": {},
   "outputs": [
    {
     "data": {
      "text/plain": [
       "mappingproxy({1: 'A', 2: 'B'})"
      ]
     },
     "execution_count": 52,
     "metadata": {},
     "output_type": "execute_result"
    }
   ],
   "source": [
    "d[2] = 'B'\n",
    "d_proxy"
   ]
  },
  {
   "cell_type": "code",
   "execution_count": 53,
   "metadata": {},
   "outputs": [
    {
     "data": {
      "text/plain": [
       "'B'"
      ]
     },
     "execution_count": 53,
     "metadata": {},
     "output_type": "execute_result"
    }
   ],
   "source": [
    "d_proxy[2]"
   ]
  },
  {
   "cell_type": "markdown",
   "metadata": {},
   "source": [
    "## 8.Set Theory"
   ]
  },
  {
   "cell_type": "markdown",
   "metadata": {},
   "source": [
    "A set is a collection of unique objects. A basic use case is **removing duplication**"
   ]
  },
  {
   "cell_type": "code",
   "execution_count": 54,
   "metadata": {},
   "outputs": [
    {
     "data": {
      "text/plain": [
       "{'eggs', 'spam'}"
      ]
     },
     "execution_count": 54,
     "metadata": {},
     "output_type": "execute_result"
    }
   ],
   "source": [
    "l = ['spam', 'spam', 'eggs', 'spam']\n",
    "set(l)"
   ]
  },
  {
   "cell_type": "code",
   "execution_count": 55,
   "metadata": {},
   "outputs": [
    {
     "data": {
      "text/plain": [
       "['eggs', 'spam']"
      ]
     },
     "execution_count": 55,
     "metadata": {},
     "output_type": "execute_result"
    }
   ],
   "source": [
    "list(set(l))"
   ]
  },
  {
   "cell_type": "code",
   "execution_count": 60,
   "metadata": {
    "collapsed": true
   },
   "outputs": [],
   "source": [
    "haystack = set([1,4,5,6,8,12,15,20,21,23,23,26,29,30])\n",
    "needles= set([0,1,2,5,8,10,22,23,29,30,31])"
   ]
  },
  {
   "cell_type": "code",
   "execution_count": 62,
   "metadata": {},
   "outputs": [
    {
     "data": {
      "text/plain": [
       "6"
      ]
     },
     "execution_count": 62,
     "metadata": {},
     "output_type": "execute_result"
    }
   ],
   "source": [
    "found = len(needles & haystack)\n",
    "found"
   ]
  },
  {
   "cell_type": "code",
   "execution_count": 63,
   "metadata": {},
   "outputs": [
    {
     "data": {
      "text/plain": [
       "6"
      ]
     },
     "execution_count": 63,
     "metadata": {},
     "output_type": "execute_result"
    }
   ],
   "source": [
    "found = 0\n",
    "for n in needles:\n",
    "    if n in haystack:\n",
    "        found+=1\n",
    "        \n",
    "found"
   ]
  },
  {
   "cell_type": "code",
   "execution_count": 65,
   "metadata": {},
   "outputs": [
    {
     "data": {
      "text/plain": [
       "6"
      ]
     },
     "execution_count": 65,
     "metadata": {},
     "output_type": "execute_result"
    }
   ],
   "source": [
    "haystack = [1,4,5,6,8,12,15,20,21,23,23,26,29,30]\n",
    "needles= [0,1,2,5,8,10,22,23,29,30,31]\n",
    "\n",
    "found = len(set(needles) & set(haystack))\n",
    "found"
   ]
  },
  {
   "cell_type": "code",
   "execution_count": 67,
   "metadata": {},
   "outputs": [
    {
     "data": {
      "text/plain": [
       "6"
      ]
     },
     "execution_count": 67,
     "metadata": {},
     "output_type": "execute_result"
    }
   ],
   "source": [
    "haystack = [1,4,5,6,8,12,15,20,21,23,23,26,29,30]\n",
    "needles= [0,1,2,5,8,10,22,23,29,30,31]\n",
    "\n",
    "found = len(set(needles).intersection(haystack))\n",
    "found"
   ]
  },
  {
   "cell_type": "code",
   "execution_count": 68,
   "metadata": {},
   "outputs": [
    {
     "data": {
      "text/plain": [
       "set"
      ]
     },
     "execution_count": 68,
     "metadata": {},
     "output_type": "execute_result"
    }
   ],
   "source": [
    "s = {1}\n",
    "type(s)"
   ]
  },
  {
   "cell_type": "code",
   "execution_count": 69,
   "metadata": {},
   "outputs": [
    {
     "data": {
      "text/plain": [
       "{1}"
      ]
     },
     "execution_count": 69,
     "metadata": {},
     "output_type": "execute_result"
    }
   ],
   "source": [
    "s"
   ]
  },
  {
   "cell_type": "code",
   "execution_count": 70,
   "metadata": {},
   "outputs": [
    {
     "data": {
      "text/plain": [
       "1"
      ]
     },
     "execution_count": 70,
     "metadata": {},
     "output_type": "execute_result"
    }
   ],
   "source": [
    "s.pop()"
   ]
  },
  {
   "cell_type": "code",
   "execution_count": 71,
   "metadata": {},
   "outputs": [
    {
     "data": {
      "text/plain": [
       "set()"
      ]
     },
     "execution_count": 71,
     "metadata": {},
     "output_type": "execute_result"
    }
   ],
   "source": [
    "s"
   ]
  },
  {
   "cell_type": "markdown",
   "metadata": {},
   "source": [
    "### set Comprehensions"
   ]
  },
  {
   "cell_type": "code",
   "execution_count": 72,
   "metadata": {
    "scrolled": true
   },
   "outputs": [
    {
     "data": {
      "text/plain": [
       "{'#',\n",
       " '$',\n",
       " '%',\n",
       " '+',\n",
       " '<',\n",
       " '=',\n",
       " '>',\n",
       " '¢',\n",
       " '£',\n",
       " '¤',\n",
       " '¥',\n",
       " '§',\n",
       " '©',\n",
       " '¬',\n",
       " '®',\n",
       " '°',\n",
       " '±',\n",
       " 'µ',\n",
       " '¶',\n",
       " '×',\n",
       " '÷'}"
      ]
     },
     "execution_count": 72,
     "metadata": {},
     "output_type": "execute_result"
    }
   ],
   "source": [
    "from unicodedata import name\n",
    "{chr(i) for i in range(32, 256) if 'SIGN' in name(chr(i),'')}"
   ]
  },
  {
   "cell_type": "markdown",
   "metadata": {},
   "source": [
    "## 9.Dict and Set under the hood"
   ]
  },
  {
   "cell_type": "code",
   "execution_count": 73,
   "metadata": {},
   "outputs": [
    {
     "name": "stdout",
     "output_type": "stream",
     "text": [
      "d1: dict_keys([880, 1, 86, 55, 7, 234, 91, 92, 62, 81])\n"
     ]
    }
   ],
   "source": [
    "DIAL_CODES = [\n",
    "    (86, 'China'), \n",
    "    (91, 'India'), \n",
    "    (1, 'United States'), \n",
    "    (62, 'Indonesia'), \n",
    "    (55, 'Brazil'), \n",
    "    (92, 'Pakistan'), \n",
    "    (880, 'Bangladesh'), \n",
    "    (234, 'Nigeria'), \n",
    "    (7, 'Russia'), \n",
    "    (81, 'Japan'),\n",
    "]\n",
    "\n",
    "d1 = dict(DIAL_CODES)\n",
    "print('d1:', d1.keys())"
   ]
  },
  {
   "cell_type": "code",
   "execution_count": 74,
   "metadata": {},
   "outputs": [
    {
     "name": "stdout",
     "output_type": "stream",
     "text": [
      "d2: dict_keys([880, 1, 91, 86, 81, 55, 234, 7, 92, 62])\n"
     ]
    }
   ],
   "source": [
    "d2 = dict(sorted(DIAL_CODES))\n",
    "print('d2:', d2.keys())"
   ]
  },
  {
   "cell_type": "code",
   "execution_count": 75,
   "metadata": {},
   "outputs": [
    {
     "name": "stdout",
     "output_type": "stream",
     "text": [
      "d3: dict_keys([880, 1, 91, 86, 81, 55, 234, 7, 92, 62])\n"
     ]
    }
   ],
   "source": [
    "d3 = dict(sorted(DIAL_CODES, key=lambda x:x[1]))\n",
    "print('d3:', d2.keys())"
   ]
  },
  {
   "cell_type": "code",
   "execution_count": 78,
   "metadata": {
    "collapsed": true
   },
   "outputs": [],
   "source": [
    "assert d1 == d2 and d2 == d3"
   ]
  },
  {
   "cell_type": "markdown",
   "metadata": {},
   "source": [
    "## 10.Chapter summary\n",
    "\n",
    "Dictionaries are a keystone of Python\n",
    "\n",
    "basic dict, defaultdict, OrderedDict, ChainMap and Counter, UserDict\n",
    "\n",
    "The setdefault method is used to update items holding mutable values to avoid redundant searches for the same key.\n",
    "\n",
    "The update method allows bulk insertion or overwritting of items from any other mapping, from iterables providing (key, value) pairs and from keyword arguments.\n",
    "\n",
    "Mapping constructors also use update internally, allowing instances to be initialized from mappings, iterables or keyword arguments.\n",
    "\n",
    "missing method lets you customize what happens when a key is not found.\n",
    "\n",
    "The collection.abc module provides the Mapping and MutableMapping abstrach base classes for reference and type checking.\n",
    "\n",
    "MappingProxyType from type module creates immutable mappings.\n",
    "\n",
    "ABCs for Set and Mutable Set.\n",
    "\n",
    "The hash table implementation underlying dict and set is extremely fast."
   ]
  }
 ],
 "metadata": {
  "kernelspec": {
   "display_name": "Python 3",
   "language": "python",
   "name": "python3"
  },
  "language_info": {
   "codemirror_mode": {
    "name": "ipython",
    "version": 3
   },
   "file_extension": ".py",
   "mimetype": "text/x-python",
   "name": "python",
   "nbconvert_exporter": "python",
   "pygments_lexer": "ipython3",
   "version": "3.5.4"
  }
 },
 "nbformat": 4,
 "nbformat_minor": 2
}
