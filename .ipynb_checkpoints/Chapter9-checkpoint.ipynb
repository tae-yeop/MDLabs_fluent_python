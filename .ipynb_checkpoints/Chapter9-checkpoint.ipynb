{
 "cells": [
  {
   "cell_type": "markdown",
   "metadata": {},
   "source": [
    "# A Pythonic object"
   ]
  },
  {
   "cell_type": "markdown",
   "metadata": {},
   "source": [
    "User-defined types can behave as naturally as the built-in types.\n",
    "\n",
    "This can be accomplished without inheritance, in the spirit of `duck typing` : you just implement the methods needed for your objects to behabe as expected.\n",
    "\n",
    "- Supprot the bulit in functions that produce alterante object representation (e.g. `repr()`, `bytes()` etct).\n",
    "\n",
    "- Implment an alternate constructor as a class method\n",
    "\n",
    "- Extend the format mini-language used by the `format()` built-in and the `str.format()` method\n",
    "\n",
    "- Provide read-only access to attributes.\n",
    "\n",
    "- Make an object hashable for use in sets and as `dict` keys.\n",
    "\n",
    "- Save memory with the use of `__slot__`"
   ]
  },
  {
   "cell_type": "markdown",
   "metadata": {},
   "source": [
    "## 1. Object representations"
   ]
  },
  {
   "cell_type": "markdown",
   "metadata": {},
   "source": [
    "Every OOP language has at least one standard way of getting a string representation from any object. Python has two:\n",
    "\n",
    "- repr(): return a string representing the object as the developer wants to see it.\n",
    "- str() : return a string representing the object as the user wnats to see it.\n",
    "\n",
    "two additional methods to support alterante representations of objects : `__bytes__` and `__foramt__`.\n",
    "\n",
    "`__bytes__` method is analogous too `__str__` : it's called by `bytes()` to get the object represented as a byte sequence.\n",
    "\n",
    "both the bulit-in function `format()` and the `str.format()` method call it to get string displays of objects using special formatting codes.\n",
    "\n",
    "`__repr__`, `__str__` and `__format__` must always return Unicode strings (type `str`).\n",
    "Only `__bytes__` is supposed to return a bytes sequence (type `bytes`)."
   ]
  },
  {
   "cell_type": "markdown",
   "metadata": {},
   "source": [
    "a string is a sequence of characters. these are an abstract concept, and can't be directly stored on disk.\n",
    "\n",
    "A byte string is a sequence of, unsurprisingly, bytes. that can be stored on disk.\n",
    "\n",
    "관련 글 : https://stackoverflow.com/questions/6224052/what-is-the-difference-between-a-string-and-a-byte-string"
   ]
  },
  {
   "cell_type": "markdown",
   "metadata": {},
   "source": [
    "## 2. Vector class redux"
   ]
  },
  {
   "cell_type": "code",
   "execution_count": 1,
   "metadata": {},
   "outputs": [
    {
     "data": {
      "text/plain": [
       "<generator object <genexpr> at 0x0000023F0472A9E8>"
      ]
     },
     "execution_count": 1,
     "metadata": {},
     "output_type": "execute_result"
    }
   ],
   "source": [
    "(i for i in (3,4))"
   ]
  },
  {
   "cell_type": "code",
   "execution_count": 13,
   "metadata": {
    "collapsed": true
   },
   "outputs": [],
   "source": [
    "from array import array\n",
    "import math\n",
    "\n",
    "class Vector2d:\n",
    "    # typecode is a class attribute we'll use when converting Vector2d instncaes to /from bytes.\n",
    "    typecode = 'd'\n",
    "    \n",
    "    def __init__(self, x, y):\n",
    "        # Converting x and y to float in __init__ catches errors early, \n",
    "        # in case Vector2d is called with unsuitable arguments.\n",
    "        self.x = float(x)\n",
    "        self.y = float(y)\n",
    "        \n",
    "    def __iter__(self):\n",
    "        # __iter__ makes a Vector2d iterable; this is what makes unpacking works\n",
    "        # e.g, x,y = my_vector. We implement it simply by using a generator expression \n",
    "        # to yield the components one after the other.\n",
    "        return (i for i in (self.x, self.y))\n",
    "    \n",
    "    def __repr__(self):\n",
    "        class_name = type(self).__name__\n",
    "        # __repr__ builds a string by interpolating the components with {!r} to get their repr\n",
    "        # because Vector2d is iterable, *self feeds the x and y components to format.\n",
    "        return '{}({!r}, {!r})'.format(class_name, *self)\n",
    "    \n",
    "    def __str__(self):\n",
    "        # From an iterable Vector2d it's easy to build a tuple for display as an ordered pair.\n",
    "        return str(tuple(self))\n",
    "    \n",
    "    def __bytes__(self):\n",
    "        # ord() :  Return the Unicode code point for a one-character string\n",
    "        # to generate bytes, we convert the typecode to bytes and concatenate\n",
    "        # bytes converted from an array bulit by iterating over the instance.\n",
    "        return (bytes([ord(self.typecode)]) +  bytes(array(self.typecode, self)))\n",
    "    \n",
    "    # To quickly compare all components, build tuples out of the operands. \n",
    "    # This works for operands that are instances of Vector2d, but has issues.\n",
    "    def __eq__(self, other):\n",
    "        return tuple(self) == tuple(other)\n",
    "    \n",
    "    def __abs__(self):\n",
    "        return math.hypot(self.x, self.y)\n",
    "    # __bool__ uses abs(self) to compute the magnitude, then converts it to bool.\n",
    "    # so 0.0 becomes False, non-zero is True.\n",
    "    def __bool__(self):\n",
    "        return bool(abs(self))\n",
    "    \n",
    "    "
   ]
  },
  {
   "cell_type": "markdown",
   "metadata": {},
   "source": [
    "Method `__eq__` works for Vector2d operands but also returns `True` when comparing `Vector2d` instances to other iterables holding the same numeric values."
   ]
  },
  {
   "cell_type": "code",
   "execution_count": 4,
   "metadata": {
    "collapsed": true
   },
   "outputs": [],
   "source": [
    "v1 = Vector2d(3,4)"
   ]
  },
  {
   "cell_type": "code",
   "execution_count": 5,
   "metadata": {},
   "outputs": [
    {
     "name": "stdout",
     "output_type": "stream",
     "text": [
      "3.0 4.0\n"
     ]
    }
   ],
   "source": [
    "print(v1.x, v1.y)"
   ]
  },
  {
   "cell_type": "code",
   "execution_count": 6,
   "metadata": {
    "collapsed": true
   },
   "outputs": [],
   "source": [
    "x, y = v1"
   ]
  },
  {
   "cell_type": "code",
   "execution_count": 7,
   "metadata": {},
   "outputs": [
    {
     "data": {
      "text/plain": [
       "(3.0, 4.0)"
      ]
     },
     "execution_count": 7,
     "metadata": {},
     "output_type": "execute_result"
    }
   ],
   "source": [
    "x, y"
   ]
  },
  {
   "cell_type": "code",
   "execution_count": 8,
   "metadata": {},
   "outputs": [
    {
     "data": {
      "text/plain": [
       "Vector2d(3.0, 4.0)"
      ]
     },
     "execution_count": 8,
     "metadata": {},
     "output_type": "execute_result"
    }
   ],
   "source": [
    "v1"
   ]
  },
  {
   "cell_type": "markdown",
   "metadata": {},
   "source": [
    "eval(expression) : 실행가능한 문자열을 입력으로 받아 문자열을 실행한 결과값을 리턴하는 함수이다.\n",
    "입력받은 문자열로 파이썬 함수나 클래스를 동적으로 실행하고 싶은 경우에 사용된다.\n",
    "\n",
    "관련글 : https://wikidocs.net/32#eval"
   ]
  },
  {
   "cell_type": "code",
   "execution_count": 9,
   "metadata": {
    "collapsed": true
   },
   "outputs": [],
   "source": [
    "v1_clone = eval(repr(v1))"
   ]
  },
  {
   "cell_type": "code",
   "execution_count": 10,
   "metadata": {},
   "outputs": [
    {
     "data": {
      "text/plain": [
       "True"
      ]
     },
     "execution_count": 10,
     "metadata": {},
     "output_type": "execute_result"
    }
   ],
   "source": [
    "v1 == v1_clone"
   ]
  },
  {
   "cell_type": "code",
   "execution_count": 11,
   "metadata": {},
   "outputs": [
    {
     "name": "stdout",
     "output_type": "stream",
     "text": [
      "(3.0, 4.0)\n"
     ]
    }
   ],
   "source": [
    "print(v1)"
   ]
  },
  {
   "cell_type": "code",
   "execution_count": 12,
   "metadata": {
    "collapsed": true
   },
   "outputs": [],
   "source": [
    "# bytes uses the __bytes__ method to produce a binary representation.\n",
    "octets = bytes(v1)"
   ]
  },
  {
   "cell_type": "code",
   "execution_count": 13,
   "metadata": {},
   "outputs": [
    {
     "data": {
      "text/plain": [
       "b'd\\x00\\x00\\x00\\x00\\x00\\x00\\x08@\\x00\\x00\\x00\\x00\\x00\\x00\\x10@'"
      ]
     },
     "execution_count": 13,
     "metadata": {},
     "output_type": "execute_result"
    }
   ],
   "source": [
    "octets"
   ]
  },
  {
   "cell_type": "code",
   "execution_count": 14,
   "metadata": {},
   "outputs": [
    {
     "data": {
      "text/plain": [
       "5.0"
      ]
     },
     "execution_count": 14,
     "metadata": {},
     "output_type": "execute_result"
    }
   ],
   "source": [
    "abs(v1)"
   ]
  },
  {
   "cell_type": "code",
   "execution_count": 15,
   "metadata": {},
   "outputs": [
    {
     "data": {
      "text/plain": [
       "(True, False)"
      ]
     },
     "execution_count": 15,
     "metadata": {},
     "output_type": "execute_result"
    }
   ],
   "source": [
    "bool(v1), bool(Vector2d(0,0))"
   ]
  },
  {
   "cell_type": "markdown",
   "metadata": {},
   "source": [
    "## 3. An alterantive constructor"
   ]
  },
  {
   "cell_type": "markdown",
   "metadata": {},
   "source": [
    "Since we can export a `Vector2d` as bytes, naturally we need a method that imports a `Vector2d` from a binary sequence.\n",
    "\n",
    "we find that `array.array` has a class method named `.frombytes` that suits our purpose.\n",
    "\n",
    "We adopt its name and use its functinality in a class mehtod for `Vector2d`\n",
    "\n",
    "```python\n",
    "# Class method is modified by the classmethod decorator.\n",
    "@classmethod\n",
    "# No self argument; instead, the class itself is passed as cls.\n",
    "def frombytes(cls, octets):\n",
    "    # Read the typecode from the first bytes.\n",
    "    typecode = char(octets[0])\n",
    "    # Create a memoryview from the octets binary sequence and use the typecode to cast it.\n",
    "    memv = memoryview(octets[1:]).cast(typecode)\n",
    "    # Unpack the memoryview resulting from the cast into the pair of arguments\n",
    "    # need for the constructor\n",
    "    return cls(*memv)\n",
    "\n",
    "```\n"
   ]
  },
  {
   "cell_type": "markdown",
   "metadata": {},
   "source": [
    "Arrays : If all you want to put in the list are numbers, an `array.array` is more efficinet than a `list`\n",
    "\n",
    "If you create an `array('b')` then each item will be stored in a single byte and interpreted as an integer from -128 to 127.\n",
    "\n",
    "Memoryview : is a shared-memory shared type that lets you handle slices of arrays without copying bytes. \n",
    "\n",
    "The `memoryview.cast` method lets you change the way multiple bytes are read or written as units without moving bits around."
   ]
  },
  {
   "cell_type": "markdown",
   "metadata": {},
   "source": [
    "## classmethod versus staticmethod"
   ]
  },
  {
   "cell_type": "markdown",
   "metadata": {},
   "source": [
    "`classmethod` : to define a method that operates on the class and not on instances.\n",
    "\n",
    "it receives the class itself as the first argument, instead of an instance.\n",
    "\n",
    "Its most common use is for alternate constructors like `frombytes`.\n",
    "\n",
    "By convention, the first parameter of a class method should be named `cls`"
   ]
  },
  {
   "cell_type": "markdown",
   "metadata": {},
   "source": [
    "`staticmethod` : changes a method so that it receives no special first argument.\n",
    "\n",
    "static method is just like a plain function that happens to live in a class body, instead of being defined at the module level."
   ]
  },
  {
   "cell_type": "code",
   "execution_count": 1,
   "metadata": {
    "collapsed": true
   },
   "outputs": [],
   "source": [
    "class Demo:\n",
    "    @classmethod\n",
    "    def klassmeth(*args):\n",
    "        # just returns all positional arguments.\n",
    "        return args\n",
    "    @staticmethod\n",
    "    def statmeth(*args):\n",
    "        # just returns all positional arguments.\n",
    "        return args"
   ]
  },
  {
   "cell_type": "code",
   "execution_count": 2,
   "metadata": {},
   "outputs": [
    {
     "data": {
      "text/plain": [
       "(__main__.Demo,)"
      ]
     },
     "execution_count": 2,
     "metadata": {},
     "output_type": "execute_result"
    }
   ],
   "source": [
    "# No matter how you invoke it, Demo.klassmeth receive the Demo class as the first argument.\n",
    "Demo.klassmeth()"
   ]
  },
  {
   "cell_type": "code",
   "execution_count": 3,
   "metadata": {},
   "outputs": [
    {
     "data": {
      "text/plain": [
       "(__main__.Demo, 'spam')"
      ]
     },
     "execution_count": 3,
     "metadata": {},
     "output_type": "execute_result"
    }
   ],
   "source": [
    "Demo.klassmeth('spam')"
   ]
  },
  {
   "cell_type": "code",
   "execution_count": 4,
   "metadata": {},
   "outputs": [
    {
     "data": {
      "text/plain": [
       "()"
      ]
     },
     "execution_count": 4,
     "metadata": {},
     "output_type": "execute_result"
    }
   ],
   "source": [
    "# behaves just like a plain old function.\n",
    "Demo.statmeth()"
   ]
  },
  {
   "cell_type": "code",
   "execution_count": 5,
   "metadata": {},
   "outputs": [
    {
     "data": {
      "text/plain": [
       "('spam',)"
      ]
     },
     "execution_count": 5,
     "metadata": {},
     "output_type": "execute_result"
    }
   ],
   "source": [
    "Demo.statmeth('spam')"
   ]
  },
  {
   "cell_type": "markdown",
   "metadata": {},
   "source": [
    "## 4. Formmated displays"
   ]
  },
  {
   "cell_type": "markdown",
   "metadata": {},
   "source": [
    "The `format()` built-in function and the `str.format()` method delegate the actual formatting to each type by calling their `.__format__(format_spec)` method.\n",
    "\n",
    "`format_spec` is a formatting specifier, which is either:\n",
    "\n",
    "- The second argument in `format(my_obj, format_spec)`, or\n",
    "- whatever appears after the colon in a replacehment field delimited with {} inside a format string used with `str.format()`."
   ]
  },
  {
   "cell_type": "code",
   "execution_count": 6,
   "metadata": {},
   "outputs": [
    {
     "data": {
      "text/plain": [
       "0.4115226337448559"
      ]
     },
     "execution_count": 6,
     "metadata": {},
     "output_type": "execute_result"
    }
   ],
   "source": [
    "brl = 1/2.43\n",
    "brl"
   ]
  },
  {
   "cell_type": "code",
   "execution_count": 7,
   "metadata": {},
   "outputs": [
    {
     "data": {
      "text/plain": [
       "'0.4115'"
      ]
     },
     "execution_count": 7,
     "metadata": {},
     "output_type": "execute_result"
    }
   ],
   "source": [
    "# Formatting specifier is `0.4f`.\n",
    "format(brl, '0.4f')"
   ]
  },
  {
   "cell_type": "code",
   "execution_count": 8,
   "metadata": {},
   "outputs": [
    {
     "data": {
      "text/plain": [
       "'1 BRL = 0.41 USD'"
      ]
     },
     "execution_count": 8,
     "metadata": {},
     "output_type": "execute_result"
    }
   ],
   "source": [
    "# The 'rate' substring in the replacement field is called the field name.\n",
    "'1 BRL = {rate:0.2f} USD'.format(rate=brl)"
   ]
  },
  {
   "cell_type": "markdown",
   "metadata": {},
   "source": [
    "A few built-in types have their own presenation codes in the Format Specification Mini Language.\n",
    "\n",
    "the `int` type supprots `b` and `x` for the base 2 and base 16 output.\n",
    "while `float` implements `f` for a fixed-point display and `%` for a percentage display"
   ]
  },
  {
   "cell_type": "code",
   "execution_count": 9,
   "metadata": {},
   "outputs": [
    {
     "data": {
      "text/plain": [
       "'101010'"
      ]
     },
     "execution_count": 9,
     "metadata": {},
     "output_type": "execute_result"
    }
   ],
   "source": [
    "format(42, 'b')"
   ]
  },
  {
   "cell_type": "code",
   "execution_count": 10,
   "metadata": {},
   "outputs": [
    {
     "data": {
      "text/plain": [
       "'66.7%'"
      ]
     },
     "execution_count": 10,
     "metadata": {},
     "output_type": "execute_result"
    }
   ],
   "source": [
    "format(2/3, '.1%')"
   ]
  },
  {
   "cell_type": "code",
   "execution_count": 2,
   "metadata": {
    "scrolled": true
   },
   "outputs": [
    {
     "data": {
      "text/plain": [
       "'16:09:57'"
      ]
     },
     "execution_count": 2,
     "metadata": {},
     "output_type": "execute_result"
    }
   ],
   "source": [
    "from datetime import datetime\n",
    "now = datetime.now()\n",
    "# format : Return value.__format__(format_spec)\n",
    "format(now, '%H:%M:%S')"
   ]
  },
  {
   "cell_type": "code",
   "execution_count": 12,
   "metadata": {},
   "outputs": [
    {
     "data": {
      "text/plain": [
       "\"It's now 05:35 PM\""
      ]
     },
     "execution_count": 12,
     "metadata": {},
     "output_type": "execute_result"
    }
   ],
   "source": [
    "\"It's now {:%I:%M %p}\".format(now)"
   ]
  },
  {
   "cell_type": "markdown",
   "metadata": {},
   "source": [
    "If a class has no `__format__`, the method inherited from `object` returns `str(my_object)`.\n",
    "\n",
    "Since `Vector2d` has a `__str__`, this works:"
   ]
  },
  {
   "cell_type": "code",
   "execution_count": 14,
   "metadata": {},
   "outputs": [
    {
     "data": {
      "text/plain": [
       "'(3.0, 4.0)'"
      ]
     },
     "execution_count": 14,
     "metadata": {},
     "output_type": "execute_result"
    }
   ],
   "source": [
    "v1 = Vector2d(3,4)\n",
    "format(v1)"
   ]
  },
  {
   "cell_type": "code",
   "execution_count": 15,
   "metadata": {},
   "outputs": [
    {
     "ename": "TypeError",
     "evalue": "unsupported format string passed to Vector2d.__format__",
     "output_type": "error",
     "traceback": [
      "\u001b[1;31m---------------------------------------------------------------------------\u001b[0m",
      "\u001b[1;31mTypeError\u001b[0m                                 Traceback (most recent call last)",
      "\u001b[1;32m<ipython-input-15-9f7764dc3848>\u001b[0m in \u001b[0;36m<module>\u001b[1;34m()\u001b[0m\n\u001b[1;32m----> 1\u001b[1;33m \u001b[0mformat\u001b[0m\u001b[1;33m(\u001b[0m\u001b[0mv1\u001b[0m\u001b[1;33m,\u001b[0m \u001b[1;34m'.3f'\u001b[0m\u001b[1;33m)\u001b[0m\u001b[1;33m\u001b[0m\u001b[0m\n\u001b[0m",
      "\u001b[1;31mTypeError\u001b[0m: unsupported format string passed to Vector2d.__format__"
     ]
    }
   ],
   "source": [
    "format(v1, '.3f')"
   ]
  },
  {
   "cell_type": "code",
   "execution_count": 3,
   "metadata": {
    "collapsed": true
   },
   "outputs": [],
   "source": [
    "from array import array\n",
    "import math\n",
    "\n",
    "class Vector2d:\n",
    "    # typecode is a class attribute we'll use when converting Vector2d instncaes to /from bytes.\n",
    "    typecode = 'd'\n",
    "    \n",
    "    def __init__(self, x, y):\n",
    "        # Converting x and y to float in __init__ catches errors early, \n",
    "        # in case Vector2d is called with unsuitable arguments.\n",
    "        self.x = float(x)\n",
    "        self.y = float(y)\n",
    "        \n",
    "    def __iter__(self):\n",
    "        # __iter__ makes a Vector2d iterable; this is what makes unpacking works\n",
    "        # e.g, x,y = my_vector. We implement it simply by using a generator expression \n",
    "        # to yield the components one after the other.\n",
    "        return (i for i in (self.x, self.y))\n",
    "    \n",
    "    def __repr__(self):\n",
    "        class_name = type(self).__name__\n",
    "        # __repr__ builds a string by interpolating the components with {!r} to get their repr\n",
    "        # because Vector2d is iterable, *self feeds the x and y components to format.\n",
    "        return '{}({!r}, {!r})'.format(class_name, *self)\n",
    "    \n",
    "    def __str__(self):\n",
    "        # From an iterable Vector2d it's easy to build a tuple for display as an ordered pair.\n",
    "        return str(tuple(self))\n",
    "    \n",
    "    def __bytes__(self):\n",
    "        # ord() :  Return the Unicode code point for a one-character string\n",
    "        # to generate bytes, we convert the typecode to bytes and concatenate\n",
    "        # bytes converted from an array bulit by iterating over the instance.\n",
    "        return (bytes([ord(self.typecode)]) +  bytes(array(self.typecode, self)))\n",
    "    \n",
    "    # To quickly compare all components, build tuples out of the operands. \n",
    "    # This works for operands that are instances of Vector2d, but has issues.\n",
    "    def __eq__(self, other):\n",
    "        return tuple(self) == tuple(other)\n",
    "    \n",
    "    def __abs__(self):\n",
    "        return math.hypot(self.x, self.y)\n",
    "    # __bool__ uses abs(self) to compute the magnitude, then converts it to bool.\n",
    "    # so 0.0 becomes False, non-zero is True.\n",
    "    def __bool__(self):\n",
    "        return bool(abs(self))\n",
    "    \n",
    "    def __format__(self, fmt_spec=''):\n",
    "        # Use the format built-in to apply the fmt_spec to each vector component,\n",
    "        # building an iterable of formatted strings.\n",
    "        components = (format(c, fmt_spec) for c in self)\n",
    "        # Plug the formatted strings in the formula '(x, y)'\n",
    "        return '({}, {})'.format(*components)\n",
    "    \n",
    "    "
   ]
  },
  {
   "cell_type": "code",
   "execution_count": 4,
   "metadata": {},
   "outputs": [
    {
     "data": {
      "text/plain": [
       "'(3.0, 4.0)'"
      ]
     },
     "execution_count": 4,
     "metadata": {},
     "output_type": "execute_result"
    }
   ],
   "source": [
    "v1 = Vector2d(3,4)\n",
    "format(v1)"
   ]
  },
  {
   "cell_type": "code",
   "execution_count": 5,
   "metadata": {},
   "outputs": [
    {
     "data": {
      "text/plain": [
       "'(3.00, 4.00)'"
      ]
     },
     "execution_count": 5,
     "metadata": {},
     "output_type": "execute_result"
    }
   ],
   "source": [
    "format(v1, '.2f')"
   ]
  },
  {
   "cell_type": "code",
   "execution_count": 6,
   "metadata": {},
   "outputs": [
    {
     "data": {
      "text/plain": [
       "'(3.000e+00, 4.000e+00)'"
      ]
     },
     "execution_count": 6,
     "metadata": {},
     "output_type": "execute_result"
    }
   ],
   "source": [
    "format(v1, '.3e')"
   ]
  },
  {
   "cell_type": "markdown",
   "metadata": {},
   "source": [
    "Since each class interprets these codes independently, reusing a code letter in a custom format for a new type is not an error, but may be confusing to users."
   ]
  },
  {
   "cell_type": "code",
   "execution_count": 9,
   "metadata": {
    "collapsed": true
   },
   "outputs": [],
   "source": [
    "from array import array\n",
    "import math\n",
    "\n",
    "class Vector2d:\n",
    "    # typecode is a class attribute we'll use when converting Vector2d instncaes to /from bytes.\n",
    "    typecode = 'd'\n",
    "    \n",
    "    def __init__(self, x, y):\n",
    "        # Converting x and y to float in __init__ catches errors early, \n",
    "        # in case Vector2d is called with unsuitable arguments.\n",
    "        self.x = float(x)\n",
    "        self.y = float(y)\n",
    "        \n",
    "    def __iter__(self):\n",
    "        # __iter__ makes a Vector2d iterable; this is what makes unpacking works\n",
    "        # e.g, x,y = my_vector. We implement it simply by using a generator expression \n",
    "        # to yield the components one after the other.\n",
    "        return (i for i in (self.x, self.y))\n",
    "    \n",
    "    def __repr__(self):\n",
    "        class_name = type(self).__name__\n",
    "        # __repr__ builds a string by interpolating the components with {!r} to get their repr\n",
    "        # because Vector2d is iterable, *self feeds the x and y components to format.\n",
    "        return '{}({!r}, {!r})'.format(class_name, *self)\n",
    "    \n",
    "    def __str__(self):\n",
    "        # From an iterable Vector2d it's easy to build a tuple for display as an ordered pair.\n",
    "        return str(tuple(self))\n",
    "    \n",
    "    def __bytes__(self):\n",
    "        # ord() :  Return the Unicode code point for a one-character string\n",
    "        # to generate bytes, we convert the typecode to bytes and concatenate\n",
    "        # bytes converted from an array bulit by iterating over the instance.\n",
    "        return (bytes([ord(self.typecode)]) +  bytes(array(self.typecode, self)))\n",
    "    \n",
    "    # To quickly compare all components, build tuples out of the operands. \n",
    "    # This works for operands that are instances of Vector2d, but has issues.\n",
    "    def __eq__(self, other):\n",
    "        return tuple(self) == tuple(other)\n",
    "    \n",
    "    def __abs__(self):\n",
    "        return math.hypot(self.x, self.y)\n",
    "    # __bool__ uses abs(self) to compute the magnitude, then converts it to bool.\n",
    "    # so 0.0 becomes False, non-zero is True.\n",
    "    def __bool__(self):\n",
    "        return bool(abs(self))\n",
    "    \n",
    "    def angle(self):\n",
    "        return math.atan2(self.y, self.x)\n",
    "    \n",
    "    def __format__(self, fmt_spec=''):\n",
    "        # Format ends with 'p'\n",
    "        if fmt_spec.endswith('p'):\n",
    "            # Remove 'p' suffix from fmt_spec.\n",
    "            fmt_spec = fmt_spec[:-1]\n",
    "            # Build the tuple of polar coordinates\n",
    "            coords = (abs(self), self.angle())\n",
    "            outer_fmt = '<{},{}>'\n",
    "        else:\n",
    "            coords = self\n",
    "            outer_fmt = '({}, {})'\n",
    "        # Use the format built-in to apply the fmt_spec to each vector component,\n",
    "        # building an iterable of formatted strings.\n",
    "        components = (format(c, fmt_spec) for c in coords)\n",
    "        print(components)\n",
    "        # Plug the formatted strings in the formula '(x, y)'\n",
    "        return outer_fmt.format(*components)\n",
    "    \n",
    "    "
   ]
  },
  {
   "cell_type": "code",
   "execution_count": 10,
   "metadata": {},
   "outputs": [
    {
     "name": "stdout",
     "output_type": "stream",
     "text": [
      "<generator object Vector2d.__format__.<locals>.<genexpr> at 0x0000023F048F9E08>\n"
     ]
    },
    {
     "data": {
      "text/plain": [
       "'<1.4142135623730951,0.7853981633974483>'"
      ]
     },
     "execution_count": 10,
     "metadata": {},
     "output_type": "execute_result"
    }
   ],
   "source": [
    "format(Vector2d(1,1), 'p')"
   ]
  },
  {
   "cell_type": "code",
   "execution_count": 19,
   "metadata": {},
   "outputs": [
    {
     "data": {
      "text/plain": [
       "'(1.414e+00, 7.854e-01)'"
      ]
     },
     "execution_count": 19,
     "metadata": {},
     "output_type": "execute_result"
    }
   ],
   "source": [
    "format(Vector2d(1,1), '.3ep')"
   ]
  },
  {
   "cell_type": "code",
   "execution_count": 20,
   "metadata": {},
   "outputs": [
    {
     "data": {
      "text/plain": [
       "'(1.41421, 0.78540)'"
      ]
     },
     "execution_count": 20,
     "metadata": {},
     "output_type": "execute_result"
    }
   ],
   "source": [
    "format(Vector2d(1,1), '0.5fp')"
   ]
  },
  {
   "cell_type": "markdown",
   "metadata": {},
   "source": [
    "## 5. A hashable Vector2d"
   ]
  },
  {
   "cell_type": "markdown",
   "metadata": {},
   "source": [
    "`Vector2d` instances are unhashalbe, so we can't put them in a `set`:"
   ]
  },
  {
   "cell_type": "code",
   "execution_count": 2,
   "metadata": {
    "collapsed": true
   },
   "outputs": [],
   "source": [
    "v1 = Vector2d(3,4)"
   ]
  },
  {
   "cell_type": "code",
   "execution_count": 3,
   "metadata": {},
   "outputs": [
    {
     "ename": "TypeError",
     "evalue": "unhashable type: 'Vector2d'",
     "output_type": "error",
     "traceback": [
      "\u001b[1;31m---------------------------------------------------------------------------\u001b[0m",
      "\u001b[1;31mTypeError\u001b[0m                                 Traceback (most recent call last)",
      "\u001b[1;32m<ipython-input-3-e769d6e59c8c>\u001b[0m in \u001b[0;36m<module>\u001b[1;34m()\u001b[0m\n\u001b[1;32m----> 1\u001b[1;33m \u001b[0mhash\u001b[0m\u001b[1;33m(\u001b[0m\u001b[0mv1\u001b[0m\u001b[1;33m)\u001b[0m\u001b[1;33m\u001b[0m\u001b[0m\n\u001b[0m",
      "\u001b[1;31mTypeError\u001b[0m: unhashable type: 'Vector2d'"
     ]
    }
   ],
   "source": [
    "hash(v1)"
   ]
  },
  {
   "cell_type": "markdown",
   "metadata": {},
   "source": [
    "To make a `Vector2d` hashable we must implement `__hash__` (`__eq__` is also required).\n",
    "\n",
    "We also need to make vector instances immutable. We'll do that by making the `x` and `y` components read-only properties."
   ]
  },
  {
   "cell_type": "markdown",
   "metadata": {},
   "source": [
    "**An object is hashable if it has a hash value which never changes during its lifetime.**\n",
    "\n",
    "`atomic immutable types` (str, bytes, numeric types) are all hashable."
   ]
  },
  {
   "cell_type": "code",
   "execution_count": 4,
   "metadata": {},
   "outputs": [
    {
     "data": {
      "text/plain": [
       "(3.0, 4.0)"
      ]
     },
     "execution_count": 4,
     "metadata": {},
     "output_type": "execute_result"
    }
   ],
   "source": [
    "v1.x, v1.y"
   ]
  },
  {
   "cell_type": "code",
   "execution_count": 5,
   "metadata": {
    "collapsed": true
   },
   "outputs": [],
   "source": [
    "v1.x = 7"
   ]
  },
  {
   "cell_type": "code",
   "execution_count": null,
   "metadata": {
    "collapsed": true
   },
   "outputs": [],
   "source": [
    "class Vector2d:\n",
    "    typecode = 'd'\n",
    "    \n",
    "    def __init__(self, x,y):\n",
    "        # make an attribute private\n",
    "        self.__x = float(x)\n",
    "        self.__y = float(y)\n",
    "    \n",
    "    # @property decorator marks the getter method of a property.\n",
    "    @property\n",
    "    def x(self):\n",
    "        return self.__x\n",
    "    \n",
    "    @property\n",
    "    def y(self):\n",
    "        return self.__y\n",
    "    \n",
    "    def __iter__(self):\n",
    "        # reading the public properties via self.x and self.y\n",
    "        return (i for i in (self.x, self.y))\n",
    "    "
   ]
  },
  {
   "cell_type": "markdown",
   "metadata": {
    "collapsed": true
   },
   "source": [
    "`Vector.x` and `Vector.y` are examples of read-only properties.\n",
    "\n",
    "Now that our vectors are reasonalby immutalbe, we can implement the `__hash__` method.\n",
    "\n",
    "It should return an `int` and ideally take into account the hashes of the object attributes that are also used in the `__eq__` method, because objects that compare equal should have the same hash.\n",
    "\n",
    "The `__hash__` special method suggests using the bitwise xor operator(^) to mix the hashes of the component."
   ]
  },
  {
   "cell_type": "code",
   "execution_count": 18,
   "metadata": {
    "collapsed": true
   },
   "outputs": [],
   "source": [
    "class Vector2d:\n",
    "    typecode = 'd'\n",
    "    \n",
    "    def __init__(self, x,y):\n",
    "        # make an attribute private\n",
    "        self.__x = float(x)\n",
    "        self.__y = float(y)\n",
    "    \n",
    "    # @property decorator marks the getter method of a property.\n",
    "    @property\n",
    "    def x(self):\n",
    "        return self.__x\n",
    "    \n",
    "    @property\n",
    "    def y(self):\n",
    "        return self.__y\n",
    "    \n",
    "    def __iter__(self):\n",
    "        # reading the public properties via self.x and self.y\n",
    "        return (i for i in (self.x, self.y))\n",
    "    \n",
    "    def __hash__(self):\n",
    "        return hash(self.x) ^ hash(self.y)\n",
    "    \n",
    "    def __repr__(self):\n",
    "        class_name = type(self).__name__\n",
    "        # __repr__ builds a string by interpolating the components with {!r} to get their repr\n",
    "        # because Vector2d is iterable, *self feeds the x and y components to format.\n",
    "        return '{}({!r}, {!r})'.format(class_name, *self)"
   ]
  },
  {
   "cell_type": "code",
   "execution_count": 19,
   "metadata": {
    "collapsed": true
   },
   "outputs": [],
   "source": [
    "v1 = Vector2d(3,4)"
   ]
  },
  {
   "cell_type": "code",
   "execution_count": 14,
   "metadata": {
    "collapsed": true
   },
   "outputs": [],
   "source": [
    "v2 = Vector2d(3.1 , 4.2)"
   ]
  },
  {
   "cell_type": "code",
   "execution_count": 15,
   "metadata": {},
   "outputs": [
    {
     "data": {
      "text/plain": [
       "(7, 384307168202284039)"
      ]
     },
     "execution_count": 15,
     "metadata": {},
     "output_type": "execute_result"
    }
   ],
   "source": [
    "hash(v1), hash(v2)"
   ]
  },
  {
   "cell_type": "code",
   "execution_count": 16,
   "metadata": {},
   "outputs": [
    {
     "data": {
      "text/plain": [
       "{Vector2d(3.0, 4.0), Vector2d(3.1, 4.2)}"
      ]
     },
     "execution_count": 16,
     "metadata": {},
     "output_type": "execute_result"
    }
   ],
   "source": [
    "set([v1, v2])"
   ]
  },
  {
   "cell_type": "markdown",
   "metadata": {},
   "source": [
    "If you are creating a type that has a sensible scalar numeric value, you may also implement the `__int__` and `__float__` methods.\n",
    "\n",
    "There's also a `__complex__` method"
   ]
  },
  {
   "cell_type": "code",
   "execution_count": 11,
   "metadata": {
    "collapsed": true
   },
   "outputs": [],
   "source": [
    "from array import array\n",
    "import math\n",
    "\n",
    "class Vector2d:\n",
    "    # typecode is a class attribute we'll use when converting Vector2d instncaes to /from bytes.\n",
    "    typecode = 'd'\n",
    "    \n",
    "    def __init__(self, x,y):\n",
    "        # make an attribute private\n",
    "        self.__x = float(x)\n",
    "        self.__y = float(y)\n",
    "        \n",
    "    def __iter__(self):\n",
    "        # __iter__ makes a Vector2d iterable; this is what makes unpacking works\n",
    "        # e.g, x,y = my_vector. We implement it simply by using a generator expression \n",
    "        # to yield the components one after the other.\n",
    "        return (i for i in (self.x, self.y))\n",
    "    \n",
    "    def __repr__(self):\n",
    "        class_name = type(self).__name__\n",
    "        # __repr__ builds a string by interpolating the components with {!r} to get their repr\n",
    "        # because Vector2d is iterable, *self feeds the x and y components to format.\n",
    "        return '{}({!r}, {!r})'.format(class_name, *self)\n",
    "    \n",
    "    def __str__(self):\n",
    "        # From an iterable Vector2d it's easy to build a tuple for display as an ordered pair.\n",
    "        return str(tuple(self))\n",
    "    \n",
    "    def __bytes__(self):\n",
    "        # ord() :  Return the Unicode code point for a one-character string\n",
    "        # to generate bytes, we convert the typecode to bytes and concatenate\n",
    "        # bytes converted from an array bulit by iterating over the instance.\n",
    "        return (bytes([ord(self.typecode)]) +  bytes(array(self.typecode, self)))\n",
    "    \n",
    "    # To quickly compare all components, build tuples out of the operands. \n",
    "    # This works for operands that are instances of Vector2d, but has issues.\n",
    "    def __eq__(self, other):\n",
    "        return tuple(self) == tuple(other)\n",
    "    \n",
    "    def __abs__(self):\n",
    "        return math.hypot(self.x, self.y)\n",
    "    # __bool__ uses abs(self) to compute the magnitude, then converts it to bool.\n",
    "    # so 0.0 becomes False, non-zero is True.\n",
    "    def __bool__(self):\n",
    "        return bool(abs(self))\n",
    "    \n",
    "    def angle(self):\n",
    "        return math.atan2(self.y, self.x)\n",
    "    \n",
    "    def __format__(self, fmt_spec=''):\n",
    "        # Format ends with 'p'\n",
    "        if fmt_spec.endswith('p'):\n",
    "            # Remove 'p' suffix from fmt_spec.\n",
    "            fmt_spec = fmt_spec[:-1]\n",
    "            # Build the tuple of polar coordinates\n",
    "            coords = (abs(self), self.angle())\n",
    "            outer=fmt = '<{},{}>'\n",
    "        else:\n",
    "            coords = self\n",
    "            outer_fmt = '({}, {})'\n",
    "        # Use the format built-in to apply the fmt_spec to each vector component,\n",
    "        # building an iterable of formatted strings.\n",
    "        components = (format(c, fmt_spec) for c in coords)\n",
    "        # Plug the formatted strings in the formula '(x, y)'\n",
    "        return '({}, {})'.format(*components)\n",
    "    \n",
    "    @property\n",
    "    def x(self):\n",
    "        return self.__x\n",
    "    \n",
    "    @property\n",
    "    def y(self):\n",
    "        return self.__y\n",
    "    \n",
    "    def __iter__(self):\n",
    "        # reading the public properties via self.x and self.y\n",
    "        return (i for i in (self.x, self.y))\n",
    "    \n",
    "    def __hash__(self):\n",
    "        return hash(self.x) ^ hash(self.y)\n",
    "    "
   ]
  },
  {
   "cell_type": "markdown",
   "metadata": {},
   "source": [
    "## 6. Private and \"protected\" attributes in Python"
   ]
  },
  {
   "cell_type": "markdown",
   "metadata": {},
   "source": [
    "In python there is no way to create private variables in the strong sense of the `private` modifier in Java. \n",
    "\n",
    "Simple mechanisme to prevent accidental overwritting of a `private` attribute in a subclass.\n",
    "\n",
    "Private attribute names are `mangled` by prefixing the `_` and the `class name`"
   ]
  },
  {
   "cell_type": "code",
   "execution_count": 27,
   "metadata": {},
   "outputs": [],
   "source": [
    "class Dog():\n",
    "    def __init__(self):\n",
    "        self.mood='a'\n",
    "        \n",
    "    def get_mood(self):\n",
    "        return self.mood\n",
    "    \n",
    "class Beagle(Dog):\n",
    "    def __init__(self):\n",
    "        self.mood='b'"
   ]
  },
  {
   "cell_type": "code",
   "execution_count": 31,
   "metadata": {},
   "outputs": [
    {
     "data": {
      "text/plain": [
       "'b'"
      ]
     },
     "execution_count": 31,
     "metadata": {},
     "output_type": "execute_result"
    }
   ],
   "source": [
    "b = Beagle()\n",
    "b.get_mood()"
   ]
  },
  {
   "cell_type": "code",
   "execution_count": 32,
   "metadata": {},
   "outputs": [
    {
     "name": "stdout",
     "output_type": "stream",
     "text": [
      "b\n"
     ]
    }
   ],
   "source": [
    "print(b.mood)"
   ]
  },
  {
   "cell_type": "code",
   "execution_count": 12,
   "metadata": {
    "collapsed": true
   },
   "outputs": [],
   "source": [
    "v1 = Vector2d(3,4)"
   ]
  },
  {
   "cell_type": "code",
   "execution_count": 13,
   "metadata": {},
   "outputs": [
    {
     "data": {
      "text/plain": [
       "{'_Vector2d__x': 3.0, '_Vector2d__y': 4.0}"
      ]
     },
     "execution_count": 13,
     "metadata": {},
     "output_type": "execute_result"
    }
   ],
   "source": [
    "v1.__dict__"
   ]
  },
  {
   "cell_type": "code",
   "execution_count": 14,
   "metadata": {},
   "outputs": [
    {
     "data": {
      "text/plain": [
       "3.0"
      ]
     },
     "execution_count": 14,
     "metadata": {},
     "output_type": "execute_result"
    }
   ],
   "source": [
    "v1._Vector2d__x"
   ]
  },
  {
   "cell_type": "code",
   "execution_count": 33,
   "metadata": {
    "collapsed": true
   },
   "outputs": [],
   "source": [
    "v1._Vector2d__x = 1"
   ]
  },
  {
   "cell_type": "code",
   "execution_count": 34,
   "metadata": {},
   "outputs": [
    {
     "data": {
      "text/plain": [
       "Vector2d(1, 4.0)"
      ]
     },
     "execution_count": 34,
     "metadata": {},
     "output_type": "execute_result"
    }
   ],
   "source": [
    "v1"
   ]
  },
  {
   "cell_type": "markdown",
   "metadata": {},
   "source": [
    "`Name mangling` is about safety, not security: it's designed to prevent accidental access and not intentional wrongdoing.\n",
    "\n",
    "\n",
    "Critics of the automatic doulbe-underscore mangling suggest that concerns about accidental attribute clobbering should be addressed by naming conventions.\n"
   ]
  },
  {
   "cell_type": "markdown",
   "metadata": {},
   "source": [
    "The single underscore prefix has no special meaning to the Python interpreter when used in attribute names, but it's a very strong convention among Python programmers that you should not access such attributes from outside the class.\n",
    "\n",
    "In modules, a sinlge `_` in front of a top-level name does have an effect: if you write `from mymod import *` the names with a `_` prefix are not imported from `mymod`"
   ]
  },
  {
   "cell_type": "code",
   "execution_count": null,
   "metadata": {
    "collapsed": true
   },
   "outputs": [],
   "source": []
  },
  {
   "cell_type": "markdown",
   "metadata": {},
   "source": [
    "## 7. Saving space with the __slots__ class attribute"
   ]
  },
  {
   "cell_type": "markdown",
   "metadata": {},
   "source": [
    "special attribute(not a method) that affects the internal storage of an object, with potentially huge impact on the use of memory but little effect on its public interface : `__slots__`"
   ]
  },
  {
   "cell_type": "markdown",
   "metadata": {},
   "source": [
    "By default, Python stores instance attributes in a per-instance `dict` named `__dict__`.\n",
    "\n",
    "If you are dealing with millions of instances with few attributes, the `__slots__` class attribute can save a lot of memory, by letting the interpreter store the instance atttribute in a `tuple` instead of a `dict`."
   ]
  },
  {
   "cell_type": "markdown",
   "metadata": {},
   "source": [
    "To define `__slots__` you create a class attribute with that name and assign it an iterable of `str` with identifiers for the instance attributes."
   ]
  },
  {
   "cell_type": "code",
   "execution_count": 15,
   "metadata": {
    "collapsed": true
   },
   "outputs": [],
   "source": [
    "from array import array\n",
    "import math\n",
    "\n",
    "class Vector2d:\n",
    "    # typecode is a class attribute we'll use when converting Vector2d instncaes to /from bytes.\n",
    "    typecode = 'd'\n",
    "    __slots__ = ('__x', '__y')\n",
    "    \n",
    "    def __init__(self, x,y):\n",
    "        # make an attribute private\n",
    "        self.__x = float(x)\n",
    "        self.__y = float(y)\n",
    "        \n",
    "    def __iter__(self):\n",
    "        # __iter__ makes a Vector2d iterable; this is what makes unpacking works\n",
    "        # e.g, x,y = my_vector. We implement it simply by using a generator expression \n",
    "        # to yield the components one after the other.\n",
    "        return (i for i in (self.x, self.y))\n",
    "    \n",
    "    def __repr__(self):\n",
    "        class_name = type(self).__name__\n",
    "        # __repr__ builds a string by interpolating the components with {!r} to get their repr\n",
    "        # because Vector2d is iterable, *self feeds the x and y components to format.\n",
    "        return '{}({!r}, {!r})'.format(class_name, *self)\n",
    "    \n",
    "    def __str__(self):\n",
    "        # From an iterable Vector2d it's easy to build a tuple for display as an ordered pair.\n",
    "        return str(tuple(self))\n",
    "    \n",
    "    def __bytes__(self):\n",
    "        # ord() :  Return the Unicode code point for a one-character string\n",
    "        # to generate bytes, we convert the typecode to bytes and concatenate\n",
    "        # bytes converted from an array bulit by iterating over the instance.\n",
    "        return (bytes([ord(self.typecode)]) +  bytes(array(self.typecode, self)))\n",
    "    \n",
    "    # To quickly compare all components, build tuples out of the operands. \n",
    "    # This works for operands that are instances of Vector2d, but has issues.\n",
    "    def __eq__(self, other):\n",
    "        return tuple(self) == tuple(other)\n",
    "    \n",
    "    def __abs__(self):\n",
    "        return math.hypot(self.x, self.y)\n",
    "    # __bool__ uses abs(self) to compute the magnitude, then converts it to bool.\n",
    "    # so 0.0 becomes False, non-zero is True.\n",
    "    def __bool__(self):\n",
    "        return bool(abs(self))\n",
    "    \n",
    "    def angle(self):\n",
    "        return math.atan2(self.y, self.x)\n",
    "    \n",
    "    def __format__(self, fmt_spec=''):\n",
    "        # Format ends with 'p'\n",
    "        if fmt_spec.endswith('p'):\n",
    "            # Remove 'p' suffix from fmt_spec.\n",
    "            fmt_spec = fmt_spec[:-1]\n",
    "            # Build the tuple of polar coordinates\n",
    "            coords = (abs(self), self.angle())\n",
    "            outer=fmt = '<{},{}>'\n",
    "        else:\n",
    "            coords = self\n",
    "            outer_fmt = '({}, {})'\n",
    "        # Use the format built-in to apply the fmt_spec to each vector component,\n",
    "        # building an iterable of formatted strings.\n",
    "        components = (format(c, fmt_spec) for c in coords)\n",
    "        # Plug the formatted strings in the formula '(x, y)'\n",
    "        return '({}, {})'.format(*components)\n",
    "    \n",
    "    @property\n",
    "    def x(self):\n",
    "        return self.__x\n",
    "    \n",
    "    @property\n",
    "    def y(self):\n",
    "        return self.__y\n",
    "    \n",
    "    def __iter__(self):\n",
    "        # reading the public properties via self.x and self.y\n",
    "        return (i for i in (self.x, self.y))\n",
    "    \n",
    "    def __hash__(self):\n",
    "        return hash(self.x) ^ hash(self.y)\n",
    "    "
   ]
  },
  {
   "cell_type": "markdown",
   "metadata": {},
   "source": [
    "By defining `__slots__` in the class, you are telling the interpreter : \"These are all the instance attributes in this class\"\n",
    "\n",
    "Python then stores them in a tuple-like structure in each instance, avoiding the memory overhead of the per-instance `__dict__`"
   ]
  },
  {
   "cell_type": "markdown",
   "metadata": {},
   "source": [
    "When `__slots__` is specified in a class, its instances will not be allowed to have any other attributes apart from those named in `__slot__s`"
   ]
  },
  {
   "cell_type": "markdown",
   "metadata": {},
   "source": [
    "There is another special per-instance attribute that you may want to keep : the `__weakref__` attribute is necessary for an object to support weak reference.\n",
    "\n",
    "If the class defines `__slots__`, and you need the instances to be targets of weak references, then you need to include `__weakref__` among the attributes named in `__slots__`"
   ]
  },
  {
   "cell_type": "markdown",
   "metadata": {},
   "source": [
    "It is mostly useful when working with tabular data such as database records where the schema is fixed by definition and the data sets may be very large."
   ]
  },
  {
   "cell_type": "markdown",
   "metadata": {},
   "source": [
    "### The problems with __slots__"
   ]
  },
  {
   "cell_type": "markdown",
   "metadata": {},
   "source": [
    "if well used `__slots__` may provide significant memory savings, but there are a few caveats:\n",
    "\n",
    "- You must remeber to redeclare `__slots__` in each subclass, since the inherited attribute is ignored by the interpreter.\n",
    "\n",
    "- Instances will only be albe to have the attributes listed in `__slots__`, unless you include `__dict__` in `__slots__` - but doing so may negate the memory savings.\n",
    "\n",
    "- Instances cannot be targets of weak references unless you remember to include `__weakref__` in `__slots__`."
   ]
  },
  {
   "cell_type": "code",
   "execution_count": 35,
   "metadata": {
    "collapsed": true
   },
   "outputs": [],
   "source": [
    "class Member(object):\n",
    "    __slots__ = ['id', 'name', 'age', '__dict__']\n",
    "    \n"
   ]
  },
  {
   "cell_type": "code",
   "execution_count": 36,
   "metadata": {
    "collapsed": true
   },
   "outputs": [],
   "source": [
    "m2 = Member()\n",
    "m2.id = 2\n",
    "m2.name = 'M2'\n",
    "m2.age = 11"
   ]
  },
  {
   "cell_type": "code",
   "execution_count": 37,
   "metadata": {},
   "outputs": [
    {
     "name": "stdout",
     "output_type": "stream",
     "text": [
      "{'job': 'Student'}\n"
     ]
    }
   ],
   "source": [
    "m2.job = 'Student'\n",
    "print(m2.__dict__)"
   ]
  },
  {
   "cell_type": "markdown",
   "metadata": {},
   "source": [
    "## 8. Overriding class attributes"
   ]
  },
  {
   "cell_type": "markdown",
   "metadata": {},
   "source": [
    "Because `Vector2d` instances are created without a `typecode` attribute of their own, `self.typecode` will get the `Vector2d.typecode` class attribute by default.\n",
    "\n",
    "We are discussing adding a custom instance attribute, therefore without `__slots__`."
   ]
  },
  {
   "cell_type": "code",
   "execution_count": 16,
   "metadata": {
    "collapsed": true
   },
   "outputs": [],
   "source": [
    "from array import array\n",
    "import math\n",
    "\n",
    "class Vector2d:\n",
    "    # typecode is a class attribute we'll use when converting Vector2d instncaes to /from bytes.\n",
    "    typecode = 'd'\n",
    "    \n",
    "    def __init__(self, x,y):\n",
    "        # make an attribute private\n",
    "        self.__x = float(x)\n",
    "        self.__y = float(y)\n",
    "        \n",
    "    def __iter__(self):\n",
    "        # __iter__ makes a Vector2d iterable; this is what makes unpacking works\n",
    "        # e.g, x,y = my_vector. We implement it simply by using a generator expression \n",
    "        # to yield the components one after the other.\n",
    "        return (i for i in (self.x, self.y))\n",
    "    \n",
    "    def __repr__(self):\n",
    "        class_name = type(self).__name__\n",
    "        # __repr__ builds a string by interpolating the components with {!r} to get their repr\n",
    "        # because Vector2d is iterable, *self feeds the x and y components to format.\n",
    "        return '{}({!r}, {!r})'.format(class_name, *self)\n",
    "    \n",
    "    def __str__(self):\n",
    "        # From an iterable Vector2d it's easy to build a tuple for display as an ordered pair.\n",
    "        return str(tuple(self))\n",
    "    \n",
    "    def __bytes__(self):\n",
    "        # ord() :  Return the Unicode code point for a one-character string\n",
    "        # to generate bytes, we convert the typecode to bytes and concatenate\n",
    "        # bytes converted from an array bulit by iterating over the instance.\n",
    "        return (bytes([ord(self.typecode)]) +  bytes(array(self.typecode, self)))\n",
    "    \n",
    "    # To quickly compare all components, build tuples out of the operands. \n",
    "    # This works for operands that are instances of Vector2d, but has issues.\n",
    "    def __eq__(self, other):\n",
    "        return tuple(self) == tuple(other)\n",
    "    \n",
    "    def __abs__(self):\n",
    "        return math.hypot(self.x, self.y)\n",
    "    # __bool__ uses abs(self) to compute the magnitude, then converts it to bool.\n",
    "    # so 0.0 becomes False, non-zero is True.\n",
    "    def __bool__(self):\n",
    "        return bool(abs(self))\n",
    "    \n",
    "    def angle(self):\n",
    "        return math.atan2(self.y, self.x)\n",
    "    \n",
    "    def __format__(self, fmt_spec=''):\n",
    "        # Format ends with 'p'\n",
    "        if fmt_spec.endswith('p'):\n",
    "            # Remove 'p' suffix from fmt_spec.\n",
    "            fmt_spec = fmt_spec[:-1]\n",
    "            # Build the tuple of polar coordinates\n",
    "            coords = (abs(self), self.angle())\n",
    "            outer=fmt = '<{},{}>'\n",
    "        else:\n",
    "            coords = self\n",
    "            outer_fmt = '({}, {})'\n",
    "        # Use the format built-in to apply the fmt_spec to each vector component,\n",
    "        # building an iterable of formatted strings.\n",
    "        components = (format(c, fmt_spec) for c in coords)\n",
    "        # Plug the formatted strings in the formula '(x, y)'\n",
    "        return '({}, {})'.format(*components)\n",
    "    \n",
    "    @property\n",
    "    def x(self):\n",
    "        return self.__x\n",
    "    \n",
    "    @property\n",
    "    def y(self):\n",
    "        return self.__y\n",
    "    \n",
    "    def __iter__(self):\n",
    "        # reading the public properties via self.x and self.y\n",
    "        return (i for i in (self.x, self.y))\n",
    "    \n",
    "    def __hash__(self):\n",
    "        return hash(self.x) ^ hash(self.y)\n",
    "    "
   ]
  },
  {
   "cell_type": "code",
   "execution_count": 17,
   "metadata": {},
   "outputs": [
    {
     "data": {
      "text/plain": [
       "b'd\\x9a\\x99\\x99\\x99\\x99\\x99\\xf1?\\x9a\\x99\\x99\\x99\\x99\\x99\\x01@'"
      ]
     },
     "execution_count": 17,
     "metadata": {},
     "output_type": "execute_result"
    }
   ],
   "source": [
    "# Customizing an instances by setting the typecode attribute \n",
    "# that was formerly inherited from the class.\n",
    "v1 = Vector2d(1.1, 2.2)\n",
    "dumpd = bytes(v1)\n",
    "dumpd"
   ]
  },
  {
   "cell_type": "code",
   "execution_count": 18,
   "metadata": {},
   "outputs": [
    {
     "data": {
      "text/plain": [
       "17"
      ]
     },
     "execution_count": 18,
     "metadata": {},
     "output_type": "execute_result"
    }
   ],
   "source": [
    "# Default bytes representation is 17 bytes long.a\n",
    "len(dumpd)"
   ]
  },
  {
   "cell_type": "code",
   "execution_count": 19,
   "metadata": {
    "collapsed": true
   },
   "outputs": [],
   "source": [
    "v1.typecode = 'f'"
   ]
  },
  {
   "cell_type": "code",
   "execution_count": 20,
   "metadata": {
    "collapsed": true
   },
   "outputs": [],
   "source": [
    "dumpf = bytes(v1)"
   ]
  },
  {
   "cell_type": "code",
   "execution_count": 21,
   "metadata": {},
   "outputs": [
    {
     "data": {
      "text/plain": [
       "b'f\\xcd\\xcc\\x8c?\\xcd\\xcc\\x0c@'"
      ]
     },
     "execution_count": 21,
     "metadata": {},
     "output_type": "execute_result"
    }
   ],
   "source": [
    "dumpf"
   ]
  },
  {
   "cell_type": "code",
   "execution_count": 22,
   "metadata": {},
   "outputs": [
    {
     "data": {
      "text/plain": [
       "9"
      ]
     },
     "execution_count": 22,
     "metadata": {},
     "output_type": "execute_result"
    }
   ],
   "source": [
    "len(dumpf)"
   ]
  },
  {
   "cell_type": "code",
   "execution_count": 24,
   "metadata": {},
   "outputs": [
    {
     "data": {
      "text/plain": [
       "'d'"
      ]
     },
     "execution_count": 24,
     "metadata": {},
     "output_type": "execute_result"
    }
   ],
   "source": [
    "# Vector2d.typecode is unchanged, only the v1 instances uses typecode 'f'.\n",
    "Vector2d.typecode"
   ]
  },
  {
   "cell_type": "markdown",
   "metadata": {},
   "source": [
    "If you want to change a class attribute you must set it on the class directly, not through an instance.\n",
    "```pyhton\n",
    "Vector2d.typecode = 'f'\n",
    "```"
   ]
  },
  {
   "cell_type": "markdown",
   "metadata": {},
   "source": [
    "Since class attributres are public, they are inherited by subclasses, so it's common practice to subclass just to customize a class data attribute."
   ]
  },
  {
   "cell_type": "code",
   "execution_count": 25,
   "metadata": {
    "collapsed": true
   },
   "outputs": [],
   "source": [
    "class ShortVector2d(Vector2d):\n",
    "    # Create ShortVector2d as a Vector2d subclass just to overwrite the typecode class attribute.\n",
    "    typecode = 'f'"
   ]
  },
  {
   "cell_type": "code",
   "execution_count": 26,
   "metadata": {
    "collapsed": true
   },
   "outputs": [],
   "source": [
    "sb = ShortVector2d(1/11, 1/27)"
   ]
  },
  {
   "cell_type": "code",
   "execution_count": 27,
   "metadata": {},
   "outputs": [
    {
     "data": {
      "text/plain": [
       "ShortVector2d(0.09090909090909091, 0.037037037037037035)"
      ]
     },
     "execution_count": 27,
     "metadata": {},
     "output_type": "execute_result"
    }
   ],
   "source": [
    "sb"
   ]
  },
  {
   "cell_type": "code",
   "execution_count": 28,
   "metadata": {},
   "outputs": [
    {
     "data": {
      "text/plain": [
       "9"
      ]
     },
     "execution_count": 28,
     "metadata": {},
     "output_type": "execute_result"
    }
   ],
   "source": [
    "len(bytes(sb))"
   ]
  },
  {
   "cell_type": "markdown",
   "metadata": {},
   "source": [
    "## 9. Chapter summary"
   ]
  },
  {
   "cell_type": "markdown",
   "metadata": {},
   "source": [
    "use of special methods and conventions in the construction of a well-behaved Pythonic class.\n",
    "\n",
    "- All string/bytes representation methods : `__repr__`, `__str__`, `__format__` and `__bytes__`.\n",
    "- Several methods for converting an object to a number : `__abs__`, `__bool__`, `__hash__`\n",
    "- The `__eq__` operator, to test `bytes` conversion and to enable hashing(along with `__hash__`)"
   ]
  },
  {
   "cell_type": "markdown",
   "metadata": {
    "collapsed": true
   },
   "source": [
    "In preparation to make `Vecotor2d` instances hashable, we made an effort to make them immutable, at least preventing accidental changes by coding the `x` and `y` attributes as private.\n",
    "\n",
    "We then implemeneted `__hash__` using the recommended technique of xor-ing the hashes of the instance attributes."
   ]
  },
  {
   "cell_type": "markdown",
   "metadata": {},
   "source": [
    "We then disccued the memory savings and the caveats of declaring a `__slots__` attribute in `Vector2d`"
   ]
  },
  {
   "cell_type": "markdown",
   "metadata": {},
   "source": [
    "The last topic we covered was the overriding of a class attribute accessed via the instances."
   ]
  }
 ],
 "metadata": {
  "anaconda-cloud": {},
  "kernelspec": {
   "display_name": "Python [default]",
   "language": "python",
   "name": "python3"
  },
  "language_info": {
   "codemirror_mode": {
    "name": "ipython",
    "version": 3
   },
   "file_extension": ".py",
   "mimetype": "text/x-python",
   "name": "python",
   "nbconvert_exporter": "python",
   "pygments_lexer": "ipython3",
   "version": "3.5.5"
  }
 },
 "nbformat": 4,
 "nbformat_minor": 2
}
