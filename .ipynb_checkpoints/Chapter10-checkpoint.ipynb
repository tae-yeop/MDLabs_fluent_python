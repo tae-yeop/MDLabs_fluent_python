{
 "cells": [
  {
   "cell_type": "markdown",
   "metadata": {},
   "source": [
    "# Sequence hacking, hashing and slicing"
   ]
  },
  {
   "cell_type": "markdown",
   "metadata": {},
   "source": [
    "Vector will behave like a standard Python immutable flat sequence. it will support the following by the end of this chapter:\n",
    "- Basic sequence protocol : `__len__` and `__getitem__`.\n",
    "- Safe representation of instances with many items.\n",
    "- Proper slicing support, producing new `Vector` istances.\n",
    "- Aggregate hashing taking into account every contained element value.\n",
    "- Custom formatting language extension."
   ]
  },
  {
   "cell_type": "markdown",
   "metadata": {},
   "source": [
    "We'll also implement dynamic attribute access with `__getattr__` as a way of replacing the read-only properties we used in `Vector2d`.\n",
    "\n",
    "We'll talk about how protocols and `duck typing` are related, and its practical implications when you create your own types"
   ]
  },
  {
   "cell_type": "markdown",
   "metadata": {},
   "source": [
    "## 1. Vector : a user-fefined sequence type"
   ]
  },
  {
   "cell_type": "markdown",
   "metadata": {},
   "source": [
    "Our strategy to implement `Vector` wil be to use composition, not inheritance."
   ]
  },
  {
   "cell_type": "markdown",
   "metadata": {},
   "source": [
    "## 2. Vector take #1 : Vector2d compatible"
   ]
  },
  {
   "cell_type": "markdown",
   "metadata": {},
   "source": [
    "First version of `Vector` should be as compartible as possible with our earlier `Vector2d` class.\n",
    "\n",
    "But the best practice for a sequence constructor is to take the data as an iterable argument in the constructor, like all built-in sequence types do.\n",
    "\n",
    "because `repr` is used for debugging - and you don't want a single large object to span thousands of lines in your console or log. Use the `reprlib` module to produce limited-length representations."
   ]
  },
  {
   "cell_type": "code",
   "execution_count": 2,
   "metadata": {
    "collapsed": true
   },
   "outputs": [],
   "source": [
    "from array import array\n",
    "import reprlib"
   ]
  },
  {
   "cell_type": "code",
   "execution_count": 40,
   "metadata": {
    "collapsed": true
   },
   "outputs": [],
   "source": [
    "from array import array\n",
    "import reprlib\n",
    "import math\n",
    "\n",
    "class Vector:\n",
    "    typecode = 'd'\n",
    "    \n",
    "    def __init__(self, components):\n",
    "        # array(typecode [, initializer]) -> array\n",
    "        self._components = array(self.typecode, components)\n",
    "    \n",
    "    # To allow iteration, we return an iterator over self._components\n",
    "    def __iter__(self):\n",
    "        return iter(self._components)\n",
    "    \n",
    "    def __repr__(self):\n",
    "        # Use reprlib.repr() to get a limited-length representation of self._components\n",
    "        # e.g array('d', [0.0, 1.0, 2.0, ,...])\n",
    "        components = reprlib.repr(self._components)\n",
    "        # Remove the array('d', prefix and trailing) before plugging the string \n",
    "        # into a Vector constructor call.\n",
    "        components = components[components.find('['):-1]\n",
    "        #return '({})'.format(components)\n",
    "        return 'Vector({})'.format(components)\n",
    "    \n",
    "    def __str__(self):\n",
    "        return str(tuple(self))\n",
    "    \n",
    "    def __bytes__(self):\n",
    "        #ord() : Return the Unicode code point for a one-character string.\n",
    "        # Build a bytes object directly from self._components\n",
    "        return (bytes([ord(self.typecode)]) + bytes(self._components))\n",
    "    \n",
    "    def __eq__(self, other):\n",
    "        return tuple(self) == tuple(other)\n",
    "    \n",
    "    def __abs__(self):\n",
    "        # We can't use hypot anymore.\n",
    "        return math.sqrt(sum(x*x for x in self))\n",
    "    \n",
    "    def __bool__(self):\n",
    "        return bool(abs(self))\n",
    "    \n",
    "    @classmethod\n",
    "    def frombytes(cls, octets):\n",
    "        # chr() : Return a Unicode string of one character with ordinal i; 0 <= i <= 0x10ffff.\n",
    "        typecode = chr(octets[0])\n",
    "        memv = memoryview(octets[1:]).cast(typecode)\n",
    "        # we pass the memoryview directly to the constructor, withoud unpacking with *.\n",
    "        return cls(memv)\n",
    "    "
   ]
  },
  {
   "cell_type": "code",
   "execution_count": 41,
   "metadata": {},
   "outputs": [],
   "source": [
    "v = Vector([3.1, 4.2])"
   ]
  },
  {
   "cell_type": "code",
   "execution_count": 42,
   "metadata": {},
   "outputs": [
    {
     "data": {
      "text/plain": [
       "Vector([3.1, 4.2])"
      ]
     },
     "execution_count": 42,
     "metadata": {},
     "output_type": "execute_result"
    }
   ],
   "source": [
    "v"
   ]
  },
  {
   "cell_type": "code",
   "execution_count": 45,
   "metadata": {},
   "outputs": [
    {
     "data": {
      "text/plain": [
       "array('d', [3.1, 4.2])"
      ]
     },
     "execution_count": 45,
     "metadata": {},
     "output_type": "execute_result"
    }
   ],
   "source": [
    "v._components"
   ]
  },
  {
   "cell_type": "code",
   "execution_count": 43,
   "metadata": {},
   "outputs": [
    {
     "data": {
      "text/plain": [
       "'Vector([3.1, 4.2])'"
      ]
     },
     "execution_count": 43,
     "metadata": {},
     "output_type": "execute_result"
    }
   ],
   "source": [
    "repr(v)"
   ]
  },
  {
   "cell_type": "code",
   "execution_count": 17,
   "metadata": {},
   "outputs": [
    {
     "data": {
      "text/plain": [
       "str"
      ]
     },
     "execution_count": 17,
     "metadata": {},
     "output_type": "execute_result"
    }
   ],
   "source": [
    "type(str(v))"
   ]
  },
  {
   "cell_type": "code",
   "execution_count": 19,
   "metadata": {},
   "outputs": [
    {
     "data": {
      "text/plain": [
       "'(3.1, 4.2)'"
      ]
     },
     "execution_count": 19,
     "metadata": {},
     "output_type": "execute_result"
    }
   ],
   "source": [
    "str(v)"
   ]
  },
  {
   "cell_type": "code",
   "execution_count": 16,
   "metadata": {},
   "outputs": [
    {
     "data": {
      "text/plain": [
       "(3.1, 4.2)"
      ]
     },
     "execution_count": 16,
     "metadata": {},
     "output_type": "execute_result"
    }
   ],
   "source": [
    "eval(str(v))"
   ]
  },
  {
   "cell_type": "code",
   "execution_count": 18,
   "metadata": {},
   "outputs": [
    {
     "data": {
      "text/plain": [
       "str"
      ]
     },
     "execution_count": 18,
     "metadata": {},
     "output_type": "execute_result"
    }
   ],
   "source": [
    "type(str(\"ddd\"))"
   ]
  },
  {
   "cell_type": "code",
   "execution_count": 20,
   "metadata": {},
   "outputs": [
    {
     "data": {
      "text/plain": [
       "'ddd'"
      ]
     },
     "execution_count": 20,
     "metadata": {},
     "output_type": "execute_result"
    }
   ],
   "source": [
    "str(\"ddd\")"
   ]
  },
  {
   "cell_type": "code",
   "execution_count": 44,
   "metadata": {},
   "outputs": [
    {
     "data": {
      "text/plain": [
       "__main__.Vector"
      ]
     },
     "execution_count": 44,
     "metadata": {},
     "output_type": "execute_result"
    }
   ],
   "source": [
    "type(eval(repr(v)))"
   ]
  },
  {
   "cell_type": "code",
   "execution_count": 11,
   "metadata": {
    "collapsed": true
   },
   "outputs": [],
   "source": [
    "v2 = eval(repr(v))"
   ]
  },
  {
   "cell_type": "code",
   "execution_count": 12,
   "metadata": {},
   "outputs": [
    {
     "data": {
      "text/plain": [
       "[3.1, 4.2]"
      ]
     },
     "execution_count": 12,
     "metadata": {},
     "output_type": "execute_result"
    }
   ],
   "source": [
    "v2"
   ]
  },
  {
   "cell_type": "code",
   "execution_count": 13,
   "metadata": {},
   "outputs": [
    {
     "data": {
      "text/plain": [
       "list"
      ]
     },
     "execution_count": 13,
     "metadata": {},
     "output_type": "execute_result"
    }
   ],
   "source": [
    "type(v2)"
   ]
  },
  {
   "cell_type": "code",
   "execution_count": 14,
   "metadata": {},
   "outputs": [
    {
     "data": {
      "text/plain": [
       "3.1"
      ]
     },
     "execution_count": 14,
     "metadata": {},
     "output_type": "execute_result"
    }
   ],
   "source": [
    "v2[0]"
   ]
  },
  {
   "cell_type": "code",
   "execution_count": 7,
   "metadata": {},
   "outputs": [
    {
     "data": {
      "text/plain": [
       "Vector([3.0, 4.0, 5.0])"
      ]
     },
     "execution_count": 7,
     "metadata": {},
     "output_type": "execute_result"
    }
   ],
   "source": [
    "Vector((3,4,5))"
   ]
  },
  {
   "cell_type": "code",
   "execution_count": 8,
   "metadata": {},
   "outputs": [
    {
     "data": {
      "text/plain": [
       "Vector([0.0, 1.0, 2.0, 3.0, 4.0, ...])"
      ]
     },
     "execution_count": 8,
     "metadata": {},
     "output_type": "execute_result"
    }
   ],
   "source": [
    "Vector(range(10))"
   ]
  },
  {
   "cell_type": "code",
   "execution_count": 22,
   "metadata": {},
   "outputs": [],
   "source": [
    "b = bytes(v)"
   ]
  },
  {
   "cell_type": "code",
   "execution_count": 23,
   "metadata": {
    "scrolled": true
   },
   "outputs": [
    {
     "data": {
      "text/plain": [
       "b'd\\xcd\\xcc\\xcc\\xcc\\xcc\\xcc\\x08@\\xcd\\xcc\\xcc\\xcc\\xcc\\xcc\\x10@'"
      ]
     },
     "execution_count": 23,
     "metadata": {},
     "output_type": "execute_result"
    }
   ],
   "source": [
    "b"
   ]
  },
  {
   "cell_type": "code",
   "execution_count": 25,
   "metadata": {},
   "outputs": [
    {
     "data": {
      "text/plain": [
       "100"
      ]
     },
     "execution_count": 25,
     "metadata": {},
     "output_type": "execute_result"
    }
   ],
   "source": [
    "b[0]"
   ]
  },
  {
   "cell_type": "code",
   "execution_count": 26,
   "metadata": {},
   "outputs": [],
   "source": [
    "typecode = chr(b[0])"
   ]
  },
  {
   "cell_type": "code",
   "execution_count": 27,
   "metadata": {},
   "outputs": [
    {
     "data": {
      "text/plain": [
       "'d'"
      ]
     },
     "execution_count": 27,
     "metadata": {},
     "output_type": "execute_result"
    }
   ],
   "source": [
    "typecode"
   ]
  },
  {
   "cell_type": "code",
   "execution_count": 28,
   "metadata": {
    "collapsed": true
   },
   "outputs": [],
   "source": [
    "memv = memoryview(b[1:]).cast(typecode)"
   ]
  },
  {
   "cell_type": "code",
   "execution_count": 30,
   "metadata": {},
   "outputs": [
    {
     "name": "stdout",
     "output_type": "stream",
     "text": [
      "<memory at 0x000002BCDEE64B88>\n"
     ]
    }
   ],
   "source": [
    "print(memv)"
   ]
  },
  {
   "cell_type": "code",
   "execution_count": 38,
   "metadata": {},
   "outputs": [
    {
     "name": "stdout",
     "output_type": "stream",
     "text": [
      "3.1\n",
      "4.2\n"
     ]
    }
   ],
   "source": [
    "for i in memv:\n",
    "    print(i)"
   ]
  },
  {
   "cell_type": "code",
   "execution_count": 33,
   "metadata": {},
   "outputs": [
    {
     "name": "stdout",
     "output_type": "stream",
     "text": [
      "3.1 4.2\n"
     ]
    }
   ],
   "source": [
    "print(*memv)"
   ]
  },
  {
   "cell_type": "code",
   "execution_count": 32,
   "metadata": {},
   "outputs": [
    {
     "ename": "TypeError",
     "evalue": "__init__() takes 2 positional arguments but 3 were given",
     "output_type": "error",
     "traceback": [
      "\u001b[1;31m---------------------------------------------------------------------------\u001b[0m",
      "\u001b[1;31mTypeError\u001b[0m                                 Traceback (most recent call last)",
      "\u001b[1;32m<ipython-input-32-86fe63c8c095>\u001b[0m in \u001b[0;36m<module>\u001b[1;34m()\u001b[0m\n\u001b[1;32m----> 1\u001b[1;33m \u001b[0mVector\u001b[0m\u001b[1;33m(\u001b[0m\u001b[1;33m*\u001b[0m\u001b[0mmemv\u001b[0m\u001b[1;33m)\u001b[0m\u001b[1;33m\u001b[0m\u001b[0m\n\u001b[0m",
      "\u001b[1;31mTypeError\u001b[0m: __init__() takes 2 positional arguments but 3 were given"
     ]
    }
   ],
   "source": [
    "Vector(*memv)"
   ]
  },
  {
   "cell_type": "markdown",
   "metadata": {},
   "source": [
    "## 3. Protocols and duck typing"
   ]
  },
  {
   "cell_type": "markdown",
   "metadata": {},
   "source": [
    "you don't need to inherit from any special class to create a fully functional sequence type in Python\n",
    "\n",
    "you just need to implement the methods that fulfill the `sequence protocol`.\n",
    "\n",
    "`protocol` is an informal interface, defined only in documentation and not in code."
   ]
  },
  {
   "cell_type": "markdown",
   "metadata": {},
   "source": [
    "all that matters is that it provides the necessary methods\n",
    "\n",
    "seqeunce protocol in Python entails just the `__len__` and `__getitem__` methods."
   ]
  },
  {
   "cell_type": "code",
   "execution_count": 3,
   "metadata": {
    "collapsed": true
   },
   "outputs": [],
   "source": [
    "import collections\n",
    "\n",
    "Card = collections.namedtuple('Card', ['rank', 'suit'])\n",
    "\n",
    "class FrenchDeck:\n",
    "    ranks = [str(n) for n in range(2,11)] + list('JQKA')\n",
    "    suits = 'spades diamonds clubs hearts'.split()\n",
    "    \n",
    "    def __init__(self):\n",
    "        self._cards = [Card(rank, suit) for suit in self.suits\n",
    "                      for rank in self.ranks]\n",
    "        \n",
    "    def __len__(self):\n",
    "        return len(self._cards)\n",
    "    \n",
    "    def __getitem(self, position):\n",
    "        return self._cards[position]"
   ]
  },
  {
   "cell_type": "code",
   "execution_count": null,
   "metadata": {
    "collapsed": true
   },
   "outputs": [],
   "source": []
  },
  {
   "cell_type": "markdown",
   "metadata": {},
   "source": [
    "## 4. Vector take #2 : a sliceable sequence"
   ]
  },
  {
   "cell_type": "markdown",
   "metadata": {},
   "source": [
    "We'll now implement the sequence protocol in `Vector`, initially without proper support for slicing, but later adding that"
   ]
  },
  {
   "cell_type": "code",
   "execution_count": 9,
   "metadata": {
    "collapsed": true
   },
   "outputs": [],
   "source": [
    "from array import array\n",
    "import reprlib\n",
    "import math\n",
    "\n",
    "class Vector:\n",
    "    typecode = 'd'\n",
    "    \n",
    "    def __init__(self, components):\n",
    "        # array(typecode [, initializer]) -> array\n",
    "        self._components = array(self.typecode, components)\n",
    "    \n",
    "    # To allow iteration, we return an iterator over self._components\n",
    "    def __iter__(self):\n",
    "        return iter(self._components)\n",
    "    \n",
    "    def __repr__(self):\n",
    "        # Use reprlib.repr() to get a limited-length representation of self._components\n",
    "        # e.g array('d', [0.0, 1.0, 2.0, ,...])\n",
    "        components = reprlib.repr(self._components)\n",
    "        # Remove the array('d', prefix and trailing) before plugging the string \n",
    "        # into a Vector constructor call.\n",
    "        components = components[components.find('['):-1]\n",
    "        return 'Vector({})'.format(components)\n",
    "    \n",
    "    def __str__(self):\n",
    "        return str(tuple(self))\n",
    "    \n",
    "    def __bytes__(self):\n",
    "        #ord() : Return the Unicode code point for a one-character string.\n",
    "        # Build a bytes object directly from self._components\n",
    "        return (bytes([ord(self.typecode)]) + bytes(self._components))\n",
    "    \n",
    "    def __eq__(self, other):\n",
    "        return tuple(self) == tuple(other)\n",
    "    \n",
    "    def __abs__(self):\n",
    "        # We can't use hypot anymore.\n",
    "        return math.sqrt(sum(x*x for x in self))\n",
    "    \n",
    "    def __bool__(self):\n",
    "        return bool(abs(self))\n",
    "    \n",
    "    @classmethod\n",
    "    def frombytes(cls, octets):\n",
    "        # chr() : Return a Unicode string of one character with ordinal i; 0 <= i <= 0x10ffff.\n",
    "        typecode = chr(octets[0])\n",
    "        memv = memoryview(octets[1:]).cast(typecode)\n",
    "        # we pass the memoryview directly to the constructor, withoud unpacking with *.\n",
    "        return cls(memv)\n",
    "    \n",
    "    def __len__(self):\n",
    "        return len(self._components)\n",
    "    \n",
    "    def __getitem__(self, index):\n",
    "        return self._components[index]"
   ]
  },
  {
   "cell_type": "code",
   "execution_count": 10,
   "metadata": {},
   "outputs": [
    {
     "data": {
      "text/plain": [
       "3"
      ]
     },
     "execution_count": 10,
     "metadata": {},
     "output_type": "execute_result"
    }
   ],
   "source": [
    "v1 = Vector([3,4,5])\n",
    "len(v1)"
   ]
  },
  {
   "cell_type": "code",
   "execution_count": 11,
   "metadata": {},
   "outputs": [
    {
     "data": {
      "text/plain": [
       "(3.0, 5.0)"
      ]
     },
     "execution_count": 11,
     "metadata": {},
     "output_type": "execute_result"
    }
   ],
   "source": [
    "v1[0], v1[-1]"
   ]
  },
  {
   "cell_type": "code",
   "execution_count": 12,
   "metadata": {
    "collapsed": true
   },
   "outputs": [],
   "source": [
    "v7 = Vector(range(7))"
   ]
  },
  {
   "cell_type": "code",
   "execution_count": 13,
   "metadata": {},
   "outputs": [
    {
     "data": {
      "text/plain": [
       "array('d', [1.0, 2.0, 3.0])"
      ]
     },
     "execution_count": 13,
     "metadata": {},
     "output_type": "execute_result"
    }
   ],
   "source": [
    "v7[1:4]"
   ]
  },
  {
   "cell_type": "markdown",
   "metadata": {},
   "source": [
    "To make `Vector` produce slices as `Vector` instance, we can't just delegate the slicing to `array`"
   ]
  },
  {
   "cell_type": "markdown",
   "metadata": {},
   "source": [
    "### How slicing works"
   ]
  },
  {
   "cell_type": "code",
   "execution_count": 14,
   "metadata": {
    "collapsed": true
   },
   "outputs": [],
   "source": [
    "class MySeq:\n",
    "    def __getitem__(self, index):\n",
    "        return index\n",
    "    "
   ]
  },
  {
   "cell_type": "code",
   "execution_count": 15,
   "metadata": {
    "collapsed": true
   },
   "outputs": [],
   "source": [
    "s = MySeq()"
   ]
  },
  {
   "cell_type": "code",
   "execution_count": 16,
   "metadata": {},
   "outputs": [
    {
     "data": {
      "text/plain": [
       "1"
      ]
     },
     "execution_count": 16,
     "metadata": {},
     "output_type": "execute_result"
    }
   ],
   "source": [
    "s[1]"
   ]
  },
  {
   "cell_type": "code",
   "execution_count": 17,
   "metadata": {},
   "outputs": [
    {
     "data": {
      "text/plain": [
       "slice(1, 4, None)"
      ]
     },
     "execution_count": 17,
     "metadata": {},
     "output_type": "execute_result"
    }
   ],
   "source": [
    "s[1:4]"
   ]
  },
  {
   "cell_type": "code",
   "execution_count": 18,
   "metadata": {},
   "outputs": [
    {
     "data": {
      "text/plain": [
       "slice(1, 4, 2)"
      ]
     },
     "execution_count": 18,
     "metadata": {},
     "output_type": "execute_result"
    }
   ],
   "source": [
    "# slice(1,4,2) means start at 1, stop at 4, step by 2.\n",
    "s[1:4:2]"
   ]
  },
  {
   "cell_type": "code",
   "execution_count": 20,
   "metadata": {},
   "outputs": [
    {
     "data": {
      "text/plain": [
       "(slice(1, 4, 2), 9)"
      ]
     },
     "execution_count": 20,
     "metadata": {},
     "output_type": "execute_result"
    }
   ],
   "source": [
    "# the presence of commas inside the [] means __getitem__ receives a tuple.\n",
    "s[1:4:2, 9]"
   ]
  },
  {
   "cell_type": "code",
   "execution_count": 21,
   "metadata": {},
   "outputs": [
    {
     "data": {
      "text/plain": [
       "(slice(1, 4, 2), slice(7, 9, None))"
      ]
     },
     "execution_count": 21,
     "metadata": {},
     "output_type": "execute_result"
    }
   ],
   "source": [
    "# The tuple may even hold several slice objects.\n",
    "s[1:4:2, 7:9]"
   ]
  },
  {
   "cell_type": "code",
   "execution_count": 22,
   "metadata": {},
   "outputs": [
    {
     "data": {
      "text/plain": [
       "slice"
      ]
     },
     "execution_count": 22,
     "metadata": {},
     "output_type": "execute_result"
    }
   ],
   "source": [
    "slice"
   ]
  },
  {
   "cell_type": "code",
   "execution_count": 23,
   "metadata": {},
   "outputs": [
    {
     "data": {
      "text/plain": [
       "['__class__',\n",
       " '__delattr__',\n",
       " '__dir__',\n",
       " '__doc__',\n",
       " '__eq__',\n",
       " '__format__',\n",
       " '__ge__',\n",
       " '__getattribute__',\n",
       " '__gt__',\n",
       " '__hash__',\n",
       " '__init__',\n",
       " '__le__',\n",
       " '__lt__',\n",
       " '__ne__',\n",
       " '__new__',\n",
       " '__reduce__',\n",
       " '__reduce_ex__',\n",
       " '__repr__',\n",
       " '__setattr__',\n",
       " '__sizeof__',\n",
       " '__str__',\n",
       " '__subclasshook__',\n",
       " 'indices',\n",
       " 'start',\n",
       " 'step',\n",
       " 'stop']"
      ]
     },
     "execution_count": 23,
     "metadata": {},
     "output_type": "execute_result"
    }
   ],
   "source": [
    "dir(slice)"
   ]
  },
  {
   "cell_type": "code",
   "execution_count": 24,
   "metadata": {},
   "outputs": [
    {
     "name": "stdout",
     "output_type": "stream",
     "text": [
      "Help on method_descriptor:\n",
      "\n",
      "indices(...)\n",
      "    S.indices(len) -> (start, stop, stride)\n",
      "    \n",
      "    Assuming a sequence of length len, calculate the start and stop\n",
      "    indices, and the stride length of the extended slice described by\n",
      "    S. Out of bounds indices are clipped in a manner consistent with the\n",
      "    handling of normal slices.\n",
      "\n"
     ]
    }
   ],
   "source": [
    "help(slice.indices)"
   ]
  },
  {
   "cell_type": "markdown",
   "metadata": {},
   "source": [
    "This method produces \"normalized\" tuples of non-negative `start`, `stop` and `stride` integers adjusted to fit within the bounds of a sequence of the given length."
   ]
  },
  {
   "cell_type": "code",
   "execution_count": 25,
   "metadata": {},
   "outputs": [
    {
     "data": {
      "text/plain": [
       "(0, 5, 2)"
      ]
     },
     "execution_count": 25,
     "metadata": {},
     "output_type": "execute_result"
    }
   ],
   "source": [
    "# 'ABCDE[:10:2] is the same as 'ABCED'[0:5:2]\n",
    "slice(None, 10, 2).indices(5)"
   ]
  },
  {
   "cell_type": "code",
   "execution_count": 26,
   "metadata": {},
   "outputs": [
    {
     "data": {
      "text/plain": [
       "(2, 5, 1)"
      ]
     },
     "execution_count": 26,
     "metadata": {},
     "output_type": "execute_result"
    }
   ],
   "source": [
    "# 'ABCDE[-3:] is the same as 'ABCDE'[2:5:1]\n",
    "slice(-3, None, None).indices(5)"
   ]
  },
  {
   "cell_type": "markdown",
   "metadata": {},
   "source": [
    "In our `Vector` code, we'll not need the `slice.indices()` method because when we get a slice argument we'll delegate its handling to the `_components array`."
   ]
  },
  {
   "cell_type": "markdown",
   "metadata": {},
   "source": [
    "### A slice-aware __getitem__"
   ]
  },
  {
   "cell_type": "code",
   "execution_count": 1,
   "metadata": {
    "collapsed": true
   },
   "outputs": [],
   "source": [
    "from array import array\n",
    "import reprlib\n",
    "import math\n",
    "import numbers\n",
    "\n",
    "class Vector:\n",
    "    typecode = 'd'\n",
    "    \n",
    "    def __init__(self, components):\n",
    "        # array(typecode [, initializer]) -> array\n",
    "        self._components = array(self.typecode, components)\n",
    "    \n",
    "    # To allow iteration, we return an iterator over self._components\n",
    "    def __iter__(self):\n",
    "        return iter(self._components)\n",
    "    \n",
    "    def __repr__(self):\n",
    "        # Use reprlib.repr() to get a limited-length representation of self._components\n",
    "        # e.g array('d', [0.0, 1.0, 2.0, ,...])\n",
    "        components = reprlib.repr(self._components)\n",
    "        # Remove the array('d', prefix and trailing) before plugging the string \n",
    "        # into a Vector constructor call.\n",
    "        components = components[components.find('['):-1]\n",
    "        return 'Vector({})'.format(components)\n",
    "    \n",
    "    def __str__(self):\n",
    "        return str(tuple(self))\n",
    "    \n",
    "    def __bytes__(self):\n",
    "        #ord() : Return the Unicode code point for a one-character string.\n",
    "        # Build a bytes object directly from self._components\n",
    "        return (bytes([ord(self.typecode)]) + bytes(self._components))\n",
    "    \n",
    "    def __eq__(self, other):\n",
    "        return tuple(self) == tuple(other)\n",
    "    \n",
    "    def __abs__(self):\n",
    "        # We can't use hypot anymore.\n",
    "        return math.sqrt(sum(x*x for x in self))\n",
    "    \n",
    "    def __bool__(self):\n",
    "        return bool(abs(self))\n",
    "    \n",
    "    @classmethod\n",
    "    def frombytes(cls, octets):\n",
    "        # chr() : Return a Unicode string of one character with ordinal i; 0 <= i <= 0x10ffff.\n",
    "        typecode = chr(octets[0])\n",
    "        memv = memoryview(octets[1:]).cast(typecode)\n",
    "        # we pass the memoryview directly to the constructor, withoud unpacking with *.\n",
    "        return cls(memv)\n",
    "    \n",
    "    def __len__(self):\n",
    "        return len(self._components)\n",
    "    \n",
    "    def __getitem__(self, index):\n",
    "        # Get the class of the instance(i.e Vector) for later use.\n",
    "        cls = type(self)\n",
    "        # If the index argument is a slice...\n",
    "        if isinstance(index, slice):\n",
    "            # Invoke the class to build another Vector instance from a slice of the _components array.\n",
    "            return cls(self._components[index])\n",
    "        \n",
    "        # If the index is an int or some other kind of integers...\n",
    "        elif isinstance(index, numbers.Integral):\n",
    "            # just return the specific item from _components.\n",
    "            return self._components[index]\n",
    "        else:\n",
    "            msg = '{cls.__name__} indices must be integers'\n",
    "            raise TypeError(msg.format(cls=cls))"
   ]
  },
  {
   "cell_type": "code",
   "execution_count": 2,
   "metadata": {
    "collapsed": true
   },
   "outputs": [],
   "source": [
    "v7 = Vector(range(7))"
   ]
  },
  {
   "cell_type": "code",
   "execution_count": 33,
   "metadata": {},
   "outputs": [
    {
     "data": {
      "text/plain": [
       "6.0"
      ]
     },
     "execution_count": 33,
     "metadata": {},
     "output_type": "execute_result"
    }
   ],
   "source": [
    "# An integer index retrieves just one component value as a float.\n",
    "v7[-1]"
   ]
  },
  {
   "cell_type": "code",
   "execution_count": 34,
   "metadata": {},
   "outputs": [
    {
     "data": {
      "text/plain": [
       "Vector([1.0, 2.0, 3.0])"
      ]
     },
     "execution_count": 34,
     "metadata": {},
     "output_type": "execute_result"
    }
   ],
   "source": [
    "# A slice index creates a new Vector.\n",
    "v7[1:4]"
   ]
  },
  {
   "cell_type": "code",
   "execution_count": 35,
   "metadata": {},
   "outputs": [
    {
     "data": {
      "text/plain": [
       "Vector([6.0])"
      ]
     },
     "execution_count": 35,
     "metadata": {},
     "output_type": "execute_result"
    }
   ],
   "source": [
    "# A slice of len == 1 also crates a Vector.\n",
    "v7[-1:]"
   ]
  },
  {
   "cell_type": "code",
   "execution_count": 36,
   "metadata": {},
   "outputs": [
    {
     "ename": "TypeError",
     "evalue": "Vector indices must be integers",
     "output_type": "error",
     "traceback": [
      "\u001b[1;31m---------------------------------------------------------------------------\u001b[0m",
      "\u001b[1;31mTypeError\u001b[0m                                 Traceback (most recent call last)",
      "\u001b[1;32m<ipython-input-36-0f616761b0d9>\u001b[0m in \u001b[0;36m<module>\u001b[1;34m()\u001b[0m\n\u001b[1;32m----> 1\u001b[1;33m \u001b[0mv7\u001b[0m\u001b[1;33m[\u001b[0m\u001b[1;36m1\u001b[0m\u001b[1;33m,\u001b[0m\u001b[1;36m2\u001b[0m\u001b[1;33m]\u001b[0m\u001b[1;33m\u001b[0m\u001b[0m\n\u001b[0m",
      "\u001b[1;32m<ipython-input-31-ad469d79f675>\u001b[0m in \u001b[0;36m__getitem__\u001b[1;34m(self, index)\u001b[0m\n\u001b[0;32m     67\u001b[0m         \u001b[1;32melse\u001b[0m\u001b[1;33m:\u001b[0m\u001b[1;33m\u001b[0m\u001b[0m\n\u001b[0;32m     68\u001b[0m             \u001b[0mmsg\u001b[0m \u001b[1;33m=\u001b[0m \u001b[1;34m'{cls.__name__} indices must be integers'\u001b[0m\u001b[1;33m\u001b[0m\u001b[0m\n\u001b[1;32m---> 69\u001b[1;33m             \u001b[1;32mraise\u001b[0m \u001b[0mTypeError\u001b[0m\u001b[1;33m(\u001b[0m\u001b[0mmsg\u001b[0m\u001b[1;33m.\u001b[0m\u001b[0mformat\u001b[0m\u001b[1;33m(\u001b[0m\u001b[0mcls\u001b[0m\u001b[1;33m=\u001b[0m\u001b[0mcls\u001b[0m\u001b[1;33m)\u001b[0m\u001b[1;33m)\u001b[0m\u001b[1;33m\u001b[0m\u001b[0m\n\u001b[0m",
      "\u001b[1;31mTypeError\u001b[0m: Vector indices must be integers"
     ]
    }
   ],
   "source": [
    "# Vector does not support multi-dimensional idexing, so a tuple of indices or slices\n",
    "# raises an error.\n",
    "v7[1,2]"
   ]
  },
  {
   "cell_type": "markdown",
   "metadata": {},
   "source": [
    "## 5. Vector take #3 : dynamic attribute access"
   ]
  },
  {
   "cell_type": "markdown",
   "metadata": {},
   "source": [
    "Still it may be convinient to access the first few components with shortcut letters such as `x`, `y`, `z` instead of `v[0]`, `v[1]`, and `v[2]`.\n",
    "\n",
    "We could write four properties in `Vector`, but it would be tedious.\n",
    "The `__getattr__` special method provides a better way."
   ]
  },
  {
   "cell_type": "markdown",
   "metadata": {},
   "source": [
    "`__getattr__` method is invoked by the interpreter when attribute lookup fails. \n",
    "\n",
    "If the `x` attribute is not found, then the `__getattr__` method defined in the class of `my_obj` is called with `self` and the name of the attribute as a string, e.g. `x`."
   ]
  },
  {
   "cell_type": "code",
   "execution_count": 8,
   "metadata": {
    "collapsed": true
   },
   "outputs": [],
   "source": [
    "from array import array\n",
    "import reprlib\n",
    "import math\n",
    "import numbers\n",
    "\n",
    "class Vector:\n",
    "    typecode = 'd'\n",
    "    shortcut_names = 'xyzt'\n",
    "    \n",
    "    def __init__(self, components):\n",
    "        # array(typecode [, initializer]) -> array\n",
    "        self._components = array(self.typecode, components)\n",
    "    \n",
    "    # To allow iteration, we return an iterator over self._components\n",
    "    def __iter__(self):\n",
    "        return iter(self._components)\n",
    "    \n",
    "    def __repr__(self):\n",
    "        # Use reprlib.repr() to get a limited-length representation of self._components\n",
    "        # e.g array('d', [0.0, 1.0, 2.0, ,...])\n",
    "        components = reprlib.repr(self._components)\n",
    "        # Remove the array('d', prefix and trailing) before plugging the string \n",
    "        # into a Vector constructor call.\n",
    "        components = components[components.find('['):-1]\n",
    "        return 'Vector({})'.format(components)\n",
    "    \n",
    "    def __str__(self):\n",
    "        return str(tuple(self))\n",
    "    \n",
    "    def __bytes__(self):\n",
    "        #ord() : Return the Unicode code point for a one-character string.\n",
    "        # Build a bytes object directly from self._components\n",
    "        return (bytes([ord(self.typecode)]) + bytes(self._components))\n",
    "    \n",
    "    def __eq__(self, other):\n",
    "        return tuple(self) == tuple(other)\n",
    "    \n",
    "    def __abs__(self):\n",
    "        # We can't use hypot anymore.\n",
    "        return math.sqrt(sum(x*x for x in self))\n",
    "    \n",
    "    def __bool__(self):\n",
    "        return bool(abs(self))\n",
    "    \n",
    "    @classmethod\n",
    "    def frombytes(cls, octets):\n",
    "        # chr() : Return a Unicode string of one character with ordinal i; 0 <= i <= 0x10ffff.\n",
    "        typecode = chr(octets[0])\n",
    "        memv = memoryview(octets[1:]).cast(typecode)\n",
    "        # we pass the memoryview directly to the constructor, withoud unpacking with *.\n",
    "        return cls(memv)\n",
    "    \n",
    "    def __len__(self):\n",
    "        return len(self._components)\n",
    "    \n",
    "    def __getitem__(self, index):\n",
    "        # Get the class of the instance(i.e Vector) for later use.\n",
    "        cls = type(self)\n",
    "        # If the index argument is a slice...\n",
    "        if isinstance(index, slice):\n",
    "            # Invoke the class to build another Vector instance from a slice of the _components array.\n",
    "            return cls(self._components[index])\n",
    "        \n",
    "        # If the index is an int or some other kind of integers...\n",
    "        elif isinstance(index, numbers.Integral):\n",
    "            # just return the specific item from _components.\n",
    "            return self._components[index]\n",
    "        else:\n",
    "            msg = '{cls.__name__} indices must be integers'\n",
    "            raise TypeError(msg.format(cls=cls))\n",
    "            \n",
    "    def __getattr__(self, name):\n",
    "        # Get the Vector class for later use.\n",
    "        cls = type(self)\n",
    "        # If the name is one character, it may be one of the shortcut_names.\n",
    "        if len(name) == 1:\n",
    "            pos = cls.shortcut_names.find(name)\n",
    "            # If the position is within range, return the array element.\n",
    "            if 0 <= pos < len(self._components):\n",
    "                return self._components[pos]\n",
    "            \n",
    "        msg = '{.__name__!r} object has no attribute {!r}'\n",
    "        return AttributeError(msg.format(cls, name))\n",
    "        "
   ]
  },
  {
   "cell_type": "code",
   "execution_count": 5,
   "metadata": {},
   "outputs": [
    {
     "data": {
      "text/plain": [
       "0"
      ]
     },
     "execution_count": 5,
     "metadata": {},
     "output_type": "execute_result"
    }
   ],
   "source": [
    "shortcut_names = 'xyzt'\n",
    "# Return the lowest index in S where substring sub is found,\n",
    "shortcut_names.find('x')"
   ]
  },
  {
   "cell_type": "code",
   "execution_count": 7,
   "metadata": {},
   "outputs": [
    {
     "data": {
      "text/plain": [
       "1"
      ]
     },
     "execution_count": 7,
     "metadata": {},
     "output_type": "execute_result"
    }
   ],
   "source": [
    "shortcut_names.find('yz')"
   ]
  },
  {
   "cell_type": "code",
   "execution_count": 9,
   "metadata": {},
   "outputs": [
    {
     "data": {
      "text/plain": [
       "Vector([0.0, 1.0, 2.0, 3.0, 4.0])"
      ]
     },
     "execution_count": 9,
     "metadata": {},
     "output_type": "execute_result"
    }
   ],
   "source": [
    "v = Vector(range(5))\n",
    "v"
   ]
  },
  {
   "cell_type": "code",
   "execution_count": 10,
   "metadata": {},
   "outputs": [
    {
     "data": {
      "text/plain": [
       "0.0"
      ]
     },
     "execution_count": 10,
     "metadata": {},
     "output_type": "execute_result"
    }
   ],
   "source": [
    "v.x"
   ]
  },
  {
   "cell_type": "code",
   "execution_count": 11,
   "metadata": {
    "collapsed": true
   },
   "outputs": [],
   "source": [
    "v.x = 10"
   ]
  },
  {
   "cell_type": "code",
   "execution_count": 12,
   "metadata": {},
   "outputs": [
    {
     "data": {
      "text/plain": [
       "10"
      ]
     },
     "execution_count": 12,
     "metadata": {},
     "output_type": "execute_result"
    }
   ],
   "source": [
    "v.x"
   ]
  },
  {
   "cell_type": "code",
   "execution_count": 14,
   "metadata": {},
   "outputs": [
    {
     "data": {
      "text/plain": [
       "Vector([0.0, 1.0, 2.0, 3.0, 4.0])"
      ]
     },
     "execution_count": 14,
     "metadata": {},
     "output_type": "execute_result"
    }
   ],
   "source": [
    "v"
   ]
  },
  {
   "cell_type": "markdown",
   "metadata": {},
   "source": [
    "Python only calls that method as a fall back, when the object does not have the name attribute.\n",
    "\n",
    "However, after we assign `v.x = 10`, the `v` object now has an `x` attribute, so `__getattr__` will no longer be called to retrieve `v.x`.\n",
    "\n",
    "our implementation of `__getattr__` pays no attention to instance attributes other than `self._components`, from where it retreives the values of the virtual attributes listed in `shortcut_names`"
   ]
  },
  {
   "cell_type": "markdown",
   "metadata": {},
   "source": [
    "exception with any attempt at assigning to all single-letter lower case attribute names, just to avoid confusion. \n",
    "\n",
    "Implement `__setattr__`."
   ]
  },
  {
   "cell_type": "code",
   "execution_count": 7,
   "metadata": {
    "collapsed": true
   },
   "outputs": [],
   "source": [
    "from array import array\n",
    "import reprlib\n",
    "import math\n",
    "import numbers\n",
    "\n",
    "class Vector:\n",
    "    typecode = 'd'\n",
    "    shortcut_names = 'xyzt'\n",
    "    \n",
    "    def __init__(self, components):\n",
    "        # array(typecode [, initializer]) -> array\n",
    "        self._components = array(self.typecode, components)\n",
    "    \n",
    "    # To allow iteration, we return an iterator over self._components\n",
    "    def __iter__(self):\n",
    "        return iter(self._components)\n",
    "    \n",
    "    def __repr__(self):\n",
    "        # Use reprlib.repr() to get a limited-length representation of self._components\n",
    "        # e.g array('d', [0.0, 1.0, 2.0, ,...])\n",
    "        components = reprlib.repr(self._components)\n",
    "        # Remove the array('d', prefix and trailing) before plugging the string \n",
    "        # into a Vector constructor call.\n",
    "        components = components[components.find('['):-1]\n",
    "        return 'Vector({})'.format(components)\n",
    "    \n",
    "    def __str__(self):\n",
    "        return str(tuple(self))\n",
    "    \n",
    "    def __bytes__(self):\n",
    "        #ord() : Return the Unicode code point for a one-character string.\n",
    "        # Build a bytes object directly from self._components\n",
    "        return (bytes([ord(self.typecode)]) + bytes(self._components))\n",
    "    \n",
    "    def __eq__(self, other):\n",
    "        return tuple(self) == tuple(other)\n",
    "    \n",
    "    def __abs__(self):\n",
    "        # We can't use hypot anymore.\n",
    "        return math.sqrt(sum(x*x for x in self))\n",
    "    \n",
    "    def __bool__(self):\n",
    "        return bool(abs(self))\n",
    "    \n",
    "    @classmethod\n",
    "    def frombytes(cls, octets):\n",
    "        # chr() : Return a Unicode string of one character with ordinal i; 0 <= i <= 0x10ffff.\n",
    "        typecode = chr(octets[0])\n",
    "        memv = memoryview(octets[1:]).cast(typecode)\n",
    "        # we pass the memoryview directly to the constructor, withoud unpacking with *.\n",
    "        return cls(memv)\n",
    "    \n",
    "    def __len__(self):\n",
    "        return len(self._components)\n",
    "    \n",
    "    def __getitem__(self, index):\n",
    "        # Get the class of the instance(i.e Vector) for later use.\n",
    "        cls = type(self)\n",
    "        # If the index argument is a slice...\n",
    "        if isinstance(index, slice):\n",
    "            # Invoke the class to build another Vector instance from a slice of the _components array.\n",
    "            return cls(self._components[index])\n",
    "        \n",
    "        # If the index is an int or some other kind of integers...\n",
    "        elif isinstance(index, numbers.Integral):\n",
    "            # just return the specific item from _components.\n",
    "            return self._components[index]\n",
    "        else:\n",
    "            msg = '{cls.__name__} indices must be integers'\n",
    "            raise TypeError(msg.format(cls=cls))\n",
    "            \n",
    "    def __getattr__(self, name):\n",
    "        # Get the Vector class for later use.\n",
    "        cls = type(self)\n",
    "        # If the name is one character, it may be one of the shortcut_names.\n",
    "        if len(name) == 1:\n",
    "            pos = cls.shortcut_names.find(name)\n",
    "            # If the position is within range, return the array element.\n",
    "            if 0 <= pos < len(self._components):\n",
    "                return self._components[pos]\n",
    "            \n",
    "        msg = '{.__name__!r} object has no attribute {!r}'\n",
    "        return AttributeError(msg.format(cls, name))\n",
    "        \n",
    "    def __setattr__(self, name, value):\n",
    "        cls = type(self)\n",
    "        # Special handling for single-character attribute\n",
    "        if len(name)==1:\n",
    "            # If name is one of xyzt, set specific error message.\n",
    "            if name in cls.shortcut_names:\n",
    "                error = 'readonly attribute {attr_name!r}'\n",
    "            # If name is lower case, set error message about all single-letter names\n",
    "            elif name.islower():\n",
    "                error = \"can't set attributes 'a' to 'z' in {cls_name!r}\"\n",
    "            else:\n",
    "                error = ''\n",
    "            # If there is non-blank error message, raise AttributeError.\n",
    "            if error:\n",
    "                msg = error.format(cls_name=cls.__name__, attr_name=name)\n",
    "                raise AttributeError(msg)\n",
    "        # Default case : call __setattr__ on superclass for standard behavior.\n",
    "        super().__setattr__(name,value)"
   ]
  },
  {
   "cell_type": "code",
   "execution_count": 8,
   "metadata": {},
   "outputs": [
    {
     "data": {
      "text/plain": [
       "Vector([0.0, 1.0, 2.0, 3.0, 4.0])"
      ]
     },
     "execution_count": 8,
     "metadata": {},
     "output_type": "execute_result"
    }
   ],
   "source": [
    "v = Vector(range(5))\n",
    "v"
   ]
  },
  {
   "cell_type": "code",
   "execution_count": 9,
   "metadata": {},
   "outputs": [
    {
     "data": {
      "text/plain": [
       "0.0"
      ]
     },
     "execution_count": 9,
     "metadata": {},
     "output_type": "execute_result"
    }
   ],
   "source": [
    "v.x"
   ]
  },
  {
   "cell_type": "code",
   "execution_count": 10,
   "metadata": {},
   "outputs": [
    {
     "ename": "AttributeError",
     "evalue": "readonly attribute 'x'",
     "output_type": "error",
     "traceback": [
      "\u001b[1;31m---------------------------------------------------------------------------\u001b[0m",
      "\u001b[1;31mAttributeError\u001b[0m                            Traceback (most recent call last)",
      "\u001b[1;32m<ipython-input-10-ab03a2bcc936>\u001b[0m in \u001b[0;36m<module>\u001b[1;34m()\u001b[0m\n\u001b[1;32m----> 1\u001b[1;33m \u001b[0mv\u001b[0m\u001b[1;33m.\u001b[0m\u001b[0mx\u001b[0m \u001b[1;33m=\u001b[0m \u001b[1;36m10\u001b[0m\u001b[1;33m\u001b[0m\u001b[0m\n\u001b[0m",
      "\u001b[1;32m<ipython-input-7-1ccad2c22689>\u001b[0m in \u001b[0;36m__setattr__\u001b[1;34m(self, name, value)\u001b[0m\n\u001b[0;32m     98\u001b[0m             \u001b[1;32mif\u001b[0m \u001b[0merror\u001b[0m\u001b[1;33m:\u001b[0m\u001b[1;33m\u001b[0m\u001b[0m\n\u001b[0;32m     99\u001b[0m                 \u001b[0mmsg\u001b[0m \u001b[1;33m=\u001b[0m \u001b[0merror\u001b[0m\u001b[1;33m.\u001b[0m\u001b[0mformat\u001b[0m\u001b[1;33m(\u001b[0m\u001b[0mcls_name\u001b[0m\u001b[1;33m=\u001b[0m\u001b[0mcls\u001b[0m\u001b[1;33m.\u001b[0m\u001b[0m__name__\u001b[0m\u001b[1;33m,\u001b[0m \u001b[0mattr_name\u001b[0m\u001b[1;33m=\u001b[0m\u001b[0mname\u001b[0m\u001b[1;33m)\u001b[0m\u001b[1;33m\u001b[0m\u001b[0m\n\u001b[1;32m--> 100\u001b[1;33m                 \u001b[1;32mraise\u001b[0m \u001b[0mAttributeError\u001b[0m\u001b[1;33m(\u001b[0m\u001b[0mmsg\u001b[0m\u001b[1;33m)\u001b[0m\u001b[1;33m\u001b[0m\u001b[0m\n\u001b[0m\u001b[0;32m    101\u001b[0m         \u001b[1;31m# Default case : call __setattr__ on superclass for standard behavior.\u001b[0m\u001b[1;33m\u001b[0m\u001b[1;33m\u001b[0m\u001b[0m\n\u001b[0;32m    102\u001b[0m         \u001b[0msuper\u001b[0m\u001b[1;33m(\u001b[0m\u001b[1;33m)\u001b[0m\u001b[1;33m.\u001b[0m\u001b[0m__setattr__\u001b[0m\u001b[1;33m(\u001b[0m\u001b[0mname\u001b[0m\u001b[1;33m,\u001b[0m\u001b[0mvalue\u001b[0m\u001b[1;33m)\u001b[0m\u001b[1;33m\u001b[0m\u001b[0m\n",
      "\u001b[1;31mAttributeError\u001b[0m: readonly attribute 'x'"
     ]
    }
   ],
   "source": [
    "v.x = 10"
   ]
  },
  {
   "cell_type": "code",
   "execution_count": 11,
   "metadata": {},
   "outputs": [
    {
     "ename": "AttributeError",
     "evalue": "can't set attributes 'a' to 'z' in 'Vector'",
     "output_type": "error",
     "traceback": [
      "\u001b[1;31m---------------------------------------------------------------------------\u001b[0m",
      "\u001b[1;31mAttributeError\u001b[0m                            Traceback (most recent call last)",
      "\u001b[1;32m<ipython-input-11-28ef958cb43b>\u001b[0m in \u001b[0;36m<module>\u001b[1;34m()\u001b[0m\n\u001b[1;32m----> 1\u001b[1;33m \u001b[0mv\u001b[0m\u001b[1;33m.\u001b[0m\u001b[0ma\u001b[0m \u001b[1;33m=\u001b[0m \u001b[1;36m10\u001b[0m\u001b[1;33m\u001b[0m\u001b[0m\n\u001b[0m",
      "\u001b[1;32m<ipython-input-7-1ccad2c22689>\u001b[0m in \u001b[0;36m__setattr__\u001b[1;34m(self, name, value)\u001b[0m\n\u001b[0;32m     98\u001b[0m             \u001b[1;32mif\u001b[0m \u001b[0merror\u001b[0m\u001b[1;33m:\u001b[0m\u001b[1;33m\u001b[0m\u001b[0m\n\u001b[0;32m     99\u001b[0m                 \u001b[0mmsg\u001b[0m \u001b[1;33m=\u001b[0m \u001b[0merror\u001b[0m\u001b[1;33m.\u001b[0m\u001b[0mformat\u001b[0m\u001b[1;33m(\u001b[0m\u001b[0mcls_name\u001b[0m\u001b[1;33m=\u001b[0m\u001b[0mcls\u001b[0m\u001b[1;33m.\u001b[0m\u001b[0m__name__\u001b[0m\u001b[1;33m,\u001b[0m \u001b[0mattr_name\u001b[0m\u001b[1;33m=\u001b[0m\u001b[0mname\u001b[0m\u001b[1;33m)\u001b[0m\u001b[1;33m\u001b[0m\u001b[0m\n\u001b[1;32m--> 100\u001b[1;33m                 \u001b[1;32mraise\u001b[0m \u001b[0mAttributeError\u001b[0m\u001b[1;33m(\u001b[0m\u001b[0mmsg\u001b[0m\u001b[1;33m)\u001b[0m\u001b[1;33m\u001b[0m\u001b[0m\n\u001b[0m\u001b[0;32m    101\u001b[0m         \u001b[1;31m# Default case : call __setattr__ on superclass for standard behavior.\u001b[0m\u001b[1;33m\u001b[0m\u001b[1;33m\u001b[0m\u001b[0m\n\u001b[0;32m    102\u001b[0m         \u001b[0msuper\u001b[0m\u001b[1;33m(\u001b[0m\u001b[1;33m)\u001b[0m\u001b[1;33m.\u001b[0m\u001b[0m__setattr__\u001b[0m\u001b[1;33m(\u001b[0m\u001b[0mname\u001b[0m\u001b[1;33m,\u001b[0m\u001b[0mvalue\u001b[0m\u001b[1;33m)\u001b[0m\u001b[1;33m\u001b[0m\u001b[0m\n",
      "\u001b[1;31mAttributeError\u001b[0m: can't set attributes 'a' to 'z' in 'Vector'"
     ]
    }
   ],
   "source": [
    "v.a = 10"
   ]
  },
  {
   "cell_type": "markdown",
   "metadata": {},
   "source": [
    "Note that we are not disallowing setting all attributes, only sinlge-letter, lowercase ones, to avoid confusion with the supported read-only attributes `x`, `y`, `z` and `t`."
   ]
  },
  {
   "cell_type": "markdown",
   "metadata": {},
   "source": [
    "Very often when you implement `__getattr__` you need to code `__setattr__` as well, to avoid incosisntent behavior in your objects."
   ]
  },
  {
   "cell_type": "markdown",
   "metadata": {
    "collapsed": true
   },
   "source": [
    "## 6. Vector take #4 : hashing and a faster =="
   ]
  },
  {
   "cell_type": "markdown",
   "metadata": {},
   "source": [
    "Apply the ^ (xor) operator to the hashes of every component, in succession, like this : `v[0] ^ v[1] ^ v[2]...` That is what the `functools.reduce` function is for.\n",
    "\n",
    "reducing functions(`reduce`, `sum`, `any`, `all`) produce a single aggregate result from a sequence or from any finite iterable object.\n",
    "\n",
    "The first argument to `reduce()` is a two-argument function, and the second argument is an iteralbe."
   ]
  },
  {
   "cell_type": "code",
   "execution_count": 18,
   "metadata": {},
   "outputs": [
    {
     "data": {
      "text/plain": [
       "120"
      ]
     },
     "execution_count": 18,
     "metadata": {},
     "output_type": "execute_result"
    }
   ],
   "source": [
    "2*3*4*5"
   ]
  },
  {
   "cell_type": "code",
   "execution_count": 19,
   "metadata": {},
   "outputs": [
    {
     "data": {
      "text/plain": [
       "120"
      ]
     },
     "execution_count": 19,
     "metadata": {},
     "output_type": "execute_result"
    }
   ],
   "source": [
    "import functools\n",
    "functools.reduce(lambda a,b: a*b, range(1,6))"
   ]
  },
  {
   "cell_type": "code",
   "execution_count": 20,
   "metadata": {
    "collapsed": true
   },
   "outputs": [],
   "source": [
    "n = 0\n",
    "for i in range(1,6):\n",
    "    n ^=i"
   ]
  },
  {
   "cell_type": "code",
   "execution_count": 21,
   "metadata": {},
   "outputs": [
    {
     "data": {
      "text/plain": [
       "1"
      ]
     },
     "execution_count": 21,
     "metadata": {},
     "output_type": "execute_result"
    }
   ],
   "source": [
    "n"
   ]
  },
  {
   "cell_type": "code",
   "execution_count": 22,
   "metadata": {},
   "outputs": [
    {
     "data": {
      "text/plain": [
       "1"
      ]
     },
     "execution_count": 22,
     "metadata": {},
     "output_type": "execute_result"
    }
   ],
   "source": [
    "import functools\n",
    "functools.reduce(lambda a,b: a^b, range(6))"
   ]
  },
  {
   "cell_type": "code",
   "execution_count": 23,
   "metadata": {},
   "outputs": [
    {
     "data": {
      "text/plain": [
       "1"
      ]
     },
     "execution_count": 23,
     "metadata": {},
     "output_type": "execute_result"
    }
   ],
   "source": [
    "import operator\n",
    "functools.reduce(operator.xor, range(6))"
   ]
  },
  {
   "cell_type": "markdown",
   "metadata": {},
   "source": [
    "`operator` provides the functionality of all Python infix operators in function form, lessening the need for `lambda`"
   ]
  },
  {
   "cell_type": "code",
   "execution_count": 25,
   "metadata": {
    "collapsed": true
   },
   "outputs": [],
   "source": [
    "from array import array\n",
    "import reprlib\n",
    "import math\n",
    "import numbers\n",
    "import functools\n",
    "import operator\n",
    "\n",
    "class Vector:\n",
    "    typecode = 'd'\n",
    "    shortcut_names = 'xyzt'\n",
    "    \n",
    "    def __init__(self, components):\n",
    "        # array(typecode [, initializer]) -> array\n",
    "        self._components = array(self.typecode, components)\n",
    "    \n",
    "    # To allow iteration, we return an iterator over self._components\n",
    "    def __iter__(self):\n",
    "        return iter(self._components)\n",
    "    \n",
    "    def __repr__(self):\n",
    "        # Use reprlib.repr() to get a limited-length representation of self._components\n",
    "        # e.g array('d', [0.0, 1.0, 2.0, ,...])\n",
    "        components = reprlib.repr(self._components)\n",
    "        # Remove the array('d', prefix and trailing) before plugging the string \n",
    "        # into a Vector constructor call.\n",
    "        components = components[components.find('['):-1]\n",
    "        return 'Vector({})'.format(components)\n",
    "    \n",
    "    def __str__(self):\n",
    "        return str(tuple(self))\n",
    "    \n",
    "    def __bytes__(self):\n",
    "        #ord() : Return the Unicode code point for a one-character string.\n",
    "        # Build a bytes object directly from self._components\n",
    "        return (bytes([ord(self.typecode)]) + bytes(self._components))\n",
    "    \n",
    "    def __eq__(self, other):\n",
    "        return tuple(self) == tuple(other)\n",
    "    \n",
    "    def __hash__(self):\n",
    "        hashes = (hash(x) for x in self._components)\n",
    "        # If initial is present, it is placed before the items of the sequence in the calculation, \n",
    "        # and serves as a default when the sequence is empty.\n",
    "        return functools.reduce(operator.xor, hashes, 0)\n",
    "    def __abs__(self):\n",
    "        # We can't use hypot anymore.\n",
    "        return math.sqrt(sum(x*x for x in self))\n",
    "    \n",
    "    def __bool__(self):\n",
    "        return bool(abs(self))\n",
    "    \n",
    "    @classmethod\n",
    "    def frombytes(cls, octets):\n",
    "        # chr() : Return a Unicode string of one character with ordinal i; 0 <= i <= 0x10ffff.\n",
    "        typecode = chr(octets[0])\n",
    "        memv = memoryview(octets[1:]).cast(typecode)\n",
    "        # we pass the memoryview directly to the constructor, withoud unpacking with *.\n",
    "        return cls(memv)\n",
    "    \n",
    "    def __len__(self):\n",
    "        return len(self._components)\n",
    "    \n",
    "    def __getitem__(self, index):\n",
    "        # Get the class of the instance(i.e Vector) for later use.\n",
    "        cls = type(self)\n",
    "        # If the index argument is a slice...\n",
    "        if isinstance(index, slice):\n",
    "            # Invoke the class to build another Vector instance from a slice of the _components array.\n",
    "            return cls(self._components[index])\n",
    "        \n",
    "        # If the index is an int or some other kind of integers...\n",
    "        elif isinstance(index, numbers.Integral):\n",
    "            # just return the specific item from _components.\n",
    "            return self._components[index]\n",
    "        else:\n",
    "            msg = '{cls.__name__} indices must be integers'\n",
    "            raise TypeError(msg.format(cls=cls))\n",
    "            \n",
    "    def __getattr__(self, name):\n",
    "        # Get the Vector class for later use.\n",
    "        cls = type(self)\n",
    "        # If the name is one character, it may be one of the shortcut_names.\n",
    "        if len(name) == 1:\n",
    "            pos = cls.shortcut_names.find(name)\n",
    "            # If the position is within range, return the array element.\n",
    "            if 0 <= pos < len(self._components):\n",
    "                return self._components[pos]\n",
    "            \n",
    "        msg = '{.__name__!r} object has no attribute {!r}'\n",
    "        return AttributeError(msg.format(cls, name))\n",
    "        \n",
    "    def __setattr__(self, name, value):\n",
    "        cls = type(self)\n",
    "        # Special handling for single-character attribute\n",
    "        if len(name)==1:\n",
    "            # If name is one of xyzt, set specific error message.\n",
    "            if name in cls.shortcut_names:\n",
    "                error = 'readonly attribute {attr_name!r}'\n",
    "            # If name is lower case, set error message about all single-letter names\n",
    "            elif name.islower():\n",
    "                error = \"can't set attributes 'a' to 'z' in {cls_name!r}\"\n",
    "            else:\n",
    "                error = ''\n",
    "            # If there is non-blank error message, raise AttributeError.\n",
    "            if error:\n",
    "                msg = error.format(cls_name=cls.__name__, attr_name=name)\n",
    "                raise AttributeError(msg)\n",
    "        # Default case : call __setattr__ on superclass for standard behavior.\n",
    "        super().__setattr__(name,value)"
   ]
  },
  {
   "cell_type": "markdown",
   "metadata": {},
   "source": [
    "When using `reduce` it's good practice to provide the third arugment to prevent this exception : `TypeError : reduce() of empty sequence with no initial value`\n",
    "\n",
    "The `initialiizer` is the value returned if the sequence is empty and is used as the first argument in the reducing loop, so it should be the identity value of the operation."
   ]
  },
  {
   "cell_type": "markdown",
   "metadata": {},
   "source": [
    "Map-reduce : apply function to each item to generate a new series (map), then compute aggreate(reduce)\n",
    "\n",
    "Using `map` instead of `genexp` makes the mapping step even more visible:\n",
    "\n",
    "```python\n",
    "def __hash__(self):\n",
    "    hashes = map(hash, self._component)\n",
    "    return functools.reduce(operator.xor, hashes)\n",
    "```\n",
    "\n",
    "But in Python3, `map` is lazy : it creates a generator that yields the results on demand, thus saving memory."
   ]
  },
  {
   "cell_type": "code",
   "execution_count": 26,
   "metadata": {},
   "outputs": [
    {
     "data": {
      "text/plain": [
       "True"
      ]
     },
     "execution_count": 26,
     "metadata": {},
     "output_type": "execute_result"
    }
   ],
   "source": [
    "Vector([1,2]) == (1,2)"
   ]
  },
  {
   "cell_type": "markdown",
   "metadata": {},
   "source": [
    "```python\n",
    "def __eq__(self, other):\n",
    "    if len(self) != len(other):\n",
    "        return False\n",
    "    # zip produces a generator of tuples made from the items in each iterable argument.\n",
    "    # The len comparison above is needed because zip stops producing values without\n",
    "    # warning as soon as one of the inputs is exhausted.\n",
    "    for a,b in zip(self, other):\n",
    "        if a != b:\n",
    "            ruturn False\n",
    "    return True\n",
    "```"
   ]
  },
  {
   "cell_type": "markdown",
   "metadata": {},
   "source": [
    "but the `all` function can produce the same aggregate computation of the `for loop` in one line.\n",
    "```python\n",
    "def __eq__(self, other):\n",
    "    return len(self) == len(other) and all(a==b for a, b in zip(self, other))\n",
    "\n",
    "```\n",
    "\n",
    "all() : Return True if bool(x) is True for all values x in the iterable."
   ]
  },
  {
   "cell_type": "markdown",
   "metadata": {},
   "source": [
    "### The awesome zip###"
   ]
  },
  {
   "cell_type": "markdown",
   "metadata": {},
   "source": [
    "`for loop` demands some special utility functions. One of them is the `zip` built-in, which makes it easy to iterate in parallel over two or more iterables by returning tuples what you can unpack into variables, one for each item in the parallel inputs."
   ]
  },
  {
   "cell_type": "code",
   "execution_count": 27,
   "metadata": {},
   "outputs": [
    {
     "data": {
      "text/plain": [
       "<zip at 0x26486a6c108>"
      ]
     },
     "execution_count": 27,
     "metadata": {},
     "output_type": "execute_result"
    }
   ],
   "source": [
    "zip(range(3), 'ABC')"
   ]
  },
  {
   "cell_type": "code",
   "execution_count": 28,
   "metadata": {},
   "outputs": [
    {
     "data": {
      "text/plain": [
       "[(0, 'A'), (1, 'B'), (2, 'C')]"
      ]
     },
     "execution_count": 28,
     "metadata": {},
     "output_type": "execute_result"
    }
   ],
   "source": [
    "list(zip(range(3), 'ABC'))"
   ]
  },
  {
   "cell_type": "code",
   "execution_count": 29,
   "metadata": {},
   "outputs": [
    {
     "data": {
      "text/plain": [
       "[(0, 'A', 0.0), (1, 'B', 1.1), (2, 'C', 2.2)]"
      ]
     },
     "execution_count": 29,
     "metadata": {},
     "output_type": "execute_result"
    }
   ],
   "source": [
    "list(zip(range(3), 'ABC', [0.0, 1.1, 2.2, 3.3]))"
   ]
  },
  {
   "cell_type": "code",
   "execution_count": 30,
   "metadata": {},
   "outputs": [
    {
     "data": {
      "text/plain": [
       "[(0, 'A', 0.0), (1, 'B', 1.1), (2, 'C', 2.2), (-1, -1, 3.3)]"
      ]
     },
     "execution_count": 30,
     "metadata": {},
     "output_type": "execute_result"
    }
   ],
   "source": [
    "from itertools import zip_longest\n",
    "list(zip_longest(range(3), 'ABC', [0.0, 1.1, 2.2, 3.3], fillvalue=-1))"
   ]
  },
  {
   "cell_type": "markdown",
   "metadata": {},
   "source": [
    "`enumerate` built-in is another generator function often used in `for loops` to avoid manual handling of index variables."
   ]
  },
  {
   "cell_type": "markdown",
   "metadata": {},
   "source": [
    "\n",
    "## 7. Vector take #5. formatting"
   ]
  },
  {
   "cell_type": "code",
   "execution_count": 34,
   "metadata": {
    "collapsed": true
   },
   "outputs": [],
   "source": [
    "from array import array\n",
    "import reprlib\n",
    "import math\n",
    "import numbers\n",
    "import functools\n",
    "import operator\n",
    "import itertools\n",
    "\n",
    "class Vector:\n",
    "    typecode = 'd'\n",
    "    shortcut_names = 'xyzt'\n",
    "    \n",
    "    def __init__(self, components):\n",
    "        # array(typecode [, initializer]) -> array\n",
    "        self._components = array(self.typecode, components)\n",
    "    \n",
    "    # To allow iteration, we return an iterator over self._components\n",
    "    def __iter__(self):\n",
    "        return iter(self._components)\n",
    "    \n",
    "    def __repr__(self):\n",
    "        # Use reprlib.repr() to get a limited-length representation of self._components\n",
    "        # e.g array('d', [0.0, 1.0, 2.0, ,...])\n",
    "        components = reprlib.repr(self._components)\n",
    "        # Remove the array('d', prefix and trailing) before plugging the string \n",
    "        # into a Vector constructor call.\n",
    "        components = components[components.find('['):-1]\n",
    "        return 'Vector({})'.format(components)\n",
    "    \n",
    "    def __str__(self):\n",
    "        return str(tuple(self))\n",
    "    \n",
    "    def __bytes__(self):\n",
    "        #ord() : Return the Unicode code point for a one-character string.\n",
    "        # Build a bytes object directly from self._components\n",
    "        return (bytes([ord(self.typecode)]) + bytes(self._components))\n",
    "    \n",
    "    def __eq__(self, other):\n",
    "        return tuple(self) == tuple(other)\n",
    "    \n",
    "    def __hash__(self):\n",
    "        hashes = (hash(x) for x in self._components)\n",
    "        # If initial is present, it is placed before the items of the sequence in the calculation, \n",
    "        # and serves as a default when the sequence is empty.\n",
    "        return functools.reduce(operator.xor, hashes, 0)\n",
    "    def __abs__(self):\n",
    "        # We can't use hypot anymore.\n",
    "        return math.sqrt(sum(x*x for x in self))\n",
    "    \n",
    "    def __bool__(self):\n",
    "        return bool(abs(self))\n",
    "    \n",
    "    @classmethod\n",
    "    def frombytes(cls, octets):\n",
    "        # chr() : Return a Unicode string of one character with ordinal i; 0 <= i <= 0x10ffff.\n",
    "        typecode = chr(octets[0])\n",
    "        memv = memoryview(octets[1:]).cast(typecode)\n",
    "        # we pass the memoryview directly to the constructor, withoud unpacking with *.\n",
    "        return cls(memv)\n",
    "    \n",
    "    def __len__(self):\n",
    "        return len(self._components)\n",
    "    \n",
    "    def __getitem__(self, index):\n",
    "        # Get the class of the instance(i.e Vector) for later use.\n",
    "        cls = type(self)\n",
    "        # If the index argument is a slice...\n",
    "        if isinstance(index, slice):\n",
    "            # Invoke the class to build another Vector instance from \n",
    "            # a slice of the _components array.\n",
    "            return cls(self._components[index])\n",
    "        \n",
    "        # If the index is an int or some other kind of integers...\n",
    "        elif isinstance(index, numbers.Integral):\n",
    "            # just return the specific item from _components.\n",
    "            return self._components[index]\n",
    "        else:\n",
    "            msg = '{cls.__name__} indices must be integers'\n",
    "            raise TypeError(msg.format(cls=cls))\n",
    "            \n",
    "    def __getattr__(self, name):\n",
    "        # Get the Vector class for later use.\n",
    "        cls = type(self)\n",
    "        # If the name is one character, it may be one of the shortcut_names.\n",
    "        if len(name) == 1:\n",
    "            pos = cls.shortcut_names.find(name)\n",
    "            # If the position is within range, return the array element.\n",
    "            if 0 <= pos < len(self._components):\n",
    "                return self._components[pos]\n",
    "            \n",
    "        msg = '{.__name__!r} object has no attribute {!r}'\n",
    "        return AttributeError(msg.format(cls, name))\n",
    "        \n",
    "    def __setattr__(self, name, value):\n",
    "        cls = type(self)\n",
    "        # Special handling for single-character attribute\n",
    "        if len(name)==1:\n",
    "            # If name is one of xyzt, set specific error message.\n",
    "            if name in cls.shortcut_names:\n",
    "                error = 'readonly attribute {attr_name!r}'\n",
    "            # If name is lower case, set error message about all single-letter names\n",
    "            elif name.islower():\n",
    "                error = \"can't set attributes 'a' to 'z' in {cls_name!r}\"\n",
    "            else:\n",
    "                error = ''\n",
    "            # If there is non-blank error message, raise AttributeError.\n",
    "            if error:\n",
    "                msg = error.format(cls_name=cls.__name__, attr_name=name)\n",
    "                raise AttributeError(msg)\n",
    "        # Default case : call __setattr__ on superclass for standard behavior.\n",
    "        super().__setattr__(name,value)\n",
    "        \n",
    "    def angle(self, n):\n",
    "        r = math.sqrt(sum(x*x for x in self[n:]))\n",
    "        # Return the arc tangent (measured in radians) of y/x\n",
    "        a = math.atan2(r, self[n-1])\n",
    "        if (n==len(self) -1) and (self[-1] < 0):\n",
    "            return math.pi*2 - a\n",
    "        else:\n",
    "            return a\n",
    "    # Create generator expression to compute all angular coorinates on demand.    \n",
    "    def angles(self):\n",
    "        return (self.angle(n) for n in range(1, len(self)))\n",
    "    \n",
    "    def __format__(self, fmt_spec=''):\n",
    "        if fmt_spec.endswith('h'):\n",
    "            fmt_spec = fmt_spec[:-1]\n",
    "            # Use itertools.chain to produce genexp to iterate seamlessly over the\n",
    "            # magnitude and the angular coordinates.\n",
    "            coords = itertools.chain([abs(self)], self.angles())\n",
    "            \n",
    "            outer_fmt = '<{}>'\n",
    "        # Cartesian    \n",
    "        else:\n",
    "            coords = self\n",
    "            outer_fmt = '({})'\n",
    "        components = (format(c, fmt_spec) for c in coords)\n",
    "        return outer_fmt.format(', '.join(components))\n",
    "    \n",
    "    "
   ]
  },
  {
   "cell_type": "code",
   "execution_count": 35,
   "metadata": {
    "collapsed": true
   },
   "outputs": [],
   "source": [
    "v = Vector([1,2])"
   ]
  },
  {
   "cell_type": "code",
   "execution_count": 37,
   "metadata": {},
   "outputs": [
    {
     "data": {
      "text/plain": [
       "{'_components': array('d', [1.0, 2.0])}"
      ]
     },
     "execution_count": 37,
     "metadata": {},
     "output_type": "execute_result"
    }
   ],
   "source": [
    "v.__dict__"
   ]
  },
  {
   "cell_type": "markdown",
   "metadata": {},
   "source": [
    "## 8. Summary"
   ]
  },
  {
   "cell_type": "markdown",
   "metadata": {},
   "source": [
    "The fact that `Vector` behaves as a sequence just by implementing `__getitem__` and `__len__` prompted a discussion of protocols, the informal interfaces used in duck-typed languages."
   ]
  },
  {
   "cell_type": "markdown",
   "metadata": {},
   "source": [
    "`my_seq[a:b:c]` syntax works behind the scenes, by creating a `slice(a,b,c)` object and handling it to `__gettime__`."
   ]
  },
  {
   "cell_type": "markdown",
   "metadata": {},
   "source": [
    "provid read-only access to the first few `Vector` components using notations such as `my_vec.x`.\n",
    "\n",
    "We did it by implmenting `__getattr__`.\n",
    "\n",
    "We fixed it by implementing `__setattr__` as well, to forbid assigning values to single-letter attributes."
   ]
  },
  {
   "cell_type": "markdown",
   "metadata": {},
   "source": [
    "Implementing the `__hash__` function provided the perfect context for using `functools.reduce`.\n",
    "\n",
    "We used the `all` reducing built-in to create a more efficient `__eq__` method."
   ]
  },
  {
   "cell_type": "code",
   "execution_count": null,
   "metadata": {
    "collapsed": true
   },
   "outputs": [],
   "source": []
  }
 ],
 "metadata": {
  "anaconda-cloud": {},
  "kernelspec": {
   "display_name": "Python [default]",
   "language": "python",
   "name": "python3"
  },
  "language_info": {
   "codemirror_mode": {
    "name": "ipython",
    "version": 3
   },
   "file_extension": ".py",
   "mimetype": "text/x-python",
   "name": "python",
   "nbconvert_exporter": "python",
   "pygments_lexer": "ipython3",
   "version": "3.5.5"
  }
 },
 "nbformat": 4,
 "nbformat_minor": 1
}
