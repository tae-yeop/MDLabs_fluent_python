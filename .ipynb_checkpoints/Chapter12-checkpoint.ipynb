{
 "cells": [
  {
   "cell_type": "markdown",
   "metadata": {},
   "source": [
    "# Inheritance : for good or for worse\n",
    "\n",
    "This chapter is about inheritance and subclassing, with emphasis on two particulars that are very specific to Python \n",
    "\n",
    "- The pitfalls of subclassing from built-in types\n",
    "- Multiple inheritance and the method resolution order.\n",
    "\n",
    "The issue of subclassing built-ins. The rest of the chapter will cover multiple inheritance with our case studies and discuss good and bad practice when buliding class hierachies."
   ]
  },
  {
   "cell_type": "markdown",
   "metadata": {},
   "source": [
    "## 1. Subclassing built-in types is tricky\n",
    "\n",
    "The code of the bulit-ins(list or dict) does not call special mehtods overriden by user-defined classes.\n",
    "\n",
    "Officially, CPython has no rule at all for when exactly overriden method of subclass of built-in types get implicitly called or not.\n",
    "\n",
    "For example, an overrideen `__getitem()__` in a subclass of `dict` will not be called by the built-in `get()` method."
   ]
  },
  {
   "cell_type": "code",
   "execution_count": 1,
   "metadata": {},
   "outputs": [],
   "source": [
    "class DoppelDict(dict):\n",
    "    def __setitem__(self, key, value):\n",
    "        super().__setitem__(key, [value]*2)"
   ]
  },
  {
   "cell_type": "code",
   "execution_count": 2,
   "metadata": {},
   "outputs": [
    {
     "data": {
      "text/plain": [
       "{'one': 1}"
      ]
     },
     "execution_count": 2,
     "metadata": {},
     "output_type": "execute_result"
    }
   ],
   "source": [
    "# The __init__ method inherited from dict clearly \n",
    "# ignored that __settime__ was overridden. \n",
    "# the value of 'one' is not duplicated\n",
    "dd = DoppelDict(one=1)\n",
    "dd"
   ]
  },
  {
   "cell_type": "code",
   "execution_count": 3,
   "metadata": {},
   "outputs": [
    {
     "data": {
      "text/plain": [
       "{'one': 1, 'two': [2, 2]}"
      ]
     },
     "execution_count": 3,
     "metadata": {},
     "output_type": "execute_result"
    }
   ],
   "source": [
    "# The [] operator calls out __setitem__ and works as expected : \n",
    "# 'two' maps to the duplicated value [2,2]\n",
    "dd['two'] = 2\n",
    "dd"
   ]
  },
  {
   "cell_type": "code",
   "execution_count": 4,
   "metadata": {},
   "outputs": [
    {
     "data": {
      "text/plain": [
       "{'one': 1, 'three': 3, 'two': [2, 2]}"
      ]
     },
     "execution_count": 4,
     "metadata": {},
     "output_type": "execute_result"
    }
   ],
   "source": [
    "# The update method from dict does not use our version of __setitem__ either:\n",
    "# the value of 'three' was not duplicated\n",
    "dd.update(three=3)\n",
    "dd"
   ]
  },
  {
   "cell_type": "markdown",
   "metadata": {},
   "source": [
    "This built-in behavior is a violation of a basic rule of oop\n",
    "\n",
    "the `__missing__` method works as documented only because it's handled as a special case.\n",
    "\n",
    "also happens with overriden methods of other classes that should be called by the built-in methods."
   ]
  },
  {
   "cell_type": "code",
   "execution_count": 5,
   "metadata": {},
   "outputs": [],
   "source": [
    "class AnswerDict(dict):\n",
    "    # __getitem__ always returns 42, no matter what the key.\n",
    "    def __getitem__(self, key):\n",
    "        return 42"
   ]
  },
  {
   "cell_type": "code",
   "execution_count": 6,
   "metadata": {},
   "outputs": [
    {
     "data": {
      "text/plain": [
       "42"
      ]
     },
     "execution_count": 6,
     "metadata": {},
     "output_type": "execute_result"
    }
   ],
   "source": [
    "# ad is an AnswerDict loaded with key-value pair('a', 'foo')\n",
    "ad = AnswerDict(a='foo')\n",
    "ad['a']"
   ]
  },
  {
   "cell_type": "code",
   "execution_count": 7,
   "metadata": {},
   "outputs": [
    {
     "data": {
      "text/plain": [
       "'foo'"
      ]
     },
     "execution_count": 7,
     "metadata": {},
     "output_type": "execute_result"
    }
   ],
   "source": [
    "# d is an instance of plain dict, which we update with ad.\n",
    "d = {}\n",
    "# The dict.update method ignored out AnswerDict.__getitem__.\n",
    "d.update(ad)\n",
    "d['a']"
   ]
  },
  {
   "cell_type": "code",
   "execution_count": 8,
   "metadata": {},
   "outputs": [
    {
     "data": {
      "text/plain": [
       "{'a': 'foo'}"
      ]
     },
     "execution_count": 8,
     "metadata": {},
     "output_type": "execute_result"
    }
   ],
   "source": [
    "d"
   ]
  },
  {
   "cell_type": "markdown",
   "metadata": {},
   "source": [
    "Subclassing built-in type like `dict` or `list` or `str` directily is error-prone because the built-in methods mostly ignore user-defined overrides.\n",
    "\n",
    "Instead of subclassing the built-ins, derive your classes from `UserDict`, `UserList`and `UserString` from `collection` module."
   ]
  },
  {
   "cell_type": "code",
   "execution_count": 1,
   "metadata": {},
   "outputs": [],
   "source": [
    "import collections\n",
    "\n",
    "class DoppelDict2(collections.UserDict):\n",
    "    def __setitem__(self, key, value):\n",
    "        super().__setitem__(key, [value]*2)\n",
    "        "
   ]
  },
  {
   "cell_type": "code",
   "execution_count": 10,
   "metadata": {},
   "outputs": [
    {
     "data": {
      "text/plain": [
       "{'one': [1, 1]}"
      ]
     },
     "execution_count": 10,
     "metadata": {},
     "output_type": "execute_result"
    }
   ],
   "source": [
    "dd = DoppelDict2(one=1)\n",
    "dd"
   ]
  },
  {
   "cell_type": "code",
   "execution_count": 11,
   "metadata": {},
   "outputs": [
    {
     "data": {
      "text/plain": [
       "{'two': [2, 2], 'one': [1, 1]}"
      ]
     },
     "execution_count": 11,
     "metadata": {},
     "output_type": "execute_result"
    }
   ],
   "source": [
    "dd['two'] = 2\n",
    "dd"
   ]
  },
  {
   "cell_type": "code",
   "execution_count": 12,
   "metadata": {},
   "outputs": [
    {
     "data": {
      "text/plain": [
       "{'two': [2, 2], 'three': [3, 3], 'one': [1, 1]}"
      ]
     },
     "execution_count": 12,
     "metadata": {},
     "output_type": "execute_result"
    }
   ],
   "source": [
    "dd.update(three=3)\n",
    "dd"
   ]
  },
  {
   "cell_type": "code",
   "execution_count": 2,
   "metadata": {},
   "outputs": [],
   "source": [
    "class AnswerDict2(collections.UserDict):\n",
    "    def __getitem__(self, key):\n",
    "        return 42\n",
    "    "
   ]
  },
  {
   "cell_type": "code",
   "execution_count": 3,
   "metadata": {},
   "outputs": [
    {
     "data": {
      "text/plain": [
       "42"
      ]
     },
     "execution_count": 3,
     "metadata": {},
     "output_type": "execute_result"
    }
   ],
   "source": [
    "ad = AnswerDict2(a='foo')\n",
    "ad['a']"
   ]
  },
  {
   "cell_type": "code",
   "execution_count": 4,
   "metadata": {},
   "outputs": [
    {
     "data": {
      "text/plain": [
       "42"
      ]
     },
     "execution_count": 4,
     "metadata": {},
     "output_type": "execute_result"
    }
   ],
   "source": [
    "d = {}\n",
    "d.update(ad)\n",
    "d['a']"
   ]
  },
  {
   "cell_type": "code",
   "execution_count": 5,
   "metadata": {},
   "outputs": [
    {
     "data": {
      "text/plain": [
       "{'a': 42}"
      ]
     },
     "execution_count": 5,
     "metadata": {},
     "output_type": "execute_result"
    }
   ],
   "source": [
    "d"
   ]
  },
  {
   "cell_type": "markdown",
   "metadata": {},
   "source": [
    "To summarize : the problem described in this section applies only to method delegation within the C language implementation of the built-in types and only affects user-defined classes derived directly from those types.\n",
    "\n",
    "If you subclass from a class coded in Python, such as `UserDict` or `MutableMapping`, you will not be troubled by this."
   ]
  },
  {
   "cell_type": "markdown",
   "metadata": {},
   "source": [
    "## 2. Multiple Inheritance and method resolution"
   ]
  },
  {
   "cell_type": "markdown",
   "metadata": {},
   "source": [
    "How does Python decide which attribute to use if superclasses from parallel branches define attributes with the same name?\n",
    "\n",
    "Any language implementing multiple inheritance need to deal with potential naming conflicts when unrelated ancestor classes implement a method by the same name."
   ]
  },
  {
   "cell_type": "code",
   "execution_count": 6,
   "metadata": {},
   "outputs": [],
   "source": [
    "class A:\n",
    "    def ping(self):\n",
    "        print('ping_A:', self)\n",
    "        \n",
    "class B(A):\n",
    "    def pong(self):\n",
    "        print('pong_B', self)\n",
    "        \n",
    "class C(A):\n",
    "    def pong(self):\n",
    "        print('PONG_C:', self)\n",
    "        \n",
    "class D(B, C):\n",
    "    def ping(self):\n",
    "        super().ping()\n",
    "        print('post-ping_D:', self)\n",
    "        \n",
    "    def pingpong(self):\n",
    "        self.ping()\n",
    "        # super.ping() which bypasses the ping in D and finds the ping method in A\n",
    "        super().ping()\n",
    "        self.pong()\n",
    "        super().pong()\n",
    "        C.pong(self)"
   ]
  },
  {
   "cell_type": "code",
   "execution_count": 7,
   "metadata": {},
   "outputs": [
    {
     "name": "stdout",
     "output_type": "stream",
     "text": [
      "pong_B <__main__.D object at 0x00000222E5ECF128>\n"
     ]
    }
   ],
   "source": [
    "d = D()\n",
    "# Simply calling d.pong() cause the B version to run.\n",
    "d.pong()"
   ]
  },
  {
   "cell_type": "code",
   "execution_count": 8,
   "metadata": {},
   "outputs": [
    {
     "name": "stdout",
     "output_type": "stream",
     "text": [
      "PONG_C: <__main__.D object at 0x00000222E5ECF128>\n"
     ]
    }
   ],
   "source": [
    "# You can always call a method on a superclass directly, passing the instance \n",
    "# as an explicity argument.\n",
    "C.pong(d)"
   ]
  },
  {
   "cell_type": "markdown",
   "metadata": {},
   "source": [
    "The ambiguity of a call like `d.pong()` is resolved because Python follows a specific order when traversing the inheritance graph. That order is called `MRO`: Method Resolution Order.\n",
    "\n",
    "Classes have an attribute called `__mro__` holding a tuple of references to the superclasses in MRO oder, from the current class all the way to the `object` class."
   ]
  },
  {
   "cell_type": "code",
   "execution_count": 10,
   "metadata": {},
   "outputs": [
    {
     "data": {
      "text/plain": [
       "(__main__.D, __main__.B, __main__.C, __main__.A, object)"
      ]
     },
     "execution_count": 10,
     "metadata": {},
     "output_type": "execute_result"
    }
   ],
   "source": [
    "D.__mro__"
   ]
  },
  {
   "cell_type": "markdown",
   "metadata": {},
   "source": [
    "The recommended way to delegate method calls to superclasses if the `super()` built-on function\n",
    "\n",
    "\n",
    "However, it's also possible, and sometimes convenient, to bypass the MRO and invoke a method on a superclass directly.\n",
    "```python\n",
    "def ping(self):\n",
    "    A.ping(self) #instead of super().ping()\n",
    "    print('post-ping', self)\n",
    "```\n",
    "\n",
    "Note that when calling an instance method directly on a class, you must pass `self` explicitly, because you are accessing an `unbound method`"
   ]
  },
  {
   "cell_type": "code",
   "execution_count": 9,
   "metadata": {},
   "outputs": [
    {
     "name": "stdout",
     "output_type": "stream",
     "text": [
      "ping_A: <__main__.D object at 0x00000222E5ECFDA0>\n",
      "post-ping_D: <__main__.D object at 0x00000222E5ECFDA0>\n"
     ]
    }
   ],
   "source": [
    "# Using super() to call ping\n",
    "d = D()\n",
    "# the first call is super().ping() ; the super delegates the ping call to class A\n",
    "d.ping()"
   ]
  },
  {
   "cell_type": "code",
   "execution_count": 10,
   "metadata": {},
   "outputs": [
    {
     "name": "stdout",
     "output_type": "stream",
     "text": [
      "ping_A: <__main__.D object at 0x00000222E5ECFE48>\n",
      "post-ping_D: <__main__.D object at 0x00000222E5ECFE48>\n",
      "ping_A: <__main__.D object at 0x00000222E5ECFE48>\n",
      "pong_B <__main__.D object at 0x00000222E5ECFE48>\n",
      "pong_B <__main__.D object at 0x00000222E5ECFE48>\n",
      "PONG_C: <__main__.D object at 0x00000222E5ECFE48>\n"
     ]
    }
   ],
   "source": [
    "d = D()\n",
    "d.pingpong()"
   ]
  },
  {
   "cell_type": "markdown",
   "metadata": {},
   "source": [
    "```python\n",
    "# self.ping() runs the ping method of D, which outputs this line and the next one.\n",
    "ping: <__main__.D object at 0x000002B96BF74BA8>\n",
    "\n",
    "post-ping: <__main__.D object at 0x000002B96BF74BA8>\n",
    "# super.ping() which bypasses the ping in D and finds the ping method in A.\n",
    "ping: <__main__.D object at 0x000002B96BF74BA8>\n",
    "# self.pong() which finds the B implementation of pong, according to the __mro__\n",
    "pong <__main__.D object at 0x000002B96BF74BA8>\n",
    "# super.pong() which finds the same B.pong implementation, also following the __mro__\n",
    "pong <__main__.D object at 0x000002B96BF74BA8>\n",
    "# C.pong(self) which finds the C.pong implementation, ignoring the __mro__.\n",
    "PONG: <__main__.D object at 0x000002B96BF74BA8>\n",
    "    \n",
    "```"
   ]
  },
  {
   "cell_type": "markdown",
   "metadata": {},
   "source": [
    "The MRO taks into account not only the inheritance graph but also the order in which superclasses are listed in a subclass declaration.\n",
    "\n",
    "In other words, the D class was declared as class `D(C,B) :`, the `__mro__` of class D would be different : C would be searched before `B`."
   ]
  },
  {
   "cell_type": "code",
   "execution_count": 13,
   "metadata": {},
   "outputs": [
    {
     "data": {
      "text/plain": [
       "(bool, int, object)"
      ]
     },
     "execution_count": 13,
     "metadata": {},
     "output_type": "execute_result"
    }
   ],
   "source": [
    "bool.__mro__"
   ]
  },
  {
   "cell_type": "code",
   "execution_count": 14,
   "metadata": {},
   "outputs": [],
   "source": [
    "def print_mro(cls):\n",
    "    print(', '.join(c.__name__ for c in cls.__mro__))"
   ]
  },
  {
   "cell_type": "code",
   "execution_count": 15,
   "metadata": {},
   "outputs": [
    {
     "name": "stdout",
     "output_type": "stream",
     "text": [
      "bool, int, object\n"
     ]
    }
   ],
   "source": [
    "print_mro(bool)"
   ]
  },
  {
   "cell_type": "code",
   "execution_count": 17,
   "metadata": {},
   "outputs": [],
   "source": [
    "import collections\n",
    "\n",
    "Card = collections.namedtuple('Card', ['rank', 'suit'])\n",
    "\n",
    "class FrenchDeck2(collections.MutableSequence):\n",
    "    ranks = [str(n) for n in range(2, 11)] + list('JQKA') \n",
    "    suits = 'spades diamonds clubs hearts'.split()\n",
    "    def __init__(self): \n",
    "        self._cards = [Card(rank, suit) for suit in self.suits for rank in self.ranks]\n",
    "    def __len__(self): \n",
    "        return len(self._cards)\n",
    "    def __getitem__(self, position): \n",
    "        return self._cards[position]\n",
    "    def __setitem__(self, position, value): # \n",
    "        self._cards[position] = value\n",
    "    def __delitem__(self, position): # \n",
    "        del self._cards[position]\n",
    "    def insert(self, position, value): # \n",
    "        self._cards.insert(position, value)"
   ]
  },
  {
   "cell_type": "code",
   "execution_count": 18,
   "metadata": {},
   "outputs": [
    {
     "name": "stdout",
     "output_type": "stream",
     "text": [
      "FrenchDeck2, MutableSequence, Sequence, Sized, Iterable, Container, object\n"
     ]
    }
   ],
   "source": [
    "print_mro(FrenchDeck2)"
   ]
  },
  {
   "cell_type": "code",
   "execution_count": 19,
   "metadata": {},
   "outputs": [
    {
     "name": "stdout",
     "output_type": "stream",
     "text": [
      "Integral, Rational, Real, Complex, Number, object\n"
     ]
    }
   ],
   "source": [
    "import numbers\n",
    "print_mro(numbers.Integral)"
   ]
  },
  {
   "cell_type": "code",
   "execution_count": 20,
   "metadata": {},
   "outputs": [
    {
     "name": "stdout",
     "output_type": "stream",
     "text": [
      "BytesIO, _BufferedIOBase, _IOBase, object\n"
     ]
    }
   ],
   "source": [
    "import io\n",
    "print_mro(io.BytesIO)"
   ]
  },
  {
   "cell_type": "code",
   "execution_count": 21,
   "metadata": {},
   "outputs": [
    {
     "name": "stdout",
     "output_type": "stream",
     "text": [
      "TextIOWrapper, _TextIOBase, _IOBase, object\n"
     ]
    }
   ],
   "source": [
    "print_mro(io.TextIOWrapper)"
   ]
  },
  {
   "cell_type": "markdown",
   "metadata": {},
   "source": [
    "The MRO is computed using an algorithm called `C3`"
   ]
  },
  {
   "cell_type": "code",
   "execution_count": 23,
   "metadata": {},
   "outputs": [
    {
     "name": "stdout",
     "output_type": "stream",
     "text": [
      "Text, Widget, BaseWidget, Misc, Pack, Place, Grid, XView, YView, object\n"
     ]
    }
   ],
   "source": [
    "import tkinter\n",
    "\n",
    "print_mro(tkinter.Text)"
   ]
  },
  {
   "cell_type": "markdown",
   "metadata": {},
   "source": [
    "## 3. Mutiple Inheritance in the real world"
   ]
  },
  {
   "cell_type": "markdown",
   "metadata": {},
   "source": [
    "pros and cons of multiple inheritance\n",
    "\n",
    "Good use : Adapter pattern, `collections.abc` package, Tkinter GUI toolkit."
   ]
  },
  {
   "cell_type": "markdown",
   "metadata": {},
   "source": [
    "## 4. Coping with multiple inheritance\n",
    "\n",
    "Inheritance is used for different reasons, and multiple inheritance adda alternatives and complexity."
   ]
  },
  {
   "cell_type": "markdown",
   "metadata": {},
   "source": [
    "### 1. Distinguish interface inheritance from implementation inheritance.\n",
    "\n",
    "Keep straight the reasons why subclassing is done in the first place.\n",
    "\n",
    "- Inheritance of interface : creates a sub-type, imliying an \"is-a\" relationship.\n",
    "- Inheritance of implementation : avoids code duplication by reuse.\n",
    "\n",
    "In practice both uses are often simultaneous, but whenever you can make the intent clear, do it.\n",
    "\n",
    "Inheritance for code reuse is an implementation detail, and it can often be replaced by composition and delegation."
   ]
  },
  {
   "cell_type": "markdown",
   "metadata": {},
   "source": [
    "Inheritance vs interface\n",
    "\n",
    "https://stackoverflow.com/questions/5816563/when-should-i-choose-inheritance-over-an-interface-when-designing-c-sharp-class/5816589\n"
   ]
  },
  {
   "cell_type": "markdown",
   "metadata": {},
   "source": [
    "### 2. Make interfaces explicity with ABCs\n",
    "\n",
    "In modern Python, if a class is desinged to define an interface, it should be an explict ABC.\n",
    "\n",
    "**subclass `abc.ABC` or another ABC**"
   ]
  },
  {
   "cell_type": "markdown",
   "metadata": {},
   "source": [
    "### 3. Use mixins for code reuse\n",
    "\n",
    "If a class is designed to provide method implementations for reuse by multipe unrelated subclasses, without implying an \"is-a\" relationship, it shoud be an explict `mixin` class.\n",
    "\n",
    "A mixin should never be instantiated, and concrete classes should not inherit only from ax mixin.\n",
    "\n",
    "Each mixin should provide a single specific behavior, implementing few and very closely related methods."
   ]
  },
  {
   "cell_type": "markdown",
   "metadata": {},
   "source": [
    "A mixin is a special kind of multiple inheritance. There are two main situdations where mixins are used: \n",
    "    1. You want to provide a lot of optional features for a class\n",
    "    2. You want to use one particular feature in a lot of different classes.\n",
    "    \n",
    "클래스에 추가적인 속성이나 메소드를 제공\n",
    "\n",
    "http://hamait.tistory.com/859\n",
    "\n",
    "https://stackoverflow.com/questions/533631/what-is-a-mixin-and-why-are-they-useful"
   ]
  },
  {
   "cell_type": "markdown",
   "metadata": {},
   "source": [
    "### 4. Make mixins explicity by naming\n",
    "\n",
    "There is no formal way in Python to state that a class is a mixin, so it is highly recommended that they are named with a `...Mixin` suffix. "
   ]
  },
  {
   "cell_type": "markdown",
   "metadata": {},
   "source": [
    "### 5. An ABC may also be a mixin ; the reverse is not true\n",
    "\n",
    "since an ABC can implement concrete methods, it works as a mixin as well.\n",
    "\n",
    "An ABC also defines a type, which a mixin does not. \n",
    "\n",
    "An ABC can be the sole base class of any another class, while a mixin should never be subclassed alone except by another. more specialized mixin.\n",
    "\n",
    "One restriction applies to ABCs and not to mixins: the concrete mehtods implemented in an ABC should only collaborate with methods of the same ABC and its superclasses.\n",
    "\n"
   ]
  },
  {
   "cell_type": "markdown",
   "metadata": {},
   "source": [
    "### 6. Don't subclass from more than one concrete class\n",
    "\n",
    "Concrete classes should have zero or at most one concrete superclass. \n",
    "\n",
    "all but one of the superclasses of a concrete class should be ABCs or mixins.\n",
    "\n",
    "```python\n",
    "class MyConcreteClass(Alpha, Beta, Gamma):\n",
    "    \"\"\"This is a concrete : it can be instantiated\"\"\"\n",
    "```\n",
    "\n",
    "if `Alpha` is a concrete class, then `Beta` and `Gamma` must be ABCs or mixins"
   ]
  },
  {
   "cell_type": "markdown",
   "metadata": {},
   "source": [
    "### 7. Provide aggregate classes to users\n",
    "\n",
    "If some combination of ABCs or mixins in particularly useful to clientt code, provide a class that brings them together in a sensible way. -> `aggregate class`\n",
    "\n",
    "\"A class that is constructed primarily by inheriting from mixins and does not add its own structure or behavior is called an `aggregate class`.\"\n",
    "\n",
    "```python\n",
    "class Widget(BaseWidget, Pack, Place, Grid):\n",
    "    \"\"\"\n",
    "    Internal class.\n",
    "    \n",
    "    Base class for a widget which can be positioned \n",
    "    with the geometry managers Pack, Place or Grid.\n",
    "    \"\"\"\n",
    "    pass\n",
    "```\n",
    "\n",
    "The body of `Widget` is empty, but the class provides a useful service : it brings together four superclasses so that anyone who needs to create a new widget does not need remeber all those mixins, or wonder if they need to be declared in a certain order in a `class` statement.\n"
   ]
  },
  {
   "cell_type": "markdown",
   "metadata": {},
   "source": [
    "### 8. \"Favor object composition over class inheritance\"\n",
    "\n",
    "Favoring composition leads to more flexible designs. \n",
    "\n",
    "widget instances couldhold a reference to a geometry manager, and invoke its methods.\n",
    "\n",
    "After all, a `Widget` should not \"be\" a geometry manager, but could use the services of one via delegation. Then you could add a new geometry manager without touching the widget class hieracrchy and without worrying about name clashes.\n",
    "\n",
    "Composition and delegation can replace the use of mixins to make behaviors avaiable to different classes, but cannot replace the use of interface inheritance to define a hierachy of types."
   ]
  },
  {
   "cell_type": "markdown",
   "metadata": {},
   "source": [
    "## 5. modern example: mixins in Django "
   ]
  },
  {
   "cell_type": "markdown",
   "metadata": {},
   "source": [
    "The original generic views were functions, so they were not extensible.\n",
    "\n",
    "The base classes and mixins are in the `base` module of the `django.views.generic` package.\n",
    "\n",
    "Concrete subclasses of `View` are supposed to implement the handler metheods, so why aren't they part of the `View` interface?\n",
    "\n",
    "The reason : subclasses are free to implement just the handlers they want to support.\n",
    "\n",
    "If an `HTTP POST` request is sent to a `TemplateVeiw`, the inherited `View.dispatch` method checks that there is no `post` handler, and  produces an response.\n",
    "\n"
   ]
  },
  {
   "cell_type": "markdown",
   "metadata": {},
   "source": [
    "## 6. Chapter summary"
   ]
  },
  {
   "cell_type": "markdown",
   "metadata": {},
   "source": [
    "The problem with subclassing bulit-in types : their native methods implemented in C do not call overridden methods in subclasses, except in very few special cases.\n",
    "\n",
    "It's easier to subclass `UserList`, `UserDict` or `UserString` which actually wrap the built-in types and delegate operation to them \n",
    "\n",
    "If the desired behavior is very different from what the built-ins offer, it may be easier to subclass the appropriate ABC from `collections.abc` and write your own implmentation.\n",
    "\n"
   ]
  },
  {
   "cell_type": "markdown",
   "metadata": {},
   "source": [
    "- Mehtod resolution order, encoded in the `__mro__` class attribute, addresses the problem of potential naming conflicts in inherited methods.\n",
    "\n",
    "- How the `super()` built-in follows the `__mro__` to call a method on a superclass."
   ]
  },
  {
   "cell_type": "code",
   "execution_count": 1,
   "metadata": {},
   "outputs": [],
   "source": [
    "import abc\n",
    "\n",
    "class Bird(abc.ABC):\n",
    "    @abc.abstractmethod\n",
    "    def fly(self):\n",
    "        pass\n",
    "    \n",
    "class Parrot(Bird):\n",
    "    def fly(self):\n",
    "        print(\"Flying\")\n",
    "\n",
    "\n",
    "p = Parrot()\n"
   ]
  },
  {
   "cell_type": "code",
   "execution_count": 2,
   "metadata": {},
   "outputs": [],
   "source": [
    "class Aeroplane(abc.ABC):\n",
    "    @abc.abstractmethod\n",
    "    def fly(self):\n",
    "        pass\n",
    "\n",
    "\n",
    "class Boeing(Aeroplane):\n",
    "    def fly(self):\n",
    "        print(\"Flying!\")\n",
    "\n",
    "b = Boeing()"
   ]
  },
  {
   "cell_type": "code",
   "execution_count": 3,
   "metadata": {},
   "outputs": [
    {
     "data": {
      "text/plain": [
       "False"
      ]
     },
     "execution_count": 3,
     "metadata": {},
     "output_type": "execute_result"
    }
   ],
   "source": [
    "isinstance(p, Aeroplane)"
   ]
  },
  {
   "cell_type": "code",
   "execution_count": 4,
   "metadata": {},
   "outputs": [
    {
     "name": "stdout",
     "output_type": "stream",
     "text": [
      "Flying\n"
     ]
    }
   ],
   "source": [
    "def test(entity):\n",
    "    entity.fly()\n",
    "    \n",
    "test(p)"
   ]
  },
  {
   "cell_type": "code",
   "execution_count": 5,
   "metadata": {},
   "outputs": [
    {
     "name": "stdout",
     "output_type": "stream",
     "text": [
      "Flying!\n"
     ]
    }
   ],
   "source": [
    "test(b)"
   ]
  }
 ],
 "metadata": {
  "kernelspec": {
   "display_name": "Python 3",
   "language": "python",
   "name": "python3"
  },
  "language_info": {
   "codemirror_mode": {
    "name": "ipython",
    "version": 3
   },
   "file_extension": ".py",
   "mimetype": "text/x-python",
   "name": "python",
   "nbconvert_exporter": "python",
   "pygments_lexer": "ipython3",
   "version": "3.5.5"
  }
 },
 "nbformat": 4,
 "nbformat_minor": 2
}
