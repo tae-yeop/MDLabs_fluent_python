{
 "cells": [
  {
   "cell_type": "markdown",
   "metadata": {},
   "source": [
    "# Design patterns with first-class function\n",
    "\n",
    "Although design patterns are language-independent, that does not mean every pattrn applies to every language.\n",
    "\n",
    "In particular, in the context of languages with first-class functions, Norvig suggests rethinking the Strategy, Command, Template Method and Visitor patterns. The general idea is : you can replace instances of some participant class in these patterns with simple functions, reducing a lot of boilerplate code.\n",
    "\n",
    "refactor Strategyusing function objects, and discuss a similar approach to simplifying the Command pattern."
   ]
  },
  {
   "cell_type": "markdown",
   "metadata": {},
   "source": [
    "## 1. Case Study : refactoring Strategy\n",
    "\n",
    "Strategy is a good example of a design pattern that can be simpler in Python if you leverage functions as first class objects. \n",
    "\n",
    "Define a family of algorithms, encapsulate each one, and make them interchangeable. Strategy lets the algorithm vary indenpendently from clients that use it.\n",
    "\n",
    "\n",
    "- Contexnt: Provides a sevice by delegating some computation to interchangeable components that implement alternative algorithms. In  the e-commerce example, the context is an Order, which is configured to apply a promotional discount according to one of several algorithms.\n",
    "\n",
    "- Strategy : The interface common to the components that implement the different algorithms. In our example, this role is played by an abstract class called Promotion.\n",
    "\n",
    "- Concrete Strategy : One of the concrete subclass of Strategy.\n",
    "\n",
    "\n"
   ]
  },
  {
   "cell_type": "markdown",
   "metadata": {},
   "source": [
    "## Classic Strategy"
   ]
  },
  {
   "cell_type": "code",
   "execution_count": 1,
   "metadata": {},
   "outputs": [],
   "source": [
    "from abc import ABC, abstractmethod\n",
    "from collections import namedtuple\n",
    "\n",
    "Customer = namedtuple('Customer', 'name fidelity')\n",
    "\n",
    "class LineItem:\n",
    "    \n",
    "    def __init__(self, product, quantity, price):\n",
    "        self.product = product\n",
    "        self.quantity = quantity\n",
    "        self.price =  price\n",
    "        \n",
    "    def total(self):\n",
    "        return self.price * self.quantity\n",
    "    \n",
    "class Order : # The Context\n",
    "    \n",
    "    def __init__(self, customer, cart, promotion=None):\n",
    "        self.customer = customer\n",
    "        self.cart = list(cart)\n",
    "        self.promotion = promotion\n",
    "        \n",
    "    def total(self):\n",
    "        if not hasattr(self, '__total'):\n",
    "            self.__total = sum(item.total() for item in self.cart)\n",
    "        return self.__total\n",
    "    def due(self):\n",
    "        if self.promotion is None:\n",
    "            discount = 0\n",
    "            \n",
    "        else:\n",
    "            discount = self.promotion.discount(self)\n",
    "            return self.total() - discount\n",
    "        \n",
    "    def __repr__(self):\n",
    "        fmt = '<Order total: {:.2f} due: {:.2f}>'\n",
    "        return fmt.format(self.total(), self.due())\n",
    "    \n",
    "class Promotion(ABC): # the Strategy : an Abstract Base Class\n",
    "    \n",
    "    @abstractmethod\n",
    "    def discount(self, order):\n",
    "        \"\"\"Return discount as a positive dollar amount\"\"\"\n",
    "        \n",
    "class FidelityPromo(Promotion): # first Concrente Strategy\n",
    "    \"\"\"5% discount for customers with 1000 or more fidelity points\"\"\"\n",
    "    \n",
    "    def discount(self, order):\n",
    "        return order.total() * 0.05 if order.customer.fidelity >=1000 else 0\n",
    "    \n",
    "class BulkItemPromo(Promotion): # second Concrete Strategy\n",
    "    \"\"\"10% discount for each LineItem with 20 or more units\"\"\"\n",
    "    def discount(self, order):\n",
    "        discount = 0\n",
    "        for item in order.cart:\n",
    "            if item.quantity >= 20:\n",
    "                discount += item.total() * 0.1\n",
    "            return discount\n",
    "        \n",
    "class LargeOrderPromo(Promotion): #third Concrete Strategy\n",
    "    \"\"\"7% discount for orders with 10 or more distinct items\"\"\"\n",
    "    \n",
    "    def discount(self, order):\n",
    "        distinct_items = {item.product for item in order.cart}\n",
    "        if len(distinct_items) >= 10:\n",
    "            return order.total()*0.07\n",
    "        return 0"
   ]
  },
  {
   "cell_type": "code",
   "execution_count": 2,
   "metadata": {},
   "outputs": [],
   "source": [
    "joe = Customer('John Doe', 0)\n",
    "ann = Customer('Ann Smith', 1100)\n",
    "cart = [LineItem('banana', 4, 0.5),\n",
    "       LineItem('apple', 10, 1.5),\n",
    "       LineItem('watermellon', 5, 5.0)]\n"
   ]
  },
  {
   "cell_type": "code",
   "execution_count": 3,
   "metadata": {},
   "outputs": [
    {
     "data": {
      "text/plain": [
       "<Order total: 42.00 due: 42.00>"
      ]
     },
     "execution_count": 3,
     "metadata": {},
     "output_type": "execute_result"
    }
   ],
   "source": [
    "# The FideliryPromo promotion gives no discount to joe\n",
    "Order(joe, cart, FidelityPromo())"
   ]
  },
  {
   "cell_type": "code",
   "execution_count": 4,
   "metadata": {},
   "outputs": [
    {
     "data": {
      "text/plain": [
       "<Order total: 42.00 due: 39.90>"
      ]
     },
     "execution_count": 4,
     "metadata": {},
     "output_type": "execute_result"
    }
   ],
   "source": [
    "# ann gets a 5% discount because she has at least 1000 points\n",
    "Order(ann, cart, FidelityPromo())"
   ]
  },
  {
   "cell_type": "code",
   "execution_count": 5,
   "metadata": {},
   "outputs": [],
   "source": [
    "banana_cart = [LineItem('banana', 30, 0.5),\n",
    "              LineItem('apple', 10, 1.5)]"
   ]
  },
  {
   "cell_type": "code",
   "execution_count": 6,
   "metadata": {},
   "outputs": [
    {
     "data": {
      "text/plain": [
       "<Order total: 30.00 due: 28.50>"
      ]
     },
     "execution_count": 6,
     "metadata": {},
     "output_type": "execute_result"
    }
   ],
   "source": [
    "# Thanks to the BulkItemPromo, joe gets a $1.50 discount on the bananas.\n",
    "Order(joe, banana_cart, BulkItemPromo())"
   ]
  },
  {
   "cell_type": "code",
   "execution_count": 7,
   "metadata": {},
   "outputs": [],
   "source": [
    "long_order = [LineItem(str(item_code), 1, 1.0) for item_code in range(10)]"
   ]
  },
  {
   "cell_type": "code",
   "execution_count": 8,
   "metadata": {},
   "outputs": [
    {
     "name": "stdout",
     "output_type": "stream",
     "text": [
      "<class 'list'>\n"
     ]
    }
   ],
   "source": [
    "print(type(long_order))"
   ]
  },
  {
   "cell_type": "code",
   "execution_count": 10,
   "metadata": {},
   "outputs": [
    {
     "name": "stdout",
     "output_type": "stream",
     "text": [
      "<class 'list'>\n"
     ]
    }
   ],
   "source": [
    "a = list(long_order)\n",
    "print(type(a))"
   ]
  },
  {
   "cell_type": "code",
   "execution_count": 12,
   "metadata": {},
   "outputs": [
    {
     "name": "stdout",
     "output_type": "stream",
     "text": [
      "[<__main__.LineItem object at 0x000001EBBDAC8710>, <__main__.LineItem object at 0x000001EBBDAC8B70>, <__main__.LineItem object at 0x000001EBBDAC8D30>, <__main__.LineItem object at 0x000001EBBDAC8AC8>, <__main__.LineItem object at 0x000001EBBDAC8E80>, <__main__.LineItem object at 0x000001EBBDAC8E48>, <__main__.LineItem object at 0x000001EBBDAC8780>, <__main__.LineItem object at 0x000001EBBDAC8DA0>, <__main__.LineItem object at 0x000001EBBDAC8E10>, <__main__.LineItem object at 0x000001EBBDAC8EF0>]\n",
      "[<__main__.LineItem object at 0x000001EBBDAC8710>, <__main__.LineItem object at 0x000001EBBDAC8B70>, <__main__.LineItem object at 0x000001EBBDAC8D30>, <__main__.LineItem object at 0x000001EBBDAC8AC8>, <__main__.LineItem object at 0x000001EBBDAC8E80>, <__main__.LineItem object at 0x000001EBBDAC8E48>, <__main__.LineItem object at 0x000001EBBDAC8780>, <__main__.LineItem object at 0x000001EBBDAC8DA0>, <__main__.LineItem object at 0x000001EBBDAC8E10>, <__main__.LineItem object at 0x000001EBBDAC8EF0>]\n"
     ]
    }
   ],
   "source": [
    "print(a)\n",
    "print(long_order)"
   ]
  },
  {
   "cell_type": "code",
   "execution_count": 13,
   "metadata": {},
   "outputs": [
    {
     "data": {
      "text/plain": [
       "<Order total: 10.00 due: 9.30>"
      ]
     },
     "execution_count": 13,
     "metadata": {},
     "output_type": "execute_result"
    }
   ],
   "source": [
    "Order(joe, long_order, LargeOrderPromo())"
   ]
  },
  {
   "cell_type": "code",
   "execution_count": 14,
   "metadata": {},
   "outputs": [
    {
     "data": {
      "text/plain": [
       "<Order total: 42.00 due: 42.00>"
      ]
     },
     "execution_count": 14,
     "metadata": {},
     "output_type": "execute_result"
    }
   ],
   "source": [
    "Order(joe, cart, LargeOrderPromo())"
   ]
  },
  {
   "cell_type": "markdown",
   "metadata": {},
   "source": [
    "## Function-oriented Strategy\n",
    "\n",
    "Same funcionality can implemented with less code.\n",
    "\n",
    "Each concrete strategy is a class with a single method, discount.\n",
    "\n",
    "Furthermore, the strategy instances have no state(no instance attributes).\n",
    "\n",
    "Replacing the concrete strategies with simple funcions, and removing the Promo abstract class."
   ]
  },
  {
   "cell_type": "code",
   "execution_count": 1,
   "metadata": {},
   "outputs": [],
   "source": [
    "from collections import namedtuple\n",
    "\n",
    "Customer = namedtuple('Customer', 'name fidelity')\n",
    "\n",
    "class LineItem:\n",
    "    \n",
    "    def __init__(self, product, quantity, price):\n",
    "        self.product = product\n",
    "        self.quantity = quantity\n",
    "        self.price = price\n",
    "    \n",
    "    def total(self):\n",
    "        return self.price * self.quantity\n",
    "\n",
    "class Order: #the Context\n",
    "    \n",
    "    def __init__(self, customer, cart, promotion=None):\n",
    "        self.customer = customer\n",
    "        self.cart = list(cart)\n",
    "        self.promotion = promotion\n",
    "        \n",
    "    def total(self):\n",
    "        if not hasattr(self, '__total'):\n",
    "            self.__total = sum(item.total() for item in self.cart)\n",
    "        return self.__total\n",
    "    \n",
    "    def due(self):\n",
    "        if self.promotion is None:\n",
    "            discount=0\n",
    "            \n",
    "        else:\n",
    "            discount = self.promotion(self)\n",
    "        return self.total() - discount\n",
    "    \n",
    "    def __repr__(self):\n",
    "        fmt = '<Order total: {:.2f} due: {:.2f}'\n",
    "        return fmt.format(self.total(), self.due())\n",
    "    \n",
    "    \n",
    "def fidelity_promo(order):\n",
    "    return order.total() * 0.05 if order.customer.fidelity >= 1000 else 0\n",
    "\n",
    "def bulk_item_promo(order):\n",
    "    discount = 0\n",
    "    for item in order.cart:\n",
    "        if item.quantity >= 20:\n",
    "            discount += item.total() * 0.1\n",
    "    return discount\n",
    "\n",
    "def large_order_promo(order):\n",
    "    distinct_items = {item.product for item in order.cart}\n",
    "    if len(distinct_items) >= 10:\n",
    "        return order.total() * 0.07\n",
    "    return 0"
   ]
  },
  {
   "cell_type": "code",
   "execution_count": 2,
   "metadata": {},
   "outputs": [],
   "source": [
    "joe = Customer('John Doe', 0)\n",
    "ann = Customer('Ann Smith', 1100)\n",
    "cart = [LineItem('banana', 4, 0.5),\n",
    "       LineItem('apple', 10, 1.5),\n",
    "       LineItem('watermellon', 5, 5.0)]"
   ]
  },
  {
   "cell_type": "code",
   "execution_count": 3,
   "metadata": {},
   "outputs": [
    {
     "data": {
      "text/plain": [
       "<Order total: 42.00 due: 42.00"
      ]
     },
     "execution_count": 3,
     "metadata": {},
     "output_type": "execute_result"
    }
   ],
   "source": [
    "Order(joe, cart, fidelity_promo)"
   ]
  },
  {
   "cell_type": "code",
   "execution_count": 4,
   "metadata": {},
   "outputs": [
    {
     "data": {
      "text/plain": [
       "<Order total: 42.00 due: 39.90"
      ]
     },
     "execution_count": 4,
     "metadata": {},
     "output_type": "execute_result"
    }
   ],
   "source": [
    "Order(ann, cart, fidelity_promo)"
   ]
  },
  {
   "cell_type": "code",
   "execution_count": 5,
   "metadata": {},
   "outputs": [],
   "source": [
    "banana_cart=[LineItem('banana', 30, 0.5),\n",
    "            LineItem('apple', 10, 1.5)]"
   ]
  },
  {
   "cell_type": "code",
   "execution_count": 6,
   "metadata": {},
   "outputs": [
    {
     "data": {
      "text/plain": [
       "<Order total: 30.00 due: 28.50"
      ]
     },
     "execution_count": 6,
     "metadata": {},
     "output_type": "execute_result"
    }
   ],
   "source": [
    "Order(joe, banana_cart, bulk_item_promo)"
   ]
  },
  {
   "cell_type": "code",
   "execution_count": 7,
   "metadata": {},
   "outputs": [],
   "source": [
    "long_order = [LineItem(str(item_code), 1, 1.0) for item_code in range(10)]"
   ]
  },
  {
   "cell_type": "code",
   "execution_count": 8,
   "metadata": {},
   "outputs": [
    {
     "data": {
      "text/plain": [
       "<Order total: 10.00 due: 9.30"
      ]
     },
     "execution_count": 8,
     "metadata": {},
     "output_type": "execute_result"
    }
   ],
   "source": [
    "Order(joe, long_order, large_order_promo)"
   ]
  },
  {
   "cell_type": "code",
   "execution_count": 9,
   "metadata": {},
   "outputs": [
    {
     "data": {
      "text/plain": [
       "<Order total: 42.00 due: 42.00"
      ]
     },
     "execution_count": 9,
     "metadata": {},
     "output_type": "execute_result"
    }
   ],
   "source": [
    "Order(joe, cart, large_order_promo)"
   ]
  },
  {
   "cell_type": "markdown",
   "metadata": {},
   "source": [
    "There is no need to instantiate a new promotion object with each new order: the functions are ready to use.\n",
    "\n",
    "Strategy objects often make good flyweights.\n",
    "\n",
    "A flyweight is a shared object that can be used in multiple context simulatenously.\n",
    "\n",
    "Often concrete strategies have no internal state, they only deal with data from the context. If that is the case, then by all means use plain old functions instead of coding single-method claases\n",
    "\n",
    "- function is more lightweight than an instance of a user-defiend class\n",
    "\n",
    "- no need for Flyweight\n",
    "\n",
    "- is a shared object that can be used in multiple contexts."
   ]
  },
  {
   "cell_type": "markdown",
   "metadata": {},
   "source": [
    "## Choosing the best strategy : simple approach\n",
    "\n",
    "create a meta-strategy that selects the best available discount for a given order."
   ]
  },
  {
   "cell_type": "code",
   "execution_count": 40,
   "metadata": {},
   "outputs": [],
   "source": [
    "# list of the strategies implemented as functions\n",
    "promos = [fidelity_promo, bulk_item_promo, large_order_promo]\n",
    "\n",
    "def best_promo(order):\n",
    "    # using a generator expression, apply each of the functions from proms to the order.\n",
    "    return max(promo(order) for promo in promos)\n"
   ]
  },
  {
   "cell_type": "code",
   "execution_count": 41,
   "metadata": {},
   "outputs": [
    {
     "data": {
      "text/plain": [
       "<Order total: 10.00 due: 9.30"
      ]
     },
     "execution_count": 41,
     "metadata": {},
     "output_type": "execute_result"
    }
   ],
   "source": [
    "Order(joe, long_order, best_promo)"
   ]
  },
  {
   "cell_type": "code",
   "execution_count": 42,
   "metadata": {},
   "outputs": [
    {
     "data": {
      "text/plain": [
       "<Order total: 30.00 due: 28.50"
      ]
     },
     "execution_count": 42,
     "metadata": {},
     "output_type": "execute_result"
    }
   ],
   "source": [
    "Order(joe, banana_cart, best_promo)"
   ]
  },
  {
   "cell_type": "code",
   "execution_count": 43,
   "metadata": {},
   "outputs": [
    {
     "data": {
      "text/plain": [
       "<Order total: 42.00 due: 39.90"
      ]
     },
     "execution_count": 43,
     "metadata": {},
     "output_type": "execute_result"
    }
   ],
   "source": [
    "Order(ann, cart, best_promo)"
   ]
  },
  {
   "cell_type": "markdown",
   "metadata": {},
   "source": [
    "## Finding strategies in a module\n",
    "\n",
    "there is some duplication that could lead to a subtle bug : to add a new promotion strategy we need to code the function and remeber to add it to the promos list.\n",
    "\n",
    "- globals(): Return a dictionary representing the current global symbol table."
   ]
  },
  {
   "cell_type": "code",
   "execution_count": 10,
   "metadata": {
    "scrolled": true
   },
   "outputs": [
    {
     "data": {
      "text/plain": [
       "{'Customer': __main__.Customer,\n",
       " 'In': ['',\n",
       "  \"from collections import namedtuple\\n\\nCustomer = namedtuple('Customer', 'name fidelity')\\n\\nclass LineItem:\\n    \\n    def __init__(self, product, quantity, price):\\n        self.product = product\\n        self.quantity = quantity\\n        self.price = price\\n    \\n    def total(self):\\n        return self.price * self.quantity\\n\\nclass Order: #the Context\\n    \\n    def __init__(self, customer, cart, promotion=None):\\n        self.customer = customer\\n        self.cart = list(cart)\\n        self.promotion = promotion\\n        \\n    def total(self):\\n        if not hasattr(self, '__total'):\\n            self.__total = sum(item.total() for item in self.cart)\\n        return self.__total\\n    \\n    def due(self):\\n        if self.promotion is None:\\n            discount=0\\n            \\n        else:\\n            discount = self.promotion(self)\\n        return self.total() - discount\\n    \\n    def __repr__(self):\\n        fmt = '<Order total: {:.2f} due: {:.2f}'\\n        return fmt.format(self.total(), self.due())\\n    \\n    \\ndef fidelity_promo(order):\\n    return order.total() * 0.05 if order.customer.fidelity >= 1000 else 0\\n\\ndef bulk_item_promo(order):\\n    discount = 0\\n    for item in order.cart:\\n        if item.quantity >= 20:\\n            discount += item.total() * 0.1\\n    return discount\\n\\ndef large_order_promo(order):\\n    distinct_items = {item.product for item in order.cart}\\n    if len(distinct_items) >= 10:\\n        return order.total() * 0.07\\n    return 0\",\n",
       "  \"joe = Customer('John Doe', 0)\\nann = Customer('Ann Smith', 1100)\\ncart = [LineItem('banana', 4, 0.5),\\n       LineItem('apple', 10, 1.5),\\n       LineItem('watermellon', 5, 5.0)]\",\n",
       "  'Order(joe, cart, fidelity_promo)',\n",
       "  'Order(ann, cart, fidelity_promo)',\n",
       "  \"banana_cart=[LineItem('banana', 30, 0.5),\\n            LineItem('apple', 10, 1.5)]\",\n",
       "  'Order(joe, banana_cart, bulk_item_promo)',\n",
       "  'long_order = [LineItem(str(item_code), 1, 1.0) for item_code in range(10)]',\n",
       "  'Order(joe, long_order, large_order_promo)',\n",
       "  'Order(joe, cart, large_order_promo)',\n",
       "  'globals()'],\n",
       " 'LineItem': __main__.LineItem,\n",
       " 'Order': __main__.Order,\n",
       " 'Out': {3: <Order total: 42.00 due: 42.00,\n",
       "  4: <Order total: 42.00 due: 39.90,\n",
       "  6: <Order total: 30.00 due: 28.50,\n",
       "  8: <Order total: 10.00 due: 9.30,\n",
       "  9: <Order total: 42.00 due: 42.00},\n",
       " '_': <Order total: 42.00 due: 42.00,\n",
       " '_3': <Order total: 42.00 due: 42.00,\n",
       " '_4': <Order total: 42.00 due: 39.90,\n",
       " '_6': <Order total: 30.00 due: 28.50,\n",
       " '_8': <Order total: 10.00 due: 9.30,\n",
       " '_9': <Order total: 42.00 due: 42.00,\n",
       " '__': <Order total: 10.00 due: 9.30,\n",
       " '___': <Order total: 30.00 due: 28.50,\n",
       " '__builtin__': <module 'builtins' (built-in)>,\n",
       " '__builtins__': <module 'builtins' (built-in)>,\n",
       " '__doc__': 'Automatically created module for IPython interactive environment',\n",
       " '__loader__': None,\n",
       " '__name__': '__main__',\n",
       " '__package__': None,\n",
       " '__spec__': None,\n",
       " '_dh': ['D:\\\\PythonLab\\\\F_python'],\n",
       " '_i': 'Order(joe, cart, large_order_promo)',\n",
       " '_i1': \"from collections import namedtuple\\n\\nCustomer = namedtuple('Customer', 'name fidelity')\\n\\nclass LineItem:\\n    \\n    def __init__(self, product, quantity, price):\\n        self.product = product\\n        self.quantity = quantity\\n        self.price = price\\n    \\n    def total(self):\\n        return self.price * self.quantity\\n\\nclass Order: #the Context\\n    \\n    def __init__(self, customer, cart, promotion=None):\\n        self.customer = customer\\n        self.cart = list(cart)\\n        self.promotion = promotion\\n        \\n    def total(self):\\n        if not hasattr(self, '__total'):\\n            self.__total = sum(item.total() for item in self.cart)\\n        return self.__total\\n    \\n    def due(self):\\n        if self.promotion is None:\\n            discount=0\\n            \\n        else:\\n            discount = self.promotion(self)\\n        return self.total() - discount\\n    \\n    def __repr__(self):\\n        fmt = '<Order total: {:.2f} due: {:.2f}'\\n        return fmt.format(self.total(), self.due())\\n    \\n    \\ndef fidelity_promo(order):\\n    return order.total() * 0.05 if order.customer.fidelity >= 1000 else 0\\n\\ndef bulk_item_promo(order):\\n    discount = 0\\n    for item in order.cart:\\n        if item.quantity >= 20:\\n            discount += item.total() * 0.1\\n    return discount\\n\\ndef large_order_promo(order):\\n    distinct_items = {item.product for item in order.cart}\\n    if len(distinct_items) >= 10:\\n        return order.total() * 0.07\\n    return 0\",\n",
       " '_i10': 'globals()',\n",
       " '_i2': \"joe = Customer('John Doe', 0)\\nann = Customer('Ann Smith', 1100)\\ncart = [LineItem('banana', 4, 0.5),\\n       LineItem('apple', 10, 1.5),\\n       LineItem('watermellon', 5, 5.0)]\",\n",
       " '_i3': 'Order(joe, cart, fidelity_promo)',\n",
       " '_i4': 'Order(ann, cart, fidelity_promo)',\n",
       " '_i5': \"banana_cart=[LineItem('banana', 30, 0.5),\\n            LineItem('apple', 10, 1.5)]\",\n",
       " '_i6': 'Order(joe, banana_cart, bulk_item_promo)',\n",
       " '_i7': 'long_order = [LineItem(str(item_code), 1, 1.0) for item_code in range(10)]',\n",
       " '_i8': 'Order(joe, long_order, large_order_promo)',\n",
       " '_i9': 'Order(joe, cart, large_order_promo)',\n",
       " '_ih': ['',\n",
       "  \"from collections import namedtuple\\n\\nCustomer = namedtuple('Customer', 'name fidelity')\\n\\nclass LineItem:\\n    \\n    def __init__(self, product, quantity, price):\\n        self.product = product\\n        self.quantity = quantity\\n        self.price = price\\n    \\n    def total(self):\\n        return self.price * self.quantity\\n\\nclass Order: #the Context\\n    \\n    def __init__(self, customer, cart, promotion=None):\\n        self.customer = customer\\n        self.cart = list(cart)\\n        self.promotion = promotion\\n        \\n    def total(self):\\n        if not hasattr(self, '__total'):\\n            self.__total = sum(item.total() for item in self.cart)\\n        return self.__total\\n    \\n    def due(self):\\n        if self.promotion is None:\\n            discount=0\\n            \\n        else:\\n            discount = self.promotion(self)\\n        return self.total() - discount\\n    \\n    def __repr__(self):\\n        fmt = '<Order total: {:.2f} due: {:.2f}'\\n        return fmt.format(self.total(), self.due())\\n    \\n    \\ndef fidelity_promo(order):\\n    return order.total() * 0.05 if order.customer.fidelity >= 1000 else 0\\n\\ndef bulk_item_promo(order):\\n    discount = 0\\n    for item in order.cart:\\n        if item.quantity >= 20:\\n            discount += item.total() * 0.1\\n    return discount\\n\\ndef large_order_promo(order):\\n    distinct_items = {item.product for item in order.cart}\\n    if len(distinct_items) >= 10:\\n        return order.total() * 0.07\\n    return 0\",\n",
       "  \"joe = Customer('John Doe', 0)\\nann = Customer('Ann Smith', 1100)\\ncart = [LineItem('banana', 4, 0.5),\\n       LineItem('apple', 10, 1.5),\\n       LineItem('watermellon', 5, 5.0)]\",\n",
       "  'Order(joe, cart, fidelity_promo)',\n",
       "  'Order(ann, cart, fidelity_promo)',\n",
       "  \"banana_cart=[LineItem('banana', 30, 0.5),\\n            LineItem('apple', 10, 1.5)]\",\n",
       "  'Order(joe, banana_cart, bulk_item_promo)',\n",
       "  'long_order = [LineItem(str(item_code), 1, 1.0) for item_code in range(10)]',\n",
       "  'Order(joe, long_order, large_order_promo)',\n",
       "  'Order(joe, cart, large_order_promo)',\n",
       "  'globals()'],\n",
       " '_ii': 'Order(joe, long_order, large_order_promo)',\n",
       " '_iii': 'long_order = [LineItem(str(item_code), 1, 1.0) for item_code in range(10)]',\n",
       " '_oh': {3: <Order total: 42.00 due: 42.00,\n",
       "  4: <Order total: 42.00 due: 39.90,\n",
       "  6: <Order total: 30.00 due: 28.50,\n",
       "  8: <Order total: 10.00 due: 9.30,\n",
       "  9: <Order total: 42.00 due: 42.00},\n",
       " 'ann': Customer(name='Ann Smith', fidelity=1100),\n",
       " 'banana_cart': [<__main__.LineItem at 0x2390cee5a20>,\n",
       "  <__main__.LineItem at 0x2390cee5a58>],\n",
       " 'bulk_item_promo': <function __main__.bulk_item_promo(order)>,\n",
       " 'cart': [<__main__.LineItem at 0x2390cee5940>,\n",
       "  <__main__.LineItem at 0x2390cee5908>,\n",
       "  <__main__.LineItem at 0x2390cee5780>],\n",
       " 'exit': <IPython.core.autocall.ZMQExitAutocall at 0x2390ce8ca20>,\n",
       " 'fidelity_promo': <function __main__.fidelity_promo(order)>,\n",
       " 'get_ipython': <bound method InteractiveShell.get_ipython of <ipykernel.zmqshell.ZMQInteractiveShell object at 0x000002390CE3CDD8>>,\n",
       " 'joe': Customer(name='John Doe', fidelity=0),\n",
       " 'large_order_promo': <function __main__.large_order_promo(order)>,\n",
       " 'long_order': [<__main__.LineItem at 0x2390cee58d0>,\n",
       "  <__main__.LineItem at 0x2390cee5828>,\n",
       "  <__main__.LineItem at 0x2390cee5898>,\n",
       "  <__main__.LineItem at 0x2390cee5cc0>,\n",
       "  <__main__.LineItem at 0x2390cee5eb8>,\n",
       "  <__main__.LineItem at 0x2390cee5f28>,\n",
       "  <__main__.LineItem at 0x2390cee5f98>,\n",
       "  <__main__.LineItem at 0x2390cee5e48>,\n",
       "  <__main__.LineItem at 0x2390cee5cf8>,\n",
       "  <__main__.LineItem at 0x2390cee5d68>],\n",
       " 'namedtuple': <function collections.namedtuple(typename, field_names, verbose=False, rename=False)>,\n",
       " 'quit': <IPython.core.autocall.ZMQExitAutocall at 0x2390ce8ca20>}"
      ]
     },
     "execution_count": 10,
     "metadata": {},
     "output_type": "execute_result"
    }
   ],
   "source": [
    "globals()"
   ]
  },
  {
   "cell_type": "code",
   "execution_count": 11,
   "metadata": {},
   "outputs": [
    {
     "data": {
      "text/plain": [
       "<function __main__.bulk_item_promo(order)>"
      ]
     },
     "execution_count": 11,
     "metadata": {},
     "output_type": "execute_result"
    }
   ],
   "source": [
    "globals()['bulk_item_promo']"
   ]
  },
  {
   "cell_type": "code",
   "execution_count": 13,
   "metadata": {},
   "outputs": [],
   "source": [
    "# Select only names that end with the _promo suffix, Filter out best_promo itself,\n",
    "# to avoid an infinit recursion.\n",
    "promos = [globals()[name] for name in globals() if name.endswith('_promo') and name!='best_promo']\n",
    "\n",
    "def best_promo(order):\n",
    "    return max(promo(order) for promo in promos)"
   ]
  },
  {
   "cell_type": "markdown",
   "metadata": {},
   "source": [
    "Another way of collection the available promotions would be to create a module and put all the strategy functions there, except for best_promo\n",
    "\n",
    "list of strategy functions is built by introspection of a separate module called `promotions`"
   ]
  },
  {
   "cell_type": "code",
   "execution_count": 14,
   "metadata": {},
   "outputs": [
    {
     "ename": "NameError",
     "evalue": "name 'promotions' is not defined",
     "output_type": "error",
     "traceback": [
      "\u001b[1;31m---------------------------------------------------------------------------\u001b[0m",
      "\u001b[1;31mNameError\u001b[0m                                 Traceback (most recent call last)",
      "\u001b[1;32m<ipython-input-14-d0597c1dc14d>\u001b[0m in \u001b[0;36m<module>\u001b[1;34m()\u001b[0m\n\u001b[0;32m      1\u001b[0m \u001b[1;32mimport\u001b[0m \u001b[0minspect\u001b[0m\u001b[1;33m\u001b[0m\u001b[0m\n\u001b[0;32m      2\u001b[0m \u001b[1;33m\u001b[0m\u001b[0m\n\u001b[1;32m----> 3\u001b[1;33m \u001b[0mpromos\u001b[0m \u001b[1;33m=\u001b[0m \u001b[1;33m[\u001b[0m\u001b[0mfunc\u001b[0m \u001b[1;32mfor\u001b[0m \u001b[0mname\u001b[0m\u001b[1;33m,\u001b[0m \u001b[0mfunc\u001b[0m \u001b[1;32min\u001b[0m \u001b[0minspect\u001b[0m\u001b[1;33m.\u001b[0m\u001b[0mgetmembers\u001b[0m\u001b[1;33m(\u001b[0m\u001b[0mpromotions\u001b[0m\u001b[1;33m,\u001b[0m \u001b[0minspect\u001b[0m\u001b[1;33m.\u001b[0m\u001b[0misfunction\u001b[0m\u001b[1;33m)\u001b[0m\u001b[1;33m]\u001b[0m\u001b[1;33m\u001b[0m\u001b[0m\n\u001b[0m\u001b[0;32m      4\u001b[0m \u001b[1;33m\u001b[0m\u001b[0m\n\u001b[0;32m      5\u001b[0m \u001b[1;32mdef\u001b[0m \u001b[0mbest_promo\u001b[0m\u001b[1;33m(\u001b[0m\u001b[0morder\u001b[0m\u001b[1;33m)\u001b[0m\u001b[1;33m:\u001b[0m\u001b[1;33m\u001b[0m\u001b[0m\n",
      "\u001b[1;31mNameError\u001b[0m: name 'promotions' is not defined"
     ]
    }
   ],
   "source": [
    "import inspect\n",
    "\n",
    "promos = [func for name, func in inspect.getmembers(promotions, inspect.isfunction)]\n",
    "\n",
    "def best_promo(order):\n",
    "    return max(promo(order) for promo in promos)"
   ]
  },
  {
   "cell_type": "markdown",
   "metadata": {},
   "source": [
    "function inspect.getmembers returns the attributes of an object(the promotions modules).\n",
    "\n",
    "We use inspect.insfunction to get only the functions from the module.\n",
    "\n",
    "it works regardless of the name given to the functions; all the matters is that the promotions module contains only functions that calculate discounts given orders.\n"
   ]
  },
  {
   "cell_type": "markdown",
   "metadata": {},
   "source": [
    "## 2. Command\n",
    "\n",
    "Each command have a different receiver: the object that implements the action. For PasteCommand, the receiver is the Docuent, For OpenCommand the receiver is the application.\n",
    "\n",
    "The goal of Command is to decouple an object that invokes an operation(the Invoker) from the provider object that implements it(the Receiver)\n",
    "\n",
    "The idea is to put a Command object between the two, implementing an interfcae with a single method, `execute`, which calles some method in the Receiver to perform the desired operation.\n",
    "\n",
    "That way the Invoker does not need to know the interface of the Receiver, and different receivers can be adapted through different Command subclasses.\n",
    "\n",
    "The Invoker is configured with a concrete command and calls its `execute` method to operate it.\n",
    "\n",
    "Instead of giving the Invoker a Command instance, we can simply give it a function. \n",
    "\n",
    "Invoker can just call command().\n",
    "\n",
    "The MacroCommand can be implemented with a class implementing `__call__`"
   ]
  },
  {
   "cell_type": "code",
   "execution_count": 16,
   "metadata": {},
   "outputs": [],
   "source": [
    "class MacroCommand:\n",
    "    \n",
    "    # Building a list from the commands arguments\n",
    "    # ensures that it is iterable and keeps a local copy of the command references\n",
    "    # in each MacroCommand instance.\n",
    "    def __init__(self, commands):\n",
    "        # list() gives a new list.\n",
    "        self.commands = list(commands)\n",
    "        \n",
    "    def __call__(self):\n",
    "        for command in self.commands:\n",
    "            command()"
   ]
  },
  {
   "cell_type": "code",
   "execution_count": 15,
   "metadata": {},
   "outputs": [
    {
     "name": "stdout",
     "output_type": "stream",
     "text": [
      "[1, 2, 3]\n",
      "[1, 2, 3]\n"
     ]
    }
   ],
   "source": [
    "a = [1,2,3]\n",
    "\n",
    "print(a)\n",
    "\n",
    "print(list(a))"
   ]
  },
  {
   "cell_type": "markdown",
   "metadata": {},
   "source": [
    "## 3. Chapter summary"
   ]
  },
  {
   "cell_type": "markdown",
   "metadata": {},
   "source": [
    "As Peter Norvig pointed out \"16 of 23 patterns have qualitatively simpler implementation in Lisp or Dylan than in C++ for at least some uses of each pattern.\"\n",
    "\n",
    "functions or callable objects provide a more natural way of implementing callbacks in Python than mimicking the Strategy or the Command patterns.\n"
   ]
  },
  {
   "cell_type": "code",
   "execution_count": null,
   "metadata": {},
   "outputs": [],
   "source": []
  }
 ],
 "metadata": {
  "kernelspec": {
   "display_name": "Python 3",
   "language": "python",
   "name": "python3"
  },
  "language_info": {
   "codemirror_mode": {
    "name": "ipython",
    "version": 3
   },
   "file_extension": ".py",
   "mimetype": "text/x-python",
   "name": "python",
   "nbconvert_exporter": "python",
   "pygments_lexer": "ipython3",
   "version": "3.5.5"
  }
 },
 "nbformat": 4,
 "nbformat_minor": 2
}
